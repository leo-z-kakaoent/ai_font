{
 "cells": [
  {
   "cell_type": "code",
   "execution_count": 1,
   "metadata": {
    "tags": []
   },
   "outputs": [],
   "source": [
    "import math\n",
    "from tqdm.auto import tqdm"
   ]
  },
  {
   "cell_type": "code",
   "execution_count": 2,
   "metadata": {
    "collapsed": false,
    "jupyter": {
     "outputs_hidden": false
    },
    "tags": []
   },
   "outputs": [],
   "source": [
    "import torch\n",
    "import torch.nn.functional as F\n",
    "from torchvision import transforms\n",
    "from torch.utils.data import DataLoader"
   ]
  },
  {
   "cell_type": "code",
   "execution_count": 3,
   "metadata": {
    "collapsed": false,
    "jupyter": {
     "outputs_hidden": false
    },
    "tags": []
   },
   "outputs": [],
   "source": [
    "from diffusers.optimization import get_scheduler\n",
    "from google.cloud import storage\n",
    "\n",
    "storage_client = storage.Client(\"bucket_name\")\n",
    "bucket = storage_client.bucket(\"bucket_name\")"
   ]
  },
  {
   "cell_type": "code",
   "execution_count": 4,
   "metadata": {
    "tags": []
   },
   "outputs": [
    {
     "name": "stdout",
     "output_type": "stream",
     "text": [
      "pygame 2.5.2 (SDL 2.28.2, Python 3.10.14)\n",
      "Hello from the pygame community. https://www.pygame.org/contribute.html\n"
     ]
    }
   ],
   "source": [
    "import sys\n",
    "import importlib\n",
    "\n",
    "def call_module(nm, path):\n",
    "    spec = importlib.util.spec_from_file_location(nm, path)\n",
    "    foo = importlib.util.module_from_spec(spec)\n",
    "    sys.modules[nm] = foo\n",
    "    spec.loader.exec_module(foo)\n",
    "    return foo\n",
    "\n",
    "fd = \"/home/jupyter/ai_font/experiments/font_diffuser_oskar\"\n",
    "\n",
    "dataset = call_module('dataset', f\"{fd}/dataset.py\")\n",
    "FontDataset = dataset.FontDataset\n",
    "CollateFN = dataset.CollateFN\n",
    "\n",
    "model = call_module('model', f\"{fd}/model.py\")\n",
    "FontDiffuserModel = model.FontDiffuserModel\n",
    "\n",
    "criterion = call_module('criterion', f\"{fd}/criterion.py\")\n",
    "ContentPerceptualLoss = criterion.ContentPerceptualLoss\n",
    "\n",
    "build = call_module('build', f\"{fd}/build.py\")\n",
    "build_unet = build.build_unet\n",
    "build_style_encoder = build.build_style_encoder\n",
    "build_content_encoder = build.build_content_encoder\n",
    "build_ddpm_scheduler = build.build_ddpm_scheduler\n",
    "\n",
    "args = call_module('args', f\"{fd}/args.py\")\n",
    "TrainPhase1Args = args.TrainPhase1Args\n",
    "\n",
    "utils = call_module('utils', f\"{fd}/utils.py\")\n",
    "save_args_to_yaml = utils.save_args_to_yaml\n",
    "x0_from_epsilon = utils.x0_from_epsilon\n",
    "reNormalize_img = utils.reNormalize_img\n",
    "normalize_mean_std = utils.normalize_mean_std"
   ]
  },
  {
   "cell_type": "code",
   "execution_count": 5,
   "metadata": {
    "collapsed": false,
    "jupyter": {
     "outputs_hidden": false
    },
    "tags": []
   },
   "outputs": [
    {
     "name": "stdout",
     "output_type": "stream",
     "text": [
      "Load the down block  DownBlock2D\n",
      "Load the down block  MCADownBlock2D\n",
      "The style_attention cross attention dim in Down Block 1 layer is 1024\n",
      "The style_attention cross attention dim in Down Block 2 layer is 1024\n",
      "Load the down block  MCADownBlock2D\n",
      "The style_attention cross attention dim in Down Block 1 layer is 1024\n",
      "The style_attention cross attention dim in Down Block 2 layer is 1024\n",
      "Load the down block  DownBlock2D\n",
      "Load the up block  UpBlock2D\n",
      "Load the up block  StyleRSIUpBlock2D\n",
      "Load the up block  StyleRSIUpBlock2D\n",
      "Load the up block  UpBlock2D\n",
      "Param count for Ds initialized parameters: 20591296\n",
      "Get CG-GAN Style Encoder!\n",
      "Param count for Ds initialized parameters: 1187008\n",
      "Get CG-GAN Content Encoder!\n"
     ]
    }
   ],
   "source": [
    "\n",
    "args = TrainPhase1Args()\n",
    "unet = build_unet(args=args)\n",
    "style_encoder = build_style_encoder(args=args)\n",
    "content_encoder = build_content_encoder(args=args)\n",
    "noise_scheduler = build_ddpm_scheduler(args)\n",
    "\n",
    "model = FontDiffuserModel(\n",
    "    unet=unet,\n",
    "    style_encoder=style_encoder,\n",
    "    content_encoder=content_encoder)\n",
    "\n",
    "storage_client = storage.Client(args.bucket_name)\n",
    "bucket = storage_client.bucket(args.bucket_name)"
   ]
  },
  {
   "cell_type": "code",
   "execution_count": 6,
   "metadata": {
    "tags": []
   },
   "outputs": [],
   "source": [
    "def save_model(state_dict, model_name):\n",
    "    blob = bucket.blob(f\"{args.save_path}/{args.experiment_name}__{model_name}.pth\")\n",
    "    with blob.open(\"wb\", ignore_flush=True) as f:\n",
    "        torch.save(state_dict, f)"
   ]
  },
  {
   "cell_type": "code",
   "execution_count": 7,
   "metadata": {
    "collapsed": false,
    "jupyter": {
     "outputs_hidden": false
    },
    "tags": []
   },
   "outputs": [
    {
     "name": "stderr",
     "output_type": "stream",
     "text": [
      "Downloading: \"https://download.pytorch.org/models/vgg16-397923af.pth\" to /home/jupyter/.cache/torch/hub/checkpoints/vgg16-397923af.pth\n"
     ]
    },
    {
     "data": {
      "application/vnd.jupyter.widget-view+json": {
       "model_id": "f843f318f4b844b498c128d6c802adc0",
       "version_major": 2,
       "version_minor": 0
      },
      "text/plain": [
       "  0%|          | 0.00/528M [00:00<?, ?B/s]"
      ]
     },
     "metadata": {},
     "output_type": "display_data"
    },
    {
     "ename": "FileNotFoundError",
     "evalue": "[Errno 2] No such file or directory: '/home/jupyter/ai_font/data/zipfiles/raw/size96/seen/'",
     "output_type": "error",
     "traceback": [
      "\u001b[0;31m---------------------------------------------------------------------------\u001b[0m",
      "\u001b[0;31mFileNotFoundError\u001b[0m                         Traceback (most recent call last)",
      "Cell \u001b[0;32mIn[7], line 2\u001b[0m\n\u001b[1;32m      1\u001b[0m perceptual_loss \u001b[38;5;241m=\u001b[39m ContentPerceptualLoss()\n\u001b[0;32m----> 2\u001b[0m train_font_dataset \u001b[38;5;241m=\u001b[39m \u001b[43mFontDataset\u001b[49m\u001b[43m(\u001b[49m\u001b[43mpath\u001b[49m\u001b[38;5;241;43m=\u001b[39;49m\u001b[43margs\u001b[49m\u001b[38;5;241;43m.\u001b[39;49m\u001b[43mpath\u001b[49m\u001b[43m)\u001b[49m\n\u001b[1;32m      3\u001b[0m train_dataloader \u001b[38;5;241m=\u001b[39m torch\u001b[38;5;241m.\u001b[39mutils\u001b[38;5;241m.\u001b[39mdata\u001b[38;5;241m.\u001b[39mDataLoader(\n\u001b[1;32m      4\u001b[0m     train_font_dataset,\n\u001b[1;32m      5\u001b[0m     shuffle\u001b[38;5;241m=\u001b[39m\u001b[38;5;28;01mTrue\u001b[39;00m,\n\u001b[1;32m      6\u001b[0m     batch_size\u001b[38;5;241m=\u001b[39margs\u001b[38;5;241m.\u001b[39mtrain_batch_size,\n\u001b[1;32m      7\u001b[0m     collate_fn\u001b[38;5;241m=\u001b[39mCollateFN())\n\u001b[1;32m      9\u001b[0m optimizer \u001b[38;5;241m=\u001b[39m torch\u001b[38;5;241m.\u001b[39moptim\u001b[38;5;241m.\u001b[39mAdamW(\n\u001b[1;32m     10\u001b[0m     model\u001b[38;5;241m.\u001b[39mparameters(),\n\u001b[1;32m     11\u001b[0m     lr\u001b[38;5;241m=\u001b[39margs\u001b[38;5;241m.\u001b[39mlearning_rate,\n\u001b[1;32m     12\u001b[0m     betas\u001b[38;5;241m=\u001b[39m(args\u001b[38;5;241m.\u001b[39madam_beta1, args\u001b[38;5;241m.\u001b[39madam_beta2),\n\u001b[1;32m     13\u001b[0m     weight_decay\u001b[38;5;241m=\u001b[39margs\u001b[38;5;241m.\u001b[39madam_weight_decay,\n\u001b[1;32m     14\u001b[0m     eps\u001b[38;5;241m=\u001b[39margs\u001b[38;5;241m.\u001b[39madam_epsilon)\n",
      "File \u001b[0;32m~/ai_font/experiments/font_diffuser_oskar/dataset.py:46\u001b[0m, in \u001b[0;36mFontDataset.__init__\u001b[0;34m(self, path, num_neg, scr)\u001b[0m\n\u001b[1;32m     44\u001b[0m \u001b[38;5;28mself\u001b[39m\u001b[38;5;241m.\u001b[39mpath \u001b[38;5;241m=\u001b[39m path\n\u001b[1;32m     45\u001b[0m \u001b[38;5;28mself\u001b[39m\u001b[38;5;241m.\u001b[39mnum_neg \u001b[38;5;241m=\u001b[39m num_neg\n\u001b[0;32m---> 46\u001b[0m \u001b[38;5;28mself\u001b[39m\u001b[38;5;241m.\u001b[39mtarget_images \u001b[38;5;241m=\u001b[39m [path\u001b[38;5;241m+\u001b[39mf \u001b[38;5;28;01mfor\u001b[39;00m f \u001b[38;5;129;01min\u001b[39;00m \u001b[43mos\u001b[49m\u001b[38;5;241;43m.\u001b[39;49m\u001b[43mlistdir\u001b[49m\u001b[43m(\u001b[49m\u001b[43mpath\u001b[49m\u001b[43m)\u001b[49m \u001b[38;5;28;01mif\u001b[39;00m \u001b[38;5;124m\"\u001b[39m\u001b[38;5;124m.png\u001b[39m\u001b[38;5;124m\"\u001b[39m \u001b[38;5;129;01min\u001b[39;00m f]\n\u001b[1;32m     47\u001b[0m \u001b[38;5;28mself\u001b[39m\u001b[38;5;241m.\u001b[39mscr \u001b[38;5;241m=\u001b[39m scr\n\u001b[1;32m     48\u001b[0m \u001b[38;5;28;01mif\u001b[39;00m \u001b[38;5;28mself\u001b[39m\u001b[38;5;241m.\u001b[39mscr:\n",
      "\u001b[0;31mFileNotFoundError\u001b[0m: [Errno 2] No such file or directory: '/home/jupyter/ai_font/data/zipfiles/raw/size96/seen/'"
     ]
    }
   ],
   "source": [
    "perceptual_loss = ContentPerceptualLoss()\n",
    "train_font_dataset = FontDataset(path=args.path)\n",
    "train_dataloader = torch.utils.data.DataLoader(\n",
    "    train_font_dataset,\n",
    "    shuffle=True,\n",
    "    batch_size=args.train_batch_size,\n",
    "    collate_fn=CollateFN())\n",
    "\n",
    "optimizer = torch.optim.AdamW(\n",
    "    model.parameters(),\n",
    "    lr=args.learning_rate,\n",
    "    betas=(args.adam_beta1, args.adam_beta2),\n",
    "    weight_decay=args.adam_weight_decay,\n",
    "    eps=args.adam_epsilon)\n",
    "\n",
    "lr_scheduler = get_scheduler(\n",
    "    args.lr_scheduler,\n",
    "    optimizer=optimizer,\n",
    "    num_warmup_steps=args.lr_warmup_steps * args.gradient_accumulation_steps,\n",
    "    num_training_steps=args.max_train_steps * args.gradient_accumulation_steps,)"
   ]
  },
  {
   "cell_type": "code",
   "execution_count": null,
   "metadata": {
    "tags": []
   },
   "outputs": [],
   "source": [
    "model = model.cuda()"
   ]
  },
  {
   "cell_type": "code",
   "execution_count": null,
   "metadata": {
    "collapsed": false,
    "jupyter": {
     "outputs_hidden": false
    },
    "tags": []
   },
   "outputs": [],
   "source": [
    "progress_bar = tqdm(range(args.max_train_steps))\n",
    "progress_bar.set_description(\"Steps\")\n",
    "num_update_steps_per_epoch = math.ceil(len(train_dataloader) / args.gradient_accumulation_steps)\n",
    "num_train_epochs = math.ceil(args.max_train_steps / num_update_steps_per_epoch)\n",
    "global_step = 0\n",
    "for epoch in range(num_train_epochs):\n",
    "    for step, samples in enumerate(train_dataloader):\n",
    "        model.train()\n",
    "        content_images = samples[\"content_image\"].cuda()\n",
    "        style_images = samples[\"style_image\"].cuda()\n",
    "        target_images = samples[\"target_image\"].cuda()\n",
    "        nonorm_target_images = samples[\"nonorm_target_image\"].cuda()\n",
    "\n",
    "        noise = torch.randn_like(target_images)\n",
    "        bsz = target_images.shape[0]\n",
    "        # Sample a random timestep for each image\n",
    "        timesteps = torch.randint(0, noise_scheduler.num_train_timesteps, (bsz,), device=target_images.device)\n",
    "        timesteps = timesteps.long()\n",
    "\n",
    "        # Add noise to the target_images according to the noise magnitude at each timestep\n",
    "        # (this is the forward diffusion process)\n",
    "        noisy_target_images = noise_scheduler.add_noise(target_images, noise, timesteps)\n",
    "\n",
    "        # Classifier-free training strategy\n",
    "        context_mask = torch.bernoulli(torch.zeros(bsz) + args.drop_prob)\n",
    "        for i, mask_value in enumerate(context_mask):\n",
    "            if mask_value==1:\n",
    "                content_images[i, :, :, :] = 1\n",
    "                style_images[i, :, :, :] = 1\n",
    "\n",
    "        # Predict the noise residual and compute loss\n",
    "        noise_pred, offset_out_sum = model(\n",
    "            x_t=noisy_target_images,\n",
    "            timesteps=timesteps,\n",
    "            style_images=style_images,\n",
    "            content_images=content_images,\n",
    "            content_encoder_downsample_size=args.content_encoder_downsample_size)\n",
    "        diff_loss = F.mse_loss(noise_pred.float(), noise.float(), reduction=\"mean\")\n",
    "        offset_loss = offset_out_sum / 2\n",
    "\n",
    "        # output processing for content perceptual loss\n",
    "        pred_original_sample_norm = x0_from_epsilon(\n",
    "            scheduler=noise_scheduler,\n",
    "            noise_pred=noise_pred,\n",
    "            x_t=noisy_target_images,\n",
    "            timesteps=timesteps)\n",
    "        pred_original_sample = reNormalize_img(pred_original_sample_norm)\n",
    "        norm_pred_ori = normalize_mean_std(pred_original_sample)\n",
    "        norm_target_ori = normalize_mean_std(nonorm_target_images)\n",
    "        percep_loss = perceptual_loss.calculate_loss(\n",
    "            generated_images=norm_pred_ori,\n",
    "            target_images=norm_target_ori,\n",
    "            device=target_images.device)\n",
    "\n",
    "        loss = diff_loss + \\\n",
    "                args.perceptual_coefficient * percep_loss + \\\n",
    "                    args.offset_coefficient * offset_loss\n",
    "\n",
    "        loss.backward()\n",
    "\n",
    "        optimizer.step()\n",
    "        lr_scheduler.step()\n",
    "        optimizer.zero_grad()\n",
    "\n",
    "        if global_step % 10000 == 0:\n",
    "            save_model(unet.state_dict(), \"unet_%s\"%str(global_step))\n",
    "            save_model(style_encoder.state_dict(), \"style_encoder_%s\"%str(global_step))\n",
    "            save_model(content_encoder.state_dict(), \"content_encoder_%s\"%str(global_step))\n",
    "\n",
    "        progress_bar.update(1)\n",
    "        global_step += 1\n",
    "        train_loss = 0.0\n",
    "\n",
    "        # Quit\n",
    "        if global_step >= args.max_train_steps:\n",
    "            break"
   ]
  },
  {
   "cell_type": "code",
   "execution_count": null,
   "metadata": {},
   "outputs": [],
   "source": []
  }
 ],
 "metadata": {
  "environment": {
   "kernel": "conda-env-pytorch-pytorch",
   "name": "workbench-notebooks.m120",
   "type": "gcloud",
   "uri": "us-docker.pkg.dev/deeplearning-platform-release/gcr.io/workbench-notebooks:m120"
  },
  "kernelspec": {
   "display_name": "PyTorch 1-13 (Local)",
   "language": "python",
   "name": "conda-env-pytorch-pytorch"
  },
  "language_info": {
   "codemirror_mode": {
    "name": "ipython",
    "version": 3
   },
   "file_extension": ".py",
   "mimetype": "text/x-python",
   "name": "python",
   "nbconvert_exporter": "python",
   "pygments_lexer": "ipython3",
   "version": "3.10.14"
  }
 },
 "nbformat": 4,
 "nbformat_minor": 4
}
