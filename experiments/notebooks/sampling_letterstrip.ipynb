{
 "cells": [
  {
   "cell_type": "code",
   "execution_count": 5,
   "id": "91793dc8-fe06-48e2-98f6-635b7ccf2a62",
   "metadata": {
    "tags": []
   },
   "outputs": [],
   "source": [
    "import os\n",
    "import numpy as np\n",
    "from tqdm import tqdm\n",
    "from PIL import Image\n",
    "from google.cloud import storage\n",
    "\n",
    "import sys\n",
    "import importlib\n",
    "\n",
    "def call_module(nm, path):\n",
    "    spec = importlib.util.spec_from_file_location(nm, path)\n",
    "    foo = importlib.util.module_from_spec(spec)\n",
    "    sys.modules[nm] = foo\n",
    "    spec.loader.exec_module(foo)\n",
    "    return foo"
   ]
  },
  {
   "cell_type": "code",
   "execution_count": 6,
   "id": "00f2bc43-4c56-46ff-b6af-7b255e9e6425",
   "metadata": {
    "tags": []
   },
   "outputs": [],
   "source": [
    "def download_files_from_folder(bucket_name, bucket_fd, local_fd, files):\n",
    "    \"\"\"Download all files from a folder in a Google Cloud Storage bucket.\"\"\"\n",
    "    # Initialize a client\n",
    "    client = storage.Client()\n",
    "    # Get the bucket\n",
    "    bucket = client.bucket(bucket_name)\n",
    "    # List all blobs (files) in the specified folder\n",
    "    for file in files:\n",
    "        blob = bucket.blob(f\"{bucket_fd}/{file}\")\n",
    "        blob.download_to_filename(f\"{local_fd}/{file}\")"
   ]
  },
  {
   "cell_type": "code",
   "execution_count": 7,
   "id": "96b3fb43-a8f5-4fad-8bd9-facc1aab6235",
   "metadata": {
    "tags": []
   },
   "outputs": [],
   "source": [
    "model_type = 'letterstrip_fontdiffuser_training_phase_1'\n",
    "model_i = '430000'\n",
    "files_dict = {\n",
    "    'unet': f\"{model_type}__unet_{model_i}.pth\",\n",
    "    'content_encoder': f\"{model_type}__content_encoder_{model_i}.pth\",\n",
    "    'style_encoder': f\"{model_type}__style_encoder_{model_i}.pth\",\n",
    "}\n",
    "local_fd = \"/home/jupyter/ai_font/data/model\"\n",
    "os.makedirs(local_fd, exist_ok=True)\n",
    "download_files_from_folder(\"leo_font\",\"experiments\",local_fd,list(files_dict.values()))"
   ]
  },
  {
   "cell_type": "code",
   "execution_count": 8,
   "id": "8ee02e15-f835-40a3-a44b-8576b60e7dcb",
   "metadata": {
    "tags": []
   },
   "outputs": [],
   "source": [
    "fd = \"/home/jupyter/ai_font/experiments/sample\"\n",
    "module_fd = \"/home/jupyter/ai_font/experiments/font_diffuser_letterstrip\"\n",
    "args = call_module('args', f\"{fd}/args.py\")\n",
    "SampleArgs = args.SampleArgs\n",
    "\n",
    "sample = call_module('sample', f\"{fd}/sample.py\")\n",
    "load_fontdiffuser_pipeline = sample.load_fontdiffuser_pipeline\n",
    "sampling = sample.sampling"
   ]
  },
  {
   "cell_type": "code",
   "execution_count": 9,
   "id": "2b1df5b7-5335-43e2-8172-df1cd799ce76",
   "metadata": {
    "tags": []
   },
   "outputs": [],
   "source": [
    "args = SampleArgs()\n",
    "modelpaths = {k:f\"{local_fd}/{v}\" for k,v in files_dict.items()}"
   ]
  },
  {
   "cell_type": "code",
   "execution_count": 10,
   "id": "1cfab794-d10b-4a2e-bc1d-4eca026164b0",
   "metadata": {
    "tags": []
   },
   "outputs": [
    {
     "name": "stdout",
     "output_type": "stream",
     "text": [
      "Load the down block  DownBlock2D\n",
      "Load the down block  MCADownBlock2D\n",
      "The style_attention cross attention dim in Down Block 1 layer is 1024\n",
      "The style_attention cross attention dim in Down Block 2 layer is 1024\n",
      "Load the down block  MCADownBlock2D\n",
      "The style_attention cross attention dim in Down Block 1 layer is 1024\n",
      "The style_attention cross attention dim in Down Block 2 layer is 1024\n",
      "Load the down block  DownBlock2D\n",
      "Load the up block  UpBlock2D\n",
      "Load the up block  StyleRSIUpBlock2D\n",
      "Load the up block  StyleRSIUpBlock2D\n",
      "Load the up block  UpBlock2D\n",
      "Param count for Ds initialized parameters: 20591296\n",
      "Get CG-GAN Style Encoder!\n",
      "Param count for Ds initialized parameters: 1187008\n",
      "Get CG-GAN Content Encoder!\n",
      "Loaded the model state_dict successfully!\n",
      "Loaded training DDPM scheduler sucessfully!\n",
      "Loaded dpm_solver pipeline sucessfully!\n"
     ]
    }
   ],
   "source": [
    "pipe = load_fontdiffuser_pipeline(args, module_fd, modelpaths)"
   ]
  },
  {
   "cell_type": "code",
   "execution_count": 11,
   "id": "2de63241-3d84-4398-a66a-3320871b0f04",
   "metadata": {
    "tags": []
   },
   "outputs": [],
   "source": [
    "# 글자와 언신 스타일을 섞어서 다 찍어내기\n",
    "savefd = \"/home/jupyter/ai_font/data/report\"\n",
    "os.makedirs(savefd, exist_ok=True)"
   ]
  },
  {
   "cell_type": "code",
   "execution_count": null,
   "id": "17521bab-2d32-4fff-a3cb-2ecbad0f12f2",
   "metadata": {
    "tags": []
   },
   "outputs": [
    {
     "name": "stderr",
     "output_type": "stream",
     "text": [
      "/home/jupyter/ai_font/experiments/font_diffuser_letterstrip/model.py:89: FutureWarning: Accessing config attribute `style_encoder` directly via 'FontDiffuserModelDPM' object attribute is deprecated. Please access 'style_encoder' over 'FontDiffuserModelDPM's config object instead, e.g. 'unet.config.style_encoder'.\n",
      "  style_img_feature, _, style_residual_features = self.style_encoder(style_images)\n",
      "/home/jupyter/ai_font/experiments/font_diffuser_letterstrip/model.py:95: FutureWarning: Accessing config attribute `content_encoder` directly via 'FontDiffuserModelDPM' object attribute is deprecated. Please access 'content_encoder' over 'FontDiffuserModelDPM's config object instead, e.g. 'unet.config.content_encoder'.\n",
      "  content_img_feture, content_residual_features = self.content_encoder(content_images)\n",
      "/home/jupyter/ai_font/experiments/font_diffuser_letterstrip/model.py:98: FutureWarning: Accessing config attribute `content_encoder` directly via 'FontDiffuserModelDPM' object attribute is deprecated. Please access 'content_encoder' over 'FontDiffuserModelDPM's config object instead, e.g. 'unet.config.content_encoder'.\n",
      "  style_content_feature, style_content_res_features = self.content_encoder(style_images)\n",
      "/home/jupyter/ai_font/experiments/font_diffuser_letterstrip/model.py:103: FutureWarning: Accessing config attribute `unet` directly via 'FontDiffuserModelDPM' object attribute is deprecated. Please access 'unet' over 'FontDiffuserModelDPM's config object instead, e.g. 'unet.config.unet'.\n",
      "  out = self.unet(\n"
     ]
    },
    {
     "name": "stdout",
     "output_type": "stream",
     "text": [
      "18329 seenen\r"
     ]
    }
   ],
   "source": [
    "itercount = 0\n",
    "for font in args.test_fonts:\n",
    "    styles = [int(f.split(\"__\")[-1].replace(\".png\",\"\")) for f in os.listdir(f\"{args.data_fd}/seen/\") if font in f][:100]\n",
    "    for c in args.seens_ids:\n",
    "        for s in styles:\n",
    "            if c != s:\n",
    "                savepath = f\"{savefd}/{model_type}__{font}__seen__c{c}_s{s}.png\"\n",
    "                img = sampling(\n",
    "                    args=args, \n",
    "                    pipe=pipe, \n",
    "                    content_image=Image.open(f\"{args.data_fd}/seen/gulim__{c}.png\").convert(\"RGB\"),\n",
    "                    style_image=Image.open(f\"{args.data_fd}/seen/{font}__{s}.png\").convert(\"RGB\"),\n",
    "                    verbose = False,\n",
    "                            )\n",
    "                img.save(savepath)\n",
    "                itercount += 1\n",
    "                print(itercount, \"seen\", end=\"\\r\")\n",
    "    for c in args.unseens_ids:\n",
    "        for s in styles:\n",
    "            if c != s:\n",
    "                savepath = f\"{savefd}/{model_type}__{font}__unseen__c{c}_s{s}.png\"\n",
    "                img = sampling(\n",
    "                    args=args, \n",
    "                    pipe=pipe, \n",
    "                    content_image=Image.open(f\"{args.data_fd}/seen/gulim__{c}.png\").convert(\"RGB\"),\n",
    "                    style_image=Image.open(f\"{args.data_fd}/seen/{font}__{s}.png\").convert(\"RGB\"),\n",
    "                    verbose = False,\n",
    "                            )\n",
    "                img.save(savepath)\n",
    "                itercount += 1\n",
    "                print(itercount, \"unseen\", end=\"\\r\")"
   ]
  },
  {
   "cell_type": "code",
   "execution_count": 25,
   "id": "ec24c1fa-bc00-4dd7-aee9-cde9d273f18d",
   "metadata": {
    "tags": []
   },
   "outputs": [
    {
     "data": {
      "image/jpeg": "[encoded data removed]",
      "image/png": "[encoded data removed]",
      "text/plain": [
       "<PIL.PngImagePlugin.PngImageFile image mode=RGB size=96x96>"
      ]
     },
     "execution_count": 25,
     "metadata": {},
     "output_type": "execute_result"
    }
   ],
   "source": [
    "Image.open([f\"{savefd}/{f}\" for f in os.listdir(savefd) if model_type in f][13])"
   ]
  },
  {
   "cell_type": "code",
   "execution_count": null,
   "id": "783999b8-53c2-4667-a041-dfcce1f1f73e",
   "metadata": {},
   "outputs": [],
   "source": []
  }
 ],
 "metadata": {
  "environment": {
   "kernel": "conda-env-pytorch-pytorch",
   "name": "workbench-notebooks.m118",
   "type": "gcloud",
   "uri": "us-docker.pkg.dev/deeplearning-platform-release/gcr.io/workbench-notebooks:m118"
  },
  "kernelspec": {
   "display_name": "PyTorch 1-13",
   "language": "python",
   "name": "conda-env-pytorch-pytorch"
  },
  "language_info": {
   "codemirror_mode": {
    "name": "ipython",
    "version": 3
   },
   "file_extension": ".py",
   "mimetype": "text/x-python",
   "name": "python",
   "nbconvert_exporter": "python",
   "pygments_lexer": "ipython3",
   "version": "3.10.13"
  }
 },
 "nbformat": 4,
 "nbformat_minor": 5
}
