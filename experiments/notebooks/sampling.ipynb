{
 "cells": [
  {
   "cell_type": "code",
   "execution_count": 1,
   "id": "91793dc8-fe06-48e2-98f6-635b7ccf2a62",
   "metadata": {
    "tags": []
   },
   "outputs": [],
   "source": [
    "import os\n",
    "from PIL import Image\n",
    "\n",
    "import sys\n",
    "import importlib\n",
    "\n",
    "def call_module(nm, path):\n",
    "    spec = importlib.util.spec_from_file_location(nm, path)\n",
    "    foo = importlib.util.module_from_spec(spec)\n",
    "    sys.modules[nm] = foo\n",
    "    spec.loader.exec_module(foo)\n",
    "    return foo"
   ]
  },
  {
   "cell_type": "code",
   "execution_count": 2,
   "id": "8ee02e15-f835-40a3-a44b-8576b60e7dcb",
   "metadata": {},
   "outputs": [],
   "source": [
    "fd = \"/home/jupyter/ai_font/experiments/sample\"\n",
    "\n",
    "args = call_module('args', f\"{fd}/args.py\")\n",
    "SampleArgs = args.SampleArgs\n",
    "\n",
    "sample = call_module('sample', f\"{fd}/sample.py\")\n",
    "load_fontdiffuser_pipeline = sample.load_fontdiffuser_pipeline\n",
    "sampling = sample.sampling"
   ]
  },
  {
   "cell_type": "code",
   "execution_count": 3,
   "id": "2b1df5b7-5335-43e2-8172-df1cd799ce76",
   "metadata": {
    "tags": []
   },
   "outputs": [
    {
     "ename": "AttributeError",
     "evalue": "'SampleArgs' object has no attribute 'args'",
     "output_type": "error",
     "traceback": [
      "\u001b[0;31m---------------------------------------------------------------------------\u001b[0m",
      "\u001b[0;31mAttributeError\u001b[0m                            Traceback (most recent call last)",
      "Cell \u001b[0;32mIn[3], line 1\u001b[0m\n\u001b[0;32m----> 1\u001b[0m args \u001b[38;5;241m=\u001b[39m \u001b[43mSampleArgs\u001b[49m\u001b[43m(\u001b[49m\u001b[43m)\u001b[49m\n\u001b[1;32m      2\u001b[0m model_type \u001b[38;5;241m=\u001b[39m \u001b[38;5;124m'\u001b[39m\u001b[38;5;124mfunit_fontdiffuser_training_phase_1\u001b[39m\u001b[38;5;124m'\u001b[39m\n\u001b[1;32m      3\u001b[0m model_i \u001b[38;5;241m=\u001b[39m \u001b[38;5;124m'\u001b[39m\u001b[38;5;124m160000\u001b[39m\u001b[38;5;124m'\u001b[39m\n",
      "File \u001b[0;32m~/ai_font/experiments/sample/args.py:52\u001b[0m, in \u001b[0;36mSampleArgs.__init__\u001b[0;34m(self)\u001b[0m\n\u001b[1;32m     49\u001b[0m \u001b[38;5;28mself\u001b[39m\u001b[38;5;241m.\u001b[39mmodule_fd \u001b[38;5;241m=\u001b[39m \u001b[38;5;124m\"\u001b[39m\u001b[38;5;124m/home/jupyter/ai_font/experiments/font_diffuser_funit\u001b[39m\u001b[38;5;124m\"\u001b[39m\n\u001b[1;32m     50\u001b[0m \u001b[38;5;28mself\u001b[39m\u001b[38;5;241m.\u001b[39mallkorean \u001b[38;5;241m=\u001b[39m pd\u001b[38;5;241m.\u001b[39mread_parquet(\u001b[38;5;124mf\u001b[39m\u001b[38;5;124m\"\u001b[39m\u001b[38;5;132;01m{\u001b[39;00m\u001b[38;5;28mself\u001b[39m\u001b[38;5;241m.\u001b[39mdata_fd\u001b[38;5;132;01m}\u001b[39;00m\u001b[38;5;124m/seen/all_korean.parquet\u001b[39m\u001b[38;5;124m\"\u001b[39m)\n\u001b[0;32m---> 52\u001b[0m \u001b[38;5;28mself\u001b[39m\u001b[38;5;241m.\u001b[39mseens_ids \u001b[38;5;241m=\u001b[39m [\u001b[38;5;28mself\u001b[39m\u001b[38;5;241m.\u001b[39mallkorean[\u001b[38;5;241m0\u001b[39m]\u001b[38;5;241m.\u001b[39mindex[\u001b[38;5;28mself\u001b[39m\u001b[38;5;241m.\u001b[39margs\u001b[38;5;241m.\u001b[39mallkorean[\u001b[38;5;241m0\u001b[39m] \u001b[38;5;241m==\u001b[39m l]\u001b[38;5;241m.\u001b[39mitem() \u001b[38;5;28;01mfor\u001b[39;00m l \u001b[38;5;129;01min\u001b[39;00m \u001b[38;5;28mself\u001b[39m\u001b[38;5;241m.\u001b[39mseens]\n\u001b[1;32m     53\u001b[0m \u001b[38;5;28mself\u001b[39m\u001b[38;5;241m.\u001b[39munseens_ids \u001b[38;5;241m=\u001b[39m [\u001b[38;5;28mself\u001b[39m\u001b[38;5;241m.\u001b[39mallkorean[\u001b[38;5;241m0\u001b[39m]\u001b[38;5;241m.\u001b[39mindex[\u001b[38;5;28mself\u001b[39m\u001b[38;5;241m.\u001b[39margs\u001b[38;5;241m.\u001b[39mallkorean[\u001b[38;5;241m0\u001b[39m] \u001b[38;5;241m==\u001b[39m l]\u001b[38;5;241m.\u001b[39mitem() \u001b[38;5;28;01mfor\u001b[39;00m l \u001b[38;5;129;01min\u001b[39;00m \u001b[38;5;28mself\u001b[39m\u001b[38;5;241m.\u001b[39munseens]\n",
      "File \u001b[0;32m~/ai_font/experiments/sample/args.py:52\u001b[0m, in \u001b[0;36m<listcomp>\u001b[0;34m(.0)\u001b[0m\n\u001b[1;32m     49\u001b[0m \u001b[38;5;28mself\u001b[39m\u001b[38;5;241m.\u001b[39mmodule_fd \u001b[38;5;241m=\u001b[39m \u001b[38;5;124m\"\u001b[39m\u001b[38;5;124m/home/jupyter/ai_font/experiments/font_diffuser_funit\u001b[39m\u001b[38;5;124m\"\u001b[39m\n\u001b[1;32m     50\u001b[0m \u001b[38;5;28mself\u001b[39m\u001b[38;5;241m.\u001b[39mallkorean \u001b[38;5;241m=\u001b[39m pd\u001b[38;5;241m.\u001b[39mread_parquet(\u001b[38;5;124mf\u001b[39m\u001b[38;5;124m\"\u001b[39m\u001b[38;5;132;01m{\u001b[39;00m\u001b[38;5;28mself\u001b[39m\u001b[38;5;241m.\u001b[39mdata_fd\u001b[38;5;132;01m}\u001b[39;00m\u001b[38;5;124m/seen/all_korean.parquet\u001b[39m\u001b[38;5;124m\"\u001b[39m)\n\u001b[0;32m---> 52\u001b[0m \u001b[38;5;28mself\u001b[39m\u001b[38;5;241m.\u001b[39mseens_ids \u001b[38;5;241m=\u001b[39m [\u001b[38;5;28mself\u001b[39m\u001b[38;5;241m.\u001b[39mallkorean[\u001b[38;5;241m0\u001b[39m]\u001b[38;5;241m.\u001b[39mindex[\u001b[38;5;28;43mself\u001b[39;49m\u001b[38;5;241;43m.\u001b[39;49m\u001b[43margs\u001b[49m\u001b[38;5;241m.\u001b[39mallkorean[\u001b[38;5;241m0\u001b[39m] \u001b[38;5;241m==\u001b[39m l]\u001b[38;5;241m.\u001b[39mitem() \u001b[38;5;28;01mfor\u001b[39;00m l \u001b[38;5;129;01min\u001b[39;00m \u001b[38;5;28mself\u001b[39m\u001b[38;5;241m.\u001b[39mseens]\n\u001b[1;32m     53\u001b[0m \u001b[38;5;28mself\u001b[39m\u001b[38;5;241m.\u001b[39munseens_ids \u001b[38;5;241m=\u001b[39m [\u001b[38;5;28mself\u001b[39m\u001b[38;5;241m.\u001b[39mallkorean[\u001b[38;5;241m0\u001b[39m]\u001b[38;5;241m.\u001b[39mindex[\u001b[38;5;28mself\u001b[39m\u001b[38;5;241m.\u001b[39margs\u001b[38;5;241m.\u001b[39mallkorean[\u001b[38;5;241m0\u001b[39m] \u001b[38;5;241m==\u001b[39m l]\u001b[38;5;241m.\u001b[39mitem() \u001b[38;5;28;01mfor\u001b[39;00m l \u001b[38;5;129;01min\u001b[39;00m \u001b[38;5;28mself\u001b[39m\u001b[38;5;241m.\u001b[39munseens]\n",
      "\u001b[0;31mAttributeError\u001b[0m: 'SampleArgs' object has no attribute 'args'"
     ]
    }
   ],
   "source": [
    "args = SampleArgs()\n",
    "model_type = 'funit_fontdiffuser_training_phase_1'\n",
    "model_i = '160000'\n",
    "modelpaths = {\n",
    "    'unet': f\"{args.model_fd}/{model_type}__unet_{model_i}.pth\",\n",
    "    'content_encoder': f\"{args.model_fd}/{model_type}__content_encoder_{model_i}.pth\",\n",
    "    'style_encoder': f\"{args.model_fd}/{model_type}__style_encoder_{model_i}.pth\",\n",
    "}"
   ]
  },
  {
   "cell_type": "code",
   "execution_count": null,
   "id": "1cfab794-d10b-4a2e-bc1d-4eca026164b0",
   "metadata": {
    "tags": []
   },
   "outputs": [],
   "source": [
    "pipe = load_fontdiffuser_pipeline(args, args.module_fd, modelpaths)"
   ]
  },
  {
   "cell_type": "code",
   "execution_count": 17,
   "id": "88038be8-d2d9-453c-bec0-b85d2b6b1dd1",
   "metadata": {
    "tags": []
   },
   "outputs": [
    {
     "data": {
      "text/plain": [
       "0"
      ]
     },
     "execution_count": 17,
     "metadata": {},
     "output_type": "execute_result"
    }
   ],
   "source": [
    "args.allkorean[0].index[args.allkorean[0] == '가'].item()"
   ]
  },
  {
   "cell_type": "code",
   "execution_count": 7,
   "id": "c6b1fb74-89b4-439c-85c4-11f268e96dc4",
   "metadata": {
    "tags": []
   },
   "outputs": [
    {
     "data": {
      "text/plain": [
       "['twice dahyun_4',\n",
       " 'twice nayeon_6',\n",
       " 'UhBee Sunhong',\n",
       " 'UhBee Howl',\n",
       " 'SeoulHangang Jang B',\n",
       " 'MapoDPP']"
      ]
     },
     "execution_count": 7,
     "metadata": {},
     "output_type": "execute_result"
    }
   ],
   "source": [
    "args.test_fonts"
   ]
  },
  {
   "cell_type": "code",
   "execution_count": 12,
   "id": "78d779ac-e29d-4218-8342-c4d2b8075931",
   "metadata": {
    "tags": []
   },
   "outputs": [
    {
     "data": {
      "text/plain": [
       "['all_korean.parquet']"
      ]
     },
     "execution_count": 12,
     "metadata": {},
     "output_type": "execute_result"
    }
   ],
   "source": [
    "[f for f in os.listdir(data_fd+\"/seen\") if \".parquet\" in f]"
   ]
  },
  {
   "cell_type": "code",
   "execution_count": null,
   "id": "72bf9656-fbb6-43a9-b7cc-87a4fa07a8b9",
   "metadata": {},
   "outputs": [],
   "source": [
    "for ci in content_is:\n",
    "    content_image = Image.open(\"data/r40202/pngs/gulim__%s.png\"%str(ci)).convert('RGB')\n",
    "    style_image = Image.open(\"data/r40202/pngs/%s__%s.png\"%(str(style), str(style_i))).convert('RGB')\n",
    "    out_image = sampling(\n",
    "        args=args, \n",
    "        pipe=pipe, \n",
    "        content_image=content_image,\n",
    "        style_image=style_image,\n",
    "    )"
   ]
  }
 ],
 "metadata": {
  "environment": {
   "kernel": "conda-env-pytorch-pytorch",
   "name": "workbench-notebooks.m120",
   "type": "gcloud",
   "uri": "us-docker.pkg.dev/deeplearning-platform-release/gcr.io/workbench-notebooks:m120"
  },
  "kernelspec": {
   "display_name": "PyTorch 1-13 (Local)",
   "language": "python",
   "name": "conda-env-pytorch-pytorch"
  },
  "language_info": {
   "codemirror_mode": {
    "name": "ipython",
    "version": 3
   },
   "file_extension": ".py",
   "mimetype": "text/x-python",
   "name": "python",
   "nbconvert_exporter": "python",
   "pygments_lexer": "ipython3",
   "version": "3.10.14"
  }
 },
 "nbformat": 4,
 "nbformat_minor": 5
}
