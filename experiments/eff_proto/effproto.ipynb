{
 "cells": [
  {
   "cell_type": "code",
   "execution_count": 1,
   "id": "9adeb032-09b5-406d-830a-124a71d75888",
   "metadata": {
    "tags": []
   },
   "outputs": [],
   "source": [
    "import torch\n",
    "import torch.nn as nn\n",
    "import torch.optim as optim\n",
    "import torchvision.transforms as transforms\n",
    "import torchvision.datasets as datasets\n",
    "from torch.utils.data import DataLoader\n",
    "from torchvision.models import efficientnet_b7, EfficientNet_B7_Weights\n",
    "import pandas as pd\n",
    "from args import Args\n",
    "import copy\n",
    "import numpy as np\n",
    "from collections import defaultdict\n",
    "import os\n",
    "from PIL import Image\n",
    "from tqdm import tqdm\n",
    "import torch\n",
    "from torch.nn import functional as F\n",
    "from torch.utils.data import Dataset\n",
    "from google.cloud import storage\n",
    "import random\n",
    "\n",
    "storage_client = storage.Client(\"leo_font\")\n",
    "bucket = storage_client.bucket(\"leo_font\")"
   ]
  },
  {
   "cell_type": "code",
   "execution_count": 2,
   "id": "29f7c101-d4e9-4b8d-ad87-41356a02af57",
   "metadata": {
    "tags": []
   },
   "outputs": [],
   "source": [
    "# Set device\n",
    "device = torch.device('cuda' if torch.cuda.is_available() else 'cpu')\n",
    "args = Args()\n",
    "\n",
    "# Define transforms\n",
    "transform = transforms.Compose([\n",
    "    transforms.Resize((224, 224)),\n",
    "    transforms.ToTensor(),\n",
    "    transforms.Normalize(mean=[0.485, 0.456, 0.406], std=[0.229, 0.224, 0.225])\n",
    "])"
   ]
  },
  {
   "cell_type": "code",
   "execution_count": 3,
   "id": "5b3d9bdd-a18e-473f-a76f-92a2972d73df",
   "metadata": {
    "tags": []
   },
   "outputs": [],
   "source": [
    "class CustomDataset(Dataset):\n",
    "    def __init__(self, root_dir, font, transform=None):\n",
    "        self.root_dir = root_dir\n",
    "        self.transform = transform\n",
    "        self.args = args\n",
    "        self.font = font\n",
    "        self.files = [f\"{root_dir}/{f}\" for f in os.listdir(root_dir) if (\".png\" in f)&(font in f)]\n",
    "\n",
    "    def __len__(self):\n",
    "        # return int(len(self.files)/100)\n",
    "        return len(self.files)\n",
    "\n",
    "    def __getitem__(self, idx):\n",
    "        path = self.files[idx]\n",
    "        image = Image.open(path)\n",
    "\n",
    "        if self.transform:\n",
    "            image = self.transform(image)\n",
    "\n",
    "        return image"
   ]
  },
  {
   "cell_type": "code",
   "execution_count": 4,
   "id": "e8709cde-e6e4-4189-b769-1c7e1938e592",
   "metadata": {
    "tags": []
   },
   "outputs": [],
   "source": [
    "def save_model(state_dict, save_path):\n",
    "    blob = bucket.blob(save_path)\n",
    "    with blob.open(\"wb\", ignore_flush=True) as f:\n",
    "        torch.save(state_dict, f)"
   ]
  },
  {
   "cell_type": "code",
   "execution_count": 5,
   "id": "dee24877-b459-4e3d-ae81-903a1b7c8812",
   "metadata": {
    "tags": []
   },
   "outputs": [],
   "source": [
    "fonts = np.unique([f.split(\"__\")[0] for f in os.listdir(f\"{args.datapath}/seen\")])"
   ]
  },
  {
   "cell_type": "code",
   "execution_count": 6,
   "id": "6d787b4c-ceac-4388-b3ab-068d1424b4b0",
   "metadata": {
    "tags": []
   },
   "outputs": [],
   "source": [
    "# Load data\n",
    "dataset_list = [CustomDataset(root_dir=f'{args.datapath}/seen', font=f, transform=transform) for f in fonts]"
   ]
  },
  {
   "cell_type": "code",
   "execution_count": 7,
   "id": "ed1a6f11-e019-4f46-85d8-f4dd098e81fd",
   "metadata": {
    "tags": []
   },
   "outputs": [],
   "source": [
    "def dataload(dataset_list, n_classes, n_per_class):\n",
    "    ds_ids = np.random.choice(np.arange(len(dataset_list)),n_classes)\n",
    "    supports = []\n",
    "    queries = []\n",
    "    for i in ds_ids:\n",
    "        for _ in range(n_per_class):\n",
    "            supports.append(dataset_list[i][np.random.randint(len(dataset_list[i]))])\n",
    "            queries.append(dataset_list[i][np.random.randint(len(dataset_list[i]))])\n",
    "    return torch.stack(supports), torch.stack(queries)\n",
    "\n",
    "def euclidean_dist(x, y):\n",
    "    '''\n",
    "    Compute euclidean distance between two tensors\n",
    "    '''\n",
    "    # x: N x D\n",
    "    # y: M x D\n",
    "    n = x.size(0)\n",
    "    m = y.size(0)\n",
    "    d = x.size(1)\n",
    "    if d != y.size(1):\n",
    "        raise Exception\n",
    "\n",
    "    x = x.unsqueeze(1).expand(n, m, d)\n",
    "    y = y.unsqueeze(0).expand(n, m, d)\n",
    "\n",
    "    return torch.pow(x - y, 2).sum(2)"
   ]
  },
  {
   "cell_type": "code",
   "execution_count": 8,
   "id": "73a9c4c4-6eda-4da7-8197-83954d7db026",
   "metadata": {
    "tags": []
   },
   "outputs": [],
   "source": [
    "class ModifiedEfficientNet(nn.Module):\n",
    "    def __init__(self):\n",
    "        super(ModifiedEfficientNet, self).__init__()\n",
    "        self.effnet = efficientnet_b7(weights=EfficientNet_B7_Weights.IMAGENET1K_V1)\n",
    "\n",
    "    def forward(self, x):\n",
    "        x = self.effnet(x)\n",
    "        return torch.tanh(x)"
   ]
  },
  {
   "cell_type": "code",
   "execution_count": 9,
   "id": "1cc87608-1257-4dac-9981-da8e17851abb",
   "metadata": {
    "tags": []
   },
   "outputs": [],
   "source": [
    "model = ModifiedEfficientNet()\n",
    "model = model.to(device)"
   ]
  },
  {
   "cell_type": "code",
   "execution_count": 10,
   "id": "faa42b3d-9ef3-4c5c-bdd7-acc9d32671af",
   "metadata": {
    "tags": []
   },
   "outputs": [],
   "source": [
    "n_classes = 4\n",
    "n_per_class = 4\n",
    "model_name = 'effproto'"
   ]
  },
  {
   "cell_type": "code",
   "execution_count": null,
   "id": "bed962cf-bcff-486a-9269-a752db3a4ed7",
   "metadata": {
    "tags": []
   },
   "outputs": [
    {
     "name": "stderr",
     "output_type": "stream",
     "text": [
      "  0%|          | 199/1000000 [02:38<196:29:49,  1.41it/s, trailing_loss=0.643]"
     ]
    }
   ],
   "source": [
    "# Define loss function and optimizer\n",
    "criterion = nn.CrossEntropyLoss()\n",
    "optimizer = optim.Adam(model.parameters(), lr=0.001)\n",
    "label = torch.eye(n_classes)[np.repeat(np.arange(n_classes),n_per_class)].to(device)\n",
    "trailing_loss = 1\n",
    "\n",
    "# Training loop\n",
    "num_epochs = 1000000\n",
    "pbar = tqdm(range(num_epochs))\n",
    "for epoch in pbar:\n",
    "    model.train()\n",
    "    optimizer.zero_grad()\n",
    "    # get data\n",
    "    support_x, query_x = dataload(dataset_list, n_classes, n_per_class)\n",
    "    support_x = support_x.to(device)\n",
    "    query_x = query_x.to(device)\n",
    "    # get the needed\n",
    "    support_y = model(support_x)\n",
    "    prototypes = torch.stack([support_y[idx].mean(0) for idx in np.split(np.arange(int(n_classes*n_per_class)),n_per_class)])\n",
    "    query_y = model(query_x)\n",
    "    # get loss\n",
    "    dist = euclidean_dist(query_y, prototypes)\n",
    "    loss = criterion(-torch.log(dist), label)\n",
    "    # do the needed\n",
    "    loss.backward()\n",
    "    optimizer.step()\n",
    "    \n",
    "    trailing_loss = 0.95*trailing_loss + 0.05*loss.detach().cpu().numpy()\n",
    "    pbar.set_postfix(trailing_loss=trailing_loss)\n",
    "    if epoch % 1000 == 0:\n",
    "        save_model(model.state_dict(),f\"{args.savepath}/{model_name}_{epoch}.pth\")"
   ]
  },
  {
   "cell_type": "code",
   "execution_count": 12,
   "id": "d4e5eb8d-7365-473b-aa55-c6b7eef88230",
   "metadata": {
    "tags": []
   },
   "outputs": [
    {
     "data": {
      "text/plain": [
       "tensor(0.9886, device='cuda:0', grad_fn=<DivBackward1>)"
      ]
     },
     "execution_count": 12,
     "metadata": {},
     "output_type": "execute_result"
    }
   ],
   "source": [
    "loss"
   ]
  },
  {
   "cell_type": "code",
   "execution_count": null,
   "id": "feeffae3-dd09-4763-97fc-6fb6c7b1a9b3",
   "metadata": {},
   "outputs": [],
   "source": []
  }
 ],
 "metadata": {
  "environment": {
   "kernel": "conda-env-pytorch-pytorch",
   "name": "workbench-notebooks.m120",
   "type": "gcloud",
   "uri": "us-docker.pkg.dev/deeplearning-platform-release/gcr.io/workbench-notebooks:m120"
  },
  "kernelspec": {
   "display_name": "PyTorch 1-13 (Local)",
   "language": "python",
   "name": "conda-env-pytorch-pytorch"
  },
  "language_info": {
   "codemirror_mode": {
    "name": "ipython",
    "version": 3
   },
   "file_extension": ".py",
   "mimetype": "text/x-python",
   "name": "python",
   "nbconvert_exporter": "python",
   "pygments_lexer": "ipython3",
   "version": "3.10.14"
  }
 },
 "nbformat": 4,
 "nbformat_minor": 5
}
