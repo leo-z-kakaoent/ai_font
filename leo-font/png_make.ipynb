{
 "cells": [
  {
   "cell_type": "code",
   "execution_count": 1,
   "metadata": {
    "collapsed": true,
    "jupyter": {
     "outputs_hidden": true
    },
    "tags": []
   },
   "outputs": [],
   "source": [
    "import os\n",
    "import pickle\n",
    "import numpy as np\n",
    "import pandas as pd\n",
    "from tqdm import tqdm\n",
    "from fontTools.ttLib import TTFont\n",
    "from PIL import Image, ImageDraw, ImageFont"
   ]
  },
  {
   "cell_type": "code",
   "execution_count": 2,
   "metadata": {
    "collapsed": false,
    "jupyter": {
     "outputs_hidden": false
    },
    "tags": []
   },
   "outputs": [],
   "source": [
    "img_size = 128\n",
    "ttf_path = \"../data/raw_ttf/\"\n",
    "save_path = f\"../data/raw_png_{str(img_size)}/\""
   ]
  },
  {
   "cell_type": "code",
   "execution_count": 3,
   "metadata": {
    "collapsed": false,
    "jupyter": {
     "outputs_hidden": false
    },
    "tags": []
   },
   "outputs": [],
   "source": [
    "def get_existing_chars(filename):\n",
    "    ttfont = TTFont(filename)\n",
    "    return list({chr(key) for table in ttfont['cmap'].tables for key in table.cmap.keys()})\n",
    "\n",
    "def get_image(font, char, size=img_size):\n",
    "    img = Image.new('L', (1000,1000), 255)\n",
    "\n",
    "    draw = ImageDraw.Draw(img)\n",
    "    draw.text((200,200), char, font=font)\n",
    "\n",
    "    npimg = 255 - np.array(img)\n",
    "    wmin = npimg.sum(0).nonzero()[0].min()\n",
    "    wmax = npimg.sum(0).nonzero()[0].max()\n",
    "    hmin = npimg.sum(1).nonzero()[0].min()\n",
    "    hmax = npimg.sum(1).nonzero()[0].max()\n",
    "\n",
    "    npimg = 255 - npimg[hmin:hmax+1,wmin:wmax+1]\n",
    "\n",
    "    whdiff = (wmax-wmin) - (hmax-hmin)\n",
    "    wmargin = abs(whdiff) // 2 if whdiff < 0 else 0\n",
    "    hmargin = abs(whdiff) // 2 if whdiff >= 0 else 0\n",
    "\n",
    "    npimg = np.pad(npimg, ((hmargin, hmargin), (wmargin, wmargin)),\n",
    "                       'constant', constant_values=255)\n",
    "    img = Image.fromarray(npimg).resize((size, size), resample=Image.BILINEAR)\n",
    "    return img\n"
   ]
  },
  {
   "cell_type": "code",
   "execution_count": 4,
   "metadata": {
    "collapsed": false,
    "jupyter": {
     "outputs_hidden": false
    },
    "tags": []
   },
   "outputs": [],
   "source": [
    "# utf-8\n",
    "def get_all_korean():\n",
    "\n",
    "    def nextKorLetterFrom(letter):\n",
    "        lastLetterInt = 15572643\n",
    "        if not letter:\n",
    "            return '가'\n",
    "        a = letter\n",
    "        b = a.encode('utf8')\n",
    "        c = int(b.hex(), 16)\n",
    "\n",
    "        if c == lastLetterInt:\n",
    "            return False\n",
    "\n",
    "        d = hex(c + 1)\n",
    "        e = bytearray.fromhex(d[2:])\n",
    "\n",
    "        flag = True\n",
    "        while flag:\n",
    "            try:\n",
    "                r = e.decode('utf-8')\n",
    "                flag = False\n",
    "            except UnicodeDecodeError:\n",
    "                c = c+1\n",
    "                d = hex(c)\n",
    "                e = bytearray.fromhex(d[2:])\n",
    "        return e.decode()\n",
    "\n",
    "    returns = []\n",
    "    flag = True\n",
    "    k = ''\n",
    "    while flag:\n",
    "        k = nextKorLetterFrom(k)\n",
    "        if k is False:\n",
    "            flag = False\n",
    "        else:\n",
    "            returns.append(k)\n",
    "    return returns\n"
   ]
  },
  {
   "cell_type": "code",
   "execution_count": 5,
   "metadata": {
    "collapsed": false,
    "jupyter": {
     "outputs_hidden": false
    },
    "tags": []
   },
   "outputs": [],
   "source": [
    "ak = get_all_korean()\n",
    "eng = \"abcdefghijklmnopqrstuvwxyzABCDEFGHIJKLMNOPQRSTUVWXYZ\"\n",
    "kl = \"ㄱㄴㄷㄹㅁㅂㅅㅇㅈㅊㅋㅌㅍㅎㄲㄸㅃㅆㅉㅏㅑㅓㅕㅗㅛㅜㅠㅡㅣㅐㅒㅔㅖㅘㅙㅚㅝㅞㅟㅢ\"\n",
    "sm = \"0123456789!@#$%^&*()-_=+,.[]<>{}?/~♡♥\"\n",
    "all_letters = ak + [*eng] + [*kl] + [*sm]\n",
    "fd = ttf_path\n",
    "ttfs = [(fd+f, f.split(\".ttf\")[0]) for f in os.listdir(fd) if \".ttf\" in f]\n",
    "png_fd = save_path"
   ]
  },
  {
   "cell_type": "code",
   "execution_count": 6,
   "metadata": {
    "collapsed": false,
    "jupyter": {
     "outputs_hidden": false
    },
    "tags": []
   },
   "outputs": [
    {
     "name": "stderr",
     "output_type": "stream",
     "text": [
      " 20%|█▉        | 74/377 [17:45<1:43:27, 20.49s/it, files=171848, passed=654881]1 extra bytes in post.stringData array\n",
      " 27%|██▋       | 103/377 [23:48<47:53, 10.49s/it, files=227427, passed=923290]  1 extra bytes in post.stringData array\n",
      " 52%|█████▏    | 196/377 [41:33<43:56, 14.57s/it, files=394896, passed=1783645]  1 extra bytes in post.stringData array\n",
      " 89%|████████▉ | 335/377 [1:11:49<19:09, 27.37s/it, files=689833, passed=3030444]1 extra bytes in post.stringData array\n",
      "100%|██████████| 377/377 [1:20:40<00:00, 12.84s/it, files=769433, passed=3420068]\n"
     ]
    }
   ],
   "source": [
    "chardf = pd.DataFrame(ak)\n",
    "chardf.to_parquet(f\"{save_path}all_korean.parquet\")\n",
    "pbar = tqdm(range(len(ttfs)))\n",
    "# pbar = tqdm(range(1))\n",
    "c = 0\n",
    "for i in pbar:\n",
    "    ttf = ttfs[i]\n",
    "    # ttf = test_ttf[0]\n",
    "    filename = ttf[0]\n",
    "    try:\n",
    "        font = ImageFont.truetype(filename,255)\n",
    "        existing_chars = get_existing_chars(filename)\n",
    "        savepics = True\n",
    "    except:\n",
    "        savepics = False\n",
    "    if savepics:\n",
    "        for j in range(len(chardf)):\n",
    "        # for j in range(10):\n",
    "            if not os.path.exists(png_fd+'%s__%s.png'%(ttf[1],str(j))):\n",
    "                char = chardf.iloc[j].values[0]\n",
    "                if char in existing_chars:\n",
    "                    try:\n",
    "                        img = get_image(font, char)\n",
    "                        with open(png_fd+'%s__%s.png'%(ttf[1],str(j)), \"wb\") as f:\n",
    "                            img.save(f, \"PNG\")\n",
    "                    except:\n",
    "                        # print(ttf[1], ttf[2], char)\n",
    "                        c += 1\n",
    "                else:\n",
    "                    c += 1\n",
    "    pbar.set_postfix(passed=str(c), files=str(len(os.listdir(png_fd))))"
   ]
  },
  {
   "cell_type": "code",
   "execution_count": 7,
   "metadata": {
    "collapsed": false,
    "jupyter": {
     "outputs_hidden": false
    },
    "tags": []
   },
   "outputs": [
    {
     "name": "stderr",
     "output_type": "stream",
     "text": [
      " 20%|█▉        | 74/377 [17:37<1:36:46, 19.16s/it, files=171848, passed=654881]1 extra bytes in post.stringData array\n",
      " 27%|██▋       | 103/377 [23:20<46:33, 10.20s/it, files=227427, passed=923290]  1 extra bytes in post.stringData array\n",
      " 52%|█████▏    | 196/377 [41:13<44:33, 14.77s/it, files=394896, passed=1783645]  1 extra bytes in post.stringData array\n",
      " 89%|████████▉ | 335/377 [1:11:43<19:18, 27.59s/it, files=689833, passed=3030444]1 extra bytes in post.stringData array\n",
      "100%|██████████| 377/377 [1:20:37<00:00, 12.83s/it, files=769433, passed=3420068]\n"
     ]
    }
   ],
   "source": [
    "img_size = 96\n",
    "ttf_path = \"../data/raw_ttf/\"\n",
    "save_path = f\"../data/raw_png_{str(img_size)}/\"\n",
    "ak = get_all_korean()\n",
    "eng = \"abcdefghijklmnopqrstuvwxyzABCDEFGHIJKLMNOPQRSTUVWXYZ\"\n",
    "kl = \"ㄱㄴㄷㄹㅁㅂㅅㅇㅈㅊㅋㅌㅍㅎㄲㄸㅃㅆㅉㅏㅑㅓㅕㅗㅛㅜㅠㅡㅣㅐㅒㅔㅖㅘㅙㅚㅝㅞㅟㅢ\"\n",
    "sm = \"0123456789!@#$%^&*()-_=+,.[]<>{}?/~♡♥\"\n",
    "all_letters = ak + [*eng] + [*kl] + [*sm]\n",
    "fd = ttf_path\n",
    "ttfs = [(fd+f, f.split(\".ttf\")[0]) for f in os.listdir(fd) if \".ttf\" in f]\n",
    "png_fd = save_path\n",
    "chardf = pd.DataFrame(ak)\n",
    "chardf.to_parquet(f\"{save_path}all_korean.parquet\")\n",
    "pbar = tqdm(range(len(ttfs)))\n",
    "# pbar = tqdm(range(1))\n",
    "c = 0\n",
    "for i in pbar:\n",
    "    ttf = ttfs[i]\n",
    "    # ttf = test_ttf[0]\n",
    "    filename = ttf[0]\n",
    "    try:\n",
    "        font = ImageFont.truetype(filename,255)\n",
    "        existing_chars = get_existing_chars(filename)\n",
    "        savepics = True\n",
    "    except:\n",
    "        savepics = False\n",
    "    if savepics:\n",
    "        for j in range(len(chardf)):\n",
    "        # for j in range(10):\n",
    "            if not os.path.exists(png_fd+'%s__%s.png'%(ttf[1],str(j))):\n",
    "                char = chardf.iloc[j].values[0]\n",
    "                if char in existing_chars:\n",
    "                    try:\n",
    "                        img = get_image(font, char)\n",
    "                        with open(png_fd+'%s__%s.png'%(ttf[1],str(j)), \"wb\") as f:\n",
    "                            img.save(f, \"PNG\")\n",
    "                    except:\n",
    "                        # print(ttf[1], ttf[2], char)\n",
    "                        c += 1\n",
    "                else:\n",
    "                    c += 1\n",
    "    pbar.set_postfix(passed=str(c), files=str(len(os.listdir(png_fd))))"
   ]
  },
  {
   "cell_type": "code",
   "execution_count": null,
   "metadata": {},
   "outputs": [],
   "source": []
  }
 ],
 "metadata": {
  "environment": {
   "kernel": "python3",
   "name": ".m116",
   "type": "gcloud",
   "uri": "gcr.io/deeplearning-platform-release/:m116"
  },
  "kernelspec": {
   "display_name": "Python 3",
   "language": "python",
   "name": "python3"
  },
  "language_info": {
   "codemirror_mode": {
    "name": "ipython",
    "version": 3
   },
   "file_extension": ".py",
   "mimetype": "text/x-python",
   "name": "python",
   "nbconvert_exporter": "python",
   "pygments_lexer": "ipython3",
   "version": "3.10.13"
  }
 },
 "nbformat": 4,
 "nbformat_minor": 4
}
