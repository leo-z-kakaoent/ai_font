{
 "cells": [
  {
   "cell_type": "code",
   "execution_count": 1,
   "id": "307ca772-94e9-42f9-9026-5b768e83e007",
   "metadata": {
    "tags": []
   },
   "outputs": [],
   "source": [
    "import os"
   ]
  },
  {
   "cell_type": "code",
   "execution_count": 2,
   "id": "9b6af5a8-cbff-4d97-b28f-c4d51380e830",
   "metadata": {
    "tags": []
   },
   "outputs": [
    {
     "data": {
      "text/plain": [
       "'\\nraw -> size96 -> seen\\nraw -> size96 -> unseen\\nraw -> size128 -> seen\\nraw -> size128 -> unseen\\n'"
      ]
     },
     "execution_count": 2,
     "metadata": {},
     "output_type": "execute_result"
    }
   ],
   "source": [
    "'''\n",
    "raw -> size96 -> seen\n",
    "raw -> size96 -> unseen\n",
    "raw -> size128 -> seen\n",
    "raw -> size128 -> unseen\n",
    "'''"
   ]
  },
  {
   "cell_type": "code",
   "execution_count": 3,
   "id": "9f5c83c6-3c0d-4494-aad5-b49e42afbef6",
   "metadata": {
    "tags": []
   },
   "outputs": [],
   "source": [
    "os.makedirs(\"data/zipfiles/raw/size96/seen\")\n",
    "os.makedirs(\"data/zipfiles/raw/size96/unseen\")\n",
    "os.makedirs(\"data/zipfiles/raw/size128/seen\")\n",
    "os.makedirs(\"data/zipfiles/raw/size128/unseen\")"
   ]
  },
  {
   "cell_type": "code",
   "execution_count": 4,
   "id": "c02c332a-401e-4f7c-adb6-384376aad3b5",
   "metadata": {
    "tags": []
   },
   "outputs": [],
   "source": [
    "from google.cloud import storage\n",
    "\n",
    "bucket_name = \"leo_font\"\n",
    "storage_client = storage.Client()\n",
    "bucket = storage_client.bucket(bucket_name)\n",
    "blob = bucket.blob(\"leo_font/zipfiles/aifont.zip\")\n",
    "blob.download_to_filename(\"data/zipfiles/aifont.zip\")\n"
   ]
  },
  {
   "cell_type": "code",
   "execution_count": 5,
   "id": "d37289da-b9fa-4eab-b0b3-79fb4599d1f1",
   "metadata": {
    "tags": []
   },
   "outputs": [],
   "source": [
    "import zipfile\n",
    "zipfile.ZipFile('data/zipfiles/aifont.zip').extractall(\"data/zipfiles/raw/\")"
   ]
  },
  {
   "cell_type": "code",
   "execution_count": 6,
   "id": "6c0f2cfe-2d2d-4f00-9839-0ab8915a92a7",
   "metadata": {
    "tags": []
   },
   "outputs": [
    {
     "name": "stdout",
     "output_type": "stream",
     "text": [
      "769334\n",
      "99\n",
      "769334\n",
      "99\n"
     ]
    }
   ],
   "source": [
    "print(len(os.listdir(\"data/zipfiles/raw/size96/seen\")))\n",
    "print(len(os.listdir(\"data/zipfiles/raw/size96/unseen\")))\n",
    "print(len(os.listdir(\"data/zipfiles/raw/size128/seen\")))\n",
    "print(len(os.listdir(\"data/zipfiles/raw/size128/unseen\")))"
   ]
  },
  {
   "cell_type": "code",
   "execution_count": 6,
   "id": "7115a7b7-f53a-4ee6-8a0e-dc3a993bddfc",
   "metadata": {
    "tags": []
   },
   "outputs": [
    {
     "ename": "FileNotFoundError",
     "evalue": "[Errno 2] No such file or directory: 'data/raw/unseens/png128/'",
     "output_type": "error",
     "traceback": [
      "\u001b[0;31m---------------------------------------------------------------------------\u001b[0m",
      "\u001b[0;31mFileNotFoundError\u001b[0m                         Traceback (most recent call last)",
      "Cell \u001b[0;32mIn[6], line 1\u001b[0m\n\u001b[0;32m----> 1\u001b[0m pbar \u001b[38;5;241m=\u001b[39m tqdm(\u001b[43mos\u001b[49m\u001b[38;5;241;43m.\u001b[39;49m\u001b[43mlistdir\u001b[49m\u001b[43m(\u001b[49m\u001b[43msource_fd\u001b[49m\u001b[43m)\u001b[49m)\n\u001b[1;32m      2\u001b[0m \u001b[38;5;28;01mfor\u001b[39;00m f \u001b[38;5;129;01min\u001b[39;00m pbar:\n\u001b[1;32m      3\u001b[0m     shutil\u001b[38;5;241m.\u001b[39mcopy(source_fd\u001b[38;5;241m+\u001b[39mf, dest_fd\u001b[38;5;241m+\u001b[39mf)\n",
      "\u001b[0;31mFileNotFoundError\u001b[0m: [Errno 2] No such file or directory: 'data/raw/unseens/png128/'"
     ]
    }
   ],
   "source": [
    "# pbar = tqdm(os.listdir(source_fd))\n",
    "# for f in pbar:\n",
    "#     shutil.copy(source_fd+f, dest_fd+f)"
   ]
  },
  {
   "cell_type": "code",
   "execution_count": 34,
   "id": "cbcdf7c2-cb34-4b35-bdc1-37d83eefcaa6",
   "metadata": {
    "tags": []
   },
   "outputs": [
    {
     "data": {
      "text/plain": [
       "'/home/jupyter/ai_font/aifont.zip'"
      ]
     },
     "execution_count": 34,
     "metadata": {},
     "output_type": "execute_result"
    }
   ],
   "source": [
    "# shutil.make_archive('aifont', 'zip', 'data/zipfiles/raw/')"
   ]
  },
  {
   "cell_type": "code",
   "execution_count": 35,
   "id": "e4bd773f-f70e-4e6c-8184-81bf93b77aac",
   "metadata": {
    "tags": []
   },
   "outputs": [],
   "source": [
    "# from google.cloud import storage\n",
    "\n",
    "# storage_client = storage.Client()\n",
    "# bucket = storage_client.bucket('leo_font')\n",
    "\n",
    "# blob = bucket.blob(\"leo_font/zipfiles/aifont.zip\")\n",
    "# blob.upload_from_filename('/home/jupyter/ai_font/aifont.zip')"
   ]
  },
  {
   "cell_type": "code",
   "execution_count": null,
   "id": "a1cea037-9475-400e-9eb9-d54f8a661175",
   "metadata": {},
   "outputs": [],
   "source": []
  }
 ],
 "metadata": {
  "environment": {
   "kernel": "conda-root-py",
   "name": "workbench-notebooks.m120",
   "type": "gcloud",
   "uri": "us-docker.pkg.dev/deeplearning-platform-release/gcr.io/workbench-notebooks:m120"
  },
  "kernelspec": {
   "display_name": "Python 3 (ipykernel) (Local)",
   "language": "python",
   "name": "conda-root-py"
  },
  "language_info": {
   "codemirror_mode": {
    "name": "ipython",
    "version": 3
   },
   "file_extension": ".py",
   "mimetype": "text/x-python",
   "name": "python",
   "nbconvert_exporter": "python",
   "pygments_lexer": "ipython3",
   "version": "3.10.14"
  }
 },
 "nbformat": 4,
 "nbformat_minor": 5
}
