{
 "cells": [
  {
   "cell_type": "code",
   "execution_count": 1,
   "id": "307ca772-94e9-42f9-9026-5b768e83e007",
   "metadata": {
    "tags": []
   },
   "outputs": [],
   "source": [
    "import os"
   ]
  },
  {
   "cell_type": "code",
   "execution_count": 10,
   "id": "9b6af5a8-cbff-4d97-b28f-c4d51380e830",
   "metadata": {
    "tags": []
   },
   "outputs": [
    {
     "data": {
      "text/plain": [
       "'\\nraw -> size96 -> seen\\nraw -> size96 -> unseen\\nraw -> size128 -> seen\\nraw -> size128 -> unseen\\n'"
      ]
     },
     "execution_count": 10,
     "metadata": {},
     "output_type": "execute_result"
    }
   ],
   "source": [
    "'''\n",
    "raw -> size96 -> seen\n",
    "raw -> size96 -> unseen\n",
    "raw -> size128 -> seen\n",
    "raw -> size128 -> unseen\n",
    "'''"
   ]
  },
  {
   "cell_type": "code",
   "execution_count": 15,
   "id": "9f5c83c6-3c0d-4494-aad5-b49e42afbef6",
   "metadata": {
    "tags": []
   },
   "outputs": [],
   "source": [
    "os.makedirs(\"data/zipfiles/raw/size96/seen\")\n",
    "os.makedirs(\"data/zipfiles/raw/size96/unseen\")\n",
    "os.makedirs(\"data/zipfiles/raw/size128/seen\")\n",
    "os.makedirs(\"data/zipfiles/raw/size128/unseen\")"
   ]
  },
  {
   "cell_type": "code",
   "execution_count": 18,
   "id": "adba5bc9-e2ad-49df-aea2-99feae0d151b",
   "metadata": {
    "tags": []
   },
   "outputs": [],
   "source": [
    "import shutil\n",
    "from tqdm import tqdm"
   ]
  },
  {
   "cell_type": "code",
   "execution_count": 32,
   "id": "8d29cc55-9a68-4a2f-b8ad-f450444348c1",
   "metadata": {
    "tags": []
   },
   "outputs": [],
   "source": [
    "source_fd = \"data/raw/unseens/png128/\"\n",
    "dest_fd = \"data/zipfiles/raw/size128/unseen/\""
   ]
  },
  {
   "cell_type": "code",
   "execution_count": 33,
   "id": "7115a7b7-f53a-4ee6-8a0e-dc3a993bddfc",
   "metadata": {
    "tags": []
   },
   "outputs": [
    {
     "name": "stderr",
     "output_type": "stream",
     "text": [
      "100%|██████████| 99/99 [00:00<00:00, 2051.02it/s]\n"
     ]
    }
   ],
   "source": [
    "pbar = tqdm(os.listdir(source_fd))\n",
    "for f in pbar:\n",
    "    shutil.copy(source_fd+f, dest_fd+f)"
   ]
  },
  {
   "cell_type": "code",
   "execution_count": null,
   "id": "45bac7d3-aa62-4d91-a6ff-774f8d815a68",
   "metadata": {},
   "outputs": [],
   "source": [
    "shutil.copy(\"./data/raw/seens/png96/data/raw_png_96\",)"
   ]
  },
  {
   "cell_type": "code",
   "execution_count": 31,
   "id": "efe42db5-c4d2-4019-b46c-d6c39687a47c",
   "metadata": {
    "collapsed": true,
    "jupyter": {
     "outputs_hidden": true
    },
    "tags": []
   },
   "outputs": [
    {
     "data": {
      "text/plain": [
       "['UhBee Howl__7560.png',\n",
       " 'twice nayeon_6__10118.png',\n",
       " 'UhBee Sunhong__10108.png',\n",
       " 'SeoulHangang Jang B__4284.png',\n",
       " 'SeoulHangang Jang B__1971.png',\n",
       " 'twice dahyun_4__10611.png',\n",
       " 'twice nayeon_6__7560.png',\n",
       " 'twice nayeon_6__10611.png',\n",
       " 'MapoDPP__5516.png',\n",
       " 'twice nayeon_6__6545.png',\n",
       " 'UhBee Howl__2968.png',\n",
       " 'UhBee Howl__6545.png',\n",
       " 'UhBee Howl__0.png',\n",
       " 'twice dahyun_4__8820.png',\n",
       " 'UhBee Howl__8820.png',\n",
       " 'UhBee Howl__1292.png',\n",
       " 'UhBee Sunhong__7560.png',\n",
       " 'twice nayeon_6__2968.png',\n",
       " 'twice dahyun_4__8887.png',\n",
       " 'MapoDPP__2324.png',\n",
       " 'twice nayeon_6__1292.png',\n",
       " 'SeoulHangang Jang B__7143.png',\n",
       " 'SeoulHangang Jang B__10118.png',\n",
       " 'twice dahyun_4__1971.png',\n",
       " 'twice nayeon_6__3722.png',\n",
       " 'twice nayeon_6__5646.png',\n",
       " 'twice dahyun_4__10108.png',\n",
       " 'twice dahyun_4__9545.png',\n",
       " 'SeoulHangang Jang B__177.png',\n",
       " 'UhBee Sunhong__6545.png',\n",
       " 'twice dahyun_4__5516.png',\n",
       " 'UhBee Howl__5516.png',\n",
       " 'MapoDPP__10611.png',\n",
       " 'twice nayeon_6__1971.png',\n",
       " 'twice nayeon_6__5516.png',\n",
       " 'MapoDPP__7560.png',\n",
       " 'SeoulHangang Jang B__8820.png',\n",
       " 'twice nayeon_6__7143.png',\n",
       " 'MapoDPP__8820.png',\n",
       " 'twice nayeon_6__177.png',\n",
       " 'twice dahyun_4__7560.png',\n",
       " 'UhBee Sunhong__8820.png',\n",
       " 'twice dahyun_4__3528.png',\n",
       " 'SeoulHangang Jang B__1292.png',\n",
       " 'twice nayeon_6__4284.png',\n",
       " 'twice dahyun_4__8316.png',\n",
       " 'UhBee Howl__4284.png',\n",
       " 'SeoulHangang Jang B__2968.png',\n",
       " 'twice dahyun_4__4284.png',\n",
       " 'SeoulHangang Jang B__7560.png',\n",
       " 'MapoDPP__4284.png',\n",
       " 'twice dahyun_4__6545.png',\n",
       " 'SeoulHangang Jang B__6545.png',\n",
       " 'UhBee Sunhong__5516.png',\n",
       " 'twice dahyun_4__5646.png',\n",
       " 'twice dahyun_4__3722.png',\n",
       " 'twice nayeon_6__8316.png',\n",
       " 'SeoulHangang Jang B__5516.png',\n",
       " 'SeoulHangang Jang B__2324.png',\n",
       " 'UhBee Howl__10108.png',\n",
       " 'MapoDPP__10108.png',\n",
       " 'twice nayeon_6__8887.png',\n",
       " 'SeoulHangang Jang B__5646.png',\n",
       " 'UhBee Howl__3528.png',\n",
       " 'twice dahyun_4__177.png',\n",
       " 'UhBee Sunhong__1292.png',\n",
       " 'twice nayeon_6__2324.png',\n",
       " 'UhBee Sunhong__10611.png',\n",
       " 'twice nayeon_6__3528.png',\n",
       " 'MapoDPP__1292.png',\n",
       " 'UhBee Sunhong__2968.png',\n",
       " 'SeoulHangang Jang B__3722.png',\n",
       " 'UhBee Sunhong__2324.png',\n",
       " 'twice nayeon_6__10108.png',\n",
       " 'UhBee Sunhong__4284.png',\n",
       " 'twice dahyun_4__2324.png',\n",
       " 'twice dahyun_4__2968.png',\n",
       " 'SeoulHangang Jang B__3528.png',\n",
       " 'twice nayeon_6__9545.png',\n",
       " 'SeoulHangang Jang B__9545.png',\n",
       " 'twice dahyun_4__7143.png',\n",
       " 'MapoDPP__0.png',\n",
       " 'twice nayeon_6__0.png',\n",
       " 'twice dahyun_4__1292.png',\n",
       " 'twice dahyun_4__0.png',\n",
       " 'SeoulHangang Jang B__10108.png',\n",
       " 'UhBee Sunhong__0.png',\n",
       " 'twice nayeon_6__8820.png',\n",
       " 'MapoDPP__2968.png',\n",
       " 'UhBee Howl__2324.png',\n",
       " 'SeoulHangang Jang B__8316.png',\n",
       " 'twice dahyun_4__10118.png',\n",
       " 'UhBee Howl__10611.png',\n",
       " 'MapoDPP__3528.png',\n",
       " 'SeoulHangang Jang B__0.png',\n",
       " 'MapoDPP__6545.png',\n",
       " 'UhBee Sunhong__3528.png',\n",
       " 'SeoulHangang Jang B__8887.png',\n",
       " 'SeoulHangang Jang B__10611.png']"
      ]
     },
     "execution_count": 31,
     "metadata": {},
     "output_type": "execute_result"
    }
   ],
   "source": [
    "os.listdir(\"./data/raw/unseens/png128\")"
   ]
  },
  {
   "cell_type": "code",
   "execution_count": 34,
   "id": "cbcdf7c2-cb34-4b35-bdc1-37d83eefcaa6",
   "metadata": {
    "tags": []
   },
   "outputs": [
    {
     "data": {
      "text/plain": [
       "'/home/jupyter/ai_font/aifont.zip'"
      ]
     },
     "execution_count": 34,
     "metadata": {},
     "output_type": "execute_result"
    }
   ],
   "source": [
    "shutil.make_archive('aifont', 'zip', 'data/zipfiles/raw/')"
   ]
  },
  {
   "cell_type": "code",
   "execution_count": 35,
   "id": "e4bd773f-f70e-4e6c-8184-81bf93b77aac",
   "metadata": {
    "tags": []
   },
   "outputs": [],
   "source": [
    "from google.cloud import storage\n",
    "\n",
    "storage_client = storage.Client()\n",
    "bucket = storage_client.bucket('leo_font')\n",
    "\n",
    "blob = bucket.blob(\"leo_font/zipfiles/aifont.zip\")\n",
    "blob.upload_from_filename('/home/jupyter/ai_font/aifont.zip')"
   ]
  },
  {
   "cell_type": "code",
   "execution_count": null,
   "id": "a1cea037-9475-400e-9eb9-d54f8a661175",
   "metadata": {},
   "outputs": [],
   "source": []
  }
 ],
 "metadata": {
  "environment": {
   "kernel": "conda-root-py",
   "name": "workbench-notebooks.m117",
   "type": "gcloud",
   "uri": "us-docker.pkg.dev/deeplearning-platform-release/gcr.io/workbench-notebooks:m117"
  },
  "kernelspec": {
   "display_name": "Python 3 (ipykernel)",
   "language": "python",
   "name": "conda-root-py"
  },
  "language_info": {
   "codemirror_mode": {
    "name": "ipython",
    "version": 3
   },
   "file_extension": ".py",
   "mimetype": "text/x-python",
   "name": "python",
   "nbconvert_exporter": "python",
   "pygments_lexer": "ipython3",
   "version": "3.10.13"
  }
 },
 "nbformat": 4,
 "nbformat_minor": 5
}
