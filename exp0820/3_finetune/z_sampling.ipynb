{
 "cells": [
  {
   "cell_type": "code",
   "execution_count": 1,
   "id": "af18fb08-d2ce-4f26-9ca9-e2dc0425ced4",
   "metadata": {},
   "outputs": [
    {
     "name": "stdout",
     "output_type": "stream",
     "text": [
      "pygame 2.5.2 (SDL 2.28.2, Python 3.10.14)\n",
      "Hello from the pygame community. https://www.pygame.org/contribute.html\n"
     ]
    }
   ],
   "source": [
    "import math\n",
    "import os\n",
    "from tqdm.auto import tqdm\n",
    "\n",
    "import torch\n",
    "import torch.nn.functional as F\n",
    "from torchvision import transforms\n",
    "from torch.utils.data import DataLoader\n",
    "\n",
    "from diffusers.optimization import get_scheduler\n",
    "from google.cloud import storage\n",
    "from dataset import CollateFN\n",
    "from model import FontDiffuserModel, FontDiffuserModelDPM, FontDiffuserDPMPipeline\n",
    "from build import build_unet, build_style_encoder, build_content_encoder, build_ddpm_scheduler\n",
    "from args import SampleArgs\n",
    "from utils import x0_from_epsilon, reNormalize_img, normalize_mean_std, save_model, load_model\n",
    "from y_sample_dataset import SamplingDataset"
   ]
  },
  {
   "cell_type": "code",
   "execution_count": 2,
   "id": "bdcd4a22-a455-41a3-97c1-3fc04c389bf8",
   "metadata": {},
   "outputs": [
    {
     "name": "stdout",
     "output_type": "stream",
     "text": [
      "Load the down block  DownBlock2D\n",
      "Load the down block  MCADownBlock2D\n",
      "The style_attention cross attention dim in Down Block 1 layer is 1024\n",
      "The style_attention cross attention dim in Down Block 2 layer is 1024\n",
      "Load the down block  MCADownBlock2D\n",
      "The style_attention cross attention dim in Down Block 1 layer is 1024\n",
      "The style_attention cross attention dim in Down Block 2 layer is 1024\n",
      "Load the down block  DownBlock2D\n",
      "Load the up block  UpBlock2D\n",
      "Load the up block  StyleRSIUpBlock2D\n",
      "Load the up block  StyleRSIUpBlock2D\n",
      "Load the up block  UpBlock2D\n",
      "Param count for Ds initialized parameters: 20591296\n",
      "Get CG-GAN Style Encoder!\n",
      "Param count for Ds initialized parameters: 1187008\n",
      "Get CG-GAN Content Encoder!\n"
     ]
    }
   ],
   "source": [
    "args = SampleArgs(itern=str(0))\n",
    "unet = build_unet(args=args)\n",
    "style_encoder = build_style_encoder(args=args)\n",
    "content_encoder = build_content_encoder(args=args)\n",
    "noise_scheduler = build_ddpm_scheduler(args)\n",
    "storage_client = storage.Client(args.bucket_name)\n",
    "bucket = storage_client.bucket(args.bucket_name)"
   ]
  },
  {
   "cell_type": "code",
   "execution_count": 3,
   "id": "e6f2aad9-591f-4b36-80cd-ae6a3b23a41f",
   "metadata": {
    "tags": []
   },
   "outputs": [],
   "source": [
    "ds = SamplingDataset(args, target_font=\"플레이브밤비\")\n",
    "dl = torch.utils.data.DataLoader(\n",
    "    ds,\n",
    "    shuffle=False,\n",
    "    batch_size=args.batchsize,\n",
    "    collate_fn=CollateFN())"
   ]
  },
  {
   "cell_type": "code",
   "execution_count": null,
   "id": "ff567f24-78a2-478c-b310-3b6734faef0c",
   "metadata": {
    "tags": []
   },
   "outputs": [
    {
     "data": {
      "application/vnd.jupyter.widget-view+json": {
       "model_id": "d0976e0bf26249e6934bc8b6881c2b63",
       "version_major": 2,
       "version_minor": 0
      },
      "text/plain": [
       "  0%|          | 0/250 [00:00<?, ?it/s]"
      ]
     },
     "metadata": {},
     "output_type": "display_data"
    },
    {
     "name": "stderr",
     "output_type": "stream",
     "text": [
      "/home/jupyter/ai_font/exp0820/3_finetune/model.py:88: FutureWarning: Accessing config attribute `style_encoder` directly via 'FontDiffuserModelDPM' object attribute is deprecated. Please access 'style_encoder' over 'FontDiffuserModelDPM's config object instead, e.g. 'unet.config.style_encoder'.\n",
      "  style_img_feature, _, style_residual_features = self.style_encoder(style_images)\n",
      "/home/jupyter/ai_font/exp0820/3_finetune/model.py:94: FutureWarning: Accessing config attribute `content_encoder` directly via 'FontDiffuserModelDPM' object attribute is deprecated. Please access 'content_encoder' over 'FontDiffuserModelDPM's config object instead, e.g. 'unet.config.content_encoder'.\n",
      "  content_img_feture, content_residual_features = self.content_encoder(content_images)\n",
      "/home/jupyter/ai_font/exp0820/3_finetune/model.py:97: FutureWarning: Accessing config attribute `content_encoder` directly via 'FontDiffuserModelDPM' object attribute is deprecated. Please access 'content_encoder' over 'FontDiffuserModelDPM's config object instead, e.g. 'unet.config.content_encoder'.\n",
      "  style_content_feature, style_content_res_features = self.content_encoder(style_images)\n",
      "/home/jupyter/ai_font/exp0820/3_finetune/model.py:102: FutureWarning: Accessing config attribute `unet` directly via 'FontDiffuserModelDPM' object attribute is deprecated. Please access 'unet' over 'FontDiffuserModelDPM's config object instead, e.g. 'unet.config.unet'.\n",
      "  out = self.unet(\n"
     ]
    },
    {
     "data": {
      "application/vnd.jupyter.widget-view+json": {
       "model_id": "743aa913fb0c4b0e9d86ef12ac37b8b4",
       "version_major": 2,
       "version_minor": 0
      },
      "text/plain": [
       "  0%|          | 0/250 [00:00<?, ?it/s]"
      ]
     },
     "metadata": {},
     "output_type": "display_data"
    },
    {
     "data": {
      "application/vnd.jupyter.widget-view+json": {
       "model_id": "9d41398805664b44a8cbf805c8b1af11",
       "version_major": 2,
       "version_minor": 0
      },
      "text/plain": [
       "  0%|          | 0/250 [00:00<?, ?it/s]"
      ]
     },
     "metadata": {},
     "output_type": "display_data"
    },
    {
     "data": {
      "application/vnd.jupyter.widget-view+json": {
       "model_id": "031b9b68040d4fe591f888218e7792b6",
       "version_major": 2,
       "version_minor": 0
      },
      "text/plain": [
       "  0%|          | 0/250 [00:00<?, ?it/s]"
      ]
     },
     "metadata": {},
     "output_type": "display_data"
    },
    {
     "data": {
      "application/vnd.jupyter.widget-view+json": {
       "model_id": "49db9b55b2ed4896a68dc245ff5b2627",
       "version_major": 2,
       "version_minor": 0
      },
      "text/plain": [
       "  0%|          | 0/250 [00:00<?, ?it/s]"
      ]
     },
     "metadata": {},
     "output_type": "display_data"
    },
    {
     "data": {
      "application/vnd.jupyter.widget-view+json": {
       "model_id": "42dab679cbf84783b49128dd10ac4bc8",
       "version_major": 2,
       "version_minor": 0
      },
      "text/plain": [
       "  0%|          | 0/250 [00:00<?, ?it/s]"
      ]
     },
     "metadata": {},
     "output_type": "display_data"
    }
   ],
   "source": [
    "# itern = 30000\n",
    "itern = 14000\n",
    "while itern <= 30000:\n",
    "    args = SampleArgs(itern=str(itern))\n",
    "    content_encoder.load_state_dict(load_model(bucket, args.content_encoder_path))\n",
    "    style_encoder.load_state_dict(load_model(bucket, args.style_encoder_path))\n",
    "    unet.load_state_dict(load_model(bucket, args.unet_path))\n",
    "\n",
    "    model = FontDiffuserModelDPM(\n",
    "        unet=unet,\n",
    "        style_encoder=style_encoder,\n",
    "        content_encoder=content_encoder)\n",
    "\n",
    "    model = model.cuda()\n",
    "\n",
    "    train_scheduler = build_ddpm_scheduler(args=args)\n",
    "\n",
    "    pipe = FontDiffuserDPMPipeline(\n",
    "            model=model,\n",
    "            ddpm_train_scheduler=train_scheduler,\n",
    "            model_type=args.model_type,\n",
    "            guidance_type=args.guidance_type,\n",
    "            guidance_scale=args.guidance_scale,\n",
    "        )\n",
    "\n",
    "    os.makedirs(args.savefd, exist_ok=True)\n",
    "    pbar = tqdm(dl)\n",
    "    for data in pbar:\n",
    "        content_image = data['content_img'].cuda()\n",
    "        style_image = data['style_img'].cuda()\n",
    "        contents = data['content']\n",
    "\n",
    "        images = pipe.generate(\n",
    "            content_images=content_image,\n",
    "            style_images=style_image,\n",
    "            batch_size=content_image.shape[0],\n",
    "            order=args.order,\n",
    "            num_inference_step=args.num_inference_steps,\n",
    "            content_encoder_downsample_size=args.content_encoder_downsample_size,\n",
    "            t_start=args.t_start,\n",
    "            t_end=args.t_end,\n",
    "            dm_size=args.content_image_size,\n",
    "            algorithm_type=args.algorithm_type,\n",
    "            skip_type=args.skip_type,\n",
    "            method=args.method,\n",
    "            correcting_x0_fn=args.correcting_x0_fn)\n",
    "        for i in range(len(images)):\n",
    "            path = f\"{args.savefd}/{ds.target_font}__{contents[i]}.png\"\n",
    "            images[i].save(path)\n",
    "            pbar.set_postfix(path=path)\n",
    "            \n",
    "    itern += 1000"
   ]
  },
  {
   "cell_type": "code",
   "execution_count": null,
   "id": "e8d4afcd-45fe-4d25-b997-7f5181e14164",
   "metadata": {},
   "outputs": [],
   "source": []
  }
 ],
 "metadata": {
  "environment": {
   "kernel": "conda-env-pytorch-pytorch",
   "name": "workbench-notebooks.m122",
   "type": "gcloud",
   "uri": "us-docker.pkg.dev/deeplearning-platform-release/gcr.io/workbench-notebooks:m122"
  },
  "kernelspec": {
   "display_name": "PyTorch 1-13 (Local)",
   "language": "python",
   "name": "conda-env-pytorch-pytorch"
  },
  "language_info": {
   "codemirror_mode": {
    "name": "ipython",
    "version": 3
   },
   "file_extension": ".py",
   "mimetype": "text/x-python",
   "name": "python",
   "nbconvert_exporter": "python",
   "pygments_lexer": "ipython3",
   "version": "3.10.14"
  }
 },
 "nbformat": 4,
 "nbformat_minor": 5
}
