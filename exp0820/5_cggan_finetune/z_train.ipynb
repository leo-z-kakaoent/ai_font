{
 "cells": [
  {
   "cell_type": "code",
   "execution_count": 1,
   "id": "7c500fa1-b6d2-4e15-a2cb-5a14c3614429",
   "metadata": {
    "tags": []
   },
   "outputs": [],
   "source": [
    "import torch\n",
    "import os\n",
    "import numpy as np\n",
    "\n",
    "from tqdm import tqdm\n",
    "from options import TrainOptions\n",
    "from x_dataset import CGGANDataset\n",
    "from model import CHARACTERModel\n",
    "from utils import save_model\n",
    "\n",
    "from google.cloud import storage"
   ]
  },
  {
   "cell_type": "code",
   "execution_count": 2,
   "id": "04f2cdea-8f31-413a-86ae-d5c85237d890",
   "metadata": {
    "tags": []
   },
   "outputs": [],
   "source": [
    "opt = TrainOptions()   # get training options"
   ]
  },
  {
   "cell_type": "code",
   "execution_count": 3,
   "id": "d56feb46-f944-4b02-81e1-22fe312ccadb",
   "metadata": {
    "tags": []
   },
   "outputs": [],
   "source": [
    "storage_client = storage.Client(opt.bucket_name)\n",
    "bucket = storage_client.bucket(opt.bucket_name)"
   ]
  },
  {
   "cell_type": "code",
   "execution_count": 4,
   "id": "a1e90de0-45c7-41ef-8c19-7fc44132b52c",
   "metadata": {
    "tags": []
   },
   "outputs": [],
   "source": [
    "dataset = CGGANDataset(args=opt)\n",
    "train_loader = torch.utils.data.DataLoader(\n",
    "    dataset, batch_size=opt.batch_size,\n",
    "    shuffle=True, sampler=None, drop_last=True, num_workers=int(opt.num_threads))"
   ]
  },
  {
   "cell_type": "code",
   "execution_count": 5,
   "id": "6bbda0d4-4508-4089-aca3-3e52431ad07a",
   "metadata": {
    "tags": []
   },
   "outputs": [
    {
     "name": "stdout",
     "output_type": "stream",
     "text": [
      "Param count for Ds initialized parameters: 19541696\n",
      "Param count for Ds initialized parameters: 20591296\n",
      "Param count for Ds initialized parameters: 27289027\n"
     ]
    }
   ],
   "source": [
    "model = CHARACTERModel(opt=opt)"
   ]
  },
  {
   "cell_type": "code",
   "execution_count": null,
   "id": "148f15b8-5746-4884-8124-6b4fd787a527",
   "metadata": {
    "tags": []
   },
   "outputs": [
    {
     "name": "stderr",
     "output_type": "stream",
     "text": [
      " 14%|█▍        | 303276/2200000 [108:34:17<651:54:22,  1.24s/it, lr=0.000069306931] "
     ]
    }
   ],
   "source": [
    "total_iters = 0                # the total number of training iterations\n",
    "total_steps = 440000*5\n",
    "pbar = tqdm(total=total_steps)\n",
    "while total_iters < total_steps:    # outer loop for different epochs; we save the model by <epoch_count>, <epoch_count>+<save_latest_freq>\n",
    "    model.train() \n",
    "\n",
    "    for i, data in enumerate(train_loader):  # inner loop within one epoch         \n",
    "        model.set_input(data)         # unpack data from dataset and apply preprocessing\n",
    "        model.optimize_parameters()   # calculate loss functions, get gradients, update network weights\n",
    "        \n",
    "        if total_iters % 10000 == 0:\n",
    "            state_dicts = model.get_state_dicts()\n",
    "            for k,v in state_dicts.items():\n",
    "                save_model(opt, bucket, v, f\"{k}__{total_iters}\")\n",
    "            newlr = model.update_learning_rate()     \n",
    "            pbar.set_postfix(lr=f'{newlr:.{12}f}')# update learning rates at the end of every epoch.\n",
    "        \n",
    "        pbar.update(1)\n",
    "        total_iters += 1\n",
    "        "
   ]
  },
  {
   "cell_type": "code",
   "execution_count": null,
   "id": "8c7f552c-787d-4c9c-80fc-55180c1ae434",
   "metadata": {},
   "outputs": [],
   "source": []
  }
 ],
 "metadata": {
  "environment": {
   "kernel": "conda-env-pytorch-pytorch",
   "name": "workbench-notebooks.m123",
   "type": "gcloud",
   "uri": "us-docker.pkg.dev/deeplearning-platform-release/gcr.io/workbench-notebooks:m123"
  },
  "kernelspec": {
   "display_name": "PyTorch 1-13 (Local)",
   "language": "python",
   "name": "conda-env-pytorch-pytorch"
  },
  "language_info": {
   "codemirror_mode": {
    "name": "ipython",
    "version": 3
   },
   "file_extension": ".py",
   "mimetype": "text/x-python",
   "name": "python",
   "nbconvert_exporter": "python",
   "pygments_lexer": "ipython3",
   "version": "3.10.14"
  }
 },
 "nbformat": 4,
 "nbformat_minor": 5
}
