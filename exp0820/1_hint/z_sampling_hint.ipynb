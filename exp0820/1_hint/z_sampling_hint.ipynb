{
 "cells": [
  {
   "cell_type": "code",
   "execution_count": 1,
   "id": "2595ab4d-c2b9-4040-9705-4c38573ab8ce",
   "metadata": {
    "tags": []
   },
   "outputs": [
    {
     "name": "stdout",
     "output_type": "stream",
     "text": [
      "pygame 2.5.2 (SDL 2.28.2, Python 3.10.14)\n",
      "Hello from the pygame community. https://www.pygame.org/contribute.html\n"
     ]
    }
   ],
   "source": [
    "import math\n",
    "import os\n",
    "from tqdm.auto import tqdm\n",
    "\n",
    "import torch\n",
    "import torch.nn.functional as F\n",
    "from torchvision import transforms\n",
    "from torch.utils.data import DataLoader\n",
    "\n",
    "from diffusers.optimization import get_scheduler\n",
    "from google.cloud import storage\n",
    "\n",
    "from model import FontDiffuserModel, FontDiffuserModelDPM, FontDiffuserDPMPipeline\n",
    "from build import build_unet, build_style_encoder, build_content_encoder, build_ddpm_scheduler\n",
    "from args import SampleArgs\n",
    "from utils import x0_from_epsilon, reNormalize_img, normalize_mean_std, save_model, load_model"
   ]
  },
  {
   "cell_type": "code",
   "execution_count": 2,
   "id": "863491f1-717e-444c-8d39-d4035c1f6e00",
   "metadata": {
    "tags": []
   },
   "outputs": [
    {
     "name": "stdout",
     "output_type": "stream",
     "text": [
      "Load the down block  DownBlock2D\n",
      "Load the down block  MCADownBlock2D\n",
      "The style_attention cross attention dim in Down Block 1 layer is 1024\n",
      "The style_attention cross attention dim in Down Block 2 layer is 1024\n",
      "Load the down block  MCADownBlock2D\n",
      "The style_attention cross attention dim in Down Block 1 layer is 1024\n",
      "The style_attention cross attention dim in Down Block 2 layer is 1024\n",
      "Load the down block  DownBlock2D\n",
      "Load the up block  UpBlock2D\n",
      "Load the up block  StyleRSIUpBlock2D\n",
      "Load the up block  StyleRSIUpBlock2D\n",
      "Load the up block  UpBlock2D\n",
      "Param count for Ds initialized parameters: 20591296\n",
      "Get CG-GAN Style Encoder!\n",
      "Param count for Ds initialized parameters: 1187008\n",
      "Get CG-GAN Content Encoder!\n"
     ]
    }
   ],
   "source": [
    "args = SampleArgs()\n",
    "unet = build_unet(args=args)\n",
    "style_encoder = build_style_encoder(args=args)\n",
    "content_encoder = build_content_encoder(args=args)\n",
    "noise_scheduler = build_ddpm_scheduler(args)\n",
    "storage_client = storage.Client(args.bucket_name)\n",
    "bucket = storage_client.bucket(args.bucket_name)"
   ]
  },
  {
   "cell_type": "code",
   "execution_count": 3,
   "id": "1a658330-fa08-4d58-858c-c59fd7eb587e",
   "metadata": {
    "tags": []
   },
   "outputs": [],
   "source": [
    "content_encoder.load_state_dict(load_model(bucket, args.content_encoder_path))\n",
    "style_encoder.load_state_dict(load_model(bucket, args.style_encoder_path))\n",
    "unet.load_state_dict(load_model(bucket, args.unet_path))\n",
    "\n",
    "model = FontDiffuserModelDPM(\n",
    "    unet=unet,\n",
    "    style_encoder=style_encoder,\n",
    "    content_encoder=content_encoder)\n",
    "\n",
    "model = model.cuda()\n",
    "\n",
    "train_scheduler = build_ddpm_scheduler(args=args)\n",
    "\n",
    "pipe = FontDiffuserDPMPipeline(\n",
    "        model=model,\n",
    "        ddpm_train_scheduler=train_scheduler,\n",
    "        model_type=args.model_type,\n",
    "        guidance_type=args.guidance_type,\n",
    "        guidance_scale=args.guidance_scale,\n",
    "    )"
   ]
  },
  {
   "cell_type": "code",
   "execution_count": 86,
   "id": "72259cfb-931c-4e32-bd95-58656a0da7da",
   "metadata": {
    "tags": []
   },
   "outputs": [],
   "source": [
    "from PIL import Image\n",
    "\n",
    "resolution = 96\n",
    "normal_transform = transforms.Compose([\n",
    "        transforms.Resize((resolution, resolution)),\n",
    "        transforms.ToTensor(),\n",
    "        transforms.Normalize([0.5], [0.5])\n",
    "    ])\n",
    "\n",
    "mt = transforms.Compose([\n",
    "        transforms.Resize((resolution, resolution)),\n",
    "        transforms.ToTensor()])\n",
    "\n",
    "def mask_transform(img):\n",
    "    mask = mt(img)\n",
    "    mask[mask<0.5] = 0\n",
    "    mask[mask>0.5] = 1\n",
    "    return mask"
   ]
  },
  {
   "cell_type": "code",
   "execution_count": 76,
   "id": "4b8b7a36-4827-4e4a-a4cd-d4ac2d16cc27",
   "metadata": {
    "tags": []
   },
   "outputs": [],
   "source": [
    "cfd = \"/home/jupyter/ai_font/data/exp0820/processed/train_whole/시스템굴림\"\n",
    "sfd = \"/home/jupyter/ai_font/data/exp0820/processed/train_assembled/플레이브밤비\"\n",
    "ifd = \"/home/jupyter/ai_font/data/exp0820/processed/train_whole/플레이브밤비\"\n",
    "mfd = \"/home/jupyter/ai_font/data/exp0820/processed/train_masks/플레이브밤비\"\n",
    "savefd = \"/home/jupyter/ai_font/data/exp0820/report/hint/플레이브밤비\""
   ]
  },
  {
   "cell_type": "code",
   "execution_count": 77,
   "id": "69c0423a-8540-4fed-a3d6-545e40bc78f5",
   "metadata": {
    "tags": []
   },
   "outputs": [],
   "source": [
    "letters = [f[-5] for f in os.listdir(ifd) if f.endswith(\".png\")]"
   ]
  },
  {
   "cell_type": "code",
   "execution_count": 78,
   "id": "04060ea2-3301-4bc4-942c-c8269ca96a60",
   "metadata": {
    "tags": []
   },
   "outputs": [
    {
     "data": {
      "text/plain": [
       "79"
      ]
     },
     "execution_count": 78,
     "metadata": {},
     "output_type": "execute_result"
    }
   ],
   "source": [
    "len(letters)"
   ]
  },
  {
   "cell_type": "code",
   "execution_count": 87,
   "id": "08ab53c6-f3b6-41b3-8527-12743bf25000",
   "metadata": {
    "tags": []
   },
   "outputs": [],
   "source": [
    "def get_all_korean():\n",
    "\n",
    "    def nextKorLetterFrom(letter):\n",
    "        lastLetterInt = 15572643\n",
    "        if not letter:\n",
    "            return '가'\n",
    "        a = letter\n",
    "        b = a.encode('utf8')\n",
    "        c = int(b.hex(), 16)\n",
    "\n",
    "        if c == lastLetterInt:\n",
    "            return False\n",
    "\n",
    "        d = hex(c + 1)\n",
    "        e = bytearray.fromhex(d[2:])\n",
    "\n",
    "        flag = True\n",
    "        while flag:\n",
    "            try:\n",
    "                r = e.decode('utf-8')\n",
    "                flag = False\n",
    "            except UnicodeDecodeError:\n",
    "                c = c+1\n",
    "                d = hex(c)\n",
    "                e = bytearray.fromhex(d[2:])\n",
    "        return e.decode()\n",
    "\n",
    "    returns = []\n",
    "    flag = True\n",
    "    k = ''\n",
    "    while flag:\n",
    "        k = nextKorLetterFrom(k)\n",
    "        if k is False:\n",
    "            flag = False\n",
    "        else:\n",
    "            returns.append(k)\n",
    "    return returns\n",
    "\n",
    "mapper = {}\n",
    "for letter in get_all_korean():\n",
    "    ch1 = (ord(letter) - ord('가'))//588\n",
    "    ch2 = ((ord(letter) - ord('가')) - (588*ch1)) // 28\n",
    "    ch3 = (ord(letter) - ord('가')) - (588*ch1) - 28*ch2\n",
    "    mapper[(ch1, ch2, ch3)] = letter\n",
    "    \n",
    "def target_letters(mfd, letter, mapper):\n",
    "#     hlist = [0,1,2,3,4,5,6,7,20] # ㅏㅐㅑㅒㅓㅔㅕㅖㅣ\n",
    "#     vlist = [8,12,13,17,18] # ㅗㅛㅜㅠㅡ\n",
    "#     clist = [9,10,11,14,15,16,19] # ㅘㅙㅚㅝㅞㅟㅢ\n",
    "    \n",
    "    moeum_list = [0,1,2,3,20] # ㅏㅐㅑㅒㅣ\n",
    "    \n",
    "    ch1 = (ord(letter) - ord('가'))//588\n",
    "    ch2 = ((ord(letter) - ord('가')) - (588*ch1)) // 28\n",
    "    ch3 = (ord(letter) - ord('가')) - (588*ch1) - 28*ch2\n",
    "\n",
    "    maskcheck1 = os.path.exists(f\"{mfd}/플레이브밤비__{letter}_m1.png\")\n",
    "    maskcheck3 = os.path.exists(f\"{mfd}/플레이브밤비__{letter}_m3.png\")\n",
    "    \n",
    "    if (ch2 in moeum_list) & (ch3 != 0) & maskcheck1 & maskcheck3:\n",
    "        m1 = mask_transform(Image.open(f\"{mfd}/플레이브밤비__{letter}_m1.png\").convert(\"RGB\"))\n",
    "        m3 = mask_transform(Image.open(f\"{mfd}/플레이브밤비__{letter}_m3.png\").convert(\"RGB\"))\n",
    "        mask_image = m1*m3\n",
    "        targets = [mapper[(ch1,l2,ch3)] for l2 in moeum_list if l2 != ch2] \n",
    "    else:\n",
    "        targets = []\n",
    "        mask_image = None\n",
    "        \n",
    "    return targets, mask_image\n",
    "\n",
    "def imagize(x_sample):\n",
    "    x_sample = (x_sample / 2 + 0.5).clamp(0, 1)\n",
    "    x_sample = x_sample.cpu().permute(0, 2, 3, 1).numpy()\n",
    "    x_images = pipe.numpy_to_pil(x_sample)\n",
    "    return x_images"
   ]
  },
  {
   "cell_type": "code",
   "execution_count": 109,
   "id": "27a4a0f7-b912-4e72-901e-c16d5cc03975",
   "metadata": {
    "tags": []
   },
   "outputs": [
    {
     "data": {
      "application/vnd.jupyter.widget-view+json": {
       "model_id": "9d37857a7643465b9aeda9431ffcfb40",
       "version_major": 2,
       "version_minor": 0
      },
      "text/plain": [
       "  0%|          | 0/79 [00:00<?, ?it/s]"
      ]
     },
     "metadata": {},
     "output_type": "display_data"
    }
   ],
   "source": [
    "os.makedirs(savefd, exist_ok=True)\n",
    "for letter in tqdm(letters):\n",
    "    targets, mask_image = target_letters(mfd, letter, mapper)\n",
    "    if mask_image is not None:\n",
    "        inpaint_image = normal_transform(Image.open(f\"{ifd}/플레이브밤비__closing__{letter}.png\").convert(\"RGB\"))\n",
    "        mask_image = mask_image.unsqueeze(0).cuda()\n",
    "        inpaint_image = inpaint_image.unsqueeze(0).cuda()\n",
    "        for tetter in targets:\n",
    "            if os.path.exists(f\"{sfd}/플레이브밤비__closing__{tetter}.png\"):\n",
    "                content_image = normal_transform(Image.open(f\"{cfd}/시스템굴림__closing__{tetter}.png\").convert(\"RGB\"))\n",
    "                style_image = normal_transform(Image.open(f\"{sfd}/플레이브밤비__closing__{tetter}.png\").convert(\"RGB\"))\n",
    "                content_image = content_image.unsqueeze(0).cuda()\n",
    "                style_image = style_image.unsqueeze(0).cuda()\n",
    "\n",
    "                images = pipe.generate(\n",
    "                    content_images=content_image,\n",
    "                    style_images=style_image,\n",
    "                    mask_images=mask_image,\n",
    "                    inpaint_images=inpaint_image,\n",
    "                    batch_size=content_image.shape[0],\n",
    "                    order=args.order,\n",
    "                    num_inference_step=args.num_inference_steps,\n",
    "                    content_encoder_downsample_size=args.content_encoder_downsample_size,\n",
    "                    t_start=args.t_start,\n",
    "                    t_end=args.t_end,\n",
    "                    dm_size=args.content_image_size,\n",
    "                    algorithm_type=args.algorithm_type,\n",
    "                    skip_type=args.skip_type,\n",
    "                    method=args.method,\n",
    "                    correcting_x0_fn=args.correcting_x0_fn)\n",
    "                images[0].save(f\"{savefd}/플레이브밤비__hint__{tetter}.png\")"
   ]
  },
  {
   "cell_type": "code",
   "execution_count": 104,
   "id": "ae643015-3cf0-4f04-9ca0-ea3145104b1e",
   "metadata": {
    "tags": []
   },
   "outputs": [],
   "source": [
    "# sorted(os.listdir(\"/home/jupyter/ai_font/data/exp0820/processed/train_assembled/플레이브밤비\"))[2400:]"
   ]
  },
  {
   "cell_type": "code",
   "execution_count": 106,
   "id": "4b484d09-15f6-4d8d-a5b6-379f6326177c",
   "metadata": {},
   "outputs": [
    {
     "data": {
      "text/plain": [
       "['플레이브밤비__closing__ㅏ.png',\n",
       " '플레이브밤비__closing__ㅐ.png',\n",
       " '플레이브밤비__closing__ㄿ.png',\n",
       " '.ipynb_checkpoints',\n",
       " '플레이브밤비__closing__ㅊ.png',\n",
       " '플레이브밤비__closing__ㅉ.png',\n",
       " '플레이브밤비__closing__ㄶ.png',\n",
       " '플레이브밤비__closing__ㅋ.png',\n",
       " '플레이브밤비__closing__ㄳ.png',\n",
       " '플레이브밤비__closing__ㅖ.png',\n",
       " '플레이브밤비__closing__ㅆ.png',\n",
       " '플레이브밤비__closing__ㄹ.png',\n",
       " '플레이브밤비__closing__ㄷ.png',\n",
       " '플레이브밤비__closing__ㅎ.png',\n",
       " '플레이브밤비__closing__ㄽ.png',\n",
       " '플레이브밤비__closing__ㄺ.png',\n",
       " '플레이브밤비__closing__ㅚ.png',\n",
       " '플레이브밤비__closing__ㅣ.png',\n",
       " '플레이브밤비__closing__ㅘ.png',\n",
       " '플레이브밤비__closing__ㅀ.png',\n",
       " '플레이브밤비__closing__ㅟ.png',\n",
       " '플레이브밤비__closing__ㄾ.png',\n",
       " '플레이브밤비__closing__ㅃ.png',\n",
       " '플레이브밤비__closing__ㅝ.png',\n",
       " '플레이브밤비__closing__ㅙ.png',\n",
       " '플레이브밤비__closing__ㅞ.png',\n",
       " '플레이브밤비__closing__ㄴ.png',\n",
       " '플레이브밤비__closing__ㄱ.png',\n",
       " '플레이브밤비__closing__ㅑ.png',\n",
       " '플레이브밤비__closing__ㅓ.png',\n",
       " '플레이브밤비__closing__ㅗ.png',\n",
       " '플레이브밤비__closing__ㅜ.png',\n",
       " '플레이브밤비__closing__ㄼ.png',\n",
       " '플레이브밤비__closing__ㅄ.png',\n",
       " '플레이브밤비__closing__ㄸ.png',\n",
       " '플레이브밤비__closing__ㅅ.png',\n",
       " '플레이브밤비__closing__ㅈ.png',\n",
       " '플레이브밤비__closing__ㅌ.png',\n",
       " '플레이브밤비__closing__ㄻ.png',\n",
       " '플레이브밤비__closing__ㅍ.png',\n",
       " '플레이브밤비__closing__ㅇ.png',\n",
       " '플레이브밤비__closing__ㄵ.png',\n",
       " '플레이브밤비__closing__ㅢ.png',\n",
       " '플레이브밤비__closing__ㅂ.png',\n",
       " '플레이브밤비__closing__ㄲ.png']"
      ]
     },
     "execution_count": 106,
     "metadata": {},
     "output_type": "execute_result"
    }
   ],
   "source": [
    "os.listdir(\"/home/jupyter/ai_font/data/exp0820/processed/train_parts/플레이브밤비\")"
   ]
  },
  {
   "cell_type": "code",
   "execution_count": null,
   "id": "338e9048-e708-48b3-880c-8b470fd600a7",
   "metadata": {},
   "outputs": [],
   "source": [
    "\n"
   ]
  }
 ],
 "metadata": {
  "environment": {
   "kernel": "conda-env-pytorch-pytorch",
   "name": "workbench-notebooks.m122",
   "type": "gcloud",
   "uri": "us-docker.pkg.dev/deeplearning-platform-release/gcr.io/workbench-notebooks:m122"
  },
  "kernelspec": {
   "display_name": "PyTorch 1-13 (Local)",
   "language": "python",
   "name": "conda-env-pytorch-pytorch"
  },
  "language_info": {
   "codemirror_mode": {
    "name": "ipython",
    "version": 3
   },
   "file_extension": ".py",
   "mimetype": "text/x-python",
   "name": "python",
   "nbconvert_exporter": "python",
   "pygments_lexer": "ipython3",
   "version": "3.10.14"
  }
 },
 "nbformat": 4,
 "nbformat_minor": 5
}
