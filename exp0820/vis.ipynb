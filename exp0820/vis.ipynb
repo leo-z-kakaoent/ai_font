{
 "cells": [
  {
   "cell_type": "code",
   "execution_count": 267,
   "id": "ebcda7db-7efa-41cc-bb71-cbfc301d6042",
   "metadata": {
    "tags": []
   },
   "outputs": [],
   "source": [
    "import os\n",
    "from PIL import Image"
   ]
  },
  {
   "cell_type": "code",
   "execution_count": 307,
   "id": "0f933266-5ccc-4a71-8af9-f127e34d430d",
   "metadata": {
    "tags": []
   },
   "outputs": [],
   "source": [
    "fd = \"/home/jupyter/ai_font/data/exp0820/report/over/플레이브밤비\"\n",
    "files = sorted([f for f in os.listdir(fd) if f.endswith(\".png\")])"
   ]
  },
  {
   "cell_type": "code",
   "execution_count": 308,
   "id": "20f47736-c643-42ee-abbe-fe1b21bb0535",
   "metadata": {
    "tags": []
   },
   "outputs": [
    {
     "data": {
      "text/plain": [
       "214"
      ]
     },
     "execution_count": 308,
     "metadata": {},
     "output_type": "execute_result"
    }
   ],
   "source": [
    "len(files)"
   ]
  },
  {
   "cell_type": "code",
   "execution_count": 309,
   "id": "5e62a499-c170-49be-8885-31535d8c30cb",
   "metadata": {
    "tags": []
   },
   "outputs": [
    {
     "data": {
      "text/plain": [
       "['플레이브밤비__over__갊_갦.png',\n",
       " '플레이브밤비__over__갊_걂.png',\n",
       " '플레이브밤비__over__갊_긺.png',\n",
       " '플레이브밤비__over__갸_가.png',\n",
       " '플레이브밤비__over__갸_개.png',\n",
       " '플레이브밤비__over__갸_기.png',\n",
       " '플레이브밤비__over__닠_낰.png',\n",
       " '플레이브밤비__over__닠_냌.png',\n",
       " '플레이브밤비__over__닠_냨.png',\n",
       " '플레이브밤비__over__닦_댂.png',\n",
       " '플레이브밤비__over__닦_댞.png',\n",
       " '플레이브밤비__over__닦_딖.png',\n",
       " '플레이브밤비__over__돛_독.png',\n",
       " '플레이브밤비__over__돛_돆.png',\n",
       " '플레이브밤비__over__돛_돇.png',\n",
       " '플레이브밤비__over__돛_돈.png',\n",
       " '플레이브밤비__over__돛_돉.png',\n",
       " '플레이브밤비__over__돛_돊.png',\n",
       " '플레이브밤비__over__돛_돋.png',\n",
       " '플레이브밤비__over__돛_돌.png',\n",
       " '플레이브밤비__over__돛_돍.png',\n",
       " '플레이브밤비__over__돛_돎.png',\n",
       " '플레이브밤비__over__돛_돏.png',\n",
       " '플레이브밤비__over__돛_돐.png',\n",
       " '플레이브밤비__over__돛_돒.png',\n",
       " '플레이브밤비__over__돛_돓.png',\n",
       " '플레이브밤비__over__돛_돔.png',\n",
       " '플레이브밤비__over__돛_돖.png',\n",
       " '플레이브밤비__over__돛_돗.png',\n",
       " '플레이브밤비__over__돛_돘.png',\n",
       " '플레이브밤비__over__땍_딱.png',\n",
       " '플레이브밤비__over__땍_땎.png',\n",
       " '플레이브밤비__over__땍_땏.png',\n",
       " '플레이브밤비__over__땍_땐.png',\n",
       " '플레이브밤비__over__땍_땑.png',\n",
       " '플레이브밤비__over__땍_땒.png',\n",
       " '플레이브밤비__over__땍_땓.png',\n",
       " '플레이브밤비__over__땍_땔.png',\n",
       " '플레이브밤비__over__땍_땕.png',\n",
       " '플레이브밤비__over__땍_땖.png',\n",
       " '플레이브밤비__over__땍_땗.png',\n",
       " '플레이브밤비__over__땍_땘.png',\n",
       " '플레이브밤비__over__땍_땚.png',\n",
       " '플레이브밤비__over__땍_땛.png',\n",
       " '플레이브밤비__over__땍_땜.png',\n",
       " '플레이브밤비__over__땍_땞.png',\n",
       " '플레이브밤비__over__땍_땟.png',\n",
       " '플레이브밤비__over__땍_땠.png',\n",
       " '플레이브밤비__over__땍_땩.png',\n",
       " '플레이브밤비__over__땍_띡.png',\n",
       " '플레이브밤비__over__라_래.png',\n",
       " '플레이브밤비__over__라_랴.png',\n",
       " '플레이브밤비__over__라_리.png',\n",
       " '플레이브밤비__over__럽_럭.png',\n",
       " '플레이브밤비__over__럽_럮.png',\n",
       " '플레이브밤비__over__럽_럯.png',\n",
       " '플레이브밤비__over__럽_런.png',\n",
       " '플레이브밤비__over__럽_럱.png',\n",
       " '플레이브밤비__over__럽_럲.png',\n",
       " '플레이브밤비__over__럽_럳.png',\n",
       " '플레이브밤비__over__럽_럴.png',\n",
       " '플레이브밤비__over__럽_럵.png',\n",
       " '플레이브밤비__over__럽_럶.png',\n",
       " '플레이브밤비__over__럽_럷.png',\n",
       " '플레이브밤비__over__럽_럸.png',\n",
       " '플레이브밤비__over__럽_럺.png',\n",
       " '플레이브밤비__over__럽_럻.png',\n",
       " '플레이브밤비__over__럽_럼.png',\n",
       " '플레이브밤비__over__럽_럾.png',\n",
       " '플레이브밤비__over__럽_럿.png',\n",
       " '플레이브밤비__over__럽_렀.png',\n",
       " '플레이브밤비__over__롵_록.png',\n",
       " '플레이브밤비__over__롵_롞.png',\n",
       " '플레이브밤비__over__롵_롟.png',\n",
       " '플레이브밤비__over__롵_론.png',\n",
       " '플레이브밤비__over__롵_롡.png',\n",
       " '플레이브밤비__over__롵_롢.png',\n",
       " '플레이브밤비__over__롵_롣.png',\n",
       " '플레이브밤비__over__롵_롤.png',\n",
       " '플레이브밤비__over__롵_롥.png',\n",
       " '플레이브밤비__over__롵_롦.png',\n",
       " '플레이브밤비__over__롵_롧.png',\n",
       " '플레이브밤비__over__롵_롨.png',\n",
       " '플레이브밤비__over__롵_롪.png',\n",
       " '플레이브밤비__over__롵_롫.png',\n",
       " '플레이브밤비__over__롵_롬.png',\n",
       " '플레이브밤비__over__롵_롮.png',\n",
       " '플레이브밤비__over__롵_롯.png',\n",
       " '플레이브밤비__over__롵_롰.png',\n",
       " '플레이브밤비__over__많_막.png',\n",
       " '플레이브밤비__over__많_맊.png',\n",
       " '플레이브밤비__over__많_맋.png',\n",
       " '플레이브밤비__over__많_만.png',\n",
       " '플레이브밤비__over__많_맍.png',\n",
       " '플레이브밤비__over__많_맏.png',\n",
       " '플레이브밤비__over__많_말.png',\n",
       " '플레이브밤비__over__많_맑.png',\n",
       " '플레이브밤비__over__많_맒.png',\n",
       " '플레이브밤비__over__많_맓.png',\n",
       " '플레이브밤비__over__많_맔.png',\n",
       " '플레이브밤비__over__많_맖.png',\n",
       " '플레이브밤비__over__많_맗.png',\n",
       " '플레이브밤비__over__많_맘.png',\n",
       " '플레이브밤비__over__많_맚.png',\n",
       " '플레이브밤비__over__많_맛.png',\n",
       " '플레이브밤비__over__많_맜.png',\n",
       " '플레이브밤비__over__많_맪.png',\n",
       " '플레이브밤비__over__많_먆.png',\n",
       " '플레이브밤비__over__많_믾.png',\n",
       " '플레이브밤비__over__쁘_뿌.png',\n",
       " '플레이브밤비__over__삯_샋.png',\n",
       " '플레이브밤비__over__삯_샧.png',\n",
       " '플레이브밤비__over__삯_싟.png',\n",
       " '플레이브밤비__over__쏟_쏙.png',\n",
       " '플레이브밤비__over__쏟_쏚.png',\n",
       " '플레이브밤비__over__쏟_쏛.png',\n",
       " '플레이브밤비__over__쏟_쏜.png',\n",
       " '플레이브밤비__over__쏟_쏝.png',\n",
       " '플레이브밤비__over__쏟_쏞.png',\n",
       " '플레이브밤비__over__쏟_쏠.png',\n",
       " '플레이브밤비__over__쏟_쏡.png',\n",
       " '플레이브밤비__over__쏟_쏢.png',\n",
       " '플레이브밤비__over__쏟_쏤.png',\n",
       " '플레이브밤비__over__쏟_쏪.png',\n",
       " '플레이브밤비__over__쏟_쏬.png',\n",
       " '플레이브밤비__over__씩_싹.png',\n",
       " '플레이브밤비__over__씩_쌕.png',\n",
       " '플레이브밤비__over__씩_쌱.png',\n",
       " '플레이브밤비__over__읨_읙.png',\n",
       " '플레이브밤비__over__읨_읚.png',\n",
       " '플레이브밤비__over__읨_읛.png',\n",
       " '플레이브밤비__over__읨_읜.png',\n",
       " '플레이브밤비__over__읨_읝.png',\n",
       " '플레이브밤비__over__읨_읞.png',\n",
       " '플레이브밤비__over__읨_읟.png',\n",
       " '플레이브밤비__over__읨_읠.png',\n",
       " '플레이브밤비__over__읨_읡.png',\n",
       " '플레이브밤비__over__읨_읢.png',\n",
       " '플레이브밤비__over__읨_읣.png',\n",
       " '플레이브밤비__over__읨_읤.png',\n",
       " '플레이브밤비__over__읨_읦.png',\n",
       " '플레이브밤비__over__읨_읧.png',\n",
       " '플레이브밤비__over__읨_읪.png',\n",
       " '플레이브밤비__over__읨_읫.png',\n",
       " '플레이브밤비__over__읨_읬.png',\n",
       " '플레이브밤비__over__잃_앓.png',\n",
       " '플레이브밤비__over__잃_앯.png',\n",
       " '플레이브밤비__over__잃_얋.png',\n",
       " '플레이브밤비__over__쟨_잔.png',\n",
       " '플레이브밤비__over__쟨_잰.png',\n",
       " '플레이브밤비__over__쟨_쟌.png',\n",
       " '플레이브밤비__over__쟨_진.png',\n",
       " '플레이브밤비__over__줬_줙.png',\n",
       " '플레이브밤비__over__줬_줚.png',\n",
       " '플레이브밤비__over__줬_줛.png',\n",
       " '플레이브밤비__over__줬_줜.png',\n",
       " '플레이브밤비__over__줬_줝.png',\n",
       " '플레이브밤비__over__줬_줞.png',\n",
       " '플레이브밤비__over__줬_줟.png',\n",
       " '플레이브밤비__over__줬_줠.png',\n",
       " '플레이브밤비__over__줬_줡.png',\n",
       " '플레이브밤비__over__줬_줢.png',\n",
       " '플레이브밤비__over__줬_줣.png',\n",
       " '플레이브밤비__over__줬_줤.png',\n",
       " '플레이브밤비__over__줬_줦.png',\n",
       " '플레이브밤비__over__줬_줧.png',\n",
       " '플레이브밤비__over__줬_줨.png',\n",
       " '플레이브밤비__over__줬_줪.png',\n",
       " '플레이브밤비__over__줬_줫.png',\n",
       " '플레이브밤비__over__짚_잪.png',\n",
       " '플레이브밤비__over__짚_쟆.png',\n",
       " '플레이브밤비__over__짚_쟢.png',\n",
       " '플레이브밤비__over__짧_쨃.png',\n",
       " '플레이브밤비__over__짧_쨟.png',\n",
       " '플레이브밤비__over__짧_찗.png',\n",
       " '플레이브밤비__over__찧_짷.png',\n",
       " '플레이브밤비__over__찧_쨓.png',\n",
       " '플레이브밤비__over__찧_쨯.png',\n",
       " '플레이브밤비__over__찾_챚.png',\n",
       " '플레이브밤비__over__찾_챶.png',\n",
       " '플레이브밤비__over__찾_칮.png',\n",
       " '플레이브밤비__over__치_차.png',\n",
       " '플레이브밤비__over__치_채.png',\n",
       " '플레이브밤비__over__치_챠.png',\n",
       " '플레이브밤비__over__캐_카.png',\n",
       " '플레이브밤비__over__캐_캬.png',\n",
       " '플레이브밤비__over__캐_키.png',\n",
       " '플레이브밤비__over__탤_탈.png',\n",
       " '플레이브밤비__over__탤_택.png',\n",
       " '플레이브밤비__over__탤_탞.png',\n",
       " '플레이브밤비__over__탤_탟.png',\n",
       " '플레이브밤비__over__탤_탠.png',\n",
       " '플레이브밤비__over__탤_탡.png',\n",
       " '플레이브밤비__over__탤_탢.png',\n",
       " '플레이브밤비__over__탤_탣.png',\n",
       " '플레이브밤비__over__탤_탥.png',\n",
       " '플레이브밤비__over__탤_탦.png',\n",
       " '플레이브밤비__over__탤_탧.png',\n",
       " '플레이브밤비__over__탤_탨.png',\n",
       " '플레이브밤비__over__탤_탪.png',\n",
       " '플레이브밤비__over__탤_탫.png',\n",
       " '플레이브밤비__over__탤_탬.png',\n",
       " '플레이브밤비__over__탤_탮.png',\n",
       " '플레이브밤비__over__탤_탯.png',\n",
       " '플레이브밤비__over__탤_탰.png',\n",
       " '플레이브밤비__over__탤_턀.png',\n",
       " '플레이브밤비__over__탤_틸.png',\n",
       " '플레이브밤비__over__턔_타.png',\n",
       " '플레이브밤비__over__턔_태.png',\n",
       " '플레이브밤비__over__턔_탸.png',\n",
       " '플레이브밤비__over__턔_티.png',\n",
       " '플레이브밤비__over__핥_햁.png',\n",
       " '플레이브밤비__over__핥_햝.png',\n",
       " '플레이브밤비__over__핥_힕.png']"
      ]
     },
     "execution_count": 309,
     "metadata": {},
     "output_type": "execute_result"
    }
   ],
   "source": [
    "files"
   ]
  },
  {
   "cell_type": "code",
   "execution_count": 315,
   "id": "b5091d01-28ba-4c5b-b952-52e29a39a4d5",
   "metadata": {
    "tags": []
   },
   "outputs": [
    {
     "data": {
      "image/jpeg": "[encoded data removed]",
      "image/png": "[encoded data removed]",
      "text/plain": [
       "<PIL.PngImagePlugin.PngImageFile image mode=RGB size=96x96>"
      ]
     },
     "execution_count": 315,
     "metadata": {},
     "output_type": "execute_result"
    }
   ],
   "source": [
    "Image.open(f\"{fd}/{files[-6]}\")"
   ]
  },
  {
   "cell_type": "code",
   "execution_count": 18,
   "id": "dcf532e0-6b1d-4577-ad2d-9669a2d7b0e2",
   "metadata": {
    "tags": []
   },
   "outputs": [
    {
     "data": {
      "text/plain": [
       "'플레이브밤비__over__띡.png'"
      ]
     },
     "execution_count": 18,
     "metadata": {},
     "output_type": "execute_result"
    }
   ],
   "source": [
    "files[11]"
   ]
  },
  {
   "cell_type": "code",
   "execution_count": null,
   "id": "2d8144a9-524a-4cd7-b61c-7726dcf3ee9a",
   "metadata": {},
   "outputs": [],
   "source": []
  }
 ],
 "metadata": {
  "environment": {
   "kernel": "conda-base-py",
   "name": "workbench-notebooks.m122",
   "type": "gcloud",
   "uri": "us-docker.pkg.dev/deeplearning-platform-release/gcr.io/workbench-notebooks:m122"
  },
  "kernelspec": {
   "display_name": "Python 3 (ipykernel) (Local)",
   "language": "python",
   "name": "conda-base-py"
  },
  "language_info": {
   "codemirror_mode": {
    "name": "ipython",
    "version": 3
   },
   "file_extension": ".py",
   "mimetype": "text/x-python",
   "name": "python",
   "nbconvert_exporter": "python",
   "pygments_lexer": "ipython3",
   "version": "3.10.14"
  }
 },
 "nbformat": 4,
 "nbformat_minor": 5
}
