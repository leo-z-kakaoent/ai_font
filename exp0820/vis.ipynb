{
 "cells": [
  {
   "cell_type": "code",
   "execution_count": 1,
   "id": "ebcda7db-7efa-41cc-bb71-cbfc301d6042",
   "metadata": {
    "tags": []
   },
   "outputs": [],
   "source": [
    "import os\n",
    "from PIL import Image"
   ]
  },
  {
   "cell_type": "code",
   "execution_count": 2,
   "id": "0f933266-5ccc-4a71-8af9-f127e34d430d",
   "metadata": {
    "tags": []
   },
   "outputs": [],
   "source": [
    "fd0 = \"/home/jupyter/ai_font/data/exp0820/processed/train_whole/플레이브밤비\"\n",
    "fd1 = \"/home/jupyter/ai_font/data/exp0820/report/over/플레이브밤비\"\n",
    "files1 = sorted([f for f in os.listdir(fd1) if f.endswith(\".png\")])\n",
    "fd2 = \"/home/jupyter/ai_font/data/exp0820/report/finetune\"\n",
    "files2 = sorted([f for f in os.listdir(fd2) if \".\" not in f])"
   ]
  },
  {
   "cell_type": "code",
   "execution_count": 4,
   "id": "20f47736-c643-42ee-abbe-fe1b21bb0535",
   "metadata": {
    "tags": []
   },
   "outputs": [],
   "source": [
    "fd2 = \"/home/jupyter/ai_font/data/exp0820/report/finetune\""
   ]
  },
  {
   "cell_type": "code",
   "execution_count": 5,
   "id": "699762cb-d608-4285-a85e-fd0529f42269",
   "metadata": {
    "tags": []
   },
   "outputs": [
    {
     "data": {
      "text/plain": [
       "['i0',\n",
       " 'i1000',\n",
       " 'i10000',\n",
       " 'i11000',\n",
       " 'i12000',\n",
       " 'i13000',\n",
       " 'i14000',\n",
       " 'i15000',\n",
       " 'i16000',\n",
       " 'i17000',\n",
       " 'i18000',\n",
       " 'i19000',\n",
       " 'i2000',\n",
       " 'i20000',\n",
       " 'i21000',\n",
       " 'i22000',\n",
       " 'i23000',\n",
       " 'i24000',\n",
       " 'i25000',\n",
       " 'i26000',\n",
       " 'i27000',\n",
       " 'i28000',\n",
       " 'i29000',\n",
       " 'i3000',\n",
       " 'i30000',\n",
       " 'i4000',\n",
       " 'i5000',\n",
       " 'i6000',\n",
       " 'i7000',\n",
       " 'i8000',\n",
       " 'i9000']"
      ]
     },
     "execution_count": 5,
     "metadata": {},
     "output_type": "execute_result"
    }
   ],
   "source": [
    "sorted([f for f in os.listdir(fd2) if \".\" not in f])"
   ]
  },
  {
   "cell_type": "code",
   "execution_count": 6,
   "id": "5e62a499-c170-49be-8885-31535d8c30cb",
   "metadata": {
    "tags": []
   },
   "outputs": [],
   "source": [
    "import os\n",
    "import copy\n",
    "import numpy as np\n",
    "import pandas as pd\n",
    "from PIL import Image\n",
    "\n",
    "class ImageConcat:\n",
    "    def __init__(self, n_h, n_v, resolution=1000):\n",
    "        self.n_h = n_h\n",
    "        self.n_v = n_v\n",
    "        self.r = resolution\n",
    "        self.img = Image.new(\"L\", (self.n_h*self.r, self.n_v*self.r), color=255)# color=(255,255,255))\n",
    "        self.cursor = [0,0]\n",
    "        self.max_h = 0\n",
    "    \n",
    "    def move_cursor_h(self, r):\n",
    "        self.cursor[0] += r\n",
    "        if self.cursor[0] > self.max_h:\n",
    "            self.max_h = copy.deepcopy(self.cursor[0])\n",
    "        \n",
    "    def move_cursor_v(self):\n",
    "        self.cursor[1] += self.r\n",
    "        \n",
    "    def reset_cursor_h(self):\n",
    "        self.cursor[0] = 0\n",
    "        \n",
    "    def append_img(self, path, cut_margin=True, clip_white=False):\n",
    "        try:\n",
    "            img = Image.open(path).convert('L').resize((self.r,self.r), Image.BILINEAR)\n",
    "            if cut_margin:\n",
    "                img = self.cut_margin(img, clip_white=clip_white)\n",
    "            self.img.paste(img, tuple(self.cursor))\n",
    "            return img.size\n",
    "        except:\n",
    "            # print(f\"Not Appended: {path}\")\n",
    "            return None\n",
    "        \n",
    "    def add_letter(self, path, cut_margin=True, clip_white=False):\n",
    "        imgsize = self.append_img(path, cut_margin=cut_margin, clip_white=clip_white)\n",
    "        if imgsize is None:\n",
    "            self.move_cursor_h(self.r)\n",
    "        else:\n",
    "            self.move_cursor_h(imgsize[0])\n",
    "    \n",
    "    def add_space(self):\n",
    "        self.move_cursor_h(int(self.r/3))\n",
    "        \n",
    "    def enter(self):\n",
    "        self.move_cursor_v()\n",
    "        self.reset_cursor_h()\n",
    "        \n",
    "    def cut_margin(self, img, clip_white):\n",
    "        npimg = 255 - np.array(img)\n",
    "        if clip_white:\n",
    "            npimg[np.where(npimg<10)] = 0 \n",
    "        wmin = npimg.sum(0).nonzero()[0].min()\n",
    "        wmax = npimg.sum(0).nonzero()[0].max()\n",
    "        # hmin = npimg.sum(1).nonzero()[0].min()\n",
    "        # hmax = npimg.sum(1).nonzero()[0].max()\n",
    "\n",
    "        npimg = 255 - npimg[:,wmin:wmax+1]\n",
    "        img = Image.fromarray(npimg)\n",
    "        return img\n"
   ]
  },
  {
   "cell_type": "code",
   "execution_count": 7,
   "id": "b5091d01-28ba-4c5b-b952-52e29a39a4d5",
   "metadata": {
    "tags": []
   },
   "outputs": [],
   "source": [
    "letters = np.unique([f[-7] for f in files1])"
   ]
  },
  {
   "cell_type": "code",
   "execution_count": 8,
   "id": "73f0e6ff-32f9-4306-a7d2-7b21d76ac0c2",
   "metadata": {
    "tags": []
   },
   "outputs": [
    {
     "data": {
      "text/plain": [
       "array(['갊', '갸', '곬', '높', '뉑', '닠', '닦', '덤', '돛', '땍', '라', '럽', '롵',\n",
       "       '많', '벚', '뽱', '쁘', '삯', '셴', '쉽', '쏟', '씩', '얹', '없', '왼', '읨',\n",
       "       '잃', '쟨', '좋', '줬', '짚', '짧', '쫄', '쯷', '찧', '찾', '치', '캐', '탤',\n",
       "       '턔', '핥', '훨'], dtype='<U1')"
      ]
     },
     "execution_count": 8,
     "metadata": {},
     "output_type": "execute_result"
    }
   ],
   "source": [
    "letters"
   ]
  },
  {
   "cell_type": "code",
   "execution_count": 29,
   "id": "dcf532e0-6b1d-4577-ad2d-9669a2d7b0e2",
   "metadata": {
    "tags": []
   },
   "outputs": [],
   "source": [
    "a = []\n",
    "for l in letters:\n",
    "    tetters = [f[-5] for f in files1 if f[-7] == l]\n",
    "    a.append(len(tetters))"
   ]
  },
  {
   "cell_type": "code",
   "execution_count": 30,
   "id": "340fd211-f73e-4712-b48d-b29234c98ffb",
   "metadata": {
    "tags": []
   },
   "outputs": [
    {
     "data": {
      "text/plain": [
       "21"
      ]
     },
     "execution_count": 30,
     "metadata": {},
     "output_type": "execute_result"
    }
   ],
   "source": [
    "max(a)"
   ]
  },
  {
   "cell_type": "code",
   "execution_count": 32,
   "id": "2d8144a9-524a-4cd7-b61c-7726dcf3ee9a",
   "metadata": {},
   "outputs": [],
   "source": [
    "img = ImageConcat(n_v=len(letters), n_h=max(a)*2,resolution=96)"
   ]
  },
  {
   "cell_type": "code",
   "execution_count": 34,
   "id": "9a88bea9-8115-4881-8f78-3433c610a6d3",
   "metadata": {
    "tags": []
   },
   "outputs": [],
   "source": [
    "for l in letters:\n",
    "    img.add_letter(f\"{fd0}/플레이브밤비__closing__{l}.png\", cut_margin=False, clip_white=False)\n",
    "    img.enter()\n",
    "    tetters = [f[-5] for f in files1 if f[-7] == l]\n",
    "    for t in tetters:\n",
    "        img.add_letter(f\"{fd1}/플레이브밤비__over__{l}_{t}.png\", cut_margin=False, clip_white=False)\n",
    "    img.enter()"
   ]
  },
  {
   "cell_type": "code",
   "execution_count": 36,
   "id": "b06a7493-0037-4255-bb05-8756f90c468f",
   "metadata": {
    "tags": []
   },
   "outputs": [],
   "source": [
    "img.img.save(\"inpainting_vis.png\")"
   ]
  },
  {
   "cell_type": "code",
   "execution_count": 9,
   "id": "17a35a90-1e0e-46d8-81a3-1af9bba6afef",
   "metadata": {
    "tags": []
   },
   "outputs": [],
   "source": [
    "def get_all_korean():\n",
    "\n",
    "    def nextKorLetterFrom(letter):\n",
    "        lastLetterInt = 15572643\n",
    "        if not letter:\n",
    "            return '가'\n",
    "        a = letter\n",
    "        b = a.encode('utf8')\n",
    "        c = int(b.hex(), 16)\n",
    "\n",
    "        if c == lastLetterInt:\n",
    "            return False\n",
    "\n",
    "        d = hex(c + 1)\n",
    "        e = bytearray.fromhex(d[2:])\n",
    "\n",
    "        flag = True\n",
    "        while flag:\n",
    "            try:\n",
    "                r = e.decode('utf-8')\n",
    "                flag = False\n",
    "            except UnicodeDecodeError:\n",
    "                c = c+1\n",
    "                d = hex(c)\n",
    "                e = bytearray.fromhex(d[2:])\n",
    "        return e.decode()\n",
    "\n",
    "    returns = []\n",
    "    flag = True\n",
    "    k = ''\n",
    "    while flag:\n",
    "        k = nextKorLetterFrom(k)\n",
    "        if k is False:\n",
    "            flag = False\n",
    "        else:\n",
    "            returns.append(k)\n",
    "    return returns\n",
    "\n",
    "mapper = {}\n",
    "for letter in get_all_korean():\n",
    "    ch1 = (ord(letter) - ord('가'))//588\n",
    "    ch2 = ((ord(letter) - ord('가')) - (588*ch1)) // 28\n",
    "    ch3 = (ord(letter) - ord('가')) - (588*ch1) - 28*ch2\n",
    "    mapper[(ch1, ch2, ch3)] = letter\n",
    "\n",
    "def target_letters1(letter, mapper):\n",
    "    \n",
    "    ch1 = (ord(letter) - ord('가'))//588\n",
    "    ch2 = ((ord(letter) - ord('가')) - (588*ch1)) // 28\n",
    "    ch3 = (ord(letter) - ord('가')) - (588*ch1) - 28*ch2\n",
    "\n",
    "    targets = [mapper[(l1,ch2,ch3)] for l1 in range(19)] \n",
    "    return targets\n",
    "\n",
    "def target_letters2(letter, mapper):\n",
    "    hlist = [0,1,2,3,4,5,6,7,20] # ㅏㅐㅑㅒㅓㅔㅕㅖㅣ\n",
    "    vlist = [8,12,13,17,18] # ㅗㅛㅜㅠㅡ\n",
    "    clist = [9,10,11,14,15,16,19] # ㅘㅙㅚㅝㅞㅟㅢ\n",
    "    \n",
    "    ch1 = (ord(letter) - ord('가'))//588\n",
    "    ch2 = ((ord(letter) - ord('가')) - (588*ch1)) // 28\n",
    "    ch3 = (ord(letter) - ord('가')) - (588*ch1) - 28*ch2\n",
    "\n",
    "    # if ch2 in hlist:\n",
    "    #     targets = [mapper[(ch1,l2,ch3)] for l2 in hlist] \n",
    "    # elif ch2 in vlist:\n",
    "    #     targets = [mapper[(ch1,l2,ch3)] for l2 in vlist] \n",
    "    # else:\n",
    "    #     targets = [mapper[(ch1,l2,ch3)] for l2 in clist] \n",
    "    # return targets\n",
    "    targets = [mapper[(ch1,l2,ch3)] for l2 in range(21)] \n",
    "    return targets\n",
    "    \n",
    "\n",
    "def target_letters3(letter, mapper):\n",
    "    hlist = [0,1,2,3,4,5,6,7,20] # ㅏㅐㅑㅒㅓㅔㅕㅖㅣ\n",
    "    vlist = [8,12,13,17,18] # ㅗㅛㅜㅠㅡ\n",
    "    clist = [9,10,11,14,15,16,19] # ㅘㅙㅚㅝㅞㅟㅢ\n",
    "    \n",
    "    ch1 = (ord(letter) - ord('가'))//588\n",
    "    ch2 = ((ord(letter) - ord('가')) - (588*ch1)) // 28\n",
    "    ch3 = (ord(letter) - ord('가')) - (588*ch1) - 28*ch2\n",
    "\n",
    "    targets = [mapper[(ch1,ch2,l3)] for l3 in range(28)] \n",
    "    return targets\n"
   ]
  },
  {
   "cell_type": "code",
   "execution_count": 11,
   "id": "01cedb5f-b34e-4bf3-8d88-ab4574c34ca9",
   "metadata": {
    "tags": []
   },
   "outputs": [],
   "source": [
    "files2 = [f\"i{str(i*1000)}\" for i in range(20,31)]"
   ]
  },
  {
   "cell_type": "code",
   "execution_count": 12,
   "id": "e1c38d8a-e965-4dc6-a779-592e5f2d66bb",
   "metadata": {
    "tags": []
   },
   "outputs": [],
   "source": [
    "for exp in files2:\n",
    "    img = ImageConcat(n_v=len(letters)*4, n_h=20, resolution=96)\n",
    "    for l in letters:\n",
    "        img.add_letter(f\"{fd0}/플레이브밤비__closing__{l}.png\", cut_margin=False, clip_white=False)\n",
    "        img.enter()\n",
    "        tetters = target_letters1(l, mapper)\n",
    "        for i, t in enumerate(tetters):\n",
    "            tath = f\"{fd2}/{exp}/플레이브밤비__{t}.png\"\n",
    "            if os.path.exists(tath):\n",
    "                img.add_letter(tath, cut_margin=False, clip_white=False)\n",
    "            if i >= 20:\n",
    "                break\n",
    "        img.enter()\n",
    "        tetters = target_letters2(l, mapper)\n",
    "        for i, t in enumerate(tetters):\n",
    "            tath = f\"{fd2}/{exp}/플레이브밤비__{t}.png\"\n",
    "            if os.path.exists(tath):\n",
    "                img.add_letter(tath, cut_margin=False, clip_white=False)\n",
    "            if i >= 20:\n",
    "                break\n",
    "        img.enter()\n",
    "        tetters = target_letters3(l, mapper)\n",
    "        for i, t in enumerate(tetters):\n",
    "            tath = f\"{fd2}/{exp}/플레이브밤비__{t}.png\"\n",
    "            if os.path.exists(tath):\n",
    "                img.add_letter(tath, cut_margin=False, clip_white=False)\n",
    "            if i >= 20:\n",
    "                break\n",
    "        img.enter()\n",
    "    img.img.save(f\"finetune_{exp}.png\")"
   ]
  },
  {
   "cell_type": "code",
   "execution_count": 54,
   "id": "540deb65-fa86-43c4-8a8d-0f38e42dd042",
   "metadata": {
    "tags": []
   },
   "outputs": [
    {
     "data": {
      "text/plain": [
       "['i3000',\n",
       " '.ipynb_checkpoints',\n",
       " 'i14000',\n",
       " 'i6000',\n",
       " 'i16000',\n",
       " 'i1000',\n",
       " 'i11000',\n",
       " 'i17000',\n",
       " 'i2000',\n",
       " 'i9000',\n",
       " 'i0',\n",
       " 'i7000',\n",
       " 'Untitled.ipynb',\n",
       " 'i12000',\n",
       " 'i13000',\n",
       " 'i15000',\n",
       " 'i4000',\n",
       " 'i10000',\n",
       " 'i5000',\n",
       " 'i8000',\n",
       " 'i18000']"
      ]
     },
     "execution_count": 54,
     "metadata": {},
     "output_type": "execute_result"
    }
   ],
   "source": [
    "os.listdir(fd2)"
   ]
  },
  {
   "cell_type": "code",
   "execution_count": null,
   "id": "60d5df16-188b-4d6d-b1c7-c33a483e6fec",
   "metadata": {},
   "outputs": [],
   "source": []
  }
 ],
 "metadata": {
  "environment": {
   "kernel": "conda-base-py",
   "name": "workbench-notebooks.m122",
   "type": "gcloud",
   "uri": "us-docker.pkg.dev/deeplearning-platform-release/gcr.io/workbench-notebooks:m122"
  },
  "kernelspec": {
   "display_name": "Python 3 (ipykernel) (Local)",
   "language": "python",
   "name": "conda-base-py"
  },
  "language_info": {
   "codemirror_mode": {
    "name": "ipython",
    "version": 3
   },
   "file_extension": ".py",
   "mimetype": "text/x-python",
   "name": "python",
   "nbconvert_exporter": "python",
   "pygments_lexer": "ipython3",
   "version": "3.10.14"
  }
 },
 "nbformat": 4,
 "nbformat_minor": 5
}
