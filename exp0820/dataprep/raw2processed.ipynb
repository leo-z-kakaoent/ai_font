{
 "cells": [
  {
   "cell_type": "markdown",
   "id": "18cd6379-5b4c-4cf0-8ea4-1f9e19cc4b48",
   "metadata": {},
   "source": [
    "# Download Raw Data\n",
    "- whole\n",
    "- mask\n",
    "- part"
   ]
  },
  {
   "cell_type": "code",
   "execution_count": 5,
   "id": "c02b97ba-a53a-406c-b599-d74fe76f6cb1",
   "metadata": {
    "tags": []
   },
   "outputs": [
    {
     "name": "stdout",
     "output_type": "stream",
     "text": [
      "failed exp0820/raw/플레이브밤비2/parts/ to /home/jupyter/ai_font/data/exp0820/raw/플레이브밤비2/parts/.\n",
      "Downloaded exp0820/raw/플레이브밤비2/parts/ㄱ.png to /home/jupyter/ai_font/data/exp0820/raw/플레이브밤비2/parts/ㄱ.png\n",
      "Downloaded exp0820/raw/플레이브밤비2/parts/ㄱㄱ.png to /home/jupyter/ai_font/data/exp0820/raw/플레이브밤비2/parts/ㄱㄱ.png\n",
      "Downloaded exp0820/raw/플레이브밤비2/parts/ㄱㅅ.png to /home/jupyter/ai_font/data/exp0820/raw/플레이브밤비2/parts/ㄱㅅ.png\n",
      "Downloaded exp0820/raw/플레이브밤비2/parts/ㄴ.png to /home/jupyter/ai_font/data/exp0820/raw/플레이브밤비2/parts/ㄴ.png\n",
      "Downloaded exp0820/raw/플레이브밤비2/parts/ㄴㅈ.png to /home/jupyter/ai_font/data/exp0820/raw/플레이브밤비2/parts/ㄴㅈ.png\n",
      "Downloaded exp0820/raw/플레이브밤비2/parts/ㄴㅎ.png to /home/jupyter/ai_font/data/exp0820/raw/플레이브밤비2/parts/ㄴㅎ.png\n",
      "Downloaded exp0820/raw/플레이브밤비2/parts/ㄷ.png to /home/jupyter/ai_font/data/exp0820/raw/플레이브밤비2/parts/ㄷ.png\n",
      "Downloaded exp0820/raw/플레이브밤비2/parts/ㄷㄷ.png to /home/jupyter/ai_font/data/exp0820/raw/플레이브밤비2/parts/ㄷㄷ.png\n",
      "Downloaded exp0820/raw/플레이브밤비2/parts/ㄹ.png to /home/jupyter/ai_font/data/exp0820/raw/플레이브밤비2/parts/ㄹ.png\n",
      "Downloaded exp0820/raw/플레이브밤비2/parts/ㄹㄱ.png to /home/jupyter/ai_font/data/exp0820/raw/플레이브밤비2/parts/ㄹㄱ.png\n",
      "Downloaded exp0820/raw/플레이브밤비2/parts/ㄹㅁ.png to /home/jupyter/ai_font/data/exp0820/raw/플레이브밤비2/parts/ㄹㅁ.png\n",
      "Downloaded exp0820/raw/플레이브밤비2/parts/ㄹㅂ.png to /home/jupyter/ai_font/data/exp0820/raw/플레이브밤비2/parts/ㄹㅂ.png\n",
      "Downloaded exp0820/raw/플레이브밤비2/parts/ㄹㅅ.png to /home/jupyter/ai_font/data/exp0820/raw/플레이브밤비2/parts/ㄹㅅ.png\n",
      "Downloaded exp0820/raw/플레이브밤비2/parts/ㄹㅌ.png to /home/jupyter/ai_font/data/exp0820/raw/플레이브밤비2/parts/ㄹㅌ.png\n",
      "Downloaded exp0820/raw/플레이브밤비2/parts/ㄹㅍ.png to /home/jupyter/ai_font/data/exp0820/raw/플레이브밤비2/parts/ㄹㅍ.png\n",
      "Downloaded exp0820/raw/플레이브밤비2/parts/ㄹㅎ.png to /home/jupyter/ai_font/data/exp0820/raw/플레이브밤비2/parts/ㄹㅎ.png\n",
      "Downloaded exp0820/raw/플레이브밤비2/parts/ㅂ.png to /home/jupyter/ai_font/data/exp0820/raw/플레이브밤비2/parts/ㅂ.png\n",
      "Downloaded exp0820/raw/플레이브밤비2/parts/ㅂㅂ.png to /home/jupyter/ai_font/data/exp0820/raw/플레이브밤비2/parts/ㅂㅂ.png\n",
      "Downloaded exp0820/raw/플레이브밤비2/parts/ㅂㅅ.png to /home/jupyter/ai_font/data/exp0820/raw/플레이브밤비2/parts/ㅂㅅ.png\n",
      "Downloaded exp0820/raw/플레이브밤비2/parts/ㅅ.png to /home/jupyter/ai_font/data/exp0820/raw/플레이브밤비2/parts/ㅅ.png\n",
      "Downloaded exp0820/raw/플레이브밤비2/parts/ㅅㅅ.png to /home/jupyter/ai_font/data/exp0820/raw/플레이브밤비2/parts/ㅅㅅ.png\n",
      "Downloaded exp0820/raw/플레이브밤비2/parts/ㅇ.png to /home/jupyter/ai_font/data/exp0820/raw/플레이브밤비2/parts/ㅇ.png\n",
      "Downloaded exp0820/raw/플레이브밤비2/parts/ㅈ.png to /home/jupyter/ai_font/data/exp0820/raw/플레이브밤비2/parts/ㅈ.png\n",
      "Downloaded exp0820/raw/플레이브밤비2/parts/ㅈㅈ.png to /home/jupyter/ai_font/data/exp0820/raw/플레이브밤비2/parts/ㅈㅈ.png\n",
      "Downloaded exp0820/raw/플레이브밤비2/parts/ㅊ.png to /home/jupyter/ai_font/data/exp0820/raw/플레이브밤비2/parts/ㅊ.png\n",
      "Downloaded exp0820/raw/플레이브밤비2/parts/ㅋ.png to /home/jupyter/ai_font/data/exp0820/raw/플레이브밤비2/parts/ㅋ.png\n",
      "Downloaded exp0820/raw/플레이브밤비2/parts/ㅌ.png to /home/jupyter/ai_font/data/exp0820/raw/플레이브밤비2/parts/ㅌ.png\n",
      "Downloaded exp0820/raw/플레이브밤비2/parts/ㅍ.png to /home/jupyter/ai_font/data/exp0820/raw/플레이브밤비2/parts/ㅍ.png\n",
      "Downloaded exp0820/raw/플레이브밤비2/parts/ㅎ.png to /home/jupyter/ai_font/data/exp0820/raw/플레이브밤비2/parts/ㅎ.png\n",
      "Downloaded exp0820/raw/플레이브밤비2/parts/ㅏ.png to /home/jupyter/ai_font/data/exp0820/raw/플레이브밤비2/parts/ㅏ.png\n",
      "Downloaded exp0820/raw/플레이브밤비2/parts/ㅐ.png to /home/jupyter/ai_font/data/exp0820/raw/플레이브밤비2/parts/ㅐ.png\n",
      "Downloaded exp0820/raw/플레이브밤비2/parts/ㅑ.png to /home/jupyter/ai_font/data/exp0820/raw/플레이브밤비2/parts/ㅑ.png\n",
      "Downloaded exp0820/raw/플레이브밤비2/parts/ㅓ.png to /home/jupyter/ai_font/data/exp0820/raw/플레이브밤비2/parts/ㅓ.png\n",
      "Downloaded exp0820/raw/플레이브밤비2/parts/ㅖ.png to /home/jupyter/ai_font/data/exp0820/raw/플레이브밤비2/parts/ㅖ.png\n",
      "Downloaded exp0820/raw/플레이브밤비2/parts/ㅗ.png to /home/jupyter/ai_font/data/exp0820/raw/플레이브밤비2/parts/ㅗ.png\n",
      "Downloaded exp0820/raw/플레이브밤비2/parts/ㅘ.png to /home/jupyter/ai_font/data/exp0820/raw/플레이브밤비2/parts/ㅘ.png\n",
      "Downloaded exp0820/raw/플레이브밤비2/parts/ㅙ.png to /home/jupyter/ai_font/data/exp0820/raw/플레이브밤비2/parts/ㅙ.png\n",
      "Downloaded exp0820/raw/플레이브밤비2/parts/ㅚ.png to /home/jupyter/ai_font/data/exp0820/raw/플레이브밤비2/parts/ㅚ.png\n",
      "Downloaded exp0820/raw/플레이브밤비2/parts/ㅜ.png to /home/jupyter/ai_font/data/exp0820/raw/플레이브밤비2/parts/ㅜ.png\n",
      "Downloaded exp0820/raw/플레이브밤비2/parts/ㅝ.png to /home/jupyter/ai_font/data/exp0820/raw/플레이브밤비2/parts/ㅝ.png\n",
      "Downloaded exp0820/raw/플레이브밤비2/parts/ㅞ.png to /home/jupyter/ai_font/data/exp0820/raw/플레이브밤비2/parts/ㅞ.png\n",
      "Downloaded exp0820/raw/플레이브밤비2/parts/ㅟ.png to /home/jupyter/ai_font/data/exp0820/raw/플레이브밤비2/parts/ㅟ.png\n",
      "Downloaded exp0820/raw/플레이브밤비2/parts/ㅢ.png to /home/jupyter/ai_font/data/exp0820/raw/플레이브밤비2/parts/ㅢ.png\n",
      "Downloaded exp0820/raw/플레이브밤비2/parts/ㅣ.png to /home/jupyter/ai_font/data/exp0820/raw/플레이브밤비2/parts/ㅣ.png\n"
     ]
    }
   ],
   "source": [
    "from google.cloud import storage\n",
    "import os\n",
    "\n",
    "def download_folder(bucket_name, source_folder_name, destination_folder_name):\n",
    "\n",
    "    storage_client = storage.Client()\n",
    "    bucket = storage_client.bucket(bucket_name)\n",
    "    blobs = bucket.list_blobs(prefix=source_folder_name)\n",
    "\n",
    "    for blob in blobs:\n",
    "        # Remove the folder prefix from the blob name to get the relative path\n",
    "        relative_path = os.path.relpath(blob.name, source_folder_name)\n",
    "        destination_path = os.path.join(destination_folder_name, relative_path)\n",
    "\n",
    "        # Ensure the destination directory exists\n",
    "        os.makedirs(os.path.dirname(destination_path), exist_ok=True)\n",
    "        \n",
    "        # Download the file\n",
    "        try:\n",
    "            blob.download_to_filename(destination_path)\n",
    "            print(f\"Downloaded {blob.name} to {destination_path}\")\n",
    "        except:\n",
    "            print(f\"failed {blob.name} to {destination_path}\")\n",
    "\n",
    "# Usage example:\n",
    "bucket_name = \"leo_font\"\n",
    "source_folder_name = \"exp0820/raw/플레이브밤비2/parts\"\n",
    "destination_folder_name = \"/home/jupyter/ai_font/data/exp0820/raw/플레이브밤비2/parts\"\n",
    "\n",
    "download_folder(bucket_name, source_folder_name, destination_folder_name)\n"
   ]
  },
  {
   "cell_type": "markdown",
   "id": "2a607ff9-ac07-4bcd-a3ec-ac8345d27bd4",
   "metadata": {},
   "source": [
    "# Closing Process"
   ]
  },
  {
   "cell_type": "code",
   "execution_count": 42,
   "id": "d2c891bb-d08a-46bb-bade-3dff58081c2a",
   "metadata": {
    "tags": []
   },
   "outputs": [],
   "source": [
    "# normalize the name\n",
    "# move the whole file\n",
    "import os\n",
    "import numpy as np\n",
    "from tqdm import tqdm\n",
    "from PIL import Image\n",
    "import unicodedata\n",
    "import cv2\n",
    "\n",
    "def char_normalize(f):\n",
    "    return unicodedata.normalize('NFC', f)\n",
    "\n",
    "def augmenting(img):\n",
    "    img = np.array(img)\n",
    "    kernel = cv2.getStructuringElement(cv2.MORPH_RECT,(2,2))\n",
    "\n",
    "    blurred = cv2.GaussianBlur(img, (3, 3), 0)\n",
    "    processed = cv2.morphologyEx(blurred, cv2.MORPH_CLOSE, kernel)\n",
    "    closing = Image.fromarray(processed)\n",
    "    # err = cv2.erode(processed, kernel)\n",
    "    # erode = Image.fromarray(err)\n",
    "    # dil = cv2.dilate(processed, kernel)\n",
    "    # dilate = Image.fromarray(dil)\n",
    "    return {\n",
    "        \"closing\": closing,\n",
    "        # \"erode\": erode,\n",
    "        # \"dilate\":dilate,\n",
    "    }"
   ]
  },
  {
   "cell_type": "code",
   "execution_count": 43,
   "id": "a7337893-1527-4562-925b-fde0ebc9fd91",
   "metadata": {
    "tags": []
   },
   "outputs": [],
   "source": [
    "fd = \"/home/jupyter/ai_font/data/exp0820\""
   ]
  },
  {
   "cell_type": "code",
   "execution_count": 44,
   "id": "9664ba56-c1e9-4a97-bca9-0edf15b50371",
   "metadata": {
    "tags": []
   },
   "outputs": [],
   "source": [
    "tfd = f\"{fd}/processed/train_whole/플레이브밤비\"\n",
    "os.makedirs(tfd, exist_ok=True)"
   ]
  },
  {
   "cell_type": "code",
   "execution_count": 14,
   "id": "ab2fe806-95a7-4786-bffd-7c85e080a83b",
   "metadata": {
    "collapsed": true,
    "jupyter": {
     "outputs_hidden": true
    },
    "tags": []
   },
   "outputs": [
    {
     "name": "stdout",
     "output_type": "stream",
     "text": [
      "/home/jupyter/ai_font/data/exp0820/processed/train_whole/플레이브밤비/플레이브밤비__closing__탤.png\n",
      "/home/jupyter/ai_font/data/exp0820/processed/train_whole/플레이브밤비/플레이브밤비__closing__츄.png\n",
      "/home/jupyter/ai_font/data/exp0820/processed/train_whole/플레이브밤비/플레이브밤비__closing__뤄.png\n",
      "/home/jupyter/ai_font/data/exp0820/processed/train_whole/플레이브밤비/플레이브밤비__closing__줬.png\n",
      "/home/jupyter/ai_font/data/exp0820/processed/train_whole/플레이브밤비/플레이브밤비__closing__찧.png\n",
      "/home/jupyter/ai_font/data/exp0820/processed/train_whole/플레이브밤비/플레이브밤비__closing__몇.png\n",
      "/home/jupyter/ai_font/data/exp0820/processed/train_whole/플레이브밤비/플레이브밤비__closing__푀.png\n",
      "/home/jupyter/ai_font/data/exp0820/processed/train_whole/플레이브밤비/플레이브밤비__closing__특 복사본 3.png\n",
      "/home/jupyter/ai_font/data/exp0820/processed/train_whole/플레이브밤비/플레이브밤비__closing__뷔.png\n",
      "/home/jupyter/ai_font/data/exp0820/processed/train_whole/플레이브밤비/플레이브밤비__closing__팼 복사본 2.png\n",
      "/home/jupyter/ai_font/data/exp0820/processed/train_whole/플레이브밤비/플레이브밤비__closing__퍗 복사본 3.png\n",
      "/home/jupyter/ai_font/data/exp0820/processed/train_whole/플레이브밤비/플레이브밤비__closing__좋.png\n",
      "/home/jupyter/ai_font/data/exp0820/processed/train_whole/플레이브밤비/플레이브밤비__closing__쾅 복사본 2.png\n",
      "/home/jupyter/ai_font/data/exp0820/processed/train_whole/플레이브밤비/플레이브밤비__closing__끝.png\n",
      "/home/jupyter/ai_font/data/exp0820/processed/train_whole/플레이브밤비/플레이브밤비__closing__롵.png\n",
      "/home/jupyter/ai_font/data/exp0820/processed/train_whole/플레이브밤비/플레이브밤비__closing__훨.png\n",
      "/home/jupyter/ai_font/data/exp0820/processed/train_whole/플레이브밤비/플레이브밤비__closing__튠 복사본.png\n",
      "/home/jupyter/ai_font/data/exp0820/processed/train_whole/플레이브밤비/플레이브밤비__closing__얹.png\n",
      "/home/jupyter/ai_font/data/exp0820/processed/train_whole/플레이브밤비/플레이브밤비__closing__쾅.png\n",
      "/home/jupyter/ai_font/data/exp0820/processed/train_whole/플레이브밤비/플레이브밤비__closing__쎄.png\n",
      "/home/jupyter/ai_font/data/exp0820/processed/train_whole/플레이브밤비/플레이브밤비__closing__츄 복사본.png\n",
      "/home/jupyter/ai_font/data/exp0820/processed/train_whole/플레이브밤비/플레이브밤비__closing__쫄.png\n",
      "/home/jupyter/ai_font/data/exp0820/processed/train_whole/플레이브밤비/플레이브밤비__closing__츄 복사본 2.png\n",
      "/home/jupyter/ai_font/data/exp0820/processed/train_whole/플레이브밤비/플레이브밤비__closing__돛.png\n",
      "/home/jupyter/ai_font/data/exp0820/processed/train_whole/플레이브밤비/플레이브밤비__closing__궤.png\n",
      "/home/jupyter/ai_font/data/exp0820/processed/train_whole/플레이브밤비/플레이브밤비__closing__라.png\n",
      "/home/jupyter/ai_font/data/exp0820/processed/train_whole/플레이브밤비/플레이브밤비__closing__씩.png\n",
      "/home/jupyter/ai_font/data/exp0820/processed/train_whole/플레이브밤비/플레이브밤비__closing__춰 복사본 2.png\n",
      "/home/jupyter/ai_font/data/exp0820/processed/train_whole/플레이브밤비/플레이브밤비__closing__왼.png\n",
      "/home/jupyter/ai_font/data/exp0820/processed/train_whole/플레이브밤비/플레이브밤비__closing__짚.png\n",
      "/home/jupyter/ai_font/data/exp0820/processed/train_whole/플레이브밤비/플레이브밤비__closing__벚.png\n",
      "/home/jupyter/ai_font/data/exp0820/processed/train_whole/플레이브밤비/플레이브밤비__closing__치.png\n",
      "/home/jupyter/ai_font/data/exp0820/processed/train_whole/플레이브밤비/플레이브밤비__closing__토 복사본.png\n",
      "/home/jupyter/ai_font/data/exp0820/processed/train_whole/플레이브밤비/플레이브밤비__closing__곁.png\n",
      "/home/jupyter/ai_font/data/exp0820/processed/train_whole/플레이브밤비/플레이브밤비__closing__짧.png\n",
      "/home/jupyter/ai_font/data/exp0820/processed/train_whole/플레이브밤비/플레이브밤비__closing__폐 복사본 2.png\n",
      "/home/jupyter/ai_font/data/exp0820/processed/train_whole/플레이브밤비/플레이브밤비__closing__돼.png\n",
      "/home/jupyter/ai_font/data/exp0820/processed/train_whole/플레이브밤비/플레이브밤비__closing__덤.png\n",
      "/home/jupyter/ai_font/data/exp0820/processed/train_whole/플레이브밤비/플레이브밤비__closing__뽱.png\n",
      "/home/jupyter/ai_font/data/exp0820/processed/train_whole/플레이브밤비/플레이브밤비__closing__춰 복사본.png\n",
      "/home/jupyter/ai_font/data/exp0820/processed/train_whole/플레이브밤비/플레이브밤비__closing__퓸 복사본 3.png\n",
      "/home/jupyter/ai_font/data/exp0820/processed/train_whole/플레이브밤비/플레이브밤비__closing__홉 복사본 3.png\n",
      "/home/jupyter/ai_font/data/exp0820/processed/train_whole/플레이브밤비/플레이브밤비__closing__퓸 복사본 2.png\n",
      "/home/jupyter/ai_font/data/exp0820/processed/train_whole/플레이브밤비/플레이브밤비__closing__쟨.png\n",
      "/home/jupyter/ai_font/data/exp0820/processed/train_whole/플레이브밤비/플레이브밤비__closing__묟.png\n",
      "/home/jupyter/ai_font/data/exp0820/processed/train_whole/플레이브밤비/플레이브밤비__closing__닦.png\n",
      "/home/jupyter/ai_font/data/exp0820/processed/train_whole/플레이브밤비/플레이브밤비__closing__토 복사본 2.png\n",
      "/home/jupyter/ai_font/data/exp0820/processed/train_whole/플레이브밤비/플레이브밤비__closing__쏟.png\n",
      "/home/jupyter/ai_font/data/exp0820/processed/train_whole/플레이브밤비/플레이브밤비__closing__캠 복사본 3.png\n",
      "/home/jupyter/ai_font/data/exp0820/processed/train_whole/플레이브밤비/플레이브밤비__closing__쳇.png\n",
      "/home/jupyter/ai_font/data/exp0820/processed/train_whole/플레이브밤비/플레이브밤비__closing__팼.png\n",
      "/home/jupyter/ai_font/data/exp0820/processed/train_whole/플레이브밤비/플레이브밤비__closing__폐 복사본.png\n",
      "/home/jupyter/ai_font/data/exp0820/processed/train_whole/플레이브밤비/플레이브밤비__closing__읊.png\n",
      "/home/jupyter/ai_font/data/exp0820/processed/train_whole/플레이브밤비/플레이브밤비__closing__튠 복사본 3.png\n",
      "/home/jupyter/ai_font/data/exp0820/processed/train_whole/플레이브밤비/플레이브밤비__closing__뉑.png\n",
      "/home/jupyter/ai_font/data/exp0820/processed/train_whole/플레이브밤비/플레이브밤비__closing__찾.png\n",
      "/home/jupyter/ai_font/data/exp0820/processed/train_whole/플레이브밤비/플레이브밤비__closing__퓸.png\n",
      "/home/jupyter/ai_font/data/exp0820/processed/train_whole/플레이브밤비/플레이브밤비__closing__춰.png\n",
      "/home/jupyter/ai_font/data/exp0820/processed/train_whole/플레이브밤비/플레이브밤비__closing__껴.png\n",
      "/home/jupyter/ai_font/data/exp0820/processed/train_whole/플레이브밤비/플레이브밤비__closing__꽤.png\n",
      "/home/jupyter/ai_font/data/exp0820/processed/train_whole/플레이브밤비/플레이브밤비__closing__닠.png\n",
      "/home/jupyter/ai_font/data/exp0820/processed/train_whole/플레이브밤비/플레이브밤비__closing__읨.png\n",
      "/home/jupyter/ai_font/data/exp0820/processed/train_whole/플레이브밤비/플레이브밤비__closing__쁘.png\n",
      "/home/jupyter/ai_font/data/exp0820/processed/train_whole/플레이브밤비/플레이브밤비__closing__횃 복사본 2.png\n",
      "/home/jupyter/ai_font/data/exp0820/processed/train_whole/플레이브밤비/플레이브밤비__closing__럽.png\n",
      "/home/jupyter/ai_font/data/exp0820/processed/train_whole/플레이브밤비/플레이브밤비__closing__쯷.png\n",
      "/home/jupyter/ai_font/data/exp0820/processed/train_whole/플레이브밤비/플레이브밤비__closing__잃.png\n",
      "/home/jupyter/ai_font/data/exp0820/processed/train_whole/플레이브밤비/플레이브밤비__closing__폐.png\n",
      "/home/jupyter/ai_font/data/exp0820/processed/train_whole/플레이브밤비/플레이브밤비__closing__뛰.png\n",
      "/home/jupyter/ai_font/data/exp0820/processed/train_whole/플레이브밤비/플레이브밤비__closing__쳇 복사본 2.png\n",
      "/home/jupyter/ai_font/data/exp0820/processed/train_whole/플레이브밤비/플레이브밤비__closing__갸.png\n",
      "/home/jupyter/ai_font/data/exp0820/processed/train_whole/플레이브밤비/플레이브밤비__closing__뜻.png\n",
      "/home/jupyter/ai_font/data/exp0820/processed/train_whole/플레이브밤비/플레이브밤비__closing__쿵 복사본 2.png\n",
      "/home/jupyter/ai_font/data/exp0820/processed/train_whole/플레이브밤비/플레이브밤비__closing__쿵 복사본.png\n",
      "/home/jupyter/ai_font/data/exp0820/processed/train_whole/플레이브밤비/플레이브밤비__closing__쉽.png\n",
      "/home/jupyter/ai_font/data/exp0820/processed/train_whole/플레이브밤비/플레이브밤비__closing__쿵.png\n",
      "/home/jupyter/ai_font/data/exp0820/processed/train_whole/플레이브밤비/플레이브밤비__closing__교.png\n",
      "/home/jupyter/ai_font/data/exp0820/processed/train_whole/플레이브밤비/플레이브밤비__closing__꾜.png\n",
      "/home/jupyter/ai_font/data/exp0820/processed/train_whole/플레이브밤비/플레이브밤비__closing__특.png\n",
      "/home/jupyter/ai_font/data/exp0820/processed/train_whole/플레이브밤비/플레이브밤비__closing__토.png\n",
      "/home/jupyter/ai_font/data/exp0820/processed/train_whole/플레이브밤비/플레이브밤비__closing__숲.png\n",
      "/home/jupyter/ai_font/data/exp0820/processed/train_whole/플레이브밤비/플레이브밤비__closing__많.png\n",
      "/home/jupyter/ai_font/data/exp0820/processed/train_whole/플레이브밤비/플레이브밤비__closing__쾅 복사본 3.png\n",
      "/home/jupyter/ai_font/data/exp0820/processed/train_whole/플레이브밤비/플레이브밤비__closing__쳇 복사본 3.png\n",
      "/home/jupyter/ai_font/data/exp0820/processed/train_whole/플레이브밤비/플레이브밤비__closing__푀 복사본.png\n",
      "/home/jupyter/ai_font/data/exp0820/processed/train_whole/플레이브밤비/플레이브밤비__closing__퍗 복사본 2.png\n",
      "/home/jupyter/ai_font/data/exp0820/processed/train_whole/플레이브밤비/플레이브밤비__closing__횃.png\n",
      "/home/jupyter/ai_font/data/exp0820/processed/train_whole/플레이브밤비/플레이브밤비__closing__무.png\n",
      "/home/jupyter/ai_font/data/exp0820/processed/train_whole/플레이브밤비/플레이브밤비__closing__캐.png\n",
      "/home/jupyter/ai_font/data/exp0820/processed/train_whole/플레이브밤비/플레이브밤비__closing__붉.png\n",
      "/home/jupyter/ai_font/data/exp0820/processed/train_whole/플레이브밤비/플레이브밤비__closing__땍.png\n",
      "/home/jupyter/ai_font/data/exp0820/processed/train_whole/플레이브밤비/플레이브밤비__closing__삯.png\n",
      "/home/jupyter/ai_font/data/exp0820/processed/train_whole/플레이브밤비/플레이브밤비__closing__홉 복사본 2.png\n",
      "/home/jupyter/ai_font/data/exp0820/processed/train_whole/플레이브밤비/플레이브밤비__closing__푀 복사본 2.png\n",
      "/home/jupyter/ai_font/data/exp0820/processed/train_whole/플레이브밤비/플레이브밤비__closing__핥.png\n",
      "/home/jupyter/ai_font/data/exp0820/processed/train_whole/플레이브밤비/플레이브밤비__closing__튠 복사본 2.png\n",
      "/home/jupyter/ai_font/data/exp0820/processed/train_whole/플레이브밤비/플레이브밤비__closing__셴.png\n",
      "/home/jupyter/ai_font/data/exp0820/processed/train_whole/플레이브밤비/플레이브밤비__closing__캠.png\n",
      "/home/jupyter/ai_font/data/exp0820/processed/train_whole/플레이브밤비/플레이브밤비__closing__퍗 복사본.png\n",
      "/home/jupyter/ai_font/data/exp0820/processed/train_whole/플레이브밤비/플레이브밤비__closing__늬.png\n",
      "/home/jupyter/ai_font/data/exp0820/processed/train_whole/플레이브밤비/플레이브밤비__closing__팼 복사본.png\n",
      "/home/jupyter/ai_font/data/exp0820/processed/train_whole/플레이브밤비/플레이브밤비__closing__횃 복사본 3.png\n",
      "/home/jupyter/ai_font/data/exp0820/processed/train_whole/플레이브밤비/플레이브밤비__closing__팼 복사본 3.png\n",
      "/home/jupyter/ai_font/data/exp0820/processed/train_whole/플레이브밤비/플레이브밤비__closing__쿵 복사본 3.png\n",
      "/home/jupyter/ai_font/data/exp0820/processed/train_whole/플레이브밤비/플레이브밤비__closing__퍗.png\n",
      "/home/jupyter/ai_font/data/exp0820/processed/train_whole/플레이브밤비/플레이브밤비__closing__캠 복사본 2.png\n",
      "/home/jupyter/ai_font/data/exp0820/processed/train_whole/플레이브밤비/플레이브밤비__closing__쑉.png\n",
      "/home/jupyter/ai_font/data/exp0820/processed/train_whole/플레이브밤비/플레이브밤비__closing__홉.png\n",
      "/home/jupyter/ai_font/data/exp0820/processed/train_whole/플레이브밤비/플레이브밤비__closing__퓸 복사본.png\n",
      "/home/jupyter/ai_font/data/exp0820/processed/train_whole/플레이브밤비/플레이브밤비__closing__높.png\n",
      "/home/jupyter/ai_font/data/exp0820/processed/train_whole/플레이브밤비/플레이브밤비__closing__갊.png\n",
      "/home/jupyter/ai_font/data/exp0820/processed/train_whole/플레이브밤비/플레이브밤비__closing__특 복사본 2.png\n",
      "/home/jupyter/ai_font/data/exp0820/processed/train_whole/플레이브밤비/플레이브밤비__closing__턔.png\n",
      "/home/jupyter/ai_font/data/exp0820/processed/train_whole/플레이브밤비/플레이브밤비__closing__튠.png\n",
      "/home/jupyter/ai_font/data/exp0820/processed/train_whole/플레이브밤비/플레이브밤비__closing__곬.png\n",
      "/home/jupyter/ai_font/data/exp0820/processed/train_whole/플레이브밤비/플레이브밤비__closing__없.png\n"
     ]
    }
   ],
   "source": [
    "ffd = f\"{fd}/raw/플레이브밤비2/inpainting_mask\"\n",
    "for f in os.listdir(ffd):\n",
    "    if (\"_m\" not in f) & (\"복사본\" not in f) & f.endswith(\".png\"):\n",
    "        img = Image.open(f\"{ffd}/{f}\")\n",
    "        aug = augmenting(img)\n",
    "        savefn = f\"{tfd}/플레이브밤비__closing__{char_normalize(f)}\"\n",
    "        aug['closing'].save(savefn)"
   ]
  },
  {
   "cell_type": "code",
   "execution_count": 45,
   "id": "26debe75-089b-4ef9-ac4f-d741dda6360f",
   "metadata": {
    "tags": []
   },
   "outputs": [],
   "source": [
    "ffd = f\"{fd}/raw/플레이브밤비2/parts\"\n",
    "tfd = f\"{fd}/processed/train_parts/플레이브밤비\"\n",
    "os.makedirs(tfd, exist_ok=True)\n",
    "for f in os.listdir(ffd):\n",
    "    if f.endswith(\".png\"):\n",
    "        img = Image.open(f\"{ffd}/{f}\")\n",
    "        aug = augmenting(img)\n",
    "        savefn = f\"{tfd}/플레이브밤비__closing__{char_normalize(f)}\"\n",
    "        aug['closing'].save(savefn)"
   ]
  },
  {
   "cell_type": "code",
   "execution_count": 8,
   "id": "fe136af2-2f22-4b2f-8d9d-8eb2346aabb4",
   "metadata": {
    "tags": []
   },
   "outputs": [
    {
     "data": {
      "text/plain": [
       "['.ipynb_checkpoints', 'parts', 'inpainting_mask']"
      ]
     },
     "execution_count": 8,
     "metadata": {},
     "output_type": "execute_result"
    }
   ],
   "source": [
    "os.listdir(fd)"
   ]
  },
  {
   "cell_type": "code",
   "execution_count": 34,
   "id": "60668ed4-77a3-4831-9749-10d5625576c0",
   "metadata": {
    "tags": []
   },
   "outputs": [],
   "source": [
    "import shutil\n",
    "\n",
    "ffd = f\"{fd}/raw/플레이브밤비2/inpainting_mask\"\n",
    "tfd = f\"{fd}/processed/train_masks/플레이브밤비\"\n",
    "os.makedirs(tfd, exist_ok=True)\n",
    "for f in os.listdir(ffd):\n",
    "    if \"_m\" in f:\n",
    "        savefn = f\"{tfd}/플레이브밤비__{char_normalize(f)}\"\n",
    "        shutil.copy(f\"{ffd}/{f}\", savefn)"
   ]
  },
  {
   "cell_type": "code",
   "execution_count": 38,
   "id": "86190968-674d-42fa-88c2-087d92093d21",
   "metadata": {
    "tags": []
   },
   "outputs": [
    {
     "data": {
      "text/plain": [
       "'/home/jupyter/ai_font/data/exp0820/processed/train_masks/플레이브밤비/플레이브밤비__땍_m2.png'"
      ]
     },
     "execution_count": 38,
     "metadata": {},
     "output_type": "execute_result"
    }
   ],
   "source": [
    "shutil.copy(f\"{ffd}/{f}\", savefn)"
   ]
  },
  {
   "cell_type": "markdown",
   "id": "fd3bc95b-3d2a-41e0-8842-cf06b1fe6597",
   "metadata": {},
   "source": [
    "# Copy Training Data From June Data"
   ]
  },
  {
   "cell_type": "code",
   "execution_count": 19,
   "id": "ad596934-d963-4159-8a54-61e5840321b7",
   "metadata": {
    "tags": []
   },
   "outputs": [
    {
     "name": "stderr",
     "output_type": "stream",
     "text": [
      "100%|██████████| 420/420 [19:12<00:00,  2.74s/it, font=어비미완체볼드]    ]             \n"
     ]
    }
   ],
   "source": [
    "import shutil\n",
    "\n",
    "fd = \"/home/jupyter/ai_font/data\"\n",
    "tfd = tfd = f\"{fd}/exp0820/processed/train_whole\"\n",
    "pbar = tqdm(os.listdir(f\"{fd}/train\"))\n",
    "for font in pbar:\n",
    "    os.makedirs(f\"{tfd}/{font}\", exist_ok=True)\n",
    "    for f in os.listdir(f\"{fd}/train/{font}\"):\n",
    "        if \"closing\" in f:\n",
    "            shutil.copy(f\"{fd}/train/{font}/{f}\", f\"{tfd}/{font}/{f}\")\n",
    "    pbar.set_postfix(font=font)"
   ]
  },
  {
   "cell_type": "code",
   "execution_count": 20,
   "id": "e5f7732d-aa97-4ee4-8610-1c242fed44b2",
   "metadata": {
    "tags": []
   },
   "outputs": [
    {
     "name": "stderr",
     "output_type": "stream",
     "text": [
      "100%|██████████| 422/422 [00:09<00:00, 43.55it/s, font=어비미완체볼드]    ]             \n"
     ]
    }
   ],
   "source": [
    "import shutil\n",
    "\n",
    "fd = \"/home/jupyter/ai_font/data\"\n",
    "tfd = f\"{fd}/exp0820/processed/train_parts\"\n",
    "pbar = tqdm(os.listdir(f\"{fd}/train_parts\"))\n",
    "for font in pbar:\n",
    "    os.makedirs(f\"{tfd}/{font}\", exist_ok=True)\n",
    "    for f in os.listdir(f\"{fd}/train_parts/{font}\"):\n",
    "        if \"closing\" in f:\n",
    "            shutil.copy(f\"{fd}/train_parts/{font}/{f}\", f\"{tfd}/{font}/{f}\")\n",
    "    pbar.set_postfix(font=font)"
   ]
  },
  {
   "cell_type": "markdown",
   "id": "ca2220b4-fd03-43be-ad86-ed84fad8377e",
   "metadata": {},
   "source": [
    "# Make Assemble Style "
   ]
  },
  {
   "cell_type": "code",
   "execution_count": 46,
   "id": "cb54ea31-96ef-4939-8392-e99b3993db06",
   "metadata": {
    "tags": []
   },
   "outputs": [],
   "source": [
    "import os\n",
    "import numpy as np\n",
    "from tqdm import tqdm\n",
    "from PIL import Image\n",
    "\n",
    "\n",
    "def get_all_korean():\n",
    "\n",
    "    def nextKorLetterFrom(letter):\n",
    "        lastLetterInt = 15572643\n",
    "        if not letter:\n",
    "            return '가'\n",
    "        a = letter\n",
    "        b = a.encode('utf8')\n",
    "        c = int(b.hex(), 16)\n",
    "\n",
    "        if c == lastLetterInt:\n",
    "            return False\n",
    "\n",
    "        d = hex(c + 1)\n",
    "        e = bytearray.fromhex(d[2:])\n",
    "\n",
    "        flag = True\n",
    "        while flag:\n",
    "            try:\n",
    "                r = e.decode('utf-8')\n",
    "                flag = False\n",
    "            except UnicodeDecodeError:\n",
    "                c = c+1\n",
    "                d = hex(c)\n",
    "                e = bytearray.fromhex(d[2:])\n",
    "        return e.decode()\n",
    "\n",
    "    returns = []\n",
    "    flag = True\n",
    "    k = ''\n",
    "    while flag:\n",
    "        k = nextKorLetterFrom(k)\n",
    "        if k is False:\n",
    "            flag = False\n",
    "        else:\n",
    "            returns.append(k)\n",
    "    return returns\n",
    "\n",
    "def merge_img(img0, img1, img2):\n",
    "    mmg = Image.new(\"L\", (128*2, 128*2), 255)\n",
    "    mmg.paste(img0, (0,0))\n",
    "    mmg.paste(img1, (128,0))\n",
    "    if img2 is not None:\n",
    "        mmg.paste(img2, (64,128))\n",
    "    return mmg.resize((96,96), Image.BILINEAR)\n",
    "\n",
    "def get_imgs(fd, font, tag, letter):\n",
    "    \n",
    "    ch1_list = ['ㄱ', 'ㄲ', 'ㄴ', 'ㄷ', 'ㄸ', 'ㄹ', 'ㅁ', 'ㅂ', 'ㅃ', 'ㅅ', 'ㅆ', 'ㅇ', 'ㅈ', 'ㅉ', 'ㅊ', 'ㅋ', 'ㅌ', 'ㅍ', 'ㅎ']\n",
    "    ch2_list = ['ㅏ', 'ㅐ', 'ㅑ', 'ㅒ', 'ㅓ', 'ㅔ', 'ㅕ', 'ㅖ', 'ㅗ', 'ㅘ', 'ㅙ', 'ㅚ', 'ㅛ', 'ㅜ', 'ㅝ', 'ㅞ', 'ㅟ', 'ㅠ', 'ㅡ', 'ㅢ', 'ㅣ']\n",
    "    ch3_list = [None, 'ㄱ', 'ㄲ', 'ㄳ', 'ㄴ', 'ㄵ', 'ㄶ', 'ㄷ', 'ㄹ', 'ㄺ', 'ㄻ', 'ㄼ', 'ㄽ', 'ㄾ', 'ㄿ', 'ㅀ', 'ㅁ', 'ㅂ', 'ㅄ', 'ㅅ', 'ㅆ', 'ㅇ', 'ㅈ', 'ㅊ', 'ㅋ', 'ㅌ', 'ㅍ', 'ㅎ']\n",
    "\n",
    "    \n",
    "    ch1 = (ord(letter) - ord('가'))//588\n",
    "    ch2 = ((ord(letter) - ord('가')) - (588*ch1)) // 28\n",
    "    ch3 = (ord(letter) - ord('가')) - (588*ch1) - 28*ch2\n",
    "\n",
    "    return (\n",
    "        Image.open(f\"{fd}/{font}/{font}__{tag}__{ch1_list[ch1]}.png\"),\n",
    "        Image.open(f\"{fd}/{font}/{font}__{tag}__{ch2_list[ch2]}.png\"),\n",
    "        None if ch3_list[ch3] is None else Image.open(f\"{fd}/{font}/{font}__{tag}__{ch3_list[ch3]}.png\"),\n",
    "    )"
   ]
  },
  {
   "cell_type": "code",
   "execution_count": 47,
   "id": "0f9322a7-ac1c-4465-ba7d-c3f0954b8742",
   "metadata": {
    "tags": []
   },
   "outputs": [],
   "source": [
    "fd = \"/home/jupyter/ai_font/data\"\n",
    "partfd = f\"{fd}/exp0820/processed/train_parts\"\n",
    "assemblefd = f\"{fd}/exp0820/processed/train_assembled\"\n",
    "ak = get_all_korean()"
   ]
  },
  {
   "cell_type": "code",
   "execution_count": 23,
   "id": "80a86c34-7af5-40f3-8af5-42f777c31499",
   "metadata": {
    "tags": []
   },
   "outputs": [
    {
     "name": "stderr",
     "output_type": "stream",
     "text": [
      "100%|██████████| 423/423 [1:38:39<00:00, 13.99s/it]\n"
     ]
    }
   ],
   "source": [
    "for font in tqdm(os.listdir(partfd)):\n",
    "    os.makedirs(f\"{assemblefd}/{font}\", exist_ok=True)\n",
    "    for tag in ['closing']:\n",
    "        for letter in ak:\n",
    "            try:\n",
    "                img0, img1, img2 = get_imgs(partfd, font, tag, letter)\n",
    "                img = merge_img(img0,img1,img2)\n",
    "                img.save(f\"{assemblefd}/{font}/{font}__{tag}__{letter}.png\")\n",
    "            except:\n",
    "                pass"
   ]
  },
  {
   "cell_type": "code",
   "execution_count": 28,
   "id": "88806cd1-cb27-4223-bdfa-dac87e66d766",
   "metadata": {
    "tags": []
   },
   "outputs": [
    {
     "data": {
      "image/jpeg": "[encoded data removed]",
      "image/png": "[encoded data removed]",
      "text/plain": [
       "<PIL.PngImagePlugin.PngImageFile image mode=L size=96x96>"
      ]
     },
     "execution_count": 28,
     "metadata": {},
     "output_type": "execute_result"
    }
   ],
   "source": [
    "fd = \"/home/jupyter/ai_font/data\"\n",
    "partfd = f\"{fd}/exp0820/processed/train_parts\"\n",
    "assemblefd = f\"{fd}/exp0820/processed/train_assembled\"\n",
    "Image.open(f\"{assemblefd}/플레이브밤비/플레이브밤비__closing__솼.png\")"
   ]
  },
  {
   "cell_type": "code",
   "execution_count": 49,
   "id": "2eac125a-3926-487f-b62c-4243df3be3e7",
   "metadata": {},
   "outputs": [],
   "source": [
    "def get_imgs(fd, font, tag, letter):\n",
    "    \n",
    "    ch1_list = ['ㄱ', 'ㄱㄱ', 'ㄴ', 'ㄷ', 'ㄷㄷ', 'ㄹ', 'ㅁ', 'ㅂ', 'ㅂㅂ', 'ㅅ', 'ㅅㅅ', 'ㅇ', 'ㅈ', 'ㅈㅈ', 'ㅊ', 'ㅋ', 'ㅌ', 'ㅍ', 'ㅎ']\n",
    "    ch2_list = ['ㅏ', 'ㅐ', 'ㅑ', 'ㅒ', 'ㅓ', 'ㅔ', 'ㅕ', 'ㅖ', 'ㅗ', 'ㅘ', 'ㅙ', 'ㅚ', 'ㅛ', 'ㅜ', 'ㅝ', 'ㅞ', 'ㅟ', 'ㅠ', 'ㅡ', 'ㅢ', 'ㅣ']\n",
    "    ch3_list = [None, 'ㄱ', 'ㄱㄱ', 'ㄱㅅ', 'ㄴ', 'ㄴㅈ', 'ㄴㅎ', 'ㄷ', 'ㄹ', 'ㄹㄱ', 'ㄹㅁ', 'ㄹㅂ', 'ㄹㅅ', 'ㄹㅌ', 'ㄹㅍ', 'ㄹㅎ', 'ㅁ', 'ㅂ', 'ㅂㅅ', 'ㅅ', 'ㅅㅅ', 'ㅇ', 'ㅈ', 'ㅊ', 'ㅋ', 'ㅌ', 'ㅍ', 'ㅎ']\n",
    "\n",
    "    \n",
    "    ch1 = (ord(letter) - ord('가'))//588\n",
    "    ch2 = ((ord(letter) - ord('가')) - (588*ch1)) // 28\n",
    "    ch3 = (ord(letter) - ord('가')) - (588*ch1) - 28*ch2\n",
    "\n",
    "    return (\n",
    "        Image.open(f\"{fd}/{font}/{font}__{tag}__{ch1_list[ch1]}.png\"),\n",
    "        Image.open(f\"{fd}/{font}/{font}__{tag}__{ch2_list[ch2]}.png\"),\n",
    "        None if ch3_list[ch3] is None else Image.open(f\"{fd}/{font}/{font}__{tag}__{ch3_list[ch3]}.png\"),\n",
    "    )\n",
    "\n",
    "font = \"플레이브밤비\"\n",
    "for tag in ['closing']:\n",
    "    for letter in ak:\n",
    "        try:\n",
    "            img0, img1, img2 = get_imgs(partfd, font, tag, letter)\n",
    "            img = merge_img(img0,img1,img2)\n",
    "            img.save(f\"{assemblefd}/{font}/{font}__{tag}__{letter}.png\")\n",
    "        except:\n",
    "            pass"
   ]
  },
  {
   "cell_type": "code",
   "execution_count": 1,
   "id": "58940e66-c2b2-4880-bb8b-22369f9cdcb8",
   "metadata": {},
   "outputs": [],
   "source": [
    "import random"
   ]
  },
  {
   "cell_type": "code",
   "execution_count": 6,
   "id": "e303230e-7cfd-4586-b045-d45e89112f69",
   "metadata": {
    "tags": []
   },
   "outputs": [
    {
     "data": {
      "text/plain": [
       "0.7758264780589532"
      ]
     },
     "execution_count": 6,
     "metadata": {},
     "output_type": "execute_result"
    }
   ],
   "source": [
    "random.random()"
   ]
  },
  {
   "cell_type": "code",
   "execution_count": null,
   "id": "3f5ba1f2-8f03-4795-9dff-7f57a53e0449",
   "metadata": {},
   "outputs": [],
   "source": []
  }
 ],
 "metadata": {
  "environment": {
   "kernel": "conda-base-py",
   "name": "workbench-notebooks.m122",
   "type": "gcloud",
   "uri": "us-docker.pkg.dev/deeplearning-platform-release/gcr.io/workbench-notebooks:m122"
  },
  "kernelspec": {
   "display_name": "Python 3 (ipykernel) (Local)",
   "language": "python",
   "name": "conda-base-py"
  },
  "language_info": {
   "codemirror_mode": {
    "name": "ipython",
    "version": 3
   },
   "file_extension": ".py",
   "mimetype": "text/x-python",
   "name": "python",
   "nbconvert_exporter": "python",
   "pygments_lexer": "ipython3",
   "version": "3.10.14"
  }
 },
 "nbformat": 4,
 "nbformat_minor": 5
}
