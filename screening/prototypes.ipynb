{
 "cells": [
  {
   "cell_type": "code",
   "execution_count": null,
   "id": "b142238f-7065-4e07-913b-5a89822c521a",
   "metadata": {},
   "outputs": [],
   "source": [
    "import torch\n",
    "import torch.nn as nn\n",
    "import torch.optim as optim\n",
    "import torchvision.transforms as transforms\n",
    "import torchvision.datasets as datasets\n",
    "from torch.utils.data import DataLoader\n",
    "from torch.utils.data import Dataset\n",
    "from torchvision.models import efficientnet_b7, EfficientNet_B7_Weights\n",
    "\n",
    "import pandas as pd\n",
    "import copy\n",
    "import numpy as np\n",
    "\n",
    "import shutil\n",
    "import os\n",
    "from PIL import Image\n",
    "from tqdm import tqdm\n",
    "from google.cloud import storage\n",
    "\n",
    "storage_client = storage.Client(\"leo_font\")\n",
    "bucket = storage_client.bucket(\"leo_font\")"
   ]
  },
  {
   "cell_type": "code",
   "execution_count": null,
   "id": "ae9650a4-b119-4d9a-b54d-f59548806c48",
   "metadata": {},
   "outputs": [],
   "source": [
    "device = torch.device('cuda' if torch.cuda.is_available() else 'cpu')\n",
    "\n",
    "# Define transforms\n",
    "transform = transforms.Compose([\n",
    "    transforms.Resize((224, 224)),\n",
    "    transforms.ToTensor(),\n",
    "    transforms.Normalize(mean=[0.485, 0.456, 0.406], std=[0.229, 0.224, 0.225])\n",
    "])"
   ]
  },
  {
   "cell_type": "code",
   "execution_count": null,
   "id": "645a0264-93dc-4ddc-aa66-fcea8f0cc11a",
   "metadata": {},
   "outputs": [],
   "source": [
    "class CustomDataset(Dataset):\n",
    "    def __init__(self, files, transform=None):\n",
    "        self.transform = transform\n",
    "        self.files = files\n",
    "        \n",
    "    def __len__(self):\n",
    "        # return int(len(self.files)/100)\n",
    "        return len(self.files)\n",
    "\n",
    "    def __getitem__(self, idx):\n",
    "        path = self.files[idx]\n",
    "        image = Image.open(path).convert('RGB')\n",
    "\n",
    "        if self.transform:\n",
    "            image = self.transform(image)\n",
    "\n",
    "        return image"
   ]
  },
  {
   "cell_type": "code",
   "execution_count": null,
   "id": "43b91106-174b-4d66-bf59-ce9444b26aab",
   "metadata": {},
   "outputs": [],
   "source": [
    "class StyleMeasurer(nn.Module):\n",
    "    def __init__(self):\n",
    "        super().__init__()\n",
    "        self.effnet = efficientnet_b7(weights=EfficientNet_B7_Weights.IMAGENET1K_V1)\n",
    "\n",
    "    def forward(self, x):\n",
    "        x = self.effnet(x)\n",
    "        return torch.tanh(x)"
   ]
  },
  {
   "cell_type": "code",
   "execution_count": null,
   "id": "df6e0877-15fc-4c8f-a59d-41a7fb39a3ce",
   "metadata": {},
   "outputs": [],
   "source": [
    "style_measurer = StyleMeasurer()\n",
    "style_measurer = style_measurer.to(device)"
   ]
  },
  {
   "cell_type": "code",
   "execution_count": null,
   "id": "687ddd86-b3ad-456d-9782-f5250dc5f0df",
   "metadata": {},
   "outputs": [],
   "source": [
    "style_measurer.load_state_dict(torch.load(f\"{localfd}/{model1}\"))\n",
    "style_measurer.eval()"
   ]
  },
  {
   "cell_type": "code",
   "execution_count": null,
   "id": "1306defa-6aab-4da7-978a-3c8afd910777",
   "metadata": {},
   "outputs": [],
   "source": [
    "reportfd = \"/home/jupyter/ai_font/data/test_ttf/report\"\n",
    "contentfd = \"/home/jupyter/ai_font/data/zipfiles/raw/size96/seen\"\n",
    "stylefd = \"/home/jupyter/ai_font/data/test_ttf/pngs\"\n",
    "filterfd = \"/home/jupyter/ai_font/data/test_ttf/filter\"\n",
    "os.makedirs(reportfd, exist_ok=True)"
   ]
  },
  {
   "cell_type": "code",
   "execution_count": null,
   "id": "7794955f-16a4-4ca2-9ee3-1e8816280152",
   "metadata": {},
   "outputs": [],
   "source": [
    "prototypes = {}\n",
    "for font in tqdm(fonts):\n",
    "    batchsize = 16\n",
    "    protofiles = [f\"{stylefd}/{f}\" for f in os.listdir(stylefd) if (font in f)&(\".png\" in f)]\n",
    "    ds = CustomDataset(protofiles, transform=transform)\n",
    "    c = 0\n",
    "    embs = []\n",
    "    while c < len(ds):\n",
    "        imgs = []\n",
    "        for _ in range(batchsize):\n",
    "            if c < len(ds):\n",
    "                imgs.append(ds[c])\n",
    "                c += 1\n",
    "        embs.append(style_measurer(torch.stack(imgs).cuda()).detach().cpu())\n",
    "    proto = torch.concat(embs).mean(0,keepdim=True)\n",
    "    prototypes[font] = proto"
   ]
  },
  {
   "cell_type": "code",
   "execution_count": null,
   "id": "139c9e3d-c99b-4a09-a0c6-4632962b0c2e",
   "metadata": {},
   "outputs": [],
   "source": [
    "import pickle\n",
    "with open(\"/home/jupyter/ai_font/data/test_ttf/prototypes.pickle\", \"wb\") as f:\n",
    "    pickle.dump(prototypes,f)"
   ]
  }
 ],
 "metadata": {
  "environment": {
   "kernel": "conda-env-pytorch-pytorch",
   "name": "workbench-notebooks.m120",
   "type": "gcloud",
   "uri": "us-docker.pkg.dev/deeplearning-platform-release/gcr.io/workbench-notebooks:m120"
  },
  "kernelspec": {
   "display_name": "PyTorch 1-13 (Local)",
   "language": "python",
   "name": "conda-env-pytorch-pytorch"
  },
  "language_info": {
   "codemirror_mode": {
    "name": "ipython",
    "version": 3
   },
   "file_extension": ".py",
   "mimetype": "text/x-python",
   "name": "python",
   "nbconvert_exporter": "python",
   "pygments_lexer": "ipython3",
   "version": "3.10.14"
  }
 },
 "nbformat": 4,
 "nbformat_minor": 5
}
