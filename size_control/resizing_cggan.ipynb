{
 "cells": [
  {
   "cell_type": "code",
   "execution_count": 111,
   "id": "62211dda-5659-4fbe-bd3f-9e72ac18bcf8",
   "metadata": {
    "tags": []
   },
   "outputs": [],
   "source": [
    "import os\n",
    "import pickle\n",
    "import numpy as np\n",
    "import pandas as pd\n",
    "import cv2\n",
    "from collections import defaultdict\n",
    "from tqdm import tqdm\n",
    "from fontTools.ttLib import TTFont\n",
    "from PIL import Image, ImageDraw, ImageFont\n",
    "\n",
    "def get_existing_chars(filename):\n",
    "    ttfont = TTFont(filename)\n",
    "    return list({chr(key) for table in ttfont['cmap'].tables for key in table.cmap.keys()})\n",
    "\n",
    "def get_image(font, char, size=128):\n",
    "    img = Image.new('L', (1000,1000), 255)\n",
    "\n",
    "    draw = ImageDraw.Draw(img)\n",
    "    draw.text((200,200), char, font=font)\n",
    "\n",
    "    npimg = 255 - np.array(img)\n",
    "    wmin = npimg.sum(0).nonzero()[0].min()\n",
    "    wmax = npimg.sum(0).nonzero()[0].max()\n",
    "    hmin = npimg.sum(1).nonzero()[0].min()\n",
    "    hmax = npimg.sum(1).nonzero()[0].max()\n",
    "\n",
    "    npimg = 255 - npimg[hmin:hmax+1,wmin:wmax+1]\n",
    "\n",
    "    whdiff = (wmax-wmin) - (hmax-hmin)\n",
    "    wmargin = abs(whdiff) // 2 if whdiff < 0 else 0\n",
    "    hmargin = abs(whdiff) // 2 if whdiff >= 0 else 0\n",
    "\n",
    "    npimg = np.pad(npimg, ((hmargin, hmargin), (wmargin, wmargin)),\n",
    "                       'constant', constant_values=255)\n",
    "    img = Image.fromarray(npimg)\n",
    "    \n",
    "    return img\n",
    "\n",
    "\n",
    "def get_image_size(font, char, size=128):\n",
    "    img = Image.new('L', (80,80), 255)\n",
    "\n",
    "    draw = ImageDraw.Draw(img)\n",
    "    draw.text((20,20), char, font=font)\n",
    "\n",
    "    npimg = 255 - np.array(img)\n",
    "    wmin = npimg.sum(0).nonzero()[0].min()\n",
    "    wmax = npimg.sum(0).nonzero()[0].max()\n",
    "    hmin = npimg.sum(1).nonzero()[0].min()\n",
    "    hmax = npimg.sum(1).nonzero()[0].max()\n",
    "    \n",
    "    return wmax-wmin, hmax-hmin\n",
    "\n",
    "def get_unpadded_borders(img):\n",
    "    kernel = cv2.getStructuringElement(cv2.MORPH_RECT,(3,3))\n",
    "    processed = cv2.morphologyEx(np.array(img), cv2.MORPH_CLOSE, kernel)\n",
    "    npimg = 255 - np.array(processed)\n",
    "    npimg[np.where(npimg < 16)] = 0\n",
    "    wmin = npimg.sum(0).nonzero()[0].min()\n",
    "    wmax = npimg.sum(0).nonzero()[0].max()\n",
    "    hmin = npimg.sum(1).nonzero()[0].min()\n",
    "    hmax = npimg.sum(1).nonzero()[0].max()\n",
    "    return wmin, wmax, hmin, hmax\n",
    "\n",
    "\n",
    "# utf-8\n",
    "def get_all_korean():\n",
    "\n",
    "    def nextKorLetterFrom(letter):\n",
    "        lastLetterInt = 15572643\n",
    "        if not letter:\n",
    "            return '가'\n",
    "        a = letter\n",
    "        b = a.encode('utf8')\n",
    "        c = int(b.hex(), 16)\n",
    "\n",
    "        if c == lastLetterInt:\n",
    "            return False\n",
    "\n",
    "        d = hex(c + 1)\n",
    "        e = bytearray.fromhex(d[2:])\n",
    "\n",
    "        flag = True\n",
    "        while flag:\n",
    "            try:\n",
    "                r = e.decode('utf-8')\n",
    "                flag = False\n",
    "            except UnicodeDecodeError:\n",
    "                c = c+1\n",
    "                d = hex(c)\n",
    "                e = bytearray.fromhex(d[2:])\n",
    "        return e.decode()\n",
    "\n",
    "    returns = []\n",
    "    flag = True\n",
    "    k = ''\n",
    "    while flag:\n",
    "        k = nextKorLetterFrom(k)\n",
    "        if k is False:\n",
    "            flag = False\n",
    "        else:\n",
    "            returns.append(k)\n",
    "    return returns\n",
    "\n",
    "ak = get_all_korean()\n",
    "\n",
    "def resize_with_padding(img, ratio, new_size, padding_color=255):\n",
    "    # Open the image\n",
    "    # Get the new dimensions based on the ratio\n",
    "    new_width = int(img.width * ratio)\n",
    "    new_height = int(img.height * ratio)\n",
    "    \n",
    "    # Resize the image using the new dimensions\n",
    "    resized_img = img.resize((new_width, new_height), Image.BILINEAR)\n",
    "    \n",
    "    # Create a new blank image with padding\n",
    "    padded_img = Image.new(\"L\", (new_size, new_size), padding_color)\n",
    "    \n",
    "    # Calculate the position to paste the resized image\n",
    "    left = (padded_img.width - resized_img.width) // 2\n",
    "    top = (padded_img.height - resized_img.height) // 2\n",
    "    right = left + resized_img.width\n",
    "    bottom = top + resized_img.height\n",
    "    \n",
    "    # Paste the resized image onto the blank image\n",
    "    padded_img.paste(resized_img, (left, top, right, bottom))\n",
    "    \n",
    "    return padded_img"
   ]
  },
  {
   "cell_type": "code",
   "execution_count": 2,
   "id": "1e8d9921-8107-4f1d-9464-92c47f41bc4f",
   "metadata": {
    "tags": []
   },
   "outputs": [],
   "source": [
    "ttffd = \"/home/jupyter/ai_font/data/train_ttfs\"\n",
    "fd = \"/home/jupyter/ai_font/data/train/\"\n",
    "\n",
    "fontfiles = sorted([(f.replace(\".ttf\",\"\"), f\"{ttffd}/{f}\") for f in os.listdir(ttffd) if f.endswith(\".ttf\")])"
   ]
  },
  {
   "cell_type": "code",
   "execution_count": 3,
   "id": "f4e77a69-da79-4c4a-9dd8-685aa3c50c5c",
   "metadata": {
    "tags": []
   },
   "outputs": [
    {
     "name": "stderr",
     "output_type": "stream",
     "text": [
      "100%|██████████| 428/428 [20:58<00:00,  2.94s/it]\n"
     ]
    }
   ],
   "source": [
    "font_size = 30\n",
    "pbar = tqdm([f for i,f in enumerate(fontfiles)])\n",
    "fontdicts = []\n",
    "for fontname, filename in pbar:\n",
    "\n",
    "    font = ImageFont.truetype(filename,font_size)\n",
    "    existing_chars = get_existing_chars(filename)\n",
    "    iter_chars = list(set(existing_chars).intersection(set(ak)))\n",
    "    for l in iter_chars:\n",
    "        try:\n",
    "            w,h = get_image_size(font, l)\n",
    "            fontdicts.append({\n",
    "                \"font\": fontname,\n",
    "                \"letter\": l,\n",
    "                \"w\": w,\n",
    "                \"h\": h,\n",
    "            })\n",
    "        except:\n",
    "            pass"
   ]
  },
  {
   "cell_type": "code",
   "execution_count": 4,
   "id": "e22d915c-5f2c-45d4-9163-5ca1f1279fc1",
   "metadata": {
    "tags": []
   },
   "outputs": [],
   "source": [
    "pd.DataFrame().from_dict(fontdicts).to_pickle(\"fontsizes.pickle\")"
   ]
  },
  {
   "cell_type": "markdown",
   "id": "13e08567-4358-43e0-8e09-6a6058b3c91d",
   "metadata": {},
   "source": [
    "0. get relative size ratio matrix of target font\n",
    "1. find target letters of train fonts\n",
    "2. make relative size ratio matrix\n",
    "3. find top 4 fonts by cosine similarity\n",
    "4. map average size of target letter to all letters as ratio\n",
    "5. apply the ratio to target font"
   ]
  },
  {
   "cell_type": "code",
   "execution_count": 112,
   "id": "ec3a9502-ad7d-4226-8db4-0afa305acf4f",
   "metadata": {
    "tags": []
   },
   "outputs": [],
   "source": [
    "# Get size of target font 플레이브밤비\n",
    "def unpadded_size(path):\n",
    "    img = Image.open(path)\n",
    "    wmin, wmax, hmin, hmax = get_unpadded_borders(img)\n",
    "    return npimg[wmin:wmax,hmin:hmax].shape"
   ]
  },
  {
   "cell_type": "code",
   "execution_count": 113,
   "id": "290dc9fa-2049-4074-b2a6-a0250aafba03",
   "metadata": {
    "tags": []
   },
   "outputs": [
    {
     "name": "stderr",
     "output_type": "stream",
     "text": [
      "100%|██████████| 132/132 [00:00<00:00, 1801.37it/s]\n"
     ]
    }
   ],
   "source": [
    "\n",
    "ak = get_all_korean()\n",
    "fd = \"/home/jupyter/ai_font/data/test/processed\"\n",
    "font = \"플레이브밤비\"\n",
    "target_font_size_dict = {}\n",
    "for path in tqdm(os.listdir(f\"{fd}/{font}\")):\n",
    "    if path.endswith(\".png\"):\n",
    "        letter = path.replace(\".png\",\"\").split(\"__\")[-1]\n",
    "        if letter in ak:\n",
    "            target_font_size_dict[letter] = unpadded_size(f\"{fd}/{font}/{path}\")"
   ]
  },
  {
   "cell_type": "code",
   "execution_count": 114,
   "id": "83f380a7-c309-45c3-80a8-ccc43b20d157",
   "metadata": {
    "tags": []
   },
   "outputs": [],
   "source": [
    "target_mean = np.mean([np.max(v) for v in target_font_size_dict.values()])"
   ]
  },
  {
   "cell_type": "code",
   "execution_count": 115,
   "id": "a92a676f-68ce-4371-b7d8-6c8727dd19c9",
   "metadata": {
    "tags": []
   },
   "outputs": [
    {
     "data": {
      "text/plain": [
       "70.98765432098766"
      ]
     },
     "execution_count": 115,
     "metadata": {},
     "output_type": "execute_result"
    }
   ],
   "source": [
    "target_mean"
   ]
  },
  {
   "cell_type": "code",
   "execution_count": 116,
   "id": "bc7026a4-d468-4bde-9aa2-a65326633b6a",
   "metadata": {
    "tags": []
   },
   "outputs": [],
   "source": [
    "target_ratios = {}\n",
    "for k,v in target_font_size_dict.items():\n",
    "    target_ratios[k] = np.max(v)/target_mean"
   ]
  },
  {
   "cell_type": "code",
   "execution_count": 117,
   "id": "c8ba12cf-cedc-40a7-9bd1-4d73970988f2",
   "metadata": {
    "tags": []
   },
   "outputs": [],
   "source": [
    "fontsizedf = pd.read_pickle(\"fontsizes.pickle\")"
   ]
  },
  {
   "cell_type": "code",
   "execution_count": 118,
   "id": "9cc35808-825d-4744-b3e8-e804297f08fe",
   "metadata": {
    "tags": []
   },
   "outputs": [],
   "source": [
    "fonts = np.unique(fontsizedf.font)\n",
    "font_dict = {}"
   ]
  },
  {
   "cell_type": "code",
   "execution_count": 119,
   "id": "2cfbe1c9-f39a-463c-8c04-b3f9761c8e08",
   "metadata": {
    "tags": []
   },
   "outputs": [
    {
     "name": "stderr",
     "output_type": "stream",
     "text": [
      "100%|██████████| 422/422 [01:18<00:00,  5.39it/s]\n"
     ]
    }
   ],
   "source": [
    "for f in tqdm(fonts):\n",
    "    a = fontsizedf[fontsizedf.font == f]\n",
    "    tempdict = pd.Series(index=a.letter, data = a[['w','h']].values.max(1)).to_dict()\n",
    "    f_mean = np.mean([tempdict[k] for k in target_font_size_dict.keys() if k in tempdict.keys()])\n",
    "    f_ratios = {k: tempdict[k]/f_mean for k,v in target_font_size_dict.items() if k in tempdict.keys()}\n",
    "    letters = sorted(list(set(f_ratios.keys()) & set(target_ratios.keys()) ))\n",
    "    # cs = cosine_similarity(np.array([[f_ratios[k] for k in letters]]),np.array([[target_ratios[k] for k in letters]])).item()\n",
    "    cs = np.linalg.norm(np.log([f_ratios[k] for k in letters]) - np.log([target_ratios[k] for k in letters])).item()\n",
    "    font_dict[f] = cs\n",
    "    if np.isnan(cs):\n",
    "        print(f)"
   ]
  },
  {
   "cell_type": "code",
   "execution_count": 120,
   "id": "cef77e23-53bc-4925-81bd-a0e8fc5eebd9",
   "metadata": {
    "tags": []
   },
   "outputs": [],
   "source": [
    "# top8fonts = list(pd.Series(font_dict).sort_values()[-8:].index)\n",
    "top8fonts = list(pd.Series(font_dict).sort_values()[:8].index)"
   ]
  },
  {
   "cell_type": "code",
   "execution_count": 121,
   "id": "9c1c824c-803a-4169-b66b-20d7005bf08b",
   "metadata": {
    "tags": []
   },
   "outputs": [
    {
     "name": "stderr",
     "output_type": "stream",
     "text": [
      "100%|██████████| 8/8 [00:01<00:00,  5.34it/s]\n"
     ]
    }
   ],
   "source": [
    "from collections import defaultdict\n",
    "\n",
    "f_ratios = defaultdict(list)\n",
    "for f in tqdm(top8fonts):\n",
    "    a = fontsizedf[fontsizedf.font == f]\n",
    "    tempdict = pd.Series(index=a.letter, data = a[['w','h']].values.max(1)).to_dict()\n",
    "    f_mean = np.mean([tempdict[k] for k in target_font_size_dict.keys() if k in tempdict.keys()])\n",
    "    for k in ak:\n",
    "        if k in tempdict.keys():\n",
    "            f_ratios[k].append(tempdict[k]/f_mean)"
   ]
  },
  {
   "cell_type": "code",
   "execution_count": 122,
   "id": "7f9fc2aa-902c-4464-bdf9-fe6221f94f2a",
   "metadata": {
    "tags": []
   },
   "outputs": [],
   "source": [
    "t_sizes = {k: np.mean(v)*target_mean for k,v in f_ratios.items()}"
   ]
  },
  {
   "cell_type": "code",
   "execution_count": 123,
   "id": "97312704-09f8-485d-b467-a8916b62d341",
   "metadata": {
    "tags": []
   },
   "outputs": [],
   "source": [
    "def resize_n_pad(path, newsize, ssize = 128):\n",
    "    img = Image.open(path).resize((ssize,ssize), Image.BILINEAR)\n",
    "    wmin, wmax, hmin, hmax = get_unpadded_borders(img)\n",
    "    gap = (wmax-wmin) - (hmax-hmin)\n",
    "    if gap > 0:\n",
    "        c = 0\n",
    "        switch = True\n",
    "        while c < abs(gap):\n",
    "            if switch:\n",
    "                if hmin > 0:\n",
    "                    hmin -= 1\n",
    "                    switch = not switch\n",
    "                    c += 1\n",
    "            else:\n",
    "                if hmax < ssize:\n",
    "                    hmax += 1\n",
    "                    switch = not switch\n",
    "                    c += 1\n",
    "    else:\n",
    "        c = 0\n",
    "        switch = True\n",
    "        while c < abs(gap):\n",
    "            if switch:\n",
    "                if wmin > 0:\n",
    "                    wmin -= 1\n",
    "                    switch = not switch\n",
    "                    c += 1\n",
    "                else:\n",
    "                    switch = not switch\n",
    "            else:\n",
    "                if wmax < ssize:\n",
    "                    wmax += 1\n",
    "                    switch = not switch\n",
    "                    c += 1\n",
    "                else:\n",
    "                    switch = not switch\n",
    "    # newsize = int(t_sizes['탈'])\n",
    "    img = Image.fromarray(np.array(img)[hmin:hmax,wmin:wmax]).resize((newsize,newsize), Image.BILINEAR)\n",
    "    new_img = Image.new(\"L\", (ssize,ssize), 255)\n",
    "    paste_spot = (ssize-newsize)//2\n",
    "    new_img.paste(img, (paste_spot,paste_spot))\n",
    "    return new_img\n"
   ]
  },
  {
   "cell_type": "code",
   "execution_count": 124,
   "id": "6d48c5c1-e6b4-4c30-b825-75176e829a3a",
   "metadata": {
    "tags": []
   },
   "outputs": [
    {
     "name": "stderr",
     "output_type": "stream",
     "text": [
      "100%|██████████| 11172/11172 [00:34<00:00, 328.43it/s]\n"
     ]
    }
   ],
   "source": [
    "tfont = \"플레이브밤비\"\n",
    "reportfd = \"/home/jupyter/ai_font/data/reports/exp0604/cggan/i740000\"\n",
    "savefd = \"/home/jupyter/ai_font/data/reports/fontdiffuser/resized\"\n",
    "os.makedirs(savefd, exist_ok=True)\n",
    "for k, v in tqdm(t_sizes.items()):\n",
    "    path = f\"{reportfd}/cggan__i740000__{tfont}__{k}.png\"\n",
    "    if os.path.exists(path):\n",
    "        newimg = resize_n_pad(path, int(t_sizes[k]))\n",
    "        newimg.save(f\"{savefd}/cggan__i740000__{tfont}__{k}.png\")"
   ]
  },
  {
   "cell_type": "code",
   "execution_count": 19,
   "id": "c8d0195c-eb88-4391-ad23-4fe713c7e442",
   "metadata": {},
   "outputs": [],
   "source": [
    "k = '토'"
   ]
  },
  {
   "cell_type": "code",
   "execution_count": 20,
   "id": "ca60c83d-c890-456a-b146-6877a37bba92",
   "metadata": {
    "tags": []
   },
   "outputs": [],
   "source": [
    "path = f\"{reportfd}/cggan__i740000__{tfont}__{k}.png\""
   ]
  },
  {
   "cell_type": "code",
   "execution_count": 55,
   "id": "731e76eb-c6fb-45ad-9267-6b110a5a3e6b",
   "metadata": {
    "tags": []
   },
   "outputs": [],
   "source": [
    "if os.path.exists(path):\n",
    "    newimg = resize_n_pad(path, int(t_sizes[k]))"
   ]
  },
  {
   "cell_type": "code",
   "execution_count": 56,
   "id": "012a105f-cfcd-4df3-b865-0dfe5ad077e8",
   "metadata": {
    "tags": []
   },
   "outputs": [
    {
     "data": {
      "image/jpeg": "[encoded data removed]",
      "image/png": "[encoded data removed]",
      "text/plain": [
       "<PIL.Image.Image image mode=L size=128x128>"
      ]
     },
     "execution_count": 56,
     "metadata": {},
     "output_type": "execute_result"
    }
   ],
   "source": [
    "newimg"
   ]
  },
  {
   "cell_type": "code",
   "execution_count": 57,
   "id": "3700a73c-5083-4c9f-9877-c262d110c609",
   "metadata": {
    "tags": []
   },
   "outputs": [
    {
     "data": {
      "image/jpeg": "[encoded data removed]",
      "image/png": "[encoded data removed]",
      "text/plain": [
       "<PIL.PngImagePlugin.PngImageFile image mode=RGB size=128x128>"
      ]
     },
     "execution_count": 57,
     "metadata": {},
     "output_type": "execute_result"
    }
   ],
   "source": [
    "Image.open(path)"
   ]
  },
  {
   "cell_type": "code",
   "execution_count": 61,
   "id": "2005c76a-eae1-4aa2-9c9c-a37facdf2866",
   "metadata": {
    "tags": []
   },
   "outputs": [
    {
     "data": {
      "image/jpeg": "[encoded data removed]",
      "image/png": "[encoded data removed]",
      "text/plain": [
       "<PIL.PngImagePlugin.PngImageFile image mode=L size=128x128>"
      ]
     },
     "execution_count": 61,
     "metadata": {},
     "output_type": "execute_result"
    }
   ],
   "source": [
    "Image.open(\"/home/jupyter/ai_font/data/test/processed/플레이브밤비/플레이브밤비__closing__토.png\")"
   ]
  },
  {
   "cell_type": "code",
   "execution_count": 63,
   "id": "604892e1-60dd-403e-b985-32b2fbd644f3",
   "metadata": {
    "tags": []
   },
   "outputs": [
    {
     "data": {
      "text/plain": [
       "61.54390255807957"
      ]
     },
     "execution_count": 63,
     "metadata": {},
     "output_type": "execute_result"
    }
   ],
   "source": [
    "t_sizes['토']"
   ]
  },
  {
   "cell_type": "code",
   "execution_count": 68,
   "id": "cf8116fa-3372-4a8e-823b-311705908f39",
   "metadata": {
    "tags": []
   },
   "outputs": [
    {
     "data": {
      "text/plain": [
       "0.8504019288987454"
      ]
     },
     "execution_count": 68,
     "metadata": {},
     "output_type": "execute_result"
    }
   ],
   "source": [
    "np.mean(f_ratios['토'])"
   ]
  },
  {
   "cell_type": "code",
   "execution_count": 67,
   "id": "6f9ca702-4f58-404b-9f11-bafa41b0cf55",
   "metadata": {
    "tags": []
   },
   "outputs": [
    {
     "data": {
      "text/plain": [
       "0.8014329580348004"
      ]
     },
     "execution_count": 67,
     "metadata": {},
     "output_type": "execute_result"
    }
   ],
   "source": [
    "target_ratios['토']"
   ]
  },
  {
   "cell_type": "code",
   "execution_count": 69,
   "id": "a577259a-3172-4937-ba14-7966d389ad94",
   "metadata": {
    "tags": []
   },
   "outputs": [
    {
     "data": {
      "text/plain": [
       "72.37037037037037"
      ]
     },
     "execution_count": 69,
     "metadata": {},
     "output_type": "execute_result"
    }
   ],
   "source": [
    "target_mean"
   ]
  },
  {
   "cell_type": "code",
   "execution_count": 102,
   "id": "e1ca0df1-e5b4-4319-bdf4-d2c55671a1a2",
   "metadata": {
    "tags": []
   },
   "outputs": [],
   "source": [
    "path = \"/home/jupyter/ai_font/data/test/processed/플레이브밤비/플레이브밤비__closing__토.png\"\n",
    "img = Image.open(path)\n",
    "img = kimg\n",
    "npimg = 255 - np.array(img)\n",
    "npimg[np.where(npimg < 16)] = 0\n",
    "wmin = npimg.sum(0).nonzero()[0].min()\n",
    "wmax = npimg.sum(0).nonzero()[0].max()\n",
    "hmin = npimg.sum(1).nonzero()[0].min()\n",
    "hmax = npimg.sum(1).nonzero()[0].max()"
   ]
  },
  {
   "cell_type": "code",
   "execution_count": 103,
   "id": "7641b3c6-f6b5-4896-94d6-0d4cdd4baa38",
   "metadata": {
    "tags": []
   },
   "outputs": [
    {
     "data": {
      "text/plain": [
       "60"
      ]
     },
     "execution_count": 103,
     "metadata": {},
     "output_type": "execute_result"
    }
   ],
   "source": [
    "wmin"
   ]
  },
  {
   "cell_type": "code",
   "execution_count": 104,
   "id": "47a77a53-8cd0-4bc9-9346-fa02a11252af",
   "metadata": {
    "tags": []
   },
   "outputs": [
    {
     "data": {
      "text/plain": [
       "88"
      ]
     },
     "execution_count": 104,
     "metadata": {},
     "output_type": "execute_result"
    }
   ],
   "source": [
    "wmax"
   ]
  },
  {
   "cell_type": "code",
   "execution_count": 105,
   "id": "2a452e34-cac2-44a0-9c18-588b5e4b3cf3",
   "metadata": {
    "tags": []
   },
   "outputs": [
    {
     "data": {
      "text/plain": [
       "54"
      ]
     },
     "execution_count": 105,
     "metadata": {},
     "output_type": "execute_result"
    }
   ],
   "source": [
    "hmin"
   ]
  },
  {
   "cell_type": "code",
   "execution_count": 106,
   "id": "50c91934-e22e-4524-8251-3c78dd10d66d",
   "metadata": {
    "tags": []
   },
   "outputs": [
    {
     "data": {
      "text/plain": [
       "93"
      ]
     },
     "execution_count": 106,
     "metadata": {},
     "output_type": "execute_result"
    }
   ],
   "source": [
    "hmax"
   ]
  },
  {
   "cell_type": "code",
   "execution_count": 107,
   "id": "5236b2f3-dfae-4f08-aa10-5d1a416e667e",
   "metadata": {
    "tags": []
   },
   "outputs": [
    {
     "data": {
      "image/jpeg": "[encoded data removed]",
      "image/png": "[encoded data removed]",
      "text/plain": [
       "<PIL.Image.Image image mode=L size=128x128>"
      ]
     },
     "execution_count": 107,
     "metadata": {},
     "output_type": "execute_result"
    }
   ],
   "source": [
    "img"
   ]
  },
  {
   "cell_type": "code",
   "execution_count": 108,
   "id": "31e55e1d-9332-4b13-b912-c65f20fc6559",
   "metadata": {
    "tags": []
   },
   "outputs": [
    {
     "data": {
      "image/jpeg": "[encoded data removed]",
      "image/png": "[encoded data removed]",
      "text/plain": [
       "<PIL.Image.Image image mode=L size=28x39>"
      ]
     },
     "execution_count": 108,
     "metadata": {},
     "output_type": "execute_result"
    }
   ],
   "source": [
    "Image.fromarray(np.array(img)[hmin:hmax,wmin:wmax])"
   ]
  },
  {
   "cell_type": "code",
   "execution_count": 109,
   "id": "aa0795a7-4d35-4616-b45b-ff02cf08e2c3",
   "metadata": {
    "tags": []
   },
   "outputs": [
    {
     "data": {
      "text/plain": [
       "39"
      ]
     },
     "execution_count": 109,
     "metadata": {},
     "output_type": "execute_result"
    }
   ],
   "source": [
    "hmax-hmin"
   ]
  },
  {
   "cell_type": "code",
   "execution_count": 87,
   "id": "e1e42281-940c-4110-b40e-64be07098646",
   "metadata": {
    "tags": []
   },
   "outputs": [],
   "source": [
    "import cv2"
   ]
  },
  {
   "cell_type": "code",
   "execution_count": 89,
   "id": "c9b88c58-9468-4bbb-a79e-138845309ecd",
   "metadata": {
    "tags": []
   },
   "outputs": [],
   "source": [
    "kernel = cv2.getStructuringElement(cv2.MORPH_RECT,(3,3))\n",
    "processed = cv2.morphologyEx(np.array(img), cv2.MORPH_CLOSE, kernel)"
   ]
  },
  {
   "cell_type": "code",
   "execution_count": 93,
   "id": "19d23ddb-9b0d-438c-87a3-108103ea5508",
   "metadata": {
    "tags": []
   },
   "outputs": [],
   "source": [
    "kimg = Image.fromarray(processed)"
   ]
  },
  {
   "cell_type": "code",
   "execution_count": null,
   "id": "dc4d40df-4716-496f-924e-a863d167b0ae",
   "metadata": {},
   "outputs": [],
   "source": []
  }
 ],
 "metadata": {
  "environment": {
   "kernel": "conda-env-pytorch-pytorch",
   "name": "workbench-notebooks.m122",
   "type": "gcloud",
   "uri": "us-docker.pkg.dev/deeplearning-platform-release/gcr.io/workbench-notebooks:m122"
  },
  "kernelspec": {
   "display_name": "PyTorch 1-13 (Local)",
   "language": "python",
   "name": "conda-env-pytorch-pytorch"
  },
  "language_info": {
   "codemirror_mode": {
    "name": "ipython",
    "version": 3
   },
   "file_extension": ".py",
   "mimetype": "text/x-python",
   "name": "python",
   "nbconvert_exporter": "python",
   "pygments_lexer": "ipython3",
   "version": "3.10.14"
  }
 },
 "nbformat": 4,
 "nbformat_minor": 5
}
