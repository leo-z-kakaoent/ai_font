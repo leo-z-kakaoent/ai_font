{
 "cells": [
  {
   "cell_type": "code",
   "execution_count": 1,
   "id": "62211dda-5659-4fbe-bd3f-9e72ac18bcf8",
   "metadata": {
    "tags": []
   },
   "outputs": [],
   "source": [
    "import os\n",
    "import pickle\n",
    "import numpy as np\n",
    "import pandas as pd\n",
    "import cv2\n",
    "from collections import defaultdict\n",
    "from tqdm import tqdm\n",
    "from fontTools.ttLib import TTFont\n",
    "from PIL import Image, ImageDraw, ImageFont\n",
    "\n",
    "def get_existing_chars(filename):\n",
    "    ttfont = TTFont(filename)\n",
    "    return list({chr(key) for table in ttfont['cmap'].tables for key in table.cmap.keys()})\n",
    "\n",
    "def get_image(font, char, size=128):\n",
    "    img = Image.new('L', (1000,1000), 255)\n",
    "\n",
    "    draw = ImageDraw.Draw(img)\n",
    "    draw.text((200,200), char, font=font)\n",
    "\n",
    "    npimg = 255 - np.array(img)\n",
    "    wmin = npimg.sum(0).nonzero()[0].min()\n",
    "    wmax = npimg.sum(0).nonzero()[0].max()\n",
    "    hmin = npimg.sum(1).nonzero()[0].min()\n",
    "    hmax = npimg.sum(1).nonzero()[0].max()\n",
    "\n",
    "    npimg = 255 - npimg[hmin:hmax+1,wmin:wmax+1]\n",
    "\n",
    "    whdiff = (wmax-wmin) - (hmax-hmin)\n",
    "    wmargin = abs(whdiff) // 2 if whdiff < 0 else 0\n",
    "    hmargin = abs(whdiff) // 2 if whdiff >= 0 else 0\n",
    "\n",
    "    npimg = np.pad(npimg, ((hmargin, hmargin), (wmargin, wmargin)),\n",
    "                       'constant', constant_values=255)\n",
    "    img = Image.fromarray(npimg)\n",
    "    \n",
    "    return img\n",
    "\n",
    "\n",
    "def get_image_size(font, char, size=128):\n",
    "    img = Image.new('L', (80,80), 255)\n",
    "\n",
    "    draw = ImageDraw.Draw(img)\n",
    "    draw.text((20,20), char, font=font)\n",
    "\n",
    "    npimg = 255 - np.array(img)\n",
    "    wmin = npimg.sum(0).nonzero()[0].min()\n",
    "    wmax = npimg.sum(0).nonzero()[0].max()\n",
    "    hmin = npimg.sum(1).nonzero()[0].min()\n",
    "    hmax = npimg.sum(1).nonzero()[0].max()\n",
    "    \n",
    "    return wmax-wmin, hmax-hmin\n",
    "\n",
    "def get_unpadded_borders(img):\n",
    "    kernel = cv2.getStructuringElement(cv2.MORPH_RECT,(3,3))\n",
    "    processed = cv2.morphologyEx(np.array(img), cv2.MORPH_CLOSE, kernel)\n",
    "    npimg = 255 - np.array(processed)\n",
    "    npimg[np.where(npimg < 16)] = 0\n",
    "    wmin = npimg.sum(0).nonzero()[0].min()\n",
    "    wmax = npimg.sum(0).nonzero()[0].max()\n",
    "    hmin = npimg.sum(1).nonzero()[0].min()\n",
    "    hmax = npimg.sum(1).nonzero()[0].max()\n",
    "    return wmin, wmax, hmin, hmax\n",
    "\n",
    "\n",
    "# utf-8\n",
    "def get_all_korean():\n",
    "\n",
    "    def nextKorLetterFrom(letter):\n",
    "        lastLetterInt = 15572643\n",
    "        if not letter:\n",
    "            return '가'\n",
    "        a = letter\n",
    "        b = a.encode('utf8')\n",
    "        c = int(b.hex(), 16)\n",
    "\n",
    "        if c == lastLetterInt:\n",
    "            return False\n",
    "\n",
    "        d = hex(c + 1)\n",
    "        e = bytearray.fromhex(d[2:])\n",
    "\n",
    "        flag = True\n",
    "        while flag:\n",
    "            try:\n",
    "                r = e.decode('utf-8')\n",
    "                flag = False\n",
    "            except UnicodeDecodeError:\n",
    "                c = c+1\n",
    "                d = hex(c)\n",
    "                e = bytearray.fromhex(d[2:])\n",
    "        return e.decode()\n",
    "\n",
    "    returns = []\n",
    "    flag = True\n",
    "    k = ''\n",
    "    while flag:\n",
    "        k = nextKorLetterFrom(k)\n",
    "        if k is False:\n",
    "            flag = False\n",
    "        else:\n",
    "            returns.append(k)\n",
    "    return returns\n",
    "\n",
    "ak = get_all_korean()\n",
    "\n",
    "def resize_with_padding(img, ratio, new_size, padding_color=255):\n",
    "    # Open the image\n",
    "    # Get the new dimensions based on the ratio\n",
    "    new_width = int(img.width * ratio)\n",
    "    new_height = int(img.height * ratio)\n",
    "    \n",
    "    # Resize the image using the new dimensions\n",
    "    resized_img = img.resize((new_width, new_height), Image.BILINEAR)\n",
    "    \n",
    "    # Create a new blank image with padding\n",
    "    padded_img = Image.new(\"L\", (new_size, new_size), padding_color)\n",
    "    \n",
    "    # Calculate the position to paste the resized image\n",
    "    left = (padded_img.width - resized_img.width) // 2\n",
    "    top = (padded_img.height - resized_img.height) // 2\n",
    "    right = left + resized_img.width\n",
    "    bottom = top + resized_img.height\n",
    "    \n",
    "    # Paste the resized image onto the blank image\n",
    "    padded_img.paste(resized_img, (left, top, right, bottom))\n",
    "    \n",
    "    return padded_img"
   ]
  },
  {
   "cell_type": "code",
   "execution_count": 2,
   "id": "1e8d9921-8107-4f1d-9464-92c47f41bc4f",
   "metadata": {
    "tags": []
   },
   "outputs": [],
   "source": [
    "ttffd = \"/home/jupyter/ai_font/data/train_ttfs\"\n",
    "fd = \"/home/jupyter/ai_font/data/train/\"\n",
    "\n",
    "fontfiles = sorted([(f.replace(\".ttf\",\"\"), f\"{ttffd}/{f}\") for f in os.listdir(ttffd) if f.endswith(\".ttf\")])"
   ]
  },
  {
   "cell_type": "code",
   "execution_count": 3,
   "id": "f4e77a69-da79-4c4a-9dd8-685aa3c50c5c",
   "metadata": {
    "tags": []
   },
   "outputs": [
    {
     "name": "stderr",
     "output_type": "stream",
     "text": [
      "100%|██████████| 428/428 [20:58<00:00,  2.94s/it]\n"
     ]
    }
   ],
   "source": [
    "font_size = 30\n",
    "pbar = tqdm([f for i,f in enumerate(fontfiles)])\n",
    "fontdicts = []\n",
    "for fontname, filename in pbar:\n",
    "\n",
    "    font = ImageFont.truetype(filename,font_size)\n",
    "    existing_chars = get_existing_chars(filename)\n",
    "    iter_chars = list(set(existing_chars).intersection(set(ak)))\n",
    "    for l in iter_chars:\n",
    "        try:\n",
    "            w,h = get_image_size(font, l)\n",
    "            fontdicts.append({\n",
    "                \"font\": fontname,\n",
    "                \"letter\": l,\n",
    "                \"w\": w,\n",
    "                \"h\": h,\n",
    "            })\n",
    "        except:\n",
    "            pass"
   ]
  },
  {
   "cell_type": "code",
   "execution_count": 4,
   "id": "e22d915c-5f2c-45d4-9163-5ca1f1279fc1",
   "metadata": {
    "tags": []
   },
   "outputs": [],
   "source": [
    "pd.DataFrame().from_dict(fontdicts).to_pickle(\"fontsizes.pickle\")"
   ]
  },
  {
   "cell_type": "markdown",
   "id": "13e08567-4358-43e0-8e09-6a6058b3c91d",
   "metadata": {},
   "source": [
    "0. get relative size ratio matrix of target font\n",
    "1. find target letters of train fonts\n",
    "2. make relative size ratio matrix\n",
    "3. find top 4 fonts by cosine similarity\n",
    "4. map average size of target letter to all letters as ratio\n",
    "5. apply the ratio to target font"
   ]
  },
  {
   "cell_type": "code",
   "execution_count": 5,
   "id": "ec3a9502-ad7d-4226-8db4-0afa305acf4f",
   "metadata": {
    "tags": []
   },
   "outputs": [],
   "source": [
    "# Get size of target font 플레이브밤비\n",
    "def unpadded_size(path):\n",
    "    img = Image.open(path)\n",
    "    wmin, wmax, hmin, hmax = get_unpadded_borders(img)\n",
    "    return np.array(img)[wmin:wmax,hmin:hmax].shape"
   ]
  },
  {
   "cell_type": "code",
   "execution_count": 6,
   "id": "290dc9fa-2049-4074-b2a6-a0250aafba03",
   "metadata": {
    "tags": []
   },
   "outputs": [
    {
     "name": "stderr",
     "output_type": "stream",
     "text": [
      "100%|██████████| 132/132 [00:00<00:00, 1732.88it/s]\n"
     ]
    }
   ],
   "source": [
    "from sklearn.metrics.pairwise import cosine_similarity\n",
    "\n",
    "ak = get_all_korean()\n",
    "fd = \"/home/jupyter/ai_font/data/test/processed\"\n",
    "font = \"플레이브밤비\"\n",
    "target_font_size_dict = {}\n",
    "for path in tqdm(os.listdir(f\"{fd}/{font}\")):\n",
    "    if path.endswith(\".png\"):\n",
    "        letter = path.replace(\".png\",\"\").split(\"__\")[-1]\n",
    "        if letter in ak:\n",
    "            target_font_size_dict[letter] = unpadded_size(f\"{fd}/{font}/{path}\")"
   ]
  },
  {
   "cell_type": "code",
   "execution_count": 7,
   "id": "83f380a7-c309-45c3-80a8-ccc43b20d157",
   "metadata": {
    "tags": []
   },
   "outputs": [],
   "source": [
    "target_mean = np.mean([np.max(v) for v in target_font_size_dict.values()])"
   ]
  },
  {
   "cell_type": "code",
   "execution_count": 8,
   "id": "a92a676f-68ce-4371-b7d8-6c8727dd19c9",
   "metadata": {
    "tags": []
   },
   "outputs": [
    {
     "data": {
      "text/plain": [
       "70.98765432098766"
      ]
     },
     "execution_count": 8,
     "metadata": {},
     "output_type": "execute_result"
    }
   ],
   "source": [
    "target_mean"
   ]
  },
  {
   "cell_type": "code",
   "execution_count": 9,
   "id": "bc7026a4-d468-4bde-9aa2-a65326633b6a",
   "metadata": {
    "tags": []
   },
   "outputs": [],
   "source": [
    "target_ratios = {}\n",
    "for k,v in target_font_size_dict.items():\n",
    "    target_ratios[k] = np.max(v)/target_mean"
   ]
  },
  {
   "cell_type": "code",
   "execution_count": 10,
   "id": "c8ba12cf-cedc-40a7-9bd1-4d73970988f2",
   "metadata": {
    "tags": []
   },
   "outputs": [],
   "source": [
    "fontsizedf = pd.read_pickle(\"fontsizes.pickle\")"
   ]
  },
  {
   "cell_type": "code",
   "execution_count": 11,
   "id": "9cc35808-825d-4744-b3e8-e804297f08fe",
   "metadata": {
    "tags": []
   },
   "outputs": [],
   "source": [
    "fonts = np.unique(fontsizedf.font)\n",
    "font_dict = {}"
   ]
  },
  {
   "cell_type": "code",
   "execution_count": 12,
   "id": "2cfbe1c9-f39a-463c-8c04-b3f9761c8e08",
   "metadata": {
    "tags": []
   },
   "outputs": [
    {
     "name": "stderr",
     "output_type": "stream",
     "text": [
      "100%|██████████| 422/422 [01:18<00:00,  5.37it/s]\n"
     ]
    }
   ],
   "source": [
    "for f in tqdm(fonts):\n",
    "    a = fontsizedf[fontsizedf.font == f]\n",
    "    tempdict = pd.Series(index=a.letter, data = a[['w','h']].values.max(1)).to_dict()\n",
    "    f_mean = np.mean([tempdict[k] for k in target_font_size_dict.keys() if k in tempdict.keys()])\n",
    "    f_ratios = {k: tempdict[k]/f_mean for k,v in target_font_size_dict.items() if k in tempdict.keys()}\n",
    "    letters = sorted(list(set(f_ratios.keys()) & set(target_ratios.keys()) ))\n",
    "    # cs = cosine_similarity(np.array([[f_ratios[k] for k in letters]]),np.array([[target_ratios[k] for k in letters]])).item()\n",
    "    cs = np.linalg.norm(np.log([f_ratios[k] for k in letters]) - np.log([target_ratios[k] for k in letters])).item()\n",
    "    font_dict[f] = cs\n",
    "    if np.isnan(cs):\n",
    "        print(f)"
   ]
  },
  {
   "cell_type": "code",
   "execution_count": 13,
   "id": "cef77e23-53bc-4925-81bd-a0e8fc5eebd9",
   "metadata": {
    "tags": []
   },
   "outputs": [],
   "source": [
    "# top8fonts = list(pd.Series(font_dict).sort_values()[-8:].index)\n",
    "top8fonts = list(pd.Series(font_dict).sort_values()[:8].index)"
   ]
  },
  {
   "cell_type": "code",
   "execution_count": 14,
   "id": "9c1c824c-803a-4169-b66b-20d7005bf08b",
   "metadata": {
    "tags": []
   },
   "outputs": [
    {
     "name": "stderr",
     "output_type": "stream",
     "text": [
      "100%|██████████| 8/8 [00:01<00:00,  5.32it/s]\n"
     ]
    }
   ],
   "source": [
    "from collections import defaultdict\n",
    "\n",
    "f_ratios = defaultdict(list)\n",
    "for f in tqdm(top8fonts):\n",
    "    a = fontsizedf[fontsizedf.font == f]\n",
    "    tempdict = pd.Series(index=a.letter, data = a[['w','h']].values.max(1)).to_dict()\n",
    "    f_mean = np.mean([tempdict[k] for k in target_font_size_dict.keys() if k in tempdict.keys()])\n",
    "    for k in ak:\n",
    "        if k in tempdict.keys():\n",
    "            f_ratios[k].append(tempdict[k]/f_mean)"
   ]
  },
  {
   "cell_type": "code",
   "execution_count": 15,
   "id": "7f9fc2aa-902c-4464-bdf9-fe6221f94f2a",
   "metadata": {
    "tags": []
   },
   "outputs": [],
   "source": [
    "t_sizes = {k: np.mean(v)*target_mean for k,v in f_ratios.items()}"
   ]
  },
  {
   "cell_type": "code",
   "execution_count": 16,
   "id": "97312704-09f8-485d-b467-a8916b62d341",
   "metadata": {
    "tags": []
   },
   "outputs": [],
   "source": [
    "def resize_n_pad(path, newsize, ssize = 128):\n",
    "    img = Image.open(path).resize((ssize,ssize), Image.BILINEAR)\n",
    "    wmin, wmax, hmin, hmax = get_unpadded_borders(img)\n",
    "    gap = (wmax-wmin) - (hmax-hmin)\n",
    "    if gap > 0:\n",
    "        c = 0\n",
    "        switch = True\n",
    "        while c < abs(gap):\n",
    "            if switch:\n",
    "                if hmin > 0:\n",
    "                    hmin -= 1\n",
    "                    switch = not switch\n",
    "                    c += 1\n",
    "            else:\n",
    "                if hmax < ssize:\n",
    "                    hmax += 1\n",
    "                    switch = not switch\n",
    "                    c += 1\n",
    "    else:\n",
    "        c = 0\n",
    "        switch = True\n",
    "        while c < abs(gap):\n",
    "            if switch:\n",
    "                if wmin > 0:\n",
    "                    wmin -= 1\n",
    "                    switch = not switch\n",
    "                    c += 1\n",
    "                else:\n",
    "                    switch = not switch\n",
    "            else:\n",
    "                if wmax < ssize:\n",
    "                    wmax += 1\n",
    "                    switch = not switch\n",
    "                    c += 1\n",
    "                else:\n",
    "                    switch = not switch\n",
    "    # newsize = int(t_sizes['탈'])\n",
    "    img = Image.fromarray(np.array(img)[hmin:hmax,wmin:wmax]).resize((newsize,newsize), Image.BILINEAR)\n",
    "    new_img = Image.new(\"L\", (ssize,ssize), 255)\n",
    "    paste_spot = (ssize-newsize)//2\n",
    "    new_img.paste(img, (paste_spot,paste_spot))\n",
    "    return new_img\n"
   ]
  },
  {
   "cell_type": "code",
   "execution_count": 17,
   "id": "6d48c5c1-e6b4-4c30-b825-75176e829a3a",
   "metadata": {
    "tags": []
   },
   "outputs": [
    {
     "name": "stderr",
     "output_type": "stream",
     "text": [
      "100%|██████████| 11172/11172 [00:28<00:00, 385.95it/s]\n"
     ]
    }
   ],
   "source": [
    "tfont = \"플레이브밤비\"\n",
    "reportfd = \"/home/jupyter/ai_font/data/reports/fontdiffuser/phase2/i30000\"\n",
    "savefd = \"/home/jupyter/ai_font/data/reports/fontdiffuser/resized\"\n",
    "os.makedirs(savefd, exist_ok=True)\n",
    "for k, v in tqdm(t_sizes.items()):\n",
    "    path = f\"{reportfd}/fontdiffuser_phase2__{tfont}__{k}.png\"\n",
    "    if os.path.exists(path):\n",
    "        newimg = resize_n_pad(path, int(t_sizes[k]))\n",
    "        newimg.save(f\"{savefd}/fontdiffuser_phase2__{tfont}__{k}.png\")"
   ]
  },
  {
   "cell_type": "code",
   "execution_count": null,
   "id": "c8d0195c-eb88-4391-ad23-4fe713c7e442",
   "metadata": {},
   "outputs": [],
   "source": []
  }
 ],
 "metadata": {
  "environment": {
   "kernel": "conda-env-pytorch-pytorch",
   "name": "workbench-notebooks.m122",
   "type": "gcloud",
   "uri": "us-docker.pkg.dev/deeplearning-platform-release/gcr.io/workbench-notebooks:m122"
  },
  "kernelspec": {
   "display_name": "PyTorch 1-13 (Local)",
   "language": "python",
   "name": "conda-env-pytorch-pytorch"
  },
  "language_info": {
   "codemirror_mode": {
    "name": "ipython",
    "version": 3
   },
   "file_extension": ".py",
   "mimetype": "text/x-python",
   "name": "python",
   "nbconvert_exporter": "python",
   "pygments_lexer": "ipython3",
   "version": "3.10.14"
  }
 },
 "nbformat": 4,
 "nbformat_minor": 5
}
