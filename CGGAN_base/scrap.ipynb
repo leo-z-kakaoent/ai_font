{
 "cells": [
  {
   "cell_type": "code",
   "execution_count": 13,
   "metadata": {
    "collapsed": true
   },
   "outputs": [],
   "source": [
    "import torch\n",
    "import itertools\n",
    "from torch.utils.data import DataLoader\n",
    "\n",
    "from dataset import FontDataset\n",
    "from models import Discriminator, ContentEncoder, StyleEncoder, Decoder\n",
    "from losses import DisLoss\n",
    "from accelerate import Accelerator"
   ]
  },
  {
   "cell_type": "code",
   "execution_count": 14,
   "outputs": [],
   "source": [
    "lr = 0.0002\n",
    "beta1 = 0.5"
   ],
   "metadata": {
    "collapsed": false
   }
  },
  {
   "cell_type": "code",
   "execution_count": 15,
   "outputs": [
    {
     "ename": "TypeError",
     "evalue": "FontDataset.__init__() missing 1 required positional argument: 'path'",
     "output_type": "error",
     "traceback": [
      "\u001B[0;31m---------------------------------------------------------------------------\u001B[0m",
      "\u001B[0;31mTypeError\u001B[0m                                 Traceback (most recent call last)",
      "Cell \u001B[0;32mIn[15], line 2\u001B[0m\n\u001B[1;32m      1\u001B[0m accelerator \u001B[38;5;241m=\u001B[39m Accelerator()\n\u001B[0;32m----> 2\u001B[0m dataset \u001B[38;5;241m=\u001B[39m \u001B[43mFontDataset\u001B[49m\u001B[43m(\u001B[49m\u001B[43m)\u001B[49m\n\u001B[1;32m      3\u001B[0m dataloader \u001B[38;5;241m=\u001B[39m torch\u001B[38;5;241m.\u001B[39mutils\u001B[38;5;241m.\u001B[39mdata\u001B[38;5;241m.\u001B[39mDataLoader(dataset, batch_size\u001B[38;5;241m=\u001B[39m\u001B[38;5;241m64\u001B[39m, shuffle\u001B[38;5;241m=\u001B[39m\u001B[38;5;28;01mTrue\u001B[39;00m)\n\u001B[1;32m      4\u001B[0m discriminator \u001B[38;5;241m=\u001B[39m Discriminator()\n",
      "\u001B[0;31mTypeError\u001B[0m: FontDataset.__init__() missing 1 required positional argument: 'path'"
     ]
    }
   ],
   "source": [
    "accelerator = Accelerator()\n",
    "dataset = FontDataset()\n",
    "dataloader = torch.utils.data.DataLoader(dataset, batch_size=64, shuffle=True)\n",
    "discriminator = Discriminator()\n",
    "content_encoder = ContentEncoder(G_ch=64)\n",
    "style_encoder = StyleEncoder(G_ch=64)\n",
    "decoder = Decoder(G_ch=64, nEmbedding=1024)"
   ],
   "metadata": {
    "collapsed": false
   }
  },
  {
   "cell_type": "code",
   "execution_count": 12,
   "outputs": [],
   "source": [
    "optimizer_G = torch.optim.Adam(itertools.chain(\n",
    "    content_encoder.parameters(),\n",
    "    style_encoder.parameters(),\n",
    "    decoder.parameters()), lr=lr, betas=(beta1, 0.999))\n",
    "optimizer_D = torch.optim.Adam(discriminator.parameters(), lr=lr, betas=(beta1, 0.999))\n",
    "\n",
    "criterionD = DisLoss()"
   ],
   "metadata": {
    "collapsed": false
   }
  },
  {
   "cell_type": "code",
   "execution_count": null,
   "outputs": [],
   "source": [
    "dataloader, content_encoder, style_encoder, decoder, discriminator, optimizer_D, optimizer_G = accelerator.prepare(\n",
    "    dataloader, content_encoder, style_encoder, decoder, discriminator, optimizer_D, optimizer_G)"
   ],
   "metadata": {
    "collapsed": false
   }
  },
  {
   "cell_type": "code",
   "execution_count": null,
   "outputs": [],
   "source": [
    "for data in dataloader:\n",
    "    optimizer_D.zero_grad()\n",
    "    optimizer_G.zero_grad()\n",
    "\n",
    "    cont, residulte_features = content_encoder(data['content'])\n",
    "    style_emb, style_fc, residual_features_style = style_encoder(data['style'])\n",
    "    img_print2write = decoder(cont, residulte_features, style_emb, style_fc, residual_features_style)\n",
    "\n",
    "    real_out = discriminator(data['target'])\n",
    "    fake_out = discriminator(img_print2write)\n",
    "\n",
    "    loss_D = criterionD(real_out, True) + criterionD(fake_out, False)\n",
    "\n"
   ],
   "metadata": {
    "collapsed": false
   }
  },
  {
   "cell_type": "code",
   "execution_count": null,
   "outputs": [],
   "source": [],
   "metadata": {
    "collapsed": false
   }
  },
  {
   "cell_type": "code",
   "execution_count": null,
   "outputs": [],
   "source": [],
   "metadata": {
    "collapsed": false
   }
  },
  {
   "cell_type": "code",
   "execution_count": null,
   "outputs": [],
   "source": [],
   "metadata": {
    "collapsed": false
   }
  },
  {
   "cell_type": "code",
   "execution_count": null,
   "outputs": [],
   "source": [],
   "metadata": {
    "collapsed": false
   }
  },
  {
   "cell_type": "code",
   "execution_count": null,
   "outputs": [],
   "source": [],
   "metadata": {
    "collapsed": false
   }
  },
  {
   "cell_type": "code",
   "execution_count": null,
   "outputs": [],
   "source": [],
   "metadata": {
    "collapsed": false
   }
  }
 ],
 "metadata": {
  "kernelspec": {
   "display_name": "Python 3",
   "language": "python",
   "name": "python3"
  },
  "language_info": {
   "codemirror_mode": {
    "name": "ipython",
    "version": 2
   },
   "file_extension": ".py",
   "mimetype": "text/x-python",
   "name": "python",
   "nbconvert_exporter": "python",
   "pygments_lexer": "ipython2",
   "version": "2.7.6"
  }
 },
 "nbformat": 4,
 "nbformat_minor": 0
}
