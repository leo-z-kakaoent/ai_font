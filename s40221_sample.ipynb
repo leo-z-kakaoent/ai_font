{
 "cells": [
  {
   "cell_type": "code",
   "execution_count": 1,
   "id": "edecc203-fc0b-43c6-93ad-4037d896c8d1",
   "metadata": {
    "tags": []
   },
   "outputs": [
    {
     "name": "stdout",
     "output_type": "stream",
     "text": [
      "pygame 2.5.2 (SDL 2.28.2, Python 3.10.13)\n",
      "Hello from the pygame community. https://www.pygame.org/contribute.html\n"
     ]
    }
   ],
   "source": [
    "\n",
    "from PIL import Image\n",
    "from font_diffuser.args import SampleArgs\n",
    "from font_diffuser.sample import load_fontdiffuer_pipeline, sampling"
   ]
  },
  {
   "cell_type": "code",
   "execution_count": 2,
   "id": "a8d5f514-5840-4bfd-bfca-697573929b81",
   "metadata": {
    "tags": []
   },
   "outputs": [],
   "source": [
    "args = SampleArgs()"
   ]
  },
  {
   "cell_type": "code",
   "execution_count": 20,
   "id": "c997f2a1-6fb2-40fc-afe6-433cd6ee5b68",
   "metadata": {
    "tags": []
   },
   "outputs": [],
   "source": [
    "r = 96"
   ]
  },
  {
   "cell_type": "code",
   "execution_count": 29,
   "id": "f24434cd-5522-44b5-a9e5-a2403b75cc7b",
   "metadata": {
    "tags": []
   },
   "outputs": [],
   "source": [
    "model_is = range(0,11172,1500)"
   ]
  },
  {
   "cell_type": "code",
   "execution_count": 30,
   "id": "a0b1ee4c-e6aa-4b94-b565-3136a9e7cc02",
   "metadata": {
    "tags": []
   },
   "outputs": [
    {
     "data": {
      "text/plain": [
       "[0, 1500, 3000, 4500, 6000, 7500, 9000, 10500]"
      ]
     },
     "execution_count": 30,
     "metadata": {},
     "output_type": "execute_result"
    }
   ],
   "source": [
    "[i for i in model_is]"
   ]
  },
  {
   "cell_type": "markdown",
   "id": "eab5ca87-3c37-46f6-afa3-b0ee1dd8596d",
   "metadata": {},
   "source": [
    "append 순서:\n",
    "1. 굴림체 이미지 (컨텐츠)\n",
    "2. 아티스트 손글씨 이미지 (스타일)\n",
    "\n",
    "3. 아티스트 타겟 이미지 (타겟) or 더미이미지\n",
    "4~. 모델 아웃풋\n"
   ]
  },
  {
   "cell_type": "code",
   "execution_count": 14,
   "id": "73559283-993f-4aa0-a764-e6f16ac1a5d2",
   "metadata": {
    "tags": []
   },
   "outputs": [
    {
     "name": "stdout",
     "output_type": "stream",
     "text": [
      "Sampling by DPM-Solver++ ......\n",
      "Saving the image ......\n",
      "Finish the sampling process, costing time 3.7956326007843018s\n"
     ]
    }
   ],
   "source": [
    "pipe = load_fontdiffuer_pipeline(args=args,model_i)\n",
    "\n",
    "content_image = Image.open(\"data/r40202/pngs/gulim__2000.png\").convert('RGB')\n",
    "style_image = Image.open(\"data/r40202/pngs/\").convert('RGB')\n",
    "out_image = sampling(\n",
    "    args=args, \n",
    "    pipe=pipe, \n",
    "    content_image=Image.open(\"data/r40202/pngs/gulim__2000.png\").convert('RGB'),\n",
    "    style_image=Image.open(args.style_image_path).convert('RGB')\n",
    ")"
   ]
  },
  {
   "cell_type": "code",
   "execution_count": 19,
   "id": "dc602479-23d3-4987-8405-731f735b791e",
   "metadata": {
    "tags": []
   },
   "outputs": [
    {
     "data": {
      "image/jpeg": "[encoded data removed]",
      "image/png": "[encoded data removed]",
      "text/plain": [
       "<PIL.Image.Image image mode=RGB size=96x96>"
      ]
     },
     "execution_count": 19,
     "metadata": {},
     "output_type": "execute_result"
    }
   ],
   "source": [
    "out_image"
   ]
  },
  {
   "cell_type": "code",
   "execution_count": null,
   "id": "bb0ecdee-3800-4b21-9c91-1c252ec056d9",
   "metadata": {
    "tags": []
   },
   "outputs": [],
   "source": [
    "from PIL import Image\n",
    "Image.open(args.content_image_path).convert('RGB')\n",
    "Image.open(args.style_image_path).convert('RGB')"
   ]
  },
  {
   "cell_type": "code",
   "execution_count": null,
   "id": "22116628-f43a-45b7-80eb-2e36c003208a",
   "metadata": {},
   "outputs": [],
   "source": []
  }
 ],
 "metadata": {
  "environment": {
   "kernel": "python3",
   "name": "workbench-notebooks.m117",
   "type": "gcloud",
   "uri": "us-docker.pkg.dev/deeplearning-platform-release/gcr.io/workbench-notebooks:m117"
  },
  "kernelspec": {
   "display_name": "Python 3",
   "language": "python",
   "name": "python3"
  },
  "language_info": {
   "codemirror_mode": {
    "name": "ipython",
    "version": 3
   },
   "file_extension": ".py",
   "mimetype": "text/x-python",
   "name": "python",
   "nbconvert_exporter": "python",
   "pygments_lexer": "ipython3",
   "version": "3.10.13"
  }
 },
 "nbformat": 4,
 "nbformat_minor": 5
}
