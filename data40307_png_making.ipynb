{
 "cells": [
  {
   "cell_type": "code",
   "execution_count": 1,
   "id": "ca8031d5-c690-45ed-9aa5-7d300c1fc76e",
   "metadata": {
    "tags": []
   },
   "outputs": [],
   "source": [
    "import os\n",
    "import pickle\n",
    "import numpy as np\n",
    "import pandas as pd\n",
    "from tqdm import tqdm\n",
    "from fontTools.ttLib import TTFont\n",
    "from PIL import Image, ImageDraw, ImageFont"
   ]
  },
  {
   "cell_type": "code",
   "execution_count": 2,
   "id": "4e694767-d9d3-4cff-b170-49b412e3cc50",
   "metadata": {
    "tags": []
   },
   "outputs": [],
   "source": [
    "def get_existing_chars(filename):\n",
    "    ttfont = TTFont(filename)\n",
    "    return list({chr(key) for table in ttfont['cmap'].tables for key in table.cmap.keys()})"
   ]
  },
  {
   "cell_type": "code",
   "execution_count": 3,
   "id": "0b4393e2-891c-4e7d-8ddf-08c283b5e169",
   "metadata": {
    "tags": []
   },
   "outputs": [],
   "source": [
    "def get_image(font, char, size=96):\n",
    "    img = Image.new('L', (1000,1000), 255)\n",
    "    \n",
    "    draw = ImageDraw.Draw(img)\n",
    "    draw.text((200,200), char, font=font)\n",
    "    \n",
    "    npimg = 255 - np.array(img)\n",
    "    wmin = npimg.sum(0).nonzero()[0].min()\n",
    "    wmax = npimg.sum(0).nonzero()[0].max()\n",
    "    hmin = npimg.sum(1).nonzero()[0].min()\n",
    "    hmax = npimg.sum(1).nonzero()[0].max()\n",
    "    \n",
    "    npimg = 255 - npimg[hmin:hmax+1,wmin:wmax+1]\n",
    "    \n",
    "    whdiff = (wmax-wmin) - (hmax-hmin)\n",
    "    wmargin = abs(whdiff) // 2 if whdiff < 0 else 0\n",
    "    hmargin = abs(whdiff) // 2 if whdiff >= 0 else 0\n",
    "\n",
    "    npimg = np.pad(npimg, ((hmargin, hmargin), (wmargin, wmargin)),\n",
    "                       'constant', constant_values=255)\n",
    "    img = Image.fromarray(npimg).resize((size, size), resample=Image.BILINEAR)\n",
    "    return img\n",
    "    "
   ]
  },
  {
   "cell_type": "code",
   "execution_count": 4,
   "id": "6fd4db10-770a-49f8-b144-27c69d17500e",
   "metadata": {
    "tags": []
   },
   "outputs": [],
   "source": [
    "# utf-8\n",
    "def get_all_korean():\n",
    "    \n",
    "    def nextKorLetterFrom(letter):\n",
    "        lastLetterInt = 15572643\n",
    "        if not letter:\n",
    "            return '가'\n",
    "        a = letter\n",
    "        b = a.encode('utf8')\n",
    "        c = int(b.hex(), 16)\n",
    "\n",
    "        if c == lastLetterInt:\n",
    "            return False\n",
    "\n",
    "        d = hex(c + 1)\n",
    "        e = bytearray.fromhex(d[2:])\n",
    "\n",
    "        flag = True\n",
    "        while flag:\n",
    "            try:\n",
    "                r = e.decode('utf-8')\n",
    "                flag = False\n",
    "            except UnicodeDecodeError:\n",
    "                c = c+1\n",
    "                d = hex(c)\n",
    "                e = bytearray.fromhex(d[2:])\n",
    "        return e.decode()\n",
    "    \n",
    "    returns = []\n",
    "    flag = True\n",
    "    k = ''\n",
    "    while flag:\n",
    "        k = nextKorLetterFrom(k)\n",
    "        if k is False:\n",
    "            flag = False\n",
    "        else:\n",
    "            returns.append(k)\n",
    "    return returns\n",
    "    "
   ]
  },
  {
   "cell_type": "code",
   "execution_count": 5,
   "id": "f9ea001e-b90e-449a-addb-3c2f8e51b61b",
   "metadata": {
    "tags": []
   },
   "outputs": [
    {
     "data": {
      "text/plain": [
       "'\\n- 그냥 자음 모음도 다 모아야 할 필요성 있음.\\n- 학습에서 제외하기: 애국가 2절 4절\\n    학습: 안녕하세요 ㅎㅎ 네넵녭 ㄱㄱㄱ ㅋㅋㅋ\\n    제외: 감사합니다ㅠㅠ 예옙 알겠습니다\\n- 영어 대소문자도 모으기\\n'"
      ]
     },
     "execution_count": 5,
     "metadata": {},
     "output_type": "execute_result"
    }
   ],
   "source": [
    "'''\n",
    "- 그냥 자음 모음도 다 모아야 할 필요성 있음.\n",
    "- 학습에서 제외하기: 애국가 2절 4절\n",
    "    학습: 안녕하세요 ㅎㅎ 네넵녭 ㄱㄱㄱ ㅋㅋㅋ\n",
    "    제외: 감사합니다ㅠㅠ 예옙 알겠습니다\n",
    "- 영어 대소문자도 모으기\n",
    "'''"
   ]
  },
  {
   "cell_type": "code",
   "execution_count": 6,
   "id": "5e4d49e7-b91b-4749-9d96-389258c2be10",
   "metadata": {
    "tags": []
   },
   "outputs": [],
   "source": [
    "ak = get_all_korean()"
   ]
  },
  {
   "cell_type": "code",
   "execution_count": 7,
   "id": "133734a8-e6c4-4123-8b74-a79562c9b32c",
   "metadata": {
    "tags": []
   },
   "outputs": [],
   "source": [
    "eng = \"abcdefghijklmnopqrstuvwxyzABCDEFGHIJKLMNOPQRSTUVWXYZ\"\n",
    "kl = \"ㄱㄴㄷㄹㅁㅂㅅㅇㅈㅊㅋㅌㅍㅎㄲㄸㅃㅆㅉㅏㅑㅓㅕㅗㅛㅜㅠㅡㅣㅐㅒㅔㅖㅘㅙㅚㅝㅞㅟㅢ\"\n",
    "sm = \"0123456789!@#$%^&*()-_=+,.[]<>{}?/~♡♥\""
   ]
  },
  {
   "cell_type": "code",
   "execution_count": 8,
   "id": "3bf078bd-7af3-4135-afba-40d830e7e2e3",
   "metadata": {
    "tags": []
   },
   "outputs": [],
   "source": [
    "all_letters = ak + [*eng] + [*kl] + [*sm]"
   ]
  },
  {
   "cell_type": "code",
   "execution_count": 9,
   "id": "af5465da-866c-4840-a467-4e210b764838",
   "metadata": {
    "tags": []
   },
   "outputs": [],
   "source": [
    "fd = \"data/raw/ttfs/\"\n",
    "ttfs = [(fd+f, f.split(\".ttf\")[0]) for f in os.listdir(fd) if \".ttf\" in f]"
   ]
  },
  {
   "cell_type": "code",
   "execution_count": 10,
   "id": "e0f8f9d1-bffd-42c6-ab30-e8fccde040f9",
   "metadata": {
    "tags": []
   },
   "outputs": [],
   "source": [
    "png_fd = \"data/raw/pngs/\""
   ]
  },
  {
   "cell_type": "code",
   "execution_count": 11,
   "id": "8ab4bd2e-4f3d-43f5-96f8-b1f4857ba9c2",
   "metadata": {
    "tags": []
   },
   "outputs": [],
   "source": [
    "test_ttf = [t for t in ttfs if t[1]==\"UhBee BongSik BOLD\"]"
   ]
  },
  {
   "cell_type": "code",
   "execution_count": 12,
   "id": "b7a5ea4e-f5b1-44ad-8de8-075ae42bcf19",
   "metadata": {
    "tags": []
   },
   "outputs": [
    {
     "data": {
      "text/plain": [
       "[('data/raw/ttfs/UhBee BongSik BOLD.ttf', 'UhBee BongSik BOLD')]"
      ]
     },
     "execution_count": 12,
     "metadata": {},
     "output_type": "execute_result"
    }
   ],
   "source": [
    "test_ttf"
   ]
  },
  {
   "cell_type": "code",
   "execution_count": null,
   "id": "947b4056-486c-4f7b-9d78-19e0a51dbc53",
   "metadata": {
    "tags": []
   },
   "outputs": [
    {
     "name": "stderr",
     "output_type": "stream",
     "text": [
      "  8%|▊         | 30/377 [05:10<1:12:16, 12.50s/it, files=56663, passed=267325]"
     ]
    }
   ],
   "source": [
    "chardf = pd.DataFrame(ak)\n",
    "chardf.to_parquet(\"data/raw/all_korean.parquet\")\n",
    "pbar = tqdm(range(len(ttfs)))\n",
    "# pbar = tqdm(range(1))\n",
    "c = 0\n",
    "for i in pbar:\n",
    "    ttf = ttfs[i]\n",
    "    # ttf = test_ttf[0]\n",
    "    filename = ttf[0]\n",
    "    try:\n",
    "        font = ImageFont.truetype(filename,255)\n",
    "        existing_chars = get_existing_chars(filename)\n",
    "        savepics = True\n",
    "    except:\n",
    "        savepics = False\n",
    "    if savepics:\n",
    "        for j in range(len(chardf)):\n",
    "        # for j in range(10):\n",
    "            if not os.path.exists(png_fd+'%s__%s.png'%(ttf[1],str(j))):\n",
    "                char = chardf.iloc[j].values[0]\n",
    "                if char in existing_chars:\n",
    "                    try:\n",
    "                        img = get_image(font, char)\n",
    "                        with open(png_fd+'%s__%s.png'%(ttf[1],str(j)), \"wb\") as f:\n",
    "                            img.save(f, \"PNG\")\n",
    "                    except:\n",
    "                        # print(ttf[1], ttf[2], char)\n",
    "                        c += 1\n",
    "                else:\n",
    "                    c += 1\n",
    "    pbar.set_postfix(passed=str(c), files=str(len(os.listdir(png_fd))))"
   ]
  },
  {
   "cell_type": "code",
   "execution_count": 129,
   "id": "af8e3cd1-8efd-44de-bf8d-0673a0debe5d",
   "metadata": {
    "tags": []
   },
   "outputs": [
    {
     "name": "stderr",
     "output_type": "stream",
     "text": [
      "100%|██████████| 11399/11399 [00:00<00:00, 84798.86it/s]\n"
     ]
    }
   ],
   "source": [
    "# for f in tqdm(os.listdir(png_fd)):\n",
    "#     if \".png\" in f:\n",
    "#         os.remove(png_fd+f)"
   ]
  },
  {
   "cell_type": "code",
   "execution_count": 107,
   "id": "801168da-4ed8-421d-bb78-d045af925072",
   "metadata": {
    "tags": []
   },
   "outputs": [
    {
     "data": {
      "image/jpeg": "[encoded data removed]",
      "image/png": "[encoded data removed]",
      "text/plain": [
       "<PIL.Image.Image image mode=L size=500x500>"
      ]
     },
     "execution_count": 107,
     "metadata": {},
     "output_type": "execute_result"
    }
   ],
   "source": []
  },
  {
   "cell_type": "code",
   "execution_count": null,
   "id": "05dee0ab-71fc-4007-a133-cf09e8708491",
   "metadata": {},
   "outputs": [],
   "source": [
    "all_pngs = [f for f in os.listdir(png_fd) if \".png\" in f]\n",
    "for t in ttfs:\n",
    "    n_letters = len([f for f in all_pngs if t[1] in f])\n",
    "    if n_letters > 10000:\n",
    "        print(t[1], n_letters)\n",
    "    elif n_letters > 5000:\n",
    "        print(t[1], n_letters)"
   ]
  }
 ],
 "metadata": {
  "environment": {
   "kernel": "conda-env-pytorch-pytorch",
   "name": "workbench-notebooks.m118",
   "type": "gcloud",
   "uri": "us-docker.pkg.dev/deeplearning-platform-release/gcr.io/workbench-notebooks:m118"
  },
  "kernelspec": {
   "display_name": "PyTorch 1-13",
   "language": "python",
   "name": "conda-env-pytorch-pytorch"
  },
  "language_info": {
   "codemirror_mode": {
    "name": "ipython",
    "version": 3
   },
   "file_extension": ".py",
   "mimetype": "text/x-python",
   "name": "python",
   "nbconvert_exporter": "python",
   "pygments_lexer": "ipython3",
   "version": "3.10.13"
  }
 },
 "nbformat": 4,
 "nbformat_minor": 5
}
