{
 "cells": [
  {
   "cell_type": "code",
   "execution_count": 4,
   "id": "8decc327-e109-412c-a963-e550db7757d8",
   "metadata": {
    "tags": []
   },
   "outputs": [],
   "source": [
    "import os\n",
    "import random\n",
    "from PIL import Image"
   ]
  },
  {
   "cell_type": "code",
   "execution_count": 8,
   "id": "f6513498-36b6-41d5-82a7-09f6166127f5",
   "metadata": {
    "tags": []
   },
   "outputs": [
    {
     "data": {
      "text/plain": [
       "97622"
      ]
     },
     "execution_count": 8,
     "metadata": {},
     "output_type": "execute_result"
    }
   ],
   "source": [
    "random.randint(0,len(files))"
   ]
  },
  {
   "cell_type": "code",
   "execution_count": 2,
   "id": "ce8fffa4-f1e8-4a53-bd5a-df60f212ce16",
   "metadata": {
    "tags": []
   },
   "outputs": [],
   "source": [
    "png_fd = \"data/raw/pngs/\""
   ]
  },
  {
   "cell_type": "code",
   "execution_count": 3,
   "id": "ba447857-bd80-4229-8c0d-8803a29d959a",
   "metadata": {
    "tags": []
   },
   "outputs": [],
   "source": [
    "files = os.listdir(png_fd)"
   ]
  },
  {
   "cell_type": "code",
   "execution_count": 57,
   "id": "9ea92537-0dc7-4ec9-8441-4780f3b6bad6",
   "metadata": {
    "tags": []
   },
   "outputs": [],
   "source": [
    "random_i = random.randint(0,len(files))\n",
    "img = Image.open(png_fd+files[random_i])"
   ]
  },
  {
   "cell_type": "code",
   "execution_count": 58,
   "id": "fd7a4ba6-7fd9-4e84-8353-3c706317c4c6",
   "metadata": {
    "tags": []
   },
   "outputs": [
    {
     "data": {
      "image/jpeg": "[encoded data removed]",
      "image/png": "[encoded data removed]",
      "text/plain": [
       "<PIL.PngImagePlugin.PngImageFile image mode=L size=96x96>"
      ]
     },
     "execution_count": 58,
     "metadata": {},
     "output_type": "execute_result"
    }
   ],
   "source": [
    "img"
   ]
  },
  {
   "cell_type": "code",
   "execution_count": null,
   "id": "e81db9b2-ea5e-46ce-bc14-0b1729f58b77",
   "metadata": {},
   "outputs": [],
   "source": []
  }
 ],
 "metadata": {
  "environment": {
   "kernel": "conda-env-pytorch-pytorch",
   "name": "workbench-notebooks.m117",
   "type": "gcloud",
   "uri": "us-docker.pkg.dev/deeplearning-platform-release/gcr.io/workbench-notebooks:m117"
  },
  "kernelspec": {
   "display_name": "PyTorch 1-13",
   "language": "python",
   "name": "conda-env-pytorch-pytorch"
  },
  "language_info": {
   "codemirror_mode": {
    "name": "ipython",
    "version": 3
   },
   "file_extension": ".py",
   "mimetype": "text/x-python",
   "name": "python",
   "nbconvert_exporter": "python",
   "pygments_lexer": "ipython3",
   "version": "3.10.13"
  }
 },
 "nbformat": 4,
 "nbformat_minor": 5
}
