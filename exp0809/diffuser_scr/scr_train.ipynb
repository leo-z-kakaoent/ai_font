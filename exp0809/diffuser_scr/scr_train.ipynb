{
 "cells": [
  {
   "cell_type": "code",
   "execution_count": 1,
   "id": "194acdda-4ca2-4b14-a636-aaed2a87d6db",
   "metadata": {
    "tags": []
   },
   "outputs": [],
   "source": [
    "import os\n",
    "import random\n",
    "import copy\n",
    "from PIL import Image\n",
    "\n",
    "import pickle\n",
    "import numpy as np\n",
    "import pandas as pd\n",
    "import torch\n",
    "from tqdm import tqdm\n",
    "from torch.utils.data import Dataset, DataLoader\n",
    "import torchvision.transforms as transforms\n",
    "\n",
    "from google.cloud import storage\n",
    "\n",
    "storage_client = storage.Client(\"leo_font\")\n",
    "bucket = storage_client.bucket(\"leo_font\")\n",
    "\n",
    "from scr import SCR"
   ]
  },
  {
   "cell_type": "code",
   "execution_count": 2,
   "id": "446c25dd-bbbf-4554-a4bb-6bab81c9679d",
   "metadata": {
    "tags": []
   },
   "outputs": [],
   "source": [
    "def save_model(state_dict, savefd, model_name):\n",
    "    blob = bucket.blob(f\"{savefd}/{model_name}.pth\")\n",
    "    with blob.open(\"wb\", ignore_flush=True) as f:\n",
    "        torch.save(state_dict, f)"
   ]
  },
  {
   "cell_type": "code",
   "execution_count": 3,
   "id": "d51d3a8d-0db6-4f54-a4c7-bc17efb69826",
   "metadata": {
    "tags": []
   },
   "outputs": [],
   "source": [
    "# Sample, Positive, Negative. By Style\n",
    "class SCRDataset(Dataset):\n",
    "\n",
    "    def __init__(self, path, num_neg=16):\n",
    "        super().__init__()\n",
    "        self.path = path\n",
    "        self.fonts = sorted([f for f in os.listdir(self.path) if \".ipy\" not in f])\n",
    "        self.fontdict = {}\n",
    "        for font in self.fonts:\n",
    "            self.fontdict[font] = sorted([f.replace(\".png\",\"\").split(\"__\")[-1] for f in os.listdir(f\"{self.path}/{font}/\") if f.endswith(\".png\")])\n",
    "        self.resolution = 96 # default\n",
    "        self.num_neg = num_neg\n",
    "        \n",
    "        self.transform = transforms.Compose([\n",
    "            transforms.Resize((self.resolution, self.resolution)),\n",
    "            transforms.ToTensor(),\n",
    "            transforms.Normalize([0.5], [0.5])\n",
    "        ])\n",
    "        \n",
    "    def __len__(self):\n",
    "        return len(self.fonts)\n",
    "        \n",
    "    def __getitem__(self, index):\n",
    "        font = self.fonts[index]\n",
    "        content = random.choice(self.fontdict[font])\n",
    "        sample_img_path = f\"{self.path}/{font}/{font}__{content}.png\"\n",
    "        \n",
    "        pos_content = random.choice(self.fontdict[font])\n",
    "        pos_content = pos_content if content != pos_content else random.choice(self.fontdict[font])\n",
    "        pos_img_path = f\"{self.path}/{font}/{font}__{pos_content}.png\"\n",
    "        \n",
    "        sample_img = self.transform(Image.open(sample_img_path).convert(\"RGB\"))\n",
    "        pos_img = self.transform(Image.open(pos_img_path).convert(\"RGB\"))\n",
    "        \n",
    "        neg_imgs = []\n",
    "        neg_fonts = [f for f in self.fonts if f != font]\n",
    "        while len(neg_imgs) < self.num_neg:\n",
    "            neg_font = random.choice(neg_fonts)\n",
    "            neg_content = random.choice(self.fontdict[neg_font])\n",
    "            neg_img_path = f\"{self.path}/{neg_font}/{neg_font}__{neg_content}.png\"\n",
    "            neg_imgs.append(self.transform(Image.open(neg_img_path).convert(\"RGB\")))\n",
    "        \n",
    "        return sample_img, pos_img, torch.stack(neg_imgs)"
   ]
  },
  {
   "cell_type": "code",
   "execution_count": 4,
   "id": "09e2dc57-9558-4564-ade0-b53a02665480",
   "metadata": {
    "tags": []
   },
   "outputs": [],
   "source": [
    "epoch = 220000*5\n",
    "path = \"/home/jupyter/ai_font/data/exp0717/train0730_whole\"\n",
    "savefd = \"exp0717/scr\""
   ]
  },
  {
   "cell_type": "code",
   "execution_count": 5,
   "id": "11aa84a9-240f-4dd1-8e4d-e7816d86ca20",
   "metadata": {
    "tags": []
   },
   "outputs": [],
   "source": [
    "scr_ds = SCRDataset(path=path)\n",
    "scr_dl = DataLoader(scr_ds, shuffle=True, batch_size=32, num_workers=4)"
   ]
  },
  {
   "cell_type": "code",
   "execution_count": 6,
   "id": "f748e218-1e7f-4495-8c04-212732a4223f",
   "metadata": {
    "tags": []
   },
   "outputs": [],
   "source": [
    "scr_model = SCR(image_size=96)\n",
    "scr_model = scr_model.cuda()"
   ]
  },
  {
   "cell_type": "code",
   "execution_count": 7,
   "id": "d8cbb467-a405-4e41-affb-09d3d4f38de0",
   "metadata": {
    "tags": []
   },
   "outputs": [],
   "source": [
    "optimizer = torch.optim.AdamW(scr_model.parameters(), lr=1e-5)"
   ]
  },
  {
   "cell_type": "code",
   "execution_count": null,
   "id": "479a3f36-36a3-4267-ba07-2b945b0a70e5",
   "metadata": {
    "tags": []
   },
   "outputs": [
    {
     "name": "stderr",
     "output_type": "stream",
     "text": [
      " 34%|███▎      | 370716/1100000 [186:30:14<711:56:37,  3.51s/it] "
     ]
    },
    {
     "ename": "KeyboardInterrupt",
     "evalue": "",
     "output_type": "error",
     "traceback": [
      "\u001b[0;31m---------------------------------------------------------------------------\u001b[0m",
      "\u001b[0;31mKeyboardInterrupt\u001b[0m                         Traceback (most recent call last)",
      "Cell \u001b[0;32mIn[8], line 12\u001b[0m\n\u001b[1;32m      9\u001b[0m sample_emb, pos_emb, neg_emb \u001b[38;5;241m=\u001b[39m scr_model(sample_img\u001b[38;5;241m.\u001b[39mcuda(), pos_img\u001b[38;5;241m.\u001b[39mcuda(), neg_imgs\u001b[38;5;241m.\u001b[39mcuda())\n\u001b[1;32m     10\u001b[0m loss \u001b[38;5;241m=\u001b[39m scr_model\u001b[38;5;241m.\u001b[39mcalculate_nce_loss(sample_emb, pos_emb, neg_emb)\n\u001b[0;32m---> 12\u001b[0m \u001b[43mloss\u001b[49m\u001b[38;5;241;43m.\u001b[39;49m\u001b[43mbackward\u001b[49m\u001b[43m(\u001b[49m\u001b[43m)\u001b[49m\n\u001b[1;32m     13\u001b[0m optimizer\u001b[38;5;241m.\u001b[39mstep()\n\u001b[1;32m     15\u001b[0m pbar\u001b[38;5;241m.\u001b[39mupdate(\u001b[38;5;241m1\u001b[39m)\n",
      "File \u001b[0;32m/opt/conda/envs/pytorch/lib/python3.10/site-packages/torch/_tensor.py:488\u001b[0m, in \u001b[0;36mTensor.backward\u001b[0;34m(self, gradient, retain_graph, create_graph, inputs)\u001b[0m\n\u001b[1;32m    478\u001b[0m \u001b[38;5;28;01mif\u001b[39;00m has_torch_function_unary(\u001b[38;5;28mself\u001b[39m):\n\u001b[1;32m    479\u001b[0m     \u001b[38;5;28;01mreturn\u001b[39;00m handle_torch_function(\n\u001b[1;32m    480\u001b[0m         Tensor\u001b[38;5;241m.\u001b[39mbackward,\n\u001b[1;32m    481\u001b[0m         (\u001b[38;5;28mself\u001b[39m,),\n\u001b[0;32m   (...)\u001b[0m\n\u001b[1;32m    486\u001b[0m         inputs\u001b[38;5;241m=\u001b[39minputs,\n\u001b[1;32m    487\u001b[0m     )\n\u001b[0;32m--> 488\u001b[0m \u001b[43mtorch\u001b[49m\u001b[38;5;241;43m.\u001b[39;49m\u001b[43mautograd\u001b[49m\u001b[38;5;241;43m.\u001b[39;49m\u001b[43mbackward\u001b[49m\u001b[43m(\u001b[49m\n\u001b[1;32m    489\u001b[0m \u001b[43m    \u001b[49m\u001b[38;5;28;43mself\u001b[39;49m\u001b[43m,\u001b[49m\u001b[43m \u001b[49m\u001b[43mgradient\u001b[49m\u001b[43m,\u001b[49m\u001b[43m \u001b[49m\u001b[43mretain_graph\u001b[49m\u001b[43m,\u001b[49m\u001b[43m \u001b[49m\u001b[43mcreate_graph\u001b[49m\u001b[43m,\u001b[49m\u001b[43m \u001b[49m\u001b[43minputs\u001b[49m\u001b[38;5;241;43m=\u001b[39;49m\u001b[43minputs\u001b[49m\n\u001b[1;32m    490\u001b[0m \u001b[43m\u001b[49m\u001b[43m)\u001b[49m\n",
      "File \u001b[0;32m/opt/conda/envs/pytorch/lib/python3.10/site-packages/torch/autograd/__init__.py:197\u001b[0m, in \u001b[0;36mbackward\u001b[0;34m(tensors, grad_tensors, retain_graph, create_graph, grad_variables, inputs)\u001b[0m\n\u001b[1;32m    192\u001b[0m     retain_graph \u001b[38;5;241m=\u001b[39m create_graph\n\u001b[1;32m    194\u001b[0m \u001b[38;5;66;03m# The reason we repeat same the comment below is that\u001b[39;00m\n\u001b[1;32m    195\u001b[0m \u001b[38;5;66;03m# some Python versions print out the first line of a multi-line function\u001b[39;00m\n\u001b[1;32m    196\u001b[0m \u001b[38;5;66;03m# calls in the traceback and some print out the last line\u001b[39;00m\n\u001b[0;32m--> 197\u001b[0m \u001b[43mVariable\u001b[49m\u001b[38;5;241;43m.\u001b[39;49m\u001b[43m_execution_engine\u001b[49m\u001b[38;5;241;43m.\u001b[39;49m\u001b[43mrun_backward\u001b[49m\u001b[43m(\u001b[49m\u001b[43m  \u001b[49m\u001b[38;5;66;43;03m# Calls into the C++ engine to run the backward pass\u001b[39;49;00m\n\u001b[1;32m    198\u001b[0m \u001b[43m    \u001b[49m\u001b[43mtensors\u001b[49m\u001b[43m,\u001b[49m\u001b[43m \u001b[49m\u001b[43mgrad_tensors_\u001b[49m\u001b[43m,\u001b[49m\u001b[43m \u001b[49m\u001b[43mretain_graph\u001b[49m\u001b[43m,\u001b[49m\u001b[43m \u001b[49m\u001b[43mcreate_graph\u001b[49m\u001b[43m,\u001b[49m\u001b[43m \u001b[49m\u001b[43minputs\u001b[49m\u001b[43m,\u001b[49m\n\u001b[1;32m    199\u001b[0m \u001b[43m    \u001b[49m\u001b[43mallow_unreachable\u001b[49m\u001b[38;5;241;43m=\u001b[39;49m\u001b[38;5;28;43;01mTrue\u001b[39;49;00m\u001b[43m,\u001b[49m\u001b[43m \u001b[49m\u001b[43maccumulate_grad\u001b[49m\u001b[38;5;241;43m=\u001b[39;49m\u001b[38;5;28;43;01mTrue\u001b[39;49;00m\u001b[43m)\u001b[49m\n",
      "\u001b[0;31mKeyboardInterrupt\u001b[0m: "
     ]
    }
   ],
   "source": [
    "lossdicts = []\n",
    "pbar = tqdm(total=epoch)\n",
    "epoch_count = 0\n",
    "while epoch_count < epoch:\n",
    "    for x in scr_dl:\n",
    "        optimizer.zero_grad()\n",
    "\n",
    "        sample_img, pos_img, neg_imgs = x\n",
    "        sample_emb, pos_emb, neg_emb = scr_model(sample_img.cuda(), pos_img.cuda(), neg_imgs.cuda())\n",
    "        loss = scr_model.calculate_nce_loss(sample_emb, pos_emb, neg_emb)\n",
    "\n",
    "        loss.backward()\n",
    "        optimizer.step()\n",
    "\n",
    "        pbar.update(1)\n",
    "        epoch_count += 1\n",
    "        \n",
    "        if epoch_count % 10000 == 0:\n",
    "            save_model(scr_model.state_dict(), savefd, f\"scr__{epoch_count}\")"
   ]
  },
  {
   "cell_type": "code",
   "execution_count": null,
   "id": "bf085f5a-0cd5-4c48-a40b-6aaf683fd041",
   "metadata": {},
   "outputs": [],
   "source": []
  }
 ],
 "metadata": {
  "environment": {
   "kernel": "conda-env-pytorch-pytorch",
   "name": "workbench-notebooks.m123",
   "type": "gcloud",
   "uri": "us-docker.pkg.dev/deeplearning-platform-release/gcr.io/workbench-notebooks:m123"
  },
  "kernelspec": {
   "display_name": "PyTorch 1-13 (Local)",
   "language": "python",
   "name": "conda-env-pytorch-pytorch"
  },
  "language_info": {
   "codemirror_mode": {
    "name": "ipython",
    "version": 3
   },
   "file_extension": ".py",
   "mimetype": "text/x-python",
   "name": "python",
   "nbconvert_exporter": "python",
   "pygments_lexer": "ipython3",
   "version": "3.10.14"
  }
 },
 "nbformat": 4,
 "nbformat_minor": 5
}
