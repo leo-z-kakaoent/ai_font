{
 "cells": [
  {
   "cell_type": "code",
   "execution_count": 1,
   "id": "2595ab4d-c2b9-4040-9705-4c38573ab8ce",
   "metadata": {
    "tags": []
   },
   "outputs": [
    {
     "name": "stdout",
     "output_type": "stream",
     "text": [
      "pygame 2.5.2 (SDL 2.28.2, Python 3.10.14)\n",
      "Hello from the pygame community. https://www.pygame.org/contribute.html\n"
     ]
    }
   ],
   "source": [
    "import math\n",
    "import os\n",
    "from tqdm.auto import tqdm\n",
    "\n",
    "import torch\n",
    "import torch.nn.functional as F\n",
    "from torchvision import transforms\n",
    "from torch.utils.data import DataLoader\n",
    "\n",
    "from diffusers.optimization import get_scheduler\n",
    "from google.cloud import storage\n",
    "\n",
    "from y_sample_dataset3 import SamplingDataset\n",
    "\n",
    "from model import FontDiffuserModel, FontDiffuserModelDPM, FontDiffuserDPMPipeline\n",
    "from build import build_unet, build_style_encoder, build_content_encoder, build_ddpm_scheduler\n",
    "from args import SampleArgs\n",
    "from utils import x0_from_epsilon, reNormalize_img, normalize_mean_std, save_model, load_model"
   ]
  },
  {
   "cell_type": "code",
   "execution_count": 2,
   "id": "863491f1-717e-444c-8d39-d4035c1f6e00",
   "metadata": {
    "tags": []
   },
   "outputs": [
    {
     "name": "stdout",
     "output_type": "stream",
     "text": [
      "Load the down block  DownBlock2D\n",
      "Load the down block  MCADownBlock2D\n",
      "The style_attention cross attention dim in Down Block 1 layer is 1024\n",
      "The style_attention cross attention dim in Down Block 2 layer is 1024\n",
      "Load the down block  MCADownBlock2D\n",
      "The style_attention cross attention dim in Down Block 1 layer is 1024\n",
      "The style_attention cross attention dim in Down Block 2 layer is 1024\n",
      "Load the down block  DownBlock2D\n",
      "Load the up block  UpBlock2D\n",
      "Load the up block  StyleRSIUpBlock2D\n",
      "Load the up block  StyleRSIUpBlock2D\n",
      "Load the up block  UpBlock2D\n",
      "Param count for Ds initialized parameters: 20591296\n",
      "Get CG-GAN Style Encoder!\n",
      "Param count for Ds initialized parameters: 1187008\n",
      "Get CG-GAN Content Encoder!\n"
     ]
    }
   ],
   "source": [
    "args = SampleArgs(itern=str(0))\n",
    "unet = build_unet(args=args)\n",
    "style_encoder = build_style_encoder(args=args)\n",
    "content_encoder = build_content_encoder(args=args)\n",
    "noise_scheduler = build_ddpm_scheduler(args)\n",
    "storage_client = storage.Client(args.bucket_name)\n",
    "bucket = storage_client.bucket(args.bucket_name)"
   ]
  },
  {
   "cell_type": "code",
   "execution_count": 3,
   "id": "dcdef530-ed30-4927-aa0c-b6a03d85ee01",
   "metadata": {
    "tags": []
   },
   "outputs": [],
   "source": [
    "target_font = \"플레이브밤비\"\n",
    "dataset = SamplingDataset(args, target_font=target_font)\n",
    "loader = DataLoader(dataset, batch_size=args.batchsize, shuffle=False, drop_last=False)"
   ]
  },
  {
   "cell_type": "code",
   "execution_count": 6,
   "id": "87e62fb3-46e9-42ca-93ad-469d3e7cdda5",
   "metadata": {
    "tags": []
   },
   "outputs": [
    {
     "data": {
      "application/vnd.jupyter.widget-view+json": {
       "model_id": "0bd01150b1ee4c819577d899900684b2",
       "version_major": 2,
       "version_minor": 0
      },
      "text/plain": [
       "  0%|          | 0/3 [00:00<?, ?it/s]"
      ]
     },
     "metadata": {},
     "output_type": "display_data"
    },
    {
     "data": {
      "application/vnd.jupyter.widget-view+json": {
       "model_id": "13a5c80a26f6453d988a0285027d980b",
       "version_major": 2,
       "version_minor": 0
      },
      "text/plain": [
       "  0%|          | 0/3 [00:00<?, ?it/s]"
      ]
     },
     "metadata": {},
     "output_type": "display_data"
    },
    {
     "data": {
      "application/vnd.jupyter.widget-view+json": {
       "model_id": "692536f456b349b48ad83a8947e3bce5",
       "version_major": 2,
       "version_minor": 0
      },
      "text/plain": [
       "  0%|          | 0/3 [00:00<?, ?it/s]"
      ]
     },
     "metadata": {},
     "output_type": "display_data"
    },
    {
     "data": {
      "application/vnd.jupyter.widget-view+json": {
       "model_id": "cbb93beed11844dc84e9f71e5b592354",
       "version_major": 2,
       "version_minor": 0
      },
      "text/plain": [
       "  0%|          | 0/3 [00:00<?, ?it/s]"
      ]
     },
     "metadata": {},
     "output_type": "display_data"
    },
    {
     "data": {
      "application/vnd.jupyter.widget-view+json": {
       "model_id": "341693407f134b5b91cc624077492791",
       "version_major": 2,
       "version_minor": 0
      },
      "text/plain": [
       "  0%|          | 0/3 [00:00<?, ?it/s]"
      ]
     },
     "metadata": {},
     "output_type": "display_data"
    },
    {
     "data": {
      "application/vnd.jupyter.widget-view+json": {
       "model_id": "d3d2b9cf850a439f98302905aee2481e",
       "version_major": 2,
       "version_minor": 0
      },
      "text/plain": [
       "  0%|          | 0/3 [00:00<?, ?it/s]"
      ]
     },
     "metadata": {},
     "output_type": "display_data"
    }
   ],
   "source": [
    "# itern = 30000\n",
    "for itern in [0,5000,10000,15000,20000,25000]:\n",
    "    args = SampleArgs(itern=str(itern))\n",
    "    content_encoder.load_state_dict(load_model(bucket, args.content_encoder_path))\n",
    "    style_encoder.load_state_dict(load_model(bucket, args.style_encoder_path))\n",
    "    unet.load_state_dict(load_model(bucket, args.unet_path))\n",
    "\n",
    "    model = FontDiffuserModelDPM(\n",
    "        unet=unet,\n",
    "        style_encoder=style_encoder,\n",
    "        content_encoder=content_encoder)\n",
    "\n",
    "    model = model.cuda()\n",
    "\n",
    "    train_scheduler = build_ddpm_scheduler(args=args)\n",
    "\n",
    "    pipe = FontDiffuserDPMPipeline(\n",
    "            model=model,\n",
    "            ddpm_train_scheduler=train_scheduler,\n",
    "            model_type=args.model_type,\n",
    "            guidance_type=args.guidance_type,\n",
    "            guidance_scale=args.guidance_scale,\n",
    "        )\n",
    "\n",
    "    # model.eval() \n",
    "    results = []\n",
    "    os.makedirs(args.savefd, exist_ok=True)\n",
    "    pbar = tqdm(loader)\n",
    "    for data in pbar:\n",
    "        content_image = data['content_img'].cuda()\n",
    "        style_image = data['style_img'].cuda()\n",
    "        contents = data['content']\n",
    "\n",
    "        images = pipe.generate(\n",
    "            content_images=content_image,\n",
    "            style_images=style_image,\n",
    "            batch_size=content_image.shape[0],\n",
    "            order=args.order,\n",
    "            num_inference_step=args.num_inference_steps,\n",
    "            content_encoder_downsample_size=args.content_encoder_downsample_size,\n",
    "            t_start=args.t_start,\n",
    "            t_end=args.t_end,\n",
    "            dm_size=args.content_image_size,\n",
    "            algorithm_type=args.algorithm_type,\n",
    "            skip_type=args.skip_type,\n",
    "            method=args.method,\n",
    "            correcting_x0_fn=args.correcting_x0_fn)\n",
    "        for i in range(len(images)):\n",
    "            path = f\"{args.savefd}/{target_font}__{contents[i]}.png\"\n",
    "            images[i].save(path)\n",
    "            pbar.set_postfix(path=path)"
   ]
  },
  {
   "cell_type": "code",
   "execution_count": 5,
   "id": "ae643015-3cf0-4f04-9ca0-ea3145104b1e",
   "metadata": {
    "tags": []
   },
   "outputs": [
    {
     "data": {
      "text/plain": [
       "['읊',\n",
       " '뛰',\n",
       " '잃',\n",
       " '춰',\n",
       " '없',\n",
       " '토',\n",
       " '갊',\n",
       " '퍗',\n",
       " '캐',\n",
       " '얹',\n",
       " '럽',\n",
       " '폐',\n",
       " '곁',\n",
       " '훨',\n",
       " '쉽',\n",
       " '벚',\n",
       " '푀',\n",
       " '퓸',\n",
       " '궤',\n",
       " '롵',\n",
       " '높',\n",
       " '곬',\n",
       " '쿵',\n",
       " '라',\n",
       " '왼',\n",
       " '꾜',\n",
       " '돼',\n",
       " '츄',\n",
       " '뷔',\n",
       " '턔',\n",
       " '뤄',\n",
       " '쏟',\n",
       " '홉',\n",
       " '캠',\n",
       " '묟',\n",
       " '갸',\n",
       " '팼',\n",
       " '치',\n",
       " '찾',\n",
       " '씩',\n",
       " '쑉',\n",
       " '몇',\n",
       " '짧',\n",
       " '쁘',\n",
       " '뉑',\n",
       " '핥',\n",
       " '늬',\n",
       " '땍',\n",
       " '닠',\n",
       " '교',\n",
       " '꽤',\n",
       " '특',\n",
       " '많',\n",
       " '끝',\n",
       " '셴',\n",
       " '뜻',\n",
       " '쟨',\n",
       " '무',\n",
       " '횃',\n",
       " '붉',\n",
       " '쫄',\n",
       " '짚',\n",
       " '읨',\n",
       " '쯷',\n",
       " '찧',\n",
       " '점',\n",
       " '껴',\n",
       " '좋',\n",
       " '덤',\n",
       " '줬',\n",
       " '튠',\n",
       " '뺨',\n",
       " '숲',\n",
       " '돛',\n",
       " '탤',\n",
       " '닦']"
      ]
     },
     "execution_count": 5,
     "metadata": {},
     "output_type": "execute_result"
    }
   ],
   "source": [
    "dataset.target_letters"
   ]
  },
  {
   "cell_type": "code",
   "execution_count": null,
   "id": "148f5aaf-6ff4-47c2-8f9c-1283e9843b60",
   "metadata": {},
   "outputs": [],
   "source": []
  }
 ],
 "metadata": {
  "environment": {
   "kernel": "conda-env-pytorch-pytorch",
   "name": "workbench-notebooks.m122",
   "type": "gcloud",
   "uri": "us-docker.pkg.dev/deeplearning-platform-release/gcr.io/workbench-notebooks:m122"
  },
  "kernelspec": {
   "display_name": "PyTorch 1-13 (Local)",
   "language": "python",
   "name": "conda-env-pytorch-pytorch"
  },
  "language_info": {
   "codemirror_mode": {
    "name": "ipython",
    "version": 3
   },
   "file_extension": ".py",
   "mimetype": "text/x-python",
   "name": "python",
   "nbconvert_exporter": "python",
   "pygments_lexer": "ipython3",
   "version": "3.10.14"
  }
 },
 "nbformat": 4,
 "nbformat_minor": 5
}
