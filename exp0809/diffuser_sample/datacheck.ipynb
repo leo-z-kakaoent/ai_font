{
 "cells": [
  {
   "cell_type": "code",
   "execution_count": 9,
   "id": "d8f1a66d-780c-4d92-9b21-d9f28bfa85c3",
   "metadata": {
    "tags": []
   },
   "outputs": [],
   "source": [
    "import os\n",
    "import shutil"
   ]
  },
  {
   "cell_type": "code",
   "execution_count": 4,
   "id": "6b25d0e8-a5b6-41d1-b3f0-838a8b2951fd",
   "metadata": {
    "tags": []
   },
   "outputs": [],
   "source": [
    "a = os.listdir(\"/home/jupyter/ai_font/data/test_assembled/플레이브밤비\")"
   ]
  },
  {
   "cell_type": "code",
   "execution_count": 5,
   "id": "7413b9a3-7256-48cf-9205-1bdf4a547695",
   "metadata": {
    "tags": []
   },
   "outputs": [
    {
     "data": {
      "text/plain": [
       "7980"
      ]
     },
     "execution_count": 5,
     "metadata": {},
     "output_type": "execute_result"
    }
   ],
   "source": [
    "len(a)"
   ]
  },
  {
   "cell_type": "code",
   "execution_count": 6,
   "id": "22881373-4771-4428-9839-a4fccf06535f",
   "metadata": {
    "tags": []
   },
   "outputs": [],
   "source": [
    "savefd = \"/home/jupyter/ai_font/data/test_assembled/플레이브밤비__cut\""
   ]
  },
  {
   "cell_type": "code",
   "execution_count": 8,
   "id": "78480053-76f7-49f0-9f9c-0469fd750fad",
   "metadata": {
    "tags": []
   },
   "outputs": [],
   "source": [
    "os.makedirs(savefd, exist_ok=True)"
   ]
  },
  {
   "cell_type": "code",
   "execution_count": null,
   "id": "4c1638ae-190f-4bf2-9f6b-8d9e6958c074",
   "metadata": {},
   "outputs": [],
   "source": [
    "for p in a:\n",
    "    if p.endswith(\".png\"):\n",
    "        "
   ]
  }
 ],
 "metadata": {
  "environment": {
   "kernel": "conda-base-py",
   "name": "workbench-notebooks.m122",
   "type": "gcloud",
   "uri": "us-docker.pkg.dev/deeplearning-platform-release/gcr.io/workbench-notebooks:m122"
  },
  "kernelspec": {
   "display_name": "Python 3 (ipykernel) (Local)",
   "language": "python",
   "name": "conda-base-py"
  },
  "language_info": {
   "codemirror_mode": {
    "name": "ipython",
    "version": 3
   },
   "file_extension": ".py",
   "mimetype": "text/x-python",
   "name": "python",
   "nbconvert_exporter": "python",
   "pygments_lexer": "ipython3",
   "version": "3.10.14"
  }
 },
 "nbformat": 4,
 "nbformat_minor": 5
}
