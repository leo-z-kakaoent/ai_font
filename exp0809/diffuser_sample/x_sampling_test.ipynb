{
 "cells": [
  {
   "cell_type": "code",
   "execution_count": 1,
   "id": "efb7bd11-c0f3-423f-9404-2f9d6ffdfd46",
   "metadata": {
    "tags": []
   },
   "outputs": [
    {
     "name": "stdout",
     "output_type": "stream",
     "text": [
      "pygame 2.5.2 (SDL 2.28.2, Python 3.10.14)\n",
      "Hello from the pygame community. https://www.pygame.org/contribute.html\n"
     ]
    }
   ],
   "source": [
    "import math\n",
    "import os\n",
    "import numpy as np\n",
    "from tqdm.auto import tqdm\n",
    "from PIL import Image\n",
    "import torch\n",
    "import torch.nn.functional as F\n",
    "from torchvision import transforms\n",
    "from torch.utils.data import DataLoader\n",
    "\n",
    "from diffusers.optimization import get_scheduler\n",
    "from google.cloud import storage\n",
    "\n",
    "from y_sample_dataset3 import SamplingDataset\n",
    "\n",
    "from model import FontDiffuserModel, FontDiffuserModelDPM, FontDiffuserDPMPipeline\n",
    "from build import build_unet, build_style_encoder, build_content_encoder, build_ddpm_scheduler\n",
    "from args import SampleArgs\n",
    "from utils import x0_from_epsilon, reNormalize_img, normalize_mean_std, save_model, load_model\n",
    "\n",
    "import unicodedata\n",
    "\n",
    "def char_normalize(f):\n",
    "    return unicodedata.normalize('NFC', f)"
   ]
  },
  {
   "cell_type": "markdown",
   "id": "91e47e19-60ad-4862-9f8d-86ee5b0aecb3",
   "metadata": {},
   "source": [
    "# To Do list\n",
    "\n",
    "- 이미지의 마스킹과 시작 노이즈 만드는 부분 제작하기\n",
    "- 얼마나 커버되는지 확인하기\n",
    "- 세로모음 가로모임 섞임모음 기준으로 성능 체크하기\n",
    "- 나머지는 파인튜닝으로 고민해보기\n",
    "\n",
    "## 글자 형태별 (6가지) 초성중성종성 개별로 inpainting했을때 성능 비교\n",
    "## 각각 기본 100개 글자만 있을때의 파인튜닝 -> 순차적으로 글자를 더 만들었을때 파인튜닝 성능 확인"
   ]
  },
  {
   "cell_type": "code",
   "execution_count": 2,
   "id": "6b14bf2c-6a85-486a-8f26-63759016c55a",
   "metadata": {
    "tags": []
   },
   "outputs": [],
   "source": [
    "fd = \"/home/jupyter/ai_font/data/exp0809/inpaint0814\""
   ]
  },
  {
   "cell_type": "code",
   "execution_count": 3,
   "id": "040f5f20-5015-4494-af19-b8fc9ed8c743",
   "metadata": {
    "tags": []
   },
   "outputs": [],
   "source": [
    "# for f in os.listdir(fd):\n",
    "#     nf = char_normalize(f)\n",
    "#     os.rename(f\"{fd}/{f}\", f\"{fd}/{nf}\")"
   ]
  },
  {
   "cell_type": "code",
   "execution_count": 4,
   "id": "ff0170f7-7d47-472d-a0ea-f89ab7137e5b",
   "metadata": {},
   "outputs": [],
   "source": [
    "letters = [f.split(\".\")[0] for f in os.listdir(fd) if (\"_m\" not in f) & (f.endswith(\".png\"))]"
   ]
  },
  {
   "cell_type": "code",
   "execution_count": 5,
   "id": "cff53f8a-4f82-4c58-9287-dff7b027b52c",
   "metadata": {},
   "outputs": [
    {
     "name": "stdout",
     "output_type": "stream",
     "text": [
      "Load the down block  DownBlock2D\n",
      "Load the down block  MCADownBlock2D\n",
      "The style_attention cross attention dim in Down Block 1 layer is 1024\n",
      "The style_attention cross attention dim in Down Block 2 layer is 1024\n",
      "Load the down block  MCADownBlock2D\n",
      "The style_attention cross attention dim in Down Block 1 layer is 1024\n",
      "The style_attention cross attention dim in Down Block 2 layer is 1024\n",
      "Load the down block  DownBlock2D\n",
      "Load the up block  UpBlock2D\n",
      "Load the up block  StyleRSIUpBlock2D\n",
      "Load the up block  StyleRSIUpBlock2D\n",
      "Load the up block  UpBlock2D\n",
      "Param count for Ds initialized parameters: 20591296\n",
      "Get CG-GAN Style Encoder!\n",
      "Param count for Ds initialized parameters: 1187008\n",
      "Get CG-GAN Content Encoder!\n"
     ]
    },
    {
     "data": {
      "text/plain": [
       "<All keys matched successfully>"
      ]
     },
     "execution_count": 5,
     "metadata": {},
     "output_type": "execute_result"
    }
   ],
   "source": [
    "args = SampleArgs(itern=str(0))\n",
    "unet = build_unet(args=args)\n",
    "style_encoder = build_style_encoder(args=args)\n",
    "content_encoder = build_content_encoder(args=args)\n",
    "noise_scheduler = build_ddpm_scheduler(args)\n",
    "storage_client = storage.Client(args.bucket_name)\n",
    "bucket = storage_client.bucket(args.bucket_name)\n",
    "\n",
    "itern = 30000\n",
    "args = SampleArgs(itern=str(itern))\n",
    "content_encoder.load_state_dict(load_model(bucket, args.content_encoder_path))\n",
    "style_encoder.load_state_dict(load_model(bucket, args.style_encoder_path))\n",
    "unet.load_state_dict(load_model(bucket, args.unet_path))"
   ]
  },
  {
   "cell_type": "code",
   "execution_count": 6,
   "id": "4ae89211-18c3-4726-b188-a58756b07642",
   "metadata": {
    "tags": []
   },
   "outputs": [],
   "source": [
    "model = FontDiffuserModelDPM(\n",
    "    unet=unet,\n",
    "    style_encoder=style_encoder,\n",
    "    content_encoder=content_encoder,\n",
    ")\n",
    "\n",
    "model = model.cuda()\n",
    "\n",
    "train_scheduler = build_ddpm_scheduler(args=args)\n",
    "\n",
    "pipe = FontDiffuserDPMPipeline(\n",
    "        model=model,\n",
    "        ddpm_train_scheduler=train_scheduler,\n",
    "        model_type=args.model_type,\n",
    "        guidance_type=args.guidance_type,\n",
    "        guidance_scale=args.guidance_scale,\n",
    "    )"
   ]
  },
  {
   "cell_type": "code",
   "execution_count": 7,
   "id": "d5c615fa-5af9-410b-9231-33d829791c80",
   "metadata": {
    "tags": []
   },
   "outputs": [],
   "source": [
    "resolution = 96\n",
    "normal_transform = transforms.Compose([\n",
    "        transforms.Resize((resolution, resolution)),\n",
    "        transforms.ToTensor(),\n",
    "        transforms.Normalize([0.5], [0.5])\n",
    "    ])\n",
    "mask_transform = transforms.Compose([\n",
    "        transforms.Resize((resolution, resolution)),\n",
    "        transforms.ToTensor()])"
   ]
  },
  {
   "cell_type": "code",
   "execution_count": 8,
   "id": "1e9f5310-046f-4d01-be91-8fe39be70e93",
   "metadata": {
    "tags": []
   },
   "outputs": [],
   "source": [
    "def get_all_korean():\n",
    "\n",
    "    def nextKorLetterFrom(letter):\n",
    "        lastLetterInt = 15572643\n",
    "        if not letter:\n",
    "            return '가'\n",
    "        a = letter\n",
    "        b = a.encode('utf8')\n",
    "        c = int(b.hex(), 16)\n",
    "\n",
    "        if c == lastLetterInt:\n",
    "            return False\n",
    "\n",
    "        d = hex(c + 1)\n",
    "        e = bytearray.fromhex(d[2:])\n",
    "\n",
    "        flag = True\n",
    "        while flag:\n",
    "            try:\n",
    "                r = e.decode('utf-8')\n",
    "                flag = False\n",
    "            except UnicodeDecodeError:\n",
    "                c = c+1\n",
    "                d = hex(c)\n",
    "                e = bytearray.fromhex(d[2:])\n",
    "        return e.decode()\n",
    "\n",
    "    returns = []\n",
    "    flag = True\n",
    "    k = ''\n",
    "    while flag:\n",
    "        k = nextKorLetterFrom(k)\n",
    "        if k is False:\n",
    "            flag = False\n",
    "        else:\n",
    "            returns.append(k)\n",
    "    return returns\n"
   ]
  },
  {
   "cell_type": "code",
   "execution_count": 9,
   "id": "659dc917-0679-4cb6-ab49-e5b485a35149",
   "metadata": {
    "tags": []
   },
   "outputs": [],
   "source": [
    "mapper = {}\n",
    "for letter in get_all_korean():\n",
    "    ch1 = (ord(letter) - ord('가'))//588\n",
    "    ch2 = ((ord(letter) - ord('가')) - (588*ch1)) // 28\n",
    "    ch3 = (ord(letter) - ord('가')) - (588*ch1) - 28*ch2\n",
    "    mapper[(ch1, ch2, ch3)] = letter"
   ]
  },
  {
   "cell_type": "code",
   "execution_count": 10,
   "id": "5ecad9cf-15ea-4ee1-9926-64145f027f9e",
   "metadata": {
    "tags": []
   },
   "outputs": [],
   "source": [
    "def target_letters(letter, mapper, replacing_order=2):\n",
    "    hlist = [0,1,2,3,4,5,6,7,20] # ㅏㅐㅑㅒㅓㅔㅕㅖㅣ\n",
    "    vlist = [8,12,13,17,18] # ㅗㅛㅜㅠㅡ\n",
    "    clist = [9,10,11,14,15,16,19] # ㅘㅙㅚㅝㅞㅟㅢ\n",
    "    \n",
    "    ch1 = (ord(letter) - ord('가'))//588\n",
    "    ch2 = ((ord(letter) - ord('가')) - (588*ch1)) // 28\n",
    "    ch3 = (ord(letter) - ord('가')) - (588*ch1) - 28*ch2\n",
    "    \n",
    "    if ch2 in hlist:\n",
    "        targets = [mapper[(ch1,l2,ch3)] for l2 in hlist if l2 != ch2] \n",
    "    elif ch2 in vlist:\n",
    "        targets = [mapper[(ch1,l2,ch3)] for l2 in vlist if l2 != ch2] \n",
    "    else:\n",
    "        targets = [mapper[(ch1,l2,ch3)] for l2 in clist if l2 != ch2] \n",
    "    return targets\n",
    "\n",
    "def imagize(x_sample):\n",
    "    x_sample = (x_sample / 2 + 0.5).clamp(0, 1)\n",
    "    x_sample = x_sample.cpu().permute(0, 2, 3, 1).numpy()\n",
    "    x_images = pipe.numpy_to_pil(x_sample)\n",
    "    return x_images"
   ]
  },
  {
   "cell_type": "code",
   "execution_count": 11,
   "id": "d039c8b5-49b0-4f16-a81c-1fac689c9108",
   "metadata": {
    "tags": []
   },
   "outputs": [],
   "source": [
    "# for i in range(len(letters)):\n",
    "#     print(letters[i], target_letters(letters[i], mapper))"
   ]
  },
  {
   "cell_type": "code",
   "execution_count": 12,
   "id": "cb286460-79b5-4f08-9c7c-43b14e14f1c1",
   "metadata": {
    "tags": []
   },
   "outputs": [
    {
     "name": "stderr",
     "output_type": "stream",
     "text": [
      "/home/jupyter/ai_font/exp0809/diffuser_sample/model.py:102: FutureWarning: Accessing config attribute `style_encoder` directly via 'FontDiffuserModelDPM' object attribute is deprecated. Please access 'style_encoder' over 'FontDiffuserModelDPM's config object instead, e.g. 'unet.config.style_encoder'.\n",
      "  style_img_feature, _, style_residual_features = self.style_encoder(style_images)\n",
      "/home/jupyter/ai_font/exp0809/diffuser_sample/model.py:108: FutureWarning: Accessing config attribute `content_encoder` directly via 'FontDiffuserModelDPM' object attribute is deprecated. Please access 'content_encoder' over 'FontDiffuserModelDPM's config object instead, e.g. 'unet.config.content_encoder'.\n",
      "  content_img_feture, content_residual_features = self.content_encoder(content_images)\n",
      "/home/jupyter/ai_font/exp0809/diffuser_sample/model.py:111: FutureWarning: Accessing config attribute `content_encoder` directly via 'FontDiffuserModelDPM' object attribute is deprecated. Please access 'content_encoder' over 'FontDiffuserModelDPM's config object instead, e.g. 'unet.config.content_encoder'.\n",
      "  style_content_feature, style_content_res_features = self.content_encoder(style_images)\n",
      "/home/jupyter/ai_font/exp0809/diffuser_sample/model.py:116: FutureWarning: Accessing config attribute `unet` directly via 'FontDiffuserModelDPM' object attribute is deprecated. Please access 'unet' over 'FontDiffuserModelDPM's config object instead, e.g. 'unet.config.unet'.\n",
      "  out = self.unet(\n"
     ]
    }
   ],
   "source": [
    "for origin_letter in letters[:1]:\n",
    "    tetters = target_letters(origin_letter, mapper)\n",
    "    for target_letter in tetters[:1]:\n",
    "        try:\n",
    "            fd = \"/home/jupyter/ai_font/data\"\n",
    "            content_path = f\"{fd}/exp0717/train0730_whole/시스템굴림/시스템굴림__{target_letter}.png\"\n",
    "            style_path = f\"{fd}/exp0809/test0809_handcut_assembled/플레이브밤비/플레이브밤비__{target_letter}.png\"\n",
    "            inpaint_path = f\"{fd}/exp0809/inpaint0814/{origin_letter}.png\"\n",
    "            mask_path1 = f\"{fd}/exp0809/inpaint0814/{origin_letter}_m1.png\"\n",
    "            mask_path3 = f\"{fd}/exp0809/inpaint0814/{origin_letter}_m3.png\"\n",
    "\n",
    "            content_image = normal_transform(Image.open(content_path).convert('RGB')).cuda().unsqueeze(0)\n",
    "            style_image = normal_transform(Image.open(style_path).convert('RGB')).cuda().unsqueeze(0)\n",
    "            mask_images = [\n",
    "                mask_transform(Image.open(mask_path1).convert('RGB')).cuda().unsqueeze(0),\n",
    "                mask_transform(Image.open(mask_path3).convert('RGB')).cuda().unsqueeze(0),\n",
    "            ]\n",
    "            inpaint_images = [\n",
    "                normal_transform(Image.open(inpaint_path).convert('RGB')).cuda().unsqueeze(0),\n",
    "                normal_transform(Image.open(inpaint_path).convert('RGB')).cuda().unsqueeze(0),\n",
    "            ]\n",
    "\n",
    "            images = pipe.generate(\n",
    "                content_images=content_image,\n",
    "                style_images=style_image,\n",
    "\n",
    "\n",
    "                mask_images = mask_images,\n",
    "                inpaint_images = inpaint_images,\n",
    "\n",
    "                batch_size=content_image.shape[0],\n",
    "                order=args.order,\n",
    "                num_inference_step=args.num_inference_steps,\n",
    "                # num_inference_step=5,\n",
    "                content_encoder_downsample_size=args.content_encoder_downsample_size,\n",
    "                t_start=args.t_start,\n",
    "                t_end=args.t_end,\n",
    "                dm_size=args.content_image_size,\n",
    "                algorithm_type=args.algorithm_type,\n",
    "                skip_type=args.skip_type,\n",
    "                method=args.method,\n",
    "                correcting_x0_fn=args.correcting_x0_fn)\n",
    "            os.makedirs(f\"{fd}/exp0809/inpaint0814_generated/\", exist_ok=True)\n",
    "            # images[0].save(f\"{fd}/exp0809/inpaint0814_generated/{target_letter}.png\")\n",
    "        except:\n",
    "            print(target_letter)"
   ]
  },
  {
   "cell_type": "code",
   "execution_count": 16,
   "id": "c7621933-8254-407c-9dca-2c8a6066caed",
   "metadata": {
    "tags": []
   },
   "outputs": [
    {
     "data": {
      "image/jpeg": "[encoded data removed]",
      "image/png": "[encoded data removed]",
      "text/plain": [
       "<PIL.Image.Image image mode=RGB size=96x96>"
      ]
     },
     "execution_count": 16,
     "metadata": {},
     "output_type": "execute_result"
    }
   ],
   "source": [
    "images[0]"
   ]
  },
  {
   "cell_type": "code",
   "execution_count": 17,
   "id": "6bd32617-370f-4631-802d-672004be1ebd",
   "metadata": {},
   "outputs": [
    {
     "data": {
      "image/jpeg": "[encoded data removed]",
      "image/png": "[encoded data removed]",
      "text/plain": [
       "<PIL.PngImagePlugin.PngImageFile image mode=RGB size=128x128>"
      ]
     },
     "execution_count": 17,
     "metadata": {},
     "output_type": "execute_result"
    }
   ],
   "source": [
    "Image.open(inpaint_path)"
   ]
  },
  {
   "cell_type": "code",
   "execution_count": 37,
   "id": "c8e612ae-9d6f-42b3-8010-96388cad2bd3",
   "metadata": {
    "tags": []
   },
   "outputs": [
    {
     "data": {
      "image/jpeg": "[encoded data removed]",
      "image/png": "[encoded data removed]",
      "text/plain": [
       "<PIL.Image.Image image mode=RGB size=96x96>"
      ]
     },
     "execution_count": 37,
     "metadata": {},
     "output_type": "execute_result"
    }
   ],
   "source": [
    "imagize(model.noise_list[0])[0]"
   ]
  },
  {
   "cell_type": "code",
   "execution_count": 38,
   "id": "0791088f-2a65-4ff9-91d3-b1c9567346b8",
   "metadata": {
    "tags": []
   },
   "outputs": [
    {
     "data": {
      "image/jpeg": "[encoded data removed]",
      "image/png": "[encoded data removed]",
      "text/plain": [
       "<PIL.Image.Image image mode=RGB size=96x96>"
      ]
     },
     "execution_count": 38,
     "metadata": {},
     "output_type": "execute_result"
    }
   ],
   "source": [
    "imagize(model.x_t_list[0])[0]"
   ]
  },
  {
   "cell_type": "code",
   "execution_count": 31,
   "id": "bf492367-3af7-427d-a3c1-23ee4a96231c",
   "metadata": {
    "tags": []
   },
   "outputs": [
    {
     "data": {
      "text/plain": [
       "20"
      ]
     },
     "execution_count": 31,
     "metadata": {},
     "output_type": "execute_result"
    }
   ],
   "source": [
    "len(model.noise_list)"
   ]
  },
  {
   "cell_type": "code",
   "execution_count": null,
   "id": "9ae7f440-274f-4968-8da4-c4aeea263a80",
   "metadata": {},
   "outputs": [],
   "source": []
  }
 ],
 "metadata": {
  "environment": {
   "kernel": "conda-env-pytorch-pytorch",
   "name": "workbench-notebooks.m122",
   "type": "gcloud",
   "uri": "us-docker.pkg.dev/deeplearning-platform-release/gcr.io/workbench-notebooks:m122"
  },
  "kernelspec": {
   "display_name": "PyTorch 1-13 (Local)",
   "language": "python",
   "name": "conda-env-pytorch-pytorch"
  },
  "language_info": {
   "codemirror_mode": {
    "name": "ipython",
    "version": 3
   },
   "file_extension": ".py",
   "mimetype": "text/x-python",
   "name": "python",
   "nbconvert_exporter": "python",
   "pygments_lexer": "ipython3",
   "version": "3.10.14"
  }
 },
 "nbformat": 4,
 "nbformat_minor": 5
}
