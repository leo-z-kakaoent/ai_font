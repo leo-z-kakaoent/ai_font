{
 "cells": [
  {
   "cell_type": "code",
   "execution_count": 2,
   "id": "bfca7532-7557-4949-b8fc-65de500d1469",
   "metadata": {
    "tags": []
   },
   "outputs": [],
   "source": [
    "import os\n",
    "import pickle\n",
    "import numpy as np\n",
    "import pandas as pd\n",
    "from tqdm import tqdm\n",
    "from fontTools.ttLib import TTFont\n",
    "from PIL import Image, ImageDraw, ImageFont"
   ]
  },
  {
   "cell_type": "code",
   "execution_count": 56,
   "id": "61975ac5-137e-41f5-8423-08899a078513",
   "metadata": {
    "tags": []
   },
   "outputs": [],
   "source": [
    "for i in range(45):\n",
    "    char = \"phase1\"\n",
    "    epoch = \"ep%s\"%str(i)\n",
    "    font = ImageFont.truetype(\"data/r40202/ttfs/gulim.ttf\",20)\n",
    "    img = Image.new('L', (96,96), 255)    \n",
    "    draw = ImageDraw.Draw(img)\n",
    "    draw.text((10,30), char, font=font)\n",
    "    draw.text((20,50), epoch, font=font)\n",
    "    with open('data/f40219/%s_%s.png'%(char,epoch), \"wb\") as f:\n",
    "        img.save(f, \"PNG\")"
   ]
  },
  {
   "cell_type": "code",
   "execution_count": 55,
   "id": "c4fa4647-b891-4aa2-af79-b210044f3b1c",
   "metadata": {
    "tags": []
   },
   "outputs": [
    {
     "data": {
      "image/jpeg": "[encoded data removed]",
      "image/png": "[encoded data removed]",
      "text/plain": [
       "<PIL.Image.Image image mode=L size=96x96>"
      ]
     },
     "execution_count": 55,
     "metadata": {},
     "output_type": "execute_result"
    }
   ],
   "source": [
    "img"
   ]
  },
  {
   "cell_type": "code",
   "execution_count": 41,
   "id": "06fe7f7f-10bb-4f0e-b553-667715f82a1d",
   "metadata": {
    "tags": []
   },
   "outputs": [],
   "source": [
    "with open('data/f40219/%s_%s.png'%(char,epoch), \"wb\") as f:\n",
    "    img.save(f, \"PNG\")"
   ]
  }
 ],
 "metadata": {
  "environment": {
   "kernel": "python3",
   "name": ".m116",
   "type": "gcloud",
   "uri": "gcr.io/deeplearning-platform-release/:m116"
  },
  "kernelspec": {
   "display_name": "Python 3",
   "language": "python",
   "name": "python3"
  },
  "language_info": {
   "codemirror_mode": {
    "name": "ipython",
    "version": 3
   },
   "file_extension": ".py",
   "mimetype": "text/x-python",
   "name": "python",
   "nbconvert_exporter": "python",
   "pygments_lexer": "ipython3",
   "version": "3.10.13"
  }
 },
 "nbformat": 4,
 "nbformat_minor": 5
}
