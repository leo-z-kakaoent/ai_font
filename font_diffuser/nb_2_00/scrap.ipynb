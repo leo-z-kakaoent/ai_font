{
 "cells": [
  {
   "cell_type": "code",
   "execution_count": 1,
   "id": "e966ef3e-b287-424e-879c-4065890f5a59",
   "metadata": {
    "tags": []
   },
   "outputs": [],
   "source": [
    "from fixed_fd.dataset import FontDataset"
   ]
  },
  {
   "cell_type": "code",
   "execution_count": 2,
   "id": "a6179132-4cfe-4bbd-b73c-202b666c21d9",
   "metadata": {
    "tags": []
   },
   "outputs": [],
   "source": [
    "fds = FontDataset(path=\"data/raw/\", num_neg=8)"
   ]
  },
  {
   "cell_type": "code",
   "execution_count": null,
   "id": "1c9eef84-db13-4bc1-a894-b031e07dd15e",
   "metadata": {},
   "outputs": [],
   "source": []
  }
 ],
 "metadata": {
  "environment": {
   "kernel": "conda-env-pytorch-pytorch",
   "name": "workbench-notebooks.m118",
   "type": "gcloud",
   "uri": "us-docker.pkg.dev/deeplearning-platform-release/gcr.io/workbench-notebooks:m118"
  },
  "kernelspec": {
   "display_name": "PyTorch 1-13",
   "language": "python",
   "name": "conda-env-pytorch-pytorch"
  },
  "language_info": {
   "codemirror_mode": {
    "name": "ipython",
    "version": 3
   },
   "file_extension": ".py",
   "mimetype": "text/x-python",
   "name": "python",
   "nbconvert_exporter": "python",
   "pygments_lexer": "ipython3",
   "version": "3.10.13"
  }
 },
 "nbformat": 4,
 "nbformat_minor": 5
}
