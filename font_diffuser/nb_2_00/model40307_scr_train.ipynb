{
 "cells": [
  {
   "cell_type": "code",
   "execution_count": 1,
   "id": "db61343a-f3f8-44fe-b408-1c4fbacb40b7",
   "metadata": {
    "tags": []
   },
   "outputs": [],
   "source": [
    "import os\n",
    "import random\n",
    "from PIL import Image\n",
    "\n",
    "import numpy as np\n",
    "import pandas as pd\n",
    "import torch\n",
    "from tqdm import tqdm\n",
    "from torch.utils.data import Dataset, DataLoader\n",
    "import torchvision.transforms as transforms\n",
    "\n",
    "from fixed_fd.scr import SCR\n",
    "from diffusers.optimization import get_scheduler\n",
    "from accelerate import Accelerator"
   ]
  },
  {
   "cell_type": "code",
   "execution_count": 2,
   "id": "ea2bcc54-4a0d-4f29-b73e-509b855eeb68",
   "metadata": {
    "tags": []
   },
   "outputs": [],
   "source": [
    "# Sample, Positive, Negative. By Style\n",
    "class SCRDataset(Dataset):\n",
    "\n",
    "    def __init__(self, path, num_neg=16):\n",
    "        super().__init__()\n",
    "        self.path = path\n",
    "        self.resolution = 96 # default\n",
    "        self.num_neg = num_neg\n",
    "        self.all_files = [path+\"pngs/\"+f for f in os.listdir(path+\"pngs/\") if \".png\" in f]\n",
    "        self.all_korean_letters = pd.read_parquet(path+\"all_korean.parquet\")\n",
    "        self.transform = transforms.Compose([\n",
    "            transforms.ToTensor(),\n",
    "            transforms.Normalize([0.5], [0.5])\n",
    "        ])\n",
    "        \n",
    "    def __len__(self):\n",
    "        return len(self.all_files)\n",
    "        \n",
    "    def __getitem__(self, index):\n",
    "        sample_img_path = self.all_files[index]\n",
    "        sample_img_name = sample_img_path.replace(\".png\",\"\").split('__')\n",
    "        style = sample_img_name[0]\n",
    "        \n",
    "        pos_img_paths = [f for f in self.all_files if (style in f) & (sample_img_path != f)]\n",
    "        pos_img_path = random.choice(pos_img_paths)\n",
    "        \n",
    "        sample_img = self.transform(Image.open(sample_img_path).convert(\"RGB\"))\n",
    "        pos_img = self.transform(Image.open(pos_img_path).convert(\"RGB\"))\n",
    "        \n",
    "        neg_imgs = []\n",
    "        neg_img_paths = [f for f in self.all_files if (style not in f) & (\"__%s\"%sample_img_name[1] in f)]\n",
    "        for _ in range(self.num_neg):\n",
    "            neg_img_path = random.choice(neg_img_paths)\n",
    "            neg_imgs.append(self.transform(Image.open(neg_img_path).convert(\"RGB\")))\n",
    "        \n",
    "        # sample_img = Image.open(sample_img_path).convert(\"RGB\")\n",
    "        # pos_img = Image.open(pos_img_path).convert(\"RGB\")\n",
    "        # neg_img = Image.open(neg_img_path).convert(\"RGB\")\n",
    "        \n",
    "        return sample_img, pos_img, torch.stack(neg_imgs)"
   ]
  },
  {
   "cell_type": "code",
   "execution_count": 3,
   "id": "fb19dc93-5586-41c0-8c7b-addd68c26ba8",
   "metadata": {},
   "outputs": [],
   "source": [
    "scr_ds = SCRDataset(path=\"data/raw/\")\n",
    "scr_dl = DataLoader(scr_ds, shuffle=True, batch_size=64, num_workers=4)\n",
    "scr_model = SCR()\n",
    "optimizer = torch.optim.AdamW(scr_model.parameters(), lr=1e-5)\n",
    "epoch = 1000\n",
    "save_fd = \"data/model/\""
   ]
  },
  {
   "cell_type": "code",
   "execution_count": 4,
   "id": "05033e45-14e2-471d-8f7b-c6ff26c8fdfa",
   "metadata": {
    "tags": []
   },
   "outputs": [],
   "source": [
    "accelerator = Accelerator()\n",
    "lr_scheduler = get_scheduler(name=\"linear\", optimizer=optimizer,num_warmup_steps=10, num_training_steps=1000)\n",
    "scr_model, optimizer, scr_dl, lr_scheduler = accelerator.prepare(scr_model, optimizer, scr_dl, lr_scheduler)"
   ]
  },
  {
   "cell_type": "code",
   "execution_count": 5,
   "id": "822476c5-b114-4d8f-a5cb-5df8cd424c45",
   "metadata": {
    "tags": []
   },
   "outputs": [
    {
     "data": {
      "text/plain": [
       "12023"
      ]
     },
     "execution_count": 5,
     "metadata": {},
     "output_type": "execute_result"
    }
   ],
   "source": [
    "len(scr_dl)"
   ]
  },
  {
   "cell_type": "code",
   "execution_count": null,
   "id": "9e95f2ea-8efc-48be-80d6-34ff97e994e2",
   "metadata": {
    "tags": []
   },
   "outputs": [
    {
     "name": "stderr",
     "output_type": "stream",
     "text": [
      "Steps:   0%|          | 0/12023000 [00:00<?, ?it/s]"
     ]
    }
   ],
   "source": [
    "max_train_steps = epoch * len(scr_dl)\n",
    "progress_bar = tqdm(range(max_train_steps))\n",
    "progress_bar.set_description(\"Steps\")\n",
    "lossdicts = []\n",
    "for epoch_i in range(epoch):\n",
    "    losses = []\n",
    "    for step, x in enumerate(scr_dl):\n",
    "        with accelerator.accumulate(scr_model):\n",
    "            sample_img, pos_img, neg_imgs = x\n",
    "            sample_emb, pos_emb, neg_emb = scr_model(sample_img, pos_img, neg_imgs)\n",
    "            loss = scr_model.calculate_nce_loss(sample_emb, pos_emb, neg_emb)\n",
    "\n",
    "            accelerator.backward(loss)\n",
    "\n",
    "            optimizer.step()\n",
    "            lr_scheduler.step()\n",
    "            optimizer.zero_grad()\n",
    "\n",
    "            losses.append(loss.detach().cpu().numpy())\n",
    "            progress_bar.update(1)\n",
    "            progress_bar.set_postfix(loss=np.mean(losses))\n",
    "    lossdicts.append({\"loss\":np.mean(losses)})\n",
    "    pd.DataFrame().from_dict(lossdicts).to_csv(save_fd+\"loss.csv\")\n",
    "    torch.save(scr_model.state_dict(), save_fd+\"m_%s.pth\"%str(epoch_i))\n",
    "accelerator.end_training()"
   ]
  },
  {
   "cell_type": "code",
   "execution_count": null,
   "id": "ffe13e0a-59dd-4ec6-9aae-d9f7ad149c76",
   "metadata": {},
   "outputs": [],
   "source": []
  }
 ],
 "metadata": {
  "environment": {
   "kernel": "conda-root-py",
   "name": "workbench-notebooks.m117",
   "type": "gcloud",
   "uri": "us-docker.pkg.dev/deeplearning-platform-release/gcr.io/workbench-notebooks:m117"
  },
  "kernelspec": {
   "display_name": "Python 3 (ipykernel)",
   "language": "python",
   "name": "conda-root-py"
  },
  "language_info": {
   "codemirror_mode": {
    "name": "ipython",
    "version": 3
   },
   "file_extension": ".py",
   "mimetype": "text/x-python",
   "name": "python",
   "nbconvert_exporter": "python",
   "pygments_lexer": "ipython3",
   "version": "3.10.13"
  }
 },
 "nbformat": 4,
 "nbformat_minor": 5
}
