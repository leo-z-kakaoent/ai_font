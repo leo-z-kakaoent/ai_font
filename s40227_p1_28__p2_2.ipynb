{
 "cells": [
  {
   "cell_type": "code",
   "execution_count": 84,
   "id": "a1bafdb1-cf2c-43b7-a40c-75e96a89e2a9",
   "metadata": {
    "tags": []
   },
   "outputs": [],
   "source": [
    "import os\n",
    "import sys\n",
    "import numpy as np\n",
    "from tqdm import tqdm\n",
    "from PIL import Image\n",
    "from font_diffuser.args import SampleArgs\n",
    "from font_diffuser.sample import load_fontdiffuer_pipeline, sampling\n",
    "\n",
    "class ImageConcat:\n",
    "    def __init__(self, n_h, n_v, resolution=96):\n",
    "        self.n_h = n_h\n",
    "        self.n_v = n_v\n",
    "        self.r = resolution\n",
    "        self.img = Image.new(\"RGB\", (self.n_h*self.r, self.n_v*self.r))\n",
    "        self.cursor = [0,0]\n",
    "        \n",
    "    def move_cursor_h(self):\n",
    "        self.cursor[0] += self.r\n",
    "        \n",
    "    def move_cursor_v(self):\n",
    "        self.cursor[1] += self.r\n",
    "        \n",
    "    def reset_cursor_h(self):\n",
    "        self.cursor[0] = 0\n",
    "        \n",
    "    def append_img(self, im):\n",
    "        self.img.paste(im, tuple(self.cursor))\n",
    "        \n",
    "    def save_img(self, path):\n",
    "        self.img.save(path)\n",
    "\n",
    "        \n",
    "class HiddenPrints:\n",
    "    def __enter__(self):\n",
    "        self._original_stdout = sys.stdout\n",
    "        sys.stdout = open(os.devnull, 'w')\n",
    "\n",
    "    def __exit__(self, exc_type, exc_val, exc_tb):\n",
    "        sys.stdout.close()\n",
    "        sys.stdout = self._original_stdout\n",
    "\n",
    "        \n",
    "def black2blue(img):\n",
    "    array_img = np.array(img)\n",
    "    for i in range(96):\n",
    "        for j in range(96):\n",
    "            if not np.all(array_img[i,j,:] > 200):\n",
    "                array_img[i,j,:] = (0,0,140)\n",
    "    return Image.fromarray(array_img)\n",
    "\n",
    "def black2gray(img):\n",
    "    array_img = np.array(out_image, dtype=np.float32)\n",
    "    array_img = array_img - 255\n",
    "    array_img = array_img * 0.75\n",
    "    array_img = array_img + 255\n",
    "    return Image.fromarray(array_img.astype(np.uint8))"
   ]
  },
  {
   "cell_type": "code",
   "execution_count": 85,
   "id": "00f8a8b2-1e39-46c1-ae8d-fa17b59e8b5a",
   "metadata": {
    "tags": []
   },
   "outputs": [],
   "source": [
    "args = SampleArgs()\n",
    "r = 96\n",
    "n_h = 6\n",
    "n_v = 12\n",
    "contents = np.arange(0,11172,11172/(n_h*n_v), dtype=int)"
   ]
  },
  {
   "cell_type": "code",
   "execution_count": null,
   "id": "cf709220-5f52-49ad-a285-addfed8f166b",
   "metadata": {
    "tags": []
   },
   "outputs": [
    {
     "name": "stdout",
     "output_type": "stream",
     "text": [
      "Load the down block  DownBlock2D\n",
      "Load the down block  MCADownBlock2D\n",
      "The style_attention cross attention dim in Down Block 1 layer is 1024\n",
      "The style_attention cross attention dim in Down Block 2 layer is 1024\n",
      "Load the down block  MCADownBlock2D\n",
      "The style_attention cross attention dim in Down Block 1 layer is 1024\n",
      "The style_attention cross attention dim in Down Block 2 layer is 1024\n",
      "Load the down block  DownBlock2D\n",
      "Load the up block  UpBlock2D\n",
      "Load the up block  StyleRSIUpBlock2D\n",
      "Load the up block  StyleRSIUpBlock2D\n",
      "Load the up block  UpBlock2D\n",
      "Param count for Ds initialized parameters: 20591296\n",
      "Get CG-GAN Style Encoder!\n",
      "Param count for Ds initialized parameters: 1187008\n",
      "Get CG-GAN Content Encoder!\n",
      "Loaded the model state_dict successfully!\n",
      "Loaded training DDPM scheduler sucessfully!\n",
      "Loaded dpm_solver pipeline sucessfully!\n"
     ]
    },
    {
     "name": "stderr",
     "output_type": "stream",
     "text": [
      " 18%|█▊        | 31/170 [1:50:34<7:06:22, 184.05s/it, style=UhBee UJong]           "
     ]
    }
   ],
   "source": [
    "pipe = load_fontdiffuer_pipeline(args=args,model_i=\"p2_20000\")\n",
    "pbar = tqdm([p.split(\".ttf\")[0] for p in os.listdir(\"data/r40202/ttfs\") if (\"UhBee\" in p) or (\"twice\" in p)])\n",
    "for style in pbar:\n",
    "    style_image_paths = [p for p in os.listdir(\"data/r40202/pngs/\") if style in p]\n",
    "    if (\"p1_28__p2_2__%s.png\"%style not in os.listdir(\"data/f40227/\"))&(len(style_image_paths)>0):\n",
    "        with HiddenPrints():\n",
    "            bigimg = ImageConcat(n_h=n_h*2, n_v=n_v, resolution=r)\n",
    "            style_image = Image.open(\"data/r40202/pngs/\"+style_image_paths[0]).convert('RGB')\n",
    "            c = 0\n",
    "            for _ in range(n_v):\n",
    "                for _ in range(n_h):\n",
    "                    ci = contents[c]\n",
    "                    content_image = Image.open(\"data/r40202/pngs/gulim__%s.png\"%str(ci)).convert('RGB')\n",
    "                    try:\n",
    "                        bigimg.append_img(Image.open(\"data/r40202/pngs/%s__%s.png\"%(str(style), str(ci))).convert('RGB'))\n",
    "                    except:\n",
    "                        bigimg.append_img(Image.open(\"data/f40219/noimg.png\").convert('RGB'))\n",
    "                    bigimg.move_cursor_h()\n",
    "\n",
    "                    out_image = sampling(\n",
    "                            args=args, \n",
    "                            pipe=pipe, \n",
    "                            content_image=content_image,\n",
    "                            style_image=style_image,\n",
    "                        )\n",
    "                    bigimg.append_img(black2gray(out_image))\n",
    "                    bigimg.move_cursor_h()\n",
    "\n",
    "                    c += 1\n",
    "                bigimg.reset_cursor_h()\n",
    "                bigimg.move_cursor_v()\n",
    "            bigimg.save_img(\"data/f40227/p1_28__p2_2__%s.png\"%style)\n",
    "            pbar.set_postfix(style=style)"
   ]
  },
  {
   "cell_type": "code",
   "execution_count": null,
   "id": "a3b1d422-abbc-4e03-883b-d73ea4530b1a",
   "metadata": {},
   "outputs": [],
   "source": []
  }
 ],
 "metadata": {
  "environment": {
   "kernel": "python3",
   "name": ".m116",
   "type": "gcloud",
   "uri": "gcr.io/deeplearning-platform-release/:m116"
  },
  "kernelspec": {
   "display_name": "Python 3",
   "language": "python",
   "name": "python3"
  },
  "language_info": {
   "codemirror_mode": {
    "name": "ipython",
    "version": 3
   },
   "file_extension": ".py",
   "mimetype": "text/x-python",
   "name": "python",
   "nbconvert_exporter": "python",
   "pygments_lexer": "ipython3",
   "version": "3.10.13"
  }
 },
 "nbformat": 4,
 "nbformat_minor": 5
}
