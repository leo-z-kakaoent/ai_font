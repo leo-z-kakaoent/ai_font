{
 "cells": [
  {
   "cell_type": "code",
   "execution_count": 2,
   "id": "c3cbc62f-58f3-4502-9331-27d6e7ff969e",
   "metadata": {
    "tags": []
   },
   "outputs": [],
   "source": [
    "import os\n",
    "import pickle\n",
    "import numpy as np\n",
    "import pandas as pd\n",
    "from collections import defaultdict\n",
    "from tqdm import tqdm\n",
    "from fontTools.ttLib import TTFont\n",
    "from PIL import Image, ImageDraw, ImageFont"
   ]
  },
  {
   "cell_type": "code",
   "execution_count": 4,
   "id": "6f6e3155-5d4f-4557-bede-b2ae40835790",
   "metadata": {
    "tags": []
   },
   "outputs": [],
   "source": [
    "def get_existing_chars(filename):\n",
    "    ttfont = TTFont(filename)\n",
    "    return list({chr(key) for table in ttfont['cmap'].tables for key in table.cmap.keys()})\n",
    "\n",
    "def get_image(font, char, size=96):\n",
    "    img = Image.new('L', (1000,1000), 255)\n",
    "\n",
    "    draw = ImageDraw.Draw(img)\n",
    "    draw.text((200,200), char, font=font)\n",
    "\n",
    "    npimg = 255 - np.array(img)\n",
    "    wmin = npimg.sum(0).nonzero()[0].min()\n",
    "    wmax = npimg.sum(0).nonzero()[0].max()\n",
    "    hmin = npimg.sum(1).nonzero()[0].min()\n",
    "    hmax = npimg.sum(1).nonzero()[0].max()\n",
    "\n",
    "    npimg = 255 - npimg[hmin:hmax+1,wmin:wmax+1]\n",
    "\n",
    "    whdiff = (wmax-wmin) - (hmax-hmin)\n",
    "    wmargin = abs(whdiff) // 2 if whdiff < 0 else 0\n",
    "    hmargin = abs(whdiff) // 2 if whdiff >= 0 else 0\n",
    "\n",
    "    npimg = np.pad(npimg, ((hmargin, hmargin), (wmargin, wmargin)),\n",
    "                       'constant', constant_values=255)\n",
    "    img = Image.fromarray(npimg)\n",
    "    \n",
    "    return img\n",
    "\n",
    "# utf-8\n",
    "def get_all_korean():\n",
    "\n",
    "    def nextKorLetterFrom(letter):\n",
    "        lastLetterInt = 15572643\n",
    "        if not letter:\n",
    "            return '가'\n",
    "        a = letter\n",
    "        b = a.encode('utf8')\n",
    "        c = int(b.hex(), 16)\n",
    "\n",
    "        if c == lastLetterInt:\n",
    "            return False\n",
    "\n",
    "        d = hex(c + 1)\n",
    "        e = bytearray.fromhex(d[2:])\n",
    "\n",
    "        flag = True\n",
    "        while flag:\n",
    "            try:\n",
    "                r = e.decode('utf-8')\n",
    "                flag = False\n",
    "            except UnicodeDecodeError:\n",
    "                c = c+1\n",
    "                d = hex(c)\n",
    "                e = bytearray.fromhex(d[2:])\n",
    "        return e.decode()\n",
    "\n",
    "    returns = []\n",
    "    flag = True\n",
    "    k = ''\n",
    "    while flag:\n",
    "        k = nextKorLetterFrom(k)\n",
    "        if k is False:\n",
    "            flag = False\n",
    "        else:\n",
    "            returns.append(k)\n",
    "    return returns"
   ]
  },
  {
   "cell_type": "code",
   "execution_count": 5,
   "id": "b567e2cd-5a6a-41ae-bba1-3e38ab1cd010",
   "metadata": {
    "tags": []
   },
   "outputs": [],
   "source": [
    "ak = get_all_korean()"
   ]
  },
  {
   "cell_type": "code",
   "execution_count": 6,
   "id": "25fabeb9-c7ef-4af3-86dd-2d7db88f8184",
   "metadata": {
    "tags": []
   },
   "outputs": [],
   "source": [
    "font_size = 70\n",
    "filename = \"/home/jupyter/ai_font/data/raw/ttfs/gulim.ttf\"\n",
    "font = ImageFont.truetype(filename,font_size)\n",
    "existing_chars = get_existing_chars(filename)\n",
    "iter_chars = list(set(existing_chars).intersection(set(ak)))\n",
    "img_dict = {}\n",
    "for l in iter_chars:\n",
    "    img_dict[l] = get_image(font, l)"
   ]
  },
  {
   "cell_type": "code",
   "execution_count": 7,
   "id": "7633fe40-3cf5-4795-b453-5a7351dbc9f0",
   "metadata": {
    "tags": []
   },
   "outputs": [],
   "source": [
    "def resize_with_padding(img, ratio, new_size, padding_color=(255, 255, 255)):\n",
    "    # Open the image\n",
    "    # Get the new dimensions based on the ratio\n",
    "    new_width = int(img.width * ratio)\n",
    "    new_height = int(img.height * ratio)\n",
    "    \n",
    "    # Resize the image using the new dimensions\n",
    "    resized_img = img.resize((new_width, new_height), Image.BILINEAR)\n",
    "    \n",
    "    # Create a new blank image with padding\n",
    "    padded_img = Image.new(\"RGB\", (new_size, new_size), padding_color)\n",
    "    \n",
    "    # Calculate the position to paste the resized image\n",
    "    left = (padded_img.width - resized_img.width) // 2\n",
    "    top = (padded_img.height - resized_img.height) // 2\n",
    "    right = left + resized_img.width\n",
    "    bottom = top + resized_img.height\n",
    "    \n",
    "    # Paste the resized image onto the blank image\n",
    "    padded_img.paste(resized_img, (left, top, right, bottom))\n",
    "    \n",
    "    return padded_img"
   ]
  },
  {
   "cell_type": "code",
   "execution_count": 9,
   "id": "14777748-abd2-4d3e-931e-be77e272e87a",
   "metadata": {
    "tags": []
   },
   "outputs": [],
   "source": [
    "max_size = 0\n",
    "for k,v in img_dict.items():\n",
    "    size = v.size\n",
    "    if max(size) > max_size:\n",
    "        max_size = max(size)\n",
    "ratio = 95/max_size"
   ]
  },
  {
   "cell_type": "code",
   "execution_count": 12,
   "id": "4b36d304-0842-4987-b13d-6c0b6f916f4a",
   "metadata": {
    "tags": []
   },
   "outputs": [
    {
     "name": "stderr",
     "output_type": "stream",
     "text": [
      "100%|██████████| 11172/11172 [00:10<00:00, 1092.25it/s]\n"
     ]
    }
   ],
   "source": [
    "for k,v in tqdm(img_dict.items()):\n",
    "    img = resize_with_padding(v, ratio, 96)\n",
    "    with open(f\"/home/jupyter/ai_font/data/processed/seen/gulim__{k}.png\", \"wb\") as f:\n",
    "        img.save(f, \"PNG\")"
   ]
  },
  {
   "cell_type": "code",
   "execution_count": 13,
   "id": "e027d911-831f-4c29-9115-c71ae126775c",
   "metadata": {
    "tags": []
   },
   "outputs": [
    {
     "data": {
      "image/jpeg": "[encoded data removed]",
      "image/png": "[encoded data removed]",
      "text/plain": [
       "<PIL.Image.Image image mode=RGB size=96x96>"
      ]
     },
     "execution_count": 13,
     "metadata": {},
     "output_type": "execute_result"
    }
   ],
   "source": [
    "img"
   ]
  },
  {
   "cell_type": "code",
   "execution_count": 45,
   "id": "1239b346-eee7-4c67-a246-72b84f8ac626",
   "metadata": {
    "tags": []
   },
   "outputs": [
    {
     "data": {
      "text/plain": [
       "64"
      ]
     },
     "execution_count": 45,
     "metadata": {},
     "output_type": "execute_result"
    }
   ],
   "source": [
    "max(a.size)"
   ]
  },
  {
   "cell_type": "code",
   "execution_count": 37,
   "id": "b4071f9e-2e36-40b0-ab72-2dd85edb6fe5",
   "metadata": {
    "tags": []
   },
   "outputs": [
    {
     "data": {
      "image/jpeg": "[encoded data removed]",
      "image/png": "[encoded data removed]",
      "text/plain": [
       "<PIL.Image.Image image mode=L size=64x63>"
      ]
     },
     "execution_count": 37,
     "metadata": {},
     "output_type": "execute_result"
    }
   ],
   "source": [
    "a"
   ]
  },
  {
   "cell_type": "code",
   "execution_count": null,
   "id": "93676d0a-1757-42ff-97ef-a4e580faea28",
   "metadata": {},
   "outputs": [],
   "source": []
  }
 ],
 "metadata": {
  "environment": {
   "kernel": "conda-env-pytorch-pytorch",
   "name": "workbench-notebooks.m120",
   "type": "gcloud",
   "uri": "us-docker.pkg.dev/deeplearning-platform-release/gcr.io/workbench-notebooks:m120"
  },
  "kernelspec": {
   "display_name": "PyTorch 1-13 (Local)",
   "language": "python",
   "name": "conda-env-pytorch-pytorch"
  },
  "language_info": {
   "codemirror_mode": {
    "name": "ipython",
    "version": 3
   },
   "file_extension": ".py",
   "mimetype": "text/x-python",
   "name": "python",
   "nbconvert_exporter": "python",
   "pygments_lexer": "ipython3",
   "version": "3.10.14"
  }
 },
 "nbformat": 4,
 "nbformat_minor": 5
}
