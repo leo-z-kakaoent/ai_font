{
 "cells": [
  {
   "cell_type": "code",
   "execution_count": 7,
   "id": "c1890108-db72-40c4-aaa8-a14447541452",
   "metadata": {
    "tags": []
   },
   "outputs": [],
   "source": [
    "import os\n",
    "from tqdm import tqdm\n",
    "from google.cloud import storage\n",
    "\n",
    "storage_client = storage.Client()\n",
    "bucket = storage_client.bucket('leo_font')"
   ]
  },
  {
   "cell_type": "code",
   "execution_count": 9,
   "id": "75e71b1b-d963-462c-95af-99b3788e8bbb",
   "metadata": {
    "tags": []
   },
   "outputs": [],
   "source": [
    "import os\n",
    "import zipfile\n",
    "\n",
    "def zip_folder(folder_path, zip_filename):\n",
    "    with zipfile.ZipFile(zip_filename, 'w', zipfile.ZIP_DEFLATED) as zipf:\n",
    "        for root, _, files in os.walk(folder_path):\n",
    "            for file in files:\n",
    "                file_path = os.path.join(root, file)\n",
    "                # Calculate the relative path to the file inside the zip\n",
    "                rel_path = os.path.relpath(file_path, os.path.dirname(folder_path))\n",
    "                zipf.write(file_path, rel_path)"
   ]
  },
  {
   "cell_type": "code",
   "execution_count": 5,
   "id": "13f9f9de-5ef8-45ee-a94a-1d38486252f9",
   "metadata": {},
   "outputs": [],
   "source": [
    "fd = \"/home/jupyter/ai_font/data/test\""
   ]
  },
  {
   "cell_type": "code",
   "execution_count": 11,
   "id": "b57c1623-a875-49fa-8668-f2c5b96ba5ad",
   "metadata": {
    "tags": []
   },
   "outputs": [],
   "source": [
    "zippath = \"/home/jupyter/ai_font/data/test.zip\""
   ]
  },
  {
   "cell_type": "code",
   "execution_count": 10,
   "id": "63db3bfa-7269-4a7f-88af-4f265af24d0e",
   "metadata": {
    "tags": []
   },
   "outputs": [],
   "source": [
    "zip_folder(fd, zippath)"
   ]
  },
  {
   "cell_type": "code",
   "execution_count": 12,
   "id": "9757a7fd-d9ff-4fe9-bde8-2e9cf2e8694b",
   "metadata": {
    "tags": []
   },
   "outputs": [],
   "source": [
    "blob = bucket.blob(f\"exp0514/test.zip\")\n",
    "blob.upload_from_filename(zippath)"
   ]
  },
  {
   "cell_type": "code",
   "execution_count": null,
   "id": "0351cf25-a13d-4af4-8f0c-227080d692b8",
   "metadata": {},
   "outputs": [],
   "source": []
  }
 ],
 "metadata": {
  "environment": {
   "kernel": "conda-env-pytorch-pytorch",
   "name": "workbench-notebooks.m121",
   "type": "gcloud",
   "uri": "us-docker.pkg.dev/deeplearning-platform-release/gcr.io/workbench-notebooks:m121"
  },
  "kernelspec": {
   "display_name": "PyTorch 1-13 (Local)",
   "language": "python",
   "name": "conda-env-pytorch-pytorch"
  },
  "language_info": {
   "codemirror_mode": {
    "name": "ipython",
    "version": 3
   },
   "file_extension": ".py",
   "mimetype": "text/x-python",
   "name": "python",
   "nbconvert_exporter": "python",
   "pygments_lexer": "ipython3",
   "version": "3.10.14"
  }
 },
 "nbformat": 4,
 "nbformat_minor": 5
}
