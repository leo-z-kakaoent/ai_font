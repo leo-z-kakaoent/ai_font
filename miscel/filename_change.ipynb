{
 "cells": [
  {
   "cell_type": "code",
   "execution_count": 5,
   "id": "fcdc3fb1-d920-453a-bee3-f4e68ba70a52",
   "metadata": {
    "tags": []
   },
   "outputs": [],
   "source": [
    "import os\n",
    "from tqdm import tqdm"
   ]
  },
  {
   "cell_type": "code",
   "execution_count": 6,
   "id": "4e983962-61d6-4bbe-9f9c-0fd37dd4dbe2",
   "metadata": {
    "tags": []
   },
   "outputs": [],
   "source": [
    "fd = \"/home/jupyter/ai_font/data/report\""
   ]
  },
  {
   "cell_type": "code",
   "execution_count": 7,
   "id": "2d528428-b1e4-46bc-b7e1-2d52bc6560b0",
   "metadata": {
    "tags": []
   },
   "outputs": [],
   "source": [
    "tag = \"vanilla_fontdiffuser_training_phase_1\""
   ]
  },
  {
   "cell_type": "code",
   "execution_count": 8,
   "id": "adb830c1-0d9d-4de2-9ac8-ed1c2c720a48",
   "metadata": {
    "tags": []
   },
   "outputs": [
    {
     "name": "stderr",
     "output_type": "stream",
     "text": [
      "100%|██████████| 20916/20916 [00:00<00:00, 70578.03it/s]\n"
     ]
    }
   ],
   "source": [
    "for f in tqdm(os.listdir(fd)):\n",
    "    if \".png\" in f:\n",
    "        os.rename(f\"{fd}/{f}\",f\"{fd}/{tag}__{f}\")"
   ]
  },
  {
   "cell_type": "code",
   "execution_count": null,
   "id": "24bd15aa-99ab-430d-aeb1-4ba987d7ffad",
   "metadata": {},
   "outputs": [],
   "source": []
  }
 ],
 "metadata": {
  "environment": {
   "kernel": "conda-root-py",
   "name": "workbench-notebooks.m118",
   "type": "gcloud",
   "uri": "us-docker.pkg.dev/deeplearning-platform-release/gcr.io/workbench-notebooks:m118"
  },
  "kernelspec": {
   "display_name": "Python 3 (ipykernel)",
   "language": "python",
   "name": "conda-root-py"
  },
  "language_info": {
   "codemirror_mode": {
    "name": "ipython",
    "version": 3
   },
   "file_extension": ".py",
   "mimetype": "text/x-python",
   "name": "python",
   "nbconvert_exporter": "python",
   "pygments_lexer": "ipython3",
   "version": "3.10.13"
  }
 },
 "nbformat": 4,
 "nbformat_minor": 5
}
