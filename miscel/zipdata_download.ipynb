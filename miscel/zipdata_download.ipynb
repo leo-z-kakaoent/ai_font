{
 "cells": [
  {
   "cell_type": "code",
   "execution_count": null,
   "id": "f742bdca-5191-48a8-992c-d2fceac49238",
   "metadata": {},
   "outputs": [],
   "source": [
    "import os\n",
    "\n",
    "'''\n",
    "raw -> size96 -> seen\n",
    "raw -> size96 -> unseen\n",
    "raw -> size128 -> seen\n",
    "raw -> size128 -> unseen\n",
    "'''\n",
    "\n",
    "os.makedirs(\"data/zipfiles/raw/size96/seen\")\n",
    "os.makedirs(\"data/zipfiles/raw/size96/unseen\")\n",
    "os.makedirs(\"data/zipfiles/raw/size128/seen\")\n",
    "os.makedirs(\"data/zipfiles/raw/size128/unseen\")\n",
    "\n",
    "from google.cloud import storage\n",
    "\n",
    "bucket_name = \"leo_font\"\n",
    "storage_client = storage.Client()\n",
    "bucket = storage_client.bucket(bucket_name)\n",
    "blob = bucket.blob(\"leo_font/zipfiles/aifont.zip\")\n",
    "blob.download_to_filename(\"data/zipfiles/aifont.zip\")\n",
    "\n",
    "\n",
    "import zipfile\n",
    "zipfile.ZipFile('data/zipfiles/aifont.zip').extractall(\"data/zipfiles/raw/\")\n",
    "\n",
    "print(len(os.listdir(\"data/zipfiles/raw/size96/seen\")))\n",
    "print(len(os.listdir(\"data/zipfiles/raw/size96/unseen\")))\n",
    "print(len(os.listdir(\"data/zipfiles/raw/size128/seen\")))\n",
    "print(len(os.listdir(\"data/zipfiles/raw/size128/unseen\")))"
   ]
  }
 ],
 "metadata": {
  "environment": {
   "kernel": "conda-env-pytorch-pytorch",
   "name": "workbench-notebooks.m120",
   "type": "gcloud",
   "uri": "us-docker.pkg.dev/deeplearning-platform-release/gcr.io/workbench-notebooks:m120"
  },
  "kernelspec": {
   "display_name": "PyTorch 1-13 (Local)",
   "language": "python",
   "name": "conda-env-pytorch-pytorch"
  },
  "language_info": {
   "codemirror_mode": {
    "name": "ipython",
    "version": 3
   },
   "file_extension": ".py",
   "mimetype": "text/x-python",
   "name": "python",
   "nbconvert_exporter": "python",
   "pygments_lexer": "ipython3",
   "version": "3.10.14"
  }
 },
 "nbformat": 4,
 "nbformat_minor": 5
}
