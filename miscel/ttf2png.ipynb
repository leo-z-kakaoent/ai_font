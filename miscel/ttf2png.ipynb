{
 "cells": [
  {
   "cell_type": "code",
   "execution_count": 1,
   "id": "c3cbc62f-58f3-4502-9331-27d6e7ff969e",
   "metadata": {
    "tags": []
   },
   "outputs": [],
   "source": [
    "import os\n",
    "import pickle\n",
    "import numpy as np\n",
    "import pandas as pd\n",
    "from collections import defaultdict\n",
    "from tqdm import tqdm\n",
    "from fontTools.ttLib import TTFont\n",
    "from PIL import Image, ImageDraw, ImageFont"
   ]
  },
  {
   "cell_type": "code",
   "execution_count": 2,
   "id": "bcc94894-2437-4d31-a1cd-06f4661b2fcb",
   "metadata": {
    "tags": []
   },
   "outputs": [],
   "source": [
    "img_size = 96\n",
    "ttf_path = \"../data/raw/ttf/\"\n",
    "save_path = \"../data/raw/nointer\""
   ]
  },
  {
   "cell_type": "code",
   "execution_count": 3,
   "id": "6f6e3155-5d4f-4557-bede-b2ae40835790",
   "metadata": {
    "tags": []
   },
   "outputs": [],
   "source": [
    "def get_existing_chars(filename):\n",
    "    ttfont = TTFont(filename)\n",
    "    return list({chr(key) for table in ttfont['cmap'].tables for key in table.cmap.keys()})\n",
    "\n",
    "def get_image(font, char, size=img_size):\n",
    "    img = Image.new('L', (1000,1000), 255)\n",
    "\n",
    "    draw = ImageDraw.Draw(img)\n",
    "    draw.text((200,200), char, font=font)\n",
    "\n",
    "    npimg = 255 - np.array(img)\n",
    "    wmin = npimg.sum(0).nonzero()[0].min()\n",
    "    wmax = npimg.sum(0).nonzero()[0].max()\n",
    "    hmin = npimg.sum(1).nonzero()[0].min()\n",
    "    hmax = npimg.sum(1).nonzero()[0].max()\n",
    "\n",
    "    npimg = 255 - npimg[hmin:hmax+1,wmin:wmax+1]\n",
    "\n",
    "    whdiff = (wmax-wmin) - (hmax-hmin)\n",
    "    wmargin = abs(whdiff) // 2 if whdiff < 0 else 0\n",
    "    hmargin = abs(whdiff) // 2 if whdiff >= 0 else 0\n",
    "\n",
    "    npimg = np.pad(npimg, ((hmargin, hmargin), (wmargin, wmargin)),\n",
    "                       'constant', constant_values=255)\n",
    "    img = Image.fromarray(npimg)\n",
    "    \n",
    "    return img\n",
    "\n",
    "# utf-8\n",
    "def get_all_korean():\n",
    "\n",
    "    def nextKorLetterFrom(letter):\n",
    "        lastLetterInt = 15572643\n",
    "        if not letter:\n",
    "            return '가'\n",
    "        a = letter\n",
    "        b = a.encode('utf8')\n",
    "        c = int(b.hex(), 16)\n",
    "\n",
    "        if c == lastLetterInt:\n",
    "            return False\n",
    "\n",
    "        d = hex(c + 1)\n",
    "        e = bytearray.fromhex(d[2:])\n",
    "\n",
    "        flag = True\n",
    "        while flag:\n",
    "            try:\n",
    "                r = e.decode('utf-8')\n",
    "                flag = False\n",
    "            except UnicodeDecodeError:\n",
    "                c = c+1\n",
    "                d = hex(c)\n",
    "                e = bytearray.fromhex(d[2:])\n",
    "        return e.decode()\n",
    "\n",
    "    returns = []\n",
    "    flag = True\n",
    "    k = ''\n",
    "    while flag:\n",
    "        k = nextKorLetterFrom(k)\n",
    "        if k is False:\n",
    "            flag = False\n",
    "        else:\n",
    "            returns.append(k)\n",
    "    return returns"
   ]
  },
  {
   "cell_type": "code",
   "execution_count": 4,
   "id": "b567e2cd-5a6a-41ae-bba1-3e38ab1cd010",
   "metadata": {
    "tags": []
   },
   "outputs": [],
   "source": [
    "ak = get_all_korean()\n",
    "fonts = [f for f in os.listdir(ttf_path) if \".ttf\" in f]"
   ]
  },
  {
   "cell_type": "code",
   "execution_count": 5,
   "id": "25fabeb9-c7ef-4af3-86dd-2d7db88f8184",
   "metadata": {
    "tags": []
   },
   "outputs": [
    {
     "name": "stderr",
     "output_type": "stream",
     "text": [
      "100%|██████████| 72/72 [51:48<00:00, 43.17s/it] \n"
     ]
    }
   ],
   "source": [
    "font_size = 70\n",
    "for fontname in tqdm(fonts):\n",
    "    filename = f\"{ttf_path}/{fontname}\"\n",
    "    font = ImageFont.truetype(filename,font_size)\n",
    "    existing_chars = get_existing_chars(filename)\n",
    "    iter_chars = list(set(existing_chars).intersection(set(ak)))\n",
    "    for l in iter_chars:\n",
    "        pngpath = f\"{save_path}/{fontname.replace('.ttf','')}__{l}.png\"\n",
    "        # if not os.path.exists(pngpath):\n",
    "        img = get_image(font, l)\n",
    "        with open(pngpath, \"wb\") as f:\n",
    "            img.save(f, \"PNG\")"
   ]
  },
  {
   "cell_type": "code",
   "execution_count": 35,
   "id": "e027d911-831f-4c29-9115-c71ae126775c",
   "metadata": {
    "tags": []
   },
   "outputs": [],
   "source": [
    "a = get_image(font, '가')"
   ]
  },
  {
   "cell_type": "code",
   "execution_count": 45,
   "id": "1239b346-eee7-4c67-a246-72b84f8ac626",
   "metadata": {
    "tags": []
   },
   "outputs": [
    {
     "data": {
      "text/plain": [
       "64"
      ]
     },
     "execution_count": 45,
     "metadata": {},
     "output_type": "execute_result"
    }
   ],
   "source": [
    "max(a.size)"
   ]
  },
  {
   "cell_type": "code",
   "execution_count": 37,
   "id": "b4071f9e-2e36-40b0-ab72-2dd85edb6fe5",
   "metadata": {
    "tags": []
   },
   "outputs": [
    {
     "data": {
      "image/jpeg": "[encoded data removed]",
      "image/png": "[encoded data removed]",
      "text/plain": [
       "<PIL.Image.Image image mode=L size=64x63>"
      ]
     },
     "execution_count": 37,
     "metadata": {},
     "output_type": "execute_result"
    }
   ],
   "source": [
    "a"
   ]
  },
  {
   "cell_type": "code",
   "execution_count": null,
   "id": "93676d0a-1757-42ff-97ef-a4e580faea28",
   "metadata": {},
   "outputs": [],
   "source": []
  }
 ],
 "metadata": {
  "environment": {
   "kernel": "conda-env-pytorch-pytorch",
   "name": "workbench-notebooks.m120",
   "type": "gcloud",
   "uri": "us-docker.pkg.dev/deeplearning-platform-release/gcr.io/workbench-notebooks:m120"
  },
  "kernelspec": {
   "display_name": "PyTorch 1-13 (Local)",
   "language": "python",
   "name": "conda-env-pytorch-pytorch"
  },
  "language_info": {
   "codemirror_mode": {
    "name": "ipython",
    "version": 3
   },
   "file_extension": ".py",
   "mimetype": "text/x-python",
   "name": "python",
   "nbconvert_exporter": "python",
   "pygments_lexer": "ipython3",
   "version": "3.10.14"
  }
 },
 "nbformat": 4,
 "nbformat_minor": 5
}
