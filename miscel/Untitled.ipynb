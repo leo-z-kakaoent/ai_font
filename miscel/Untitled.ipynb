{
 "cells": [
  {
   "cell_type": "code",
   "execution_count": 1,
   "id": "ebacdc03-1feb-4d77-931e-4ffa630aeadf",
   "metadata": {
    "tags": []
   },
   "outputs": [],
   "source": [
    "import os\n",
    "import numpy as np\n",
    "from PIL import Image"
   ]
  },
  {
   "cell_type": "code",
   "execution_count": 2,
   "id": "471322f8-74e2-4778-a99f-f38042b32df1",
   "metadata": {
    "tags": []
   },
   "outputs": [],
   "source": [
    "class ImageConcat:\n",
    "    def __init__(self, n_h, n_v, resolution=1000):\n",
    "        self.n_h = n_h\n",
    "        self.n_v = n_v\n",
    "        self.r = resolution\n",
    "        self.img = Image.new(\"RGB\", (self.n_h*self.r, self.n_v*self.r))\n",
    "        self.cursor = [0,0]    \n",
    "    \n",
    "    def move_cursor_h(self):\n",
    "        self.cursor[0] += self.r\n",
    "        \n",
    "    def move_cursor_v(self):\n",
    "        self.cursor[1] += self.r\n",
    "        \n",
    "    def reset_cursor_h(self):\n",
    "        self.cursor[0] = 0\n",
    "        \n",
    "    def append_img(self, path):\n",
    "        try:\n",
    "            self.img.paste(Image.open(path).convert('RGB'), tuple(self.cursor))\n",
    "        except:\n",
    "            print(f\"Not Appended: {path}\")\n",
    "        \n",
    "    def save_img(self, path):\n",
    "        self.img.save(path)"
   ]
  },
  {
   "cell_type": "code",
   "execution_count": 3,
   "id": "d868a321-9708-4b91-9b33-6c674b8e68fa",
   "metadata": {
    "tags": []
   },
   "outputs": [],
   "source": [
    "datafd = \"/home/jupyter/ai_font/data/zipfiles/raw/size96\"\n",
    "reportfd = \"/home/jupyter/ai_font/data/report\"\n",
    "fonts = np.unique([f.split(\"__\")[0] for f in os.listdir(reportfd) if \".png\" in f])"
   ]
  },
  {
   "cell_type": "code",
   "execution_count": 5,
   "id": "85ce9990-8d28-4d24-a499-0c38cecba2d5",
   "metadata": {
    "tags": []
   },
   "outputs": [],
   "source": [
    "contents = np.unique([f.split(\"_c\")[1].split(\"_s\")[0] for f in os.listdir(reportfd) if \".png\" in f])"
   ]
  },
  {
   "cell_type": "code",
   "execution_count": 6,
   "id": "fab95d47-10ca-41f3-8714-62bce25ce937",
   "metadata": {
    "tags": []
   },
   "outputs": [
    {
     "data": {
      "text/plain": [
       "array(['10526', '10649', '10948', '1241', '1288', '2107', '2971', '3164',\n",
       "       '3724', '4228', '4301', '57', '5768', '6832', '6965', '7112',\n",
       "       '8739', '8792', '9012', '9632', '9755'], dtype='<U5')"
      ]
     },
     "execution_count": 6,
     "metadata": {},
     "output_type": "execute_result"
    }
   ],
   "source": [
    "contents"
   ]
  },
  {
   "cell_type": "code",
   "execution_count": null,
   "id": "5911b705-b690-4791-891b-5a0ebdfc1c1d",
   "metadata": {},
   "outputs": [],
   "source": [
    "bigimg = ImageConcat(n_h=10, n_v=11, resolution=100)\n",
    "for font in fonts:\n",
    "    contents = np.unique([f.split(\"_c\")[1].split(\"_s\")[0] for f in os.listdir(reportfd) if (\".png\" in f) & (font in f)])\n",
    "    for c in contents:\n",
    "        s = [f.split(\"__\")[1] for f in os.listdir(reportfd) if (\".png\" in f) & (font in f) & (c in f)][0]\n",
    "        # Seen True\n",
    "        bigimg.append_img(f\"{data_fd}/{s}/{font}__{c}.png\")\n",
    "        bigimg.reset_cursor_h()\n",
    "        bigimg.move_cursor_v()\n",
    "        \n",
    "        # Seen Generated\n",
    "        \n",
    "        bigimg.move_cursor_h()\n",
    "        # Unseen True\n",
    "        bigimg.append_img(f\"{args.data_fd}/unseen/{font}__{usi}.png\")\n",
    "        bigimg.move_cursor_h()\n",
    "        # Unseen Generated\n",
    "        bigimg.move_cursor_h()\n",
    "        # go down\n",
    "    bigimg.reset_cursor_h()\n",
    "    bigimg.move_cursor_v()\n",
    "bigimg.img"
   ]
  }
 ],
 "metadata": {
  "environment": {
   "kernel": "conda-env-pytorch-pytorch",
   "name": "workbench-notebooks.m118",
   "type": "gcloud",
   "uri": "us-docker.pkg.dev/deeplearning-platform-release/gcr.io/workbench-notebooks:m118"
  },
  "kernelspec": {
   "display_name": "PyTorch 1-13",
   "language": "python",
   "name": "conda-env-pytorch-pytorch"
  },
  "language_info": {
   "codemirror_mode": {
    "name": "ipython",
    "version": 3
   },
   "file_extension": ".py",
   "mimetype": "text/x-python",
   "name": "python",
   "nbconvert_exporter": "python",
   "pygments_lexer": "ipython3",
   "version": "3.10.13"
  }
 },
 "nbformat": 4,
 "nbformat_minor": 5
}
