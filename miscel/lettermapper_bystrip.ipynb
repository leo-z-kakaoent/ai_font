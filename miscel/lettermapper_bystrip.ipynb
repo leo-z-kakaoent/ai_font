{
 "cells": [
  {
   "cell_type": "code",
   "execution_count": 2,
   "id": "ec15454e-48d0-4980-81b4-8ed8974abaeb",
   "metadata": {
    "tags": []
   },
   "outputs": [],
   "source": [
    "import os\n",
    "import numpy as np\n",
    "import pandas as pd\n",
    "from collections import defaultdict\n",
    "from tqdm import tqdm"
   ]
  },
  {
   "cell_type": "code",
   "execution_count": 3,
   "id": "b9c1e330-6e38-497d-b2c0-8f8360e1af2f",
   "metadata": {
    "tags": []
   },
   "outputs": [],
   "source": [
    "def get_all_korean():\n",
    "\n",
    "    def nextKorLetterFrom(letter):\n",
    "        lastLetterInt = 15572643\n",
    "        if not letter:\n",
    "            return '가'\n",
    "        a = letter\n",
    "        b = a.encode('utf8')\n",
    "        c = int(b.hex(), 16)\n",
    "\n",
    "        if c == lastLetterInt:\n",
    "            return False\n",
    "\n",
    "        d = hex(c + 1)\n",
    "        e = bytearray.fromhex(d[2:])\n",
    "\n",
    "        flag = True\n",
    "        while flag:\n",
    "            try:\n",
    "                r = e.decode('utf-8')\n",
    "                flag = False\n",
    "            except UnicodeDecodeError:\n",
    "                c = c+1\n",
    "                d = hex(c)\n",
    "                e = bytearray.fromhex(d[2:])\n",
    "        return e.decode()\n",
    "\n",
    "    returns = []\n",
    "    flag = True\n",
    "    k = ''\n",
    "    while flag:\n",
    "        k = nextKorLetterFrom(k)\n",
    "        if k is False:\n",
    "            flag = False\n",
    "        else:\n",
    "            returns.append(k)\n",
    "    return returns"
   ]
  },
  {
   "cell_type": "code",
   "execution_count": 4,
   "id": "29bb2328-8cca-4cb6-84a7-cc2ac804a874",
   "metadata": {
    "tags": []
   },
   "outputs": [],
   "source": [
    "def korean2label(letter):\n",
    "    ch1 = (ord(letter) - ord('가'))//588\n",
    "    ch2 = ((ord(letter) - ord('가')) - (588*ch1)) // 28\n",
    "    ch3 = (ord(letter) - ord('가')) - (588*ch1) - 28*ch2\n",
    "    return np.array([ch1,ch2,ch3])"
   ]
  },
  {
   "cell_type": "code",
   "execution_count": 5,
   "id": "88ef9998-4d8c-4045-9a9b-e88b68d4f799",
   "metadata": {
    "tags": []
   },
   "outputs": [],
   "source": [
    "recieved_letters = \"갊갸곁곬교궤껴꽤꾜끝높뉑늬닠닦덤돛돼땍뛰뜻라럽롵뤄많몇묟무벚붉뷔뺨뽱쁘삯셴숲쉽쎄쏟쑉씩얹없왼읊읨잃쟨점좋줬짚짧쫄쯷찧찾쳇춰츄치캐캠쾅쿵탤턔토튠특팼퍗폐푀퓸핥흡횃훨\""
   ]
  },
  {
   "cell_type": "code",
   "execution_count": 6,
   "id": "e78f192b-a501-4d20-be77-fb78d045c552",
   "metadata": {
    "tags": []
   },
   "outputs": [],
   "source": [
    "recieved_letters_labels = [korean2label(l) for l in recieved_letters]"
   ]
  },
  {
   "cell_type": "code",
   "execution_count": 7,
   "id": "f271beca-de7c-4913-8e87-bf0c24e78868",
   "metadata": {
    "tags": []
   },
   "outputs": [],
   "source": [
    "ak = get_all_korean()"
   ]
  },
  {
   "cell_type": "code",
   "execution_count": 8,
   "id": "948d3968-1136-4c8b-ac1d-7a121fb9f184",
   "metadata": {
    "tags": []
   },
   "outputs": [],
   "source": [
    "akl = [korean2label(k) for k in ak]"
   ]
  },
  {
   "cell_type": "code",
   "execution_count": 9,
   "id": "c0c3c1ba-0aea-41d9-8ea9-c3e926d3c5e2",
   "metadata": {
    "tags": []
   },
   "outputs": [],
   "source": [
    "# recieved_letters에서 초중종성중 최소 하나가 같은 글자 + 초중종성중 둘이 같은 글자"
   ]
  },
  {
   "cell_type": "code",
   "execution_count": 10,
   "id": "f791e68b-3817-4409-92e2-2f5ba7c24664",
   "metadata": {
    "tags": []
   },
   "outputs": [],
   "source": [
    "akmap = defaultdict(set)"
   ]
  },
  {
   "cell_type": "code",
   "execution_count": 11,
   "id": "e8a223b2-9e7b-45db-9055-ff07cb68b523",
   "metadata": {
    "tags": []
   },
   "outputs": [
    {
     "name": "stderr",
     "output_type": "stream",
     "text": [
      "100%|██████████| 11172/11172 [09:41<00:00, 19.20it/s, a=힣, m={'닠', '낗', '앃', '힐', '힋', '힉', '씩', '팋', '밓', '딯', '핳', '헣', '힓', '휳', '휗', '힝', '짚', '깋', '힑', '잏', '핥', '헇', '킿', '훟', '힣', '훨', '홯', '횧', '힌', '싷', '힒', '힞', '햫', '힇', '좋', '히', '횃', '삫', '핗', '혛', '힕', '힛', '훻', '힟', '맇', '힊', '힘', '홓', '힜', '흏', '힏', '힗', '힖', '힠', '띻', '흡', '힚', '짛', '힔', '빟', '횋', '힡', '치', '혷', '흫', '칳', '힢', '힍', '잃', '훃', '힎', '찧', '닣', '헿', '힙', '햏'}]                                                                                                                                             \n"
     ]
    }
   ],
   "source": [
    "pbar = tqdm(ak)\n",
    "for l in pbar:\n",
    "    labels = korean2label(l)\n",
    "    for rl, rlabel in zip(recieved_letters, recieved_letters_labels):\n",
    "        if np.sum(labels==rlabel) >= 1:\n",
    "            akmap[l].add(rl)\n",
    "    for al,alabel in zip(ak,akl):\n",
    "        if np.sum(labels==alabel) >= 2:\n",
    "            akmap[l].add(al)\n",
    "    pbar.set_postfix(a=l, m=akmap[l])"
   ]
  },
  {
   "cell_type": "code",
   "execution_count": 12,
   "id": "735a1bc0-0a16-461f-9142-c046389bf21e",
   "metadata": {
    "tags": []
   },
   "outputs": [],
   "source": [
    "fd = \"/home/jupyter/ai_font/data/pickle\"\n",
    "os.makedirs(fd, exist_ok=True)"
   ]
  },
  {
   "cell_type": "code",
   "execution_count": 13,
   "id": "9272d4fd-70d1-4edf-827b-4a1e84123e68",
   "metadata": {
    "tags": []
   },
   "outputs": [],
   "source": [
    "import pickle\n",
    "with open(f\"{fd}/letter_mapper.pickle\", \"wb\") as f:\n",
    "    pickle.dump(akmap, f)"
   ]
  },
  {
   "cell_type": "code",
   "execution_count": null,
   "id": "3d0ed3b7-0138-4938-8fbb-50734615176d",
   "metadata": {},
   "outputs": [],
   "source": []
  }
 ],
 "metadata": {
  "environment": {
   "kernel": "conda-env-pytorch-pytorch",
   "name": "workbench-notebooks.m120",
   "type": "gcloud",
   "uri": "us-docker.pkg.dev/deeplearning-platform-release/gcr.io/workbench-notebooks:m120"
  },
  "kernelspec": {
   "display_name": "PyTorch 1-13 (Local)",
   "language": "python",
   "name": "conda-env-pytorch-pytorch"
  },
  "language_info": {
   "codemirror_mode": {
    "name": "ipython",
    "version": 3
   },
   "file_extension": ".py",
   "mimetype": "text/x-python",
   "name": "python",
   "nbconvert_exporter": "python",
   "pygments_lexer": "ipython3",
   "version": "3.10.14"
  }
 },
 "nbformat": 4,
 "nbformat_minor": 5
}
