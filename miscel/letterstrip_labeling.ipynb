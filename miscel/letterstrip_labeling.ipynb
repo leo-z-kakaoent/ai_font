{
 "cells": [
  {
   "cell_type": "code",
   "execution_count": 1,
   "id": "ec15454e-48d0-4980-81b4-8ed8974abaeb",
   "metadata": {
    "tags": []
   },
   "outputs": [],
   "source": [
    "import os\n",
    "\n",
    "import pandas as pd"
   ]
  },
  {
   "cell_type": "code",
   "execution_count": 2,
   "id": "b9c1e330-6e38-497d-b2c0-8f8360e1af2f",
   "metadata": {
    "tags": []
   },
   "outputs": [],
   "source": [
    "def get_all_korean():\n",
    "\n",
    "    def nextKorLetterFrom(letter):\n",
    "        lastLetterInt = 15572643\n",
    "        if not letter:\n",
    "            return '가'\n",
    "        a = letter\n",
    "        b = a.encode('utf8')\n",
    "        c = int(b.hex(), 16)\n",
    "\n",
    "        if c == lastLetterInt:\n",
    "            return False\n",
    "\n",
    "        d = hex(c + 1)\n",
    "        e = bytearray.fromhex(d[2:])\n",
    "\n",
    "        flag = True\n",
    "        while flag:\n",
    "            try:\n",
    "                r = e.decode('utf-8')\n",
    "                flag = False\n",
    "            except UnicodeDecodeError:\n",
    "                c = c+1\n",
    "                d = hex(c)\n",
    "                e = bytearray.fromhex(d[2:])\n",
    "        return e.decode()\n",
    "\n",
    "    returns = []\n",
    "    flag = True\n",
    "    k = ''\n",
    "    while flag:\n",
    "        k = nextKorLetterFrom(k)\n",
    "        if k is False:\n",
    "            flag = False\n",
    "        else:\n",
    "            returns.append(k)\n",
    "    return returns"
   ]
  },
  {
   "cell_type": "code",
   "execution_count": 4,
   "id": "29bb2328-8cca-4cb6-84a7-cc2ac804a874",
   "metadata": {
    "tags": []
   },
   "outputs": [],
   "source": [
    "def korean2label(letter):\n",
    "    ch1 = (ord(letter) - ord('가'))//588\n",
    "    ch2 = ((ord(letter) - ord('가')) - (588*ch1)) // 28\n",
    "    ch3 = (ord(letter) - ord('가')) - (588*ch1) - 28*ch2\n",
    "    return ch1,ch2,ch3"
   ]
  },
  {
   "cell_type": "code",
   "execution_count": 7,
   "id": "51356b95-82ac-4e98-94f9-c6d3513a01fe",
   "metadata": {
    "tags": []
   },
   "outputs": [],
   "source": [
    "ttf_path = \"../data/raw/ttf/\"\n",
    "fonts = [f for f in os.listdir(ttf_path) if \".ttf\" in f]"
   ]
  },
  {
   "cell_type": "code",
   "execution_count": 8,
   "id": "03ac73f9-478f-4307-88a1-936b9e23a34d",
   "metadata": {
    "tags": []
   },
   "outputs": [
    {
     "data": {
      "text/plain": [
       "['jeongyeon_4.ttf',\n",
       " '나눔손글씨 아름드리 꽃나무.ttf',\n",
       " 'UhBee Se_hyun Bold.ttf',\n",
       " '나눔손글씨 시우 귀여워.ttf',\n",
       " 'UhBee EUN KYUNG Bold.ttf',\n",
       " 'dahyun_4.ttf',\n",
       " 'UhBee U JEONG.ttf',\n",
       " 'UhBee ann Bold.ttf',\n",
       " 'UhBee ARyong Bold.ttf',\n",
       " '나눔손글씨 버드나무.ttf',\n",
       " '나눔손글씨 성실체.ttf',\n",
       " '나눔손글씨 몽돌.ttf',\n",
       " '나눔손글씨 아빠의 연애편지.ttf',\n",
       " '나눔손글씨 여름글씨.ttf',\n",
       " 'mina_4.ttf',\n",
       " '나눔손글씨 아줌마 자유.ttf',\n",
       " '나눔손글씨 다행체.ttf',\n",
       " 'tzuyu_4.ttf',\n",
       " '나눔손글씨 가람연꽃.ttf',\n",
       " '나눔손글씨 딸에게 엄마가.ttf',\n",
       " '나눔손글씨 따뜻한 작별.ttf',\n",
       " '나눔손글씨 꽃내음.ttf',\n",
       " '나눔손글씨 손편지체.ttf',\n",
       " '나눔손글씨 반짝반짝 별.ttf',\n",
       " '나눔손글씨 북극성.ttf',\n",
       " '나눔손글씨 고딕 아니고 고딩.ttf',\n",
       " '나눔손글씨 소방관의 기도.ttf',\n",
       " '나눔손글씨 바른정신.ttf',\n",
       " 'UhBee puding Bold.ttf',\n",
       " '나눔손글씨 마고체.ttf',\n",
       " '나눔손글씨 곰신체.ttf',\n",
       " 'momo_6.ttf',\n",
       " '나눔손글씨 또박또박.ttf',\n",
       " '나눔손글씨 둥근인연.ttf',\n",
       " '나눔손글씨 무진장체.ttf',\n",
       " '나눔손글씨 노력하는 동희.ttf',\n",
       " '나눔손글씨 신혼부부.ttf',\n",
       " '나눔손글씨 세화체.ttf',\n",
       " '나눔손글씨 나는 이겨낸다.ttf',\n",
       " '나눔손글씨 달의궤도.ttf',\n",
       " '나눔손글씨 무궁화.ttf',\n",
       " '나눔손글씨 규리의 일기.ttf',\n",
       " '나눔손글씨 아빠글씨.ttf',\n",
       " '나눔손글씨 금은보화.ttf',\n",
       " '나눔손글씨 범솜체.ttf',\n",
       " '나눔손글씨 따악단단.ttf',\n",
       " '나눔손글씨 미니 손글씨.ttf',\n",
       " '나눔손글씨 비상체.ttf',\n",
       " '나눔손글씨 강부장님체.ttf',\n",
       " '나눔손글씨 다시 시작해.ttf',\n",
       " '나눔손글씨 김유이체.ttf',\n",
       " '나눔손글씨 나무정원.ttf',\n",
       " '나눔손글씨 나의 아내 손글씨.ttf',\n",
       " 'jihyo_4.ttf',\n",
       " '나눔손글씨 맛있는체.ttf',\n",
       " '나눔손글씨 부장님 눈치체.ttf',\n",
       " 'sana_4.ttf',\n",
       " '나눔손글씨 대광유리.ttf',\n",
       " 'UhBee Ryuga.ttf',\n",
       " '나눔손글씨 다진체.ttf',\n",
       " '나눔손글씨 고려글꼴.ttf',\n",
       " 'UhBee TOMO.ttf',\n",
       " '나눔손글씨 아인맘 손글씨.ttf',\n",
       " 'nayeon_6.ttf',\n",
       " '나눔손글씨 미래나무.ttf',\n",
       " 'UhBee Ryuga Bold.ttf',\n",
       " 'UhBee BongSik.ttf',\n",
       " '나눔손글씨 배은혜체.ttf',\n",
       " '나눔손글씨 암스테르담.ttf',\n",
       " 'chaeyoung_6.ttf',\n",
       " 'UhBee Tokki Bold.ttf',\n",
       " '나눔손글씨 아기사랑체.ttf']"
      ]
     },
     "execution_count": 8,
     "metadata": {},
     "output_type": "execute_result"
    }
   ],
   "source": [
    "fonts"
   ]
  },
  {
   "cell_type": "code",
   "execution_count": 49,
   "id": "9c1a28ac-1649-4665-9ce8-c1e055aab995",
   "metadata": {
    "tags": []
   },
   "outputs": [],
   "source": [
    "onehot = df[0].apply(korean2onehot)"
   ]
  },
  {
   "cell_type": "code",
   "execution_count": 55,
   "id": "ac9148b6-8a55-419e-9aec-12c06ae4beb5",
   "metadata": {
    "tags": []
   },
   "outputs": [],
   "source": [
    "import sklearn"
   ]
  },
  {
   "cell_type": "code",
   "execution_count": 56,
   "id": "318cf0ed-2c09-4235-9fa4-2720587194ac",
   "metadata": {
    "tags": []
   },
   "outputs": [],
   "source": [
    "pca = sklearn.decomposition.PCA"
   ]
  },
  {
   "cell_type": "code",
   "execution_count": 57,
   "id": "e182336f-3573-41eb-a89c-091b2d94c394",
   "metadata": {
    "tags": []
   },
   "outputs": [
    {
     "data": {
      "text/plain": [
       "sklearn.decomposition._pca.PCA"
      ]
     },
     "execution_count": 57,
     "metadata": {},
     "output_type": "execute_result"
    }
   ],
   "source": [
    "pca"
   ]
  },
  {
   "cell_type": "code",
   "execution_count": 53,
   "id": "70fd866e-30ab-49b2-939a-a6054da82882",
   "metadata": {
    "tags": []
   },
   "outputs": [
    {
     "name": "stdout",
     "output_type": "stream",
     "text": [
      "Requirement already satisfied: scikit-learn in /opt/conda/envs/pytorch/lib/python3.10/site-packages (1.4.2)\n",
      "Requirement already satisfied: numpy>=1.19.5 in /opt/conda/envs/pytorch/lib/python3.10/site-packages (from scikit-learn) (1.26.4)\n",
      "Requirement already satisfied: scipy>=1.6.0 in /opt/conda/envs/pytorch/lib/python3.10/site-packages (from scikit-learn) (1.11.4)\n",
      "Requirement already satisfied: joblib>=1.2.0 in /opt/conda/envs/pytorch/lib/python3.10/site-packages (from scikit-learn) (1.4.0)\n",
      "Requirement already satisfied: threadpoolctl>=2.0.0 in /opt/conda/envs/pytorch/lib/python3.10/site-packages (from scikit-learn) (3.4.0)\n"
     ]
    }
   ],
   "source": [
    "!pip3 install -U scikit-learn"
   ]
  },
  {
   "cell_type": "code",
   "execution_count": 59,
   "id": "eb2717ef-4372-46d1-ad67-e5927f625ea6",
   "metadata": {
    "tags": []
   },
   "outputs": [
    {
     "data": {
      "text/plain": [
       "array([1., 0., 0., 0., 0., 0., 0., 0., 0., 0., 0., 0., 0., 0., 0., 0., 0.,\n",
       "       0., 0., 1., 0., 0., 0., 0., 0., 0., 0., 0., 0., 0., 0., 0., 0., 0.,\n",
       "       0., 0., 0., 0., 0., 0., 1., 0., 0., 0., 0., 0., 0., 0., 0., 0., 0.,\n",
       "       0., 0., 0., 0., 0., 0., 0., 0., 0., 0., 0., 0., 0., 0., 0., 0., 0.])"
      ]
     },
     "execution_count": 59,
     "metadata": {},
     "output_type": "execute_result"
    }
   ],
   "source": [
    "onehot.iloc[0]"
   ]
  },
  {
   "cell_type": "code",
   "execution_count": 45,
   "id": "cf7f0790-ffa0-4b74-9c1b-9dff8f67331e",
   "metadata": {
    "tags": []
   },
   "outputs": [
    {
     "ename": "TypeError",
     "evalue": "apply_along_axis() missing 1 required positional argument: 'arr'",
     "output_type": "error",
     "traceback": [
      "\u001b[0;31m---------------------------------------------------------------------------\u001b[0m",
      "\u001b[0;31mTypeError\u001b[0m                                 Traceback (most recent call last)",
      "Cell \u001b[0;32mIn[45], line 1\u001b[0m\n\u001b[0;32m----> 1\u001b[0m \u001b[43mnp\u001b[49m\u001b[38;5;241;43m.\u001b[39;49m\u001b[43mapply_along_axis\u001b[49m\u001b[43m(\u001b[49m\u001b[43mkorean2onehot\u001b[49m\u001b[43m,\u001b[49m\u001b[43m \u001b[49m\u001b[43mdf\u001b[49m\u001b[38;5;241;43m.\u001b[39;49m\u001b[43mvalues\u001b[49m\u001b[43m)\u001b[49m\n",
      "\u001b[0;31mTypeError\u001b[0m: apply_along_axis() missing 1 required positional argument: 'arr'"
     ]
    }
   ],
   "source": [
    "np.apply_along_axis(korean2onehot, df.values)"
   ]
  },
  {
   "cell_type": "code",
   "execution_count": 29,
   "id": "06c61c4a-09b4-4407-9034-d2ed438210b5",
   "metadata": {
    "tags": []
   },
   "outputs": [
    {
     "data": {
      "text/plain": [
       "array([0., 0., 0., 0., 0., 0., 0., 0., 0., 0., 0., 1., 0., 0., 0., 0., 0.,\n",
       "       0., 0.])"
      ]
     },
     "execution_count": 29,
     "metadata": {},
     "output_type": "execute_result"
    }
   ],
   "source": [
    "import numpy as np\n",
    "np.eye(19)[11]"
   ]
  },
  {
   "cell_type": "code",
   "execution_count": 23,
   "id": "74e113a8-7b6f-4761-94dc-2581c2b9cd6b",
   "metadata": {
    "tags": []
   },
   "outputs": [
    {
     "data": {
      "text/plain": [
       "bytearray(b'\\xea\\xb0\\x81')"
      ]
     },
     "execution_count": 23,
     "metadata": {},
     "output_type": "execute_result"
    }
   ],
   "source": [
    "e"
   ]
  },
  {
   "cell_type": "code",
   "execution_count": null,
   "id": "c840d5f6-b400-4763-ac78-667a0f8bf8f5",
   "metadata": {},
   "outputs": [],
   "source": [
    "def get_all_korean():\n",
    "    \n",
    "    def nextKorLetterFrom(letter):\n",
    "        lastLetterInt = 15572643\n",
    "        if not letter:\n",
    "            return '가'\n",
    "        a = letter\n",
    "        b = a.encode('utf8')\n",
    "        c = int(b.hex(), 16)\n",
    "\n",
    "        if c == lastLetterInt:\n",
    "            return False\n",
    "\n",
    "        d = hex(c + 1)\n",
    "        e = bytearray.fromhex(d[2:])\n",
    "\n",
    "        flag = True\n",
    "        while flag:\n",
    "            try:\n",
    "                r = e.decode('utf-8')\n",
    "                flag = False\n",
    "            except UnicodeDecodeError:\n",
    "                c = c+1\n",
    "                d = hex(c)\n",
    "                e = bytearray.fromhex(d[2:])\n",
    "        return e.decode()\n",
    "    \n",
    "    returns = []\n",
    "    flag = True\n",
    "    k = ''\n",
    "    while flag:\n",
    "        k = nextKorLetterFrom(k)\n",
    "        if k is False:\n",
    "            flag = False\n",
    "        else:\n",
    "            returns.append(k)\n",
    "    return returns"
   ]
  },
  {
   "cell_type": "code",
   "execution_count": 61,
   "id": "6587be0b-9bb6-47ef-aaa2-2ad654790989",
   "metadata": {
    "tags": []
   },
   "outputs": [],
   "source": [
    "\n",
    "bb = torch.zeros([1,256, 16, 16])"
   ]
  },
  {
   "cell_type": "code",
   "execution_count": 65,
   "id": "02f23191-3f6a-4462-b3e9-3c2f028631da",
   "metadata": {
    "tags": []
   },
   "outputs": [],
   "source": [
    "bb[:,np.array([1,2,3,4]),:,:] = 1"
   ]
  },
  {
   "cell_type": "code",
   "execution_count": 66,
   "id": "a0c87cd5-a529-4edb-8c4f-5af4782b67d1",
   "metadata": {
    "tags": []
   },
   "outputs": [
    {
     "data": {
      "text/plain": [
       "tensor([[[[0., 0., 0.,  ..., 0., 0., 0.],\n",
       "          [0., 0., 0.,  ..., 0., 0., 0.],\n",
       "          [0., 0., 0.,  ..., 0., 0., 0.],\n",
       "          ...,\n",
       "          [0., 0., 0.,  ..., 0., 0., 0.],\n",
       "          [0., 0., 0.,  ..., 0., 0., 0.],\n",
       "          [0., 0., 0.,  ..., 0., 0., 0.]],\n",
       "\n",
       "         [[1., 1., 1.,  ..., 1., 1., 1.],\n",
       "          [1., 1., 1.,  ..., 1., 1., 1.],\n",
       "          [1., 1., 1.,  ..., 1., 1., 1.],\n",
       "          ...,\n",
       "          [1., 1., 1.,  ..., 1., 1., 1.],\n",
       "          [1., 1., 1.,  ..., 1., 1., 1.],\n",
       "          [1., 1., 1.,  ..., 1., 1., 1.]],\n",
       "\n",
       "         [[1., 1., 1.,  ..., 1., 1., 1.],\n",
       "          [1., 1., 1.,  ..., 1., 1., 1.],\n",
       "          [1., 1., 1.,  ..., 1., 1., 1.],\n",
       "          ...,\n",
       "          [1., 1., 1.,  ..., 1., 1., 1.],\n",
       "          [1., 1., 1.,  ..., 1., 1., 1.],\n",
       "          [1., 1., 1.,  ..., 1., 1., 1.]],\n",
       "\n",
       "         ...,\n",
       "\n",
       "         [[0., 0., 0.,  ..., 0., 0., 0.],\n",
       "          [0., 0., 0.,  ..., 0., 0., 0.],\n",
       "          [0., 0., 0.,  ..., 0., 0., 0.],\n",
       "          ...,\n",
       "          [0., 0., 0.,  ..., 0., 0., 0.],\n",
       "          [0., 0., 0.,  ..., 0., 0., 0.],\n",
       "          [0., 0., 0.,  ..., 0., 0., 0.]],\n",
       "\n",
       "         [[0., 0., 0.,  ..., 0., 0., 0.],\n",
       "          [0., 0., 0.,  ..., 0., 0., 0.],\n",
       "          [0., 0., 0.,  ..., 0., 0., 0.],\n",
       "          ...,\n",
       "          [0., 0., 0.,  ..., 0., 0., 0.],\n",
       "          [0., 0., 0.,  ..., 0., 0., 0.],\n",
       "          [0., 0., 0.,  ..., 0., 0., 0.]],\n",
       "\n",
       "         [[0., 0., 0.,  ..., 0., 0., 0.],\n",
       "          [0., 0., 0.,  ..., 0., 0., 0.],\n",
       "          [0., 0., 0.,  ..., 0., 0., 0.],\n",
       "          ...,\n",
       "          [0., 0., 0.,  ..., 0., 0., 0.],\n",
       "          [0., 0., 0.,  ..., 0., 0., 0.],\n",
       "          [0., 0., 0.,  ..., 0., 0., 0.]]]])"
      ]
     },
     "execution_count": 66,
     "metadata": {},
     "output_type": "execute_result"
    }
   ],
   "source": [
    "bb"
   ]
  },
  {
   "cell_type": "code",
   "execution_count": null,
   "id": "88ef9998-4d8c-4045-9a9b-e88b68d4f799",
   "metadata": {},
   "outputs": [],
   "source": []
  }
 ],
 "metadata": {
  "environment": {
   "kernel": "conda-env-pytorch-pytorch",
   "name": "workbench-notebooks.m120",
   "type": "gcloud",
   "uri": "us-docker.pkg.dev/deeplearning-platform-release/gcr.io/workbench-notebooks:m120"
  },
  "kernelspec": {
   "display_name": "PyTorch 1-13 (Local)",
   "language": "python",
   "name": "conda-env-pytorch-pytorch"
  },
  "language_info": {
   "codemirror_mode": {
    "name": "ipython",
    "version": 3
   },
   "file_extension": ".py",
   "mimetype": "text/x-python",
   "name": "python",
   "nbconvert_exporter": "python",
   "pygments_lexer": "ipython3",
   "version": "3.10.14"
  }
 },
 "nbformat": 4,
 "nbformat_minor": 5
}
