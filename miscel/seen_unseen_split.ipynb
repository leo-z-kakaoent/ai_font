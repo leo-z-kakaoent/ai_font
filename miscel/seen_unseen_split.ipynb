{
 "cells": [
  {
   "cell_type": "code",
   "execution_count": 1,
   "id": "5fd38a9f-a074-44ee-88b0-20901353806d",
   "metadata": {
    "tags": []
   },
   "outputs": [],
   "source": [
    "import os\n",
    "import shutil\n",
    "from tqdm import tqdm"
   ]
  },
  {
   "cell_type": "code",
   "execution_count": 2,
   "id": "ee58b947-95b5-4a97-9525-6931ae8e54b4",
   "metadata": {
    "tags": []
   },
   "outputs": [],
   "source": [
    "frompath = \"/home/jupyter/ai_font/data/raw/inter\"\n",
    "topath = \"/home/jupyter/ai_font/data/processed\""
   ]
  },
  {
   "cell_type": "code",
   "execution_count": 3,
   "id": "96e41388-a635-49ad-af14-cf80df0c5456",
   "metadata": {
    "tags": []
   },
   "outputs": [],
   "source": [
    "unseen_fonts = [f.replace(\".ttf\",\"\") for f in ['jeongyeon_4.ttf',\n",
    " '나눔손글씨 아름드리 꽃나무.ttf',\n",
    " 'UhBee Se_hyun Bold.ttf',\n",
    " '나눔손글씨 시우 귀여워.ttf',\n",
    " 'UhBee EUN KYUNG Bold.ttf',\n",
    " 'dahyun_4.ttf',]]"
   ]
  },
  {
   "cell_type": "code",
   "execution_count": 4,
   "id": "4e9584c7-ad5b-4aa0-a314-aedc3db994d4",
   "metadata": {
    "tags": []
   },
   "outputs": [
    {
     "data": {
      "text/plain": [
       "['jeongyeon_4',\n",
       " '나눔손글씨 아름드리 꽃나무',\n",
       " 'UhBee Se_hyun Bold',\n",
       " '나눔손글씨 시우 귀여워',\n",
       " 'UhBee EUN KYUNG Bold',\n",
       " 'dahyun_4']"
      ]
     },
     "execution_count": 4,
     "metadata": {},
     "output_type": "execute_result"
    }
   ],
   "source": [
    "unseen_fonts"
   ]
  },
  {
   "cell_type": "code",
   "execution_count": 12,
   "id": "e12ef24a-2806-4174-8b46-44577ab6db4a",
   "metadata": {
    "tags": []
   },
   "outputs": [
    {
     "ename": "FileExistsError",
     "evalue": "[Errno 17] File exists: '/home/jupyter/ai_font/data/processed/seen'",
     "output_type": "error",
     "traceback": [
      "\u001b[0;31m---------------------------------------------------------------------------\u001b[0m",
      "\u001b[0;31mFileExistsError\u001b[0m                           Traceback (most recent call last)",
      "Cell \u001b[0;32mIn[12], line 1\u001b[0m\n\u001b[0;32m----> 1\u001b[0m \u001b[43mos\u001b[49m\u001b[38;5;241;43m.\u001b[39;49m\u001b[43mmakedirs\u001b[49m\u001b[43m(\u001b[49m\u001b[38;5;124;43mf\u001b[39;49m\u001b[38;5;124;43m\"\u001b[39;49m\u001b[38;5;132;43;01m{\u001b[39;49;00m\u001b[43mtopath\u001b[49m\u001b[38;5;132;43;01m}\u001b[39;49;00m\u001b[38;5;124;43m/seen\u001b[39;49m\u001b[38;5;124;43m\"\u001b[39;49m\u001b[43m)\u001b[49m\n\u001b[1;32m      2\u001b[0m os\u001b[38;5;241m.\u001b[39mmakedirs(\u001b[38;5;124mf\u001b[39m\u001b[38;5;124m\"\u001b[39m\u001b[38;5;132;01m{\u001b[39;00mtopath\u001b[38;5;132;01m}\u001b[39;00m\u001b[38;5;124m/unseen\u001b[39m\u001b[38;5;124m\"\u001b[39m)\n",
      "File \u001b[0;32m/opt/conda/envs/pytorch/lib/python3.10/os.py:225\u001b[0m, in \u001b[0;36mmakedirs\u001b[0;34m(name, mode, exist_ok)\u001b[0m\n\u001b[1;32m    223\u001b[0m         \u001b[38;5;28;01mreturn\u001b[39;00m\n\u001b[1;32m    224\u001b[0m \u001b[38;5;28;01mtry\u001b[39;00m:\n\u001b[0;32m--> 225\u001b[0m     \u001b[43mmkdir\u001b[49m\u001b[43m(\u001b[49m\u001b[43mname\u001b[49m\u001b[43m,\u001b[49m\u001b[43m \u001b[49m\u001b[43mmode\u001b[49m\u001b[43m)\u001b[49m\n\u001b[1;32m    226\u001b[0m \u001b[38;5;28;01mexcept\u001b[39;00m \u001b[38;5;167;01mOSError\u001b[39;00m:\n\u001b[1;32m    227\u001b[0m     \u001b[38;5;66;03m# Cannot rely on checking for EEXIST, since the operating system\u001b[39;00m\n\u001b[1;32m    228\u001b[0m     \u001b[38;5;66;03m# could give priority to other errors like EACCES or EROFS\u001b[39;00m\n\u001b[1;32m    229\u001b[0m     \u001b[38;5;28;01mif\u001b[39;00m \u001b[38;5;129;01mnot\u001b[39;00m exist_ok \u001b[38;5;129;01mor\u001b[39;00m \u001b[38;5;129;01mnot\u001b[39;00m path\u001b[38;5;241m.\u001b[39misdir(name):\n",
      "\u001b[0;31mFileExistsError\u001b[0m: [Errno 17] File exists: '/home/jupyter/ai_font/data/processed/seen'"
     ]
    }
   ],
   "source": [
    "os.makedirs(f\"{topath}/seen\")\n",
    "os.makedirs(f\"{topath}/unseen\")"
   ]
  },
  {
   "cell_type": "code",
   "execution_count": 5,
   "id": "b0960305-cb47-415d-b0dd-f864924a6213",
   "metadata": {
    "tags": []
   },
   "outputs": [],
   "source": [
    "files = [f for f in os.listdir(frompath) if \".png\" in f]"
   ]
  },
  {
   "cell_type": "code",
   "execution_count": 13,
   "id": "345d6c13-c56c-497f-b656-f1edce6787b0",
   "metadata": {
    "tags": []
   },
   "outputs": [
    {
     "data": {
      "text/plain": [
       "708467"
      ]
     },
     "execution_count": 13,
     "metadata": {},
     "output_type": "execute_result"
    }
   ],
   "source": [
    "len(files)"
   ]
  },
  {
   "cell_type": "code",
   "execution_count": 16,
   "id": "188f01b0-a909-40f8-9f65-92b9b037d222",
   "metadata": {
    "tags": []
   },
   "outputs": [
    {
     "name": "stderr",
     "output_type": "stream",
     "text": [
      "100%|██████████| 708467/708467 [00:12<00:00, 56173.84it/s]\n"
     ]
    }
   ],
   "source": [
    "for f in tqdm(files):\n",
    "    if f.split(\"__\")[0] in unseen_fonts:\n",
    "        shutil.move(f\"{frompath}/{f}\", f\"{topath}/unseen/{f}\")\n",
    "    else:\n",
    "        shutil.move(f\"{frompath}/{f}\", f\"{topath}/seen/{f}\")"
   ]
  },
  {
   "cell_type": "code",
   "execution_count": 17,
   "id": "fdbe1396-cb0f-4c42-ac76-b5c380b4c8f0",
   "metadata": {
    "tags": []
   },
   "outputs": [
    {
     "data": {
      "text/plain": [
       "49610"
      ]
     },
     "execution_count": 17,
     "metadata": {},
     "output_type": "execute_result"
    }
   ],
   "source": [
    "len(os.listdir(f\"{topath}/unseen\"))"
   ]
  },
  {
   "cell_type": "code",
   "execution_count": 18,
   "id": "4bee048e-e68a-45e7-8e6e-26be1ac7990c",
   "metadata": {
    "tags": []
   },
   "outputs": [
    {
     "data": {
      "text/plain": [
       "658857"
      ]
     },
     "execution_count": 18,
     "metadata": {},
     "output_type": "execute_result"
    }
   ],
   "source": [
    "len(os.listdir(f\"{topath}/seen\"))"
   ]
  },
  {
   "cell_type": "code",
   "execution_count": 14,
   "id": "e41b6d88-8d6b-4362-98b2-5ccdcbea8e8a",
   "metadata": {
    "tags": []
   },
   "outputs": [],
   "source": [
    "from PIL import Image\n",
    "files = [f\"{topath}/seen/{f}\" for f in os.listdir(f\"{topath}/seen\") if \".png\" in f]"
   ]
  },
  {
   "cell_type": "code",
   "execution_count": 17,
   "id": "2357600b-fd85-4936-9cc4-35c1c6f14319",
   "metadata": {
    "tags": []
   },
   "outputs": [
    {
     "data": {
      "text/plain": [
       "'/home/jupyter/ai_font/data/processed/seen/나눔손글씨 따악단단__뵺.png'"
      ]
     },
     "execution_count": 17,
     "metadata": {},
     "output_type": "execute_result"
    }
   ],
   "source": [
    "files[1]"
   ]
  },
  {
   "cell_type": "code",
   "execution_count": 19,
   "id": "898c15c3-2166-48af-8303-61f191bb6c66",
   "metadata": {
    "tags": []
   },
   "outputs": [
    {
     "data": {
      "text/plain": [
       "(96, 96)"
      ]
     },
     "execution_count": 19,
     "metadata": {},
     "output_type": "execute_result"
    }
   ],
   "source": [
    "Image.open(files[1]).size"
   ]
  },
  {
   "cell_type": "code",
   "execution_count": null,
   "id": "5e069a45-a250-4a0f-a755-ad8b9f4e755f",
   "metadata": {},
   "outputs": [],
   "source": []
  }
 ],
 "metadata": {
  "environment": {
   "kernel": "conda-env-pytorch-pytorch",
   "name": "workbench-notebooks.m120",
   "type": "gcloud",
   "uri": "us-docker.pkg.dev/deeplearning-platform-release/gcr.io/workbench-notebooks:m120"
  },
  "kernelspec": {
   "display_name": "PyTorch 1-13 (Local)",
   "language": "python",
   "name": "conda-env-pytorch-pytorch"
  },
  "language_info": {
   "codemirror_mode": {
    "name": "ipython",
    "version": 3
   },
   "file_extension": ".py",
   "mimetype": "text/x-python",
   "name": "python",
   "nbconvert_exporter": "python",
   "pygments_lexer": "ipython3",
   "version": "3.10.14"
  }
 },
 "nbformat": 4,
 "nbformat_minor": 5
}
