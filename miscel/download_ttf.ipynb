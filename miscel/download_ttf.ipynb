{
 "cells": [
  {
   "cell_type": "code",
   "execution_count": 15,
   "id": "f4600b2c-896c-4b92-bbbc-a6441dd94145",
   "metadata": {
    "tags": []
   },
   "outputs": [
    {
     "name": "stderr",
     "output_type": "stream",
     "text": [
      "73it [01:21,  1.12s/it, file=../data/raw/ttf/나눔손글씨 여름글씨.ttf]           \n"
     ]
    }
   ],
   "source": [
    "import os\n",
    "from tqdm import tqdm\n",
    "from google.cloud import storage\n",
    "\n",
    "def download_files_from_folder(bucket_name, folder_path, local_dir):\n",
    "    \"\"\"Download all files from a folder in a Google Cloud Storage bucket.\"\"\"\n",
    "    # Initialize a client\n",
    "    client = storage.Client()\n",
    "    # Get the bucket\n",
    "    bucket = client.bucket(bucket_name)\n",
    "    # List all blobs (files) in the specified folder\n",
    "    blobs = bucket.list_blobs(prefix=folder_path)\n",
    "    # Download each blob to the local directory\n",
    "    pbar = tqdm(blobs)\n",
    "    for blob in pbar:\n",
    "        if \".ttf\" in blob.name:\n",
    "            # Construct the local file path\n",
    "            local_file_path = f\"{local_dir}/{blob.name.split('/')[-1]}\"\n",
    "            # Ensure the directory exists\n",
    "            local_file_dir = '/'.join(local_file_path.split('/')[:-1])\n",
    "            os.makedirs(local_file_dir, exist_ok=True)\n",
    "            # Download the blob to the local file\n",
    "            if local_file_path not in os.listdir(local_file_dir):\n",
    "                blob.download_to_filename(local_file_path)\n",
    "                pbar.set_postfix(file=local_file_path)\n",
    "\n",
    "# Example usage\n",
    "bucket_name = \"leo_font\"\n",
    "folder_path = \"ttf\"\n",
    "local_dir = \"../data/raw/ttf\"\n",
    "\n",
    "download_files_from_folder(bucket_name, folder_path, local_dir)\n"
   ]
  },
  {
   "cell_type": "code",
   "execution_count": null,
   "id": "e77c8d40-0e19-4e4f-bcb0-5fd1a2a65e0e",
   "metadata": {},
   "outputs": [],
   "source": []
  }
 ],
 "metadata": {
  "environment": {
   "kernel": "conda-env-pytorch-pytorch",
   "name": "workbench-notebooks.m120",
   "type": "gcloud",
   "uri": "us-docker.pkg.dev/deeplearning-platform-release/gcr.io/workbench-notebooks:m120"
  },
  "kernelspec": {
   "display_name": "PyTorch 1-13 (Local)",
   "language": "python",
   "name": "conda-env-pytorch-pytorch"
  },
  "language_info": {
   "codemirror_mode": {
    "name": "ipython",
    "version": 3
   },
   "file_extension": ".py",
   "mimetype": "text/x-python",
   "name": "python",
   "nbconvert_exporter": "python",
   "pygments_lexer": "ipython3",
   "version": "3.10.14"
  }
 },
 "nbformat": 4,
 "nbformat_minor": 5
}
