{
 "cells": [
  {
   "cell_type": "code",
   "execution_count": 1,
   "id": "c3cbc62f-58f3-4502-9331-27d6e7ff969e",
   "metadata": {
    "tags": []
   },
   "outputs": [],
   "source": [
    "import os\n",
    "import pickle\n",
    "import numpy as np\n",
    "import pandas as pd\n",
    "from collections import defaultdict\n",
    "from tqdm import tqdm\n",
    "from fontTools.ttLib import TTFont\n",
    "from PIL import Image, ImageDraw, ImageFont"
   ]
  },
  {
   "cell_type": "code",
   "execution_count": 2,
   "id": "6f6e3155-5d4f-4557-bede-b2ae40835790",
   "metadata": {
    "tags": []
   },
   "outputs": [],
   "source": [
    "def get_existing_chars(filename):\n",
    "    ttfont = TTFont(filename)\n",
    "    return list({chr(key) for table in ttfont['cmap'].tables for key in table.cmap.keys()})\n",
    "\n",
    "def get_image(font, char, size=128):\n",
    "    img = Image.new('L', (1000,1000), 255)\n",
    "\n",
    "    draw = ImageDraw.Draw(img)\n",
    "    draw.text((200,200), char, font=font)\n",
    "\n",
    "    npimg = 255 - np.array(img)\n",
    "    wmin = npimg.sum(0).nonzero()[0].min()\n",
    "    wmax = npimg.sum(0).nonzero()[0].max()\n",
    "    hmin = npimg.sum(1).nonzero()[0].min()\n",
    "    hmax = npimg.sum(1).nonzero()[0].max()\n",
    "\n",
    "    npimg = 255 - npimg[hmin:hmax+1,wmin:wmax+1]\n",
    "\n",
    "    whdiff = (wmax-wmin) - (hmax-hmin)\n",
    "    wmargin = abs(whdiff) // 2 if whdiff < 0 else 0\n",
    "    hmargin = abs(whdiff) // 2 if whdiff >= 0 else 0\n",
    "\n",
    "    npimg = np.pad(npimg, ((hmargin, hmargin), (wmargin, wmargin)),\n",
    "                       'constant', constant_values=255)\n",
    "    img = Image.fromarray(npimg)\n",
    "    \n",
    "    return img\n",
    "\n",
    "# utf-8\n",
    "def get_all_korean():\n",
    "\n",
    "    def nextKorLetterFrom(letter):\n",
    "        lastLetterInt = 15572643\n",
    "        if not letter:\n",
    "            return '가'\n",
    "        a = letter\n",
    "        b = a.encode('utf8')\n",
    "        c = int(b.hex(), 16)\n",
    "\n",
    "        if c == lastLetterInt:\n",
    "            return False\n",
    "\n",
    "        d = hex(c + 1)\n",
    "        e = bytearray.fromhex(d[2:])\n",
    "\n",
    "        flag = True\n",
    "        while flag:\n",
    "            try:\n",
    "                r = e.decode('utf-8')\n",
    "                flag = False\n",
    "            except UnicodeDecodeError:\n",
    "                c = c+1\n",
    "                d = hex(c)\n",
    "                e = bytearray.fromhex(d[2:])\n",
    "        return e.decode()\n",
    "\n",
    "    returns = []\n",
    "    flag = True\n",
    "    k = ''\n",
    "    while flag:\n",
    "        k = nextKorLetterFrom(k)\n",
    "        if k is False:\n",
    "            flag = False\n",
    "        else:\n",
    "            returns.append(k)\n",
    "    return returns"
   ]
  },
  {
   "cell_type": "code",
   "execution_count": 3,
   "id": "b567e2cd-5a6a-41ae-bba1-3e38ab1cd010",
   "metadata": {
    "tags": []
   },
   "outputs": [],
   "source": [
    "ak = get_all_korean()"
   ]
  },
  {
   "cell_type": "code",
   "execution_count": 4,
   "id": "7633fe40-3cf5-4795-b453-5a7351dbc9f0",
   "metadata": {
    "tags": []
   },
   "outputs": [],
   "source": [
    "def resize_with_padding(img, ratio, new_size, padding_color=255):\n",
    "    # Open the image\n",
    "    # Get the new dimensions based on the ratio\n",
    "    new_width = int(img.width * ratio)\n",
    "    new_height = int(img.height * ratio)\n",
    "    \n",
    "    # Resize the image using the new dimensions\n",
    "    resized_img = img.resize((new_width, new_height), Image.BILINEAR)\n",
    "    \n",
    "    # Create a new blank image with padding\n",
    "    padded_img = Image.new(\"L\", (new_size, new_size), padding_color)\n",
    "    \n",
    "    # Calculate the position to paste the resized image\n",
    "    left = (padded_img.width - resized_img.width) // 2\n",
    "    top = (padded_img.height - resized_img.height) // 2\n",
    "    right = left + resized_img.width\n",
    "    bottom = top + resized_img.height\n",
    "    \n",
    "    # Paste the resized image onto the blank image\n",
    "    padded_img.paste(resized_img, (left, top, right, bottom))\n",
    "    \n",
    "    return padded_img"
   ]
  },
  {
   "cell_type": "code",
   "execution_count": 5,
   "id": "6cbb8e0e-7d59-468d-a4e6-0a998dc0b376",
   "metadata": {
    "tags": []
   },
   "outputs": [],
   "source": [
    "ttffd = \"/home/jupyter/ai_font/data/test_ttfs\"\n",
    "pngfd = \"/home/jupyter/ai_font/data/test/pngs\"\n",
    "\n",
    "os.makedirs(pngfd, exist_ok=True)\n",
    "\n",
    "fontfiles = sorted([(f.replace(\".ttf\",\"\"), f\"{ttffd}/{f}\") for f in os.listdir(ttffd)])"
   ]
  },
  {
   "cell_type": "code",
   "execution_count": 6,
   "id": "d8cc399f-1396-4517-892f-ac6d5fe4402f",
   "metadata": {
    "tags": []
   },
   "outputs": [
    {
     "name": "stderr",
     "output_type": "stream",
     "text": [
      "100%|██████████| 15/15 [10:31<00:00, 42.13s/it, font=트와이스 채영, n_files=11171/11172]                 \n"
     ]
    }
   ],
   "source": [
    "font_size = 100\n",
    "pbar = tqdm([f for i,f in enumerate(fontfiles)])\n",
    "for fontname, filename in pbar:\n",
    "    font = ImageFont.truetype(filename,font_size)\n",
    "    existing_chars = get_existing_chars(filename)\n",
    "    iter_chars = list(set(existing_chars).intersection(set(ak)))\n",
    "    if not np.all([os.path.exists(f\"{pngfd}/{fontname}__{k}\") for k in iter_chars]):\n",
    "        img_dict = {}\n",
    "        for l in iter_chars:\n",
    "            try:\n",
    "                img_dict[l] = get_image(font, l)\n",
    "            except:\n",
    "                pass\n",
    "        if len(img_dict) > 0:\n",
    "            max_size = 0\n",
    "            for k,v in img_dict.items():\n",
    "                size = v.size\n",
    "                if max(size) > max_size:\n",
    "                    max_size = max(size)\n",
    "            ratio = 127/max_size\n",
    "            savecount = 0\n",
    "            for k,v in img_dict.items():\n",
    "                imgpath = f\"{pngfd}/{fontname}__{k}\"\n",
    "                if not os.path.exists(imgpath):\n",
    "                    img = resize_with_padding(v, ratio, 128)\n",
    "                    with open(imgpath, \"wb\") as f:\n",
    "                        img.save(f, \"PNG\")\n",
    "                    pbar.set_postfix(n_files=f\"{savecount}/{len(img_dict)}\", font=fontname)\n",
    "                savecount += 1"
   ]
  },
  {
   "cell_type": "code",
   "execution_count": 22,
   "id": "3a9e6739-fd6b-4e2e-985f-ad8edb7faf63",
   "metadata": {
    "tags": []
   },
   "outputs": [
    {
     "data": {
      "text/plain": [
       "2569554"
      ]
     },
     "execution_count": 22,
     "metadata": {},
     "output_type": "execute_result"
    }
   ],
   "source": [
    "len(os.listdir(pngfd))"
   ]
  },
  {
   "cell_type": "code",
   "execution_count": null,
   "id": "b7a7b78e-d62b-4c7d-8bfc-c4ee91e6b2c3",
   "metadata": {},
   "outputs": [],
   "source": []
  }
 ],
 "metadata": {
  "environment": {
   "kernel": "conda-env-pytorch-pytorch",
   "name": "workbench-notebooks.m120",
   "type": "gcloud",
   "uri": "us-docker.pkg.dev/deeplearning-platform-release/gcr.io/workbench-notebooks:m120"
  },
  "kernelspec": {
   "display_name": "PyTorch 1-13 (Local)",
   "language": "python",
   "name": "conda-env-pytorch-pytorch"
  },
  "language_info": {
   "codemirror_mode": {
    "name": "ipython",
    "version": 3
   },
   "file_extension": ".py",
   "mimetype": "text/x-python",
   "name": "python",
   "nbconvert_exporter": "python",
   "pygments_lexer": "ipython3",
   "version": "3.10.14"
  }
 },
 "nbformat": 4,
 "nbformat_minor": 5
}
