{
 "cells": [
  {
   "cell_type": "code",
   "execution_count": 1,
   "id": "f742bdca-5191-48a8-992c-d2fceac49238",
   "metadata": {
    "tags": []
   },
   "outputs": [
    {
     "name": "stdout",
     "output_type": "stream",
     "text": [
      "[Errno 17] File exists: '/home/jupyter/ai_font/data/zipfiles'\n",
      "658857\n",
      "49587\n"
     ]
    }
   ],
   "source": [
    "import os\n",
    "\n",
    "basefd = \"/home/jupyter/ai_font\"\n",
    "try:\n",
    "    os.makedirs(f\"{basefd}/data/processed/seen\")\n",
    "    os.makedirs(f\"{basefd}/data/processed/unseen\")\n",
    "    os.makedirs(f\"{basefd}/data/zipfiles\")\n",
    "except Exception as e:\n",
    "    print(e)\n",
    "    \n",
    "from google.cloud import storage\n",
    "\n",
    "bucket_name = \"leo_font\"\n",
    "storage_client = storage.Client()\n",
    "bucket = storage_client.bucket(bucket_name)\n",
    "blob = bucket.blob(\"zipfiles/exp1_split.zip\")\n",
    "blob.download_to_filename(f\"{basefd}/data/zipfiles/exp1_split.zip\")\n",
    "\n",
    "\n",
    "import zipfile\n",
    "zipfile.ZipFile(f\"{basefd}/data/zipfiles/exp1_split.zip\").extractall(f\"{basefd}/data/processed/\")\n",
    "\n",
    "print(len(os.listdir(f\"{basefd}/data/processed/seen\")))\n",
    "print(len(os.listdir(f\"{basefd}/data/processed/unseen\")))"
   ]
  },
  {
   "cell_type": "code",
   "execution_count": null,
   "id": "65807d47-8def-43c2-a75e-44edfd38cdd5",
   "metadata": {},
   "outputs": [],
   "source": []
  }
 ],
 "metadata": {
  "environment": {
   "kernel": "conda-env-pytorch-pytorch",
   "name": "workbench-notebooks.m120",
   "type": "gcloud",
   "uri": "us-docker.pkg.dev/deeplearning-platform-release/gcr.io/workbench-notebooks:m120"
  },
  "kernelspec": {
   "display_name": "PyTorch 1-13 (Local)",
   "language": "python",
   "name": "conda-env-pytorch-pytorch"
  },
  "language_info": {
   "codemirror_mode": {
    "name": "ipython",
    "version": 3
   },
   "file_extension": ".py",
   "mimetype": "text/x-python",
   "name": "python",
   "nbconvert_exporter": "python",
   "pygments_lexer": "ipython3",
   "version": "3.10.14"
  }
 },
 "nbformat": 4,
 "nbformat_minor": 5
}
