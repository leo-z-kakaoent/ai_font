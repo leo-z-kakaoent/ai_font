{
 "cells": [
  {
   "cell_type": "code",
   "execution_count": 1,
   "id": "1043b482-ae60-4230-9dd2-7f1cb849f713",
   "metadata": {
    "tags": []
   },
   "outputs": [
    {
     "name": "stdout",
     "output_type": "stream",
     "text": [
      "Collecting unicodedata2\n",
      "  Using cached unicodedata2-15.1.0-cp310-cp310-manylinux_2_17_x86_64.manylinux2014_x86_64.whl.metadata (3.0 kB)\n",
      "Using cached unicodedata2-15.1.0-cp310-cp310-manylinux_2_17_x86_64.manylinux2014_x86_64.whl (468 kB)\n",
      "Installing collected packages: unicodedata2\n",
      "Successfully installed unicodedata2-15.1.0\n"
     ]
    }
   ],
   "source": [
    "!pip install unicodedata2"
   ]
  },
  {
   "cell_type": "code",
   "execution_count": 15,
   "id": "9e365ef8-b299-4b24-a715-3e132c6d0422",
   "metadata": {
    "tags": []
   },
   "outputs": [],
   "source": [
    "import os\n",
    "import unicodedata\n",
    "from tqdm import tqdm"
   ]
  },
  {
   "cell_type": "code",
   "execution_count": 5,
   "id": "a779d937-bc61-4739-9648-93a4174bbfb0",
   "metadata": {
    "tags": []
   },
   "outputs": [],
   "source": [
    "fd = \"/home/jupyter/ai_font/data/test/pngs\""
   ]
  },
  {
   "cell_type": "code",
   "execution_count": 25,
   "id": "0d6aa587-b49b-43de-a998-c8f777fbf5c7",
   "metadata": {
    "tags": []
   },
   "outputs": [],
   "source": [
    "files = os.listdir(fd)"
   ]
  },
  {
   "cell_type": "code",
   "execution_count": 26,
   "id": "3e618272-3f2b-41b0-92b4-363ff973e66a",
   "metadata": {
    "tags": []
   },
   "outputs": [
    {
     "name": "stderr",
     "output_type": "stream",
     "text": [
      "100%|██████████| 115322/115322 [00:00<00:00, 1245039.94it/s]\n"
     ]
    }
   ],
   "source": [
    "for f in tqdm(files):\n",
    "    oenc = f.encode()\n",
    "    n = unicodedata.normalize('NFC', f)\n",
    "    nenc = n.encode()\n",
    "    if oenc != nenc:\n",
    "        print(n)\n",
    "        os.rename(f\"{fd}/{f}\", f\"{fd}/{n}\")"
   ]
  },
  {
   "cell_type": "code",
   "execution_count": 24,
   "id": "2e9f52b4-a9b8-4fba-9647-4eadc3f2d47d",
   "metadata": {
    "tags": []
   },
   "outputs": [
    {
     "name": "stderr",
     "output_type": "stream",
     "text": [
      "100%|██████████| 115322/115322 [00:01<00:00, 67232.97it/s]\n"
     ]
    }
   ],
   "source": [
    "for f in tqdm(files):\n",
    "    os.rename(f\"{fd}/{f}\", f\"{fd}/{f}.png\")"
   ]
  },
  {
   "cell_type": "code",
   "execution_count": null,
   "id": "92a13027-5d30-4c33-ab29-1dd4898598df",
   "metadata": {},
   "outputs": [],
   "source": []
  },
  {
   "cell_type": "code",
   "execution_count": 21,
   "id": "7141422a-6668-46f6-bfff-4471755e8a1d",
   "metadata": {
    "tags": []
   },
   "outputs": [],
   "source": [
    "from PIL import Image"
   ]
  },
  {
   "cell_type": "code",
   "execution_count": 32,
   "id": "fad02457-4eb2-486e-a464-be85905622a5",
   "metadata": {
    "tags": []
   },
   "outputs": [
    {
     "data": {
      "image/jpeg": "[encoded data removed]",
      "image/png": "[encoded data removed]",
      "text/plain": [
       "<PIL.PngImagePlugin.PngImageFile image mode=L size=128x128>"
      ]
     },
     "execution_count": 32,
     "metadata": {},
     "output_type": "execute_result"
    }
   ],
   "source": [
    "Image.open(f\"{fd}/{files[4]}\")"
   ]
  },
  {
   "cell_type": "code",
   "execution_count": null,
   "id": "429d2c5f-dbbb-41ca-87d4-3aa492d5f597",
   "metadata": {},
   "outputs": [],
   "source": []
  }
 ],
 "metadata": {
  "environment": {
   "kernel": "conda-base-py",
   "name": "workbench-notebooks.m121",
   "type": "gcloud",
   "uri": "us-docker.pkg.dev/deeplearning-platform-release/gcr.io/workbench-notebooks:m121"
  },
  "kernelspec": {
   "display_name": "Python 3 (ipykernel) (Local)",
   "language": "python",
   "name": "conda-base-py"
  },
  "language_info": {
   "codemirror_mode": {
    "name": "ipython",
    "version": 3
   },
   "file_extension": ".py",
   "mimetype": "text/x-python",
   "name": "python",
   "nbconvert_exporter": "python",
   "pygments_lexer": "ipython3",
   "version": "3.10.14"
  }
 },
 "nbformat": 4,
 "nbformat_minor": 5
}
