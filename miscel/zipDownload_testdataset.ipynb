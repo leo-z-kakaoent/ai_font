{
 "cells": [
  {
   "cell_type": "code",
   "execution_count": 2,
   "id": "b20a9420-8026-4f80-b35f-0417efe09197",
   "metadata": {
    "tags": []
   },
   "outputs": [],
   "source": [
    "import os\n",
    "from google.cloud import storage\n",
    "\n",
    "basefd = \"/home/jupyter/ai_font/data\"\n",
    "os.makedirs(basefd, exist_ok=True)\n",
    "\n",
    "bucket_name = \"leo_font\"\n",
    "filename = \"test.zip\"\n",
    "\n",
    "storage_client = storage.Client()\n",
    "bucket = storage_client.bucket(bucket_name)\n",
    "blob = bucket.blob(f\"exp0514/{filename}\")\n",
    "blob.download_to_filename(f\"{basefd}/{filename}\")"
   ]
  },
  {
   "cell_type": "code",
   "execution_count": 9,
   "id": "c96f2d5f-ed04-48f6-8c9f-4a24b8335b87",
   "metadata": {
    "tags": []
   },
   "outputs": [],
   "source": [
    "blob = bucket.blob(f\"exp0514/testmapdf.pickle\")\n",
    "blob.download_to_filename(f\"{basefd}/test/testmapdf.pickle\")"
   ]
  },
  {
   "cell_type": "code",
   "execution_count": 7,
   "id": "65807d47-8def-43c2-a75e-44edfd38cdd5",
   "metadata": {
    "tags": []
   },
   "outputs": [],
   "source": [
    "import zipfile\n",
    "fd = \"/home/jupyter/ai_font/data\"\n",
    "zipfile.ZipFile(f\"{fd}/{filename}\").extractall(f\"{fd}/test\")"
   ]
  },
  {
   "cell_type": "code",
   "execution_count": null,
   "id": "9ac05232-543f-431b-bc9a-79ae2b067c4e",
   "metadata": {},
   "outputs": [],
   "source": []
  }
 ],
 "metadata": {
  "environment": {
   "kernel": "conda-env-pytorch-pytorch",
   "name": "workbench-notebooks.m120",
   "type": "gcloud",
   "uri": "us-docker.pkg.dev/deeplearning-platform-release/gcr.io/workbench-notebooks:m120"
  },
  "kernelspec": {
   "display_name": "PyTorch 1-13 (Local)",
   "language": "python",
   "name": "conda-env-pytorch-pytorch"
  },
  "language_info": {
   "codemirror_mode": {
    "name": "ipython",
    "version": 3
   },
   "file_extension": ".py",
   "mimetype": "text/x-python",
   "name": "python",
   "nbconvert_exporter": "python",
   "pygments_lexer": "ipython3",
   "version": "3.10.14"
  }
 },
 "nbformat": 4,
 "nbformat_minor": 5
}
