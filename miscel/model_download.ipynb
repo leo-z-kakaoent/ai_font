{
 "cells": [
  {
   "cell_type": "code",
   "execution_count": 15,
   "id": "ec7c70ca-b5da-484e-ab56-473e1a5a0ade",
   "metadata": {
    "tags": []
   },
   "outputs": [
    {
     "name": "stderr",
     "output_type": "stream",
     "text": [
      "376it [35:45,  5.71s/it, file=../data/model//vanilla_fontdiffuser_training_phase_1__unet_90000.pth]                \n"
     ]
    }
   ],
   "source": [
    "import os\n",
    "from tqdm import tqdm\n",
    "from google.cloud import storage\n",
    "\n",
    "def download_files_from_folder(bucket_name, folder_path, local_dir):\n",
    "    \"\"\"Download all files from a folder in a Google Cloud Storage bucket.\"\"\"\n",
    "    # Initialize a client\n",
    "    client = storage.Client()\n",
    "    # Get the bucket\n",
    "    bucket = client.bucket(bucket_name)\n",
    "    # List all blobs (files) in the specified folder\n",
    "    blobs = bucket.list_blobs(prefix=folder_path)\n",
    "    # Download each blob to the local directory\n",
    "    pbar = tqdm(blobs)\n",
    "    for blob in pbar:\n",
    "        if \".pth\" in blob.name:\n",
    "            # Construct the local file path\n",
    "            local_file_path = f\"{local_dir}/{blob.name.replace(folder_path, '')}\"\n",
    "            # Ensure the directory exists\n",
    "            local_file_dir = '/'.join(local_file_path.split('/')[:-1])\n",
    "            os.makedirs(local_file_dir, exist_ok=True)\n",
    "            # Download the blob to the local file\n",
    "            if local_file_path not in os.listdir(local_file_dir):\n",
    "                blob.download_to_filename(local_file_path)\n",
    "                pbar.set_postfix(file=local_file_path)\n",
    "\n",
    "# Example usage\n",
    "bucket_name = \"leo_font\"\n",
    "folder_path = \"experiments\"\n",
    "local_dir = \"../data/model\"\n",
    "\n",
    "download_files_from_folder(bucket_name, folder_path, local_dir)\n"
   ]
  },
  {
   "cell_type": "code",
   "execution_count": null,
   "id": "ff0e81c2-0049-4426-9fa1-e6187a9195ae",
   "metadata": {},
   "outputs": [],
   "source": []
  }
 ],
 "metadata": {
  "environment": {
   "kernel": "conda-env-pytorch-pytorch",
   "name": "workbench-notebooks.m120",
   "type": "gcloud",
   "uri": "us-docker.pkg.dev/deeplearning-platform-release/gcr.io/workbench-notebooks:m120"
  },
  "kernelspec": {
   "display_name": "PyTorch 1-13 (Local)",
   "language": "python",
   "name": "conda-env-pytorch-pytorch"
  },
  "language_info": {
   "codemirror_mode": {
    "name": "ipython",
    "version": 3
   },
   "file_extension": ".py",
   "mimetype": "text/x-python",
   "name": "python",
   "nbconvert_exporter": "python",
   "pygments_lexer": "ipython3",
   "version": "3.10.14"
  }
 },
 "nbformat": 4,
 "nbformat_minor": 5
}
