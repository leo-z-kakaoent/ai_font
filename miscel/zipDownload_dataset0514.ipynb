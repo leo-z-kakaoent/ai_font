{
 "cells": [
  {
   "cell_type": "code",
   "execution_count": 1,
   "id": "f742bdca-5191-48a8-992c-d2fceac49238",
   "metadata": {
    "tags": []
   },
   "outputs": [],
   "source": [
    "import os\n",
    "from google.cloud import storage\n",
    "\n",
    "basefd = \"/home/jupyter/ai_font/data\"\n",
    "os.makedirs(basefd, exist_ok=True)\n",
    "\n",
    "bucket_name = \"leo_font\"\n",
    "filename = \"dataset20240514.zip\"\n",
    "\n",
    "storage_client = storage.Client()\n",
    "bucket = storage_client.bucket(bucket_name)\n",
    "blob = bucket.blob(f\"zipfiles/{filename}\")\n",
    "blob.download_to_filename(f\"{basefd}/{filename}\")\n"
   ]
  },
  {
   "cell_type": "code",
   "execution_count": 2,
   "id": "65807d47-8def-43c2-a75e-44edfd38cdd5",
   "metadata": {
    "tags": []
   },
   "outputs": [],
   "source": [
    "import zipfile\n",
    "fd = \"/home/jupyter/ai_font\"\n",
    "filename = \"dataset20240514.zip\"\n",
    "zipfile.ZipFile(f\"{fd}/data/{filename}\").extractall(f\"{fd}/\")"
   ]
  },
  {
   "cell_type": "code",
   "execution_count": null,
   "id": "e23920a4-211f-40b0-a2e1-bc7d21211e20",
   "metadata": {},
   "outputs": [],
   "source": []
  }
 ],
 "metadata": {
  "environment": {
   "kernel": "conda-env-pytorch-pytorch",
   "name": "workbench-notebooks.m120",
   "type": "gcloud",
   "uri": "us-docker.pkg.dev/deeplearning-platform-release/gcr.io/workbench-notebooks:m120"
  },
  "kernelspec": {
   "display_name": "PyTorch 1-13 (Local)",
   "language": "python",
   "name": "conda-env-pytorch-pytorch"
  },
  "language_info": {
   "codemirror_mode": {
    "name": "ipython",
    "version": 3
   },
   "file_extension": ".py",
   "mimetype": "text/x-python",
   "name": "python",
   "nbconvert_exporter": "python",
   "pygments_lexer": "ipython3",
   "version": "3.10.14"
  }
 },
 "nbformat": 4,
 "nbformat_minor": 5
}
