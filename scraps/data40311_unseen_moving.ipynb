{
 "cells": [
  {
   "cell_type": "code",
   "execution_count": 8,
   "id": "eb46f210-b9ff-432f-b60f-263150f191f5",
   "metadata": {
    "tags": []
   },
   "outputs": [],
   "source": [
    "import os\n",
    "import shutil\n",
    "import numpy as np\n",
    "import pandas as pd\n",
    "from tqdm import tqdm"
   ]
  },
  {
   "cell_type": "code",
   "execution_count": 2,
   "id": "8b2591bd-c871-42d6-a8e6-8e862d093862",
   "metadata": {
    "tags": []
   },
   "outputs": [],
   "source": [
    "from_fd = 'data/raw/pngs/'\n",
    "to_fd = 'data/raw/unseens/'"
   ]
  },
  {
   "cell_type": "code",
   "execution_count": 3,
   "id": "3c17cfd2-4224-4f48-82bf-22414c337d94",
   "metadata": {
    "tags": []
   },
   "outputs": [],
   "source": [
    "dic = pd.read_parquet(\"data/raw/all_korean.parquet\")"
   ]
  },
  {
   "cell_type": "code",
   "execution_count": 4,
   "id": "32b73472-89b7-4c13-b101-a5afff65f0c6",
   "metadata": {
    "tags": []
   },
   "outputs": [],
   "source": [
    "unseens = \"남산 위에 저 소나무철갑을 두른 듯바람 서리 불변함은우리 기상일세이 기상과 이 맘으로충성을 다하여괴로우나 즐거우나나라 사랑하세\"\n",
    "unseens = unseens.replace(\" \",\"\")\n",
    "unseens = [*unseens]"
   ]
  },
  {
   "cell_type": "code",
   "execution_count": 5,
   "id": "b0116244-bed0-485d-93fb-3eb5311db188",
   "metadata": {
    "tags": []
   },
   "outputs": [],
   "source": [
    "newdic = pd.DataFrame(index=dic[0], data=np.arange(len(dic)))"
   ]
  },
  {
   "cell_type": "code",
   "execution_count": 6,
   "id": "240b05cc-5c4a-4e8f-9b60-55dd6a9928d5",
   "metadata": {
    "tags": []
   },
   "outputs": [],
   "source": [
    "unseens_i = np.concatenate(newdic.loc[unseens].values)"
   ]
  },
  {
   "cell_type": "code",
   "execution_count": 7,
   "id": "0d118382-af6c-438d-8fdf-4afd0c3f2716",
   "metadata": {
    "tags": []
   },
   "outputs": [
    {
     "data": {
      "text/plain": [
       "'SeoulNamsan Jang B__9251.png'"
      ]
     },
     "execution_count": 7,
     "metadata": {},
     "output_type": "execute_result"
    }
   ],
   "source": [
    "os.listdir(from_fd)[0]"
   ]
  },
  {
   "cell_type": "code",
   "execution_count": 19,
   "id": "5204eb8c-a9a4-491a-87cb-31640bd3c1a4",
   "metadata": {
    "tags": []
   },
   "outputs": [
    {
     "name": "stderr",
     "output_type": "stream",
     "text": [
      "100%|██████████| 801798/801798 [00:59<00:00, 13518.36it/s]\n"
     ]
    }
   ],
   "source": [
    "for f in tqdm(os.listdir(from_fd)):\n",
    "    if \".png\" in f:\n",
    "        content = int(f.split(\".png\")[0].split(\"__\")[-1])\n",
    "        if np.isin(content, unseens_i):\n",
    "            if (\"UhBee\" in f) or (\"twice\" in f):\n",
    "                shutil.move(from_fd + f, to_fd + f)\n",
    "                # print(f)"
   ]
  },
  {
   "cell_type": "code",
   "execution_count": null,
   "id": "fefd471f-1399-4377-aa56-bc766ac92948",
   "metadata": {},
   "outputs": [],
   "source": []
  }
 ],
 "metadata": {
  "environment": {
   "kernel": "conda-env-pytorch-pytorch",
   "name": "workbench-notebooks.m117",
   "type": "gcloud",
   "uri": "us-docker.pkg.dev/deeplearning-platform-release/gcr.io/workbench-notebooks:m117"
  },
  "kernelspec": {
   "display_name": "PyTorch 1-13",
   "language": "python",
   "name": "conda-env-pytorch-pytorch"
  },
  "language_info": {
   "codemirror_mode": {
    "name": "ipython",
    "version": 3
   },
   "file_extension": ".py",
   "mimetype": "text/x-python",
   "name": "python",
   "nbconvert_exporter": "python",
   "pygments_lexer": "ipython3",
   "version": "3.10.13"
  }
 },
 "nbformat": 4,
 "nbformat_minor": 5
}
