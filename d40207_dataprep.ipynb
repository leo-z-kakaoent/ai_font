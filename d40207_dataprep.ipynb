{
 "cells": [
  {
   "cell_type": "code",
   "execution_count": 86,
   "id": "bfca7532-7557-4949-b8fc-65de500d1469",
   "metadata": {
    "tags": []
   },
   "outputs": [],
   "source": [
    "import os\n",
    "import pickle\n",
    "import numpy as np\n",
    "import pandas as pd\n",
    "from tqdm import tqdm\n",
    "from fontTools.ttLib import TTFont\n",
    "from PIL import Image, ImageDraw, ImageFont\n",
    "from tensorflow.python.lib.io.file_io import FileIO"
   ]
  },
  {
   "cell_type": "code",
   "execution_count": 77,
   "id": "a6a46a6a-811d-457f-938a-97c6f75fecb6",
   "metadata": {
    "tags": []
   },
   "outputs": [],
   "source": [
    "def get_existing_chars(filename):\n",
    "    ttfont = TTFont(filename)\n",
    "    return list({chr(key) for table in ttfont['cmap'].tables for key in table.cmap.keys()})"
   ]
  },
  {
   "cell_type": "code",
   "execution_count": 78,
   "id": "61975ac5-137e-41f5-8423-08899a078513",
   "metadata": {
    "tags": []
   },
   "outputs": [],
   "source": [
    "def get_image(font, char):\n",
    "    img = Image.new('L', (500,500), 255)\n",
    "    \n",
    "    draw = ImageDraw.Draw(img)\n",
    "    draw.text((0,0), char, font=font)\n",
    "    \n",
    "    npimg = 255 - np.array(img)\n",
    "    wmin = npimg.sum(0).nonzero()[0].min()\n",
    "    wmax = npimg.sum(0).nonzero()[0].max()\n",
    "    hmin = npimg.sum(1).nonzero()[0].min()\n",
    "    hmax = npimg.sum(1).nonzero()[0].max()\n",
    "    npimg = 255 - npimg[hmin:hmax+1,wmin:wmax+1]\n",
    "    return Image.fromarray(npimg)\n",
    "    # return npimg"
   ]
  },
  {
   "cell_type": "code",
   "execution_count": 79,
   "id": "a17d66fa-b55d-495d-8057-935a1711b396",
   "metadata": {
    "tags": []
   },
   "outputs": [],
   "source": [
    "# utf-8\n",
    "def get_all_korean():\n",
    "    \n",
    "    def nextKorLetterFrom(letter):\n",
    "        lastLetterInt = 15572643\n",
    "        if not letter:\n",
    "            return '가'\n",
    "        a = letter\n",
    "        b = a.encode('utf8')\n",
    "        c = int(b.hex(), 16)\n",
    "\n",
    "        if c == lastLetterInt:\n",
    "            return False\n",
    "\n",
    "        d = hex(c + 1)\n",
    "        e = bytearray.fromhex(d[2:])\n",
    "\n",
    "        flag = True\n",
    "        while flag:\n",
    "            try:\n",
    "                r = e.decode('utf-8')\n",
    "                flag = False\n",
    "            except UnicodeDecodeError:\n",
    "                c = c+1\n",
    "                d = hex(c)\n",
    "                e = bytearray.fromhex(d[2:])\n",
    "        return e.decode()\n",
    "    \n",
    "    returns = []\n",
    "    flag = True\n",
    "    k = ''\n",
    "    while flag:\n",
    "        k = nextKorLetterFrom(k)\n",
    "        if k is False:\n",
    "            flag = False\n",
    "        else:\n",
    "            returns.append(k)\n",
    "    return returns\n",
    "    "
   ]
  },
  {
   "cell_type": "code",
   "execution_count": 80,
   "id": "0a8ecdc0-4203-4750-ad9d-d2fb83ec8400",
   "metadata": {
    "tags": []
   },
   "outputs": [],
   "source": [
    "ak = get_all_korean()"
   ]
  },
  {
   "cell_type": "code",
   "execution_count": 81,
   "id": "6e89cd17-0856-4306-a3cb-c0571034f1a8",
   "metadata": {
    "tags": []
   },
   "outputs": [
    {
     "data": {
      "text/plain": [
       "11172"
      ]
     },
     "execution_count": 81,
     "metadata": {},
     "output_type": "execute_result"
    }
   ],
   "source": [
    "len(ak)"
   ]
  },
  {
   "cell_type": "code",
   "execution_count": 82,
   "id": "9719b585-c73f-4056-b69a-08a5345992db",
   "metadata": {
    "tags": []
   },
   "outputs": [],
   "source": [
    "fd = \"data/r40202/ttfs/\"\n",
    "ttfs = [(fd+\"twice/\"+f,\"twice\", f.split(\".ttf\")[0]) for f in os.listdir(fd+\"twice\")]\n",
    "ttfs += [(fd+\"apple/\"+f,\"apple\", f.split(\".ttf\")[0]) for f in os.listdir(fd+\"apple\")]\n",
    "ttfs += [(fd+\"uhbee/\"+f,\"uhbee\", f.split(\".ttf\")[0]) for f in os.listdir(fd+\"uhbee\")]"
   ]
  },
  {
   "cell_type": "code",
   "execution_count": 83,
   "id": "bf6e1c5d-dbaa-494d-b068-daa74d946f0d",
   "metadata": {
    "tags": []
   },
   "outputs": [
    {
     "data": {
      "text/plain": [
       "('data/r40202/ttfs/twice/dahyun_4.ttf', 'twice', 'dahyun_4')"
      ]
     },
     "execution_count": 83,
     "metadata": {},
     "output_type": "execute_result"
    }
   ],
   "source": [
    "ttfs[0]"
   ]
  },
  {
   "cell_type": "code",
   "execution_count": 87,
   "id": "f66f443b-3962-44bb-a6f1-defa9fab9abf",
   "metadata": {
    "tags": []
   },
   "outputs": [],
   "source": [
    "png_fd = \"data/r40202/pngs/\""
   ]
  },
  {
   "cell_type": "code",
   "execution_count": 85,
   "id": "348414a4-51f4-42af-80ee-535968c85c91",
   "metadata": {
    "tags": []
   },
   "outputs": [
    {
     "name": "stderr",
     "output_type": "stream",
     "text": [
      "100%|██████████| 173/173 [26:41<00:00,  9.26s/it, files=504343, passed=1428414]\n"
     ]
    }
   ],
   "source": [
    "chardf = pd.DataFrame(ak)\n",
    "chardf.to_parquet(\"data/r40202/all_korean.parquet\")\n",
    "pbar = tqdm(range(len(ttfs)))\n",
    "c = 0\n",
    "for i in pbar:\n",
    "    ttf = ttfs[i]\n",
    "    filename = ttf[0]\n",
    "    font = ImageFont.truetype(filename,255)\n",
    "    existing_chars = get_existing_chars(filename)\n",
    "    for j in range(len(chardf)):\n",
    "        char = chardf.iloc[j].values[0]\n",
    "        if char in existing_chars:\n",
    "            try:\n",
    "                img = get_image(font, char)\n",
    "                with open(png_fd+'%s__%s__%s.png'%(ttf[1],ttf[2],str(j)), \"wb\") as f:\n",
    "                    img.save(f, \"PNG\")\n",
    "            except:\n",
    "                # print(ttf[1], ttf[2], char)\n",
    "                c += 1\n",
    "        else:\n",
    "            c += 1\n",
    "    pbar.set_postfix(passed=str(c), files=str(len(os.listdir(png_fd))))"
   ]
  },
  {
   "cell_type": "code",
   "execution_count": 88,
   "id": "e5ee2db4-dfe5-4eec-96ca-405db64978c9",
   "metadata": {},
   "outputs": [],
   "source": [
    "files = [png_fd+f for f in os.listdir(png_fd) if \".png\" in f]"
   ]
  },
  {
   "cell_type": "code",
   "execution_count": 89,
   "id": "7a6a6222-6796-4a21-9dc2-b3a98a7007dd",
   "metadata": {
    "tags": []
   },
   "outputs": [],
   "source": [
    "import random"
   ]
  },
  {
   "cell_type": "code",
   "execution_count": 90,
   "id": "195a3a5b-1e01-451b-bacb-ef528f41dfa9",
   "metadata": {
    "tags": []
   },
   "outputs": [
    {
     "data": {
      "text/plain": [
       "0.9561860824335097"
      ]
     },
     "execution_count": 90,
     "metadata": {},
     "output_type": "execute_result"
    }
   ],
   "source": [
    "random.random()"
   ]
  },
  {
   "cell_type": "code",
   "execution_count": 138,
   "id": "9dd3ad19-a510-4872-a32e-cb86ad88b4ef",
   "metadata": {
    "tags": []
   },
   "outputs": [
    {
     "data": {
      "image/jpeg": "[encoded data removed]",
      "image/png": "[encoded data removed]",
      "text/plain": [
       "<PIL.PngImagePlugin.PngImageFile image mode=L size=262x255>"
      ]
     },
     "execution_count": 138,
     "metadata": {},
     "output_type": "execute_result"
    }
   ],
   "source": [
    "img = Image.open(files[int(random.random()*len(files))])\n",
    "img"
   ]
  },
  {
   "cell_type": "code",
   "execution_count": 5,
   "id": "b3c9b0fa-f0dd-41db-9152-a92bb97b9c41",
   "metadata": {
    "tags": []
   },
   "outputs": [
    {
     "ename": "NameError",
     "evalue": "name 'img' is not defined",
     "output_type": "error",
     "traceback": [
      "\u001b[0;31m---------------------------------------------------------------------------\u001b[0m",
      "\u001b[0;31mNameError\u001b[0m                                 Traceback (most recent call last)",
      "Cell \u001b[0;32mIn[5], line 1\u001b[0m\n\u001b[0;32m----> 1\u001b[0m \u001b[43mimg\u001b[49m\n",
      "\u001b[0;31mNameError\u001b[0m: name 'img' is not defined"
     ]
    }
   ],
   "source": [
    "img"
   ]
  },
  {
   "cell_type": "code",
   "execution_count": 19,
   "id": "791c2a48-cc09-4faf-a0da-782012b20148",
   "metadata": {
    "tags": []
   },
   "outputs": [
    {
     "data": {
      "text/plain": [
       "'힣'"
      ]
     },
     "execution_count": 19,
     "metadata": {},
     "output_type": "execute_result"
    }
   ],
   "source": [
    "char"
   ]
  },
  {
   "cell_type": "code",
   "execution_count": 4,
   "id": "63c7e142-8bf8-4a51-a6ad-73bb544a6e6d",
   "metadata": {
    "tags": []
   },
   "outputs": [
    {
     "name": "stderr",
     "output_type": "stream",
     "text": [
      "100%|██████████| 59187/59187 [00:01<00:00, 50247.78it/s]\n"
     ]
    }
   ],
   "source": [
    "for p in tqdm(os.listdir(png_fd)):\n",
    "    try:\n",
    "        os.remove(png_fd+p)\n",
    "    except:\n",
    "        pass"
   ]
  },
  {
   "cell_type": "code",
   "execution_count": null,
   "id": "4ffcc820-90b0-4a84-9d3e-371d3dc7e7ee",
   "metadata": {},
   "outputs": [],
   "source": []
  }
 ],
 "metadata": {
  "environment": {
   "kernel": "conda-root-py",
   "name": "workbench-notebooks.m113",
   "type": "gcloud",
   "uri": "gcr.io/deeplearning-platform-release/workbench-notebooks:m113"
  },
  "kernelspec": {
   "display_name": "Python 3 (ipykernel) (Local)",
   "language": "python",
   "name": "conda-root-py"
  },
  "language_info": {
   "codemirror_mode": {
    "name": "ipython",
    "version": 3
   },
   "file_extension": ".py",
   "mimetype": "text/x-python",
   "name": "python",
   "nbconvert_exporter": "python",
   "pygments_lexer": "ipython3",
   "version": "3.10.13"
  }
 },
 "nbformat": 4,
 "nbformat_minor": 5
}
