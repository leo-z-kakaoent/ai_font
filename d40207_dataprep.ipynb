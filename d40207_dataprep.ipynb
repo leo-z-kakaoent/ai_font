{
 "cells": [
  {
   "cell_type": "code",
   "execution_count": 1,
   "id": "bfca7532-7557-4949-b8fc-65de500d1469",
   "metadata": {
    "tags": []
   },
   "outputs": [],
   "source": [
    "import os\n",
    "import pickle\n",
    "import numpy as np\n",
    "import pandas as pd\n",
    "from tqdm import tqdm\n",
    "from fontTools.ttLib import TTFont\n",
    "from PIL import Image, ImageDraw, ImageFont"
   ]
  },
  {
   "cell_type": "code",
   "execution_count": 2,
   "id": "a6a46a6a-811d-457f-938a-97c6f75fecb6",
   "metadata": {
    "tags": []
   },
   "outputs": [],
   "source": [
    "def get_existing_chars(filename):\n",
    "    ttfont = TTFont(filename)\n",
    "    return list({chr(key) for table in ttfont['cmap'].tables for key in table.cmap.keys()})"
   ]
  },
  {
   "cell_type": "code",
   "execution_count": 3,
   "id": "61975ac5-137e-41f5-8423-08899a078513",
   "metadata": {
    "tags": []
   },
   "outputs": [],
   "source": [
    "def get_image(font, char, size=96):\n",
    "    img = Image.new('L', (500,500), 255)\n",
    "    \n",
    "    draw = ImageDraw.Draw(img)\n",
    "    draw.text((0,0), char, font=font)\n",
    "    \n",
    "    npimg = 255 - np.array(img)\n",
    "    wmin = npimg.sum(0).nonzero()[0].min()\n",
    "    wmax = npimg.sum(0).nonzero()[0].max()\n",
    "    hmin = npimg.sum(1).nonzero()[0].min()\n",
    "    hmax = npimg.sum(1).nonzero()[0].max()\n",
    "    \n",
    "    npimg = 255 - npimg[hmin:hmax+1,wmin:wmax+1]\n",
    "    \n",
    "    whdiff = (wmax-wmin) - (hmax-hmin)\n",
    "    wmargin = abs(whdiff) // 2 if whdiff < 0 else 0\n",
    "    hmargin = abs(whdiff) // 2 if whdiff >= 0 else 0\n",
    "\n",
    "    npimg = np.pad(npimg, ((hmargin, hmargin), (wmargin, wmargin)),\n",
    "                       'constant', constant_values=255)\n",
    "    img = Image.fromarray(npimg).resize((size, size), resample=Image.BILINEAR)\n",
    "    return img\n",
    "    "
   ]
  },
  {
   "cell_type": "code",
   "execution_count": 4,
   "id": "a17d66fa-b55d-495d-8057-935a1711b396",
   "metadata": {
    "tags": []
   },
   "outputs": [],
   "source": [
    "# utf-8\n",
    "def get_all_korean():\n",
    "    \n",
    "    def nextKorLetterFrom(letter):\n",
    "        lastLetterInt = 15572643\n",
    "        if not letter:\n",
    "            return '가'\n",
    "        a = letter\n",
    "        b = a.encode('utf8')\n",
    "        c = int(b.hex(), 16)\n",
    "\n",
    "        if c == lastLetterInt:\n",
    "            return False\n",
    "\n",
    "        d = hex(c + 1)\n",
    "        e = bytearray.fromhex(d[2:])\n",
    "\n",
    "        flag = True\n",
    "        while flag:\n",
    "            try:\n",
    "                r = e.decode('utf-8')\n",
    "                flag = False\n",
    "            except UnicodeDecodeError:\n",
    "                c = c+1\n",
    "                d = hex(c)\n",
    "                e = bytearray.fromhex(d[2:])\n",
    "        return e.decode()\n",
    "    \n",
    "    returns = []\n",
    "    flag = True\n",
    "    k = ''\n",
    "    while flag:\n",
    "        k = nextKorLetterFrom(k)\n",
    "        if k is False:\n",
    "            flag = False\n",
    "        else:\n",
    "            returns.append(k)\n",
    "    return returns\n",
    "    "
   ]
  },
  {
   "cell_type": "code",
   "execution_count": 5,
   "id": "0a8ecdc0-4203-4750-ad9d-d2fb83ec8400",
   "metadata": {
    "tags": []
   },
   "outputs": [],
   "source": [
    "ak = get_all_korean()"
   ]
  },
  {
   "cell_type": "code",
   "execution_count": 6,
   "id": "6e89cd17-0856-4306-a3cb-c0571034f1a8",
   "metadata": {
    "tags": []
   },
   "outputs": [
    {
     "data": {
      "text/plain": [
       "11172"
      ]
     },
     "execution_count": 6,
     "metadata": {},
     "output_type": "execute_result"
    }
   ],
   "source": [
    "len(ak)"
   ]
  },
  {
   "cell_type": "code",
   "execution_count": 7,
   "id": "9719b585-c73f-4056-b69a-08a5345992db",
   "metadata": {
    "tags": []
   },
   "outputs": [],
   "source": [
    "fd = \"data/r40202/ttfs/\"\n",
    "ttfs = [(fd+f, f.split(\".ttf\")[0]) for f in os.listdir(fd) if \".ttf\" in f]"
   ]
  },
  {
   "cell_type": "code",
   "execution_count": 8,
   "id": "bf6e1c5d-dbaa-494d-b068-daa74d946f0d",
   "metadata": {
    "tags": []
   },
   "outputs": [
    {
     "data": {
      "text/plain": [
       "('data/r40202/ttfs/UhBee Simple girl.ttf', 'UhBee Simple girl')"
      ]
     },
     "execution_count": 8,
     "metadata": {},
     "output_type": "execute_result"
    }
   ],
   "source": [
    "ttfs[0]"
   ]
  },
  {
   "cell_type": "code",
   "execution_count": 9,
   "id": "f66f443b-3962-44bb-a6f1-defa9fab9abf",
   "metadata": {
    "tags": []
   },
   "outputs": [],
   "source": [
    "png_fd = \"data/r40202/pngs/\""
   ]
  },
  {
   "cell_type": "code",
   "execution_count": 10,
   "id": "348414a4-51f4-42af-80ee-535968c85c91",
   "metadata": {
    "tags": []
   },
   "outputs": [
    {
     "name": "stderr",
     "output_type": "stream",
     "text": [
      " 12%|█▏        | 27/230 [02:27<17:08,  5.06s/it, files=48199, passed=253445]1 extra bytes in post.stringData array\n",
      " 23%|██▎       | 54/230 [05:02<15:00,  5.12s/it, files=98580, passed=504708]1 extra bytes in post.stringData array\n",
      " 51%|█████     | 117/230 [09:07<04:36,  2.45s/it, files=176989, passed=1130135]1 extra bytes in post.stringData array\n",
      "100%|██████████| 230/230 [19:49<00:00,  5.17s/it, files=373099, passed=2185289]\n"
     ]
    }
   ],
   "source": [
    "chardf = pd.DataFrame(ak)\n",
    "chardf.to_parquet(\"data/r40202/all_korean.parquet\")\n",
    "pbar = tqdm(range(117,len(ttfs)))\n",
    "c = 0\n",
    "for i in pbar:\n",
    "    ttf = ttfs[i]\n",
    "    filename = ttf[0]\n",
    "    try:\n",
    "        font = ImageFont.truetype(filename,255)\n",
    "        existing_chars = get_existing_chars(filename)\n",
    "        savepics = True\n",
    "    except:\n",
    "        savepics = False\n",
    "    if savepics:\n",
    "        for j in range(len(chardf)):\n",
    "            if not os.path.exists(png_fd+'%s__%s.png'%(ttf[1],str(j))):\n",
    "                char = chardf.iloc[j].values[0]\n",
    "                if char in existing_chars:\n",
    "                    try:\n",
    "                        img = get_image(font, char)\n",
    "                        with open(png_fd+'%s__%s.png'%(ttf[1],str(j)), \"wb\") as f:\n",
    "                            img.save(f, \"PNG\")\n",
    "                    except:\n",
    "                        # print(ttf[1], ttf[2], char)\n",
    "                        c += 1\n",
    "                else:\n",
    "                    c += 1\n",
    "    pbar.set_postfix(passed=str(c), files=str(len(os.listdir(png_fd))))"
   ]
  },
  {
   "cell_type": "code",
   "execution_count": 11,
   "id": "3eebcc58-b50d-4cf7-bdb4-76424ab8c2f4",
   "metadata": {
    "tags": []
   },
   "outputs": [
    {
     "name": "stdout",
     "output_type": "stream",
     "text": [
      "Arial 11172\n",
      "twice jihyo_4 11172\n",
      "twice tzuyu_4 11172\n",
      "twice sana_4 11172\n",
      "twice mina_4 11172\n",
      "Arial Unicode 11172\n",
      "twice momo_6 11172\n",
      "twice dahyun_4 11172\n",
      "gulim 11172\n",
      "AppleMyungjo 11172\n"
     ]
    }
   ],
   "source": [
    "all_pngs = [f for f in os.listdir(png_fd) if \".png\" in f]\n",
    "for t in ttfs:\n",
    "    n_letters = len([f for f in all_pngs if t[1] in f])\n",
    "    if n_letters > 10000:\n",
    "        print(t[1], n_letters)"
   ]
  },
  {
   "cell_type": "code",
   "execution_count": 28,
   "id": "195a3a5b-1e01-451b-bacb-ef528f41dfa9",
   "metadata": {
    "tags": []
   },
   "outputs": [],
   "source": [
    "ttfs[1]\n",
    "ttf = ttfs[1]\n",
    "filename = ttf[0]"
   ]
  },
  {
   "cell_type": "code",
   "execution_count": 29,
   "id": "8b4d0e51-7ebe-45c2-9a75-649559f4bec4",
   "metadata": {
    "tags": []
   },
   "outputs": [
    {
     "data": {
      "text/plain": [
       "'data/r40202/ttfs/NotoSansSundanese-Regular.ttf'"
      ]
     },
     "execution_count": 29,
     "metadata": {},
     "output_type": "execute_result"
    }
   ],
   "source": [
    "filename"
   ]
  },
  {
   "cell_type": "code",
   "execution_count": 30,
   "id": "72b583bb-f109-4e83-9e17-89670f4bb618",
   "metadata": {
    "tags": []
   },
   "outputs": [],
   "source": [
    "font = ImageFont.truetype(filename,255)\n",
    "existing_chars = get_existing_chars(filename)"
   ]
  },
  {
   "cell_type": "code",
   "execution_count": 38,
   "id": "86f78c84-906e-421c-8f40-ed2c9e1def1d",
   "metadata": {
    "tags": []
   },
   "outputs": [
    {
     "data": {
      "image/jpeg": "[encoded data removed]",
      "image/png": "[encoded data removed]",
      "text/plain": [
       "<PIL.Image.Image image mode=L size=96x96>"
      ]
     },
     "execution_count": 38,
     "metadata": {},
     "output_type": "execute_result"
    }
   ],
   "source": [
    "get_image(font, '바')"
   ]
  },
  {
   "cell_type": "code",
   "execution_count": 138,
   "id": "9dd3ad19-a510-4872-a32e-cb86ad88b4ef",
   "metadata": {
    "tags": []
   },
   "outputs": [
    {
     "data": {
      "image/jpeg": "[encoded data removed]",
      "image/png": "[encoded data removed]",
      "text/plain": [
       "<PIL.PngImagePlugin.PngImageFile image mode=L size=262x255>"
      ]
     },
     "execution_count": 138,
     "metadata": {},
     "output_type": "execute_result"
    }
   ],
   "source": [
    "img = Image.open(files[int(random.random()*len(files))])\n",
    "img"
   ]
  },
  {
   "cell_type": "code",
   "execution_count": 5,
   "id": "b3c9b0fa-f0dd-41db-9152-a92bb97b9c41",
   "metadata": {
    "tags": []
   },
   "outputs": [
    {
     "ename": "NameError",
     "evalue": "name 'img' is not defined",
     "output_type": "error",
     "traceback": [
      "\u001b[0;31m---------------------------------------------------------------------------\u001b[0m",
      "\u001b[0;31mNameError\u001b[0m                                 Traceback (most recent call last)",
      "Cell \u001b[0;32mIn[5], line 1\u001b[0m\n\u001b[0;32m----> 1\u001b[0m \u001b[43mimg\u001b[49m\n",
      "\u001b[0;31mNameError\u001b[0m: name 'img' is not defined"
     ]
    }
   ],
   "source": [
    "img"
   ]
  },
  {
   "cell_type": "code",
   "execution_count": 19,
   "id": "791c2a48-cc09-4faf-a0da-782012b20148",
   "metadata": {
    "tags": []
   },
   "outputs": [
    {
     "data": {
      "text/plain": [
       "'힣'"
      ]
     },
     "execution_count": 19,
     "metadata": {},
     "output_type": "execute_result"
    }
   ],
   "source": [
    "char"
   ]
  },
  {
   "cell_type": "code",
   "execution_count": 4,
   "id": "63c7e142-8bf8-4a51-a6ad-73bb544a6e6d",
   "metadata": {
    "tags": []
   },
   "outputs": [
    {
     "name": "stderr",
     "output_type": "stream",
     "text": [
      "100%|██████████| 59187/59187 [00:01<00:00, 50247.78it/s]\n"
     ]
    }
   ],
   "source": [
    "for p in tqdm(os.listdir(png_fd)):\n",
    "    try:\n",
    "        os.remove(png_fd+p)\n",
    "    except:\n",
    "        pass"
   ]
  },
  {
   "cell_type": "code",
   "execution_count": 12,
   "id": "4ffcc820-90b0-4a84-9d3e-371d3dc7e7ee",
   "metadata": {
    "tags": []
   },
   "outputs": [],
   "source": [
    "font = ImageFont.truetype(\"data/r40202/ttfs/gulim.ttf\",255)"
   ]
  },
  {
   "cell_type": "code",
   "execution_count": 13,
   "id": "376ec429-bb9c-48a3-b324-5bbfbe0e8670",
   "metadata": {
    "tags": []
   },
   "outputs": [],
   "source": [
    "img = get_image(font, ak[0])"
   ]
  },
  {
   "cell_type": "code",
   "execution_count": 14,
   "id": "46b6a69a-375e-424d-a9d6-a94a6f51d942",
   "metadata": {
    "tags": []
   },
   "outputs": [
    {
     "data": {
      "image/jpeg": "[encoded data removed]",
      "image/png": "[encoded data removed]",
      "text/plain": [
       "<PIL.Image.Image image mode=L size=96x96>"
      ]
     },
     "execution_count": 14,
     "metadata": {},
     "output_type": "execute_result"
    }
   ],
   "source": [
    "img"
   ]
  },
  {
   "cell_type": "code",
   "execution_count": 42,
   "id": "7ed6490b-2765-4fab-81a7-8a33372189fe",
   "metadata": {
    "tags": []
   },
   "outputs": [
    {
     "name": "stderr",
     "output_type": "stream",
     "text": [
      "100%|██████████| 526686/526686 [00:14<00:00, 36321.10it/s]\n"
     ]
    }
   ],
   "source": [
    "for p in tqdm(os.listdir(png_fd)):\n",
    "    os.remove(png_fd+p)"
   ]
  },
  {
   "cell_type": "code",
   "execution_count": null,
   "id": "a840fbe0-f6fa-4efd-b0c6-f718fbbdfb47",
   "metadata": {},
   "outputs": [],
   "source": []
  }
 ],
 "metadata": {
  "environment": {
   "kernel": "conda-root-py",
   "name": "workbench-notebooks.m115",
   "type": "gcloud",
   "uri": "gcr.io/deeplearning-platform-release/workbench-notebooks:m115"
  },
  "kernelspec": {
   "display_name": "Python 3 (ipykernel) (Local)",
   "language": "python",
   "name": "conda-root-py"
  },
  "language_info": {
   "codemirror_mode": {
    "name": "ipython",
    "version": 3
   },
   "file_extension": ".py",
   "mimetype": "text/x-python",
   "name": "python",
   "nbconvert_exporter": "python",
   "pygments_lexer": "ipython3",
   "version": "3.10.13"
  }
 },
 "nbformat": 4,
 "nbformat_minor": 5
}
