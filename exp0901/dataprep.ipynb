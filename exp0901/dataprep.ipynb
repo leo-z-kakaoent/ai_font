{
 "cells": [
  {
   "cell_type": "markdown",
   "id": "9d5e842a-be62-44f4-8749-0d55f4aacc3d",
   "metadata": {},
   "source": [
    "# Zip data and upload"
   ]
  },
  {
   "cell_type": "code",
   "execution_count": 2,
   "id": "6cce5ce8-3dd1-4354-8eac-acb81b3987fd",
   "metadata": {
    "tags": []
   },
   "outputs": [],
   "source": [
    "import os\n",
    "from PIL import Image"
   ]
  },
  {
   "cell_type": "code",
   "execution_count": 3,
   "id": "3849b0b7-612d-471c-8987-588da1f9fd69",
   "metadata": {
    "tags": []
   },
   "outputs": [],
   "source": [
    "fd = \"/home/jupyter/ai_font/data/exp0820/processed\""
   ]
  },
  {
   "cell_type": "code",
   "execution_count": 11,
   "id": "2c1da12a-9ea6-4440-b4a0-b298fd13fa5a",
   "metadata": {
    "tags": []
   },
   "outputs": [
    {
     "name": "stdout",
     "output_type": "stream",
     "text": [
      "File /home/jupyter/ai_font/data/exp0820/processed/train.zip uploaded to exp0901/data/train.zip.\n"
     ]
    }
   ],
   "source": [
    "import os\n",
    "import zipfile\n",
    "from google.cloud import storage\n",
    "\n",
    "def zip_folder(folder_path, zip_path):\n",
    "    \"\"\"Zip the folder into a .zip file.\"\"\"\n",
    "    with zipfile.ZipFile(zip_path, 'w', zipfile.ZIP_DEFLATED) as zipf:\n",
    "        for root, dirs, files in os.walk(folder_path):\n",
    "            for file in files:\n",
    "                file_path = os.path.join(root, file)\n",
    "                zipf.write(file_path, os.path.relpath(file_path, folder_path))\n",
    "\n",
    "def upload_to_gcs(bucket_name, source_file_name, destination_blob_name):\n",
    "    \"\"\"Uploads a file to the GCS bucket.\"\"\"\n",
    "    storage_client = storage.Client()\n",
    "    bucket = storage_client.bucket(bucket_name)\n",
    "    blob = bucket.blob(destination_blob_name)\n",
    "    blob.upload_from_filename(source_file_name)\n",
    "\n",
    "    print(f\"File {source_file_name} uploaded to {destination_blob_name}.\")\n",
    "\n",
    "    # Define paths and bucket name\n",
    "folder_to_zip = fd\n",
    "zip_file_path = f\"{fd}/train.zip\"\n",
    "bucket_name = 'leo_font'\n",
    "destination_blob_name = 'exp0901/data/train.zip'\n",
    "\n",
    "# Zip the folder\n",
    "zip_folder(folder_to_zip, zip_file_path)\n",
    "\n",
    "# Upload the zip file to GCS\n",
    "upload_to_gcs(bucket_name, zip_file_path, destination_blob_name)\n"
   ]
  },
  {
   "cell_type": "markdown",
   "id": "84262e9c-71cf-434d-addd-4c784faf5dd3",
   "metadata": {},
   "source": [
    "# Download data and Unzip"
   ]
  },
  {
   "cell_type": "code",
   "execution_count": 3,
   "id": "b0a44272-2ae1-4cb2-8cd8-d75671f4fd11",
   "metadata": {
    "tags": []
   },
   "outputs": [],
   "source": [
    "fd = \"/home/jupyter/ai_font/data/exp0901/processed\""
   ]
  },
  {
   "cell_type": "code",
   "execution_count": null,
   "id": "fdb3ea3d-953c-47e9-9bdf-f59c59d7daf7",
   "metadata": {
    "tags": []
   },
   "outputs": [
    {
     "name": "stdout",
     "output_type": "stream",
     "text": [
      "File exp0901/data/train.zip downloaded to /home/jupyter/ai_font/data/exp0901/processed/train.zip.\n",
      "Extracted all files to /home/jupyter/ai_font/data/exp0901/processed\n"
     ]
    }
   ],
   "source": [
    "import os\n",
    "import zipfile\n",
    "from google.cloud import storage\n",
    "\n",
    "def download_from_gcs(bucket_name, source_blob_name, destination_file_name):\n",
    "    \"\"\"Downloads a file from the GCS bucket.\"\"\"\n",
    "    storage_client = storage.Client()\n",
    "    bucket = storage_client.bucket(bucket_name)\n",
    "    blob = bucket.blob(source_blob_name)\n",
    "    blob.download_to_filename(destination_file_name)\n",
    "\n",
    "    print(f\"File {source_blob_name} downloaded to {destination_file_name}.\")\n",
    "\n",
    "def unzip_file(zip_path, extract_to_folder):\n",
    "    \"\"\"Unzips a .zip file to the specified folder.\"\"\"\n",
    "    with zipfile.ZipFile(zip_path, 'r') as zip_ref:\n",
    "        zip_ref.extractall(extract_to_folder)\n",
    "        print(f\"Extracted all files to {extract_to_folder}\")\n",
    "\n",
    "# Define paths and bucket name\n",
    "bucket_name = 'leo_font'\n",
    "zip_file_name_in_gcs = 'exp0901/data/train.zip'\n",
    "destination_zip_file = f\"{fd}/train.zip\"\n",
    "extract_to_folder = fd\n",
    "\n",
    "os.makedirs(fd, exist_ok=True)\n",
    "# Download the zip file from GCS\n",
    "download_from_gcs(bucket_name, zip_file_name_in_gcs, destination_zip_file)\n",
    "\n",
    "# Unzip the file to the specified folder\n",
    "unzip_file(destination_zip_file, extract_to_folder)\n"
   ]
  },
  {
   "cell_type": "code",
   "execution_count": null,
   "id": "f1f422b2-3a5e-4e1b-a8dd-95de4bfabe5f",
   "metadata": {},
   "outputs": [],
   "source": []
  }
 ],
 "metadata": {
  "environment": {
   "kernel": "conda-base-py",
   "name": "workbench-notebooks.m122",
   "type": "gcloud",
   "uri": "us-docker.pkg.dev/deeplearning-platform-release/gcr.io/workbench-notebooks:m122"
  },
  "kernelspec": {
   "display_name": "Python 3 (ipykernel) (Local) (Local)",
   "language": "python",
   "name": "conda-base-py"
  },
  "language_info": {
   "codemirror_mode": {
    "name": "ipython",
    "version": 3
   },
   "file_extension": ".py",
   "mimetype": "text/x-python",
   "name": "python",
   "nbconvert_exporter": "python",
   "pygments_lexer": "ipython3",
   "version": "3.10.14"
  }
 },
 "nbformat": 4,
 "nbformat_minor": 5
}
