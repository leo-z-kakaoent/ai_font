{
 "cells": [
  {
   "cell_type": "code",
   "execution_count": 1,
   "id": "cfa52984-a488-4a2f-89c7-68aaaccb8d55",
   "metadata": {
    "tags": []
   },
   "outputs": [],
   "source": [
    "import os\n",
    "import numpy as np\n",
    "from tqdm import tqdm\n",
    "from PIL import Image\n",
    "\n",
    "\n",
    "def get_all_korean():\n",
    "\n",
    "    def nextKorLetterFrom(letter):\n",
    "        lastLetterInt = 15572643\n",
    "        if not letter:\n",
    "            return '가'\n",
    "        a = letter\n",
    "        b = a.encode('utf8')\n",
    "        c = int(b.hex(), 16)\n",
    "\n",
    "        if c == lastLetterInt:\n",
    "            return False\n",
    "\n",
    "        d = hex(c + 1)\n",
    "        e = bytearray.fromhex(d[2:])\n",
    "\n",
    "        flag = True\n",
    "        while flag:\n",
    "            try:\n",
    "                r = e.decode('utf-8')\n",
    "                flag = False\n",
    "            except UnicodeDecodeError:\n",
    "                c = c+1\n",
    "                d = hex(c)\n",
    "                e = bytearray.fromhex(d[2:])\n",
    "        return e.decode()\n",
    "\n",
    "    returns = []\n",
    "    flag = True\n",
    "    k = ''\n",
    "    while flag:\n",
    "        k = nextKorLetterFrom(k)\n",
    "        if k is False:\n",
    "            flag = False\n",
    "        else:\n",
    "            returns.append(k)\n",
    "    return returns\n",
    "\n",
    "def merge_img(img0, img1, img2):\n",
    "    mmg = Image.new(\"L\", (128*2, 128*2), 255)\n",
    "    mmg.paste(img0, (0,0))\n",
    "    mmg.paste(img1, (128,0))\n",
    "    if img2 is not None:\n",
    "        mmg.paste(img2, (64,128))\n",
    "    return mmg.resize((96,96), Image.BILINEAR)\n",
    "\n",
    "def get_imgs(fd, font, tag, letter):\n",
    "    \n",
    "    ch1_list = ['ㄱ', 'ㄲ', 'ㄴ', 'ㄷ', 'ㄸ', 'ㄹ', 'ㅁ', 'ㅂ', 'ㅃ', 'ㅅ', 'ㅆ', 'ㅇ', 'ㅈ', 'ㅉ', 'ㅊ', 'ㅋ', 'ㅌ', 'ㅍ', 'ㅎ']\n",
    "    ch2_list = ['ㅏ', 'ㅐ', 'ㅑ', 'ㅒ', 'ㅓ', 'ㅔ', 'ㅕ', 'ㅖ', 'ㅗ', 'ㅘ', 'ㅙ', 'ㅚ', 'ㅛ', 'ㅜ', 'ㅝ', 'ㅞ', 'ㅟ', 'ㅠ', 'ㅡ', 'ㅢ', 'ㅣ']\n",
    "    ch3_list = [None, 'ㄱ', 'ㄲ', 'ㄳ', 'ㄴ', 'ㄵ', 'ㄶ', 'ㄷ', 'ㄹ', 'ㄺ', 'ㄻ', 'ㄼ', 'ㄽ', 'ㄾ', 'ㄿ', 'ㅀ', 'ㅁ', 'ㅂ', 'ㅄ', 'ㅅ', 'ㅆ', 'ㅇ', 'ㅈ', 'ㅊ', 'ㅋ', 'ㅌ', 'ㅍ', 'ㅎ']\n",
    "\n",
    "    \n",
    "    ch1 = (ord(letter) - ord('가'))//588\n",
    "    ch2 = ((ord(letter) - ord('가')) - (588*ch1)) // 28\n",
    "    ch3 = (ord(letter) - ord('가')) - (588*ch1) - 28*ch2\n",
    "\n",
    "    return (\n",
    "        Image.open(f\"{fd}/{font}/{font}__{tag}__{ch1_list[ch1]}.png\"),\n",
    "        Image.open(f\"{fd}/{font}/{font}__{tag}__{ch2_list[ch2]}.png\"),\n",
    "        None if ch3_list[ch3] is None else Image.open(f\"{fd}/{font}/{font}__{tag}__{ch3_list[ch3]}.png\"),\n",
    "    )"
   ]
  },
  {
   "cell_type": "code",
   "execution_count": 2,
   "id": "13d214ed-36ea-46f3-a383-0514f3120b6f",
   "metadata": {
    "tags": []
   },
   "outputs": [],
   "source": [
    "originalfd = \"/home/jupyter/ai_font/data/train\"\n",
    "partfd = \"/home/jupyter/ai_font/data/train_parts\"\n",
    "assemblefd = \"/home/jupyter/ai_font/data/train_assembled\"\n",
    "ak = get_all_korean()"
   ]
  },
  {
   "cell_type": "code",
   "execution_count": null,
   "id": "2a70fe64-67f0-47dd-b8e1-8c04c6f65321",
   "metadata": {
    "tags": []
   },
   "outputs": [
    {
     "name": "stderr",
     "output_type": "stream",
     "text": [
      "100%|██████████| 422/422 [2:48:43<00:00, 23.99s/it]  \n"
     ]
    }
   ],
   "source": [
    "for font in tqdm(os.listdir(partfd)):\n",
    "    os.makedirs(f\"{assemblefd}/{font}\", exist_ok=True)\n",
    "    for tag in ['closing','erode','dilate']:\n",
    "        for letter in ak:\n",
    "            if os.path.exists(f\"{originalfd}/{font}/{font}__{tag}__{letter}.png\"):\n",
    "                img0, img1, img2 = get_imgs(partfd, font, tag, letter)\n",
    "                img = merge_img(img0,img1,img2)\n",
    "                img.save(f\"{assemblefd}/{font}/{font}__{tag}__{letter}.png\")"
   ]
  },
  {
   "cell_type": "code",
   "execution_count": null,
   "id": "9d48844f-7c1d-4c91-850d-16eda597978b",
   "metadata": {
    "tags": []
   },
   "outputs": [],
   "source": [
    "a = get_imgs(\"/home/jupyter/ai_font/data/train_parts\", \"트와이스나연\", \"dilate\", \"량\")"
   ]
  },
  {
   "cell_type": "code",
   "execution_count": null,
   "id": "a0ff323c-fbbb-4b72-aecf-7e9b0d08cb62",
   "metadata": {
    "tags": []
   },
   "outputs": [
    {
     "data": {
      "image/jpeg": "[encoded data removed]",
      "image/png": "[encoded data removed]",
      "text/plain": [
       "<PIL.Image.Image image mode=L size=96x96>"
      ]
     },
     "execution_count": 5,
     "metadata": {},
     "output_type": "execute_result"
    }
   ],
   "source": [
    "merge_img(a[0], a[1], a[2])"
   ]
  },
  {
   "cell_type": "code",
   "execution_count": null,
   "id": "8a1bacdd-7745-440a-8628-d1983c1bae44",
   "metadata": {
    "tags": []
   },
   "outputs": [
    {
     "data": {
      "image/jpeg": "[encoded data removed]",
      "image/png": "[encoded data removed]",
      "text/plain": [
       "<PIL.PngImagePlugin.PngImageFile image mode=L size=128x128>"
      ]
     },
     "execution_count": 6,
     "metadata": {},
     "output_type": "execute_result"
    }
   ],
   "source": [
    "a[1]"
   ]
  },
  {
   "cell_type": "code",
   "execution_count": 17,
   "id": "06cf0c7e-6f15-44df-a080-c552dea26155",
   "metadata": {
    "tags": []
   },
   "outputs": [
    {
     "data": {
      "image/jpeg": "[encoded data removed]",
      "image/png": "[encoded data removed]",
      "text/plain": [
       "<PIL.PngImagePlugin.PngImageFile image mode=L size=128x128>"
      ]
     },
     "execution_count": 17,
     "metadata": {},
     "output_type": "execute_result"
    }
   ],
   "source": [
    "a[2]"
   ]
  },
  {
   "cell_type": "code",
   "execution_count": null,
   "id": "fe1922c7-05ab-4945-a5be-f4b2f6c8ddf5",
   "metadata": {},
   "outputs": [],
   "source": []
  }
 ],
 "metadata": {
  "environment": {
   "kernel": "conda-base-py",
   "name": "workbench-notebooks.m122",
   "type": "gcloud",
   "uri": "us-docker.pkg.dev/deeplearning-platform-release/gcr.io/workbench-notebooks:m122"
  },
  "kernelspec": {
   "display_name": "Python 3 (ipykernel) (Local)",
   "language": "python",
   "name": "conda-base-py"
  },
  "language_info": {
   "codemirror_mode": {
    "name": "ipython",
    "version": 3
   },
   "file_extension": ".py",
   "mimetype": "text/x-python",
   "name": "python",
   "nbconvert_exporter": "python",
   "pygments_lexer": "ipython3",
   "version": "3.10.14"
  }
 },
 "nbformat": 4,
 "nbformat_minor": 5
}
