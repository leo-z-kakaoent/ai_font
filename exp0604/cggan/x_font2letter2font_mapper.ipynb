{
 "cells": [
  {
   "cell_type": "code",
   "execution_count": 3,
   "id": "33cb5ed2-fec1-4f81-bf65-11cac6eab60a",
   "metadata": {
    "tags": []
   },
   "outputs": [],
   "source": [
    "import pandas as pd\n",
    "from collections import defaultdict\n",
    "\n",
    "path = \"/home/jupyter/ai_font/data\"\n",
    "\n",
    "font_mapper = pd.read_pickle(f\"{path}/pickle/font_mapper.pickle\")"
   ]
  },
  {
   "cell_type": "code",
   "execution_count": 6,
   "id": "9b98edc0-7eeb-45cd-8b6d-4018be35f7aa",
   "metadata": {
    "tags": []
   },
   "outputs": [
    {
     "data": {
      "text/plain": [
       "Index(['교보 손글씨 2019', '교보 손글씨 2020 박도연',\n",
       "       '교보 손글씨 2021 성지영', '교보 손글씨 2022 김혜남',\n",
       "       '교보 손글씨 2023 우선아', '나눔손글씨 가람연꽃',\n",
       "       '나눔손글씨 갈맷글', '나눔손글씨 강부장님체',\n",
       "       '나눔손글씨 강인한 위로', '나눔손글씨 고딕 아니고 고딩',\n",
       "       ...\n",
       "       '프리젠테이션-9Black', '프리텐다드 가는체',\n",
       "       '프리텐다드 매우가는체', '프리텐다드 볼드체',\n",
       "       '프리텐다드 블랙체', '프리텐다드 세미볼드체',\n",
       "       '프리텐다드 얇은체', '프리텐다드 엑스트라볼드체',\n",
       "       '프리텐다드 일반체', '프리텐다드 중간체'],\n",
       "      dtype='object', length=407)"
      ]
     },
     "execution_count": 6,
     "metadata": {},
     "output_type": "execute_result"
    }
   ],
   "source": [
    "font_mapper.index"
   ]
  },
  {
   "cell_type": "code",
   "execution_count": 7,
   "id": "15a62acb-30a2-498c-a8f3-54fd8d92576a",
   "metadata": {
    "tags": []
   },
   "outputs": [],
   "source": [
    "# transpose the mapper\n",
    "letter_mapper = defaultdict(set)\n",
    "for font in font_mapper.index:\n",
    "    available_letters = font_mapper.loc[font]\n",
    "    for l in available_letters:\n",
    "        letter_mapper[l].add(font)"
   ]
  },
  {
   "cell_type": "code",
   "execution_count": 13,
   "id": "5d57d9ff-22a3-4663-aa74-a10a82c92b89",
   "metadata": {
    "tags": []
   },
   "outputs": [],
   "source": [
    "letter_mapper = {k:sorted(list(v)) for k,v in letter_mapper.items()}"
   ]
  },
  {
   "cell_type": "code",
   "execution_count": 16,
   "id": "80a3cdc3-74d8-49c1-887b-56e9a2fce92d",
   "metadata": {
    "tags": []
   },
   "outputs": [],
   "source": [
    "pd.Series(letter_mapper).to_pickle(f\"{path}/pickle/letter2font.pickle\")"
   ]
  },
  {
   "cell_type": "code",
   "execution_count": 17,
   "id": "2c08edc6-566b-49ab-8366-c9b3f5611ae7",
   "metadata": {
    "tags": []
   },
   "outputs": [],
   "source": [
    "a = ['a','b']"
   ]
  },
  {
   "cell_type": "code",
   "execution_count": 19,
   "id": "3b046c11-cc5c-4072-b4d9-344e505efdb1",
   "metadata": {
    "tags": []
   },
   "outputs": [],
   "source": [
    "letter_mapper_a = pd.read_pickle(f\"{path}/pickle/letter_mapper_a.pickle\")\n",
    "letter_mapper_b = pd.read_pickle(f\"{path}/pickle/letter_mapper_b.pickle\")"
   ]
  },
  {
   "cell_type": "code",
   "execution_count": 21,
   "id": "0d288de0-7942-4db7-b4d6-7c510b7ddbb6",
   "metadata": {
    "tags": []
   },
   "outputs": [],
   "source": [
    "letter_mapper_ab = letter_mapper_a.similar + letter_mapper_b.similar"
   ]
  },
  {
   "cell_type": "code",
   "execution_count": 29,
   "id": "22b5a25f-560f-4aea-a9cd-3112f15c5044",
   "metadata": {
    "tags": []
   },
   "outputs": [
    {
     "data": {
      "text/plain": [
       "'갂'"
      ]
     },
     "execution_count": 29,
     "metadata": {},
     "output_type": "execute_result"
    }
   ],
   "source": [
    "import random\n",
    "\n",
    "random.choice(list(set(letter_mapper_ab['가']).intersection(set(letter_mapper_ab['각']))))"
   ]
  },
  {
   "cell_type": "code",
   "execution_count": null,
   "id": "c1b85573-143d-41e0-80bd-fd435382cf68",
   "metadata": {},
   "outputs": [],
   "source": []
  }
 ],
 "metadata": {
  "environment": {
   "kernel": "conda-env-pytorch-pytorch",
   "name": "workbench-notebooks.m121",
   "type": "gcloud",
   "uri": "us-docker.pkg.dev/deeplearning-platform-release/gcr.io/workbench-notebooks:m121"
  },
  "kernelspec": {
   "display_name": "PyTorch 1-13 (Local)",
   "language": "python",
   "name": "conda-env-pytorch-pytorch"
  },
  "language_info": {
   "codemirror_mode": {
    "name": "ipython",
    "version": 3
   },
   "file_extension": ".py",
   "mimetype": "text/x-python",
   "name": "python",
   "nbconvert_exporter": "python",
   "pygments_lexer": "ipython3",
   "version": "3.10.14"
  }
 },
 "nbformat": 4,
 "nbformat_minor": 5
}
