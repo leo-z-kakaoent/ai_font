{
 "cells": [
  {
   "cell_type": "code",
   "execution_count": 5,
   "id": "e7f2e2c3-d82a-4773-ad61-eb04f5700564",
   "metadata": {
    "tags": []
   },
   "outputs": [],
   "source": [
    "import os\n",
    "import shutil\n",
    "from tqdm import tqdm"
   ]
  },
  {
   "cell_type": "code",
   "execution_count": 6,
   "id": "a38f54d1-4e72-4cc1-b9c9-7d9fbca9f771",
   "metadata": {
    "tags": []
   },
   "outputs": [],
   "source": [
    "fd = \"/home/jupyter/ai_font/data/train\""
   ]
  },
  {
   "cell_type": "code",
   "execution_count": 3,
   "id": "c0910141-95e2-4854-9662-5b6660271761",
   "metadata": {
    "tags": []
   },
   "outputs": [],
   "source": [
    "files = [f for f in os.listdir(f\"{fd}/pngs\") if f.endswith(\".png\")]"
   ]
  },
  {
   "cell_type": "code",
   "execution_count": null,
   "id": "e0f882f5-17c9-4047-9122-ea99e5b2cc98",
   "metadata": {
    "tags": []
   },
   "outputs": [
    {
     "name": "stderr",
     "output_type": "stream",
     "text": [
      " 94%|█████████▍| 7079369/7526789 [15:51<00:27, 16354.58it/s] "
     ]
    }
   ],
   "source": [
    "for f in tqdm(files):\n",
    "    font, tag, letter = f.replace(\".png\",\"\").split(\"__\")\n",
    "    os.makedirs(f\"{fd}/{font}\", exist_ok=True)\n",
    "    shutil.move(f\"{fd}/pngs/{f}\", f\"{fd}/{font}/{f}\")"
   ]
  },
  {
   "cell_type": "code",
   "execution_count": null,
   "id": "d13cafff-79d7-4080-afa0-5611bfe2e59d",
   "metadata": {},
   "outputs": [],
   "source": []
  }
 ],
 "metadata": {
  "environment": {
   "kernel": "conda-base-py",
   "name": "workbench-notebooks.m121",
   "type": "gcloud",
   "uri": "us-docker.pkg.dev/deeplearning-platform-release/gcr.io/workbench-notebooks:m121"
  },
  "kernelspec": {
   "display_name": "Python 3 (ipykernel) (Local)",
   "language": "python",
   "name": "conda-base-py"
  },
  "language_info": {
   "codemirror_mode": {
    "name": "ipython",
    "version": 3
   },
   "file_extension": ".py",
   "mimetype": "text/x-python",
   "name": "python",
   "nbconvert_exporter": "python",
   "pygments_lexer": "ipython3",
   "version": "3.10.14"
  }
 },
 "nbformat": 4,
 "nbformat_minor": 5
}
