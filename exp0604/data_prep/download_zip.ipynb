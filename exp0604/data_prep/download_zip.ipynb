{
 "cells": [
  {
   "cell_type": "code",
   "execution_count": 1,
   "id": "f4600b2c-896c-4b92-bbbc-a6441dd94145",
   "metadata": {
    "tags": []
   },
   "outputs": [],
   "source": [
    "import os\n",
    "from tqdm import tqdm\n",
    "from google.cloud import storage\n",
    "\n",
    "def download_files_from_folder(bucket_name, bucketfd, localfd, filename):\n",
    "    \"\"\"Download all files from a folder in a Google Cloud Storage bucket.\"\"\"\n",
    "    # Initialize a client\n",
    "    client = storage.Client()\n",
    "    # Get the bucket\n",
    "    bucket = client.bucket(bucket_name)\n",
    "    blob = bucket.blob(f\"{bucketfd}/{filename}\")\n",
    "    blob.download_to_filename(f\"{localfd}/{filename}\")"
   ]
  },
  {
   "cell_type": "code",
   "execution_count": 2,
   "id": "e77c8d40-0e19-4e4f-bcb0-5fd1a2a65e0e",
   "metadata": {
    "tags": []
   },
   "outputs": [],
   "source": [
    "bucket_name = \"leo_font\"\n",
    "bucketfd = \"zipfiles\"\n",
    "filename = \"train_dataset.zip\"\n",
    "localfd = \"/home/jupyter/ai_font/data\"\n",
    "\n",
    "os.makedirs(localfd, exist_ok=True)\n",
    "download_files_from_folder(bucket_name, bucketfd, localfd, filename)"
   ]
  },
  {
   "cell_type": "code",
   "execution_count": 3,
   "id": "5db87ca7-f3e9-4289-aa9c-67643fcf0cb0",
   "metadata": {
    "tags": []
   },
   "outputs": [],
   "source": [
    "import zipfile\n",
    "zipfile.ZipFile(f\"{localfd}/{filename}\").extractall(f\"{localfd}\")"
   ]
  },
  {
   "cell_type": "code",
   "execution_count": null,
   "id": "45e13e56-7766-42b0-aa7d-04c22142aabd",
   "metadata": {},
   "outputs": [],
   "source": []
  }
 ],
 "metadata": {
  "environment": {
   "kernel": "conda-env-pytorch-pytorch",
   "name": "workbench-notebooks.m122",
   "type": "gcloud",
   "uri": "us-docker.pkg.dev/deeplearning-platform-release/gcr.io/workbench-notebooks:m122"
  },
  "kernelspec": {
   "display_name": "PyTorch 1-13 (Local)",
   "language": "python",
   "name": "conda-env-pytorch-pytorch"
  },
  "language_info": {
   "codemirror_mode": {
    "name": "ipython",
    "version": 3
   },
   "file_extension": ".py",
   "mimetype": "text/x-python",
   "name": "python",
   "nbconvert_exporter": "python",
   "pygments_lexer": "ipython3",
   "version": "3.10.14"
  }
 },
 "nbformat": 4,
 "nbformat_minor": 5
}
