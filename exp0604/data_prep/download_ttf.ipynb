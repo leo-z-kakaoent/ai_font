{
 "cells": [
  {
   "cell_type": "code",
   "execution_count": 1,
   "id": "f4600b2c-896c-4b92-bbbc-a6441dd94145",
   "metadata": {
    "tags": []
   },
   "outputs": [],
   "source": [
    "import os\n",
    "from tqdm import tqdm\n",
    "from google.cloud import storage\n",
    "\n",
    "def download_files_from_folder(bucket_name, folder_path, local_dir):\n",
    "    \"\"\"Download all files from a folder in a Google Cloud Storage bucket.\"\"\"\n",
    "    # Initialize a client\n",
    "    client = storage.Client()\n",
    "    # Get the bucket\n",
    "    bucket = client.bucket(bucket_name)\n",
    "    # List all blobs (files) in the specified folder\n",
    "    blobs = bucket.list_blobs(prefix=folder_path)\n",
    "    # Download each blob to the local directory\n",
    "    os.makedirs(local_dir,exist_ok=True)\n",
    "    pbar = tqdm(blobs)\n",
    "    for blob in pbar:\n",
    "        if \".ttf\" in blob.name:\n",
    "            # Construct the local file path\n",
    "            local_file_path = f\"{local_dir}/{blob.name.split('/')[-1]}\"\n",
    "            # Ensure the directory exists\n",
    "            local_file_dir = '/'.join(local_file_path.split('/')[:-1])\n",
    "            os.makedirs(local_file_dir, exist_ok=True)\n",
    "            # Download the blob to the local file\n",
    "            if local_file_path not in os.listdir(local_file_dir):\n",
    "                blob.download_to_filename(local_file_path)\n",
    "                pbar.set_postfix(file=local_file_path)"
   ]
  },
  {
   "cell_type": "code",
   "execution_count": 2,
   "id": "e77c8d40-0e19-4e4f-bcb0-5fd1a2a65e0e",
   "metadata": {},
   "outputs": [
    {
     "name": "stderr",
     "output_type": "stream",
     "text": [
      "413it [05:14,  1.31it/s, file=/home/jupyter/ai_font/data/train_ttfs/프리텐다드 중간체.ttf]                          \n"
     ]
    }
   ],
   "source": [
    "bucket_name = \"leo_font\"\n",
    "folder_path = \"train_ttfs\"\n",
    "local_dir = \"/home/jupyter/ai_font/data/train_ttfs\"\n",
    "\n",
    "download_files_from_folder(bucket_name, folder_path, local_dir)"
   ]
  },
  {
   "cell_type": "code",
   "execution_count": 3,
   "id": "633ee58e-d7b3-4ffa-8f91-0e4f2e2b064c",
   "metadata": {
    "tags": []
   },
   "outputs": [
    {
     "name": "stderr",
     "output_type": "stream",
     "text": [
      "15it [00:16,  1.11s/it, file=/home/jupyter/ai_font/data/train_ttfs/트와이스 채영.ttf]                  \n"
     ]
    }
   ],
   "source": [
    "bucket_name = \"leo_font\"\n",
    "folder_path = \"test_ttfs\"\n",
    "local_dir = \"/home/jupyter/ai_font/data/train_ttfs\"\n",
    "\n",
    "download_files_from_folder(bucket_name, folder_path, local_dir)"
   ]
  },
  {
   "cell_type": "code",
   "execution_count": null,
   "id": "5db87ca7-f3e9-4289-aa9c-67643fcf0cb0",
   "metadata": {},
   "outputs": [],
   "source": []
  }
 ],
 "metadata": {
  "environment": {
   "kernel": "conda-env-pytorch-pytorch",
   "name": "workbench-notebooks.m121",
   "type": "gcloud",
   "uri": "us-docker.pkg.dev/deeplearning-platform-release/gcr.io/workbench-notebooks:m121"
  },
  "kernelspec": {
   "display_name": "PyTorch 1-13 (Local)",
   "language": "python",
   "name": "conda-env-pytorch-pytorch"
  },
  "language_info": {
   "codemirror_mode": {
    "name": "ipython",
    "version": 3
   },
   "file_extension": ".py",
   "mimetype": "text/x-python",
   "name": "python",
   "nbconvert_exporter": "python",
   "pygments_lexer": "ipython3",
   "version": "3.10.14"
  }
 },
 "nbformat": 4,
 "nbformat_minor": 5
}
