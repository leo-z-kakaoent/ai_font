{
 "cells": [
  {
   "cell_type": "code",
   "execution_count": 1,
   "id": "c3cbc62f-58f3-4502-9331-27d6e7ff969e",
   "metadata": {
    "tags": []
   },
   "outputs": [],
   "source": [
    "import os\n",
    "import pickle\n",
    "import numpy as np\n",
    "import pandas as pd\n",
    "import cv2\n",
    "from collections import defaultdict\n",
    "from tqdm import tqdm\n",
    "from fontTools.ttLib import TTFont\n",
    "from PIL import Image, ImageDraw, ImageFont"
   ]
  },
  {
   "cell_type": "code",
   "execution_count": 2,
   "id": "6f6e3155-5d4f-4557-bede-b2ae40835790",
   "metadata": {
    "tags": []
   },
   "outputs": [],
   "source": [
    "def get_existing_chars(filename):\n",
    "    ttfont = TTFont(filename)\n",
    "    return list({chr(key) for table in ttfont['cmap'].tables for key in table.cmap.keys()})\n",
    "\n",
    "def get_image(font, char, size=128):\n",
    "    img = Image.new('L', (1000,1000), 255)\n",
    "\n",
    "    draw = ImageDraw.Draw(img)\n",
    "    draw.text((200,200), char, font=font)\n",
    "\n",
    "    npimg = 255 - np.array(img)\n",
    "    wmin = npimg.sum(0).nonzero()[0].min()\n",
    "    wmax = npimg.sum(0).nonzero()[0].max()\n",
    "    hmin = npimg.sum(1).nonzero()[0].min()\n",
    "    hmax = npimg.sum(1).nonzero()[0].max()\n",
    "\n",
    "    npimg = 255 - npimg[hmin:hmax+1,wmin:wmax+1]\n",
    "\n",
    "    whdiff = (wmax-wmin) - (hmax-hmin)\n",
    "    wmargin = abs(whdiff) // 2 if whdiff < 0 else 0\n",
    "    hmargin = abs(whdiff) // 2 if whdiff >= 0 else 0\n",
    "\n",
    "    npimg = np.pad(npimg, ((hmargin, hmargin), (wmargin, wmargin)),\n",
    "                       'constant', constant_values=255)\n",
    "    img = Image.fromarray(npimg)\n",
    "    \n",
    "    return img"
   ]
  },
  {
   "cell_type": "code",
   "execution_count": 4,
   "id": "3c033b28-dff4-4700-807c-f79a4e2bccfc",
   "metadata": {
    "tags": []
   },
   "outputs": [],
   "source": [
    "ak += \"ㄱㄲㄴㄷㄸㄹㅁㅂㅃㅅㅆㅇㅈㅉㅊㅋㅌㅍㅎㅏㅐㅑㅒㅓㅔㅕㅖㅗㅘㅙㅚㅛㅜㅝㅞㅟㅠㅡㅢㅣㄳㄵㄶㄺㄻㄼㄽㄾㄿㅀㅄ\""
   ]
  },
  {
   "cell_type": "code",
   "execution_count": 8,
   "id": "6cbb8e0e-7d59-468d-a4e6-0a998dc0b376",
   "metadata": {
    "tags": []
   },
   "outputs": [],
   "source": [
    "ttffd = \"/home/jupyter/ai_font/data/train_ttfs\"\n",
    "fd = \"/home/jupyter/ai_font/data/train/\"\n",
    "\n",
    "fontfiles = sorted([(f.replace(\".ttf\",\"\"), f\"{ttffd}/{f}\") for f in os.listdir(ttffd) if f.endswith(\".ttf\")])"
   ]
  },
  {
   "cell_type": "code",
   "execution_count": 9,
   "id": "d8cc399f-1396-4517-892f-ac6d5fe4402f",
   "metadata": {
    "tags": []
   },
   "outputs": [
    {
     "name": "stderr",
     "output_type": "stream",
     "text": [
      "100%|██████████| 428/428 [05:41<00:00,  1.25it/s, font=프리젠테이션-9Black, n_files=2830/2831]           \n"
     ]
    }
   ],
   "source": [
    "font_size = 100\n",
    "pbar = tqdm([f for i,f in enumerate(fontfiles)])\n",
    "for fontname, filename in pbar:\n",
    "\n",
    "    font = ImageFont.truetype(filename,font_size)\n",
    "    existing_chars = get_existing_chars(filename)\n",
    "    iter_chars = list(set(existing_chars).intersection(set(ak)))\n",
    "\n",
    "    if len(os.listdir(f\"{fd}/{fontname}\")) < (3*len(iter_chars)):\n",
    "        img_dict = {}\n",
    "        for l in iter_chars:\n",
    "            try:\n",
    "                img_dict[l] = get_image(font, l)\n",
    "            except:\n",
    "                pass\n",
    "        if len(img_dict) > 0:\n",
    "            max_size = 0\n",
    "            for k,v in img_dict.items():\n",
    "                size = v.size\n",
    "                if max(size) > max_size:\n",
    "                    max_size = max(size)\n",
    "            ratio = 127/max_size\n",
    "            savecount = 0\n",
    "            for k,v in img_dict.items():\n",
    "                # imgpath = f\"{pngfd}/{fontname}__{tag}__{k}.png\"\n",
    "                img = resize_with_padding(v, ratio, 128)\n",
    "                imgs = augmenting(img)\n",
    "                imgs['closing'].save(f\"{fd}/{fontname}/{fontname}__closing__{k}.png\")\n",
    "                imgs['erode'].save(f\"{fd}/{fontname}/{fontname}__erode__{k}.png\")\n",
    "                imgs['dilate'].save(f\"{fd}/{fontname}/{fontname}__dilate__{k}.png\")\n",
    "\n",
    "                pbar.set_postfix(n_files=f\"{savecount}/{len(img_dict)}\", font=fontname)\n",
    "                savecount += 1"
   ]
  },
  {
   "cell_type": "code",
   "execution_count": null,
   "id": "3a9e6739-fd6b-4e2e-985f-ad8edb7faf63",
   "metadata": {
    "tags": []
   },
   "outputs": [
    {
     "ename": "NameError",
     "evalue": "name 'pngfd' is not defined",
     "output_type": "error",
     "traceback": [
      "\u001b[0;31m---------------------------------------------------------------------------\u001b[0m",
      "\u001b[0;31mNameError\u001b[0m                                 Traceback (most recent call last)",
      "Cell \u001b[0;32mIn[9], line 1\u001b[0m\n\u001b[0;32m----> 1\u001b[0m \u001b[38;5;28mlen\u001b[39m(os\u001b[38;5;241m.\u001b[39mlistdir(\u001b[43mpngfd\u001b[49m))\n",
      "\u001b[0;31mNameError\u001b[0m: name 'pngfd' is not defined"
     ]
    }
   ],
   "source": [
    "len(os.listdir(pngfd))"
   ]
  },
  {
   "cell_type": "code",
   "execution_count": null,
   "id": "36f21cdc-0054-4aad-99cc-de2612d465a3",
   "metadata": {},
   "outputs": [],
   "source": [
    "aa"
   ]
  }
 ],
 "metadata": {
  "environment": {
   "kernel": "conda-base-py",
   "name": "workbench-notebooks.m122",
   "type": "gcloud",
   "uri": "us-docker.pkg.dev/deeplearning-platform-release/gcr.io/workbench-notebooks:m122"
  },
  "kernelspec": {
   "display_name": "Python 3 (ipykernel) (Local)",
   "language": "python",
   "name": "conda-base-py"
  },
  "language_info": {
   "codemirror_mode": {
    "name": "ipython",
    "version": 3
   },
   "file_extension": ".py",
   "mimetype": "text/x-python",
   "name": "python",
   "nbconvert_exporter": "python",
   "pygments_lexer": "ipython3",
   "version": "3.10.14"
  }
 },
 "nbformat": 4,
 "nbformat_minor": 5
}
