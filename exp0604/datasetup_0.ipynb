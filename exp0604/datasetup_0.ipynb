{
 "cells": [
  {
   "cell_type": "code",
   "execution_count": 2,
   "id": "02ad6e48-bdd3-4942-b87f-0f2284fcce99",
   "metadata": {
    "tags": []
   },
   "outputs": [],
   "source": [
    "import os\n",
    "import zipfile\n",
    "import shutil\n",
    "\n",
    "import pandas as pd\n",
    "\n",
    "from tqdm import tqdm\n",
    "from PIL import Image, ImageDraw, ImageFont\n",
    "from fontTools.ttLib import TTFont\n",
    "from google.cloud import storage"
   ]
  },
  {
   "cell_type": "code",
   "execution_count": 38,
   "id": "77b024dd-e417-4d63-b26e-d61375c0a200",
   "metadata": {
    "tags": []
   },
   "outputs": [],
   "source": [
    "fromfd = \"/home/jupyter/ai_font/data/pickle\"\n",
    "tofd = \"/home/jupyter/ai_font/data/exp0604/pickle\""
   ]
  },
  {
   "cell_type": "code",
   "execution_count": 40,
   "id": "36e3d842-1aca-4bd9-bb52-b9dc2976a45d",
   "metadata": {
    "tags": []
   },
   "outputs": [],
   "source": [
    "for f in os.listdir(fromfd):\n",
    "    shutil.copy(f\"{fromfd}/{f}\", f\"{tofd}/{f}\")"
   ]
  },
  {
   "cell_type": "code",
   "execution_count": null,
   "id": "d397517a-d933-4f85-ae36-0ddeb72a0617",
   "metadata": {
    "tags": []
   },
   "outputs": [
    {
     "name": "stderr",
     "output_type": "stream",
     "text": [
      "100%|██████████| 2569554/2569554 [22:58<00:00, 1863.93it/s] \n"
     ]
    }
   ],
   "source": [
    "fromfd = \"/home/jupyter/ai_font/data/train/pngs\"\n",
    "tofd = \"/home/jupyter/ai_font/data/exp0604/train/pngs\"\n",
    "for f in tqdm(os.listdir(fromfd)):\n",
    "    shutil.copy(f\"{fromfd}/{f}\", f\"{tofd}/{f}\")"
   ]
  },
  {
   "cell_type": "code",
   "execution_count": null,
   "id": "c80a75ad-670b-43ea-9efd-467bf8c95e18",
   "metadata": {
    "tags": []
   },
   "outputs": [
    {
     "name": "stderr",
     "output_type": "stream",
     "text": [
      "100%|██████████| 413/413 [00:06<00:00, 59.88it/s]\n"
     ]
    }
   ],
   "source": [
    "fromfd = \"/home/jupyter/ai_font/data/train_ttfs\"\n",
    "tofd = \"/home/jupyter/ai_font/data/exp0604/train/ttfs\"\n",
    "for f in tqdm(os.listdir(fromfd)):\n",
    "    shutil.copy(f\"{fromfd}/{f}\", f\"{tofd}/{f}\")"
   ]
  },
  {
   "cell_type": "code",
   "execution_count": null,
   "id": "3764d58d-3055-425e-a142-a7c00c3fde00",
   "metadata": {
    "tags": []
   },
   "outputs": [
    {
     "name": "stderr",
     "output_type": "stream",
     "text": [
      "100%|██████████| 230563/230563 [01:38<00:00, 2332.94it/s]\n"
     ]
    }
   ],
   "source": [
    "fromfd = \"/home/jupyter/ai_font/data/test/pngs\"\n",
    "tofd = \"/home/jupyter/ai_font/data/exp0604/test/pngs\"\n",
    "for f in tqdm(os.listdir(fromfd)):\n",
    "    shutil.copy(f\"{fromfd}/{f}\", f\"{tofd}/{f}\")"
   ]
  },
  {
   "cell_type": "code",
   "execution_count": null,
   "id": "91de823f-6f10-4ffc-bfa3-33d09a536842",
   "metadata": {
    "tags": []
   },
   "outputs": [
    {
     "name": "stderr",
     "output_type": "stream",
     "text": [
      "100%|██████████| 15/15 [00:00<00:00, 56.36it/s]\n"
     ]
    }
   ],
   "source": [
    "fromfd = \"/home/jupyter/ai_font/data/test_ttfs\"\n",
    "tofd = \"/home/jupyter/ai_font/data/exp0604/test/ttfs\"\n",
    "for f in tqdm(os.listdir(fromfd)):\n",
    "    shutil.copy(f\"{fromfd}/{f}\", f\"{tofd}/{f}\")"
   ]
  },
  {
   "cell_type": "code",
   "execution_count": 11,
   "id": "abed799b-f51b-49fb-b350-ec283dfe0d28",
   "metadata": {
    "tags": []
   },
   "outputs": [],
   "source": [
    "import os\n",
    "import zipfile\n",
    "\n",
    "def zip_folders(folder_paths, zip_filename):\n",
    "    with zipfile.ZipFile(zip_filename, 'w', zipfile.ZIP_DEFLATED) as zipf:\n",
    "        for folder_path in folder_paths:\n",
    "            for root, _, files in os.walk(folder_path):\n",
    "                for file in files:\n",
    "                    file_path = os.path.join(root, file)\n",
    "                    # Calculate the relative path to the file inside the zip\n",
    "                    rel_path = os.path.relpath(file_path, os.path.dirname(folder_path))\n",
    "                    zipf.write(file_path, rel_path)"
   ]
  },
  {
   "cell_type": "code",
   "execution_count": 14,
   "id": "4bb0b55f-533d-4244-ba4d-fbaaf2087ad4",
   "metadata": {
    "tags": []
   },
   "outputs": [],
   "source": [
    "folders = [\n",
    "    \"/home/jupyter/ai_font/data/exp0604/train\",\n",
    "    \"/home/jupyter/ai_font/data/exp0604/test\",\n",
    "    \"/home/jupyter/ai_font/data/exp0604/pickle\",\n",
    "]\n",
    "zip_folders(folders, \"/home/jupyter/ai_font/data/exp0604/exp0604_ds_0.zip\")"
   ]
  },
  {
   "cell_type": "code",
   "execution_count": 15,
   "id": "b73c2fba-a6fa-4930-817f-4550c16dfe74",
   "metadata": {
    "tags": []
   },
   "outputs": [],
   "source": [
    "from google.cloud import storage\n",
    "\n",
    "def upload_to_bucket(bucket_name, source_file_name, destination_blob_name):\n",
    "    \"\"\"Uploads a file to a Google Cloud Storage bucket.\"\"\"\n",
    "    # Initialize a client\n",
    "    storage_client = storage.Client()\n",
    "    \n",
    "    # Get the bucket\n",
    "    bucket = storage_client.bucket(bucket_name)\n",
    "    \n",
    "    # Upload the file\n",
    "    blob = bucket.blob(destination_blob_name)\n",
    "    blob.upload_from_filename(source_file_name)\n",
    "    \n",
    "    print(f\"File {source_file_name} uploaded to {bucket_name} as {destination_blob_name}\")"
   ]
  },
  {
   "cell_type": "code",
   "execution_count": 16,
   "id": "88878d3a-40fc-45da-af53-198915477109",
   "metadata": {
    "tags": []
   },
   "outputs": [
    {
     "name": "stdout",
     "output_type": "stream",
     "text": [
      "File /home/jupyter/ai_font/data/exp0604/exp0604_ds_0.zip uploaded to leo_font as zipfiles/exp0604_ds_0.zip\n"
     ]
    }
   ],
   "source": [
    "upload_to_bucket(\"leo_font\", \"/home/jupyter/ai_font/data/exp0604/exp0604_ds_0.zip\", \"zipfiles/exp0604_ds_0.zip\")"
   ]
  },
  {
   "cell_type": "code",
   "execution_count": null,
   "id": "ee0d8cd6-4c21-49aa-8707-f66e9b24ff66",
   "metadata": {},
   "outputs": [],
   "source": []
  }
 ],
 "metadata": {
  "environment": {
   "kernel": "conda-base-py",
   "name": "workbench-notebooks.m121",
   "type": "gcloud",
   "uri": "us-docker.pkg.dev/deeplearning-platform-release/gcr.io/workbench-notebooks:m121"
  },
  "kernelspec": {
   "display_name": "Python 3 (ipykernel) (Local)",
   "language": "python",
   "name": "conda-base-py"
  },
  "language_info": {
   "codemirror_mode": {
    "name": "ipython",
    "version": 3
   },
   "file_extension": ".py",
   "mimetype": "text/x-python",
   "name": "python",
   "nbconvert_exporter": "python",
   "pygments_lexer": "ipython3",
   "version": "3.10.14"
  }
 },
 "nbformat": 4,
 "nbformat_minor": 5
}
