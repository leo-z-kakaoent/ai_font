{
 "cells": [
  {
   "cell_type": "code",
   "execution_count": 1,
   "id": "9645b6bd-aaa4-4321-97a1-2e1533281852",
   "metadata": {
    "tags": []
   },
   "outputs": [],
   "source": [
    "import os\n",
    "import time\n",
    "import cv2\n",
    "import numpy as np\n",
    "from tqdm import tqdm\n",
    "from PIL import Image"
   ]
  },
  {
   "cell_type": "code",
   "execution_count": null,
   "id": "d95dd971-b72a-45e9-899f-958a9d0c951f",
   "metadata": {},
   "outputs": [],
   "source": [
    "def resize_with_padding(img, ratio, new_size, padding_color=255):\n",
    "    # Open the image\n",
    "    # Get the new dimensions based on the ratio\n",
    "    new_width = int(img.width * ratio)\n",
    "    new_height = int(img.height * ratio)\n",
    "    \n",
    "    # Resize the image using the new dimensions\n",
    "    resized_img = img.resize((new_width, new_height), Image.BILINEAR)\n",
    "    \n",
    "    # Create a new blank image with padding\n",
    "    padded_img = Image.new(\"L\", (new_size, new_size), padding_color)\n",
    "    \n",
    "    # Calculate the position to paste the resized image\n",
    "    left = (padded_img.width - resized_img.width) // 2\n",
    "    top = (padded_img.height - resized_img.height) // 2\n",
    "    right = left + resized_img.width\n",
    "    bottom = top + resized_img.height\n",
    "    \n",
    "    # Paste the resized image onto the blank image\n",
    "    padded_img.paste(resized_img, (left, top, right, bottom))\n",
    "    \n",
    "    return padded_img\n",
    "\n",
    "def get_unpadded_borders(img):\n",
    "    kernel = cv2.getStructuringElement(cv2.MORPH_RECT,(3,3))\n",
    "    processed = cv2.morphologyEx(np.array(img), cv2.MORPH_CLOSE, kernel)\n",
    "    npimg = 255 - np.array(processed)\n",
    "    npimg[np.where(npimg < 16)] = 0\n",
    "    wmin = npimg.sum(0).nonzero()[0].min()\n",
    "    wmax = npimg.sum(0).nonzero()[0].max()\n",
    "    hmin = npimg.sum(1).nonzero()[0].min()\n",
    "    hmax = npimg.sum(1).nonzero()[0].max()\n",
    "    return wmin, wmax, hmin, hmax\n",
    "\n",
    "def augmenting(img):\n",
    "    img = np.array(img)\n",
    "    kernel = cv2.getStructuringElement(cv2.MORPH_RECT,(2,2))\n",
    "\n",
    "    blurred = cv2.GaussianBlur(img, (3, 3), 0)\n",
    "    processed = cv2.morphologyEx(blurred, cv2.MORPH_CLOSE, kernel)\n",
    "    closing = Image.fromarray(processed)\n",
    "    # err = cv2.erode(processed, kernel)\n",
    "    # erode = Image.fromarray(err)\n",
    "    # dil = cv2.dilate(processed, kernel)\n",
    "    # dilate = Image.fromarray(dil)\n",
    "    return {\n",
    "        \"closing\": closing,\n",
    "        # \"erode\": erode,\n",
    "        # \"dilate\":dilate,\n",
    "    }"
   ]
  }
 ],
 "metadata": {
  "environment": {
   "kernel": "conda-base-py",
   "name": "workbench-notebooks.m122",
   "type": "gcloud",
   "uri": "us-docker.pkg.dev/deeplearning-platform-release/gcr.io/workbench-notebooks:m122"
  },
  "kernelspec": {
   "display_name": "Python 3 (ipykernel) (Local)",
   "language": "python",
   "name": "conda-base-py"
  },
  "language_info": {
   "codemirror_mode": {
    "name": "ipython",
    "version": 3
   },
   "file_extension": ".py",
   "mimetype": "text/x-python",
   "name": "python",
   "nbconvert_exporter": "python",
   "pygments_lexer": "ipython3",
   "version": "3.10.14"
  }
 },
 "nbformat": 4,
 "nbformat_minor": 5
}
