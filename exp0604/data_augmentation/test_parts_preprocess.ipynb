{
 "cells": [
  {
   "cell_type": "code",
   "execution_count": 1,
   "id": "0131272d-93f8-40fd-81e5-19363be53bae",
   "metadata": {
    "tags": []
   },
   "outputs": [],
   "source": [
    "import os\n",
    "import time\n",
    "import cv2\n",
    "import numpy as np\n",
    "from tqdm import tqdm\n",
    "from PIL import Image"
   ]
  },
  {
   "cell_type": "code",
   "execution_count": 2,
   "id": "96ceb48a-b8cb-42f7-9d25-e1c58a06f0ef",
   "metadata": {
    "tags": []
   },
   "outputs": [],
   "source": [
    "def resize_with_padding(img, ratio, new_size, padding_color=255):\n",
    "    # Open the image\n",
    "    # Get the new dimensions based on the ratio\n",
    "    new_width = int(img.width * ratio)\n",
    "    new_height = int(img.height * ratio)\n",
    "    \n",
    "    # Resize the image using the new dimensions\n",
    "    resized_img = img.resize((new_width, new_height), Image.BILINEAR)\n",
    "    \n",
    "    # Create a new blank image with padding\n",
    "    padded_img = Image.new(\"L\", (new_size, new_size), padding_color)\n",
    "    \n",
    "    # Calculate the position to paste the resized image\n",
    "    left = (padded_img.width - resized_img.width) // 2\n",
    "    top = (padded_img.height - resized_img.height) // 2\n",
    "    right = left + resized_img.width\n",
    "    bottom = top + resized_img.height\n",
    "    \n",
    "    # Paste the resized image onto the blank image\n",
    "    padded_img.paste(resized_img, (left, top, right, bottom))\n",
    "    \n",
    "    return padded_img\n",
    "\n",
    "def augmenting(img):\n",
    "    img = np.array(img)\n",
    "    kernel = cv2.getStructuringElement(cv2.MORPH_RECT,(2,2))\n",
    "\n",
    "    blurred = cv2.GaussianBlur(img, (3, 3), 0)\n",
    "    processed = cv2.morphologyEx(blurred, cv2.MORPH_CLOSE, kernel)\n",
    "    closing = Image.fromarray(processed)\n",
    "    # err = cv2.erode(processed, kernel)\n",
    "    # erode = Image.fromarray(err)\n",
    "    # dil = cv2.dilate(processed, kernel)\n",
    "    # dilate = Image.fromarray(dil)\n",
    "    return {\n",
    "        \"closing\": closing,\n",
    "        # \"erode\": erode,\n",
    "        # \"dilate\":dilate,\n",
    "    }"
   ]
  },
  {
   "cell_type": "code",
   "execution_count": 4,
   "id": "1f24bf3d-4cf0-4eab-9897-b8d6e7664101",
   "metadata": {
    "tags": []
   },
   "outputs": [],
   "source": [
    "font = \"플레이브밤비\"\n",
    "fd = \"/home/jupyter/ai_font/data/test_parts\"\n",
    "f = \"ㄱㄱ.png\""
   ]
  },
  {
   "cell_type": "code",
   "execution_count": 16,
   "id": "da6fd020-33a9-4387-bb3e-40ea7fd89fd8",
   "metadata": {
    "tags": []
   },
   "outputs": [],
   "source": [
    "for f in os.listdir(f\"{fd}/{font}\"):\n",
    "    if f.endswith(\".png\"):\n",
    "        path = f\"{fd}/{font}/{f}\"\n",
    "        img = Image.open(path).convert(\"L\")\n",
    "        closing = augmenting(img)['closing']\n",
    "        closing.save(f\"{fd}/{font}/{font}__closing__{f}\")"
   ]
  },
  {
   "cell_type": "code",
   "execution_count": 15,
   "id": "3ad69c25-f5e0-45a4-b646-bc2fc933e326",
   "metadata": {
    "tags": []
   },
   "outputs": [
    {
     "data": {
      "text/plain": [
       "'플레이브밤비'"
      ]
     },
     "execution_count": 15,
     "metadata": {},
     "output_type": "execute_result"
    }
   ],
   "source": [
    "f"
   ]
  },
  {
   "cell_type": "code",
   "execution_count": null,
   "id": "068e4cc0-ae69-405e-876d-269de6c7479f",
   "metadata": {},
   "outputs": [],
   "source": []
  }
 ],
 "metadata": {
  "environment": {
   "kernel": "conda-base-py",
   "name": "workbench-notebooks.m122",
   "type": "gcloud",
   "uri": "us-docker.pkg.dev/deeplearning-platform-release/gcr.io/workbench-notebooks:m122"
  },
  "kernelspec": {
   "display_name": "Python 3 (ipykernel) (Local)",
   "language": "python",
   "name": "conda-base-py"
  },
  "language_info": {
   "codemirror_mode": {
    "name": "ipython",
    "version": 3
   },
   "file_extension": ".py",
   "mimetype": "text/x-python",
   "name": "python",
   "nbconvert_exporter": "python",
   "pygments_lexer": "ipython3",
   "version": "3.10.14"
  }
 },
 "nbformat": 4,
 "nbformat_minor": 5
}
