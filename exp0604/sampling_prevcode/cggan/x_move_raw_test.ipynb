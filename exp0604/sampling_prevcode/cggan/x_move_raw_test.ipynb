{
 "cells": [
  {
   "cell_type": "code",
   "execution_count": 31,
   "id": "8a516294-54bd-443d-be24-e813248edcc3",
   "metadata": {
    "tags": []
   },
   "outputs": [],
   "source": [
    "import os\n",
    "import shutil\n",
    "import unicodedata\n",
    "import copy\n",
    "\n",
    "import pandas as pd\n",
    "from tqdm import tqdm"
   ]
  },
  {
   "cell_type": "code",
   "execution_count": 3,
   "id": "a168c239-5776-4dfe-a9a9-0c801dc96d62",
   "metadata": {
    "tags": []
   },
   "outputs": [],
   "source": [
    "fromfd = \"/home/jupyter/ai_font/data/exp0604/raw/카엔플린\"\n",
    "tofd = \"/home/jupyter/ai_font/data/exp0604/test/pngs\""
   ]
  },
  {
   "cell_type": "code",
   "execution_count": 6,
   "id": "c70c4a00-547e-40d9-8ade-fb08b5e2f7b7",
   "metadata": {
    "tags": []
   },
   "outputs": [],
   "source": [
    "files = [f for f in os.listdir(fromfd) if f.endswith(\".png\")]\n",
    "for f in files:\n",
    "    frompath = f\"{fromfd}/{f}\"\n",
    "    f = unicodedata.normalize(\"NFC\", f)\n",
    "    topath = f\"{tofd}/카엔플린__{f}\"\n",
    "    shutil.copy(frompath, topath)"
   ]
  },
  {
   "cell_type": "code",
   "execution_count": 7,
   "id": "3677557a-0fd8-40c0-8c21-9959f9e464b4",
   "metadata": {
    "tags": []
   },
   "outputs": [],
   "source": [
    "# Create testmap"
   ]
  },
  {
   "cell_type": "code",
   "execution_count": 10,
   "id": "192befb6-9935-4248-9cd8-7964f8f37f3b",
   "metadata": {
    "tags": []
   },
   "outputs": [],
   "source": [
    "def get_lexicon(letter):\n",
    "    ch1 = (ord(letter) - ord('가'))//588\n",
    "    ch2 = ((ord(letter) - ord('가')) - (588*ch1)) // 28\n",
    "    ch3 = (ord(letter) - ord('가')) - (588*ch1) - 28*ch2\n",
    "    # lengths = [19,21,28]\n",
    "    return ch1, ch2, ch3\n",
    "\n",
    "def get_all_korean():\n",
    "\n",
    "    def nextKorLetterFrom(letter):\n",
    "        lastLetterInt = 15572643\n",
    "        if not letter:\n",
    "            return '가'\n",
    "        a = letter\n",
    "        b = a.encode('utf8')\n",
    "        c = int(b.hex(), 16)\n",
    "\n",
    "        if c == lastLetterInt:\n",
    "            return False\n",
    "\n",
    "        d = hex(c + 1)\n",
    "        e = bytearray.fromhex(d[2:])\n",
    "\n",
    "        flag = True\n",
    "        while flag:\n",
    "            try:\n",
    "                r = e.decode('utf-8')\n",
    "                flag = False\n",
    "            except UnicodeDecodeError:\n",
    "                c = c+1\n",
    "                d = hex(c)\n",
    "                e = bytearray.fromhex(d[2:])\n",
    "        return e.decode()\n",
    "\n",
    "    returns = []\n",
    "    flag = True\n",
    "    k = ''\n",
    "    while flag:\n",
    "        k = nextKorLetterFrom(k)\n",
    "        if k is False:\n",
    "            flag = False\n",
    "        else:\n",
    "            returns.append(k)\n",
    "    return returns\n"
   ]
  },
  {
   "cell_type": "code",
   "execution_count": 11,
   "id": "cc8e7fc6-8729-4769-b9cc-f65fc761f219",
   "metadata": {
    "tags": []
   },
   "outputs": [],
   "source": [
    "ak = get_all_korean()"
   ]
  },
  {
   "cell_type": "code",
   "execution_count": 13,
   "id": "3dd9f287-5061-4c78-9f3f-9477b2639fac",
   "metadata": {
    "tags": []
   },
   "outputs": [],
   "source": [
    "listdf = []\n",
    "for k in ak:\n",
    "    c1, c2, c3 = get_lexicon(k)\n",
    "    listdf.append({\n",
    "        \"letter\": k,\n",
    "        \"초성\": c1,\n",
    "        \"중성\": c2,\n",
    "        \"종성\": c3,\n",
    "    })"
   ]
  },
  {
   "cell_type": "code",
   "execution_count": 17,
   "id": "74cfd8cb-1939-4ed6-b2e1-20da7ad5693b",
   "metadata": {
    "tags": []
   },
   "outputs": [],
   "source": [
    "akdf = pd.DataFrame().from_dict(listdf)"
   ]
  },
  {
   "cell_type": "code",
   "execution_count": 18,
   "id": "22abbb62-8f99-4abc-aa05-1731cae66ec9",
   "metadata": {
    "tags": []
   },
   "outputs": [],
   "source": [
    "akdf.index = akdf.letter"
   ]
  },
  {
   "cell_type": "code",
   "execution_count": 19,
   "id": "7fd99154-a523-4ece-9b6e-be7db1b2940b",
   "metadata": {
    "tags": []
   },
   "outputs": [
    {
     "data": {
      "text/html": [
       "<div>\n",
       "<style scoped>\n",
       "    .dataframe tbody tr th:only-of-type {\n",
       "        vertical-align: middle;\n",
       "    }\n",
       "\n",
       "    .dataframe tbody tr th {\n",
       "        vertical-align: top;\n",
       "    }\n",
       "\n",
       "    .dataframe thead th {\n",
       "        text-align: right;\n",
       "    }\n",
       "</style>\n",
       "<table border=\"1\" class=\"dataframe\">\n",
       "  <thead>\n",
       "    <tr style=\"text-align: right;\">\n",
       "      <th></th>\n",
       "      <th>letter</th>\n",
       "      <th>초성</th>\n",
       "      <th>중성</th>\n",
       "      <th>종성</th>\n",
       "    </tr>\n",
       "    <tr>\n",
       "      <th>letter</th>\n",
       "      <th></th>\n",
       "      <th></th>\n",
       "      <th></th>\n",
       "      <th></th>\n",
       "    </tr>\n",
       "  </thead>\n",
       "  <tbody>\n",
       "    <tr>\n",
       "      <th>가</th>\n",
       "      <td>가</td>\n",
       "      <td>0</td>\n",
       "      <td>0</td>\n",
       "      <td>0</td>\n",
       "    </tr>\n",
       "    <tr>\n",
       "      <th>각</th>\n",
       "      <td>각</td>\n",
       "      <td>0</td>\n",
       "      <td>0</td>\n",
       "      <td>1</td>\n",
       "    </tr>\n",
       "    <tr>\n",
       "      <th>갂</th>\n",
       "      <td>갂</td>\n",
       "      <td>0</td>\n",
       "      <td>0</td>\n",
       "      <td>2</td>\n",
       "    </tr>\n",
       "    <tr>\n",
       "      <th>갃</th>\n",
       "      <td>갃</td>\n",
       "      <td>0</td>\n",
       "      <td>0</td>\n",
       "      <td>3</td>\n",
       "    </tr>\n",
       "    <tr>\n",
       "      <th>간</th>\n",
       "      <td>간</td>\n",
       "      <td>0</td>\n",
       "      <td>0</td>\n",
       "      <td>4</td>\n",
       "    </tr>\n",
       "    <tr>\n",
       "      <th>...</th>\n",
       "      <td>...</td>\n",
       "      <td>...</td>\n",
       "      <td>...</td>\n",
       "      <td>...</td>\n",
       "    </tr>\n",
       "    <tr>\n",
       "      <th>힟</th>\n",
       "      <td>힟</td>\n",
       "      <td>18</td>\n",
       "      <td>20</td>\n",
       "      <td>23</td>\n",
       "    </tr>\n",
       "    <tr>\n",
       "      <th>힠</th>\n",
       "      <td>힠</td>\n",
       "      <td>18</td>\n",
       "      <td>20</td>\n",
       "      <td>24</td>\n",
       "    </tr>\n",
       "    <tr>\n",
       "      <th>힡</th>\n",
       "      <td>힡</td>\n",
       "      <td>18</td>\n",
       "      <td>20</td>\n",
       "      <td>25</td>\n",
       "    </tr>\n",
       "    <tr>\n",
       "      <th>힢</th>\n",
       "      <td>힢</td>\n",
       "      <td>18</td>\n",
       "      <td>20</td>\n",
       "      <td>26</td>\n",
       "    </tr>\n",
       "    <tr>\n",
       "      <th>힣</th>\n",
       "      <td>힣</td>\n",
       "      <td>18</td>\n",
       "      <td>20</td>\n",
       "      <td>27</td>\n",
       "    </tr>\n",
       "  </tbody>\n",
       "</table>\n",
       "<p>11172 rows × 4 columns</p>\n",
       "</div>"
      ],
      "text/plain": [
       "       letter  초성  중성  종성\n",
       "letter                   \n",
       "가           가   0   0   0\n",
       "각           각   0   0   1\n",
       "갂           갂   0   0   2\n",
       "갃           갃   0   0   3\n",
       "간           간   0   0   4\n",
       "...       ...  ..  ..  ..\n",
       "힟           힟  18  20  23\n",
       "힠           힠  18  20  24\n",
       "힡           힡  18  20  25\n",
       "힢           힢  18  20  26\n",
       "힣           힣  18  20  27\n",
       "\n",
       "[11172 rows x 4 columns]"
      ]
     },
     "execution_count": 19,
     "metadata": {},
     "output_type": "execute_result"
    }
   ],
   "source": [
    "akdf"
   ]
  },
  {
   "cell_type": "markdown",
   "id": "7899fb86-0266-487c-8a8d-4772c348a07c",
   "metadata": {
    "tags": []
   },
   "source": [
    "### 유사한 글자 찾기 우선순위\n",
    "\n",
    "1. 초성과 중성이 같은 글자\n",
    "2. 중성과 종성이 같은 글자\n",
    "3. 초성과 종성이 같은 글자\n",
    "\n",
    "1~3을 교차로 배치한다\n",
    "\n",
    "4. 초성 같은 글자\n",
    "5. 중성 같은 글자\n",
    "6. 종성 같은 글자\n",
    "\n",
    "4~6을 교차로 배치한다\n"
   ]
  },
  {
   "cell_type": "code",
   "execution_count": 35,
   "id": "9a121697-f9b7-4532-8d56-42017417caaa",
   "metadata": {
    "tags": []
   },
   "outputs": [
    {
     "name": "stderr",
     "output_type": "stream",
     "text": [
      "100%|██████████| 11172/11172 [00:17<00:00, 628.05it/s]\n",
      "100%|██████████| 11172/11172 [01:01<00:00, 180.40it/s]\n"
     ]
    }
   ],
   "source": [
    "fd = \"/home/jupyter/ai_font/data/exp0604/test/pngs\"\n",
    "for d in tqdm(listdf):\n",
    "    similar = list()\n",
    "    l1 = akdf.loc[(akdf['초성']==d['초성'])&(akdf['중성']==d['중성'])].letter.values\n",
    "    l2 = akdf.loc[(akdf['중성']==d['중성'])&(akdf['종성']==d['종성'])].letter.values\n",
    "    l3 = akdf.loc[(akdf['초성']==d['초성'])&(akdf['종성']==d['종성'])].letter.values\n",
    "    iterlen = max([len(l1),len(l2),len(l3)])\n",
    "    for i in range(iterlen):\n",
    "        if i < len(l1):\n",
    "            path1 = f\"{fd}/카엔플린__{l1[i]}.png\"\n",
    "            if os.path.exists(path1) & (l1[i]!=d['letter']):\n",
    "                similar.append(l1[i])\n",
    "                # print(l1[i])\n",
    "        if i < len(l2):\n",
    "            path2 = f\"{fd}/카엔플린__{l2[i]}.png\"\n",
    "            if os.path.exists(path2) & (l2[i]!=d['letter']):\n",
    "                similar.append(l2[i])\n",
    "                # print(l2[i])\n",
    "        if i < len(l3):\n",
    "            path3 = f\"{fd}/카엔플린__{l3[i]}.png\"\n",
    "            if os.path.exists(path3) & (l3[i]!=d['letter']):\n",
    "                similar.append(l3[i])\n",
    "                # print(l3[i])\n",
    "    d[\"similar\"] = copy.deepcopy(similar)\n",
    "    \n",
    "for d in tqdm(listdf):\n",
    "    similar = list()\n",
    "    l1 = akdf.loc[(akdf['초성']==d['초성'])].letter.values\n",
    "    l2 = akdf.loc[(akdf['중성']==d['중성'])].letter.values\n",
    "    l3 = akdf.loc[(akdf['종성']==d['종성'])].letter.values\n",
    "    iterlen = max([len(l1),len(l2),len(l3)])\n",
    "    for i in range(iterlen):\n",
    "        if i < len(l1):\n",
    "            path1 = f\"{fd}/카엔플린__{l1[i]}.png\"\n",
    "            if os.path.exists(path1) & (l1[i]!=d['letter']):\n",
    "                similar.append(l1[i])\n",
    "                # print(l1[i])\n",
    "        if i < len(l2):\n",
    "            path2 = f\"{fd}/카엔플린__{l2[i]}.png\"\n",
    "            if os.path.exists(path2) & (l2[i]!=d['letter']):\n",
    "                similar.append(l2[i])\n",
    "                # print(l2[i])\n",
    "        if i < len(l3):\n",
    "            path3 = f\"{fd}/카엔플린__{l3[i]}.png\"\n",
    "            if os.path.exists(path3) & (l3[i]!=d['letter']):\n",
    "                similar.append(l3[i])\n",
    "                # print(l3[i])\n",
    "    d[\"similar\"] += copy.deepcopy(similar)\n",
    "    \n"
   ]
  },
  {
   "cell_type": "code",
   "execution_count": 37,
   "id": "e9ae5138-d32a-4d88-8020-d3546a85fab5",
   "metadata": {
    "tags": []
   },
   "outputs": [],
   "source": [
    "pd.DataFrame().from_dict(listdf).to_pickle(\"/home/jupyter/ai_font/data/exp0604/pickle/카엔플린_testmap.pickle\")"
   ]
  },
  {
   "cell_type": "code",
   "execution_count": null,
   "id": "f4bb803c-d7f6-407a-9f34-1380b1e126cf",
   "metadata": {},
   "outputs": [],
   "source": []
  }
 ],
 "metadata": {
  "environment": {
   "kernel": "conda-base-py",
   "name": "workbench-notebooks.m121",
   "type": "gcloud",
   "uri": "us-docker.pkg.dev/deeplearning-platform-release/gcr.io/workbench-notebooks:m121"
  },
  "kernelspec": {
   "display_name": "Python 3 (ipykernel) (Local)",
   "language": "python",
   "name": "conda-base-py"
  },
  "language_info": {
   "codemirror_mode": {
    "name": "ipython",
    "version": 3
   },
   "file_extension": ".py",
   "mimetype": "text/x-python",
   "name": "python",
   "nbconvert_exporter": "python",
   "pygments_lexer": "ipython3",
   "version": "3.10.14"
  }
 },
 "nbformat": 4,
 "nbformat_minor": 5
}
