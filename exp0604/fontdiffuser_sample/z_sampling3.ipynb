{
 "cells": [
  {
   "cell_type": "code",
   "execution_count": 7,
   "id": "2595ab4d-c2b9-4040-9705-4c38573ab8ce",
   "metadata": {
    "tags": []
   },
   "outputs": [],
   "source": [
    "import math\n",
    "import os\n",
    "from tqdm.auto import tqdm\n",
    "\n",
    "import torch\n",
    "import torch.nn.functional as F\n",
    "from torchvision import transforms\n",
    "from torch.utils.data import DataLoader\n",
    "\n",
    "from diffusers.optimization import get_scheduler\n",
    "from google.cloud import storage\n",
    "\n",
    "from y_sample_dataset3 import SamplingDataset\n",
    "\n",
    "from model import FontDiffuserModel, FontDiffuserModelDPM, FontDiffuserDPMPipeline\n",
    "from build import build_unet, build_style_encoder, build_content_encoder, build_ddpm_scheduler\n",
    "from args import SampleArgs\n",
    "from utils import x0_from_epsilon, reNormalize_img, normalize_mean_std, save_model, load_model"
   ]
  },
  {
   "cell_type": "code",
   "execution_count": 8,
   "id": "863491f1-717e-444c-8d39-d4035c1f6e00",
   "metadata": {
    "tags": []
   },
   "outputs": [
    {
     "name": "stdout",
     "output_type": "stream",
     "text": [
      "Load the down block  DownBlock2D\n",
      "Load the down block  MCADownBlock2D\n",
      "The style_attention cross attention dim in Down Block 1 layer is 1024\n",
      "The style_attention cross attention dim in Down Block 2 layer is 1024\n",
      "Load the down block  MCADownBlock2D\n",
      "The style_attention cross attention dim in Down Block 1 layer is 1024\n",
      "The style_attention cross attention dim in Down Block 2 layer is 1024\n",
      "Load the down block  DownBlock2D\n",
      "Load the up block  UpBlock2D\n",
      "Load the up block  StyleRSIUpBlock2D\n",
      "Load the up block  StyleRSIUpBlock2D\n",
      "Load the up block  UpBlock2D\n",
      "Param count for Ds initialized parameters: 20591296\n",
      "Get CG-GAN Style Encoder!\n",
      "Param count for Ds initialized parameters: 1187008\n",
      "Get CG-GAN Content Encoder!\n"
     ]
    }
   ],
   "source": [
    "args = SampleArgs(itern=str(0))\n",
    "unet = build_unet(args=args)\n",
    "style_encoder = build_style_encoder(args=args)\n",
    "content_encoder = build_content_encoder(args=args)\n",
    "noise_scheduler = build_ddpm_scheduler(args)\n",
    "storage_client = storage.Client(args.bucket_name)\n",
    "bucket = storage_client.bucket(args.bucket_name)"
   ]
  },
  {
   "cell_type": "code",
   "execution_count": 9,
   "id": "11bd1c68-2fc1-436b-bb06-16e48710f108",
   "metadata": {
    "tags": []
   },
   "outputs": [],
   "source": [
    "savefd = f\"/home/jupyter/ai_font/data/reports/exp0604/fontdiffuser_handcut\"\n",
    "os.makedirs(savefd, exist_ok=True)"
   ]
  },
  {
   "cell_type": "code",
   "execution_count": 10,
   "id": "dcdef530-ed30-4927-aa0c-b6a03d85ee01",
   "metadata": {
    "tags": []
   },
   "outputs": [],
   "source": [
    "target_font = \"플레이브밤비\"\n",
    "dataset = SamplingDataset(args, target_font=target_font)\n",
    "loader = DataLoader(dataset, batch_size=args.batchsize, shuffle=False, drop_last=False)"
   ]
  },
  {
   "cell_type": "code",
   "execution_count": null,
   "id": "87e62fb3-46e9-42ca-93ad-469d3e7cdda5",
   "metadata": {
    "tags": []
   },
   "outputs": [
    {
     "data": {
      "application/vnd.jupyter.widget-view+json": {
       "model_id": "8f572364574a4f28bd2836ddaed3a265",
       "version_major": 2,
       "version_minor": 0
      },
      "text/plain": [
       "  0%|          | 0/333 [00:00<?, ?it/s]"
      ]
     },
     "metadata": {},
     "output_type": "display_data"
    }
   ],
   "source": [
    "itern = 30000\n",
    "args = SampleArgs(itern=str(itern))\n",
    "content_encoder.load_state_dict(load_model(bucket, args.content_encoder_path))\n",
    "style_encoder.load_state_dict(load_model(bucket, args.style_encoder_path))\n",
    "unet.load_state_dict(load_model(bucket, args.unet_path))\n",
    "\n",
    "model = FontDiffuserModelDPM(\n",
    "    unet=unet,\n",
    "    style_encoder=style_encoder,\n",
    "    content_encoder=content_encoder)\n",
    "\n",
    "model = model.cuda()\n",
    "\n",
    "train_scheduler = build_ddpm_scheduler(args=args)\n",
    "\n",
    "pipe = FontDiffuserDPMPipeline(\n",
    "        model=model,\n",
    "        ddpm_train_scheduler=train_scheduler,\n",
    "        model_type=args.model_type,\n",
    "        guidance_type=args.guidance_type,\n",
    "        guidance_scale=args.guidance_scale,\n",
    "    )\n",
    "\n",
    "# model.eval() \n",
    "results = []\n",
    "pbar = tqdm(loader)\n",
    "for data in pbar:\n",
    "    content_image = data['content_img'].cuda()\n",
    "    style_image = data['style_img'].cuda()\n",
    "    contents = data['content']\n",
    "\n",
    "    images = pipe.generate(\n",
    "        content_images=content_image,\n",
    "        style_images=style_image,\n",
    "        batch_size=content_image.shape[0],\n",
    "        order=args.order,\n",
    "        num_inference_step=args.num_inference_steps,\n",
    "        content_encoder_downsample_size=args.content_encoder_downsample_size,\n",
    "        t_start=args.t_start,\n",
    "        t_end=args.t_end,\n",
    "        dm_size=args.content_image_size,\n",
    "        algorithm_type=args.algorithm_type,\n",
    "        skip_type=args.skip_type,\n",
    "        method=args.method,\n",
    "        correcting_x0_fn=args.correcting_x0_fn)\n",
    "    for i in range(len(images)):\n",
    "        path = f\"{savefd}/{args.tag}__{target_font}__{contents[i]}.png\"\n",
    "        images[i].save(path)\n",
    "        pbar.set_postfix(path=path)"
   ]
  },
  {
   "cell_type": "code",
   "execution_count": null,
   "id": "ae643015-3cf0-4f04-9ca0-ea3145104b1e",
   "metadata": {},
   "outputs": [],
   "source": []
  }
 ],
 "metadata": {
  "environment": {
   "kernel": "conda-env-pytorch-pytorch",
   "name": "workbench-notebooks.m122",
   "type": "gcloud",
   "uri": "us-docker.pkg.dev/deeplearning-platform-release/gcr.io/workbench-notebooks:m122"
  },
  "kernelspec": {
   "display_name": "PyTorch 1-13 (Local)",
   "language": "python",
   "name": "conda-env-pytorch-pytorch"
  },
  "language_info": {
   "codemirror_mode": {
    "name": "ipython",
    "version": 3
   },
   "file_extension": ".py",
   "mimetype": "text/x-python",
   "name": "python",
   "nbconvert_exporter": "python",
   "pygments_lexer": "ipython3",
   "version": "3.10.14"
  }
 },
 "nbformat": 4,
 "nbformat_minor": 5
}
