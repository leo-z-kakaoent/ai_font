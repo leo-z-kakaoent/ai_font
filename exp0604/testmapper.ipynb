{
 "cells": [
  {
   "cell_type": "code",
   "execution_count": 1,
   "id": "0c553168-c340-4eb2-b351-895af4198b8b",
   "metadata": {
    "tags": []
   },
   "outputs": [],
   "source": [
    "import os\n",
    "import numpy as np\n",
    "import pandas as pd\n",
    "\n",
    "from tqdm import tqdm\n",
    "from google.cloud import storage"
   ]
  },
  {
   "cell_type": "code",
   "execution_count": 2,
   "id": "e4da2232-d10c-4951-8156-1386f95e232b",
   "metadata": {
    "tags": []
   },
   "outputs": [],
   "source": [
    "fd = \"/home/jupyter/ai_font/data/test/플레이브밤비\""
   ]
  },
  {
   "cell_type": "code",
   "execution_count": 3,
   "id": "2796e727-4e7c-4a8e-af77-867bdce4421c",
   "metadata": {
    "tags": []
   },
   "outputs": [],
   "source": [
    "fonts = np.unique([f.split(\"__\")[0] for f in os.listdir(fd) if f.endswith(\".png\")])"
   ]
  },
  {
   "cell_type": "code",
   "execution_count": 4,
   "id": "1b5876e0-8512-4b47-8317-b34387e7196e",
   "metadata": {
    "tags": []
   },
   "outputs": [],
   "source": [
    "def get_all_korean():\n",
    "\n",
    "    def nextKorLetterFrom(letter):\n",
    "        lastLetterInt = 15572643\n",
    "        if not letter:\n",
    "            return '가'\n",
    "        a = letter\n",
    "        b = a.encode('utf8')\n",
    "        c = int(b.hex(), 16)\n",
    "\n",
    "        if c == lastLetterInt:\n",
    "            return False\n",
    "\n",
    "        d = hex(c + 1)\n",
    "        e = bytearray.fromhex(d[2:])\n",
    "\n",
    "        flag = True\n",
    "        while flag:\n",
    "            try:\n",
    "                r = e.decode('utf-8')\n",
    "                flag = False\n",
    "            except UnicodeDecodeError:\n",
    "                c = c+1\n",
    "                d = hex(c)\n",
    "                e = bytearray.fromhex(d[2:])\n",
    "        return e.decode()\n",
    "\n",
    "    returns = []\n",
    "    flag = True\n",
    "    k = ''\n",
    "    while flag:\n",
    "        k = nextKorLetterFrom(k)\n",
    "        if k is False:\n",
    "            flag = False\n",
    "        else:\n",
    "            returns.append(k)\n",
    "    return returns"
   ]
  },
  {
   "cell_type": "code",
   "execution_count": 5,
   "id": "d1ef8a61-1cf0-4fc5-8966-332a80f3e885",
   "metadata": {
    "tags": []
   },
   "outputs": [],
   "source": [
    "def get_lexicon(letter):\n",
    "    ch1 = (ord(letter) - ord('가'))//588\n",
    "    ch2 = ((ord(letter) - ord('가')) - (588*ch1)) // 28\n",
    "    ch3 = (ord(letter) - ord('가')) - (588*ch1) - 28*ch2\n",
    "    return np.array([ch1, ch2, ch3])"
   ]
  },
  {
   "cell_type": "code",
   "execution_count": 6,
   "id": "358fa695-2564-4fc2-be0b-66ce6f7a0979",
   "metadata": {
    "tags": []
   },
   "outputs": [],
   "source": [
    "ak = get_all_korean()"
   ]
  },
  {
   "cell_type": "code",
   "execution_count": 7,
   "id": "055b1cfa-456b-42aa-94f5-1bd8e53f5d40",
   "metadata": {
    "tags": []
   },
   "outputs": [
    {
     "name": "stderr",
     "output_type": "stream",
     "text": [
      "100%|██████████| 11172/11172 [00:00<00:00, 1064246.29it/s]\n"
     ]
    }
   ],
   "source": [
    "lex_mapper = {}\n",
    "for k in tqdm(ak):\n",
    "    lex_mapper[k] = {\n",
    "        'double': [],\n",
    "        'single': [],\n",
    "    }\n",
    "    "
   ]
  },
  {
   "cell_type": "code",
   "execution_count": 8,
   "id": "8f9ef390-e6e5-40ca-9f06-0390c8fc475d",
   "metadata": {
    "tags": []
   },
   "outputs": [
    {
     "name": "stderr",
     "output_type": "stream",
     "text": [
      "100%|██████████| 11172/11172 [10:46<00:00, 17.29it/s] \n"
     ]
    }
   ],
   "source": [
    "i = 0\n",
    "for k in tqdm(ak):\n",
    "    lex_k = get_lexicon(k)\n",
    "    i += 1\n",
    "    for l in ak[i:]:\n",
    "        if not k == l:\n",
    "            lex_l = get_lexicon(l)\n",
    "            if np.sum(lex_k == lex_l) == 2:\n",
    "                lex_mapper[k]['double'].append(l)\n",
    "                lex_mapper[l]['double'].append(k)\n",
    "            elif np.sum(lex_k == lex_l) == 1:\n",
    "                lex_mapper[k]['single'].append(l)\n",
    "                lex_mapper[l]['single'].append(k)"
   ]
  },
  {
   "cell_type": "code",
   "execution_count": 20,
   "id": "68a6739d-540f-4a29-9131-a01571a2b6c3",
   "metadata": {
    "tags": []
   },
   "outputs": [],
   "source": [
    "testmap = {}\n",
    "for font in fonts:\n",
    "    testmap[font] = {}\n",
    "    for k in ak:\n",
    "        testmap[font][k] = {\n",
    "            'double':set(),\n",
    "            'single':set(),\n",
    "        }"
   ]
  },
  {
   "cell_type": "code",
   "execution_count": 21,
   "id": "14d60508-5448-46a2-8c54-803602ac31a3",
   "metadata": {
    "tags": []
   },
   "outputs": [
    {
     "name": "stderr",
     "output_type": "stream",
     "text": [
      "100%|██████████| 115322/115322 [01:54<00:00, 1009.02it/s]\n"
     ]
    }
   ],
   "source": [
    "for f in tqdm(os.listdir(testfd)):\n",
    "    if f.endswith(\".png\"):\n",
    "        font, letter = f.split(\".\")[0].split(\"__\")\n",
    "        for k in lex_mapper[letter]['double']:\n",
    "            testmap[font][k]['double'].add(letter)\n",
    "        for k in lex_mapper[letter]['single']:\n",
    "            testmap[font][k]['single'].add(letter)"
   ]
  },
  {
   "cell_type": "code",
   "execution_count": 26,
   "id": "c3f44793-e9bc-4bd5-86c4-4ae945758413",
   "metadata": {
    "tags": []
   },
   "outputs": [
    {
     "name": "stderr",
     "output_type": "stream",
     "text": [
      "100%|██████████| 16/16 [00:33<00:00,  2.10s/it]\n"
     ]
    }
   ],
   "source": [
    "testdf = []\n",
    "for font in tqdm(fonts):\n",
    "    for l in ak:\n",
    "        testdf.append({\n",
    "            'font': font,\n",
    "            'letter': l,\n",
    "            \"double\": list(testmap[font][l]['double']),\n",
    "            \"single\": list(testmap[font][l]['single']),\n",
    "        })"
   ]
  },
  {
   "cell_type": "code",
   "execution_count": 27,
   "id": "dabe765f-3726-420d-b00f-48f00fbfc2f9",
   "metadata": {
    "tags": []
   },
   "outputs": [],
   "source": [
    "pd.DataFrame().from_dict(testdf).to_pickle(\"/home/jupyter/ai_font/data/test/testmapdf.pickle\")"
   ]
  },
  {
   "cell_type": "code",
   "execution_count": 2,
   "id": "ae5f2460-c683-4155-8b5e-1e7e7bf69984",
   "metadata": {},
   "outputs": [],
   "source": [
    "testdf = pd.read_pickle(\"/home/jupyter/ai_font/data/test/testmapdf.pickle\")"
   ]
  },
  {
   "cell_type": "code",
   "execution_count": 5,
   "id": "51ca0bd2-9c9f-4676-a444-3cd190f868a9",
   "metadata": {
    "tags": []
   },
   "outputs": [
    {
     "data": {
      "text/plain": [
       "font                                                 어비 나현체\n",
       "letter                                                    가\n",
       "double    [각, 자, 바, 값, 갇, 마, 긔, 갈, 짜, 교, 따, 갛, 하, 갚, 타, ...\n",
       "single    [쥐, 탄, 쳬, 재, 표, 수, 뷰, 겅, 결, 경, 삽, 쪼, 걸, 깟, 냐, ...\n",
       "Name: 0, dtype: object"
      ]
     },
     "execution_count": 5,
     "metadata": {},
     "output_type": "execute_result"
    }
   ],
   "source": [
    "testdf.iloc[0]"
   ]
  },
  {
   "cell_type": "code",
   "execution_count": null,
   "id": "8734f59b-b31c-4d99-abb0-597b2cc5137d",
   "metadata": {},
   "outputs": [],
   "source": [
    "닠"
   ]
  }
 ],
 "metadata": {
  "environment": {
   "kernel": "conda-base-py",
   "name": "workbench-notebooks.m122",
   "type": "gcloud",
   "uri": "us-docker.pkg.dev/deeplearning-platform-release/gcr.io/workbench-notebooks:m122"
  },
  "kernelspec": {
   "display_name": "Python 3 (ipykernel) (Local)",
   "language": "python",
   "name": "conda-base-py"
  },
  "language_info": {
   "codemirror_mode": {
    "name": "ipython",
    "version": 3
   },
   "file_extension": ".py",
   "mimetype": "text/x-python",
   "name": "python",
   "nbconvert_exporter": "python",
   "pygments_lexer": "ipython3",
   "version": "3.10.14"
  }
 },
 "nbformat": 4,
 "nbformat_minor": 5
}
