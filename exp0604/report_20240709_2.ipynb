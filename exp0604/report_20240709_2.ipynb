{
 "cells": [
  {
   "cell_type": "code",
   "execution_count": 1,
   "id": "78002571-52e1-4b80-85be-c2695dfd2520",
   "metadata": {
    "tags": []
   },
   "outputs": [],
   "source": [
    "import os\n",
    "import copy\n",
    "import numpy as np\n",
    "import pandas as pd\n",
    "from PIL import Image\n",
    "\n",
    "class ImageConcat:\n",
    "    def __init__(self, n_h, n_v, resolution=1000):\n",
    "        self.n_h = n_h\n",
    "        self.n_v = n_v\n",
    "        self.r = resolution\n",
    "        self.img = Image.new(\"L\", (self.n_h*self.r, self.n_v*self.r), color=255)# color=(255,255,255))\n",
    "        self.cursor = [0,0]\n",
    "        self.max_h = 0\n",
    "    \n",
    "    def move_cursor_h(self, r):\n",
    "        self.cursor[0] += r\n",
    "        if self.cursor[0] > self.max_h:\n",
    "            self.max_h = copy.deepcopy(self.cursor[0])\n",
    "        \n",
    "    def move_cursor_v(self):\n",
    "        self.cursor[1] += self.r\n",
    "        \n",
    "    def reset_cursor_h(self):\n",
    "        self.cursor[0] = 0\n",
    "        \n",
    "    def append_img(self, path, cut_margin=True, clip_white=False):\n",
    "        try:\n",
    "            img = Image.open(path).convert('L').resize((self.r,self.r), Image.BILINEAR)\n",
    "            if cut_margin:\n",
    "                img = self.cut_margin(img, clip_white=clip_white)\n",
    "            self.img.paste(img, tuple(self.cursor))\n",
    "            return img.size\n",
    "        except:\n",
    "            # print(f\"Not Appended: {path}\")\n",
    "            return None\n",
    "        \n",
    "    def add_letter(self, path, cut_margin=True, clip_white=False):\n",
    "        imgsize = self.append_img(path, cut_margin=cut_margin, clip_white=clip_white)\n",
    "        if imgsize is None:\n",
    "            self.move_cursor_h(self.r)\n",
    "        else:\n",
    "            self.move_cursor_h(imgsize[0])\n",
    "    \n",
    "    def add_space(self):\n",
    "        self.move_cursor_h(int(self.r/3))\n",
    "        \n",
    "    def enter(self):\n",
    "        self.move_cursor_v()\n",
    "        self.reset_cursor_h()\n",
    "        \n",
    "    def cut_margin(self, img, clip_white):\n",
    "        npimg = 255 - np.array(img)\n",
    "        if clip_white:\n",
    "            npimg[np.where(npimg<10)] = 0 \n",
    "        wmin = npimg.sum(0).nonzero()[0].min()\n",
    "        wmax = npimg.sum(0).nonzero()[0].max()\n",
    "        # hmin = npimg.sum(1).nonzero()[0].min()\n",
    "        # hmax = npimg.sum(1).nonzero()[0].max()\n",
    "\n",
    "        npimg = 255 - npimg[:,wmin:wmax+1]\n",
    "        img = Image.fromarray(npimg)\n",
    "        return img"
   ]
  },
  {
   "cell_type": "code",
   "execution_count": 2,
   "id": "5a2df6e5-948b-4b37-ad85-91f2016bd9d8",
   "metadata": {
    "tags": []
   },
   "outputs": [],
   "source": [
    "patriot = '''\n",
    "동해물과 백두산이 마르고 닳도록\n",
    "하느님이 보우하사 우리나라 만세\n",
    "남산위에 저소나무 철갑을 두른듯\n",
    "바람서리 불변함은 우리기상 일세\n",
    "가을하늘 공활한데 높고 구름 없이\n",
    "밝은달은 우리가슴 일편단심 일세\n",
    "이기상과 이맘으로 충성을 다하여\n",
    "괴로우나 즐거우나 나라 사랑하세\n",
    "무궁화 삼천리 화려강산\n",
    "대한사람 대한으로 길이 보전하세\n",
    "'''\n",
    "letter_sample = '''\n",
    "안녕 봉구야 나는 일년 미래의 너인 밤비야\n",
    "처음 접해보는 것들에 어리둥절하고 멤버들과 아직까지는 낯을 가리면서 데뷔 준비하느라고 바쁘겠구나\n",
    "근데 말이야 지금 이 곳에서는 너가 상상만 했던 일들이 현실이 되고 있어\n",
    "내가 일년 더 살아본 너로서 너에게 해주고 싶은 말이 있어서 이 편지를 적어본다\n",
    "일단 멋있고 배울 점 많은 멤버들과 가족같고 따뜻한 직원들을 만난거 축하한다\n",
    "너는 정말로 운이 좋은 애였더라 그 사람들과 함께라면 앞으로 아무것도 무서울게 없을거야\n",
    "그리고 가끔은 너 스스로에게 의심도 들고 어느 때는 그 어깨의 짐을 내려놓고 싶을 때가 있었겠지\n",
    "그런데 정말 믿기 힘들겠지만 지금와서보니 그 모든 것들은 나에게 필요한 거름이 되었어\n",
    "견디기 힘들어 아플 떄도 있겠지만 그냥 아파해도 돼\n",
    "그것마저도 전부 다 너에게 큰 도움이 될 거니까\n",
    "그리고 너에게 정말 소중한 하늘의 축복 플리라는 선물이 생기게 돼\n",
    "그 존재들은 너를 존재할 수 있게 해 주고 그 사람들의 따뜻한 마음들은 너를 더 나은 사람으로 만들어 줄 거야\n",
    "그 사람들과 함께하면 할 수록 너가 했던 선택들이 전부 틀리지 않았다는 걸 알게 될거야\n",
    "그리고 너를 보고 있는 수많은 사람들에게도 너가 느꼈던 것들을 바탕으로 위로가 되고 큰 긍정의 힘이 될수있는 너가 되기를 노력해야해\n",
    "지금 와보니까 나로 인해 힘을 받고 있다는 사람들의 말을 들어보면 그게 그렇게 행복할 수가 없더라\n",
    "너의 과정들을 가장 잘 알고 있는 나로서 하고 싶은 말은 그동안 너무 고생 많았고 지금까지 와 준 너가 너무 고맙다\n",
    "앞으로의 나도 그래왔듯 최선을 다하고 더는 의심하지 않을게\n",
    "'''"
   ]
  },
  {
   "cell_type": "code",
   "execution_count": 3,
   "id": "164c68b5-25d8-4e9b-9e80-6d4d29747980",
   "metadata": {
    "tags": []
   },
   "outputs": [
    {
     "data": {
      "text/plain": [
       "18"
      ]
     },
     "execution_count": 3,
     "metadata": {},
     "output_type": "execute_result"
    }
   ],
   "source": [
    "len(\"가을하늘 공활한데 높고 구름 없이\")"
   ]
  },
  {
   "cell_type": "code",
   "execution_count": 4,
   "id": "0ae05b4b-e0d8-455b-b5bf-9626589f577b",
   "metadata": {
    "tags": []
   },
   "outputs": [],
   "source": [
    "\n",
    "fds = {\n",
    "    \"cggan_gen\": \"/home/jupyter/ai_font/data/reports/exp0604/cggan/i740000/cggan__i740000__플레이브밤비__\",\n",
    "    \"cggan_resized\": \"/home/jupyter/ai_font/data/reports/fontdiffuser/resized/cggan__i740000__플레이브밤비__\",\n",
    "    \"fd_gen\": \"/home/jupyter/ai_font/data/reports/fontdiffuser/phase2/i30000/fontdiffuser_phase2__플레이브밤비__\",\n",
    "    \"fd_resized\": \"/home/jupyter/ai_font/data/reports/fontdiffuser/resized/fontdiffuser_phase2__플레이브밤비__\",\n",
    "}"
   ]
  },
  {
   "cell_type": "code",
   "execution_count": 6,
   "id": "307cfbc4-d6d9-4527-a097-cb68d42d03e4",
   "metadata": {
    "tags": []
   },
   "outputs": [],
   "source": [
    "fontsize = 96\n",
    "# font = fonts[-1]\n",
    "# model = models[0]\n",
    "n_lines = int(10*2)\n",
    "tag = \"애국가\"\n",
    "text = patriot\n",
    "for n, p in fds.items():\n",
    "    bigimg = ImageConcat(18, n_lines, fontsize)\n",
    "\n",
    "    for k in text:\n",
    "        if k == \"\\n\":\n",
    "            bigimg.enter()\n",
    "            bigimg.enter()\n",
    "        elif k == \" \":\n",
    "            bigimg.add_space()\n",
    "        else:\n",
    "            path = f\"{p}{k}.png\"\n",
    "            bigimg.add_letter(path, clip_white=True)\n",
    "    max_h = bigimg.max_h\n",
    "    bigimg = ImageConcat(int(max_h/fontsize)+2, n_lines, fontsize)\n",
    "    for k in text:\n",
    "        if k == \"\\n\":\n",
    "            bigimg.enter()\n",
    "            bigimg.enter()\n",
    "        elif k == \" \":\n",
    "            bigimg.add_space()\n",
    "        else:\n",
    "            path = f\"{p}{k}.png\"\n",
    "            bigimg.add_letter(path, clip_white=True)\n",
    "\n",
    "    bigimg.img.save(f\"{n}__{tag}.png\")"
   ]
  },
  {
   "cell_type": "code",
   "execution_count": 22,
   "id": "e2829f77-68e5-4e0f-a5fc-c0b03dc7f737",
   "metadata": {
    "tags": []
   },
   "outputs": [
    {
     "data": {
      "text/plain": [
       "73"
      ]
     },
     "execution_count": 22,
     "metadata": {},
     "output_type": "execute_result"
    }
   ],
   "source": [
    "len(\"그리고 너를 보고 있는 수많은 사람들에게도 너가 느꼈던 것들을 바탕으로 위로가 되고 큰 긍정의 힘이 될수있는 너가 되기를 노력해야해\")"
   ]
  },
  {
   "cell_type": "code",
   "execution_count": 23,
   "id": "9bb5dd24-e850-43f5-aa5b-fc44149204f0",
   "metadata": {
    "tags": []
   },
   "outputs": [],
   "source": [
    "for font in fonts:\n",
    "    for model in models:\n",
    "        fontsize = 96\n",
    "        # font = fonts[-1]\n",
    "        # model = models[0]\n",
    "        n_lines = int(17*2)\n",
    "        tag = \"편지\"\n",
    "        text = letter_sample\n",
    "\n",
    "        bigimg = ImageConcat(72, n_lines, fontsize)\n",
    "\n",
    "        for k in text:\n",
    "            if k == \"\\n\":\n",
    "                bigimg.enter()\n",
    "                bigimg.enter()\n",
    "            elif k == \" \":\n",
    "                bigimg.add_space()\n",
    "            else:\n",
    "                path = f\"{fd}/{model}__{font}__{k}.png\"\n",
    "                bigimg.add_letter(path, clip_white=True)\n",
    "        max_h = bigimg.max_h\n",
    "        bigimg = ImageConcat(int(max_h/fontsize)+2, n_lines, fontsize)\n",
    "        for k in text:\n",
    "            if k == \"\\n\":\n",
    "                bigimg.enter()\n",
    "                bigimg.enter()\n",
    "            elif k == \" \":\n",
    "                bigimg.add_space()\n",
    "            else:\n",
    "                path = f\"{fd}/{model}__{font}__{k}.png\"\n",
    "                bigimg.add_letter(path, clip_white=True)\n",
    "\n",
    "        bigimg.img.save(f\"{savefd}/{model}__{font}_{tag}.png\")"
   ]
  },
  {
   "cell_type": "code",
   "execution_count": null,
   "id": "9ce8c5db-4e0f-4df6-a554-c5a720f79a85",
   "metadata": {},
   "outputs": [],
   "source": []
  }
 ],
 "metadata": {
  "environment": {
   "kernel": "conda-env-pytorch-pytorch",
   "name": "workbench-notebooks.m122",
   "type": "gcloud",
   "uri": "us-docker.pkg.dev/deeplearning-platform-release/gcr.io/workbench-notebooks:m122"
  },
  "kernelspec": {
   "display_name": "PyTorch 1-13 (Local)",
   "language": "python",
   "name": "conda-env-pytorch-pytorch"
  },
  "language_info": {
   "codemirror_mode": {
    "name": "ipython",
    "version": 3
   },
   "file_extension": ".py",
   "mimetype": "text/x-python",
   "name": "python",
   "nbconvert_exporter": "python",
   "pygments_lexer": "ipython3",
   "version": "3.10.14"
  }
 },
 "nbformat": 4,
 "nbformat_minor": 5
}
