{
 "cells": [
  {
   "cell_type": "code",
   "execution_count": 1,
   "id": "1684cc0f-29c4-4681-a1ab-8c7a369393d1",
   "metadata": {
    "tags": []
   },
   "outputs": [],
   "source": [
    "import os\n",
    "import shutil\n",
    "\n",
    "fromfd = \"/home/jupyter/ai_font/data/test_ttfs\"\n",
    "tofd = \"/home/jupyter/ai_font/data/train_ttfs\"\n",
    "\n",
    "for f in os.listdir(fromfd):\n",
    "    if f.endswith(\".ttf\"):\n",
    "        shutil.move(f\"{fromfd}/{f}\",f\"{tofd}/{f}\")"
   ]
  },
  {
   "cell_type": "code",
   "execution_count": 7,
   "id": "305223d4-3af0-4818-aec8-4c2643547c56",
   "metadata": {
    "tags": []
   },
   "outputs": [],
   "source": [
    "import os\n",
    "import unicodedata\n",
    "\n",
    "fd = \"/home/jupyter/ai_font/data/train_ttfs\"\n",
    "\n",
    "for f in os.listdir(fd):\n",
    "    if f.endswith(\".ttf\"):\n",
    "        nf = unicodedata.normalize(\"NFC\",f)\n",
    "        nf = nf.replace(\" \",\"\")\n",
    "        os.rename(f\"{fd}/{f}\", f\"{fd}/{nf}\")"
   ]
  }
 ],
 "metadata": {
  "environment": {
   "kernel": "conda-base-py",
   "name": "workbench-notebooks.m121",
   "type": "gcloud",
   "uri": "us-docker.pkg.dev/deeplearning-platform-release/gcr.io/workbench-notebooks:m121"
  },
  "kernelspec": {
   "display_name": "Python 3 (ipykernel) (Local)",
   "language": "python",
   "name": "conda-base-py"
  },
  "language_info": {
   "codemirror_mode": {
    "name": "ipython",
    "version": 3
   },
   "file_extension": ".py",
   "mimetype": "text/x-python",
   "name": "python",
   "nbconvert_exporter": "python",
   "pygments_lexer": "ipython3",
   "version": "3.10.14"
  }
 },
 "nbformat": 4,
 "nbformat_minor": 5
}
