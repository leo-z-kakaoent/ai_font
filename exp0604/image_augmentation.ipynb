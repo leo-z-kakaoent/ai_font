{
 "cells": [
  {
   "cell_type": "code",
   "execution_count": 161,
   "id": "0131272d-93f8-40fd-81e5-19363be53bae",
   "metadata": {
    "tags": []
   },
   "outputs": [],
   "source": [
    "import os\n",
    "import time\n",
    "import cv2\n",
    "import numpy as np\n",
    "from tqdm import tqdm\n",
    "from PIL import Image"
   ]
  },
  {
   "cell_type": "code",
   "execution_count": 164,
   "id": "690b66c1-4f52-402e-b6f0-873d351e1f89",
   "metadata": {
    "tags": []
   },
   "outputs": [
    {
     "name": "stdout",
     "output_type": "stream",
     "text": [
      "7524085\n"
     ]
    },
    {
     "ename": "KeyboardInterrupt",
     "evalue": "",
     "output_type": "error",
     "traceback": [
      "\u001b[0;31m---------------------------------------------------------------------------\u001b[0m",
      "\u001b[0;31mKeyboardInterrupt\u001b[0m                         Traceback (most recent call last)",
      "Cell \u001b[0;32mIn[164], line 3\u001b[0m\n\u001b[1;32m      1\u001b[0m \u001b[38;5;28;01mwhile\u001b[39;00m \u001b[38;5;28;01mTrue\u001b[39;00m:\n\u001b[1;32m      2\u001b[0m     fd \u001b[38;5;241m=\u001b[39m \u001b[38;5;124m\"\u001b[39m\u001b[38;5;124m/home/jupyter/ai_font/data/train/pngs\u001b[39m\u001b[38;5;124m\"\u001b[39m\n\u001b[0;32m----> 3\u001b[0m     \u001b[38;5;28mprint\u001b[39m(\u001b[38;5;28mlen\u001b[39m(\u001b[43mos\u001b[49m\u001b[38;5;241;43m.\u001b[39;49m\u001b[43mlistdir\u001b[49m\u001b[43m(\u001b[49m\u001b[43mfd\u001b[49m\u001b[43m)\u001b[49m))\n\u001b[1;32m      4\u001b[0m     time\u001b[38;5;241m.\u001b[39msleep(\u001b[38;5;241m30\u001b[39m)\n",
      "\u001b[0;31mKeyboardInterrupt\u001b[0m: "
     ]
    }
   ],
   "source": [
    "while True:\n",
    "    fd = \"/home/jupyter/ai_font/data/train/pngs\"\n",
    "    print(len(os.listdir(fd)))\n",
    "    time.sleep(30)"
   ]
  },
  {
   "cell_type": "code",
   "execution_count": 166,
   "id": "c85139ef-a621-42bd-829f-d84abf0ba604",
   "metadata": {
    "tags": []
   },
   "outputs": [
    {
     "data": {
      "text/plain": [
       "{'교보손글씨2019',\n",
       " '교보손글씨2020박도연',\n",
       " '교보손글씨2021성지영',\n",
       " '교보손글씨2022김혜남',\n",
       " '교보손글씨2023우선아',\n",
       " '나눔손글씨가람연꽃',\n",
       " '나눔손글씨갈맷글',\n",
       " '나눔손글씨강부장님체',\n",
       " '나눔손글씨강인한위로',\n",
       " '나눔손글씨고딕아니고고딩',\n",
       " '나눔손글씨고려글꼴',\n",
       " '나눔손글씨곰신체',\n",
       " '나눔손글씨규리의일기',\n",
       " '나눔손글씨금은보화',\n",
       " '나눔손글씨기쁨밝음',\n",
       " '나눔손글씨김유이체',\n",
       " '나눔손글씨꽃내음',\n",
       " '나눔손글씨끄트머리체',\n",
       " '나눔손글씨나는이겨낸다',\n",
       " '나눔손글씨나무정원',\n",
       " '나눔손글씨나의아내손글씨',\n",
       " '나눔손글씨노력하는동희',\n",
       " '나눔손글씨느릿느릿체',\n",
       " '나눔손글씨다시시작해',\n",
       " '나눔손글씨다진체',\n",
       " '나눔손글씨다채사랑',\n",
       " '나눔손글씨다행체',\n",
       " '나눔손글씨달의궤도',\n",
       " '나눔손글씨대광유리',\n",
       " '나눔손글씨대한민국열사체',\n",
       " '나눔손글씨둥근인연',\n",
       " '나눔손글씨따뜻한작별',\n",
       " '나눔손글씨따악단단',\n",
       " '나눔손글씨딸에게엄마가',\n",
       " '나눔손글씨또박또박',\n",
       " '나눔손글씨마고체',\n",
       " '나눔손글씨맛있는체',\n",
       " '나눔손글씨몽돌',\n",
       " '나눔손글씨무궁화',\n",
       " '나눔손글씨무진장체',\n",
       " '나눔손글씨미니손글씨',\n",
       " '나눔손글씨미래나무',\n",
       " '나눔손글씨바른정신',\n",
       " '나눔손글씨바른히피',\n",
       " '나눔손글씨반짝반짝별',\n",
       " '나눔손글씨배은혜체',\n",
       " '나눔손글씨백의의천사',\n",
       " '나눔손글씨버드나무',\n",
       " '나눔손글씨범솜체',\n",
       " '나눔손글씨부장님눈치체',\n",
       " '나눔손글씨북극성',\n",
       " '나눔손글씨비상체',\n",
       " '나눔손글씨빵구니맘손글씨',\n",
       " '나눔손글씨사랑해아들',\n",
       " '나눔손글씨상해찬미체',\n",
       " '나눔손글씨성실체',\n",
       " '나눔손글씨세계적인한글',\n",
       " '나눔손글씨세아체',\n",
       " '나눔손글씨세화체',\n",
       " '나눔손글씨소미체',\n",
       " '나눔손글씨소방관의기도',\n",
       " '나눔손글씨손편지체',\n",
       " '나눔손글씨수줍은대학생',\n",
       " '나눔손글씨시우귀여워',\n",
       " '나눔손글씨신혼부부',\n",
       " '나눔손글씨아기사랑체',\n",
       " '나눔손글씨아름드리꽃나무',\n",
       " '나눔손글씨아빠글씨',\n",
       " '나눔손글씨아빠의연애편지',\n",
       " '나눔손글씨아인맘손글씨',\n",
       " '나눔손글씨아줌마자유',\n",
       " '나눔손글씨안쌍체',\n",
       " '나눔손글씨암스테르담',\n",
       " '나눔손글씨야근하는김주임',\n",
       " '나눔손글씨야채장수백금례',\n",
       " '나눔손글씨엄마사랑',\n",
       " '나눔손글씨엉겅퀴체',\n",
       " '나눔손글씨여름글씨',\n",
       " '나눔손글씨연지체',\n",
       " '나눔손글씨열아홉의반짝임',\n",
       " '나눔손글씨열일체',\n",
       " '나눔손글씨예당체',\n",
       " '나눔손글씨예쁜민경체',\n",
       " '나눔손글씨옥비체',\n",
       " '나눔손글씨와일드',\n",
       " '나눔손글씨외할머니글씨',\n",
       " '나눔손글씨왼손잡이도예뻐',\n",
       " '나눔손글씨우리딸손글씨',\n",
       " '나눔손글씨유니띵땅띵땅',\n",
       " '나눔손글씨의미있는한글',\n",
       " '나눔손글씨자부심지우',\n",
       " '나눔손글씨잘하고있어',\n",
       " '나눔손글씨장미체',\n",
       " '나눔손글씨점꼴체',\n",
       " '나눔손글씨정은체',\n",
       " '나눔손글씨중학생',\n",
       " '나눔손글씨진주박경아체',\n",
       " '나눔손글씨철필글씨',\n",
       " '나눔손글씨초딩희망',\n",
       " '나눔손글씨칼국수',\n",
       " '나눔손글씨코코체',\n",
       " '나눔손글씨하나되어손글씨',\n",
       " '나눔손글씨하람체',\n",
       " '나눔손글씨한윤체',\n",
       " '나눔손글씨할아버지의나눔',\n",
       " '나눔손글씨행복한도비',\n",
       " '나눔손글씨혁이체',\n",
       " '나눔손글씨혜준체',\n",
       " '나눔손글씨효남늘화이팅',\n",
       " '나눔손글씨희망누리',\n",
       " '나눔손글씨흰꼬리수리',\n",
       " '나눔손글씨힘내라는말보단',\n",
       " '시스템굴림',\n",
       " '시스템굴림체',\n",
       " '시스템궁서',\n",
       " '시스템궁서체',\n",
       " '시스템돋움',\n",
       " '시스템돋움체',\n",
       " '시스템맑은고딕가늘게',\n",
       " '시스템맑은고딕굵게',\n",
       " '시스템맑은고딕보통',\n",
       " '시스템바탕',\n",
       " '시스템바탕체',\n",
       " '시스템한컴고딕굵게',\n",
       " '시스템한컴고딕보통',\n",
       " '시스템한컴말랑말랑굵게',\n",
       " '시스템한컴말랑말랑보통',\n",
       " '시스템한컴산뜻돋움굵게',\n",
       " '시스템한컴산뜻돋움보통',\n",
       " '시스템한컴울주반구대암각화체보통',\n",
       " '시스템한컴울주천전리각석체보통',\n",
       " '시스템한컴훈민정음가로쓰기보통',\n",
       " '시스템한컴훈민정음세로쓰기보통',\n",
       " '시스템함초롬돋움굵게',\n",
       " '시스템함초롬돋움보통',\n",
       " '시스템함초롬바탕굵게',\n",
       " '시스템함초롬바탕보통',\n",
       " '어비괴짜연구원미나니체',\n",
       " '어비깡자체',\n",
       " '어비깡자체볼드',\n",
       " '어비꿍디체',\n",
       " '어비나현체',\n",
       " '어비나현체볼드',\n",
       " '어비남소영체',\n",
       " '어비남소영체볼드',\n",
       " '어비남지은체',\n",
       " '어비남지은체볼드',\n",
       " '어비다빈체',\n",
       " '어비단순그녀체',\n",
       " '어비단순그녀체볼드',\n",
       " '어비담이체',\n",
       " '어비담이체볼드',\n",
       " '어비동경체',\n",
       " '어비동경체볼드',\n",
       " '어비둘둘체',\n",
       " '어비둘둘체볼드',\n",
       " '어비뒤죽박죽체',\n",
       " '어비뒤죽박죽체볼드',\n",
       " '어비디그다별체',\n",
       " '어비디그다별체볼드',\n",
       " '어비또요체',\n",
       " '어비또요체볼드',\n",
       " '어비똘영체',\n",
       " '어비똘영체볼드',\n",
       " '어비라미체',\n",
       " '어비라미체볼드',\n",
       " '어비류가체',\n",
       " '어비류가체볼드',\n",
       " '어비링링체',\n",
       " '어비링링체볼드',\n",
       " '어비마이쎈체',\n",
       " '어비마이쎈체볼드',\n",
       " '어비마츠코체',\n",
       " '어비마츠코체볼드',\n",
       " '어비말듀체',\n",
       " '어비말듀체볼드',\n",
       " '어비모토미체',\n",
       " '어비못된여자체',\n",
       " '어비못된여자체볼드',\n",
       " '어비문슬예체볼드',\n",
       " '어비미니도리체',\n",
       " '어비미미체',\n",
       " '어비미미체볼드',\n",
       " '어비미완체',\n",
       " '어비미완체볼드',\n",
       " '어비민아방',\n",
       " '어비민아방볼드',\n",
       " '어비밍기캘리체',\n",
       " '어비밍기캘리체볼드',\n",
       " '어비바니나니체',\n",
       " '어비바니나니체볼드',\n",
       " '어비버찌체',\n",
       " '어비버찌체볼드',\n",
       " '어비베이비체',\n",
       " '어비베이비체볼드',\n",
       " '어비봉식이체',\n",
       " '어비봉식이체볼드',\n",
       " '어비선홍체',\n",
       " '어비선홍체볼드',\n",
       " '어비세현체',\n",
       " '어비세현체볼드',\n",
       " '어비소윤체',\n",
       " '어비송송체',\n",
       " '어비송송체볼드',\n",
       " '어비순수결정체',\n",
       " '어비순수결정체볼드',\n",
       " '어비스윗체',\n",
       " '어비스트로베리체',\n",
       " '어비스트로베리체볼드',\n",
       " '어비슬기로운생활체',\n",
       " '어비아룡체',\n",
       " '어비아룡체볼드',\n",
       " '어비앤체',\n",
       " '어비앤체볼드',\n",
       " '어비얀느체',\n",
       " '어비얀느체볼드',\n",
       " '어비양나체',\n",
       " '어비양나체볼드',\n",
       " '어비여니체',\n",
       " '어비예희체',\n",
       " '어비예희체볼드',\n",
       " '어비우야깨붕체',\n",
       " '어비위윰체',\n",
       " '어비위윰체볼드',\n",
       " '어비유종체',\n",
       " '어비유종체볼드',\n",
       " '어비유진남푠체',\n",
       " '어비유진남푠체볼드',\n",
       " '어비유진체',\n",
       " '어비유진체볼드',\n",
       " '어비윤쟈체',\n",
       " '어비윤쟈체볼드',\n",
       " '어비율체',\n",
       " '어비율체볼드',\n",
       " '어비융디체',\n",
       " '어비융디체볼드',\n",
       " '어비은경체',\n",
       " '어비은경체볼드',\n",
       " '어비은디체',\n",
       " '어비은디체볼드',\n",
       " '어비이부손',\n",
       " '어비이슬체',\n",
       " '어비이슬체볼드',\n",
       " '어비재윤체',\n",
       " '어비재윤체볼드',\n",
       " '어비조커체',\n",
       " '어비조커체볼드',\n",
       " '어비지글체',\n",
       " '어비지글체볼드',\n",
       " '어비지민2체',\n",
       " '어비지민2체볼드',\n",
       " '어비지슉지슉체',\n",
       " '어비지슉지슉체볼드',\n",
       " '어비지영체',\n",
       " '어비진건체',\n",
       " '어비진건체볼드',\n",
       " '어비쩡체',\n",
       " '어비쩡체볼드',\n",
       " '어비찌바체',\n",
       " '어비찌빠빠체',\n",
       " '어비찌빠빠체볼드',\n",
       " '어비찌풍딩체',\n",
       " '어비찌풍딩체볼드',\n",
       " '어비채은체',\n",
       " '어비채은체볼드',\n",
       " '어비챠밍체',\n",
       " '어비챠밍체볼드',\n",
       " '어비카이루체',\n",
       " '어비카이루체볼드',\n",
       " '어비컹컹체',\n",
       " '어비컹컹체볼드',\n",
       " '어비코르체',\n",
       " '어비퀸제이체',\n",
       " '어비퀸제이체볼드',\n",
       " '어비토모체',\n",
       " '어비톡기체',\n",
       " '어비톡기체볼드',\n",
       " '어비푸딩체',\n",
       " '어비푸딩체볼드',\n",
       " '어비하뉴이체',\n",
       " '어비하뉴이체볼드',\n",
       " '어비하늘비체',\n",
       " '어비하늘비체볼드',\n",
       " '어비하울체',\n",
       " '어비한비체',\n",
       " '어비한비체볼드',\n",
       " '어비햄체',\n",
       " '어비햄체볼드',\n",
       " '어비현듀체',\n",
       " '어비현듀체볼드',\n",
       " '어비현정체',\n",
       " '어비현정체볼드',\n",
       " '어비혜몽체',\n",
       " '어비혜몽체볼드',\n",
       " '어비혜키체',\n",
       " '어비혜키체볼드',\n",
       " '어비히욤체',\n",
       " '온글잎강동희',\n",
       " '온글잎고니꾸니는29살',\n",
       " '온글잎권시은',\n",
       " '온글잎귀요미스탠다드',\n",
       " '온글잎금강계자할매체',\n",
       " '온글잎금강두애할매체',\n",
       " '온글잎금강맹숙할매체',\n",
       " '온글잎금강문자할매체',\n",
       " '온글잎금강영숙할매체',\n",
       " '온글잎금강영순할매체',\n",
       " '온글잎금강옥희할매체',\n",
       " '온글잎금강정애할매체',\n",
       " '온글잎금강효남할매체',\n",
       " '온글잎금강희제할매체',\n",
       " '온글잎금향체',\n",
       " '온글잎기숙',\n",
       " '온글잎꽃내체',\n",
       " '온글잎누카',\n",
       " '온글잎뉴보현',\n",
       " '온글잎도파민중독',\n",
       " '온글잎디도니',\n",
       " '온글잎레디오볼펜체',\n",
       " '온글잎르네상스비밀',\n",
       " '온글잎맑은향기',\n",
       " '온글잎명숙체',\n",
       " '온글잎밑미',\n",
       " '온글잎박서희',\n",
       " '온글잎백수빈',\n",
       " '온글잎부천할머니',\n",
       " '온글잎부흥규리체',\n",
       " '온글잎부흥나영체',\n",
       " '온글잎부흥니엘체',\n",
       " '온글잎부흥대한체',\n",
       " '온글잎부흥동건체',\n",
       " '온글잎부흥미르체',\n",
       " '온글잎부흥민재체',\n",
       " '온글잎부흥민하체',\n",
       " '온글잎부흥상호체',\n",
       " '온글잎부흥성환체',\n",
       " '온글잎부흥슬아체',\n",
       " '온글잎부흥시우체',\n",
       " '온글잎부흥시윤체',\n",
       " '온글잎부흥예슬체',\n",
       " '온글잎부흥예찬체',\n",
       " '온글잎부흥용진체',\n",
       " '온글잎부흥은서체',\n",
       " '온글잎부흥은찬체',\n",
       " '온글잎부흥인성체',\n",
       " '온글잎부흥재율체',\n",
       " '온글잎부흥종진체',\n",
       " '온글잎부흥주원체',\n",
       " '온글잎부흥지영체',\n",
       " '온글잎부흥지혜쌤체',\n",
       " '온글잎부흥진우케이체',\n",
       " '온글잎부흥태득체',\n",
       " '온글잎부흥현규체'}"
      ]
     },
     "execution_count": 166,
     "metadata": {},
     "output_type": "execute_result"
    }
   ],
   "source": [
    "set(f.split(\"__\")[0] for f in os.listdir(fd))"
   ]
  },
  {
   "cell_type": "code",
   "execution_count": 165,
   "id": "1ab5691c-fb17-4dce-9c15-55be05d4bcb7",
   "metadata": {
    "tags": []
   },
   "outputs": [
    {
     "ename": "FileNotFoundError",
     "evalue": "[Errno 2] No such file or directory: '/home/jupyter/ai_font/data/train/pngs/트와이스나현__closing__갊.png'",
     "output_type": "error",
     "traceback": [
      "\u001b[0;31m---------------------------------------------------------------------------\u001b[0m",
      "\u001b[0;31mFileNotFoundError\u001b[0m                         Traceback (most recent call last)",
      "Cell \u001b[0;32mIn[165], line 1\u001b[0m\n\u001b[0;32m----> 1\u001b[0m img \u001b[38;5;241m=\u001b[39m \u001b[43mImage\u001b[49m\u001b[38;5;241;43m.\u001b[39;49m\u001b[43mopen\u001b[49m\u001b[43m(\u001b[49m\u001b[38;5;124;43mf\u001b[39;49m\u001b[38;5;124;43m\"\u001b[39;49m\u001b[38;5;132;43;01m{\u001b[39;49;00m\u001b[43mfd\u001b[49m\u001b[38;5;132;43;01m}\u001b[39;49;00m\u001b[38;5;124;43m/트와이스나현__closing__갊.png\u001b[39;49m\u001b[38;5;124;43m\"\u001b[39;49m\u001b[43m)\u001b[49m\n\u001b[1;32m      2\u001b[0m img\n",
      "File \u001b[0;32m/opt/conda/lib/python3.10/site-packages/PIL/Image.py:3277\u001b[0m, in \u001b[0;36mopen\u001b[0;34m(fp, mode, formats)\u001b[0m\n\u001b[1;32m   3274\u001b[0m     filename \u001b[38;5;241m=\u001b[39m os\u001b[38;5;241m.\u001b[39mpath\u001b[38;5;241m.\u001b[39mrealpath(os\u001b[38;5;241m.\u001b[39mfspath(fp))\n\u001b[1;32m   3276\u001b[0m \u001b[38;5;28;01mif\u001b[39;00m filename:\n\u001b[0;32m-> 3277\u001b[0m     fp \u001b[38;5;241m=\u001b[39m \u001b[43mbuiltins\u001b[49m\u001b[38;5;241;43m.\u001b[39;49m\u001b[43mopen\u001b[49m\u001b[43m(\u001b[49m\u001b[43mfilename\u001b[49m\u001b[43m,\u001b[49m\u001b[43m \u001b[49m\u001b[38;5;124;43m\"\u001b[39;49m\u001b[38;5;124;43mrb\u001b[39;49m\u001b[38;5;124;43m\"\u001b[39;49m\u001b[43m)\u001b[49m\n\u001b[1;32m   3278\u001b[0m     exclusive_fp \u001b[38;5;241m=\u001b[39m \u001b[38;5;28;01mTrue\u001b[39;00m\n\u001b[1;32m   3280\u001b[0m \u001b[38;5;28;01mtry\u001b[39;00m:\n",
      "\u001b[0;31mFileNotFoundError\u001b[0m: [Errno 2] No such file or directory: '/home/jupyter/ai_font/data/train/pngs/트와이스나현__closing__갊.png'"
     ]
    }
   ],
   "source": [
    "img = Image.open(f\"{fd}/__closing__갊.png\")\n",
    "img"
   ]
  },
  {
   "cell_type": "code",
   "execution_count": 47,
   "id": "562aed38-f6d7-46c3-b533-12fa05404b4c",
   "metadata": {
    "tags": []
   },
   "outputs": [
    {
     "data": {
      "text/plain": [
       "85.16773162939297"
      ]
     },
     "execution_count": 47,
     "metadata": {},
     "output_type": "execute_result"
    }
   ],
   "source": [
    "a[np.where(a!=255)].mean()"
   ]
  },
  {
   "cell_type": "code",
   "execution_count": 69,
   "id": "2c96b11c-5cc1-40e9-8c38-af176bbff561",
   "metadata": {
    "tags": []
   },
   "outputs": [],
   "source": [
    "aa = a.astype(np.float32)"
   ]
  },
  {
   "cell_type": "code",
   "execution_count": 70,
   "id": "1637da88-0f69-4228-b650-a7aec182ffce",
   "metadata": {
    "tags": []
   },
   "outputs": [],
   "source": [
    "notwhite = np.where(aa!=255)\n",
    "aa[notwhite] += 50 - aa[notwhite].mean()\n",
    "b = np.clip(aa,0,255).astype(np.uint8)"
   ]
  },
  {
   "cell_type": "code",
   "execution_count": 71,
   "id": "a33a7eb9-4a96-4234-9d69-96eb401d175f",
   "metadata": {
    "tags": []
   },
   "outputs": [
    {
     "data": {
      "image/jpeg": "[encoded data removed]",
      "image/png": "[encoded data removed]",
      "text/plain": [
       "<PIL.Image.Image image mode=L size=128x128>"
      ]
     },
     "execution_count": 71,
     "metadata": {},
     "output_type": "execute_result"
    }
   ],
   "source": [
    "Image.fromarray(b)"
   ]
  },
  {
   "cell_type": "code",
   "execution_count": 38,
   "id": "3657569d-a38a-4653-a4c3-142e68c34028",
   "metadata": {
    "tags": []
   },
   "outputs": [
    {
     "data": {
      "image/jpeg": "[encoded data removed]",
      "image/png": "[encoded data removed]",
      "text/plain": [
       "<PIL.Image.Image image mode=L size=128x128>"
      ]
     },
     "execution_count": 38,
     "metadata": {},
     "output_type": "execute_result"
    }
   ],
   "source": [
    "Image.fromarray(a)"
   ]
  },
  {
   "cell_type": "code",
   "execution_count": 72,
   "id": "22d04172-203b-4257-8036-5cd7e174ada7",
   "metadata": {
    "tags": []
   },
   "outputs": [],
   "source": [
    "a = b"
   ]
  },
  {
   "cell_type": "code",
   "execution_count": 135,
   "id": "96ceb48a-b8cb-42f7-9d25-e1c58a06f0ef",
   "metadata": {
    "tags": []
   },
   "outputs": [],
   "source": [
    "kernel = cv2.getStructuringElement(cv2.MORPH_RECT,(2,2))\n",
    "\n",
    "blurred = cv2.GaussianBlur(a, (3, 3), 0)\n",
    "\n",
    "processed = cv2.morphologyEx(blurred, cv2.MORPH_CLOSE, kernel)\n",
    "\n",
    "closing = Image.fromarray(processed)\n",
    "err = cv2.erode(processed, kernel)\n",
    "erode = Image.fromarray(err)\n",
    "dil = cv2.dilate(processed, kernel)\n",
    "dilate = Image.fromarray(dil)"
   ]
  },
  {
   "cell_type": "code",
   "execution_count": 136,
   "id": "85d459d5-3725-45bc-a1cf-7577f88bd40c",
   "metadata": {
    "tags": []
   },
   "outputs": [
    {
     "data": {
      "image/jpeg": "[encoded data removed]",
      "image/png": "[encoded data removed]",
      "text/plain": [
       "<PIL.Image.Image image mode=L size=128x128>"
      ]
     },
     "execution_count": 136,
     "metadata": {},
     "output_type": "execute_result"
    }
   ],
   "source": [
    "Image.fromarray(blurred)"
   ]
  },
  {
   "cell_type": "code",
   "execution_count": 137,
   "id": "ece4c327-02c4-4466-8a24-6dcf0c72ee62",
   "metadata": {
    "tags": []
   },
   "outputs": [
    {
     "data": {
      "image/jpeg": "[encoded data removed]",
      "image/png": "[encoded data removed]",
      "text/plain": [
       "<PIL.Image.Image image mode=L size=128x128>"
      ]
     },
     "execution_count": 137,
     "metadata": {},
     "output_type": "execute_result"
    }
   ],
   "source": [
    "closing"
   ]
  },
  {
   "cell_type": "code",
   "execution_count": 138,
   "id": "5a89b039-c217-4295-a4d0-0fd70eaccb2e",
   "metadata": {
    "tags": []
   },
   "outputs": [
    {
     "data": {
      "image/jpeg": "[encoded data removed]",
      "image/png": "[encoded data removed]",
      "text/plain": [
       "<PIL.Image.Image image mode=L size=128x128>"
      ]
     },
     "execution_count": 138,
     "metadata": {},
     "output_type": "execute_result"
    }
   ],
   "source": [
    "erode"
   ]
  },
  {
   "cell_type": "code",
   "execution_count": 139,
   "id": "9bdd507d-9453-472b-90f3-ad2ab95c259e",
   "metadata": {
    "tags": []
   },
   "outputs": [
    {
     "data": {
      "image/jpeg": "[encoded data removed]",
      "image/png": "[encoded data removed]",
      "text/plain": [
       "<PIL.Image.Image image mode=L size=128x128>"
      ]
     },
     "execution_count": 139,
     "metadata": {},
     "output_type": "execute_result"
    }
   ],
   "source": [
    "dilate"
   ]
  },
  {
   "cell_type": "code",
   "execution_count": null,
   "id": "1f24bf3d-4cf0-4eab-9897-b8d6e7664101",
   "metadata": {},
   "outputs": [],
   "source": []
  },
  {
   "cell_type": "code",
   "execution_count": null,
   "id": "da6fd020-33a9-4387-bb3e-40ea7fd89fd8",
   "metadata": {},
   "outputs": [],
   "source": []
  }
 ],
 "metadata": {
  "environment": {
   "kernel": "conda-base-py",
   "name": "workbench-notebooks.m121",
   "type": "gcloud",
   "uri": "us-docker.pkg.dev/deeplearning-platform-release/gcr.io/workbench-notebooks:m121"
  },
  "kernelspec": {
   "display_name": "Python 3 (ipykernel) (Local)",
   "language": "python",
   "name": "conda-base-py"
  },
  "language_info": {
   "codemirror_mode": {
    "name": "ipython",
    "version": 3
   },
   "file_extension": ".py",
   "mimetype": "text/x-python",
   "name": "python",
   "nbconvert_exporter": "python",
   "pygments_lexer": "ipython3",
   "version": "3.10.14"
  }
 },
 "nbformat": 4,
 "nbformat_minor": 5
}
