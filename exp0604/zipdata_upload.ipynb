{
 "cells": [
  {
   "cell_type": "code",
   "execution_count": 1,
   "id": "7c9cf8a8-16ca-4665-9110-1ffce641831d",
   "metadata": {
    "tags": []
   },
   "outputs": [],
   "source": [
    "import os\n",
    "import zipfile\n",
    "\n",
    "def zip_folders(folder_paths, zip_filename):\n",
    "    with zipfile.ZipFile(zip_filename, 'w', zipfile.ZIP_DEFLATED) as zipf:\n",
    "        for folder_path in folder_paths:\n",
    "            for root, _, files in os.walk(folder_path):\n",
    "                for file in files:\n",
    "                    file_path = os.path.join(root, file)\n",
    "                    # Calculate the relative path to the file inside the zip\n",
    "                    rel_path = os.path.relpath(file_path, os.path.dirname(folder_path))\n",
    "                    zipf.write(file_path, rel_path)"
   ]
  },
  {
   "cell_type": "code",
   "execution_count": 3,
   "id": "8559e475-c3c8-4392-8dd3-8fd27b65c588",
   "metadata": {
    "tags": []
   },
   "outputs": [],
   "source": [
    "# Example usage\n",
    "folder_paths = [\"/home/jupyter/ai_font/data/train\"]\n",
    "zip_filename = \"train_dataset.zip\"  # Name of the zip file to create\n",
    "\n",
    "# zip_folders(folder_paths, zip_filename)"
   ]
  },
  {
   "cell_type": "code",
   "execution_count": 4,
   "id": "b87af0f2-6f3f-4e73-ae64-c6dea2317227",
   "metadata": {
    "tags": []
   },
   "outputs": [],
   "source": [
    "from google.cloud import storage\n",
    "\n",
    "def upload_to_bucket(bucket_name, source_file_name, destination_blob_name):\n",
    "    \"\"\"Uploads a file to a Google Cloud Storage bucket.\"\"\"\n",
    "    # Initialize a client\n",
    "    storage_client = storage.Client()\n",
    "    \n",
    "    # Get the bucket\n",
    "    bucket = storage_client.bucket(bucket_name)\n",
    "    \n",
    "    # Upload the file\n",
    "    blob = bucket.blob(destination_blob_name)\n",
    "    blob.upload_from_filename(source_file_name)\n",
    "    \n",
    "    print(f\"File {source_file_name} uploaded to {bucket_name} as {destination_blob_name}\")"
   ]
  },
  {
   "cell_type": "code",
   "execution_count": null,
   "id": "3ef7c9a7-3bec-4d7f-99da-4f84093f2375",
   "metadata": {
    "tags": []
   },
   "outputs": [
    {
     "name": "stdout",
     "output_type": "stream",
     "text": [
      "File train_dataset.zip uploaded to leo_font as zipfiles/train_dataset.zip\n"
     ]
    }
   ],
   "source": [
    "# Example usage\n",
    "bucket_name = \"leo_font\"\n",
    "source_file_name = zip_filename\n",
    "destination_blob_name = f\"zipfiles/{zip_filename}\"\n",
    "\n",
    "upload_to_bucket(bucket_name, source_file_name, destination_blob_name)"
   ]
  },
  {
   "cell_type": "code",
   "execution_count": 3,
   "id": "9376cf4c-82c4-4c7b-b6ea-56944c2a467a",
   "metadata": {},
   "outputs": [],
   "source": [
    "# Example usage\n",
    "topath = \"/home/jupyter/ai_font/data/processed\"\n",
    "folder_paths = [f\"{topath}/seen\",f\"{topath}/unseen\"]  # Replace with the paths to your folders\n",
    "zip_filename = \"exp1_split.zip\"  # Name of the zip file to create\n",
    "\n",
    "zip_folders(folder_paths, zip_filename)"
   ]
  },
  {
   "cell_type": "code",
   "execution_count": 4,
   "id": "2b8324e2-2953-463b-9e02-d221441959ef",
   "metadata": {
    "tags": []
   },
   "outputs": [
    {
     "name": "stdout",
     "output_type": "stream",
     "text": [
      "File exp1_split.zip uploaded to leo_font as zipfiles/exp1_split.zip\n"
     ]
    }
   ],
   "source": [
    "# Example usage\n",
    "bucket_name = \"leo_font\"\n",
    "source_file_name = \"exp1_split.zip\"\n",
    "destination_blob_name = \"zipfiles/exp1_split.zip\"\n",
    "\n",
    "upload_to_bucket(bucket_name, source_file_name, destination_blob_name)"
   ]
  },
  {
   "cell_type": "code",
   "execution_count": null,
   "id": "13f9f9de-5ef8-45ee-a94a-1d38486252f9",
   "metadata": {},
   "outputs": [],
   "source": []
  }
 ],
 "metadata": {
  "environment": {
   "kernel": "conda-env-pytorch-pytorch",
   "name": "workbench-notebooks.m121",
   "type": "gcloud",
   "uri": "us-docker.pkg.dev/deeplearning-platform-release/gcr.io/workbench-notebooks:m121"
  },
  "kernelspec": {
   "display_name": "PyTorch 1-13 (Local)",
   "language": "python",
   "name": "conda-env-pytorch-pytorch"
  },
  "language_info": {
   "codemirror_mode": {
    "name": "ipython",
    "version": 3
   },
   "file_extension": ".py",
   "mimetype": "text/x-python",
   "name": "python",
   "nbconvert_exporter": "python",
   "pygments_lexer": "ipython3",
   "version": "3.10.14"
  }
 },
 "nbformat": 4,
 "nbformat_minor": 5
}
