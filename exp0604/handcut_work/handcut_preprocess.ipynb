{
 "cells": [
  {
   "cell_type": "code",
   "execution_count": 1,
   "id": "c01472a4-b3e7-46e8-9bfb-5499e4551c01",
   "metadata": {
    "tags": []
   },
   "outputs": [],
   "source": [
    "import os\n",
    "import cv2\n",
    "import numpy as np\n",
    "\n",
    "from PIL import Image"
   ]
  },
  {
   "cell_type": "code",
   "execution_count": 68,
   "id": "61a250c0-f297-4ccf-b174-67ceb9e84cb8",
   "metadata": {
    "tags": []
   },
   "outputs": [],
   "source": [
    "def get_unpadded_borders(img):\n",
    "    kernel = cv2.getStructuringElement(cv2.MORPH_RECT,(2,2))\n",
    "    processed = cv2.morphologyEx(np.array(img), cv2.MORPH_CLOSE, kernel)\n",
    "    npimg = 255 - np.array(processed)\n",
    "    npimg[np.where(npimg < 16)] = 0\n",
    "    wmin = npimg.sum(0).nonzero()[0].min()\n",
    "    wmax = npimg.sum(0).nonzero()[0].max()\n",
    "    hmin = npimg.sum(1).nonzero()[0].min()\n",
    "    hmax = npimg.sum(1).nonzero()[0].max()\n",
    "    return wmin, wmax, hmin, hmax\n",
    "\n",
    "def unpad(img):\n",
    "    wmin, wmax, hmin, hmax = get_unpadded_borders(img)\n",
    "    wmin = wmin - 1 if wmin > 0 else wmin\n",
    "    wmax = wmax + 1 if wmax < img.width else wmax\n",
    "    hmin = hmin - 1 if hmin > 0 else hmin\n",
    "    hmax = hmax + 1 if hmax < img.height else hmax\n",
    "    return Image.fromarray(np.array(img)[hmin:hmax,wmin:wmax])\n",
    "\n",
    "def centering(img, new_size=128, padding_color=255):\n",
    "\n",
    "    # Resize the image using the new dimensions\n",
    "    resized_img = unpad(img)\n",
    "    \n",
    "    # Create a new blank image with padding\n",
    "    padded_img = Image.new(\"L\", (new_size, new_size), padding_color)\n",
    "    \n",
    "    # Calculate the position to paste the resized image\n",
    "    left = (padded_img.width - resized_img.width) // 2\n",
    "    top = (padded_img.height - resized_img.height) // 2\n",
    "    right = left + resized_img.width\n",
    "    bottom = top + resized_img.height\n",
    "    \n",
    "    # Paste the resized image onto the blank image\n",
    "    padded_img.paste(resized_img, (left, top, right, bottom))\n",
    "    \n",
    "    return padded_img\n",
    "\n",
    "def augmenting(img):\n",
    "    img = np.array(img)\n",
    "    kernel = cv2.getStructuringElement(cv2.MORPH_RECT,(2,2))\n",
    "\n",
    "    blurred = cv2.GaussianBlur(img, (3, 3), 0)\n",
    "    processed = cv2.morphologyEx(blurred, cv2.MORPH_CLOSE, kernel)\n",
    "    closing = Image.fromarray(processed)\n",
    "    # err = cv2.erode(processed, kernel)\n",
    "    # erode = Image.fromarray(err)\n",
    "    # dil = cv2.dilate(processed, kernel)\n",
    "    # dilate = Image.fromarray(dil)\n",
    "    return {\n",
    "        \"closing\": closing,\n",
    "        # \"erode\": erode,\n",
    "        # \"dilate\":dilate,\n",
    "    }"
   ]
  },
  {
   "cell_type": "code",
   "execution_count": 62,
   "id": "4a7b2afd-c956-4304-b8e1-586726296e93",
   "metadata": {
    "tags": []
   },
   "outputs": [],
   "source": [
    "files = [f for f in os.listdir(fd) if f.endswith(\".png\") & (\"플레이브밤비\" not in f)]"
   ]
  },
  {
   "cell_type": "code",
   "execution_count": 71,
   "id": "2af24b2d-a643-40eb-b43c-b8f9f97d1538",
   "metadata": {
    "tags": []
   },
   "outputs": [],
   "source": [
    "for f in files:\n",
    "    img = Image.open(f\"{fd}/{f}\")\n",
    "    img = centering(img)\n",
    "    img = augmenting(img)['closing']\n",
    "    img.save(f\"{fd}/플레이브밤비__closing__{f}\")"
   ]
  },
  {
   "cell_type": "code",
   "execution_count": null,
   "id": "50cb4d65-ed7a-438b-8186-8a7341f2f4d3",
   "metadata": {},
   "outputs": [],
   "source": []
  }
 ],
 "metadata": {
  "environment": {
   "kernel": "conda-base-py",
   "name": "workbench-notebooks.m122",
   "type": "gcloud",
   "uri": "us-docker.pkg.dev/deeplearning-platform-release/gcr.io/workbench-notebooks:m122"
  },
  "kernelspec": {
   "display_name": "Python 3 (ipykernel) (Local)",
   "language": "python",
   "name": "conda-base-py"
  },
  "language_info": {
   "codemirror_mode": {
    "name": "ipython",
    "version": 3
   },
   "file_extension": ".py",
   "mimetype": "text/x-python",
   "name": "python",
   "nbconvert_exporter": "python",
   "pygments_lexer": "ipython3",
   "version": "3.10.14"
  }
 },
 "nbformat": 4,
 "nbformat_minor": 5
}
