{
 "cells": [
  {
   "cell_type": "code",
   "execution_count": 1,
   "id": "675025f9-ea49-4311-9d62-883dce6f091a",
   "metadata": {
    "tags": []
   },
   "outputs": [],
   "source": [
    "import os\n",
    "import numpy as np\n",
    "from tqdm import tqdm\n",
    "from PIL import Image"
   ]
  },
  {
   "cell_type": "code",
   "execution_count": 2,
   "id": "3c5bdb5e-08bf-450f-9fb7-5102147ad961",
   "metadata": {
    "tags": []
   },
   "outputs": [],
   "source": [
    "# 기존 데이터 셋"
   ]
  },
  {
   "cell_type": "code",
   "execution_count": 17,
   "id": "b3c222f1-7d47-4d65-8ba9-db4ccce5e1ef",
   "metadata": {
    "tags": []
   },
   "outputs": [],
   "source": [
    "basefd = \"/home/jupyter/ai_font/data\"\n",
    "font = \"교보손글씨2019\"\n",
    "cfont = \"시스템굴림\"\n",
    "r = 96\n",
    "img = Image.new(\"L\", (r*4, r*4), color=255)\n",
    "\n",
    "path = f\"{basefd}/train/{font}/{font}__closing__동.png\"\n",
    "img.paste(Image.open(path).convert('L').resize((r,r), Image.BILINEAR), (0,0,))\n",
    "\n",
    "path = f\"{basefd}/train/{cfont}/{cfont}__closing__동.png\"\n",
    "img.paste(Image.open(path).convert('L').resize((r,r), Image.BILINEAR), (r*2,0,))\n",
    "\n",
    "path = f\"{basefd}/train/{font}/{font}__closing__롱.png\"\n",
    "img.paste(Image.open(path).convert('L').resize((r,r), Image.BILINEAR), (r*3,0,))\n",
    "\n",
    "path = f\"{basefd}/train/{font}/{font}__closing__해.png\"\n",
    "img.paste(Image.open(path).convert('L').resize((r,r), Image.BILINEAR), (0,r,))\n",
    "\n",
    "path = f\"{basefd}/train/{cfont}/{cfont}__closing__해.png\"\n",
    "img.paste(Image.open(path).convert('L').resize((r,r), Image.BILINEAR), (r*2,r,))\n",
    "\n",
    "path = f\"{basefd}/train/{font}/{font}__closing__하.png\"\n",
    "img.paste(Image.open(path).convert('L').resize((r,r), Image.BILINEAR), (r*3,r,))\n",
    "\n",
    "path = f\"{basefd}/train/{font}/{font}__closing__물.png\"\n",
    "img.paste(Image.open(path).convert('L').resize((r,r), Image.BILINEAR), (0,r*2,))\n",
    "\n",
    "path = f\"{basefd}/train/{cfont}/{cfont}__closing__물.png\"\n",
    "img.paste(Image.open(path).convert('L').resize((r,r), Image.BILINEAR), (r*2,r*2,))\n",
    "\n",
    "path = f\"{basefd}/train/{font}/{font}__closing__굴.png\"\n",
    "img.paste(Image.open(path).convert('L').resize((r,r), Image.BILINEAR), (r*3,r*2,))\n",
    "\n",
    "path = f\"{basefd}/train/{font}/{font}__closing__과.png\"\n",
    "img.paste(Image.open(path).convert('L').resize((r,r), Image.BILINEAR), (0,r*3,))\n",
    "\n",
    "path = f\"{basefd}/train/{cfont}/{cfont}__closing__과.png\"\n",
    "img.paste(Image.open(path).convert('L').resize((r,r), Image.BILINEAR), (r*2,r*3,))\n",
    "\n",
    "path = f\"{basefd}/train/{font}/{font}__closing__가.png\"\n",
    "img.paste(Image.open(path).convert('L').resize((r,r), Image.BILINEAR), (r*3,r*3,))"
   ]
  },
  {
   "cell_type": "code",
   "execution_count": 19,
   "id": "138fd572-1056-4c3e-9b25-a56e8ff505bd",
   "metadata": {
    "tags": []
   },
   "outputs": [],
   "source": [
    "img.save(f\"{basefd}/examples/old_inout.png\")"
   ]
  },
  {
   "cell_type": "code",
   "execution_count": 20,
   "id": "1c6640af-bff6-49c1-9ea5-5b66098fe796",
   "metadata": {
    "tags": []
   },
   "outputs": [],
   "source": [
    "# Assemble 데이터셋"
   ]
  },
  {
   "cell_type": "code",
   "execution_count": 21,
   "id": "a4a6a1f0-0e9f-4a2b-b93b-2aba86b7d8de",
   "metadata": {
    "tags": []
   },
   "outputs": [],
   "source": [
    "basefd = \"/home/jupyter/ai_font/data\"\n",
    "font = \"교보손글씨2019\"\n",
    "cfont = \"시스템굴림\"\n",
    "r = 96\n",
    "img = Image.new(\"L\", (r*4, r*4), color=255)\n",
    "\n",
    "path = f\"{basefd}/train/{font}/{font}__closing__동.png\"\n",
    "img.paste(Image.open(path).convert('L').resize((r,r), Image.BILINEAR), (0,0,))\n",
    "\n",
    "path = f\"{basefd}/train/{cfont}/{cfont}__closing__동.png\"\n",
    "img.paste(Image.open(path).convert('L').resize((r,r), Image.BILINEAR), (r*2,0,))\n",
    "\n",
    "path = f\"{basefd}/train_assembled/{font}/{font}__closing__동.png\"\n",
    "img.paste(Image.open(path).convert('L').resize((r,r), Image.BILINEAR), (r*3,0,))\n",
    "\n",
    "path = f\"{basefd}/train/{font}/{font}__closing__해.png\"\n",
    "img.paste(Image.open(path).convert('L').resize((r,r), Image.BILINEAR), (0,r,))\n",
    "\n",
    "path = f\"{basefd}/train/{cfont}/{cfont}__closing__해.png\"\n",
    "img.paste(Image.open(path).convert('L').resize((r,r), Image.BILINEAR), (r*2,r,))\n",
    "\n",
    "path = f\"{basefd}/train_assembled/{font}/{font}__closing__해.png\"\n",
    "img.paste(Image.open(path).convert('L').resize((r,r), Image.BILINEAR), (r*3,r,))\n",
    "\n",
    "path = f\"{basefd}/train/{font}/{font}__closing__물.png\"\n",
    "img.paste(Image.open(path).convert('L').resize((r,r), Image.BILINEAR), (0,r*2,))\n",
    "\n",
    "path = f\"{basefd}/train/{cfont}/{cfont}__closing__물.png\"\n",
    "img.paste(Image.open(path).convert('L').resize((r,r), Image.BILINEAR), (r*2,r*2,))\n",
    "\n",
    "path = f\"{basefd}/train_assembled/{font}/{font}__closing__물.png\"\n",
    "img.paste(Image.open(path).convert('L').resize((r,r), Image.BILINEAR), (r*3,r*2,))\n",
    "\n",
    "path = f\"{basefd}/train/{font}/{font}__closing__과.png\"\n",
    "img.paste(Image.open(path).convert('L').resize((r,r), Image.BILINEAR), (0,r*3,))\n",
    "\n",
    "path = f\"{basefd}/train/{cfont}/{cfont}__closing__과.png\"\n",
    "img.paste(Image.open(path).convert('L').resize((r,r), Image.BILINEAR), (r*2,r*3,))\n",
    "\n",
    "path = f\"{basefd}/train_assembled/{font}/{font}__closing__과.png\"\n",
    "img.paste(Image.open(path).convert('L').resize((r,r), Image.BILINEAR), (r*3,r*3,))"
   ]
  },
  {
   "cell_type": "code",
   "execution_count": 23,
   "id": "7c09dd6e-6875-4627-bcbf-83aadfe7cb7a",
   "metadata": {
    "tags": []
   },
   "outputs": [],
   "source": [
    "img.save(f\"{basefd}/examples/assemble_inout.png\")"
   ]
  },
  {
   "cell_type": "code",
   "execution_count": null,
   "id": "64418156-f651-4d55-ae5c-3899516061a2",
   "metadata": {},
   "outputs": [],
   "source": []
  }
 ],
 "metadata": {
  "environment": {
   "kernel": "conda-base-py",
   "name": "workbench-notebooks.m122",
   "type": "gcloud",
   "uri": "us-docker.pkg.dev/deeplearning-platform-release/gcr.io/workbench-notebooks:m122"
  },
  "kernelspec": {
   "display_name": "Python 3 (ipykernel) (Local)",
   "language": "python",
   "name": "conda-base-py"
  },
  "language_info": {
   "codemirror_mode": {
    "name": "ipython",
    "version": 3
   },
   "file_extension": ".py",
   "mimetype": "text/x-python",
   "name": "python",
   "nbconvert_exporter": "python",
   "pygments_lexer": "ipython3",
   "version": "3.10.14"
  }
 },
 "nbformat": 4,
 "nbformat_minor": 5
}
