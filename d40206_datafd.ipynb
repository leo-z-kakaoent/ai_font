{
 "cells": [
  {
   "cell_type": "markdown",
   "id": "5cfcd2eb-832f-4a3b-9189-1f3a2d9578ed",
   "metadata": {},
   "source": [
    "![ex_screenshot](fd_path.png)"
   ]
  },
  {
   "cell_type": "code",
   "execution_count": 81,
   "id": "98f72ee7-53e6-4e14-915f-d6b0c6d7c2ef",
   "metadata": {
    "tags": []
   },
   "outputs": [],
   "source": [
    "import os\n",
    "import random\n",
    "import numpy as np\n",
    "from PIL import Image\n",
    "import torchvision.transforms.functional as F\n",
    "import torch\n",
    "from torch.utils.data import Dataset\n",
    "import torchvision.transforms as transforms\n",
    "\n",
    "diff = imsize[0]-imsize[1]\n",
    "if diff >= 0:\n",
    "    padding = (0,int(diff/2))\n",
    "else:\n",
    "    padding = (int(abs(diff)/2),0)\n",
    "resolution = 90 # FontDiffusion\n",
    "transform =  transforms.Compose([\n",
    "    transforms.Pad(padding,fill=255),\n",
    "    transforms.Resize((resolution, resolution), interpolation=transforms.InterpolationMode.BILINEAR), \n",
    "    transforms.ToTensor()\n",
    "])"
   ]
  },
  {
   "cell_type": "code",
   "execution_count": 82,
   "id": "b5e5800b-1ec6-4a24-84ff-22a35151eda7",
   "metadata": {
    "tags": []
   },
   "outputs": [],
   "source": [
    "ip = 'data/r40202/pngs/apple__AppleMyungjo__0.png'"
   ]
  },
  {
   "cell_type": "code",
   "execution_count": 83,
   "id": "72db6c15-4c63-4ab7-9dec-dde08f7c002f",
   "metadata": {
    "tags": []
   },
   "outputs": [],
   "source": [
    "content_image = Image.open(ip)"
   ]
  },
  {
   "cell_type": "code",
   "execution_count": 84,
   "id": "d6cc4ea6-867c-4c0e-8145-3748c09c9029",
   "metadata": {
    "tags": []
   },
   "outputs": [],
   "source": [
    "imsize = content_image.size"
   ]
  },
  {
   "cell_type": "code",
   "execution_count": 85,
   "id": "4840f8f9-5cca-4074-8c2f-6192570d0125",
   "metadata": {
    "tags": []
   },
   "outputs": [
    {
     "data": {
      "text/plain": [
       "(233, 238)"
      ]
     },
     "execution_count": 85,
     "metadata": {},
     "output_type": "execute_result"
    }
   ],
   "source": [
    "imsize"
   ]
  },
  {
   "cell_type": "code",
   "execution_count": 86,
   "id": "c31b3401-752e-4649-8750-993286acb9c8",
   "metadata": {
    "tags": []
   },
   "outputs": [
    {
     "data": {
      "text/plain": [
       "torch.Size([1, 90, 90])"
      ]
     },
     "execution_count": 86,
     "metadata": {},
     "output_type": "execute_result"
    }
   ],
   "source": [
    "transform(content_image).shape"
   ]
  },
  {
   "cell_type": "code",
   "execution_count": 87,
   "id": "be0b86f3-4a4f-4178-8d43-32e77d1962f7",
   "metadata": {
    "tags": []
   },
   "outputs": [
    {
     "data": {
      "text/plain": [
       "torch.Size([1, 90, 90])"
      ]
     },
     "execution_count": 87,
     "metadata": {},
     "output_type": "execute_result"
    }
   ],
   "source": [
    "transform(content_image).shape"
   ]
  },
  {
   "cell_type": "code",
   "execution_count": 80,
   "id": "b15ba9ef-cec0-4209-b662-2082bb49fa1e",
   "metadata": {
    "tags": []
   },
   "outputs": [
    {
     "data": {
      "image/jpeg": "[encoded data removed]",
      "image/png": "[encoded data removed]",
      "text/plain": [
       "<PIL.Image.Image image mode=L size=237x238>"
      ]
     },
     "execution_count": 80,
     "metadata": {},
     "output_type": "execute_result"
    }
   ],
   "source": [
    "transform(content_image)"
   ]
  },
  {
   "cell_type": "code",
   "execution_count": null,
   "id": "e8f48dde-a453-42e0-9234-4e22ee7d212f",
   "metadata": {},
   "outputs": [],
   "source": [
    "\n",
    "class FontDataset(Dataset):\n",
    "    \"\"\"The dataset of font generation  \n",
    "    \"\"\"\n",
    "    def __init__(self, args, phase, transforms=None, scr=False):\n",
    "        super().__init__()\n",
    "        self.root = args.data_root\n",
    "        self.phase = phase\n",
    "        \n",
    "        # Get Data path\n",
    "        self.get_path()\n",
    "        self.transforms = transforms\n",
    "        self.nonorm_transforms = get_nonorm_transform(args.resolution)\n",
    "\n",
    "    def get_path(self):\n",
    "        self.target_images = []\n",
    "        # images with related style  \n",
    "        self.style_to_images = {}\n",
    "        target_image_dir = f\"{self.root}/{self.phase}/TargetImage\"\n",
    "        for style in os.listdir(target_image_dir):\n",
    "            images_related_style = []\n",
    "            for img in os.listdir(f\"{target_image_dir}/{style}\"):\n",
    "                img_path = f\"{target_image_dir}/{style}/{img}\"\n",
    "                self.target_images.append(img_path)\n",
    "                images_related_style.append(img_path)\n",
    "            self.style_to_images[style] = images_related_style\n",
    "\n",
    "    def __getitem__(self, index):\n",
    "        target_image_path = self.target_images[index]\n",
    "        target_image_name = target_image_path.split('/')[-1]\n",
    "        style, content = target_image_name.split('.')[0].split('+')\n",
    "        \n",
    "        # Read content image\n",
    "        content_image_path = f\"{self.root}/{self.phase}/ContentImage/{content}.jpg\"\n",
    "        content_image = Image.open(content_image_path).convert('RGB')\n",
    "\n",
    "        # Random sample used for style image\n",
    "        images_related_style = self.style_to_images[style].copy()\n",
    "        images_related_style.remove(target_image_path)\n",
    "        style_image_path = random.choice(images_related_style)\n",
    "        style_image = Image.open(style_image_path).convert(\"RGB\")\n",
    "        \n",
    "        # Read target image\n",
    "        target_image = Image.open(target_image_path).convert(\"RGB\")\n",
    "        nonorm_target_image = self.nonorm_transforms(target_image)\n",
    "\n",
    "        if self.transforms is not None:\n",
    "            content_image = self.transforms[0](content_image)\n",
    "            style_image = self.transforms[1](style_image)\n",
    "            target_image = self.transforms[2](target_image)\n",
    "        \n",
    "        sample = {\n",
    "            \"content_image\": content_image,\n",
    "            \"style_image\": style_image,\n",
    "            \"target_image\": target_image,\n",
    "            \"target_image_path\": target_image_path,\n",
    "            \"nonorm_target_image\": nonorm_target_image}\n",
    "        \n",
    "        if self.scr:\n",
    "            # Get neg image from the different style of the same content\n",
    "            style_list = list(self.style_to_images.keys())\n",
    "            style_index = style_list.index(style)\n",
    "            style_list.pop(style_index)\n",
    "            choose_neg_names = []\n",
    "            for i in range(self.num_neg):\n",
    "                choose_style = random.choice(style_list)\n",
    "                choose_index = style_list.index(choose_style)\n",
    "                style_list.pop(choose_index)\n",
    "                choose_neg_name = f\"{self.root}/train/TargetImage/{choose_style}/{choose_style}+{content}.jpg\"\n",
    "                choose_neg_names.append(choose_neg_name)\n",
    "\n",
    "            # Load neg_images\n",
    "            for i, neg_name in enumerate(choose_neg_names):\n",
    "                neg_image = Image.open(neg_name).convert(\"RGB\")\n",
    "                if self.transforms is not None:\n",
    "                    neg_image = self.transforms[2](neg_image)\n",
    "                if i == 0:\n",
    "                    neg_images = neg_image[None, :, :, :]\n",
    "                else:\n",
    "                    neg_images = torch.cat([neg_images, neg_image[None, :, :, :]], dim=0)\n",
    "            sample[\"neg_images\"] = neg_images\n",
    "\n",
    "        return sample\n",
    "\n",
    "    def __len__(self):\n",
    "        return len(self.target_images)"
   ]
  }
 ],
 "metadata": {
  "environment": {
   "kernel": "conda-root-py",
   "name": "workbench-notebooks.m113",
   "type": "gcloud",
   "uri": "gcr.io/deeplearning-platform-release/workbench-notebooks:m113"
  },
  "kernelspec": {
   "display_name": "Python 3 (ipykernel) (Local)",
   "language": "python",
   "name": "conda-root-py"
  },
  "language_info": {
   "codemirror_mode": {
    "name": "ipython",
    "version": 3
   },
   "file_extension": ".py",
   "mimetype": "text/x-python",
   "name": "python",
   "nbconvert_exporter": "python",
   "pygments_lexer": "ipython3",
   "version": "3.10.13"
  }
 },
 "nbformat": 4,
 "nbformat_minor": 5
}
