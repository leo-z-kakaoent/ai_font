{
 "cells": [
  {
   "cell_type": "code",
   "execution_count": 5,
   "id": "a11a296a-a74f-4c1b-8090-3f1864c0a5e7",
   "metadata": {
    "collapsed": true,
    "jupyter": {
     "outputs_hidden": true
    },
    "tags": []
   },
   "outputs": [
    {
     "name": "stderr",
     "output_type": "stream",
     "text": [
      "  0%|          | 49/769433 [00:29<126:33:46,  1.69it/s, filename=UhBee wocked woman__5268.png]  \n"
     ]
    },
    {
     "name": "stdout",
     "output_type": "stream",
     "text": [
      "Unexpected exception formatting exception. Falling back to standard exception\n"
     ]
    },
    {
     "name": "stderr",
     "output_type": "stream",
     "text": [
      "Traceback (most recent call last):\n",
      "  File \"/opt/conda/lib/python3.10/site-packages/IPython/core/interactiveshell.py\", line 3553, in run_code\n",
      "    exec(code_obj, self.user_global_ns, self.user_ns)\n",
      "  File \"/var/tmp/ipykernel_88382/3173798732.py\", line 14, in <module>\n",
      "    blob.upload_from_filename(source_file_fd+file)\n",
      "  File \"/opt/conda/lib/python3.10/site-packages/google/cloud/storage/blob.py\", line 2929, in upload_from_filename\n",
      "    self._handle_filename_and_upload(\n",
      "  File \"/opt/conda/lib/python3.10/site-packages/google/cloud/storage/blob.py\", line 2799, in _handle_filename_and_upload\n",
      "    self._prep_and_do_upload(\n",
      "  File \"/opt/conda/lib/python3.10/site-packages/google/cloud/storage/blob.py\", line 2607, in _prep_and_do_upload\n",
      "    created_json = self._do_upload(\n",
      "  File \"/opt/conda/lib/python3.10/site-packages/google/cloud/storage/blob.py\", line 2413, in _do_upload\n",
      "    response = self._do_multipart_upload(\n",
      "  File \"/opt/conda/lib/python3.10/site-packages/google/cloud/storage/blob.py\", line 1926, in _do_multipart_upload\n",
      "    response = upload.transmit(\n",
      "  File \"/opt/conda/lib/python3.10/site-packages/google/resumable_media/requests/upload.py\", line 153, in transmit\n",
      "    return _request_helpers.wait_and_retry(\n",
      "  File \"/opt/conda/lib/python3.10/site-packages/google/resumable_media/requests/_request_helpers.py\", line 155, in wait_and_retry\n",
      "    response = func()\n",
      "  File \"/opt/conda/lib/python3.10/site-packages/google/resumable_media/requests/upload.py\", line 145, in retriable_request\n",
      "    result = transport.request(\n",
      "  File \"/opt/conda/lib/python3.10/site-packages/google/auth/transport/requests.py\", line 541, in request\n",
      "    response = super(AuthorizedSession, self).request(\n",
      "  File \"/opt/conda/lib/python3.10/site-packages/requests/sessions.py\", line 589, in request\n",
      "    resp = self.send(prep, **send_kwargs)\n",
      "  File \"/opt/conda/lib/python3.10/site-packages/requests/sessions.py\", line 703, in send\n",
      "    r = adapter.send(request, **kwargs)\n",
      "  File \"/opt/conda/lib/python3.10/site-packages/requests/adapters.py\", line 486, in send\n",
      "    resp = conn.urlopen(\n",
      "  File \"/opt/conda/lib/python3.10/site-packages/urllib3/connectionpool.py\", line 790, in urlopen\n",
      "    response = self._make_request(\n",
      "  File \"/opt/conda/lib/python3.10/site-packages/urllib3/connectionpool.py\", line 536, in _make_request\n",
      "    response = conn.getresponse()\n",
      "  File \"/opt/conda/lib/python3.10/site-packages/urllib3/connection.py\", line 461, in getresponse\n",
      "    httplib_response = super().getresponse()\n",
      "  File \"/opt/conda/lib/python3.10/http/client.py\", line 1375, in getresponse\n",
      "    response.begin()\n",
      "  File \"/opt/conda/lib/python3.10/http/client.py\", line 318, in begin\n",
      "    version, status, reason = self._read_status()\n",
      "  File \"/opt/conda/lib/python3.10/http/client.py\", line 279, in _read_status\n",
      "    line = str(self.fp.readline(_MAXLINE + 1), \"iso-8859-1\")\n",
      "  File \"/opt/conda/lib/python3.10/socket.py\", line 705, in readinto\n",
      "    return self._sock.recv_into(b)\n",
      "  File \"/opt/conda/lib/python3.10/ssl.py\", line 1307, in recv_into\n",
      "    return self.read(nbytes, buffer)\n",
      "  File \"/opt/conda/lib/python3.10/ssl.py\", line 1163, in read\n",
      "    return self._sslobj.read(len, buffer)\n",
      "KeyboardInterrupt\n",
      "\n",
      "During handling of the above exception, another exception occurred:\n",
      "\n",
      "Traceback (most recent call last):\n",
      "  File \"/opt/conda/lib/python3.10/site-packages/IPython/core/interactiveshell.py\", line 2144, in showtraceback\n",
      "    stb = self.InteractiveTB.structured_traceback(\n",
      "  File \"/opt/conda/lib/python3.10/site-packages/IPython/core/ultratb.py\", line 1435, in structured_traceback\n",
      "    return FormattedTB.structured_traceback(\n",
      "  File \"/opt/conda/lib/python3.10/site-packages/IPython/core/ultratb.py\", line 1326, in structured_traceback\n",
      "    return VerboseTB.structured_traceback(\n",
      "  File \"/opt/conda/lib/python3.10/site-packages/IPython/core/ultratb.py\", line 1173, in structured_traceback\n",
      "    formatted_exception = self.format_exception_as_a_whole(etype, evalue, etb, number_of_lines_of_context,\n",
      "  File \"/opt/conda/lib/python3.10/site-packages/IPython/core/ultratb.py\", line 1088, in format_exception_as_a_whole\n",
      "    frames.append(self.format_record(record))\n",
      "  File \"/opt/conda/lib/python3.10/site-packages/IPython/core/ultratb.py\", line 970, in format_record\n",
      "    frame_info.lines, Colors, self.has_colors, lvals\n",
      "  File \"/opt/conda/lib/python3.10/site-packages/IPython/core/ultratb.py\", line 792, in lines\n",
      "    return self._sd.lines\n",
      "  File \"/opt/conda/lib/python3.10/site-packages/stack_data/utils.py\", line 145, in cached_property_wrapper\n",
      "    value = obj.__dict__[self.func.__name__] = self.func(obj)\n",
      "  File \"/opt/conda/lib/python3.10/site-packages/stack_data/core.py\", line 734, in lines\n",
      "    pieces = self.included_pieces\n",
      "  File \"/opt/conda/lib/python3.10/site-packages/stack_data/utils.py\", line 145, in cached_property_wrapper\n",
      "    value = obj.__dict__[self.func.__name__] = self.func(obj)\n",
      "  File \"/opt/conda/lib/python3.10/site-packages/stack_data/core.py\", line 677, in included_pieces\n",
      "    scope_pieces = self.scope_pieces\n",
      "  File \"/opt/conda/lib/python3.10/site-packages/stack_data/utils.py\", line 145, in cached_property_wrapper\n",
      "    value = obj.__dict__[self.func.__name__] = self.func(obj)\n",
      "  File \"/opt/conda/lib/python3.10/site-packages/stack_data/core.py\", line 614, in scope_pieces\n",
      "    scope_start, scope_end = self.source.line_range(self.scope)\n",
      "  File \"/opt/conda/lib/python3.10/site-packages/stack_data/core.py\", line 178, in line_range\n",
      "    return line_range(self.asttext(), node)\n",
      "  File \"/opt/conda/lib/python3.10/site-packages/executing/executing.py\", line 333, in asttext\n",
      "    self._asttext = ASTText(self.text, tree=self.tree, filename=self.filename)\n",
      "  File \"/opt/conda/lib/python3.10/site-packages/asttokens/asttokens.py\", line 307, in __init__\n",
      "    super(ASTText, self).__init__(source_text, filename)\n",
      "  File \"/opt/conda/lib/python3.10/site-packages/asttokens/asttokens.py\", line 44, in __init__\n",
      "    source_text = six.ensure_text(source_text)\n",
      "AttributeError: module 'six' has no attribute 'ensure_text'\n"
     ]
    }
   ],
   "source": [
    "import os\n",
    "from google.cloud import storage\n",
    "from tqdm import tqdm\n",
    "\n",
    "source_file_fd = '../data/raw_png_128/'    # GCP에 업로드할 파일 절대경로\n",
    "dest_file_fd = \"raw_png_128/\"\n",
    "\n",
    "storage_client = storage.Client()\n",
    "bucket = storage_client.bucket('leo_font')\n",
    "\n",
    "pbar = tqdm([p for p in os.listdir(source_file_fd)])\n",
    "for file in pbar:\n",
    "    blob = bucket.blob(dest_file_fd+file)\n",
    "    blob.upload_from_filename(source_file_fd+file)\n",
    "    pbar.set_postfix(filename=file)"
   ]
  },
  {
   "cell_type": "code",
   "execution_count": 8,
   "id": "55c37ef6-7863-4a9e-a548-1d9ecfee0f8b",
   "metadata": {
    "tags": []
   },
   "outputs": [
    {
     "name": "stderr",
     "output_type": "stream",
     "text": [
      "100%|██████████| 769433/769433 [01:39<00:00, 7708.88it/s] \n"
     ]
    }
   ],
   "source": [
    "import zipfile\n",
    "source_file_fd = '../data/raw_png_128/'\n",
    "with zipfile.ZipFile('../data/raw_png_128.zip', 'w') as myzip_all:\n",
    "    pbar = tqdm([source_file_fd+p for p in os.listdir(source_file_fd)])\n",
    "    for f in pbar:\n",
    "        myzip_all.write(f)\n",
    "    myzip_all.close()"
   ]
  },
  {
   "cell_type": "code",
   "execution_count": 9,
   "id": "0db075ec-e62b-4d3f-bd36-e9d945ce8e20",
   "metadata": {
    "tags": []
   },
   "outputs": [
    {
     "name": "stderr",
     "output_type": "stream",
     "text": [
      "100%|██████████| 769433/769433 [01:52<00:00, 6820.95it/s] \n"
     ]
    }
   ],
   "source": [
    "source_file_fd = '../data/raw_png_96/'\n",
    "with zipfile.ZipFile('../data/raw_png_96.zip', 'w') as myzip_all:\n",
    "    pbar = tqdm([source_file_fd+p for p in os.listdir(source_file_fd)])\n",
    "    for f in pbar:\n",
    "        myzip_all.write(f)\n",
    "    myzip_all.close()"
   ]
  },
  {
   "cell_type": "code",
   "execution_count": 10,
   "id": "84098f23-95d2-477d-b291-fec3d7795acf",
   "metadata": {
    "tags": []
   },
   "outputs": [],
   "source": [
    "blob = bucket.blob(\"zipfiles/raw_png_128.zip\")\n",
    "blob.upload_from_filename('../data/raw_png_128.zip')"
   ]
  },
  {
   "cell_type": "code",
   "execution_count": 11,
   "id": "a1bb44dc-4e5c-41b2-afcd-54481fd19374",
   "metadata": {
    "tags": []
   },
   "outputs": [],
   "source": [
    "blob = bucket.blob(\"zipfiles/raw_png_96.zip\")\n",
    "blob.upload_from_filename('../data/raw_png_96.zip')"
   ]
  },
  {
   "cell_type": "code",
   "execution_count": null,
   "id": "8c0a57ff-867c-46dd-862f-2ef7977d2f53",
   "metadata": {},
   "outputs": [],
   "source": []
  }
 ],
 "metadata": {
  "environment": {
   "kernel": "python3",
   "name": ".m116",
   "type": "gcloud",
   "uri": "gcr.io/deeplearning-platform-release/:m116"
  },
  "kernelspec": {
   "display_name": "Python 3",
   "language": "python",
   "name": "python3"
  },
  "language_info": {
   "codemirror_mode": {
    "name": "ipython",
    "version": 3
   },
   "file_extension": ".py",
   "mimetype": "text/x-python",
   "name": "python",
   "nbconvert_exporter": "python",
   "pygments_lexer": "ipython3",
   "version": "3.10.13"
  }
 },
 "nbformat": 4,
 "nbformat_minor": 5
}
