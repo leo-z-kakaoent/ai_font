{
 "cells": [
  {
   "cell_type": "code",
   "execution_count": null,
   "id": "3be3b455-fe98-4519-92dd-8424b010c0df",
   "metadata": {},
   "outputs": [],
   "source": [
    "import os\n",
    "import copy\n",
    "import numpy as np\n",
    "import pandas as pd\n",
    "from PIL import Image\n",
    "\n",
    "class ImageConcat:\n",
    "    def __init__(self):\n",
    "        self.img = Image.new(\"L\", (self.n_h*self.r, self.n_v*self.r), color=255)# color=(255,255,255))\n",
    "        self.cursor = [0,0]\n",
    "\n",
    "    def move_cursor_h(self, r):\n",
    "        self.cursor[0] += r\n",
    "        if self.cursor[0] > self.max_h:\n",
    "            self.max_h = copy.deepcopy(self.cursor[0])\n",
    "        \n",
    "    def move_cursor_v(self):\n",
    "        self.cursor[1] += self.r\n",
    "        \n",
    "    def reset_cursor_h(self):\n",
    "        self.cursor[0] = 0\n",
    "        \n",
    "    def append_img(self, path, cut_margin=True, clip_white=False):\n",
    "        try:\n",
    "            img = Image.open(path).convert('L').resize((self.r,self.r), Image.BILINEAR)\n",
    "            if cut_margin:\n",
    "                img = self.cut_margin(img, clip_white=clip_white)\n",
    "            self.img.paste(img, tuple(self.cursor))\n",
    "            return img.size\n",
    "        except:\n",
    "            # print(f\"Not Appended: {path}\")\n",
    "            return None\n",
    "        \n",
    "    def add_letter(self, path, cut_margin=True, clip_white=False):\n",
    "        imgsize = self.append_img(path, cut_margin=cut_margin, clip_white=clip_white)\n",
    "        if imgsize is None:\n",
    "            self.move_cursor_h(self.r)\n",
    "        else:\n",
    "            self.move_cursor_h(imgsize[0])\n",
    "    \n",
    "    def add_space(self):\n",
    "        self.move_cursor_h(int(self.r/3))\n",
    "        \n",
    "    def enter(self):\n",
    "        self.move_cursor_v()\n",
    "        self.reset_cursor_h()\n",
    "        \n",
    "    def cut_margin(self, img, clip_white):\n",
    "        npimg = 255 - np.array(img)\n",
    "        if clip_white:\n",
    "            npimg[np.where(npimg<10)] = 0 \n",
    "        wmin = npimg.sum(0).nonzero()[0].min()\n",
    "        wmax = npimg.sum(0).nonzero()[0].max()\n",
    "        # hmin = npimg.sum(1).nonzero()[0].min()\n",
    "        # hmax = npimg.sum(1).nonzero()[0].max()\n",
    "\n",
    "        npimg = 255 - npimg[:,wmin:wmax+1]\n",
    "        img = Image.fromarray(npimg)\n",
    "        return img"
   ]
  }
 ],
 "metadata": {
  "environment": {
   "kernel": "conda-base-py",
   "name": "workbench-notebooks.m122",
   "type": "gcloud",
   "uri": "us-docker.pkg.dev/deeplearning-platform-release/gcr.io/workbench-notebooks:m122"
  },
  "kernelspec": {
   "display_name": "Python 3 (ipykernel) (Local)",
   "language": "python",
   "name": "conda-base-py"
  },
  "language_info": {
   "codemirror_mode": {
    "name": "ipython",
    "version": 3
   },
   "file_extension": ".py",
   "mimetype": "text/x-python",
   "name": "python",
   "nbconvert_exporter": "python",
   "pygments_lexer": "ipython3",
   "version": "3.10.14"
  }
 },
 "nbformat": 4,
 "nbformat_minor": 5
}
