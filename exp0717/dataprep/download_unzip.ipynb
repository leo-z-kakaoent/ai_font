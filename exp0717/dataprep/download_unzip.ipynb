{
 "cells": [
  {
   "cell_type": "code",
   "execution_count": null,
   "id": "094cabf2-2ba7-4483-bf0c-48abe31b6f7a",
   "metadata": {
    "tags": []
   },
   "outputs": [
    {
     "name": "stdout",
     "output_type": "stream",
     "text": [
      "Downloaded 'exp0717/data/exp0717.zip' from bucket 'leo_font' to '/home/jupyter/ai_font/data/exp0717/exp0717.zip'.\n"
     ]
    }
   ],
   "source": [
    "import os\n",
    "import zipfile\n",
    "from google.cloud import storage\n",
    "\n",
    "def download_from_gcp_bucket(bucket_name, source_blob_name, destination_file_name):\n",
    "    \"\"\"Downloads a file from a GCP bucket.\"\"\"\n",
    "    # Initialize a storage client\n",
    "    storage_client = storage.Client()\n",
    "    bucket = storage_client.bucket(bucket_name)\n",
    "    blob = bucket.blob(source_blob_name)\n",
    "    \n",
    "    # Download the file\n",
    "    blob.download_to_filename(destination_file_name)\n",
    "    print(f\"Downloaded '{source_blob_name}' from bucket '{bucket_name}' to '{destination_file_name}'.\")\n",
    "\n",
    "def extract_zip_file(zip_path, extract_to_folder):\n",
    "    \"\"\"Extracts a zip file to the specified folder.\"\"\"\n",
    "    with zipfile.ZipFile(zip_path, 'r') as zip_ref:\n",
    "        zip_ref.extractall(extract_to_folder)\n",
    "    print(f\"Extracted '{zip_path}' to '{extract_to_folder}'.\")\n",
    "\n",
    "# Example usage\n",
    "bucket_name = 'leo_font'\n",
    "zip_name = 'exp0717.zip'\n",
    "source_blob_name = f'exp0717/data/{zip_name}'\n",
    "dest_fd = f\"/home/jupyter/ai_font/data/exp0717\"\n",
    "destination_file_name = f\"{dest_fd}/{zip_name}\"\n",
    "extract_to_folder = dest_fd\n",
    "os.makedirs(dest_fd, exist_ok=True)\n",
    "\n",
    "# Download the zip file from the GCP bucket\n",
    "download_from_gcp_bucket(bucket_name, source_blob_name, destination_file_name)\n",
    "\n",
    "# Extract the zip file to the desired folder\n",
    "extract_zip_file(destination_file_name, extract_to_folder)\n"
   ]
  },
  {
   "cell_type": "code",
   "execution_count": null,
   "id": "10e9b400-2e86-4a1d-83f6-64942d5afc13",
   "metadata": {},
   "outputs": [],
   "source": []
  }
 ],
 "metadata": {
  "environment": {
   "kernel": "conda-base-py",
   "name": "workbench-notebooks.m122",
   "type": "gcloud",
   "uri": "us-docker.pkg.dev/deeplearning-platform-release/gcr.io/workbench-notebooks:m122"
  },
  "kernelspec": {
   "display_name": "Python 3 (ipykernel) (Local)",
   "language": "python",
   "name": "conda-base-py"
  },
  "language_info": {
   "codemirror_mode": {
    "name": "ipython",
    "version": 3
   },
   "file_extension": ".py",
   "mimetype": "text/x-python",
   "name": "python",
   "nbconvert_exporter": "python",
   "pygments_lexer": "ipython3",
   "version": "3.10.14"
  }
 },
 "nbformat": 4,
 "nbformat_minor": 5
}
