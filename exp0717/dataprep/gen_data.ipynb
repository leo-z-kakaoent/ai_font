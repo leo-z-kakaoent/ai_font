{
 "cells": [
  {
   "cell_type": "code",
   "execution_count": 10,
   "id": "90c86407-e6bf-414f-9edf-96ed74f8b533",
   "metadata": {
    "tags": []
   },
   "outputs": [],
   "source": [
    "import os\n",
    "import numpy as np\n",
    "from tqdm import tqdm\n",
    "from PIL import Image\n",
    "from partgetter import hgetter, vgetter"
   ]
  },
  {
   "cell_type": "code",
   "execution_count": 11,
   "id": "415d7b28-faa8-4035-b8b4-a8cb1c75a5d3",
   "metadata": {
    "tags": []
   },
   "outputs": [],
   "source": [
    "hk = \"가까나다따라마바빠사싸아자짜차카타파하\"\n",
    "vk = \"구꾸누두뚜루무부뿌수쑤우주쭈추쿠투푸후\"\n",
    "k = \"ㄱㄲㄴㄷㄸㄹㅁㅂㅃㅅㅆㅇㅈㅉㅊㅋㅌㅍㅎ\""
   ]
  },
  {
   "cell_type": "code",
   "execution_count": 18,
   "id": "4c963712-2979-44ef-a343-4c94c9370615",
   "metadata": {
    "tags": []
   },
   "outputs": [],
   "source": [
    "fd = \"/home/jupyter/ai_font/data/exp0717/train0730_whole\"\n",
    "hfd = \"/home/jupyter/ai_font/data/exp0717/train0730_hparts\"\n",
    "vfd = \"/home/jupyter/ai_font/data/exp0717/train0730_vparts\"\n",
    "fonts = [f for f in sorted(os.listdir(fd)) if not os.path.isdir(f)]"
   ]
  },
  {
   "cell_type": "code",
   "execution_count": 20,
   "id": "f5651d11-6d72-452e-b48f-499a37e5315b",
   "metadata": {
    "tags": []
   },
   "outputs": [
    {
     "name": "stderr",
     "output_type": "stream",
     "text": [
      "100%|██████████| 416/416 [1:07:50<00:00,  9.79s/it, font=프리텐다드중간체]            \n"
     ]
    }
   ],
   "source": [
    "pbar = tqdm(sorted(fonts))\n",
    "overlabon = False\n",
    "for font in pbar:\n",
    "    os.makedirs(f\"{hfd}/{font}\", exist_ok=True)\n",
    "    os.makedirs(f\"{vfd}/{font}\", exist_ok=True)\n",
    "    pbar.set_postfix(font=font)\n",
    "    for h, v, l in zip(hk, vk, k):\n",
    "        try:\n",
    "            himg = Image.open(f\"{fd}/{font}/{font}__{h}.png\")\n",
    "            vimg = Image.open(f\"{fd}/{font}/{font}__{v}.png\")\n",
    "            himg = hgetter(himg)\n",
    "            vimg = vgetter(vimg)\n",
    "        except:\n",
    "            pass\n",
    "        if himg is not None:\n",
    "            if overlabon:\n",
    "                himg.save(f\"{hfd}/{font}/{font}__{l}.png\")\n",
    "            else:\n",
    "                if not os.path.exists(f\"{hfd}/{font}/{font}__{l}.png\"):\n",
    "                    himg.save(f\"{hfd}/{font}/{font}__{l}.png\")\n",
    "        if vimg is not None:\n",
    "            vimg.save(f\"{vfd}/{font}/{font}__{l}.png\")\n",
    "    if font == '어비선홍체볼드':\n",
    "        overlabon=True"
   ]
  },
  {
   "cell_type": "code",
   "execution_count": 4,
   "id": "af86f950-07c1-4386-a12f-873d5a993359",
   "metadata": {
    "tags": []
   },
   "outputs": [],
   "source": [
    "font = '나눔손글씨느릿느릿체'\n",
    "img = Image.open(f\"{fd}/{font}/{font}__빠.png\")"
   ]
  },
  {
   "cell_type": "code",
   "execution_count": 5,
   "id": "f237a3f8-7fc6-430f-8d5b-b1a481472966",
   "metadata": {
    "tags": []
   },
   "outputs": [
    {
     "data": {
      "text/plain": [
       "True"
      ]
     },
     "execution_count": 5,
     "metadata": {},
     "output_type": "execute_result"
    }
   ],
   "source": [
    "os.path.exists(f\"{fd}/{font}/{font}__빠.png\")"
   ]
  },
  {
   "cell_type": "code",
   "execution_count": 6,
   "id": "25e941a2-24f9-45db-b56f-03c624290b88",
   "metadata": {
    "tags": []
   },
   "outputs": [
    {
     "data": {
      "image/jpeg": "[encoded data removed]",
      "image/png": "[encoded data removed]",
      "text/plain": [
       "<PIL.Image.Image image mode=L size=128x128>"
      ]
     },
     "execution_count": 6,
     "metadata": {},
     "output_type": "execute_result"
    }
   ],
   "source": [
    "hgetter(img, n_anchor=2, blackcut=0)"
   ]
  },
  {
   "cell_type": "code",
   "execution_count": 7,
   "id": "d148fc06-fd47-4e34-9bdc-56bee5f8368b",
   "metadata": {
    "tags": []
   },
   "outputs": [],
   "source": [
    "font = '나눔손글씨느릿느릿체'\n",
    "img = Image.open(f\"{fd}/{font}/{font}__뿌.png\")"
   ]
  },
  {
   "cell_type": "code",
   "execution_count": 8,
   "id": "f6af7406-6d5e-4ba5-bbd4-8f555b072db2",
   "metadata": {
    "tags": []
   },
   "outputs": [
    {
     "data": {
      "image/jpeg": "[encoded data removed]",
      "image/png": "[encoded data removed]",
      "text/plain": [
       "<PIL.PngImagePlugin.PngImageFile image mode=L size=128x128>"
      ]
     },
     "execution_count": 8,
     "metadata": {},
     "output_type": "execute_result"
    }
   ],
   "source": [
    "img"
   ]
  },
  {
   "cell_type": "code",
   "execution_count": 9,
   "id": "095f50f9-fbc7-4b20-b6eb-a8a0482bd1b6",
   "metadata": {
    "tags": []
   },
   "outputs": [
    {
     "data": {
      "image/jpeg": "[encoded data removed]",
      "image/png": "[encoded data removed]",
      "text/plain": [
       "<PIL.Image.Image image mode=L size=128x128>"
      ]
     },
     "execution_count": 9,
     "metadata": {},
     "output_type": "execute_result"
    }
   ],
   "source": [
    "vgetter(img)"
   ]
  },
  {
   "cell_type": "code",
   "execution_count": 8,
   "id": "66288aae-2582-481a-95ac-701d0c0cc8e8",
   "metadata": {
    "tags": []
   },
   "outputs": [
    {
     "data": {
      "image/jpeg": "[encoded data removed]",
      "image/png": "[encoded data removed]",
      "text/plain": [
       "<PIL.PngImagePlugin.PngImageFile image mode=L size=128x128>"
      ]
     },
     "execution_count": 8,
     "metadata": {},
     "output_type": "execute_result"
    }
   ],
   "source": [
    "Image.open(f\"{fd}/{font}/{font}__사.png\")"
   ]
  },
  {
   "cell_type": "code",
   "execution_count": 9,
   "id": "08b27cea-d5a4-4c9b-b2f2-5783e3e3b9fc",
   "metadata": {
    "tags": []
   },
   "outputs": [
    {
     "ename": "NameError",
     "evalue": "name 'hdict' is not defined",
     "output_type": "error",
     "traceback": [
      "\u001b[0;31m---------------------------------------------------------------------------\u001b[0m",
      "\u001b[0;31mNameError\u001b[0m                                 Traceback (most recent call last)",
      "Cell \u001b[0;32mIn[9], line 1\u001b[0m\n\u001b[0;32m----> 1\u001b[0m np\u001b[38;5;241m.\u001b[39many([img \u001b[38;5;129;01mis\u001b[39;00m \u001b[38;5;28;01mNone\u001b[39;00m \u001b[38;5;28;01mfor\u001b[39;00m img \u001b[38;5;129;01min\u001b[39;00m \u001b[43mhdict\u001b[49m\u001b[38;5;241m.\u001b[39mvalues()])\n",
      "\u001b[0;31mNameError\u001b[0m: name 'hdict' is not defined"
     ]
    }
   ],
   "source": [
    "np.any([img is None for img in hdict.values()])"
   ]
  },
  {
   "cell_type": "code",
   "execution_count": null,
   "id": "18f4c53c-39df-48a3-b6b0-22390f37431a",
   "metadata": {
    "tags": []
   },
   "outputs": [],
   "source": [
    "hgetter(img)"
   ]
  },
  {
   "cell_type": "code",
   "execution_count": null,
   "id": "86305d9d-d442-417f-b155-e6c3d8cf7e51",
   "metadata": {},
   "outputs": [],
   "source": []
  }
 ],
 "metadata": {
  "environment": {
   "kernel": "conda-base-py",
   "name": "workbench-notebooks.m123",
   "type": "gcloud",
   "uri": "us-docker.pkg.dev/deeplearning-platform-release/gcr.io/workbench-notebooks:m123"
  },
  "kernelspec": {
   "display_name": "Python 3 (ipykernel) (Local)",
   "language": "python",
   "name": "conda-base-py"
  },
  "language_info": {
   "codemirror_mode": {
    "name": "ipython",
    "version": 3
   },
   "file_extension": ".py",
   "mimetype": "text/x-python",
   "name": "python",
   "nbconvert_exporter": "python",
   "pygments_lexer": "ipython3",
   "version": "3.10.14"
  }
 },
 "nbformat": 4,
 "nbformat_minor": 5
}
