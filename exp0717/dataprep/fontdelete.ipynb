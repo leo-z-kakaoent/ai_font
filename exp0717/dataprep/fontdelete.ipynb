{
 "cells": [
  {
   "cell_type": "code",
   "execution_count": 1,
   "id": "e5822c54-d4e7-4088-863e-417756f3fed3",
   "metadata": {
    "tags": []
   },
   "outputs": [],
   "source": [
    "import os\n",
    "import shutil"
   ]
  },
  {
   "cell_type": "code",
   "execution_count": 9,
   "id": "5bf16151-bb9e-406d-82b3-e610afcf79ea",
   "metadata": {
    "tags": []
   },
   "outputs": [],
   "source": [
    "fds = [\n",
    "    \"/home/jupyter/ai_font/data/exp0717/train0730_whole\",\n",
    "    \"/home/jupyter/ai_font/data/exp0717/train0730_parts\",\n",
    "    \"/home/jupyter/ai_font/data/exp0717/train0730_hparts\",\n",
    "    \"/home/jupyter/ai_font/data/exp0717/train0730_vparts\",\n",
    "]"
   ]
  },
  {
   "cell_type": "code",
   "execution_count": 12,
   "id": "d0e22a5d-57db-4cc3-8c18-741c9a363cc1",
   "metadata": {
    "tags": []
   },
   "outputs": [],
   "source": [
    "for fd in fds:\n",
    "    targetfonts = [f for f in os.listdir(fd) if (\"어비\" in f) & (\"어비혜몽체\" in f)]\n",
    "    for font in targetfonts:\n",
    "        shutil.rmtree(f\"{fd}/{font}\")"
   ]
  },
  {
   "cell_type": "code",
   "execution_count": 13,
   "id": "4274f283-dd88-4c85-bc4a-9c921600d9c1",
   "metadata": {
    "tags": []
   },
   "outputs": [
    {
     "data": {
      "text/plain": [
       "344"
      ]
     },
     "execution_count": 13,
     "metadata": {},
     "output_type": "execute_result"
    }
   ],
   "source": [
    "len(os.listdir(fds[0]))"
   ]
  },
  {
   "cell_type": "code",
   "execution_count": null,
   "id": "e0d8a30a-cb70-4b37-8351-4188235db43d",
   "metadata": {},
   "outputs": [],
   "source": []
  }
 ],
 "metadata": {
  "environment": {
   "kernel": "conda-base-py",
   "name": "workbench-notebooks.m123",
   "type": "gcloud",
   "uri": "us-docker.pkg.dev/deeplearning-platform-release/gcr.io/workbench-notebooks:m123"
  },
  "kernelspec": {
   "display_name": "Python 3 (ipykernel) (Local)",
   "language": "python",
   "name": "conda-base-py"
  },
  "language_info": {
   "codemirror_mode": {
    "name": "ipython",
    "version": 3
   },
   "file_extension": ".py",
   "mimetype": "text/x-python",
   "name": "python",
   "nbconvert_exporter": "python",
   "pygments_lexer": "ipython3",
   "version": "3.10.14"
  }
 },
 "nbformat": 4,
 "nbformat_minor": 5
}
