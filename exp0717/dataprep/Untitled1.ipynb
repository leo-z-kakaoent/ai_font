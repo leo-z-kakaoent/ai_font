{
 "cells": [
  {
   "cell_type": "code",
   "execution_count": 6,
   "id": "ddc6f25c-a4df-4a86-921b-b82e80a5bf38",
   "metadata": {
    "tags": []
   },
   "outputs": [],
   "source": [
    "import os\n",
    "import copy\n",
    "import numpy as np\n",
    "import pandas as pd\n",
    "from PIL import Image\n",
    "from scipy.spatial.distance import cdist"
   ]
  },
  {
   "cell_type": "code",
   "execution_count": 2,
   "id": "aaacf67c-2471-4050-ba6e-8bb40ba6806e",
   "metadata": {
    "tags": []
   },
   "outputs": [],
   "source": [
    "fd = \"/home/jupyter/ai_font/data/exp0717/train_whole/\"\n",
    "file = \"교보손글씨2020박도연/교보손글씨2020박도연__우.png\""
   ]
  },
  {
   "cell_type": "code",
   "execution_count": 3,
   "id": "41e33a6b-f399-4a22-ba7d-b3f1077d7697",
   "metadata": {
    "tags": []
   },
   "outputs": [],
   "source": [
    "img = Image.open(fd+file)"
   ]
  },
  {
   "cell_type": "code",
   "execution_count": 19,
   "id": "4e77b76a-88d9-4524-ab2b-bc9d923af5e0",
   "metadata": {
    "tags": []
   },
   "outputs": [],
   "source": [
    "where_black = np.where(np.array(img)!=255)"
   ]
  },
  {
   "cell_type": "code",
   "execution_count": 33,
   "id": "7764400e-7feb-4cb9-a526-45284111443f",
   "metadata": {
    "tags": []
   },
   "outputs": [],
   "source": [
    "endpoint = np.array([[0, 64]])\n",
    "points = np.stack(where_black,1)\n",
    "dist = cdist(endpoint, points, metric='euclidean')"
   ]
  },
  {
   "cell_type": "code",
   "execution_count": 34,
   "id": "2adad07d-3b36-4888-94b1-111432db56bf",
   "metadata": {
    "tags": []
   },
   "outputs": [
    {
     "data": {
      "text/plain": [
       "(646, 2)"
      ]
     },
     "execution_count": 34,
     "metadata": {},
     "output_type": "execute_result"
    }
   ],
   "source": [
    "points.shape"
   ]
  },
  {
   "cell_type": "code",
   "execution_count": 35,
   "id": "6bff7254-6088-4fc4-855b-56210c2b3613",
   "metadata": {
    "tags": []
   },
   "outputs": [],
   "source": [
    "anchor = points[np.argsort(dist.reshape(-1))][:8]\n",
    "leftpoints = points[np.argsort(dist.reshape(-1))][8:]"
   ]
  },
  {
   "cell_type": "code",
   "execution_count": 36,
   "id": "fb5a5f2b-8b3c-4d8f-91e6-43d706cf31cb",
   "metadata": {
    "tags": []
   },
   "outputs": [],
   "source": [
    "noerror = True\n",
    "len_near = 1\n",
    "while (len(leftpoints) > 0) & noerror & (len_near>0):\n",
    "    try:\n",
    "        dist = cdist(anchor, leftpoints, metric='euclidean')\n",
    "        wherenear = np.where(np.min(dist,0) < 1.5)[0]\n",
    "        len_near = len(wherenear)\n",
    "        anchor = np.concatenate([anchor, leftpoints[wherenear,:]])\n",
    "        leftpoints = np.delete(leftpoints, wherenear,axis=0)\n",
    "    except:\n",
    "        noerror = False\n"
   ]
  },
  {
   "cell_type": "code",
   "execution_count": 37,
   "id": "bec7c929-02f8-44f4-87e5-964e98398525",
   "metadata": {
    "tags": []
   },
   "outputs": [],
   "source": [
    "npimg = np.array(img)\n",
    "npimg[leftpoints[:,0],leftpoints[:,1]] = 255"
   ]
  },
  {
   "cell_type": "code",
   "execution_count": 38,
   "id": "85d72ab1-690d-414c-ad67-1df803e0153a",
   "metadata": {
    "tags": []
   },
   "outputs": [
    {
     "data": {
      "image/jpeg": "[encoded data removed]",
      "image/png": "[encoded data removed]",
      "text/plain": [
       "<PIL.Image.Image image mode=L size=128x128>"
      ]
     },
     "execution_count": 38,
     "metadata": {},
     "output_type": "execute_result"
    }
   ],
   "source": [
    "Image.fromarray(npimg)"
   ]
  },
  {
   "cell_type": "code",
   "execution_count": 65,
   "id": "d192a05f-3c10-4b91-aa6a-fd4a8efb3a61",
   "metadata": {
    "tags": []
   },
   "outputs": [],
   "source": [
    "def vgetter(img):\n",
    "    where_black = np.where(np.array(img)!=255)\n",
    "    endpoint = np.array([[0, 64]])\n",
    "    points = np.stack(where_black,1)\n",
    "    dist = cdist(endpoint, points, metric='euclidean')\n",
    "    anchor = points[np.argsort(dist.reshape(-1))][:16]\n",
    "    leftpoints = points[np.argsort(dist.reshape(-1))][16:]\n",
    "    noerror = True\n",
    "    len_near = 1\n",
    "    while (len(leftpoints) > 0) & noerror & (len_near>0):\n",
    "        try:\n",
    "            dist = cdist(anchor, leftpoints, metric='euclidean')\n",
    "            wherenear = np.where(np.min(dist,0) < 1.5)[0]\n",
    "            len_near = len(wherenear)\n",
    "            anchor = np.concatenate([anchor, leftpoints[wherenear,:]])\n",
    "            leftpoints = np.delete(leftpoints, wherenear,axis=0)\n",
    "        except:\n",
    "            noerror = False\n",
    "    npimg = np.array(img)\n",
    "    npimg[leftpoints[:,0],leftpoints[:,1]] = 255\n",
    "    return Image.fromarray(npimg) if len(leftpoints) >0 else None\n",
    "\n",
    "def hgetter(img):\n",
    "    where_black = np.where(np.array(img)!=255)\n",
    "    endpoint = np.array([[64, 0]])\n",
    "    points = np.stack(where_black,1)\n",
    "    dist = cdist(endpoint, points, metric='euclidean')\n",
    "    anchor = points[np.argsort(dist.reshape(-1))][:16]\n",
    "    leftpoints = points[np.argsort(dist.reshape(-1))][16:]\n",
    "    noerror = True\n",
    "    len_near = 1\n",
    "    while (len(leftpoints) > 0) & noerror & (len_near>0):\n",
    "        try:\n",
    "            dist = cdist(anchor, leftpoints, metric='euclidean')\n",
    "            wherenear = np.where(np.min(dist,0) < 1.5)[0]\n",
    "            len_near = len(wherenear)\n",
    "            anchor = np.concatenate([anchor, leftpoints[wherenear,:]])\n",
    "            leftpoints = np.delete(leftpoints, wherenear,axis=0)\n",
    "        except:\n",
    "            noerror = False\n",
    "    npimg = np.array(img)\n",
    "    npimg[leftpoints[:,0],leftpoints[:,1]] = 255\n",
    "    return Image.fromarray(npimg) if len(leftpoints) >0 else None"
   ]
  },
  {
   "cell_type": "code",
   "execution_count": 66,
   "id": "6cabb477-325d-43d2-b66c-965037f40d80",
   "metadata": {
    "tags": []
   },
   "outputs": [],
   "source": [
    "fd = \"/home/jupyter/ai_font/data/exp0717/train_whole/\"\n",
    "file = \"교보손글씨2020박도연/교보손글씨2020박도연__가.png\"\n",
    "img = Image.open(fd+file)"
   ]
  },
  {
   "cell_type": "code",
   "execution_count": 67,
   "id": "7f754e01-f8e8-4dc3-b96f-27d6a0ac926d",
   "metadata": {
    "tags": []
   },
   "outputs": [
    {
     "data": {
      "image/jpeg": "[encoded data removed]",
      "image/png": "[encoded data removed]",
      "text/plain": [
       "<PIL.Image.Image image mode=L size=128x128>"
      ]
     },
     "execution_count": 67,
     "metadata": {},
     "output_type": "execute_result"
    }
   ],
   "source": [
    "hgetter(img)"
   ]
  },
  {
   "cell_type": "code",
   "execution_count": null,
   "id": "9bc8a523-7034-4f41-99c1-121c3e955bc1",
   "metadata": {},
   "outputs": [],
   "source": []
  }
 ],
 "metadata": {
  "environment": {
   "kernel": "conda-base-py",
   "name": "workbench-notebooks.m123",
   "type": "gcloud",
   "uri": "us-docker.pkg.dev/deeplearning-platform-release/gcr.io/workbench-notebooks:m123"
  },
  "kernelspec": {
   "display_name": "Python 3 (ipykernel) (Local)",
   "language": "python",
   "name": "conda-base-py"
  },
  "language_info": {
   "codemirror_mode": {
    "name": "ipython",
    "version": 3
   },
   "file_extension": ".py",
   "mimetype": "text/x-python",
   "name": "python",
   "nbconvert_exporter": "python",
   "pygments_lexer": "ipython3",
   "version": "3.10.14"
  }
 },
 "nbformat": 4,
 "nbformat_minor": 5
}
