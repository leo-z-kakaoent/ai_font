{
 "cells": [
  {
   "cell_type": "code",
   "execution_count": 1,
   "id": "cfa52984-a488-4a2f-89c7-68aaaccb8d55",
   "metadata": {
    "tags": []
   },
   "outputs": [],
   "source": [
    "import os\n",
    "import numpy as np\n",
    "from tqdm import tqdm\n",
    "from PIL import Image\n",
    "\n",
    "\n",
    "def get_all_korean():\n",
    "\n",
    "    def nextKorLetterFrom(letter):\n",
    "        lastLetterInt = 15572643\n",
    "        if not letter:\n",
    "            return '가'\n",
    "        a = letter\n",
    "        b = a.encode('utf8')\n",
    "        c = int(b.hex(), 16)\n",
    "\n",
    "        if c == lastLetterInt:\n",
    "            return False\n",
    "\n",
    "        d = hex(c + 1)\n",
    "        e = bytearray.fromhex(d[2:])\n",
    "\n",
    "        flag = True\n",
    "        while flag:\n",
    "            try:\n",
    "                r = e.decode('utf-8')\n",
    "                flag = False\n",
    "            except UnicodeDecodeError:\n",
    "                c = c+1\n",
    "                d = hex(c)\n",
    "                e = bytearray.fromhex(d[2:])\n",
    "        return e.decode()\n",
    "\n",
    "    returns = []\n",
    "    flag = True\n",
    "    k = ''\n",
    "    while flag:\n",
    "        k = nextKorLetterFrom(k)\n",
    "        if k is False:\n",
    "            flag = False\n",
    "        else:\n",
    "            returns.append(k)\n",
    "    return returns\n",
    "\n",
    "def merge_img(img0, img1, img2):\n",
    "    mmg = Image.new(\"L\", (128*2, 128*2), 255)\n",
    "    mmg.paste(img0, (0,0))\n",
    "    mmg.paste(img1, (128,0))\n",
    "    if img2 is not None:\n",
    "        mmg.paste(img2, (64,128))\n",
    "    return mmg.resize((96,96), Image.BILINEAR)\n",
    "\n",
    "def get_imgs(prefix, font, letter):\n",
    "    \n",
    "    ch1_list = ['ㄱ', 'ㄲ', 'ㄴ', 'ㄷ', 'ㄸ', 'ㄹ', 'ㅁ', 'ㅂ', 'ㅃ', 'ㅅ', 'ㅆ', 'ㅇ', 'ㅈ', 'ㅉ', 'ㅊ', 'ㅋ', 'ㅌ', 'ㅍ', 'ㅎ']\n",
    "    ch2_list = ['ㅏ', 'ㅐ', 'ㅑ', 'ㅒ', 'ㅓ', 'ㅔ', 'ㅕ', 'ㅖ', 'ㅗ', 'ㅘ', 'ㅙ', 'ㅚ', 'ㅛ', 'ㅜ', 'ㅝ', 'ㅞ', 'ㅟ', 'ㅠ', 'ㅡ', 'ㅢ', 'ㅣ']\n",
    "    ch3_list = [None, 'ㄱ', 'ㄲ', 'ㄳ', 'ㄴ', 'ㄵ', 'ㄶ', 'ㄷ', 'ㄹ', 'ㄺ', 'ㄻ', 'ㄼ', 'ㄽ', 'ㄾ', 'ㄿ', 'ㅀ', 'ㅁ', 'ㅂ', 'ㅄ', 'ㅅ', 'ㅆ', 'ㅇ', 'ㅈ', 'ㅊ', 'ㅋ', 'ㅌ', 'ㅍ', 'ㅎ']\n",
    "\n",
    "    hlist = [0,1,2,3,4,5,6,7,20] # ㅏㅐㅑㅒㅓㅔㅕㅖㅣ\n",
    "    vlist = [8,12,13,17,18] # ㅗㅛㅜㅠㅡ\n",
    "    clist = [9,10,11,14,15,16,19] # ㅘㅙㅚㅝㅞㅟㅢ\n",
    "    \n",
    "    \n",
    "    ch1 = (ord(letter) - ord('가'))//588\n",
    "    ch2 = ((ord(letter) - ord('가')) - (588*ch1)) // 28\n",
    "    ch3 = (ord(letter) - ord('가')) - (588*ch1) - 28*ch2\n",
    "    \n",
    "    l1 = ch1_list[ch1]\n",
    "    l2 = ch2_list[ch2]\n",
    "    l3 = ch3_list[ch3]\n",
    "    \n",
    "    if ch2 in hlist:\n",
    "        tag = \"hparts\"\n",
    "    else:\n",
    "        tag = \"vparts\"\n",
    "    \n",
    "    p1 = f\"{prefix}_{tag}/{font}/{font}__{l1}.png\"\n",
    "    p1 = p1 if os.path.exists(p1) else f\"{prefix}_parts/{font}/{font}__{l1}.png\"\n",
    "    p2 = f\"{prefix}_parts/{font}/{font}__{l2}.png\"\n",
    "    p3 = None if l3 is None else f\"{prefix}_parts/{font}/{font}__{l3}.png\"\n",
    "\n",
    "    return (\n",
    "        Image.open(p1),\n",
    "        Image.open(p2),\n",
    "        None if p3 is None else Image.open(p3),\n",
    "    )"
   ]
  },
  {
   "cell_type": "code",
   "execution_count": 2,
   "id": "16717005-2516-43ad-9521-e95c3bcec4c1",
   "metadata": {
    "tags": []
   },
   "outputs": [],
   "source": [
    "fds = [\n",
    "    \"/home/jupyter/ai_font/data/exp0717/train0730_whole\",\n",
    "    \"/home/jupyter/ai_font/data/exp0717/train0730_parts\",\n",
    "    \"/home/jupyter/ai_font/data/exp0717/train0730_hparts\",\n",
    "    \"/home/jupyter/ai_font/data/exp0717/train0730_vparts\",\n",
    "]"
   ]
  },
  {
   "cell_type": "code",
   "execution_count": 5,
   "id": "13d214ed-36ea-46f3-a383-0514f3120b6f",
   "metadata": {
    "tags": []
   },
   "outputs": [],
   "source": [
    "originalfd = \"/home/jupyter/ai_font/data/exp0717/train0730_whole\"\n",
    "assemblefd = \"/home/jupyter/ai_font/data/exp0717/train0730_assembled\"\n",
    "prefix = \"/home/jupyter/ai_font/data/exp0717/train0730\"\n",
    "ak = get_all_korean()"
   ]
  },
  {
   "cell_type": "code",
   "execution_count": 6,
   "id": "2a70fe64-67f0-47dd-b8e1-8c04c6f65321",
   "metadata": {
    "tags": []
   },
   "outputs": [
    {
     "name": "stderr",
     "output_type": "stream",
     "text": [
      "100%|██████████| 343/343 [51:29<00:00,  9.01s/it] \n"
     ]
    }
   ],
   "source": [
    "for font in tqdm([f for f in os.listdir(originalfd) if \".ipy\" not in f]):\n",
    "    os.makedirs(f\"{assemblefd}/{font}\", exist_ok=True)\n",
    "    for letter in ak:\n",
    "        if os.path.exists(f\"{originalfd}/{font}/{font}__{letter}.png\"):\n",
    "            img0, img1, img2 = get_imgs(prefix, font, letter)\n",
    "            img = merge_img(img0,img1,img2)\n",
    "            img.save(f\"{assemblefd}/{font}/{font}__{letter}.png\")"
   ]
  },
  {
   "cell_type": "code",
   "execution_count": null,
   "id": "fe1922c7-05ab-4945-a5be-f4b2f6c8ddf5",
   "metadata": {},
   "outputs": [],
   "source": []
  }
 ],
 "metadata": {
  "environment": {
   "kernel": "conda-base-py",
   "name": "workbench-notebooks.m123",
   "type": "gcloud",
   "uri": "us-docker.pkg.dev/deeplearning-platform-release/gcr.io/workbench-notebooks:m123"
  },
  "kernelspec": {
   "display_name": "Python 3 (ipykernel) (Local)",
   "language": "python",
   "name": "conda-base-py"
  },
  "language_info": {
   "codemirror_mode": {
    "name": "ipython",
    "version": 3
   },
   "file_extension": ".py",
   "mimetype": "text/x-python",
   "name": "python",
   "nbconvert_exporter": "python",
   "pygments_lexer": "ipython3",
   "version": "3.10.14"
  }
 },
 "nbformat": 4,
 "nbformat_minor": 5
}
