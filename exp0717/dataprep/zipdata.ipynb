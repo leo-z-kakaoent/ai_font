{
 "cells": [
  {
   "cell_type": "code",
   "execution_count": 2,
   "id": "d147cabc-72ee-4cbb-bb33-0cecdb384855",
   "metadata": {
    "tags": []
   },
   "outputs": [
    {
     "name": "stdout",
     "output_type": "stream",
     "text": [
      "Created zip file: exp0717.zip\n",
      "File exp0717.zip uploaded to exp0717/data/exp0717.zip in bucket leo_font.\n"
     ]
    }
   ],
   "source": [
    "import os\n",
    "import zipfile\n",
    "from google.cloud import storage\n",
    "\n",
    "def zip_folders(folders, zip_name):\n",
    "    \"\"\"Zip multiple folders into a single zip file.\"\"\"\n",
    "    with zipfile.ZipFile(zip_name, 'w') as zipf:\n",
    "        for folder in folders:\n",
    "            for root, _, files in os.walk(folder):\n",
    "                for file in files:\n",
    "                    file_path = os.path.join(root, file)\n",
    "                    arcname = os.path.relpath(file_path, os.path.join(folder, '..'))\n",
    "                    zipf.write(file_path, arcname)\n",
    "    print(f\"Created zip file: {zip_name}\")\n",
    "\n",
    "def upload_to_gcp_bucket(bucket_name, source_file_name, destination_blob_name):\n",
    "    \"\"\"Uploads a file to a GCP bucket.\"\"\"\n",
    "    # Initialize a storage client\n",
    "    storage_client = storage.Client()\n",
    "    bucket = storage_client.bucket(bucket_name)\n",
    "    blob = bucket.blob(destination_blob_name)\n",
    "    \n",
    "    # Upload the file\n",
    "    blob.upload_from_filename(source_file_name)\n",
    "    \n",
    "    print(f\"File {source_file_name} uploaded to {destination_blob_name} in bucket {bucket_name}.\")\n",
    "\n",
    "# Example usage\n",
    "folders_to_zip = [\n",
    "    \"/home/jupyter/ai_font/data/exp0717/train0730_whole\", \n",
    "    \"/home/jupyter/ai_font/data/exp0717/train0730_parts\",\n",
    "    \"/home/jupyter/ai_font/data/exp0717/train0730_vparts\",\n",
    "    \"/home/jupyter/ai_font/data/exp0717/train0730_hparts\",\n",
    "    \"/home/jupyter/ai_font/data/exp0717/train0730_ttfs\",\n",
    "    \"/home/jupyter/ai_font/data/exp0717/train0730_assembled\",\n",
    "]\n",
    "zip_name = 'exp0717.zip'\n",
    "bucket_name = 'leo_font'\n",
    "destination_blob_name = f'exp0717/data/{zip_name}'\n",
    "\n",
    "# Create the zip file\n",
    "zip_folders(folders_to_zip, zip_name)\n",
    "\n",
    "# Upload the zip file to the GCP bucket\n",
    "upload_to_gcp_bucket(bucket_name, zip_name, destination_blob_name)\n"
   ]
  },
  {
   "cell_type": "code",
   "execution_count": null,
   "id": "908aed31-7af1-49f3-b5a0-e802f0a03da5",
   "metadata": {},
   "outputs": [],
   "source": []
  }
 ],
 "metadata": {
  "environment": {
   "kernel": "conda-base-py",
   "name": "workbench-notebooks.m123",
   "type": "gcloud",
   "uri": "us-docker.pkg.dev/deeplearning-platform-release/gcr.io/workbench-notebooks:m123"
  },
  "kernelspec": {
   "display_name": "Python 3 (ipykernel) (Local)",
   "language": "python",
   "name": "conda-base-py"
  },
  "language_info": {
   "codemirror_mode": {
    "name": "ipython",
    "version": 3
   },
   "file_extension": ".py",
   "mimetype": "text/x-python",
   "name": "python",
   "nbconvert_exporter": "python",
   "pygments_lexer": "ipython3",
   "version": "3.10.14"
  }
 },
 "nbformat": 4,
 "nbformat_minor": 5
}
