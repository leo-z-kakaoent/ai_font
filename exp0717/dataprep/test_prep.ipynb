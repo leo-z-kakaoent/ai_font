{
 "cells": [
  {
   "cell_type": "code",
   "execution_count": 38,
   "id": "cfa52984-a488-4a2f-89c7-68aaaccb8d55",
   "metadata": {
    "tags": []
   },
   "outputs": [],
   "source": [
    "import os\n",
    "import numpy as np\n",
    "from tqdm import tqdm\n",
    "from PIL import Image\n",
    "import unicodedata\n",
    "import cv2\n",
    "\n",
    "def char_normalize(f):\n",
    "    return unicodedata.normalize('NFC', f)\n",
    "\n",
    "def get_unpadded_borders(img):\n",
    "    kernel = cv2.getStructuringElement(cv2.MORPH_RECT,(2,2))\n",
    "    processed = cv2.morphologyEx(np.array(img), cv2.MORPH_CLOSE, kernel)\n",
    "    npimg = 255 - np.array(processed)\n",
    "    npimg[np.where(npimg < 16)] = 0\n",
    "    wmin = npimg.sum(0).nonzero()[0].min()\n",
    "    wmax = npimg.sum(0).nonzero()[0].max()\n",
    "    hmin = npimg.sum(1).nonzero()[0].min()\n",
    "    hmax = npimg.sum(1).nonzero()[0].max()\n",
    "    return wmin, wmax, hmin, hmax\n",
    "\n",
    "def unpad(img):\n",
    "    wmin, wmax, hmin, hmax = get_unpadded_borders(img)\n",
    "    wmin = wmin - 1 if wmin > 0 else wmin\n",
    "    wmax = wmax + 1 if wmax < img.width else wmax\n",
    "    hmin = hmin - 1 if hmin > 0 else hmin\n",
    "    hmax = hmax + 1 if hmax < img.height else hmax\n",
    "    return Image.fromarray(np.array(img)[hmin:hmax,wmin:wmax])\n",
    "\n",
    "def centering(img, new_size=128, padding_color=255):\n",
    "\n",
    "    # Resize the image using the new dimensions\n",
    "    resized_img = unpad(img)\n",
    "    \n",
    "    # Create a new blank image with padding\n",
    "    padded_img = Image.new(\"L\", (new_size, new_size), padding_color)\n",
    "    \n",
    "    # Calculate the position to paste the resized image\n",
    "    left = (padded_img.width - resized_img.width) // 2\n",
    "    top = (padded_img.height - resized_img.height) // 2\n",
    "    right = left + resized_img.width\n",
    "    bottom = top + resized_img.height\n",
    "    \n",
    "    # Paste the resized image onto the blank image\n",
    "    padded_img.paste(resized_img, (left, top, right, bottom))\n",
    "    \n",
    "    return padded_img\n",
    "\n",
    "\n",
    "def merge_img(img0, img1, img2):\n",
    "    mmg = Image.new(\"L\", (128*2, 128*2), 255)\n",
    "    mmg.paste(img0, (0,0))\n",
    "    mmg.paste(img1, (128,0))\n",
    "    if img2 is not None:\n",
    "        mmg.paste(img2, (64,128))\n",
    "    return mmg.resize((96,96), Image.BILINEAR)\n",
    "\n",
    "def get_imgs(fd, font, letter):\n",
    "    \n",
    "    ch1_list = ['ㄱ', 'ㄱㄱ', 'ㄴ', 'ㄷ', 'ㄷㄷ', 'ㄹ', 'ㅁ', 'ㅂ', 'ㅂㅂ', 'ㅅ', 'ㅅㅅ', 'ㅇ', 'ㅈ', 'ㅈㅈ', 'ㅊ', 'ㅋ', 'ㅌ', 'ㅍ', 'ㅎ']\n",
    "    ch2_list = ['ㅏ', 'ㅐ', 'ㅑ', 'ㅒ', 'ㅓ', 'ㅔ', 'ㅕ', 'ㅖ', 'ㅗ', 'ㅘ', 'ㅙ', 'ㅚ', 'ㅛ', 'ㅜ', 'ㅝ', 'ㅞ', 'ㅟ', 'ㅠ', 'ㅡ', 'ㅢ', 'ㅣ']\n",
    "    ch3_list = [None, 'ㄱ', 'ㄱㄱ', 'ㄱㅅ', 'ㄴ', 'ㄴㅈ', 'ㄴㅎ', 'ㄷ', 'ㄹ', 'ㄹㄱ', 'ㄹㅁ', 'ㄹㅂ', 'ㄹㅅ', 'ㄹㅌ', 'ㄹㅍ', 'ㄹㅎ', 'ㅁ', 'ㅂ', 'ㅂㅅ', 'ㅅ', 'ㅅㅅ', 'ㅇ', 'ㅈ', 'ㅊ', 'ㅋ', 'ㅌ', 'ㅍ', 'ㅎ']\n",
    "\n",
    "    horizlist = ['ㅏ', 'ㅐ', 'ㅑ', 'ㅒ', 'ㅓ', 'ㅔ', 'ㅕ', 'ㅖ','ㅣ']\n",
    "    \n",
    "    ch1 = (ord(letter) - ord('가'))//588\n",
    "    ch2 = ((ord(letter) - ord('가')) - (588*ch1)) // 28\n",
    "    ch3 = (ord(letter) - ord('가')) - (588*ch1) - 28*ch2\n",
    "    \n",
    "    c1 = ch1_list[ch1]\n",
    "    c2 = ch2_list[ch2]\n",
    "    c3 = ch3_list[ch3]\n",
    "    \n",
    "    if c2 in horizlist:\n",
    "        if os.path.exists(f\"{fd}/{font}/{font}__{c1}1.png\"):\n",
    "            c1 += \"1\"\n",
    "        elif os.path.exists(f\"{fd}/{font}/{font}__{c1}3.png\"):\n",
    "            c1 += \"3\"\n",
    "        if os.path.exists(f\"{fd}/{font}/{font}__{c2}2.png\"):\n",
    "            c2 += \"2\"\n",
    "        if c3 is not None:\n",
    "            if os.path.exists(f\"{fd}/{font}/{font}__{c3}3.png\"):\n",
    "                c3 += \"3\"\n",
    "    else:\n",
    "        if os.path.exists(f\"{fd}/{font}/{font}__{c1}3.png\"):\n",
    "            c1 += \"3\"\n",
    "        elif os.path.exists(f\"{fd}/{font}/{font}__{c1}1.png\"):\n",
    "            c1 += \"1\"\n",
    "        if os.path.exists(f\"{fd}/{font}/{font}__{c2}2.png\"):\n",
    "            c2 += \"2\"\n",
    "        if c3 is not None:\n",
    "            if os.path.exists(f\"{fd}/{font}/{font}__{c3}3.png\"):\n",
    "                c3 += \"3\"\n",
    "\n",
    "    return (\n",
    "        Image.open(f\"{fd}/{font}/{font}__{c1}.png\"),\n",
    "        Image.open(f\"{fd}/{font}/{font}__{c2}.png\"),\n",
    "        None if c3 is None else Image.open(f\"{fd}/{font}/{font}__{c3}.png\"),\n",
    "    )"
   ]
  },
  {
   "cell_type": "markdown",
   "id": "6a865edb-4468-4fa2-b6af-72b8fad98135",
   "metadata": {},
   "source": [
    "# Raw에서 파일명정규화+이미지센터링해서 이동하기"
   ]
  },
  {
   "cell_type": "code",
   "execution_count": 18,
   "id": "13d214ed-36ea-46f3-a383-0514f3120b6f",
   "metadata": {
    "tags": []
   },
   "outputs": [],
   "source": [
    "rawfd = \"/home/jupyter/ai_font/data/exp0717/test0730_handcut_raw\"\n",
    "partsfd = \"/home/jupyter/ai_font/data/exp0717/test0730_handcut_parts\"\n",
    "wholefd = \"/home/jupyter/ai_font/data/exp0717/test0730_handcut_whole\""
   ]
  },
  {
   "cell_type": "code",
   "execution_count": 14,
   "id": "cf5d70ed-ad4e-43e2-b3e7-bcb2285ea63a",
   "metadata": {
    "tags": []
   },
   "outputs": [],
   "source": [
    "font = \"플레이브밤비\"\n",
    "os.makedirs(f\"{partsfd}/{font}\", exist_ok=True)\n",
    "os.makedirs(f\"{wholefd}/{font}\", exist_ok=True)\n",
    "for n, path in [(f, f\"{rawfd}/{f}\") for f in os.listdir(rawfd) if f.endswith(\".png\")]:\n",
    "    nn = char_normalize(n)\n",
    "    img = Image.open(path)\n",
    "    centered_img = centering(img)\n",
    "    if nn[-5] in [\"1\",\"2\",\"3\"]:\n",
    "        centered_img.save(f\"{partsfd}/{font}/{font}__{nn}\")\n",
    "    else:\n",
    "        centered_img.save(f\"{wholefd}/{font}/{font}__{nn}\")"
   ]
  },
  {
   "cell_type": "markdown",
   "id": "ac1c9d8a-43a9-4b5a-a4e8-ef840b832142",
   "metadata": {},
   "source": [
    "# Assembled 생성하기"
   ]
  },
  {
   "cell_type": "code",
   "execution_count": 39,
   "id": "6e741dfa-f735-450e-8fea-95ed52f44ac4",
   "metadata": {
    "tags": []
   },
   "outputs": [],
   "source": [
    "asbfd = \"/home/jupyter/ai_font/data/exp0717/test0730_handcut_assembled\"\n",
    "font = \"플레이브밤비\"\n",
    "os.makedirs(f\"{asbfd}/{font}\", exist_ok=True)"
   ]
  },
  {
   "cell_type": "code",
   "execution_count": 41,
   "id": "fe1922c7-05ab-4945-a5be-f4b2f6c8ddf5",
   "metadata": {
    "tags": []
   },
   "outputs": [
    {
     "name": "stdout",
     "output_type": "stream",
     "text": [
      "삯\n",
      "쳇\n",
      "뽱\n",
      "쎄\n",
      "쾅\n"
     ]
    }
   ],
   "source": [
    "for n in [f for f in os.listdir(f\"{wholefd}/{font}\") if f.endswith(\".png\")]:\n",
    "    letter = n[-5]\n",
    "    try:\n",
    "        img0, img1, img2 = get_imgs(partsfd, font, letter)\n",
    "        mmg = merge_img(img0, img1, img2)\n",
    "        mmg.save(f\"{asbfd}/{font}/{font}__{letter}.png\")\n",
    "    except:\n",
    "        print(letter)"
   ]
  },
  {
   "cell_type": "markdown",
   "id": "f5fa5905-d91a-4a34-ac80-539192459042",
   "metadata": {},
   "source": [
    "# Sampling된 이미지 버킷에 압축+업로드하기"
   ]
  },
  {
   "cell_type": "code",
   "execution_count": 42,
   "id": "5af3e52d-d934-45cb-8120-886c1473c93c",
   "metadata": {
    "tags": []
   },
   "outputs": [
    {
     "name": "stdout",
     "output_type": "stream",
     "text": [
      "Folder /home/jupyter/ai_font/data/exp0717/report0730_plain zipped into report0730_plain.zip.\n",
      "File report0730_plain.zip uploaded to exp0717/report/report0730_plain.zip in bucket leo_font.\n"
     ]
    }
   ],
   "source": [
    "import os\n",
    "import zipfile\n",
    "from google.cloud import storage\n",
    "\n",
    "def zip_folder(folder_path, output_path):\n",
    "    \"\"\"\n",
    "    Zips the contents of an entire folder (including subfolders) into a zip file.\n",
    "    \n",
    "    :param folder_path: Path to the folder to be zipped.\n",
    "    :param output_path: Path to save the output zip file.\n",
    "    \"\"\"\n",
    "    with zipfile.ZipFile(output_path, 'w', zipfile.ZIP_DEFLATED) as zipf:\n",
    "        for root, dirs, files in os.walk(folder_path):\n",
    "            for file in files:\n",
    "                file_path = os.path.join(root, file)\n",
    "                arcname = os.path.relpath(file_path, start=folder_path)\n",
    "                zipf.write(file_path, arcname)\n",
    "    print(f\"Folder {folder_path} zipped into {output_path}.\")\n",
    "\n",
    "def upload_file_to_bucket(bucket_name, source_file_path, destination_blob_name):\n",
    "    \"\"\"\n",
    "    Uploads a file to the Google Cloud Storage bucket.\n",
    "    \n",
    "    :param bucket_name: Name of the GCP bucket.\n",
    "    :param source_file_path: Path to the file to be uploaded.\n",
    "    :param destination_blob_name: Name of the blob in the bucket.\n",
    "    \"\"\"\n",
    "    # Create a client\n",
    "    storage_client = storage.Client()\n",
    "\n",
    "    # Get the bucket\n",
    "    bucket = storage_client.bucket(bucket_name)\n",
    "\n",
    "    # Create a blob (file in GCP bucket)\n",
    "    blob = bucket.blob(destination_blob_name)\n",
    "\n",
    "    # Upload the file\n",
    "    blob.upload_from_filename(source_file_path)\n",
    "    print(f\"File {source_file_path} uploaded to {destination_blob_name} in bucket {bucket_name}.\")\n",
    "\n",
    "folder_to_zip = \"/home/jupyter/ai_font/data/exp0717/report0730_plain\"\n",
    "zip_file_name = \"report0730_plain.zip\"\n",
    "bucket_name = \"leo_font\"\n",
    "destination_blob_name = \"exp0717/report/report0730_plain.zip\"  # Path in the bucket\n",
    "\n",
    "# Step 1: Zip the folder\n",
    "zip_folder(folder_to_zip, zip_file_name)\n",
    "\n",
    "# Step 2: Upload the ZIP file to the GCP bucket\n",
    "upload_file_to_bucket(bucket_name, zip_file_name, destination_blob_name)"
   ]
  },
  {
   "cell_type": "markdown",
   "id": "4d33dc1d-65dc-4d09-b3f1-145efb4ab27d",
   "metadata": {},
   "source": [
    "# Test 이미지 버킷에 올리기"
   ]
  },
  {
   "cell_type": "code",
   "execution_count": 43,
   "id": "158b3fe1-9306-4de1-9bcd-dad6534a347c",
   "metadata": {
    "tags": []
   },
   "outputs": [
    {
     "name": "stdout",
     "output_type": "stream",
     "text": [
      "Folder /home/jupyter/ai_font/data/exp0717/test0730_handcut_whole zipped into test0730_handcut_whole.zip.\n",
      "File test0730_handcut_whole.zip uploaded to exp0717/report/test0730_handcut_whole.zip in bucket leo_font.\n"
     ]
    }
   ],
   "source": [
    "name = \"test0730_handcut_whole\"\n",
    "folder_to_zip = f\"/home/jupyter/ai_font/data/exp0717/{name}\"\n",
    "zip_file_name = f\"{name}.zip\"\n",
    "bucket_name = \"leo_font\"\n",
    "destination_blob_name = f\"exp0717/report/{name}.zip\"  # Path in the bucket\n",
    "\n",
    "# Step 1: Zip the folder\n",
    "zip_folder(folder_to_zip, zip_file_name)\n",
    "\n",
    "# Step 2: Upload the ZIP file to the GCP bucket\n",
    "upload_file_to_bucket(bucket_name, zip_file_name, destination_blob_name)"
   ]
  },
  {
   "cell_type": "code",
   "execution_count": null,
   "id": "afe3d679-d2a6-4f5e-9d4e-80fba82d1801",
   "metadata": {},
   "outputs": [],
   "source": []
  }
 ],
 "metadata": {
  "environment": {
   "kernel": "conda-base-py",
   "name": "workbench-notebooks.m122",
   "type": "gcloud",
   "uri": "us-docker.pkg.dev/deeplearning-platform-release/gcr.io/workbench-notebooks:m122"
  },
  "kernelspec": {
   "display_name": "Python 3 (ipykernel) (Local)",
   "language": "python",
   "name": "conda-base-py"
  },
  "language_info": {
   "codemirror_mode": {
    "name": "ipython",
    "version": 3
   },
   "file_extension": ".py",
   "mimetype": "text/x-python",
   "name": "python",
   "nbconvert_exporter": "python",
   "pygments_lexer": "ipython3",
   "version": "3.10.14"
  }
 },
 "nbformat": 4,
 "nbformat_minor": 5
}
