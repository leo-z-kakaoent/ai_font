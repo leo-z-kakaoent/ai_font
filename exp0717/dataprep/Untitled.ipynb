{
 "cells": [
  {
   "cell_type": "code",
   "execution_count": 1,
   "id": "2db5100f-05cd-4985-a07b-8d342be11fef",
   "metadata": {
    "tags": []
   },
   "outputs": [],
   "source": [
    "import os\n",
    "import copy\n",
    "import numpy as np\n",
    "import pandas as pd\n",
    "from PIL import Image\n",
    "from scipy.optimize import minimize"
   ]
  },
  {
   "cell_type": "code",
   "execution_count": 2,
   "id": "52cffd43-8f9a-43a7-b66f-e42f3a8a8962",
   "metadata": {
    "tags": []
   },
   "outputs": [],
   "source": [
    "fd = \"/home/jupyter/ai_font/data/exp0717/train_whole/\"\n",
    "file = \"교보손글씨2020박도연/교보손글씨2020박도연__우.png\""
   ]
  },
  {
   "cell_type": "code",
   "execution_count": 3,
   "id": "a5983f8e-5309-4a61-aa14-255c861cbc84",
   "metadata": {
    "tags": []
   },
   "outputs": [],
   "source": [
    "img = Image.open(fd+file)"
   ]
  },
  {
   "cell_type": "code",
   "execution_count": 4,
   "id": "5f65c503-6d62-49bc-8afb-cdae518ffc24",
   "metadata": {
    "tags": []
   },
   "outputs": [],
   "source": [
    "def func_black(coefs):\n",
    "    b0, b1 = coefs\n",
    "    pred = b0 + b1*x_black\n",
    "    return np.mean(np.abs(y_black-pred))\n",
    "\n",
    "def func_white(coefs):\n",
    "    b0, b1 = coefs\n",
    "    pred = b0 + b1*x_white\n",
    "    return np.mean(np.abs(y_white-pred))"
   ]
  },
  {
   "cell_type": "code",
   "execution_count": 5,
   "id": "caf66d1d-ae84-4399-b55d-04a91c2dc497",
   "metadata": {
    "tags": []
   },
   "outputs": [],
   "source": [
    "def func_comb(coefs):\n",
    "    b0, b1 = coefs\n",
    "    pred_black = b0 + b1*x_black\n",
    "    pred_white = b0 + b1*x_white\n",
    "    return np.mean(np.abs(y_black-pred_black)) + np.mean(np.where(np.abs(y_white-pred_white)>2,0,np.abs(y_white-pred_white)))*2"
   ]
  },
  {
   "cell_type": "code",
   "execution_count": 6,
   "id": "0641d4e4-563a-4e52-be6b-081f0fa9a8dd",
   "metadata": {
    "tags": []
   },
   "outputs": [],
   "source": [
    "def func_cond(coefs):\n",
    "    b0, b1 = coefs\n",
    "    pred_black = b0 + b1*x_black\n",
    "    overlabpixels = np.where(y_black == pred_black.astype(np.int16), 1, 0)\n",
    "    pen = len(overlabpixels) if np.any(overlabpixels) else 0\n",
    "    return np.mean(np.abs(y_black-pred_black)) + np.sum(overlabpixels) + pen"
   ]
  },
  {
   "cell_type": "code",
   "execution_count": 7,
   "id": "150596d7-91f0-4700-9e69-6a4278dd179e",
   "metadata": {
    "tags": []
   },
   "outputs": [],
   "source": [
    "x_black,y_black = np.where(np.array(img)!=255)\n",
    "x_white,y_white = np.where(np.array(img)==255)"
   ]
  },
  {
   "cell_type": "code",
   "execution_count": 8,
   "id": "1f26006d-5008-4671-95a1-eece45ceae67",
   "metadata": {
    "tags": []
   },
   "outputs": [],
   "source": [
    "coef = np.array([0.,1.])\n",
    "coefs = []\n",
    "for _ in range(20):\n",
    "    result = minimize(func_black, coef, method='Nelder-Mead')\n",
    "    coefs.append(result.x)\n",
    "    result = minimize(func_white, coef, method='Nelder-Mead')\n",
    "    coefs.append(result.x)"
   ]
  },
  {
   "cell_type": "code",
   "execution_count": 9,
   "id": "8cb669cf-78c8-45af-9224-af5bed1340bb",
   "metadata": {
    "tags": []
   },
   "outputs": [],
   "source": [
    "coef = np.array([0.,1.])\n",
    "result = minimize(func_comb, coef, method='Nelder-Mead')"
   ]
  },
  {
   "cell_type": "code",
   "execution_count": 10,
   "id": "3aec3cda-1596-4697-87c8-c8b8b0e81b58",
   "metadata": {
    "tags": []
   },
   "outputs": [],
   "source": [
    "coef = np.array([0.,1.])\n",
    "result = minimize(func_cond, coef, method='Nelder-Mead')"
   ]
  },
  {
   "cell_type": "code",
   "execution_count": 11,
   "id": "d8d652ab-4c45-4200-8379-d47428fb656b",
   "metadata": {
    "tags": []
   },
   "outputs": [
    {
     "data": {
      "text/plain": [
       "       message: Optimization terminated successfully.\n",
       "       success: True\n",
       "        status: 0\n",
       "           fun: 668.028064250052\n",
       "             x: [ 3.676e-04  1.074e+00]\n",
       "           nit: 24\n",
       "          nfev: 54\n",
       " final_simplex: (array([[ 3.676e-04,  1.074e+00],\n",
       "                       [ 3.613e-04,  1.074e+00],\n",
       "                       [ 3.618e-04,  1.074e+00]]), array([ 6.680e+02,  6.680e+02,  6.680e+02]))"
      ]
     },
     "execution_count": 11,
     "metadata": {},
     "output_type": "execute_result"
    }
   ],
   "source": [
    "result"
   ]
  },
  {
   "cell_type": "code",
   "execution_count": 12,
   "id": "d4c2fe6c-5de5-4605-b96d-1db507a1d1f1",
   "metadata": {
    "tags": []
   },
   "outputs": [
    {
     "data": {
      "text/plain": [
       "array([6.54999063e+01, 1.20745507e-06])"
      ]
     },
     "execution_count": 12,
     "metadata": {},
     "output_type": "execute_result"
    }
   ],
   "source": [
    "np.mean(np.stack(coefs),axis=0)"
   ]
  },
  {
   "cell_type": "code",
   "execution_count": 13,
   "id": "44033feb-f4a2-4741-8341-2fc40ea0cd2f",
   "metadata": {
    "tags": []
   },
   "outputs": [],
   "source": [
    "def dividing(coefs):\n",
    "    b0, b1 = coefs\n",
    "    pred = b0 + b1*x_black\n",
    "    return np.where(pred > y_black, 0, 1)"
   ]
  },
  {
   "cell_type": "code",
   "execution_count": 14,
   "id": "5bcf33aa-ed10-4b21-8953-03d540795cab",
   "metadata": {
    "tags": []
   },
   "outputs": [],
   "source": [
    "maps = dividing(result.x)"
   ]
  },
  {
   "cell_type": "code",
   "execution_count": 15,
   "id": "c8905c59-f1b5-47bb-9514-4412be1b4fce",
   "metadata": {
    "tags": []
   },
   "outputs": [],
   "source": [
    "npimg = np.array(img)\n",
    "for i,j,k in zip(x_black,y_black,maps):\n",
    "    if k == 0:\n",
    "        npimg[i,j] = 255\n",
    "        \n",
    "npimg[40,64] = 0\n",
    "npimg[41,64] = 0\n",
    "npimg[42,64] = 0"
   ]
  },
  {
   "cell_type": "code",
   "execution_count": 16,
   "id": "4a43ac31-5d10-4f80-a17f-81367bbd3eb4",
   "metadata": {
    "tags": []
   },
   "outputs": [
    {
     "data": {
      "image/jpeg": "[encoded data removed]",
      "image/png": "[encoded data removed]",
      "text/plain": [
       "<PIL.Image.Image image mode=L size=128x128>"
      ]
     },
     "execution_count": 16,
     "metadata": {},
     "output_type": "execute_result"
    }
   ],
   "source": [
    "Image.fromarray(npimg)"
   ]
  },
  {
   "cell_type": "code",
   "execution_count": 17,
   "id": "dc96e496-ea16-41a7-b10c-3f0399822230",
   "metadata": {
    "tags": []
   },
   "outputs": [
    {
     "name": "stdout",
     "output_type": "stream",
     "text": [
      "Pairwise distances between reference points and other points:\n",
      "[[1.41421356 2.         1.         2.23606798 3.60555128]\n",
      " [4.24264069 4.47213595 2.23606798 1.         1.        ]]\n"
     ]
    }
   ],
   "source": [
    "import numpy as np\n",
    "from scipy.spatial.distance import cdist\n",
    "\n",
    "# Example data\n",
    "point1 = np.array([[1, 2]])\n",
    "point2 = np.array([[3, 4]])\n",
    "points = np.array([[0, 1], [1, 0], [2, 2], [3, 3], [4, 4]])\n",
    "\n",
    "# Combine the two points into a single array\n",
    "reference_points = np.vstack([point1, point2])\n",
    "\n",
    "# Compute pairwise distances\n",
    "pairwise_distances = cdist(reference_points, points, metric='euclidean')\n",
    "\n",
    "print(\"Pairwise distances between reference points and other points:\")\n",
    "print(pairwise_distances)\n"
   ]
  },
  {
   "cell_type": "code",
   "execution_count": 18,
   "id": "9212bcd1-8312-4fb1-b649-3ef7b288b23d",
   "metadata": {
    "tags": []
   },
   "outputs": [
    {
     "name": "stdout",
     "output_type": "stream",
     "text": [
      "Pairwise distances between reference points and other points:\n",
      "[[37.01351105 37.05401463 37.12142239 ... 90.08884504 90.13878189\n",
      "  90.19977827]\n",
      " [91.00549434 91.02197537 91.04943712 ... 38.20994635 38.32753579\n",
      "  38.47076812]]\n"
     ]
    }
   ],
   "source": [
    "import numpy as np\n",
    "from scipy.spatial.distance import cdist\n",
    "\n",
    "# Example data\n",
    "point1 = np.array([[0, 64]])\n",
    "point2 = np.array([[128, 64]])\n",
    "points = np.stack([x_black,y_black],1)\n",
    "\n",
    "# Combine the two points into a single array\n",
    "reference_points = np.vstack([point1, point2])\n",
    "\n",
    "# Compute pairwise distances\n",
    "pairwise_distances = cdist(reference_points, points, metric='euclidean')\n",
    "\n",
    "print(\"Pairwise distances between reference points and other points:\")\n",
    "print(pairwise_distances)\n"
   ]
  },
  {
   "cell_type": "code",
   "execution_count": 19,
   "id": "7865eaf6-7866-4ce3-a57a-49f15e25f712",
   "metadata": {
    "tags": []
   },
   "outputs": [
    {
     "data": {
      "text/plain": [
       "(646,)"
      ]
     },
     "execution_count": 19,
     "metadata": {},
     "output_type": "execute_result"
    }
   ],
   "source": [
    "np.sum(pairwise_distances,0).shape"
   ]
  },
  {
   "cell_type": "code",
   "execution_count": 20,
   "id": "6bb45532-7c35-4ae1-96b3-d557f178160f",
   "metadata": {
    "tags": []
   },
   "outputs": [],
   "source": [
    "ratios = pairwise_distances[0]/np.sum(pairwise_distances,0)"
   ]
  },
  {
   "cell_type": "code",
   "execution_count": 21,
   "id": "5968b907-09fe-47d7-8668-4346214ab2ac",
   "metadata": {
    "tags": []
   },
   "outputs": [
    {
     "data": {
      "text/plain": [
       "(array([29., 44., 31., 29., 32., 39., 41., 20., 46., 42., 51., 52., 70.,\n",
       "        32., 12., 18., 17., 13., 17., 11.]),\n",
       " array([0.28912513, 0.30977787, 0.33043061, 0.35108336, 0.3717361 ,\n",
       "        0.39238884, 0.41304159, 0.43369433, 0.45434707, 0.47499982,\n",
       "        0.49565256, 0.51630531, 0.53695805, 0.55761079, 0.57826354,\n",
       "        0.59891628, 0.61956902, 0.64022177, 0.66087451, 0.68152725,\n",
       "        0.70218   ]),\n",
       " <BarContainer object of 20 artists>)"
      ]
     },
     "execution_count": 21,
     "metadata": {},
     "output_type": "execute_result"
    },
    {
     "data": {
      "image/png": "[encoded data removed]",
      "text/plain": [
       "<Figure size 640x480 with 1 Axes>"
      ]
     },
     "metadata": {},
     "output_type": "display_data"
    }
   ],
   "source": [
    "import matplotlib.pyplot as plt\n",
    "plt.hist(ratios,bins=20)"
   ]
  },
  {
   "cell_type": "code",
   "execution_count": 22,
   "id": "5318a4dd-bbcc-4485-840c-43784469786d",
   "metadata": {
    "tags": []
   },
   "outputs": [
    {
     "data": {
      "text/plain": [
       "(646, 2)"
      ]
     },
     "execution_count": 22,
     "metadata": {},
     "output_type": "execute_result"
    }
   ],
   "source": [
    "np.stack([x_black,y_black],1).shape"
   ]
  },
  {
   "cell_type": "code",
   "execution_count": 23,
   "id": "c557952d-bd30-4fe2-8f4e-8a2886d35c41",
   "metadata": {
    "tags": []
   },
   "outputs": [],
   "source": [
    "endpoint = np.array([[128, 64]])\n",
    "points = np.stack([x_black,y_black],1)\n",
    "dist = cdist(endpoint, points, metric='euclidean')"
   ]
  },
  {
   "cell_type": "code",
   "execution_count": 24,
   "id": "48693a63-552a-4f39-aa5b-351cd6f4733f",
   "metadata": {
    "tags": []
   },
   "outputs": [],
   "source": [
    "anchor = points[np.argsort(dist.reshape(-1))][:8]\n",
    "leftpoints = points[np.argsort(dist.reshape(-1))][8:]"
   ]
  },
  {
   "cell_type": "code",
   "execution_count": 25,
   "id": "5fca3146-e5d9-40a1-b41f-05a75c7f60d8",
   "metadata": {
    "tags": []
   },
   "outputs": [
    {
     "name": "stdout",
     "output_type": "stream",
     "text": [
      "6\n",
      "6\n",
      "7\n",
      "7\n",
      "6\n",
      "6\n",
      "6\n",
      "6\n",
      "6\n",
      "6\n",
      "6\n",
      "6\n",
      "6\n",
      "6\n",
      "6\n",
      "6\n",
      "6\n",
      "6\n",
      "6\n",
      "6\n",
      "6\n",
      "7\n",
      "9\n",
      "13\n",
      "16\n",
      "19\n",
      "18\n",
      "17\n",
      "17\n",
      "15\n",
      "14\n",
      "12\n",
      "11\n",
      "11\n",
      "10\n",
      "10\n",
      "10\n",
      "5\n",
      "5\n",
      "5\n",
      "6\n",
      "6\n",
      "6\n",
      "5\n",
      "5\n",
      "5\n",
      "5\n",
      "3\n",
      "0\n"
     ]
    }
   ],
   "source": [
    "noerror = True\n",
    "len_near = 1\n",
    "while (len(leftpoints) > 0) & noerror & (len_near>0):\n",
    "    try:\n",
    "        dist = cdist(anchor, leftpoints, metric='euclidean')\n",
    "        wherenear = np.where(np.min(dist,0) < 1.5)[0]\n",
    "        len_near = len(wherenear)\n",
    "        anchor = np.concatenate([anchor, leftpoints[wherenear,:]])\n",
    "        leftpoints = np.delete(leftpoints, wherenear,axis=0)\n",
    "    except:\n",
    "        noerror = False\n",
    "    print(len_near)"
   ]
  },
  {
   "cell_type": "code",
   "execution_count": 31,
   "id": "c3f1e309-7bac-477b-9a2a-aabf215c2973",
   "metadata": {
    "tags": []
   },
   "outputs": [
    {
     "data": {
      "text/plain": [
       "array([[90, 68],\n",
       "       [90, 69],\n",
       "       [90, 70],\n",
       "       [89, 68],\n",
       "       [89, 69],\n",
       "       [89, 70],\n",
       "       [89, 71],\n",
       "       [88, 68],\n",
       "       [88, 69],\n",
       "       [88, 70],\n",
       "       [88, 71],\n",
       "       [87, 67],\n",
       "       [87, 68],\n",
       "       [87, 69],\n",
       "       [87, 70],\n",
       "       [87, 71],\n",
       "       [86, 67],\n",
       "       [86, 68],\n",
       "       [86, 69],\n",
       "       [86, 70],\n",
       "       [86, 71],\n",
       "       [86, 72],\n",
       "       [85, 67],\n",
       "       [85, 68],\n",
       "       [85, 69],\n",
       "       [85, 70],\n",
       "       [85, 71],\n",
       "       [85, 72],\n",
       "       [84, 67],\n",
       "       [84, 68],\n",
       "       [84, 69],\n",
       "       [84, 70],\n",
       "       [84, 71],\n",
       "       [84, 72],\n",
       "       [83, 67],\n",
       "       [83, 68],\n",
       "       [83, 69],\n",
       "       [83, 70],\n",
       "       [83, 71],\n",
       "       [83, 72],\n",
       "       [82, 67],\n",
       "       [82, 68],\n",
       "       [82, 69],\n",
       "       [82, 70],\n",
       "       [82, 71],\n",
       "       [82, 72],\n",
       "       [81, 67],\n",
       "       [81, 68],\n",
       "       [81, 69],\n",
       "       [81, 70],\n",
       "       [81, 71],\n",
       "       [81, 72],\n",
       "       [80, 67],\n",
       "       [80, 68],\n",
       "       [80, 69],\n",
       "       [80, 70],\n",
       "       [80, 71],\n",
       "       [80, 72],\n",
       "       [79, 67],\n",
       "       [79, 68],\n",
       "       [79, 69],\n",
       "       [79, 70],\n",
       "       [79, 71],\n",
       "       [79, 72],\n",
       "       [78, 67],\n",
       "       [78, 68],\n",
       "       [78, 69],\n",
       "       [78, 70],\n",
       "       [78, 71],\n",
       "       [78, 72],\n",
       "       [77, 67],\n",
       "       [77, 68],\n",
       "       [77, 69],\n",
       "       [77, 70],\n",
       "       [77, 71],\n",
       "       [77, 72],\n",
       "       [76, 67],\n",
       "       [76, 68],\n",
       "       [76, 69],\n",
       "       [76, 70],\n",
       "       [76, 71],\n",
       "       [76, 72],\n",
       "       [75, 67],\n",
       "       [75, 68],\n",
       "       [75, 69],\n",
       "       [75, 70],\n",
       "       [75, 71],\n",
       "       [75, 72],\n",
       "       [74, 67],\n",
       "       [74, 68],\n",
       "       [74, 69],\n",
       "       [74, 70],\n",
       "       [74, 71],\n",
       "       [74, 72],\n",
       "       [73, 67],\n",
       "       [73, 68],\n",
       "       [73, 69],\n",
       "       [73, 70],\n",
       "       [73, 71],\n",
       "       [73, 72],\n",
       "       [72, 67],\n",
       "       [72, 68],\n",
       "       [72, 69],\n",
       "       [72, 70],\n",
       "       [72, 71],\n",
       "       [72, 72],\n",
       "       [71, 67],\n",
       "       [71, 68],\n",
       "       [71, 69],\n",
       "       [71, 70],\n",
       "       [71, 71],\n",
       "       [71, 72],\n",
       "       [70, 67],\n",
       "       [70, 68],\n",
       "       [70, 69],\n",
       "       [70, 70],\n",
       "       [70, 71],\n",
       "       [70, 72],\n",
       "       [69, 67],\n",
       "       [69, 68],\n",
       "       [69, 69],\n",
       "       [69, 70],\n",
       "       [69, 71],\n",
       "       [69, 72],\n",
       "       [68, 67],\n",
       "       [68, 68],\n",
       "       [68, 69],\n",
       "       [68, 70],\n",
       "       [68, 71],\n",
       "       [68, 72],\n",
       "       [67, 67],\n",
       "       [67, 68],\n",
       "       [67, 69],\n",
       "       [67, 70],\n",
       "       [67, 71],\n",
       "       [67, 72],\n",
       "       [66, 66],\n",
       "       [66, 67],\n",
       "       [66, 68],\n",
       "       [66, 69],\n",
       "       [66, 70],\n",
       "       [66, 71],\n",
       "       [66, 72],\n",
       "       [66, 65],\n",
       "       [65, 65],\n",
       "       [65, 66],\n",
       "       [65, 67],\n",
       "       [65, 68],\n",
       "       [65, 69],\n",
       "       [65, 70],\n",
       "       [65, 71],\n",
       "       [65, 72],\n",
       "       [67, 64],\n",
       "       [66, 64],\n",
       "       [65, 64],\n",
       "       [64, 64],\n",
       "       [64, 65],\n",
       "       [64, 66],\n",
       "       [64, 67],\n",
       "       [64, 68],\n",
       "       [64, 69],\n",
       "       [64, 70],\n",
       "       [64, 71],\n",
       "       [64, 72],\n",
       "       [64, 73],\n",
       "       [67, 63],\n",
       "       [66, 63],\n",
       "       [65, 63],\n",
       "       [64, 63],\n",
       "       [63, 64],\n",
       "       [63, 65],\n",
       "       [63, 63],\n",
       "       [63, 66],\n",
       "       [63, 67],\n",
       "       [63, 68],\n",
       "       [63, 69],\n",
       "       [63, 70],\n",
       "       [63, 71],\n",
       "       [63, 72],\n",
       "       [63, 73],\n",
       "       [63, 74],\n",
       "       [68, 62],\n",
       "       [67, 62],\n",
       "       [66, 62],\n",
       "       [65, 62],\n",
       "       [64, 62],\n",
       "       [63, 62],\n",
       "       [62, 64],\n",
       "       [62, 65],\n",
       "       [62, 63],\n",
       "       [62, 66],\n",
       "       [62, 67],\n",
       "       [62, 68],\n",
       "       [62, 69],\n",
       "       [62, 70],\n",
       "       [62, 71],\n",
       "       [62, 72],\n",
       "       [62, 73],\n",
       "       [62, 74],\n",
       "       [62, 75],\n",
       "       [68, 61],\n",
       "       [67, 61],\n",
       "       [66, 61],\n",
       "       [65, 61],\n",
       "       [64, 61],\n",
       "       [63, 61],\n",
       "       [61, 66],\n",
       "       [61, 67],\n",
       "       [62, 76],\n",
       "       [61, 68],\n",
       "       [61, 69],\n",
       "       [61, 70],\n",
       "       [61, 71],\n",
       "       [61, 72],\n",
       "       [61, 73],\n",
       "       [61, 74],\n",
       "       [61, 75],\n",
       "       [61, 76],\n",
       "       [69, 60],\n",
       "       [68, 60],\n",
       "       [67, 60],\n",
       "       [66, 60],\n",
       "       [65, 60],\n",
       "       [64, 60],\n",
       "       [60, 68],\n",
       "       [60, 69],\n",
       "       [61, 77],\n",
       "       [60, 70],\n",
       "       [60, 71],\n",
       "       [60, 72],\n",
       "       [60, 73],\n",
       "       [60, 74],\n",
       "       [60, 75],\n",
       "       [60, 76],\n",
       "       [60, 77],\n",
       "       [69, 59],\n",
       "       [68, 59],\n",
       "       [67, 59],\n",
       "       [66, 59],\n",
       "       [65, 59],\n",
       "       [64, 59],\n",
       "       [61, 78],\n",
       "       [59, 70],\n",
       "       [59, 71],\n",
       "       [60, 78],\n",
       "       [59, 72],\n",
       "       [59, 73],\n",
       "       [59, 74],\n",
       "       [59, 75],\n",
       "       [59, 76],\n",
       "       [59, 77],\n",
       "       [59, 78],\n",
       "       [69, 58],\n",
       "       [68, 58],\n",
       "       [67, 58],\n",
       "       [66, 58],\n",
       "       [65, 58],\n",
       "       [61, 79],\n",
       "       [60, 79],\n",
       "       [58, 73],\n",
       "       [59, 79],\n",
       "       [58, 74],\n",
       "       [58, 75],\n",
       "       [58, 76],\n",
       "       [58, 77],\n",
       "       [58, 78],\n",
       "       [58, 79],\n",
       "       [70, 57],\n",
       "       [69, 57],\n",
       "       [68, 57],\n",
       "       [67, 57],\n",
       "       [66, 57],\n",
       "       [65, 57],\n",
       "       [60, 80],\n",
       "       [59, 80],\n",
       "       [58, 80],\n",
       "       [57, 76],\n",
       "       [57, 77],\n",
       "       [57, 78],\n",
       "       [57, 79],\n",
       "       [57, 80],\n",
       "       [70, 56],\n",
       "       [69, 56],\n",
       "       [68, 56],\n",
       "       [67, 56],\n",
       "       [66, 56],\n",
       "       [65, 56],\n",
       "       [60, 81],\n",
       "       [59, 81],\n",
       "       [58, 81],\n",
       "       [57, 81],\n",
       "       [56, 80],\n",
       "       [56, 81],\n",
       "       [71, 55],\n",
       "       [70, 55],\n",
       "       [69, 55],\n",
       "       [68, 55],\n",
       "       [67, 55],\n",
       "       [66, 55],\n",
       "       [60, 82],\n",
       "       [59, 82],\n",
       "       [58, 82],\n",
       "       [57, 82],\n",
       "       [56, 82],\n",
       "       [71, 54],\n",
       "       [70, 54],\n",
       "       [69, 54],\n",
       "       [68, 54],\n",
       "       [67, 54],\n",
       "       [66, 54],\n",
       "       [60, 83],\n",
       "       [59, 83],\n",
       "       [58, 83],\n",
       "       [57, 83],\n",
       "       [56, 83],\n",
       "       [71, 53],\n",
       "       [70, 53],\n",
       "       [69, 53],\n",
       "       [68, 53],\n",
       "       [67, 53],\n",
       "       [60, 84],\n",
       "       [59, 84],\n",
       "       [58, 84],\n",
       "       [57, 84],\n",
       "       [56, 84],\n",
       "       [72, 52],\n",
       "       [71, 52],\n",
       "       [70, 52],\n",
       "       [69, 52],\n",
       "       [68, 52],\n",
       "       [67, 52],\n",
       "       [59, 85],\n",
       "       [58, 85],\n",
       "       [57, 85],\n",
       "       [56, 85],\n",
       "       [72, 51],\n",
       "       [71, 51],\n",
       "       [70, 51],\n",
       "       [69, 51],\n",
       "       [68, 51],\n",
       "       [67, 51],\n",
       "       [59, 86],\n",
       "       [58, 86],\n",
       "       [57, 86],\n",
       "       [56, 86],\n",
       "       [72, 50],\n",
       "       [71, 50],\n",
       "       [70, 50],\n",
       "       [69, 50],\n",
       "       [68, 50],\n",
       "       [72, 49],\n",
       "       [71, 49],\n",
       "       [70, 49],\n",
       "       [69, 49],\n",
       "       [68, 49],\n",
       "       [72, 48],\n",
       "       [71, 48],\n",
       "       [70, 48],\n",
       "       [69, 48],\n",
       "       [68, 48],\n",
       "       [73, 47],\n",
       "       [72, 47],\n",
       "       [71, 47],\n",
       "       [70, 47],\n",
       "       [69, 47],\n",
       "       [68, 47],\n",
       "       [73, 46],\n",
       "       [72, 46],\n",
       "       [71, 46],\n",
       "       [70, 46],\n",
       "       [69, 46],\n",
       "       [68, 46],\n",
       "       [73, 45],\n",
       "       [72, 45],\n",
       "       [71, 45],\n",
       "       [70, 45],\n",
       "       [69, 45],\n",
       "       [68, 45],\n",
       "       [73, 44],\n",
       "       [72, 44],\n",
       "       [71, 44],\n",
       "       [70, 44],\n",
       "       [69, 44],\n",
       "       [73, 43],\n",
       "       [72, 43],\n",
       "       [71, 43],\n",
       "       [70, 43],\n",
       "       [69, 43],\n",
       "       [73, 42],\n",
       "       [72, 42],\n",
       "       [71, 42],\n",
       "       [70, 42],\n",
       "       [69, 42],\n",
       "       [73, 41],\n",
       "       [72, 41],\n",
       "       [71, 41],\n",
       "       [70, 41],\n",
       "       [69, 41],\n",
       "       [72, 40],\n",
       "       [71, 40],\n",
       "       [70, 40]])"
      ]
     },
     "execution_count": 31,
     "metadata": {},
     "output_type": "execute_result"
    }
   ],
   "source": [
    "anchor"
   ]
  },
  {
   "cell_type": "code",
   "execution_count": 32,
   "id": "e4c2d280-e381-4f9a-be05-33b12108332e",
   "metadata": {
    "tags": []
   },
   "outputs": [
    {
     "data": {
      "text/plain": [
       "(245, 2)"
      ]
     },
     "execution_count": 32,
     "metadata": {},
     "output_type": "execute_result"
    }
   ],
   "source": [
    "leftpoints.shape"
   ]
  },
  {
   "cell_type": "code",
   "execution_count": 28,
   "id": "e3c25601-3fdb-477a-afec-a53478cd2e57",
   "metadata": {
    "tags": []
   },
   "outputs": [
    {
     "data": {
      "text/plain": [
       "array([], dtype=int64)"
      ]
     },
     "execution_count": 28,
     "metadata": {},
     "output_type": "execute_result"
    }
   ],
   "source": [
    "wherenear"
   ]
  },
  {
   "cell_type": "code",
   "execution_count": 29,
   "id": "5c9f7b0c-b0d6-4e8f-8aff-5e2608bc35a1",
   "metadata": {
    "tags": []
   },
   "outputs": [
    {
     "data": {
      "text/plain": [
       "array([], dtype=int64)"
      ]
     },
     "execution_count": 29,
     "metadata": {},
     "output_type": "execute_result"
    }
   ],
   "source": [
    "wherenear"
   ]
  },
  {
   "cell_type": "code",
   "execution_count": 37,
   "id": "ba022633-84f5-4def-a368-e7d8438dab79",
   "metadata": {
    "tags": []
   },
   "outputs": [
    {
     "data": {
      "text/plain": [
       "array([239, 186, 177, 182, 219, 254, 180,  61,   2,   0,   0,   0,   0,\n",
       "        19, 105, 215, 237,  79,   0,   0,   0,   0,   0,   0,   0,   0,\n",
       "         0,   4, 111, 249, 231,  37,   0,   0,   0,   0,   0,   0,   0,\n",
       "         0,   0,   0,   0,   0,  56, 241, 246,  45,   0,   0,   0,   0,\n",
       "        11, 101, 161, 160, 101,  10,   0,   0,   0,   0,  63, 252, 111,\n",
       "         0,   0,   0,   0,  78, 234, 231,  68,   0,   0,   0,   0, 136,\n",
       "       218,   2,   0,   0,   0,  96, 254, 250,  70,   0,   0,   0,  17,\n",
       "       245, 107,   0,   0,   0,  44, 250, 233,  10,   0,   0,   0, 168,\n",
       "        30,   0,   0,   0, 180,  73,   0,   0,   0, 114, 228,   0,   0,\n",
       "         0,  26, 254, 111,   0,   0,   0, 102, 195,   0,   0,   0,  87,\n",
       "        93,   0,   0,   0, 113, 178,   0,   0,   0, 107, 247,  22,   0,\n",
       "         0,   0, 174, 181,   0,   0,   0,  78, 119,   0,   0,   0,  18,\n",
       "       243, 212,   0,   0,   0,  12, 237, 251, 124,   0,   0,   0,   0,\n",
       "       138, 254,  27,   0,   0,   0,  63, 230, 246, 164,  43,   0,   0,\n",
       "         0,   0,  61, 251, 145,   0,   0,   0,   0,   5,  62,  97,  96,\n",
       "        64,  10,   0,   0,   0,   0,   0,  45, 232, 253,  72,   0,   0,\n",
       "         0,   0,   0,   0,   0,   0,   0,   0,   0,   0,   0,  76, 239,\n",
       "       247, 105,   5,   0,   0,   0,   0,   0,   0,   0,   0,   0,  50,\n",
       "       172, 229, 136,  86,  51,  45,  46,  67,  96, 145, 208, 235, 185,\n",
       "       143, 118, 113, 162, 253, 232, 163,  93,  31,   0,   0,   0,   0,\n",
       "         0,   0, 142, 226, 141,  54,   1,   0,   0,   0,   0,   0,   0,\n",
       "         0,   0,   0,  84, 245, 161,  63,   1,   0,   0,   0,   0,   0,\n",
       "         0,   0,   0,   0,   0,   3,  51, 199, 220, 111,  14,   0,   0,\n",
       "         0,   0,   0,   0,   0,   0,   3,  54, 119, 172, 211, 248, 192,\n",
       "        78,   2,   0,   0,   0,   0,   0,   0,   0,   7,  78, 165, 241,\n",
       "       251, 165,  50,   0,   0,   0,   0,   0,   0,   0,   0,  34, 139,\n",
       "       237, 240, 138,  28,   0,   0,   0,   0,   0,   0,   0,   0,   0,\n",
       "       130, 253, 212, 105,  12,   0,   0,   0,   0,   0,   0,   0,   0,\n",
       "         0,   0,  46, 254, 251, 172,  64,   0,   0,   0,   0,   0,   0,\n",
       "         0,   0,   0,   0,   0,   0,   0, 117, 228, 131,  28,   0,   0,\n",
       "         0,   0,   0,   0,   0,   4,  88, 197,  99,   0,   0,   0,   0,\n",
       "       157, 237, 159,  67,   2,   0,   0,   0,   0,   0,   0,   0,  16,\n",
       "       116, 226, 172,   0,   0,   0,   0, 184, 253, 234, 210, 177, 123,\n",
       "        53,   2,   0,   0,   0,   0,   0,   0,   0,   0,  34, 144, 243,\n",
       "       180,   0,   0,   0,   0, 201, 139,  33,  22,  12,   1,   0,   0,\n",
       "         0,   0,   0,   0,   0,   0,   0,   0,   0,   2,  74, 178, 253,\n",
       "       181,   0,   0,   0,   0, 213, 214,   1,   0,   0,   0,   0,   0,\n",
       "         0,   0,   0,   0,   0,   0,   0,   0,  25, 123, 225, 183,   0,\n",
       "         0,   0,   0, 224, 170,   0,   0,   0,   0,   0,   0,   0,   0,\n",
       "         0,   0,   0,   4,  71, 172, 251, 184,   0,   0,   0,   0, 235,\n",
       "       227,  27,   0,   0,   0,   0,   0,   0,  14,  54,  97, 162, 238,\n",
       "       186,   0,   0,   0,   0, 243, 251, 214, 209, 219, 230, 240, 251,\n",
       "       188,   0,   0,   0,   0, 245, 191,   0,   0,   0,   0, 247, 193,\n",
       "         0,   0,   0,   0, 249, 196,   0,   0,   0,   0, 251, 199,   0,\n",
       "         0,   0,   0, 251, 203,   0,   0,   0,   0, 249, 206,   0,   0,\n",
       "         0,   0, 248, 210,   0,   0,   0,   0, 247, 215,   0,   0,   0,\n",
       "         0, 246, 220,   0,   0,   0,   0, 245, 227,   0,   0,   0,   0,\n",
       "       245, 232,   0,   0,   0,   0, 244, 238,   0,   0,   0,   0, 244,\n",
       "       240,   0,   0,   0,   0, 251, 245,   0,   0,   0,  23,   8,   0,\n",
       "         0,  74,  61,   0,   0, 176, 184,  14, 100], dtype=uint8)"
      ]
     },
     "execution_count": 37,
     "metadata": {},
     "output_type": "execute_result"
    }
   ],
   "source": [
    "np.array(img)[np.where(np.array(img)!=255)]"
   ]
  },
  {
   "cell_type": "code",
   "execution_count": null,
   "id": "ab3878be-d771-4398-9135-24db098bbdc5",
   "metadata": {},
   "outputs": [],
   "source": []
  }
 ],
 "metadata": {
  "environment": {
   "kernel": "conda-base-py",
   "name": "workbench-notebooks.m123",
   "type": "gcloud",
   "uri": "us-docker.pkg.dev/deeplearning-platform-release/gcr.io/workbench-notebooks:m123"
  },
  "kernelspec": {
   "display_name": "Python 3 (ipykernel) (Local)",
   "language": "python",
   "name": "conda-base-py"
  },
  "language_info": {
   "codemirror_mode": {
    "name": "ipython",
    "version": 3
   },
   "file_extension": ".py",
   "mimetype": "text/x-python",
   "name": "python",
   "nbconvert_exporter": "python",
   "pygments_lexer": "ipython3",
   "version": "3.10.14"
  }
 },
 "nbformat": 4,
 "nbformat_minor": 5
}
