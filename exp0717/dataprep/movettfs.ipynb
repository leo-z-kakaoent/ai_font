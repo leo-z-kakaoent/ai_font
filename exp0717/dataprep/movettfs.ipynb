{
 "cells": [
  {
   "cell_type": "code",
   "execution_count": 9,
   "id": "50c82a8e-6682-4457-9b07-237e97b2b65c",
   "metadata": {
    "tags": []
   },
   "outputs": [],
   "source": [
    "import os\n",
    "import shutil\n",
    "from tqdm import tqdm"
   ]
  },
  {
   "cell_type": "code",
   "execution_count": 10,
   "id": "b228202e-2ddb-487d-a1d8-1fbefa42497b",
   "metadata": {
    "tags": []
   },
   "outputs": [],
   "source": [
    "path = \"/home/jupyter/ai_font/data/exp0717/train0730_whole\"\n",
    "savepath = \"/home/jupyter/ai_font/data/exp0717/train0730_ttfs\"\n",
    "ttfpath = \"/home/jupyter/ai_font/data/train_ttfs\"\n",
    "os.makedirs(savepath,exist_ok=True)"
   ]
  },
  {
   "cell_type": "code",
   "execution_count": 11,
   "id": "4c71e345-6ccd-491f-9cce-94d70dc0b1b5",
   "metadata": {
    "tags": []
   },
   "outputs": [
    {
     "name": "stderr",
     "output_type": "stream",
     "text": [
      "100%|██████████| 343/343 [00:03<00:00, 89.86it/s] \n"
     ]
    }
   ],
   "source": [
    "for font in tqdm([f for f in os.listdir(path) if \".ipy\" not in f]):\n",
    "    shutil.copy(f\"{ttfpath}/{font}.ttf\", f\"{savepath}/{font}.ttf\")"
   ]
  },
  {
   "cell_type": "code",
   "execution_count": 12,
   "id": "1c1ba915-c8aa-43ac-ae26-f973c3259136",
   "metadata": {
    "tags": []
   },
   "outputs": [
    {
     "data": {
      "text/plain": [
       "343"
      ]
     },
     "execution_count": 12,
     "metadata": {},
     "output_type": "execute_result"
    }
   ],
   "source": [
    "len(os.listdir(savepath))"
   ]
  },
  {
   "cell_type": "code",
   "execution_count": 16,
   "id": "5d5876a3-0a5c-4c99-a1fb-528885ceb0df",
   "metadata": {
    "tags": []
   },
   "outputs": [
    {
     "data": {
      "text/plain": [
       "165000.0"
      ]
     },
     "execution_count": 16,
     "metadata": {},
     "output_type": "execute_result"
    }
   ],
   "source": [
    "550*12/(0.04)"
   ]
  },
  {
   "cell_type": "code",
   "execution_count": 17,
   "id": "2a01ed40-ce2e-44cd-9c35-078afde14340",
   "metadata": {
    "tags": []
   },
   "outputs": [
    {
     "data": {
      "text/plain": [
       "17"
      ]
     },
     "execution_count": 17,
     "metadata": {},
     "output_type": "execute_result"
    }
   ],
   "source": [
    "7 + 16 - 6"
   ]
  },
  {
   "cell_type": "code",
   "execution_count": null,
   "id": "ff0807ef-e992-4f51-ae4a-89e92a1d1895",
   "metadata": {},
   "outputs": [],
   "source": []
  }
 ],
 "metadata": {
  "environment": {
   "kernel": "conda-base-py",
   "name": "workbench-notebooks.m123",
   "type": "gcloud",
   "uri": "us-docker.pkg.dev/deeplearning-platform-release/gcr.io/workbench-notebooks:m123"
  },
  "kernelspec": {
   "display_name": "Python 3 (ipykernel) (Local)",
   "language": "python",
   "name": "conda-base-py"
  },
  "language_info": {
   "codemirror_mode": {
    "name": "ipython",
    "version": 3
   },
   "file_extension": ".py",
   "mimetype": "text/x-python",
   "name": "python",
   "nbconvert_exporter": "python",
   "pygments_lexer": "ipython3",
   "version": "3.10.14"
  }
 },
 "nbformat": 4,
 "nbformat_minor": 5
}
