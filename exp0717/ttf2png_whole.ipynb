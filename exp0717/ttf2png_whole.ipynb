{
 "cells": [
  {
   "cell_type": "code",
   "execution_count": 6,
   "id": "19dbd4c9-a01d-49ac-9e96-b8a8830ce422",
   "metadata": {
    "tags": []
   },
   "outputs": [],
   "source": [
    "import os\n",
    "import pickle\n",
    "import numpy as np\n",
    "import pandas as pd\n",
    "import cv2\n",
    "from collections import defaultdict\n",
    "from tqdm import tqdm\n",
    "from fontTools.ttLib import TTFont\n",
    "from PIL import Image, ImageDraw, ImageFont"
   ]
  },
  {
   "cell_type": "code",
   "execution_count": 7,
   "id": "180ccb32-d224-4b88-8c91-dca055870812",
   "metadata": {
    "tags": []
   },
   "outputs": [],
   "source": [
    "def get_image(font, char, new_size=128):\n",
    "    img = Image.new('L', (1000,1000), 255)\n",
    "\n",
    "    draw = ImageDraw.Draw(img)\n",
    "    draw.text((200,200), char, font=font)\n",
    "\n",
    "    npimg = 255 - np.array(img)\n",
    "    wmin = npimg.sum(0).nonzero()[0].min()\n",
    "    wmax = npimg.sum(0).nonzero()[0].max()\n",
    "    hmin = npimg.sum(1).nonzero()[0].min()\n",
    "    hmax = npimg.sum(1).nonzero()[0].max()\n",
    "\n",
    "    npimg = 255 - npimg[hmin:hmax+1,wmin:wmax+1]\n",
    "    img = Image.fromarray(npimg)\n",
    "    \n",
    "    padded_img = Image.new(\"L\", (new_size, new_size), 255)\n",
    "    left = (padded_img.width - img.width) // 2\n",
    "    top = (padded_img.height - img.height) // 2\n",
    "    right = left + img.width\n",
    "    bottom = top + img.height\n",
    "    \n",
    "    padded_img.paste(img, (left, top, right, bottom))\n",
    "    \n",
    "    return padded_img\n",
    "\n",
    "def get_existing_chars(filename):\n",
    "    ttfont = TTFont(filename)\n",
    "    return list({chr(key) for table in ttfont['cmap'].tables for key in table.cmap.keys()})\n"
   ]
  },
  {
   "cell_type": "code",
   "execution_count": 8,
   "id": "e74fc90f-ffe6-427e-b022-31586b60cd49",
   "metadata": {
    "tags": []
   },
   "outputs": [],
   "source": [
    "ak = '''가 깨 냐 댸 떠 레 며 볘 삐 사 쌔 야 쟤 쩌 체 켜 톄 피 하 교 꾸 뉴 드 또 료 무 뷰 쁘 소 쑈 우 쥬 쯔 초 쿄 투 \n",
    "퓨 흐 귀 끠 놔 돼 뙤 뤄 뭬 뷔 쁴 솨 쐐 외 줘 쮀 취 킈 톼 퐤 회 걕 꺾 넧 뎐 뗹 릲 몯 뵬 뿕 슒 쓻 왌 좵 쬞 춿 퀨 튑 픲 핫 갰 꺙 넂 덫 뗔 렽 몦 빟'''\n",
    "ak = ak.replace(\"\\n\",\"\").split(\" \")"
   ]
  },
  {
   "cell_type": "code",
   "execution_count": 9,
   "id": "0f758f28-63c1-433c-8a78-51591a254795",
   "metadata": {
    "tags": []
   },
   "outputs": [],
   "source": [
    "ttffd = \"/home/jupyter/ai_font/data/train_ttfs\"\n",
    "fd = \"/home/jupyter/ai_font/data/exp0717/train_whole/\"\n",
    "\n",
    "os.makedirs(fd, exist_ok=True)\n",
    "fontfiles = sorted([(f.replace(\".ttf\",\"\"), f\"{ttffd}/{f}\") for f in os.listdir(ttffd) if f.endswith(\".ttf\")])"
   ]
  },
  {
   "cell_type": "code",
   "execution_count": 10,
   "id": "df1af603-efb6-48e0-b872-27092653ba28",
   "metadata": {
    "tags": []
   },
   "outputs": [
    {
     "name": "stderr",
     "output_type": "stream",
     "text": [
      "100%|██████████| 426/426 [02:37<00:00,  2.70it/s, font=프리텐다드중간체, n_files=83/84]            \n"
     ]
    }
   ],
   "source": [
    "font_size = 64\n",
    "pbar = tqdm([f for i,f in enumerate(fontfiles)])\n",
    "for fontname, filename in pbar:\n",
    "\n",
    "    font = ImageFont.truetype(filename,font_size)\n",
    "    existing_chars = get_existing_chars(filename)\n",
    "    iter_chars = list(set(existing_chars).intersection(set(ak)))\n",
    "    \n",
    "    os.makedirs(f\"{fd}/{fontname}\", exist_ok=True)\n",
    "    savecount = 0\n",
    "    for k in iter_chars:\n",
    "        try:\n",
    "            img = get_image(font, k)\n",
    "            img.save(f\"{fd}/{fontname}/{fontname}__{k}.png\")\n",
    "            pbar.set_postfix(n_files=f\"{savecount}/{len(iter_chars)}\", font=fontname)\n",
    "            savecount += 1\n",
    "        except:\n",
    "            pass"
   ]
  },
  {
   "cell_type": "code",
   "execution_count": 6,
   "id": "db4e03a3-88fa-48ed-9179-15b64091c6d1",
   "metadata": {
    "tags": []
   },
   "outputs": [
    {
     "data": {
      "text/plain": [
       "'프리텐다드중간체'"
      ]
     },
     "execution_count": 6,
     "metadata": {},
     "output_type": "execute_result"
    }
   ],
   "source": [
    "fontname"
   ]
  },
  {
   "cell_type": "code",
   "execution_count": 8,
   "id": "a031b9bc-962e-470c-b02d-9a132fbc528d",
   "metadata": {
    "tags": []
   },
   "outputs": [
    {
     "data": {
      "text/plain": [
       "(36, 32)"
      ]
     },
     "execution_count": 8,
     "metadata": {},
     "output_type": "execute_result"
    }
   ],
   "source": [
    "img.size"
   ]
  },
  {
   "cell_type": "code",
   "execution_count": null,
   "id": "90c5d591-4afa-433a-b080-03d3e374bcb3",
   "metadata": {},
   "outputs": [],
   "source": []
  }
 ],
 "metadata": {
  "environment": {
   "kernel": "conda-base-py",
   "name": "workbench-notebooks.m123",
   "type": "gcloud",
   "uri": "us-docker.pkg.dev/deeplearning-platform-release/gcr.io/workbench-notebooks:m123"
  },
  "kernelspec": {
   "display_name": "Python 3 (ipykernel) (Local)",
   "language": "python",
   "name": "conda-base-py"
  },
  "language_info": {
   "codemirror_mode": {
    "name": "ipython",
    "version": 3
   },
   "file_extension": ".py",
   "mimetype": "text/x-python",
   "name": "python",
   "nbconvert_exporter": "python",
   "pygments_lexer": "ipython3",
   "version": "3.10.14"
  }
 },
 "nbformat": 4,
 "nbformat_minor": 5
}
