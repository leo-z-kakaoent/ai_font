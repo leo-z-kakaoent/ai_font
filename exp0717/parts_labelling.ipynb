{
 "cells": [
  {
   "cell_type": "code",
   "execution_count": 204,
   "id": "a95bf7b9-41d7-4d7e-b7b7-fc6f61f308fa",
   "metadata": {
    "tags": []
   },
   "outputs": [],
   "source": [
    "import os\n",
    "import numpy as np\n",
    "from PIL import Image\n",
    "from tqdm import tqdm"
   ]
  },
  {
   "cell_type": "code",
   "execution_count": 205,
   "id": "a81a1112-8835-4aab-b58f-88b9b89f9206",
   "metadata": {
    "tags": []
   },
   "outputs": [],
   "source": [
    "def loc_shape0(img0, img1, img2, s=520):\n",
    "    # 가로모임 민글자\n",
    "    l00 = int(s/2-img0.size[0])\n",
    "    l01 = int(s/2-img0.size[1]/2)\n",
    "    l10 = int(s/2)\n",
    "    l11 = int(s/2-img1.size[1]/2)\n",
    "    return (l00,l01), (l10,l11), None\n",
    "\n",
    "def loc_shape1(img0, img1, img2, s=520):\n",
    "    #세로모임 민글자\n",
    "    l00 = int(520/2-img0.size[0]/2)\n",
    "    l01 = int(520/2-img0.size[1])\n",
    "    l10 = int(520/2-img1.size[0]/2)\n",
    "    l11 = int(520/2)\n",
    "    return (l00,l01), (l10,l11), None\n",
    "\n",
    "def loc_shape2(img0, img1, img2, s=520):\n",
    "    #섞임모임 민글자\n",
    "    l00 = int(520/2-img0.size[0])\n",
    "    l01 = int(520/2-img0.size[1])\n",
    "    l10 = int(520/2-img1.size[0]/2)\n",
    "    l11 = int(520/2)\n",
    "    return (l00,l01), (l10,l11), None\n",
    "\n",
    "def loc_shape3(img0, img1, img2, s=520):\n",
    "    #가로모임 받침글자\n",
    "    l00 = int(520/2-img0.size[0])\n",
    "    l01 = int(520/2-img0.size[1])\n",
    "    l10 = int(520/2)\n",
    "    l11 = int(520/2-img1.size[1])\n",
    "    l20 = int(520/2-img2.size[0]/2)\n",
    "    l21 = int(520/2)\n",
    "    return (l00,l01), (l10,l11), (l20, l21)\n",
    "\n",
    "def loc_shape4(img0, img1, img2, s=520):\n",
    "    #세로모임 받침글자\n",
    "    l00 = int(520/2-img0.size[0]/2)\n",
    "    l01 = int(520/2-img0.size[1]-img1.size[1]/2)\n",
    "    l10 = int(520/2-img1.size[0]/2)\n",
    "    l11 = int(520/2-img1.size[1]/2)\n",
    "    l20 = int(520/2-img2.size[0]/2)\n",
    "    l21 = int(520/2+img1.size[1]/2)\n",
    "    return (l00,l01), (l10,l11), (l20, l21)\n",
    "\n",
    "def loc_shape5(img0, img1, img2, s=520):\n",
    "    #섞임모임 받침글자\n",
    "    l00 = int(520/2-img0.size[0])\n",
    "    l01 = int(520/2-img0.size[1]-img1.size[1]/2)\n",
    "    l10 = int(520/2-img1.size[0]/2)\n",
    "    l11 = int(520/2-img1.size[1]/2)\n",
    "    l20 = int(520/2-img2.size[0]/2)\n",
    "    l21 = int(520/2+img1.size[1]/2)\n",
    "    return (l00,l01), (l10,l11), (l20, l21)\n"
   ]
  },
  {
   "cell_type": "code",
   "execution_count": 206,
   "id": "0cb3402a-5d7d-470d-a52a-22a3b75213f4",
   "metadata": {
    "tags": []
   },
   "outputs": [],
   "source": [
    "def prepare_data(letter, img0, img1, img2):\n",
    "    hlist = [0,1,2,3,4,5,6,7,20] # ㅏㅐㅑㅒㅓㅔㅕㅖㅣ\n",
    "    vlist = [8,12,13,17,18] # ㅗㅛㅜㅠㅡ\n",
    "    clist = [9,10,11,14,15,16,19] # ㅘㅙㅚㅝㅞㅟㅢ\n",
    "    \n",
    "    ch1 = (ord(letter) - ord('가'))//588\n",
    "    ch2 = ((ord(letter) - ord('가')) - (588*ch1)) // 28\n",
    "    ch3 = (ord(letter) - ord('가')) - (588*ch1) - 28*ch2\n",
    "    \n",
    "    if (ch2 in hlist) & (ch3 == 0):\n",
    "        # 가로모임 민글자\n",
    "        wh0, wh1, wh2 = loc_shape0(img0, img1, img2)\n",
    "        \n",
    "    elif (ch2 in vlist) & (ch3 == 0):\n",
    "        # 세로모임 민글자\n",
    "        wh0, wh1, wh2 = loc_shape1(img0, img1, img2)\n",
    "\n",
    "    elif (ch2 in clist) & (ch3 == 0):\n",
    "        # 섞임모임 민글자\n",
    "        wh0, wh1, wh2 = loc_shape2(img0, img1, img2)\n",
    "\n",
    "    elif (ch2 in hlist) & (ch3 != 0):\n",
    "        # 가로모임 받침글자\n",
    "        wh0, wh1, wh2 = loc_shape3(img0, img1, img2)\n",
    "\n",
    "    elif (ch2 in vlist) & (ch3 != 0):\n",
    "        # 세로모임 받침글자\n",
    "        wh0, wh1, wh2 = loc_shape4(img0, img1, img2)\n",
    "\n",
    "    elif (ch2 in clist) & (ch3 != 0):\n",
    "        # 섞임모임 받침글자\n",
    "        wh0, wh1, wh2 = loc_shape5(img0, img1, img2)\n",
    "\n",
    "    img = Image.new(\"L\", (520, 520), 255)\n",
    "    img.paste(img0, wh0)\n",
    "    img.paste(img1, wh1)\n",
    "    if wh2 is not None:\n",
    "        img.paste(img2, wh2)\n",
    "    \n",
    "    label = np.zeros([4,520,520])\n",
    "    label[0,:,:] = 1\n",
    "    \n",
    "    npwheres = np.where(np.array(img0)!=255)\n",
    "    npwheres = (npwheres[0] + wh0[1], npwheres[1] + wh0[0],)\n",
    "    label[0][npwheres] = 0\n",
    "    label[1][npwheres] = 1\n",
    "    \n",
    "    npwheres = np.where(np.array(img1)!=255)\n",
    "    npwheres = (npwheres[0] + wh1[1], npwheres[1] + wh1[0],)\n",
    "    label[0][npwheres] = 0\n",
    "    label[2][npwheres] = 1\n",
    "    \n",
    "    if wh2 is not None:\n",
    "        npwheres = np.where(np.array(img2)!=255)\n",
    "        npwheres = (npwheres[0] + wh2[1], npwheres[1] + wh2[0],)\n",
    "        label[0][npwheres] = 0\n",
    "        label[3][npwheres] = 1\n",
    "\n",
    "    return img, label\n",
    "\n",
    "\n",
    "def get_imgs(fd, font, letter):\n",
    "    \n",
    "    ch1_list = ['ㄱ', 'ㄲ', 'ㄴ', 'ㄷ', 'ㄸ', 'ㄹ', 'ㅁ', 'ㅂ', 'ㅃ', 'ㅅ', 'ㅆ', 'ㅇ', 'ㅈ', 'ㅉ', 'ㅊ', 'ㅋ', 'ㅌ', 'ㅍ', 'ㅎ']\n",
    "    ch2_list = ['ㅏ', 'ㅐ', 'ㅑ', 'ㅒ', 'ㅓ', 'ㅔ', 'ㅕ', 'ㅖ', 'ㅗ', 'ㅘ', 'ㅙ', 'ㅚ', 'ㅛ', 'ㅜ', 'ㅝ', 'ㅞ', 'ㅟ', 'ㅠ', 'ㅡ', 'ㅢ', 'ㅣ']\n",
    "    ch3_list = [None, 'ㄱ', 'ㄲ', 'ㄳ', 'ㄴ', 'ㄵ', 'ㄶ', 'ㄷ', 'ㄹ', 'ㄺ', 'ㄻ', 'ㄼ', 'ㄽ', 'ㄾ', 'ㄿ', 'ㅀ', 'ㅁ', 'ㅂ', 'ㅄ', 'ㅅ', 'ㅆ', 'ㅇ', 'ㅈ', 'ㅊ', 'ㅋ', 'ㅌ', 'ㅍ', 'ㅎ']\n",
    "\n",
    "    \n",
    "    ch1 = (ord(letter) - ord('가'))//588\n",
    "    ch2 = ((ord(letter) - ord('가')) - (588*ch1)) // 28\n",
    "    ch3 = (ord(letter) - ord('가')) - (588*ch1) - 28*ch2\n",
    "\n",
    "    return (\n",
    "        Image.open(f\"{fd}/{font}/{font}__{ch1_list[ch1]}.png\"),\n",
    "        Image.open(f\"{fd}/{font}/{font}__{ch2_list[ch2]}.png\"),\n",
    "        None if ch3_list[ch3] is None else Image.open(f\"{fd}/{font}/{font}__{ch3_list[ch3]}.png\"),\n",
    "    )\n",
    "\n",
    "\n",
    "def get_all_korean():\n",
    "\n",
    "    def nextKorLetterFrom(letter):\n",
    "        lastLetterInt = 15572643\n",
    "        if not letter:\n",
    "            return '가'\n",
    "        a = letter\n",
    "        b = a.encode('utf8')\n",
    "        c = int(b.hex(), 16)\n",
    "\n",
    "        if c == lastLetterInt:\n",
    "            return False\n",
    "\n",
    "        d = hex(c + 1)\n",
    "        e = bytearray.fromhex(d[2:])\n",
    "\n",
    "        flag = True\n",
    "        while flag:\n",
    "            try:\n",
    "                r = e.decode('utf-8')\n",
    "                flag = False\n",
    "            except UnicodeDecodeError:\n",
    "                c = c+1\n",
    "                d = hex(c)\n",
    "                e = bytearray.fromhex(d[2:])\n",
    "        return e.decode()\n",
    "\n",
    "    returns = []\n",
    "    flag = True\n",
    "    k = ''\n",
    "    while flag:\n",
    "        k = nextKorLetterFrom(k)\n",
    "        if k is False:\n",
    "            flag = False\n",
    "        else:\n",
    "            returns.append(k)\n",
    "    return returns"
   ]
  },
  {
   "cell_type": "code",
   "execution_count": 207,
   "id": "b2c52ce2-71a9-4c39-ae88-02fb491006c4",
   "metadata": {
    "tags": []
   },
   "outputs": [],
   "source": [
    "fd = \"/home/jupyter/ai_font/data/exp0717/train_parts\"\n",
    "fonts = os.listdir(fd)\n",
    "ak = get_all_korean()"
   ]
  },
  {
   "cell_type": "code",
   "execution_count": 208,
   "id": "89efc0b8-c86c-4096-b0c2-1e6da9a81391",
   "metadata": {
    "tags": []
   },
   "outputs": [],
   "source": [
    "savefd_assembled = \"/home/jupyter/ai_font/data/exp0717/train_seg/raw_assembled\"\n",
    "savefd_label = \"/home/jupyter/ai_font/data/exp0717/train_seg/raw_label\""
   ]
  },
  {
   "cell_type": "code",
   "execution_count": 210,
   "id": "8ecd5f14-19d0-43c6-8e06-2709086ed3a4",
   "metadata": {
    "tags": []
   },
   "outputs": [
    {
     "name": "stderr",
     "output_type": "stream",
     "text": [
      "  2%|▏         | 10/426 [32:34<22:35:26, 195.50s/it, font=온글잎명숙체, letter=퇳, pass_count=931]          \n"
     ]
    },
    {
     "ename": "OSError",
     "evalue": "[Errno 28] No space left on device: '/home/jupyter/ai_font/data/exp0717/train_seg/raw_assembled/온글잎부흥민하체'",
     "output_type": "error",
     "traceback": [
      "\u001b[0;31m---------------------------------------------------------------------------\u001b[0m",
      "\u001b[0;31mOSError\u001b[0m                                   Traceback (most recent call last)",
      "Cell \u001b[0;32mIn[210], line 4\u001b[0m\n\u001b[1;32m      2\u001b[0m pass_count \u001b[38;5;241m=\u001b[39m \u001b[38;5;241m0\u001b[39m\n\u001b[1;32m      3\u001b[0m \u001b[38;5;28;01mfor\u001b[39;00m font \u001b[38;5;129;01min\u001b[39;00m pbar:\n\u001b[0;32m----> 4\u001b[0m     \u001b[43mos\u001b[49m\u001b[38;5;241;43m.\u001b[39;49m\u001b[43mmakedirs\u001b[49m\u001b[43m(\u001b[49m\u001b[38;5;124;43mf\u001b[39;49m\u001b[38;5;124;43m\"\u001b[39;49m\u001b[38;5;132;43;01m{\u001b[39;49;00m\u001b[43msavefd_assembled\u001b[49m\u001b[38;5;132;43;01m}\u001b[39;49;00m\u001b[38;5;124;43m/\u001b[39;49m\u001b[38;5;132;43;01m{\u001b[39;49;00m\u001b[43mfont\u001b[49m\u001b[38;5;132;43;01m}\u001b[39;49;00m\u001b[38;5;124;43m\"\u001b[39;49m\u001b[43m,\u001b[49m\u001b[43mexist_ok\u001b[49m\u001b[38;5;241;43m=\u001b[39;49m\u001b[38;5;28;43;01mTrue\u001b[39;49;00m\u001b[43m)\u001b[49m\n\u001b[1;32m      5\u001b[0m     os\u001b[38;5;241m.\u001b[39mmakedirs(\u001b[38;5;124mf\u001b[39m\u001b[38;5;124m\"\u001b[39m\u001b[38;5;132;01m{\u001b[39;00msavefd_label\u001b[38;5;132;01m}\u001b[39;00m\u001b[38;5;124m/\u001b[39m\u001b[38;5;132;01m{\u001b[39;00mfont\u001b[38;5;132;01m}\u001b[39;00m\u001b[38;5;124m\"\u001b[39m,exist_ok\u001b[38;5;241m=\u001b[39m\u001b[38;5;28;01mTrue\u001b[39;00m)\n\u001b[1;32m      6\u001b[0m     \u001b[38;5;28;01mfor\u001b[39;00m letter \u001b[38;5;129;01min\u001b[39;00m ak:\n",
      "File \u001b[0;32m/opt/conda/lib/python3.10/os.py:225\u001b[0m, in \u001b[0;36mmakedirs\u001b[0;34m(name, mode, exist_ok)\u001b[0m\n\u001b[1;32m    223\u001b[0m         \u001b[38;5;28;01mreturn\u001b[39;00m\n\u001b[1;32m    224\u001b[0m \u001b[38;5;28;01mtry\u001b[39;00m:\n\u001b[0;32m--> 225\u001b[0m     \u001b[43mmkdir\u001b[49m\u001b[43m(\u001b[49m\u001b[43mname\u001b[49m\u001b[43m,\u001b[49m\u001b[43m \u001b[49m\u001b[43mmode\u001b[49m\u001b[43m)\u001b[49m\n\u001b[1;32m    226\u001b[0m \u001b[38;5;28;01mexcept\u001b[39;00m \u001b[38;5;167;01mOSError\u001b[39;00m:\n\u001b[1;32m    227\u001b[0m     \u001b[38;5;66;03m# Cannot rely on checking for EEXIST, since the operating system\u001b[39;00m\n\u001b[1;32m    228\u001b[0m     \u001b[38;5;66;03m# could give priority to other errors like EACCES or EROFS\u001b[39;00m\n\u001b[1;32m    229\u001b[0m     \u001b[38;5;28;01mif\u001b[39;00m \u001b[38;5;129;01mnot\u001b[39;00m exist_ok \u001b[38;5;129;01mor\u001b[39;00m \u001b[38;5;129;01mnot\u001b[39;00m path\u001b[38;5;241m.\u001b[39misdir(name):\n",
      "\u001b[0;31mOSError\u001b[0m: [Errno 28] No space left on device: '/home/jupyter/ai_font/data/exp0717/train_seg/raw_assembled/온글잎부흥민하체'"
     ]
    }
   ],
   "source": [
    "pbar = tqdm(fonts)\n",
    "pass_count = 0\n",
    "for font in pbar:\n",
    "    os.makedirs(f\"{savefd_assembled}/{font}\",exist_ok=True)\n",
    "    os.makedirs(f\"{savefd_label}/{font}\",exist_ok=True)\n",
    "    for letter in ak:\n",
    "        try:\n",
    "            img0, img1, img2 = get_imgs(fd, font, letter)\n",
    "            img, label = prepare_data(letter, img0, img1, img2)\n",
    "            img.save(f\"{savefd_assembled}/{font}/{font}__{letter}.png\")\n",
    "            np.save(f\"{savefd_label}/{font}/{font}__{letter}.npy\", label) \n",
    "            pbar.set_postfix(font=font, letter=letter, pass_count=str(pass_count))\n",
    "        except:\n",
    "            pass_count += 1"
   ]
  },
  {
   "cell_type": "code",
   "execution_count": null,
   "id": "5a26ffa7-db8a-4920-ae95-2071f454ea78",
   "metadata": {},
   "outputs": [],
   "source": []
  }
 ],
 "metadata": {
  "environment": {
   "kernel": "conda-base-py",
   "name": "workbench-notebooks.m122",
   "type": "gcloud",
   "uri": "us-docker.pkg.dev/deeplearning-platform-release/gcr.io/workbench-notebooks:m122"
  },
  "kernelspec": {
   "display_name": "Python 3 (ipykernel) (Local)",
   "language": "python",
   "name": "conda-base-py"
  },
  "language_info": {
   "codemirror_mode": {
    "name": "ipython",
    "version": 3
   },
   "file_extension": ".py",
   "mimetype": "text/x-python",
   "name": "python",
   "nbconvert_exporter": "python",
   "pygments_lexer": "ipython3",
   "version": "3.10.14"
  }
 },
 "nbformat": 4,
 "nbformat_minor": 5
}
