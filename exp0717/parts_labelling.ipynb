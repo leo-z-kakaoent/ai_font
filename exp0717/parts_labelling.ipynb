{
 "cells": [
  {
   "cell_type": "code",
   "execution_count": 1,
   "id": "a95bf7b9-41d7-4d7e-b7b7-fc6f61f308fa",
   "metadata": {
    "tags": []
   },
   "outputs": [],
   "source": [
    "import os\n",
    "import numpy as np\n",
    "from PIL import Image\n",
    "from tqdm import tqdm"
   ]
  },
  {
   "cell_type": "code",
   "execution_count": 2,
   "id": "a81a1112-8835-4aab-b58f-88b9b89f9206",
   "metadata": {
    "tags": []
   },
   "outputs": [],
   "source": [
    "def loc_shape0(img0, img1, img2, s=128):\n",
    "    # 가로모임 민글자\n",
    "    l00 = int(s/2-img0.size[0])\n",
    "    l01 = int(s/2-img0.size[1]/2)\n",
    "    l10 = int(s/2)\n",
    "    l11 = int(s/2-img1.size[1]/2)\n",
    "    return (l00,l01), (l10,l11), None\n",
    "\n",
    "def loc_shape1(img0, img1, img2, s=128):\n",
    "    #세로모임 민글자\n",
    "    l00 = int(128/2-img0.size[0]/2)\n",
    "    l01 = int(128/2-img0.size[1])\n",
    "    l10 = int(128/2-img1.size[0]/2)\n",
    "    l11 = int(128/2)\n",
    "    return (l00,l01), (l10,l11), None\n",
    "\n",
    "def loc_shape2(img0, img1, img2, s=128):\n",
    "    #섞임모임 민글자\n",
    "    l00 = int(128/2-img0.size[0])\n",
    "    l01 = int(128/2-img0.size[1])\n",
    "    l10 = int(128/2-img1.size[0]/2)\n",
    "    l11 = int(128/2)\n",
    "    return (l00,l01), (l10,l11), None\n",
    "\n",
    "def loc_shape3(img0, img1, img2, s=128):\n",
    "    #가로모임 받침글자\n",
    "    l00 = int(128/2-img0.size[0])\n",
    "    l01 = int(128/2-img0.size[1])\n",
    "    l10 = int(128/2)\n",
    "    l11 = int(128/2-img1.size[1])\n",
    "    l20 = int(128/2-img2.size[0]/2)\n",
    "    l21 = int(128/2)\n",
    "    return (l00,l01), (l10,l11), (l20, l21)\n",
    "\n",
    "def loc_shape4(img0, img1, img2, s=128):\n",
    "    #세로모임 받침글자\n",
    "    l00 = int(128/2-img0.size[0]/2)\n",
    "    l01 = int(128/2-img0.size[1]-img1.size[1]/2)\n",
    "    l10 = int(128/2-img1.size[0]/2)\n",
    "    l11 = int(128/2-img1.size[1]/2)\n",
    "    l20 = int(128/2-img2.size[0]/2)\n",
    "    l21 = int(128/2+img1.size[1]/2)\n",
    "    return (l00,l01), (l10,l11), (l20, l21)\n",
    "\n",
    "def loc_shape5(img0, img1, img2, s=128):\n",
    "    #섞임모임 받침글자\n",
    "    l00 = int(128/2-img0.size[0])\n",
    "    l01 = int(128/2-img0.size[1]-img1.size[1]/2)\n",
    "    l10 = int(128/2-img1.size[0]/2)\n",
    "    l11 = int(128/2-img1.size[1]/2)\n",
    "    l20 = int(128/2-img2.size[0]/2)\n",
    "    l21 = int(128/2+img1.size[1]/2)\n",
    "    return (l00,l01), (l10,l11), (l20, l21)\n"
   ]
  },
  {
   "cell_type": "code",
   "execution_count": 3,
   "id": "0cb3402a-5d7d-470d-a52a-22a3b75213f4",
   "metadata": {
    "tags": []
   },
   "outputs": [],
   "source": [
    "def prepare_data(letter, img0, img1, img2):\n",
    "    hlist = [0,1,2,3,4,5,6,7,20] # ㅏㅐㅑㅒㅓㅔㅕㅖㅣ\n",
    "    vlist = [8,12,13,17,18] # ㅗㅛㅜㅠㅡ\n",
    "    clist = [9,10,11,14,15,16,19] # ㅘㅙㅚㅝㅞㅟㅢ\n",
    "    \n",
    "    ch1 = (ord(letter) - ord('가'))//588\n",
    "    ch2 = ((ord(letter) - ord('가')) - (588*ch1)) // 28\n",
    "    ch3 = (ord(letter) - ord('가')) - (588*ch1) - 28*ch2\n",
    "    \n",
    "    if (ch2 in hlist) & (ch3 == 0):\n",
    "        # 가로모임 민글자\n",
    "        wh0, wh1, wh2 = loc_shape0(img0, img1, img2)\n",
    "        \n",
    "    elif (ch2 in vlist) & (ch3 == 0):\n",
    "        # 세로모임 민글자\n",
    "        wh0, wh1, wh2 = loc_shape1(img0, img1, img2)\n",
    "\n",
    "    elif (ch2 in clist) & (ch3 == 0):\n",
    "        # 섞임모임 민글자\n",
    "        wh0, wh1, wh2 = loc_shape2(img0, img1, img2)\n",
    "\n",
    "    elif (ch2 in hlist) & (ch3 != 0):\n",
    "        # 가로모임 받침글자\n",
    "        wh0, wh1, wh2 = loc_shape3(img0, img1, img2)\n",
    "\n",
    "    elif (ch2 in vlist) & (ch3 != 0):\n",
    "        # 세로모임 받침글자\n",
    "        newsize = (img0.size[0],int(img0.size[1]/3*2))\n",
    "        img0 = img0.resize(newsize, Image.BILINEAR)\n",
    "        newsize = (img1.size[0],int(img1.size[1]/3*2))\n",
    "        img1 = img1.resize(newsize, Image.BILINEAR)\n",
    "        wh0, wh1, wh2 = loc_shape4(img0, img1, img2)\n",
    "\n",
    "    elif (ch2 in clist) & (ch3 != 0):\n",
    "        # 섞임모임 받침글자\n",
    "        wh0, wh1, wh2 = loc_shape5(img0, img1, img2)\n",
    "\n",
    "    img = Image.new(\"L\", (128, 128), 255)\n",
    "    img.paste(img0, wh0)\n",
    "    img.paste(img1, wh1)\n",
    "    if wh2 is not None:\n",
    "        img.paste(img2, wh2)\n",
    "    \n",
    "    label = np.zeros([4,128,128])\n",
    "    label[0,:,:] = 1\n",
    "    \n",
    "    npwheres = np.where(np.array(img0)!=255)\n",
    "    npwheres = (npwheres[0] + wh0[1], npwheres[1] + wh0[0],)\n",
    "    label[0][npwheres] = 0\n",
    "    label[1][npwheres] = 1\n",
    "    \n",
    "    npwheres = np.where(np.array(img1)!=255)\n",
    "    npwheres = (npwheres[0] + wh1[1], npwheres[1] + wh1[0],)\n",
    "    label[0][npwheres] = 0\n",
    "    label[2][npwheres] = 1\n",
    "    \n",
    "    if wh2 is not None:\n",
    "        npwheres = np.where(np.array(img2)!=255)\n",
    "        npwheres = (npwheres[0] + wh2[1], npwheres[1] + wh2[0],)\n",
    "        label[0][npwheres] = 0\n",
    "        label[3][npwheres] = 1\n",
    "\n",
    "    return img, label\n",
    "\n",
    "\n",
    "def get_imgs(fd, font, letter):\n",
    "    \n",
    "    ch1_list = ['ㄱ', 'ㄲ', 'ㄴ', 'ㄷ', 'ㄸ', 'ㄹ', 'ㅁ', 'ㅂ', 'ㅃ', 'ㅅ', 'ㅆ', 'ㅇ', 'ㅈ', 'ㅉ', 'ㅊ', 'ㅋ', 'ㅌ', 'ㅍ', 'ㅎ']\n",
    "    ch2_list = ['ㅏ', 'ㅐ', 'ㅑ', 'ㅒ', 'ㅓ', 'ㅔ', 'ㅕ', 'ㅖ', 'ㅗ', 'ㅘ', 'ㅙ', 'ㅚ', 'ㅛ', 'ㅜ', 'ㅝ', 'ㅞ', 'ㅟ', 'ㅠ', 'ㅡ', 'ㅢ', 'ㅣ']\n",
    "    ch3_list = [None, 'ㄱ', 'ㄲ', 'ㄳ', 'ㄴ', 'ㄵ', 'ㄶ', 'ㄷ', 'ㄹ', 'ㄺ', 'ㄻ', 'ㄼ', 'ㄽ', 'ㄾ', 'ㄿ', 'ㅀ', 'ㅁ', 'ㅂ', 'ㅄ', 'ㅅ', 'ㅆ', 'ㅇ', 'ㅈ', 'ㅊ', 'ㅋ', 'ㅌ', 'ㅍ', 'ㅎ']\n",
    "\n",
    "    \n",
    "    ch1 = (ord(letter) - ord('가'))//588\n",
    "    ch2 = ((ord(letter) - ord('가')) - (588*ch1)) // 28\n",
    "    ch3 = (ord(letter) - ord('가')) - (588*ch1) - 28*ch2\n",
    "\n",
    "    return (\n",
    "        Image.open(f\"{fd}/{font}/{font}__{ch1_list[ch1]}.png\"),\n",
    "        Image.open(f\"{fd}/{font}/{font}__{ch2_list[ch2]}.png\"),\n",
    "        None if ch3_list[ch3] is None else Image.open(f\"{fd}/{font}/{font}__{ch3_list[ch3]}.png\"),\n",
    "    )\n"
   ]
  },
  {
   "cell_type": "code",
   "execution_count": 4,
   "id": "b2c52ce2-71a9-4c39-ae88-02fb491006c4",
   "metadata": {
    "tags": []
   },
   "outputs": [],
   "source": [
    "fd = \"/home/jupyter/ai_font/data/exp0717/train_parts\"\n",
    "fonts = os.listdir(fd)\n",
    "ak = '''가 깨 냐 댸 떠 레 며 볘 삐 사 쌔 야 쟤 쩌 체 켜 톄 피 하 교 꾸 뉴 드 또 료 무 뷰 쁘 소 쑈 우 쥬 쯔 초 쿄 투 \n",
    "퓨 흐 귀 끠 놔 돼 뙤 뤄 뭬 뷔 쁴 솨 쐐 외 줘 쮀 취 킈 톼 퐤 회 걕 꺾 넧 뎐 뗹 릲 몯 뵬 뿕 슒 쓻 왌 좵 쬞 춿 퀨 튑 픲 핫 갰 꺙 넂 덫 뗔 렽 몦 빟'''\n",
    "ak = ak.replace(\"\\n\",\"\").split(\" \")"
   ]
  },
  {
   "cell_type": "code",
   "execution_count": 5,
   "id": "89efc0b8-c86c-4096-b0c2-1e6da9a81391",
   "metadata": {
    "tags": []
   },
   "outputs": [],
   "source": [
    "savefd_assembled = \"/home/jupyter/ai_font/data/exp0717/train_seg/raw_assembled\"\n",
    "savefd_label = \"/home/jupyter/ai_font/data/exp0717/train_seg/raw_label\""
   ]
  },
  {
   "cell_type": "code",
   "execution_count": 6,
   "id": "a43f4ab7-6733-45a0-901d-39ba5e0bef19",
   "metadata": {
    "tags": []
   },
   "outputs": [],
   "source": [
    "import signal\n",
    "from contextlib import contextmanager\n",
    "\n",
    "class TimeoutException(Exception): pass\n",
    "\n",
    "@contextmanager\n",
    "def time_limit(seconds):\n",
    "    def signal_handler(signum, frame):\n",
    "        raise TimeoutException(\"to\")\n",
    "    signal.signal(signal.SIGALRM, signal_handler)\n",
    "    signal.alarm(seconds)\n",
    "    try:\n",
    "        yield\n",
    "    finally:\n",
    "        signal.alarm(0)"
   ]
  },
  {
   "cell_type": "code",
   "execution_count": 7,
   "id": "8ecd5f14-19d0-43c6-8e06-2709086ed3a4",
   "metadata": {
    "tags": []
   },
   "outputs": [
    {
     "name": "stderr",
     "output_type": "stream",
     "text": [
      "100%|██████████| 426/426 [01:01<00:00,  6.88it/s, font=어비링링체볼드, pass_count=818]     ]          \n"
     ]
    }
   ],
   "source": [
    "pbar = tqdm(fonts)\n",
    "pass_count = 0\n",
    "for font in pbar:\n",
    "    os.makedirs(f\"{savefd_assembled}/{font}\",exist_ok=True)\n",
    "    os.makedirs(f\"{savefd_label}/{font}\",exist_ok=True)\n",
    "    for letter in ak:\n",
    "        try:\n",
    "            with time_limit(10):\n",
    "                img0, img1, img2 = get_imgs(fd, font, letter)\n",
    "                img, label = prepare_data(letter, img0, img1, img2)\n",
    "                img.save(f\"{savefd_assembled}/{font}/{font}__{letter}.png\")\n",
    "                np.save(f\"{savefd_label}/{font}/{font}__{letter}.npy\", label) \n",
    "        except:\n",
    "            pass_count += 1\n",
    "    pbar.set_postfix(font=font, pass_count=str(pass_count))"
   ]
  },
  {
   "cell_type": "code",
   "execution_count": null,
   "id": "5a26ffa7-db8a-4920-ae95-2071f454ea78",
   "metadata": {},
   "outputs": [],
   "source": []
  }
 ],
 "metadata": {
  "environment": {
   "kernel": "conda-base-py",
   "name": "workbench-notebooks.m123",
   "type": "gcloud",
   "uri": "us-docker.pkg.dev/deeplearning-platform-release/gcr.io/workbench-notebooks:m123"
  },
  "kernelspec": {
   "display_name": "Python 3 (ipykernel) (Local)",
   "language": "python",
   "name": "conda-base-py"
  },
  "language_info": {
   "codemirror_mode": {
    "name": "ipython",
    "version": 3
   },
   "file_extension": ".py",
   "mimetype": "text/x-python",
   "name": "python",
   "nbconvert_exporter": "python",
   "pygments_lexer": "ipython3",
   "version": "3.10.14"
  }
 },
 "nbformat": 4,
 "nbformat_minor": 5
}
