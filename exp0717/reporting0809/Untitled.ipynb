{
 "cells": [
  {
   "cell_type": "code",
   "execution_count": 5,
   "id": "e379ea3a-60b8-4a99-83a7-69fc8569b838",
   "metadata": {
    "tags": []
   },
   "outputs": [],
   "source": [
    "import os\n",
    "import copy\n",
    "import numpy as np\n",
    "import pandas as pd\n",
    "from PIL import Image\n",
    "\n",
    "class ImageConcat:\n",
    "    def __init__(self, n_h, n_v, resolution=1000):\n",
    "        self.n_h = n_h\n",
    "        self.n_v = n_v\n",
    "        self.r = resolution\n",
    "        self.img = Image.new(\"L\", (self.n_h*self.r, self.n_v*self.r), color=255)# color=(255,255,255))\n",
    "        self.cursor = [0,0]\n",
    "        self.max_h = 0\n",
    "    \n",
    "    def move_cursor_h(self, r):\n",
    "        self.cursor[0] += r\n",
    "        if self.cursor[0] > self.max_h:\n",
    "            self.max_h = copy.deepcopy(self.cursor[0])\n",
    "        \n",
    "    def move_cursor_v(self):\n",
    "        self.cursor[1] += self.r\n",
    "        \n",
    "    def reset_cursor_h(self):\n",
    "        self.cursor[0] = 0\n",
    "        \n",
    "    def append_img(self, path, cut_margin=True, clip_white=False):\n",
    "        try:\n",
    "            img = Image.open(path).convert('L').resize((self.r,self.r), Image.BILINEAR)\n",
    "            if cut_margin:\n",
    "                img = self.cut_margin(img, clip_white=clip_white)\n",
    "            self.img.paste(img, tuple(self.cursor))\n",
    "            return img.size\n",
    "        except:\n",
    "            # print(f\"Not Appended: {path}\")\n",
    "            return None\n",
    "        \n",
    "    def add_letter(self, path, cut_margin=True, clip_white=False):\n",
    "        imgsize = self.append_img(path, cut_margin=cut_margin, clip_white=clip_white)\n",
    "        if imgsize is None:\n",
    "            self.move_cursor_h(self.r)\n",
    "        else:\n",
    "            self.move_cursor_h(imgsize[0])\n",
    "    \n",
    "    def add_space(self):\n",
    "        self.move_cursor_h(int(self.r/3))\n",
    "        \n",
    "    def enter(self):\n",
    "        self.move_cursor_v()\n",
    "        self.reset_cursor_h()\n",
    "        \n",
    "    def cut_margin(self, img, clip_white):\n",
    "        npimg = 255 - np.array(img)\n",
    "        if clip_white:\n",
    "            npimg[np.where(npimg<10)] = 0 \n",
    "        wmin = npimg.sum(0).nonzero()[0].min()\n",
    "        wmax = npimg.sum(0).nonzero()[0].max()\n",
    "        # hmin = npimg.sum(1).nonzero()[0].min()\n",
    "        # hmax = npimg.sum(1).nonzero()[0].max()\n",
    "\n",
    "        npimg = 255 - npimg[:,wmin:wmax+1]\n",
    "        img = Image.fromarray(npimg)\n",
    "        return img"
   ]
  },
  {
   "cell_type": "markdown",
   "id": "7744b2d5-8017-4ef9-8e7a-b55d0b2f64a8",
   "metadata": {},
   "source": [
    "# Semantic Segmentation 학습데이터 예시"
   ]
  },
  {
   "cell_type": "code",
   "execution_count": 20,
   "id": "2ae0be7f-5651-467b-a4e0-dda52c075b9e",
   "metadata": {
    "tags": []
   },
   "outputs": [],
   "source": [
    "import os\n",
    "import random\n",
    "\n",
    "fd = \"/home/jupyter/ai_font/data/exp0717/train_seg/raw_assembled\"\n",
    "\n",
    "fonts = os.listdir(fd)\n",
    "\n",
    "letters = '가 깨 냐 댸 떠 레 며 볘 삐 사 쌔 야 쟤 쩌 체 켜 톄 피 하 교 꾸 뉴 드 또 료 무 뷰 쁘 소 쑈 우 쥬 쯔 초 쿄 투 퓨 흐 귀 끠 놔 돼 뙤 뤄 뭬 뷔 쁴 솨 쐐 외 줘 쮀 취 킈 톼 퐤 회 걕 꺾 넧 뎐 뗹 릲 몯 뵬 뿕 슒 쓻 왌 좵 쬞 춿 퀨 튑 픲 핫 갰 꺙 넂 덫 뗔 렽 몦 빟'\n",
    "letters = letters.split(\" \")"
   ]
  },
  {
   "cell_type": "code",
   "execution_count": 25,
   "id": "85d62795-ee94-417d-867d-e3cf23cb17a5",
   "metadata": {
    "tags": []
   },
   "outputs": [],
   "source": [
    "img = ImageConcat(n_h=8, n_v=len(letters), resolution=96)\n",
    "for l in letters:\n",
    "    for _ in range(8):\n",
    "        font = random.choice(fonts)\n",
    "        img.add_letter(path=f\"{fd}/{font}/{font}__{l}.png\", cut_margin=False)\n",
    "    img.enter()"
   ]
  },
  {
   "cell_type": "code",
   "execution_count": 27,
   "id": "502195f5-e75d-4995-9938-df4f46547275",
   "metadata": {
    "tags": []
   },
   "outputs": [],
   "source": [
    "img.img.save(\"semantic_segmentation_train_example.png\")"
   ]
  },
  {
   "cell_type": "markdown",
   "id": "364863a1-eeca-4001-9688-9eaee4b25e19",
   "metadata": {},
   "source": [
    "# Semantic Segmentation 인퍼런스 예시"
   ]
  },
  {
   "cell_type": "code",
   "execution_count": null,
   "id": "b37f8258-623a-4dbb-8b2d-2389f5390df5",
   "metadata": {},
   "outputs": [],
   "source": [
    "fd = \"/home/jupyter/ai_font/exp0717"
   ]
  },
  {
   "cell_type": "code",
   "execution_count": null,
   "id": "387f6082-0a78-45ad-8af4-4080a3218cbc",
   "metadata": {},
   "outputs": [],
   "source": [
    "img = ImageConcat(n_h=8, n_v=len(letters), resolution=96)\n",
    "for l in letters:\n",
    "    for _ in range(8):\n",
    "        font = random.choice(fonts)\n",
    "        img.add_letter(path=f\"{fd}/{font}/{font}__{l}.png\", cut_margin=False)\n",
    "    img.enter()"
   ]
  }
 ],
 "metadata": {
  "environment": {
   "kernel": "conda-base-py",
   "name": "workbench-notebooks.m123",
   "type": "gcloud",
   "uri": "us-docker.pkg.dev/deeplearning-platform-release/gcr.io/workbench-notebooks:m123"
  },
  "kernelspec": {
   "display_name": "Python 3 (ipykernel) (Local)",
   "language": "python",
   "name": "conda-base-py"
  },
  "language_info": {
   "codemirror_mode": {
    "name": "ipython",
    "version": 3
   },
   "file_extension": ".py",
   "mimetype": "text/x-python",
   "name": "python",
   "nbconvert_exporter": "python",
   "pygments_lexer": "ipython3",
   "version": "3.10.14"
  }
 },
 "nbformat": 4,
 "nbformat_minor": 5
}
