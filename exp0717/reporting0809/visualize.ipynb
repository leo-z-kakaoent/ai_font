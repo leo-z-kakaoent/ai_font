{
 "cells": [
  {
   "cell_type": "code",
   "execution_count": 5,
   "id": "e379ea3a-60b8-4a99-83a7-69fc8569b838",
   "metadata": {
    "tags": []
   },
   "outputs": [],
   "source": [
    "import os\n",
    "import copy\n",
    "import numpy as np\n",
    "import pandas as pd\n",
    "from PIL import Image\n",
    "\n",
    "class ImageConcat:\n",
    "    def __init__(self, n_h, n_v, resolution=1000):\n",
    "        self.n_h = n_h\n",
    "        self.n_v = n_v\n",
    "        self.r = resolution\n",
    "        self.img = Image.new(\"L\", (self.n_h*self.r, self.n_v*self.r), color=255)# color=(255,255,255))\n",
    "        self.cursor = [0,0]\n",
    "        self.max_h = 0\n",
    "    \n",
    "    def move_cursor_h(self, r):\n",
    "        self.cursor[0] += r\n",
    "        if self.cursor[0] > self.max_h:\n",
    "            self.max_h = copy.deepcopy(self.cursor[0])\n",
    "        \n",
    "    def move_cursor_v(self):\n",
    "        self.cursor[1] += self.r\n",
    "        \n",
    "    def reset_cursor_h(self):\n",
    "        self.cursor[0] = 0\n",
    "        \n",
    "    def append_img(self, path, cut_margin=True, clip_white=False):\n",
    "        try:\n",
    "            img = Image.open(path).convert('L').resize((self.r,self.r), Image.BILINEAR)\n",
    "            if cut_margin:\n",
    "                img = self.cut_margin(img, clip_white=clip_white)\n",
    "            self.img.paste(img, tuple(self.cursor))\n",
    "            return img.size\n",
    "        except:\n",
    "            # print(f\"Not Appended: {path}\")\n",
    "            return None\n",
    "        \n",
    "    def add_letter(self, path, cut_margin=True, clip_white=False):\n",
    "        imgsize = self.append_img(path, cut_margin=cut_margin, clip_white=clip_white)\n",
    "        if imgsize is None:\n",
    "            self.move_cursor_h(self.r)\n",
    "        else:\n",
    "            self.move_cursor_h(imgsize[0])\n",
    "    \n",
    "    def add_space(self):\n",
    "        self.move_cursor_h(int(self.r/3))\n",
    "        \n",
    "    def enter(self):\n",
    "        self.move_cursor_v()\n",
    "        self.reset_cursor_h()\n",
    "        \n",
    "    def cut_margin(self, img, clip_white):\n",
    "        npimg = 255 - np.array(img)\n",
    "        if clip_white:\n",
    "            npimg[np.where(npimg<10)] = 0 \n",
    "        wmin = npimg.sum(0).nonzero()[0].min()\n",
    "        wmax = npimg.sum(0).nonzero()[0].max()\n",
    "        # hmin = npimg.sum(1).nonzero()[0].min()\n",
    "        # hmax = npimg.sum(1).nonzero()[0].max()\n",
    "\n",
    "        npimg = 255 - npimg[:,wmin:wmax+1]\n",
    "        img = Image.fromarray(npimg)\n",
    "        return img"
   ]
  },
  {
   "cell_type": "markdown",
   "id": "7744b2d5-8017-4ef9-8e7a-b55d0b2f64a8",
   "metadata": {},
   "source": [
    "# Semantic Segmentation 학습데이터 예시"
   ]
  },
  {
   "cell_type": "code",
   "execution_count": 20,
   "id": "2ae0be7f-5651-467b-a4e0-dda52c075b9e",
   "metadata": {
    "tags": []
   },
   "outputs": [],
   "source": [
    "import os\n",
    "import random\n",
    "\n",
    "fd = \"/home/jupyter/ai_font/data/exp0717/train_seg/raw_assembled\"\n",
    "\n",
    "fonts = os.listdir(fd)\n",
    "\n",
    "letters = '가 깨 냐 댸 떠 레 며 볘 삐 사 쌔 야 쟤 쩌 체 켜 톄 피 하 교 꾸 뉴 드 또 료 무 뷰 쁘 소 쑈 우 쥬 쯔 초 쿄 투 퓨 흐 귀 끠 놔 돼 뙤 뤄 뭬 뷔 쁴 솨 쐐 외 줘 쮀 취 킈 톼 퐤 회 걕 꺾 넧 뎐 뗹 릲 몯 뵬 뿕 슒 쓻 왌 좵 쬞 춿 퀨 튑 픲 핫 갰 꺙 넂 덫 뗔 렽 몦 빟'\n",
    "letters = letters.split(\" \")"
   ]
  },
  {
   "cell_type": "code",
   "execution_count": 25,
   "id": "85d62795-ee94-417d-867d-e3cf23cb17a5",
   "metadata": {
    "tags": []
   },
   "outputs": [],
   "source": [
    "img = ImageConcat(n_h=8, n_v=len(letters), resolution=96)\n",
    "for l in letters:\n",
    "    for _ in range(8):\n",
    "        font = random.choice(fonts)\n",
    "        img.add_letter(path=f\"{fd}/{font}/{font}__{l}.png\", cut_margin=False)\n",
    "    img.enter()"
   ]
  },
  {
   "cell_type": "code",
   "execution_count": 27,
   "id": "502195f5-e75d-4995-9938-df4f46547275",
   "metadata": {
    "tags": []
   },
   "outputs": [],
   "source": [
    "img.img.save(\"semantic_segmentation_train_example.png\")"
   ]
  },
  {
   "cell_type": "markdown",
   "id": "364863a1-eeca-4001-9688-9eaee4b25e19",
   "metadata": {},
   "source": [
    "# Semantic Segmentation 인퍼런스 예시"
   ]
  },
  {
   "cell_type": "code",
   "execution_count": 28,
   "id": "b37f8258-623a-4dbb-8b2d-2389f5390df5",
   "metadata": {},
   "outputs": [],
   "source": [
    "fd = \"/home/jupyter/ai_font/exp0717/segmentation\""
   ]
  },
  {
   "cell_type": "code",
   "execution_count": 36,
   "id": "fead729b-3bc9-40f9-b825-f542568ee968",
   "metadata": {
    "tags": []
   },
   "outputs": [],
   "source": [
    "files = [f for f in os.listdir(fd) if f.endswith(\"1_orig.png\")]"
   ]
  },
  {
   "cell_type": "code",
   "execution_count": 37,
   "id": "b4c3f668-c111-4a8f-94c2-76fcddda5a5a",
   "metadata": {
    "tags": []
   },
   "outputs": [],
   "source": [
    "f = files[0]"
   ]
  },
  {
   "cell_type": "code",
   "execution_count": 39,
   "id": "17582932-1063-4674-a22e-aab77b336ac4",
   "metadata": {
    "tags": []
   },
   "outputs": [
    {
     "data": {
      "text/plain": [
       "['test', '57', '18', '1', 'orig.png']"
      ]
     },
     "execution_count": 39,
     "metadata": {},
     "output_type": "execute_result"
    }
   ],
   "source": [
    "f.split(\"_\")"
   ]
  },
  {
   "cell_type": "code",
   "execution_count": 43,
   "id": "387f6082-0a78-45ad-8af4-4080a3218cbc",
   "metadata": {},
   "outputs": [],
   "source": [
    "img = ImageConcat(n_h=4, n_v=64, resolution=96)\n",
    "for f in files[:64]:\n",
    "    fs = f.split(\"_\")\n",
    "    img.add_letter(path=f\"{fd}/{f}\", cut_margin=False)\n",
    "    img.add_letter(path=f\"{fd}/test_{fs[1]}_{fs[2]}_1.png\", cut_margin=False)\n",
    "    img.add_letter(path=f\"{fd}/test_{fs[1]}_{fs[2]}_2.png\", cut_margin=False)\n",
    "    img.add_letter(path=f\"{fd}/test_{fs[1]}_{fs[2]}_3.png\", cut_margin=False)\n",
    "    img.enter()"
   ]
  },
  {
   "cell_type": "code",
   "execution_count": 44,
   "id": "51007a84-133a-4c14-bc21-0852e80f3230",
   "metadata": {
    "tags": []
   },
   "outputs": [],
   "source": [
    "img.img.save(\"semantic_segmentation_test_example.png\")"
   ]
  },
  {
   "cell_type": "markdown",
   "id": "b8106d55-dc26-4fe5-bde3-bd5c342093e3",
   "metadata": {},
   "source": [
    "# Custom Algorithm 예시"
   ]
  },
  {
   "cell_type": "code",
   "execution_count": 46,
   "id": "8b39f26a-fae1-4401-a31d-2f172a4b8ffb",
   "metadata": {
    "tags": []
   },
   "outputs": [],
   "source": [
    "hk = \"가까나다따라마바빠사싸아자짜차카타파하\"\n",
    "vk = \"구꾸누두뚜루무부뿌수쑤우주쭈추쿠투푸후\"\n",
    "k = \"ㄱㄲㄴㄷㄸㄹㅁㅂㅃㅅㅆㅇㅈㅉㅊㅋㅌㅍㅎ\"\n",
    "fd = \"/home/jupyter/ai_font/data/exp0717/train0730_whole\"\n",
    "hfd = \"/home/jupyter/ai_font/data/exp0717/train0730_hparts\"\n",
    "vfd = \"/home/jupyter/ai_font/data/exp0717/train0730_vparts\"\n",
    "fonts = [f for f in sorted(os.listdir(fd)) if not os.path.isdir(f)]"
   ]
  },
  {
   "cell_type": "code",
   "execution_count": 48,
   "id": "ff660d79-6c80-4c50-be43-9595cdb27d2e",
   "metadata": {
    "tags": []
   },
   "outputs": [],
   "source": [
    "img = ImageConcat(n_h=len(k), n_v=16*4, resolution=96)\n",
    "for font in fonts[:16]:\n",
    "    for l in hk:\n",
    "        img.add_letter(path=f\"{fd}/{font}/{font}__{l}.png\", cut_margin=False)\n",
    "    img.enter()\n",
    "    for l in k:\n",
    "        img.add_letter(path=f\"{hfd}/{font}/{font}__{l}.png\", cut_margin=False)\n",
    "    img.enter()\n",
    "    for l in vk:\n",
    "        img.add_letter(path=f\"{fd}/{font}/{font}__{l}.png\", cut_margin=False)\n",
    "    img.enter()\n",
    "    for l in k:\n",
    "        img.add_letter(path=f\"{vfd}/{font}/{font}__{l}.png\", cut_margin=False)\n",
    "    img.enter()"
   ]
  },
  {
   "cell_type": "code",
   "execution_count": 50,
   "id": "4e7a9b01-a428-4d53-a1e6-36dc1d880d6d",
   "metadata": {
    "tags": []
   },
   "outputs": [],
   "source": [
    "img.img.save(\"custom_algo_example.png\")"
   ]
  },
  {
   "cell_type": "markdown",
   "id": "87521f2e-70a0-4e3f-a6ca-2ede26f3e202",
   "metadata": {
    "tags": []
   },
   "source": [
    "# Download and Unzip Report files"
   ]
  },
  {
   "cell_type": "code",
   "execution_count": 52,
   "id": "e2aa75f5-ff6b-40a0-b372-8e06649f8822",
   "metadata": {
    "tags": []
   },
   "outputs": [
    {
     "name": "stdout",
     "output_type": "stream",
     "text": [
      "File exp0717/report/report0730_plain.zip downloaded to report0730_plain.zip.\n",
      "File report0730_plain.zip unzipped to /home/jupyter/ai_font/data/exp0717/report0730_plain.\n"
     ]
    }
   ],
   "source": [
    "import os\n",
    "import zipfile\n",
    "from google.cloud import storage\n",
    "\n",
    "def download_file_from_bucket(bucket_name, source_blob_name, destination_file_name):\n",
    "    \"\"\"\n",
    "    Downloads a file from the Google Cloud Storage bucket.\n",
    "    \n",
    "    :param bucket_name: Name of the GCP bucket.\n",
    "    :param source_blob_name: Name of the blob in the bucket.\n",
    "    :param destination_file_name: Path to save the downloaded file.\n",
    "    \"\"\"\n",
    "    # Create a client\n",
    "    storage_client = storage.Client()\n",
    "\n",
    "    # Get the bucket\n",
    "    bucket = storage_client.bucket(bucket_name)\n",
    "\n",
    "    # Create a blob (file in GCP bucket)\n",
    "    blob = bucket.blob(source_blob_name)\n",
    "\n",
    "    # Download the file\n",
    "    blob.download_to_filename(destination_file_name)\n",
    "    print(f\"File {source_blob_name} downloaded to {destination_file_name}.\")\n",
    "\n",
    "def unzip_file(zip_file_path, extract_dir):\n",
    "    \"\"\"\n",
    "    Unzips a ZIP file into the specified directory.\n",
    "    \n",
    "    :param zip_file_path: Path to the ZIP file.\n",
    "    :param extract_dir: Directory to extract the contents to.\n",
    "    \"\"\"\n",
    "    with zipfile.ZipFile(zip_file_path, 'r') as zip_ref:\n",
    "        zip_ref.extractall(extract_dir)\n",
    "    print(f\"File {zip_file_path} unzipped to {extract_dir}.\")\n",
    "\n",
    "    \n",
    "bucket_name = \"leo_font\"\n",
    "source_blob_name = \"exp0717/report/report0730_plain.zip\"  # Path in the bucket\n",
    "destination_file_name = \"report0730_plain.zip\"\n",
    "extract_dir = \"/home/jupyter/ai_font/data/exp0717/report0730_plain\"\n",
    "\n",
    "# Step 1: Download the ZIP file from the GCP bucket\n",
    "download_file_from_bucket(bucket_name, source_blob_name, destination_file_name)\n",
    "\n",
    "# Step 2: Unzip the downloaded file\n",
    "unzip_file(destination_file_name, extract_dir)\n"
   ]
  },
  {
   "cell_type": "code",
   "execution_count": 56,
   "id": "a1603773-48ce-4468-9e39-fd418b997705",
   "metadata": {
    "tags": []
   },
   "outputs": [
    {
     "name": "stdout",
     "output_type": "stream",
     "text": [
      "File exp0717/report/test0730_handcut_whole.zip downloaded to test0730_handcut_whole.zip.\n",
      "File test0730_handcut_whole.zip unzipped to /home/jupyter/ai_font/data/exp0717/test0730_handcut_whole.\n"
     ]
    }
   ],
   "source": [
    "name = \"test0730_handcut_whole\"\n",
    "\n",
    "bucket_name = \"leo_font\"\n",
    "source_blob_name = f\"exp0717/report/{name}.zip\" # Path in the bucket\n",
    "destination_file_name = f\"{name}.zip\"\n",
    "extract_dir = f\"/home/jupyter/ai_font/data/exp0717/{name}\"\n",
    "\n",
    "# Step 1: Download the ZIP file from the GCP bucket\n",
    "download_file_from_bucket(bucket_name, source_blob_name, destination_file_name)\n",
    "\n",
    "# Step 2: Unzip the downloaded file\n",
    "unzip_file(destination_file_name, extract_dir)"
   ]
  },
  {
   "cell_type": "markdown",
   "id": "d2ab3a05-9737-451f-9d07-a3936964c850",
   "metadata": {},
   "source": [
    "# 학습결과 시각화"
   ]
  },
  {
   "cell_type": "code",
   "execution_count": 81,
   "id": "e4958faa-9cf2-45a9-b5b7-8d64f91552b5",
   "metadata": {
    "tags": []
   },
   "outputs": [],
   "source": [
    "fd = \"/home/jupyter/ai_font/data/exp0717/report0730_plain/i0\"\n",
    "files = [f for f in sorted(os.listdir(fd)) if f.endswith(\".png\")]\n",
    "font = \"플레이브밤비\"\n",
    "realfd = \"/home/jupyter/ai_font/data/exp0717/test0730_handcut_whole\"\n",
    "\n",
    "img = ImageConcat(n_h=9, n_v=len(files)//4, resolution=96)\n",
    "for i in range(0,len(files),4):\n",
    "    letter = files[i][-5]\n",
    "    img.add_letter(path=f\"{realfd}/{font}/{font}__{letter}.png\", cut_margin=False)\n",
    "    letter = files[i+1][-5]\n",
    "    img.add_letter(path=f\"{realfd}/{font}/{font}__{letter}.png\", cut_margin=False)\n",
    "    letter = files[i+2][-5]\n",
    "    img.add_letter(path=f\"{realfd}/{font}/{font}__{letter}.png\", cut_margin=False)\n",
    "    letter = files[i+3][-5]\n",
    "    img.add_letter(path=f\"{realfd}/{font}/{font}__{letter}.png\", cut_margin=False)\n",
    "    \n",
    "    img.add_space()\n",
    "    \n",
    "    img.add_letter(path=f\"{fd}/{files[i]}\", cut_margin=False)\n",
    "    img.add_letter(path=f\"{fd}/{files[i+1]}\", cut_margin=False)\n",
    "    img.add_letter(path=f\"{fd}/{files[i+2]}\", cut_margin=False)\n",
    "    img.add_letter(path=f\"{fd}/{files[i+3]}\", cut_margin=False)\n",
    "    \n",
    "    img.enter()"
   ]
  },
  {
   "cell_type": "code",
   "execution_count": 83,
   "id": "c291fac0-098e-4434-832a-f5d0ff3ffc45",
   "metadata": {
    "tags": []
   },
   "outputs": [],
   "source": [
    "img.img.save(\"result_visualize.png\")"
   ]
  },
  {
   "cell_type": "code",
   "execution_count": 80,
   "id": "632a742a-25bf-40b5-b5d7-536baf223a81",
   "metadata": {
    "tags": []
   },
   "outputs": [
    {
     "data": {
      "text/plain": [
       "19"
      ]
     },
     "execution_count": 80,
     "metadata": {},
     "output_type": "execute_result"
    }
   ],
   "source": [
    "len(files)//4"
   ]
  },
  {
   "cell_type": "markdown",
   "id": "9374f645-6d72-45cc-828b-a0dcd28f7f30",
   "metadata": {},
   "source": [
    "# Inpainting 예시"
   ]
  },
  {
   "cell_type": "code",
   "execution_count": 107,
   "id": "5dcd65c6-318f-4fa2-927f-2e6d4f78f252",
   "metadata": {
    "tags": []
   },
   "outputs": [],
   "source": [
    "import os\n",
    "import numpy as np\n",
    "from tqdm import tqdm\n",
    "from PIL import Image\n",
    "import cv2\n",
    "\n",
    "def get_unpadded_borders(img):\n",
    "    kernel = cv2.getStructuringElement(cv2.MORPH_RECT,(2,2))\n",
    "    processed = cv2.morphologyEx(np.array(img), cv2.MORPH_CLOSE, kernel)\n",
    "    npimg = 255 - np.array(processed)\n",
    "    npimg[np.where(npimg < 16)] = 0\n",
    "    wmin = npimg.sum(0).nonzero()[0].min()\n",
    "    wmax = npimg.sum(0).nonzero()[0].max()\n",
    "    hmin = npimg.sum(1).nonzero()[0].min()\n",
    "    hmax = npimg.sum(1).nonzero()[0].max()\n",
    "    return wmin, wmax, hmin, hmax\n",
    "\n",
    "def unpad(img):\n",
    "    wmin, wmax, hmin, hmax = get_unpadded_borders(img)\n",
    "    wmin = wmin - 1 if wmin > 0 else wmin\n",
    "    wmax = wmax + 1 if wmax < img.width else wmax\n",
    "    hmin = hmin - 1 if hmin > 0 else hmin\n",
    "    hmax = hmax + 1 if hmax < img.height else hmax\n",
    "    return Image.fromarray(np.array(img)[hmin:hmax,wmin:wmax])\n",
    "\n",
    "def resize_aspectratio(image, new_size=128):\n",
    "\n",
    "\n",
    "    # Get the original dimensions\n",
    "    original_width, original_height = image.size\n",
    "\n",
    "    # Set the desired width or height\n",
    "    desired_width = new_size # Example width; adjust as needed\n",
    "    desired_height = new_size  # Example height; adjust as needed\n",
    "\n",
    "    # Calculate the aspect ratio\n",
    "    aspect_ratio = original_width / original_height\n",
    "\n",
    "    # Calculate new dimensions while maintaining aspect ratio\n",
    "    if original_width > original_height:\n",
    "        new_width = desired_width\n",
    "        new_height = int(new_width / aspect_ratio)\n",
    "    else:\n",
    "        new_height = desired_height\n",
    "        new_width = int(new_height * aspect_ratio)\n",
    "\n",
    "    # Resize the image while maintaining aspect ratio\n",
    "    resized_image = image.resize((new_width, new_height), Image.BILINEAR)\n",
    "    return resized_image\n",
    "\n",
    "def centering(img, new_size=128, padding_color=255):\n",
    "\n",
    "    # Resize the image using the new dimensions\n",
    "    resized_img = unpad(img)\n",
    "    resized_img = resize_aspectratio(resized_img)\n",
    "    \n",
    "    # Create a new blank image with padding\n",
    "    padded_img = Image.new(\"L\", (new_size, new_size), padding_color)\n",
    "    \n",
    "    # Calculate the position to paste the resized image\n",
    "    left = (padded_img.width - resized_img.width) // 2\n",
    "    top = (padded_img.height - resized_img.height) // 2\n",
    "    right = left + resized_img.width\n",
    "    bottom = top + resized_img.height\n",
    "    \n",
    "    # Paste the resized image onto the blank image\n",
    "    padded_img.paste(resized_img, (left, top, right, bottom))\n",
    "    \n",
    "    return padded_img"
   ]
  },
  {
   "cell_type": "code",
   "execution_count": 108,
   "id": "361e4b9d-a068-4fcd-bfb3-a320ce426ffa",
   "metadata": {
    "tags": []
   },
   "outputs": [],
   "source": [
    "img = Image.open(\"플레이브밤비__갊.png\")"
   ]
  },
  {
   "cell_type": "code",
   "execution_count": 110,
   "id": "0b1c9b6d-517e-4a4c-a4ba-ccf3ec53960b",
   "metadata": {
    "tags": []
   },
   "outputs": [],
   "source": [
    "centering(img).save(\"플레이브밤비__갊_커짐.png\")"
   ]
  },
  {
   "cell_type": "code",
   "execution_count": 119,
   "id": "e348b63a-435b-411c-8953-e5084e350d59",
   "metadata": {
    "tags": []
   },
   "outputs": [],
   "source": [
    "wmin, wmax, hmin, hmax = get_unpadded_borders(img)"
   ]
  },
  {
   "cell_type": "code",
   "execution_count": 124,
   "id": "65410606-ae01-409e-9eac-a873f5bad6d0",
   "metadata": {
    "tags": []
   },
   "outputs": [],
   "source": [
    "npimg = np.ones_like(np.array(img))*int(255)"
   ]
  },
  {
   "cell_type": "code",
   "execution_count": 125,
   "id": "ec72cf24-41d2-4149-8a77-f7baac1bcf35",
   "metadata": {
    "tags": []
   },
   "outputs": [],
   "source": [
    "npimg[hmin:hmax,wmin:wmax] = 230"
   ]
  },
  {
   "cell_type": "code",
   "execution_count": 126,
   "id": "4939d64f-3f36-4cdc-8eb3-f7bca7312f42",
   "metadata": {
    "tags": []
   },
   "outputs": [],
   "source": [
    "Image.fromarray(npimg).save(\"플레이브밤비__갊_마스크.png\")"
   ]
  },
  {
   "cell_type": "code",
   "execution_count": 127,
   "id": "5b254dbe-dfa9-4a99-b4c6-8366aea52815",
   "metadata": {
    "tags": []
   },
   "outputs": [],
   "source": [
    "npwhere = np.where(np.array(img)!=255)\n",
    "npimg[npwhere] = np.array(img)[npwhere]\n",
    "Image.fromarray(npimg).save(\"플레이브밤비__갊_마스크생성.png\")"
   ]
  },
  {
   "cell_type": "code",
   "execution_count": 129,
   "id": "f9a012af-7282-4ab0-b104-09b7ec550812",
   "metadata": {
    "tags": []
   },
   "outputs": [],
   "source": [
    "img = ImageConcat(n_h=4, n_v=1, resolution=96)\n",
    "img.add_letter(path=\"플레이브밤비__갊_커짐.png\", cut_margin=False)\n",
    "img.add_letter(path=\"플레이브밤비__갊_마스크.png\", cut_margin=False)\n",
    "img.add_letter(path=\"플레이브밤비__갊_마스크생성.png\", cut_margin=False)\n",
    "img.add_letter(path=\"플레이브밤비__갊.png\", cut_margin=False)\n"
   ]
  },
  {
   "cell_type": "code",
   "execution_count": 131,
   "id": "9dfe66d5-2717-4f1c-95cc-5483d842706f",
   "metadata": {
    "tags": []
   },
   "outputs": [],
   "source": [
    "img.img.save(\"인페인팅리사이즈예시.png\")"
   ]
  },
  {
   "cell_type": "markdown",
   "id": "edc3b08b-7ded-4625-8ad0-ab8e3671f913",
   "metadata": {
    "tags": []
   },
   "source": [
    "## 인페인팅 초성/종성 Given"
   ]
  },
  {
   "cell_type": "code",
   "execution_count": 147,
   "id": "f80854ab-c05c-4740-8d2a-609476908306",
   "metadata": {
    "tags": []
   },
   "outputs": [],
   "source": [
    "img = Image.open(\"플레이브밤비__갊_noch23.png\")\n",
    "npimg = np.ones_like(np.array(img))*int(230)\n",
    "npwhere = np.where(np.array(img)!=255)\n",
    "# npimg[npwhere] = np.array(img)[npwhere]\n",
    "npimg[npwhere] = 255\n",
    "Image.fromarray(npimg).save(\"플레이브밤비__갊_noch23_shaded.png\")"
   ]
  },
  {
   "cell_type": "code",
   "execution_count": 148,
   "id": "05a949bd-8b5c-4105-a23c-53b84581ec3d",
   "metadata": {
    "tags": []
   },
   "outputs": [],
   "source": [
    "img = Image.open(\"플레이브밤비__갊_noch2.png\")\n",
    "npimg = np.ones_like(np.array(img))*int(230)\n",
    "npwhere = np.where(np.array(img)!=255)\n",
    "# npimg[npwhere] = np.array(img)[npwhere]\n",
    "npimg[npwhere] = 255\n",
    "Image.fromarray(npimg).save(\"플레이브밤비__갊_noch2_shaded.png\")"
   ]
  },
  {
   "cell_type": "code",
   "execution_count": 149,
   "id": "37410a8f-99b6-4286-8f3a-c3f1ce5d51c0",
   "metadata": {
    "tags": []
   },
   "outputs": [],
   "source": [
    "img = ImageConcat(n_h=3, n_v=2, resolution=96)\n",
    "img.add_letter(path=\"플레이브밤비__갊_noch23.png\", cut_margin=False)\n",
    "img.add_letter(path=\"플레이브밤비__갊_noch23_shaded.png\", cut_margin=False)\n",
    "img.add_letter(path=\"플레이브밤비__갊.png\", cut_margin=False)\n",
    "\n",
    "img.enter()\n",
    "\n",
    "img.add_letter(path=\"플레이브밤비__갊_noch2.png\", cut_margin=False)\n",
    "img.add_letter(path=\"플레이브밤비__갊_noch2_shaded.png\", cut_margin=False)\n",
    "img.add_letter(path=\"플레이브밤비__갊.png\", cut_margin=False)\n"
   ]
  },
  {
   "cell_type": "code",
   "execution_count": 150,
   "id": "67c66900-aea0-437c-83a9-dcb1300cf7e3",
   "metadata": {
    "tags": []
   },
   "outputs": [],
   "source": [
    "img.img.save(\"인페인팅기븐.png\")"
   ]
  },
  {
   "cell_type": "code",
   "execution_count": null,
   "id": "c47a1b13-0a44-495f-909f-07cd282a81fa",
   "metadata": {},
   "outputs": [],
   "source": []
  }
 ],
 "metadata": {
  "environment": {
   "kernel": "conda-base-py",
   "name": "workbench-notebooks.m123",
   "type": "gcloud",
   "uri": "us-docker.pkg.dev/deeplearning-platform-release/gcr.io/workbench-notebooks:m123"
  },
  "kernelspec": {
   "display_name": "Python 3 (ipykernel) (Local)",
   "language": "python",
   "name": "conda-base-py"
  },
  "language_info": {
   "codemirror_mode": {
    "name": "ipython",
    "version": 3
   },
   "file_extension": ".py",
   "mimetype": "text/x-python",
   "name": "python",
   "nbconvert_exporter": "python",
   "pygments_lexer": "ipython3",
   "version": "3.10.14"
  }
 },
 "nbformat": 4,
 "nbformat_minor": 5
}
