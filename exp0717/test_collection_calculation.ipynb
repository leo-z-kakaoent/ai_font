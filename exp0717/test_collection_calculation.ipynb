{
 "cells": [
  {
   "cell_type": "code",
   "execution_count": 10,
   "id": "8a37a79a-11f6-4d37-9bbd-68c73df17b1e",
   "metadata": {
    "tags": []
   },
   "outputs": [],
   "source": [
    "import os\n",
    "import numpy as np\n",
    "import pandas as pd\n",
    "from tqdm import tqdm\n",
    "\n",
    "\n",
    "def get_all_korean():\n",
    "\n",
    "    def nextKorLetterFrom(letter):\n",
    "        lastLetterInt = 15572643\n",
    "        if not letter:\n",
    "            return '가'\n",
    "        a = letter\n",
    "        b = a.encode('utf8')\n",
    "        c = int(b.hex(), 16)\n",
    "\n",
    "        if c == lastLetterInt:\n",
    "            return False\n",
    "\n",
    "        d = hex(c + 1)\n",
    "        e = bytearray.fromhex(d[2:])\n",
    "\n",
    "        flag = True\n",
    "        while flag:\n",
    "            try:\n",
    "                r = e.decode('utf-8')\n",
    "                flag = False\n",
    "            except UnicodeDecodeError:\n",
    "                c = c+1\n",
    "                d = hex(c)\n",
    "                e = bytearray.fromhex(d[2:])\n",
    "        return e.decode()\n",
    "\n",
    "    returns = []\n",
    "    flag = True\n",
    "    k = ''\n",
    "    while flag:\n",
    "        k = nextKorLetterFrom(k)\n",
    "        if k is False:\n",
    "            flag = False\n",
    "        else:\n",
    "            returns.append(k)\n",
    "    return returns\n",
    "\n",
    "def get_idx(letter):\n",
    "    \n",
    "    ordl = ord(letter) - ord('가')\n",
    "    ch1 = (ordl)//588\n",
    "    ch2 = ((ordl) - (588*ch1)) // 28\n",
    "    ch3 = (ordl) - (588*ch1) - 28*ch2\n",
    "    return ordl, ch1, ch2, ch3"
   ]
  },
  {
   "cell_type": "code",
   "execution_count": 11,
   "id": "63d720f6-82ea-4d44-badd-dab162bbc793",
   "metadata": {
    "tags": []
   },
   "outputs": [],
   "source": [
    "ak = get_all_korean()"
   ]
  },
  {
   "cell_type": "code",
   "execution_count": 17,
   "id": "135ab62f-df73-463f-903f-21a873067a37",
   "metadata": {
    "tags": []
   },
   "outputs": [],
   "source": [
    "akdf = []\n",
    "akdict = {}\n",
    "for k in ak:\n",
    "    idxs = get_idx(k)\n",
    "    akdf.append({\n",
    "        \"letter\": k,\n",
    "        \"total_idx\": idxs[0],\n",
    "        \"top_idx\": idxs[1],\n",
    "        \"mid_idx\": idxs[2],\n",
    "        \"bot_idx\": idxs[3],\n",
    "    })\n",
    "    akdict[(idxs[1],idxs[2],idxs[3],)] = k"
   ]
  },
  {
   "cell_type": "code",
   "execution_count": 14,
   "id": "f5704985-ff0d-4016-8d3d-374bbe5b840e",
   "metadata": {
    "tags": []
   },
   "outputs": [],
   "source": [
    "pd.DataFrame().from_dict(akdf).to_csv(\"all_korean_idx.csv\")"
   ]
  },
  {
   "cell_type": "code",
   "execution_count": 15,
   "id": "49278ea4-74e3-4912-a157-1b44ee57efe0",
   "metadata": {
    "tags": []
   },
   "outputs": [],
   "source": [
    "hlist = [0,1,2,3,4,5,6,7,20] # ㅏㅐㅑㅒㅓㅔㅕㅖㅣ\n",
    "vlist = [8,12,13,17,18] # ㅗㅛㅜㅠㅡ\n",
    "clist = [9,10,11,14,15,16,19] # ㅘㅙㅚㅝㅞㅟㅢ"
   ]
  },
  {
   "cell_type": "markdown",
   "id": "09ab71f5-5849-4d6f-8e47-6ef1baa083cd",
   "metadata": {},
   "source": [
    "## 1. 모임꼴별 Max 글씨 계산\n",
    "가로모임 민글자:\n",
    "\n",
    "초성 19개\n",
    "\n",
    "세로모임 민글자\n",
    "\n",
    "초성 19개\n",
    "\n",
    "섞임모임 민글자\n",
    "\n",
    "초성 19개\n",
    "\n",
    "가로모임 받침글자\n",
    "\n",
    "초성 19개 + 종성 27개  (곱하기가 아닌이유는 각각 독립이기때문)\n",
    "\n",
    "세로모임 받침글자\n",
    "\n",
    "초성 19개 + 종성 27개\n",
    "\n",
    "섞임모임 받침글자\n",
    "\n",
    "초성 19개 + 종성 27개\n",
    "\n",
    "전체 195자 (중성은 잘 섞어서 수집하기)"
   ]
  },
  {
   "cell_type": "code",
   "execution_count": 29,
   "id": "27e023f5-10b3-4ff0-b7ba-9708e1a46d61",
   "metadata": {
    "tags": []
   },
   "outputs": [],
   "source": [
    "collection = []\n",
    "mc = -1\n",
    "l = hlist\n",
    "for i in range(19):\n",
    "    mc = mc + 1 if mc < (len(l)-1) else 0\n",
    "    collection.append(akdict[(i,l[mc],0)])\n",
    "l = vlist\n",
    "for i in range(19):\n",
    "    mc = mc + 1 if mc < (len(l)-1) else 0\n",
    "    collection.append(akdict[(i,l[mc],0)])\n",
    "l = clist\n",
    "for i in range(19):\n",
    "    mc = mc + 1 if mc < (len(l)-1) else 0\n",
    "    collection.append(akdict[(i,l[mc],0)])\n",
    "tc = -1\n",
    "l = hlist\n",
    "for j in range(1,28):\n",
    "    tc = tc + 1 if tc < 18 else 0\n",
    "    mc = mc + 1 if mc < (len(l)-1) else 0\n",
    "    collection.append(akdict[(tc,l[mc],j)])\n",
    "tc = -1\n",
    "l = vlist\n",
    "for j in range(1,28):\n",
    "    tc = tc + 1 if tc < 18 else 0\n",
    "    mc = mc + 1 if mc < (len(l)-1) else 0\n",
    "    collection.append(akdict[(tc,l[mc],j)])\n",
    "tc = -1\n",
    "l = clist\n",
    "for j in range(1,28):\n",
    "    tc = tc + 1 if tc < 18 else 0\n",
    "    mc = mc + 1 if mc < (len(l)-1) else 0\n",
    "    collection.append(akdict[(tc,l[mc],j)])"
   ]
  },
  {
   "cell_type": "code",
   "execution_count": 30,
   "id": "57d1b458-ac59-4278-a1b3-7ce680dd0790",
   "metadata": {
    "tags": []
   },
   "outputs": [
    {
     "data": {
      "text/plain": [
       "'가 깨 냐 댸 떠 레 며 볘 삐 사 쌔 야 쟤 쩌 체 켜 톄 피 하 교 꾸 뉴 드 또 료 무 뷰 쁘 소 쑈 우 쥬 쯔 초 쿄 투 퓨 흐 귀 끠 놔 돼 뙤 뤄 뭬 뷔 쁴 솨 쐐 외 줘 쮀 취 킈 톼 퐤 회 걕 꺾 넧 뎐 뗹 릲 맏 밸 뺡 섊 썳 엜 졅 쪮 칧 캄 탭 퍖 햿 겄 껭 녖 뎿 띸 랕 맾 뱧 귝 끆 녻 됸 뚡 륞 믇 볼 뾹 숢 쓟 읈 졽 쬺 춣 큠 틉 폾 횻 궀 뀽 늦 돛 뚘 뤁 뮾 븧 귁 끢 놗 됀 뙩 뤊 뭳 뷜 쁽 솲 쐛 욄 줥 쮎 췷 킘 퇍 퐶 횟 궜 뀅 뉮 딏 뙄 뢭 묖 붷'"
      ]
     },
     "execution_count": 30,
     "metadata": {},
     "output_type": "execute_result"
    }
   ],
   "source": [
    "\" \".join(collection)"
   ]
  },
  {
   "cell_type": "markdown",
   "id": "23ffd796-e1e1-4511-a984-293239316b82",
   "metadata": {},
   "source": [
    "## 2. 받침글자를 가로모임과 섞임모임을 통합해서 수집할때\n",
    "\n",
    "가로모임 민글자:\n",
    "\n",
    "초성 19개\n",
    "\n",
    "세로모임 민글자\n",
    "\n",
    "초성 19개\n",
    "\n",
    "섞임모임 민글자\n",
    "\n",
    "초성 19개\n",
    "\n",
    "가로모임 + 섞임모임 받침글자\n",
    "\n",
    "초성 19개 + 종성 8개  \n",
    "\n",
    "세로모임 받침글자\n",
    "\n",
    "초성 19개 + 종성 8개\n",
    "\n",
    "111자"
   ]
  },
  {
   "cell_type": "code",
   "execution_count": 31,
   "id": "726bb9dd-f5c7-416a-9a91-5c992213dcd0",
   "metadata": {
    "tags": []
   },
   "outputs": [],
   "source": [
    "collection = []\n",
    "mc = -1\n",
    "l = hlist\n",
    "for i in range(19):\n",
    "    mc = mc + 1 if mc < (len(l)-1) else 0\n",
    "    collection.append(akdict[(i,l[mc],0)])\n",
    "l = vlist\n",
    "for i in range(19):\n",
    "    mc = mc + 1 if mc < (len(l)-1) else 0\n",
    "    collection.append(akdict[(i,l[mc],0)])\n",
    "l = clist\n",
    "for i in range(19):\n",
    "    mc = mc + 1 if mc < (len(l)-1) else 0\n",
    "    collection.append(akdict[(i,l[mc],0)])\n",
    "tc = -1\n",
    "l = hlist + clist\n",
    "for j in range(1,28):\n",
    "    tc = tc + 1 if tc < 18 else 0\n",
    "    mc = mc + 1 if mc < (len(l)-1) else 0\n",
    "    collection.append(akdict[(tc,l[mc],j)])\n",
    "tc = -1\n",
    "l = vlist\n",
    "for j in range(1,28):\n",
    "    tc = tc + 1 if tc < 18 else 0\n",
    "    mc = mc + 1 if mc < (len(l)-1) else 0\n",
    "    collection.append(akdict[(tc,l[mc],j)])"
   ]
  },
  {
   "cell_type": "code",
   "execution_count": 32,
   "id": "b2edbead-e305-4a19-9ec6-869f98260984",
   "metadata": {
    "tags": []
   },
   "outputs": [
    {
     "data": {
      "text/plain": [
       "111"
      ]
     },
     "execution_count": 32,
     "metadata": {},
     "output_type": "execute_result"
    }
   ],
   "source": [
    "len(collection)"
   ]
  },
  {
   "cell_type": "code",
   "execution_count": 34,
   "id": "e5783cd8-e48f-47c4-b14f-8fe55b76956d",
   "metadata": {
    "tags": []
   },
   "outputs": [
    {
     "data": {
      "text/plain": [
       "'가 깨 냐 댸 떠 레 며 볘 삐 사 쌔 야 쟤 쩌 체 켜 톄 피 하 교 꾸 뉴 드 또 료 무 뷰 쁘 소 쑈 우 쥬 쯔 초 쿄 투 퓨 흐 귀 끠 놔 돼 뙤 뤄 뭬 뷔 쁴 솨 쐐 외 줘 쮀 취 킈 톼 퐤 회 걕 꺾 넧 뎐 뗹 릲 뫋 봴 뾝 숾 쒧 윐 즱 짪 챓 캼 턥 펎 헷 겼 꼥 닞 돷 뙠 룉 뭪 뷓 곡 꾞 눇 듄 뜭 롢 묟 불 쁅 슮 쏣 욠 줉 쯆 츯 콤 툡 풊 흇 긌 꽁 뇾 둧 뜤 릍 뫂 뵿'"
      ]
     },
     "execution_count": 34,
     "metadata": {},
     "output_type": "execute_result"
    }
   ],
   "source": [
    "\" \".join(collection)"
   ]
  },
  {
   "cell_type": "markdown",
   "id": "0f6539af-2ee0-41b3-a0d4-71e4f46bb161",
   "metadata": {},
   "source": [
    "## 3. 받침글자를 가로모임+세로모임+섞임모임까지 통합해서 수집\n",
    "\n",
    "가로모임 민글자:\n",
    "\n",
    "초성 19개\n",
    "\n",
    "세로모임 민글자\n",
    "\n",
    "초성 19개\n",
    "\n",
    "섞임모임 민글자\n",
    "\n",
    "초성 19개\n",
    "\n",
    "가로모임 + 세로모임+ 섞임모임 받침글자\n",
    "\n",
    "초성 19개 + 종성 8개  \n",
    "\n",
    "84자"
   ]
  },
  {
   "cell_type": "code",
   "execution_count": 35,
   "id": "7414f672-87ae-4964-bbb8-c5e004c67a00",
   "metadata": {
    "tags": []
   },
   "outputs": [],
   "source": [
    "collection = []\n",
    "mc = -1\n",
    "l = hlist\n",
    "for i in range(19):\n",
    "    mc = mc + 1 if mc < (len(l)-1) else 0\n",
    "    collection.append(akdict[(i,l[mc],0)])\n",
    "l = vlist\n",
    "for i in range(19):\n",
    "    mc = mc + 1 if mc < (len(l)-1) else 0\n",
    "    collection.append(akdict[(i,l[mc],0)])\n",
    "l = clist\n",
    "for i in range(19):\n",
    "    mc = mc + 1 if mc < (len(l)-1) else 0\n",
    "    collection.append(akdict[(i,l[mc],0)])\n",
    "tc = -1\n",
    "l = hlist + vlist + clist\n",
    "for j in range(1,28):\n",
    "    tc = tc + 1 if tc < 18 else 0\n",
    "    mc = mc + 1 if mc < (len(l)-1) else 0\n",
    "    collection.append(akdict[(tc,l[mc],j)])"
   ]
  },
  {
   "cell_type": "code",
   "execution_count": 36,
   "id": "e1dbce3f-4e1b-4104-8115-0635aa709344",
   "metadata": {
    "tags": []
   },
   "outputs": [
    {
     "data": {
      "text/plain": [
       "84"
      ]
     },
     "execution_count": 36,
     "metadata": {},
     "output_type": "execute_result"
    }
   ],
   "source": [
    "len(collection)"
   ]
  },
  {
   "cell_type": "code",
   "execution_count": 37,
   "id": "bc232bc4-678f-4cb9-928c-a9ce6801308d",
   "metadata": {
    "tags": []
   },
   "outputs": [
    {
     "data": {
      "text/plain": [
       "'가 깨 냐 댸 떠 레 며 볘 삐 사 쌔 야 쟤 쩌 체 켜 톄 피 하 교 꾸 뉴 드 또 료 무 뷰 쁘 소 쑈 우 쥬 쯔 초 쿄 투 퓨 흐 귀 끠 놔 돼 뙤 뤄 뭬 뷔 쁴 솨 쐐 외 줘 쮀 취 킈 톼 퐤 회 걕 꺾 넧 뎐 뗹 릲 몯 뵬 뿕 슒 쓻 왌 좵 쬞 춿 퀨 튑 픲 핫 갰 꺙 넂 덫 뗔 렽 몦 빟'"
      ]
     },
     "execution_count": 37,
     "metadata": {},
     "output_type": "execute_result"
    }
   ],
   "source": [
    "\" \".join(collection)"
   ]
  },
  {
   "cell_type": "code",
   "execution_count": null,
   "id": "62df808f-2f31-4b62-aebe-41334885aca1",
   "metadata": {},
   "outputs": [],
   "source": []
  }
 ],
 "metadata": {
  "environment": {
   "kernel": "conda-base-py",
   "name": "workbench-notebooks.m122",
   "type": "gcloud",
   "uri": "us-docker.pkg.dev/deeplearning-platform-release/gcr.io/workbench-notebooks:m122"
  },
  "kernelspec": {
   "display_name": "Python 3 (ipykernel) (Local)",
   "language": "python",
   "name": "conda-base-py"
  },
  "language_info": {
   "codemirror_mode": {
    "name": "ipython",
    "version": 3
   },
   "file_extension": ".py",
   "mimetype": "text/x-python",
   "name": "python",
   "nbconvert_exporter": "python",
   "pygments_lexer": "ipython3",
   "version": "3.10.14"
  }
 },
 "nbformat": 4,
 "nbformat_minor": 5
}
