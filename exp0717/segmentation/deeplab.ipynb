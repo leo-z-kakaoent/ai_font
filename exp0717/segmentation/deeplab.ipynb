{
 "cells": [
  {
   "cell_type": "code",
   "execution_count": 1,
   "id": "e81c37b1-9d19-4857-8cc3-0f0646f0b2b9",
   "metadata": {
    "tags": []
   },
   "outputs": [],
   "source": [
    "import numpy as np\n",
    "from tqdm import tqdm\n",
    "import torch\n",
    "import torch.nn as nn\n",
    "import torch.optim as optim\n",
    "from torch.utils.data import DataLoader, Dataset\n",
    "from torchvision import models, transforms\n",
    "from PIL import Image\n",
    "import os\n",
    "from torchvision.models.segmentation import deeplabv3_mobilenet_v3_large as deeplab"
   ]
  },
  {
   "cell_type": "code",
   "execution_count": 2,
   "id": "a2085f32-c263-4087-8744-5a8eee134ca4",
   "metadata": {
    "tags": []
   },
   "outputs": [],
   "source": [
    "fd = \"/home/jupyter/ai_font/data/exp0717/train_seg/raw_assembled\""
   ]
  },
  {
   "cell_type": "code",
   "execution_count": 3,
   "id": "f4e9b1ee-9510-417a-b202-d9d06e8b428f",
   "metadata": {
    "tags": []
   },
   "outputs": [],
   "source": [
    "class myDS(Dataset):\n",
    "    def __init__(self, fd, train=True):\n",
    "        self.path_list = []\n",
    "        for root, dirs, files in os.walk(fd):\n",
    "            for file in files:\n",
    "                if file.endswith('.png') & (\"checkpoint\" not in file):\n",
    "                    image_path = os.path.join(root, file)\n",
    "                    label_root = root.replace(\"raw_assembled\",\"raw_label\")\n",
    "                    label_file = file.replace(\".png\",\".npy\")\n",
    "                    label_path = os.path.join(label_root, label_file)\n",
    "                    self.path_list.append((image_path,label_path,))\n",
    "        self.transforms = transforms.Compose([\n",
    "                transforms.Resize(520),\n",
    "                transforms.ToTensor(),  # Rescales to [0.0, 1.0]\n",
    "                transforms.Normalize(mean=[0.485, 0.456, 0.406], std=[0.229, 0.224, 0.225])\n",
    "            ])\n",
    "        self.label_transforms = transforms.Resize(520)\n",
    "        \n",
    "        if train:\n",
    "            self.path_list = [p for i, p in enumerate(sorted(self.path_list)) if (i % 100) != 0]\n",
    "        else:\n",
    "            self.path_list = [p for i, p in enumerate(sorted(self.path_list)) if (i % 100) == 0]\n",
    "\n",
    "    def __len__(self):\n",
    "        return len(self.path_list)\n",
    "    \n",
    "    def __getitem__(self, idx):\n",
    "        image_path, label_path = self.path_list[idx]\n",
    "        image = Image.open(image_path).convert(\"RGB\")\n",
    "        mask = np.load(label_path)\n",
    "        \n",
    "        return self.transforms(image), self.label_transforms(torch.from_numpy(mask))"
   ]
  },
  {
   "cell_type": "code",
   "execution_count": 4,
   "id": "9d7f11c3-8d2a-4e60-9e7a-6b2adaf0bdb7",
   "metadata": {
    "tags": []
   },
   "outputs": [],
   "source": [
    "def calculate_accuracy(preds, targets):\n",
    "\n",
    "    # Convert predictions to class labels by taking the argmax along the class dimension\n",
    "    pred_labels = torch.argmax(preds, dim=1)\n",
    "    target_labels = torch.argmax(targets, dim=1)\n",
    "    \n",
    "    # Check if the predicted labels are equal to the target labels\n",
    "    correct = (pred_labels == target_labels).float()\n",
    "    \n",
    "    # Calculate the accuracy\n",
    "    accuracy = correct.sum() / correct.numel()\n",
    "    \n",
    "    return accuracy.item() * 100  # Convert to percentage"
   ]
  },
  {
   "cell_type": "code",
   "execution_count": 5,
   "id": "7162857e-b37f-4bfb-9500-4dab59c0d559",
   "metadata": {
    "tags": []
   },
   "outputs": [],
   "source": [
    "ds = myDS(\"/home/jupyter/ai_font/data/exp0717/train_seg/raw_assembled\", train=True)\n",
    "dl = DataLoader(ds, batch_size=32, shuffle=True)\n",
    "testds = myDS(\"/home/jupyter/ai_font/data/exp0717/train_seg/raw_assembled\", train=False)\n",
    "testdl = DataLoader(testds, batch_size=32, shuffle=False)"
   ]
  },
  {
   "cell_type": "code",
   "execution_count": 6,
   "id": "5a6ce6ef-b737-42d0-b09f-67b4532d2c61",
   "metadata": {
    "tags": []
   },
   "outputs": [],
   "source": [
    "model = deeplab(weights_backbone=\"DEFAULT\", num_classes=4)\n",
    "model = model.cuda()"
   ]
  },
  {
   "cell_type": "code",
   "execution_count": 7,
   "id": "3d317592-e02b-4245-93db-25739bc6589a",
   "metadata": {
    "tags": []
   },
   "outputs": [],
   "source": [
    "criterion = nn.CrossEntropyLoss()\n",
    "optimizer = optim.Adam(model.parameters(), lr=1e-4)"
   ]
  },
  {
   "cell_type": "code",
   "execution_count": 8,
   "id": "b1eb4a77-f78d-4917-8c24-37cb19cd708d",
   "metadata": {
    "tags": []
   },
   "outputs": [],
   "source": [
    "epoch = 100"
   ]
  },
  {
   "cell_type": "code",
   "execution_count": null,
   "id": "f8226450-c8af-48f1-9ec6-f5f4fe9d40c6",
   "metadata": {
    "tags": []
   },
   "outputs": [
    {
     "name": "stderr",
     "output_type": "stream",
     "text": [
      "  1%|          | 1/100 [17:18<28:33:22, 1038.41s/it, test=10/11]"
     ]
    },
    {
     "name": "stdout",
     "output_type": "stream",
     "text": [
      "0: 97.45128085344425 / 98.91342520713806\n"
     ]
    },
    {
     "name": "stderr",
     "output_type": "stream",
     "text": [
      "  2%|▏         | 2/100 [34:20<28:00:17, 1028.75s/it, test=10/11]     "
     ]
    },
    {
     "name": "stdout",
     "output_type": "stream",
     "text": [
      "1: 99.07898655550316 / 99.15885979479009\n"
     ]
    },
    {
     "name": "stderr",
     "output_type": "stream",
     "text": [
      "  3%|▎         | 3/100 [51:41<27:52:22, 1034.46s/it, test=10/11]     "
     ]
    },
    {
     "name": "stdout",
     "output_type": "stream",
     "text": [
      "2: 99.25512999241101 / 99.24615784124894\n"
     ]
    },
    {
     "name": "stderr",
     "output_type": "stream",
     "text": [
      "  4%|▍         | 4/100 [1:09:04<27:40:22, 1037.74s/it, test=10/11]     "
     ]
    },
    {
     "name": "stdout",
     "output_type": "stream",
     "text": [
      "3: 99.3292336983954 / 99.37049150466919\n"
     ]
    },
    {
     "name": "stderr",
     "output_type": "stream",
     "text": [
      "  5%|▌         | 5/100 [1:26:28<27:26:29, 1039.89s/it, test=10/11]     "
     ]
    },
    {
     "name": "stdout",
     "output_type": "stream",
     "text": [
      "4: 99.36787898681521 / 99.39074353738265\n"
     ]
    },
    {
     "name": "stderr",
     "output_type": "stream",
     "text": [
      "  6%|▌         | 6/100 [1:43:47<27:09:07, 1039.87s/it, test=10/11]     "
     ]
    },
    {
     "name": "stdout",
     "output_type": "stream",
     "text": [
      "5: 99.38742787802727 / 99.3605527010831\n"
     ]
    },
    {
     "name": "stderr",
     "output_type": "stream",
     "text": [
      "  7%|▋         | 7/100 [2:01:09<26:52:29, 1040.32s/it, test=10/11]     "
     ]
    },
    {
     "name": "stdout",
     "output_type": "stream",
     "text": [
      "6: 99.41379938019843 / 99.41582408818331\n"
     ]
    },
    {
     "name": "stderr",
     "output_type": "stream",
     "text": [
      "  8%|▊         | 8/100 [2:18:18<26:29:57, 1036.93s/it, test=10/11]     "
     ]
    },
    {
     "name": "stdout",
     "output_type": "stream",
     "text": [
      "7: 99.4274049226105 / 99.43248521197926\n"
     ]
    },
    {
     "name": "stderr",
     "output_type": "stream",
     "text": [
      "  9%|▉         | 9/100 [2:35:42<26:15:43, 1038.94s/it, test=10/11]     "
     ]
    },
    {
     "name": "stdout",
     "output_type": "stream",
     "text": [
      "8: 99.43993269515786 / 99.44910623810507\n"
     ]
    },
    {
     "name": "stderr",
     "output_type": "stream",
     "text": [
      " 10%|█         | 10/100 [2:53:07<26:01:13, 1040.82s/it, test=10/11]    "
     ]
    },
    {
     "name": "stdout",
     "output_type": "stream",
     "text": [
      "9: 99.44969801827853 / 99.40828084945679\n"
     ]
    },
    {
     "name": "stderr",
     "output_type": "stream",
     "text": [
      " 11%|█         | 11/100 [3:10:28<25:44:12, 1041.04s/it, test=10/11]     "
     ]
    },
    {
     "name": "stdout",
     "output_type": "stream",
     "text": [
      "10: 99.45268388596568 / 99.46125420657071\n"
     ]
    },
    {
     "name": "stderr",
     "output_type": "stream",
     "text": [
      " 12%|█▏        | 12/100 [3:27:50<25:26:56, 1041.09s/it, test=10/11]     "
     ]
    },
    {
     "name": "stdout",
     "output_type": "stream",
     "text": [
      "11: 99.46574737316139 / 99.46190443905917\n"
     ]
    },
    {
     "name": "stderr",
     "output_type": "stream",
     "text": [
      " 13%|█▎        | 13/100 [3:45:12<25:10:11, 1041.51s/it, test=10/11]     "
     ]
    },
    {
     "name": "stdout",
     "output_type": "stream",
     "text": [
      "12: 99.46962547610735 / 99.46669990366155\n"
     ]
    },
    {
     "name": "stderr",
     "output_type": "stream",
     "text": [
      " 14%|█▍        | 14/100 [4:02:21<24:47:24, 1037.73s/it, test=10/11]     "
     ]
    },
    {
     "name": "stdout",
     "output_type": "stream",
     "text": [
      "13: 99.47404819583717 / 99.48311285539107\n"
     ]
    },
    {
     "name": "stderr",
     "output_type": "stream",
     "text": [
      " 15%|█▌        | 15/100 [4:19:33<24:27:45, 1036.06s/it, test=10/11]     "
     ]
    },
    {
     "name": "stdout",
     "output_type": "stream",
     "text": [
      "14: 99.4738831482621 / 99.48139624162154\n"
     ]
    },
    {
     "name": "stderr",
     "output_type": "stream",
     "text": [
      " 16%|█▌        | 16/100 [4:36:54<24:12:40, 1037.62s/it, test=10/11]     "
     ]
    },
    {
     "name": "stdout",
     "output_type": "stream",
     "text": [
      "15: 99.48386393501225 / 99.48683814568953\n"
     ]
    },
    {
     "name": "stderr",
     "output_type": "stream",
     "text": [
      " 17%|█▋        | 17/100 [4:54:18<23:57:48, 1039.37s/it, test=10/11]     "
     ]
    },
    {
     "name": "stdout",
     "output_type": "stream",
     "text": [
      "16: 99.48685778487412 / 99.37734983184122\n"
     ]
    },
    {
     "name": "stderr",
     "output_type": "stream",
     "text": [
      " 18%|█▊        | 18/100 [5:11:40<23:41:28, 1040.11s/it, test=10/11]     "
     ]
    },
    {
     "name": "stdout",
     "output_type": "stream",
     "text": [
      "17: 99.48904569951091 / 99.46140105074102\n"
     ]
    },
    {
     "name": "stderr",
     "output_type": "stream",
     "text": [
      " 19%|█▉        | 19/100 [5:28:40<23:16:04, 1034.13s/it, test=10/11]     "
     ]
    },
    {
     "name": "stdout",
     "output_type": "stream",
     "text": [
      "18: 99.49352541273932 / 99.49077692898837\n"
     ]
    },
    {
     "name": "stderr",
     "output_type": "stream",
     "text": [
      " 20%|██        | 20/100 [5:45:55<22:59:04, 1034.31s/it, test=10/11]     "
     ]
    },
    {
     "name": "stdout",
     "output_type": "stream",
     "text": [
      "19: 99.49659765758268 / 99.45984970439564\n"
     ]
    },
    {
     "name": "stderr",
     "output_type": "stream",
     "text": [
      " 21%|██        | 21/100 [6:03:08<22:41:34, 1034.11s/it, test=10/11]     "
     ]
    },
    {
     "name": "stdout",
     "output_type": "stream",
     "text": [
      "20: 99.49877135414293 / 99.46082505312833\n"
     ]
    },
    {
     "name": "stderr",
     "output_type": "stream",
     "text": [
      " 22%|██▏       | 22/100 [6:20:37<22:29:52, 1038.36s/it, test=10/11]     "
     ]
    },
    {
     "name": "stdout",
     "output_type": "stream",
     "text": [
      "21: 99.48884546756744 / 99.49671084230596\n"
     ]
    },
    {
     "name": "stderr",
     "output_type": "stream",
     "text": [
      " 23%|██▎       | 23/100 [6:38:00<22:14:30, 1039.87s/it, test=10/11]     "
     ]
    },
    {
     "name": "stdout",
     "output_type": "stream",
     "text": [
      "22: 99.50160736737983 / 99.50143532319503\n"
     ]
    },
    {
     "name": "stderr",
     "output_type": "stream",
     "text": [
      " 24%|██▍       | 24/100 [6:55:22<21:57:49, 1040.39s/it, test=10/11]     "
     ]
    },
    {
     "name": "stdout",
     "output_type": "stream",
     "text": [
      "23: 99.50402942029915 / 99.47370995174755\n"
     ]
    },
    {
     "name": "stderr",
     "output_type": "stream",
     "text": [
      " 25%|██▌       | 25/100 [7:12:21<21:32:44, 1034.19s/it, test=10/11]     "
     ]
    },
    {
     "name": "stdout",
     "output_type": "stream",
     "text": [
      "24: 99.5058732916379 / 99.51123053377324\n"
     ]
    },
    {
     "name": "stderr",
     "output_type": "stream",
     "text": [
      " 26%|██▌       | 26/100 [7:29:45<21:19:05, 1037.10s/it, test=10/11]     "
     ]
    },
    {
     "name": "stdout",
     "output_type": "stream",
     "text": [
      "25: 99.50754917373058 / 99.49896173043685\n"
     ]
    },
    {
     "name": "stderr",
     "output_type": "stream",
     "text": [
      " 27%|██▋       | 27/100 [7:46:56<20:59:39, 1035.33s/it, test=10/11]     "
     ]
    },
    {
     "name": "stdout",
     "output_type": "stream",
     "text": [
      "26: 99.50337945974248 / 99.47669343514876\n"
     ]
    },
    {
     "name": "stderr",
     "output_type": "stream",
     "text": [
      " 28%|██▊       | 28/100 [8:04:18<20:44:43, 1037.27s/it, test=10/11]     "
     ]
    },
    {
     "name": "stdout",
     "output_type": "stream",
     "text": [
      "27: 99.50600363410555 / 99.51139146631414\n"
     ]
    },
    {
     "name": "stderr",
     "output_type": "stream",
     "text": [
      " 29%|██▉       | 29/100 [8:21:18<20:21:23, 1032.16s/it, test=10/11]     "
     ]
    },
    {
     "name": "stdout",
     "output_type": "stream",
     "text": [
      "28: 99.51024078617695 / 99.50415275313638\n"
     ]
    },
    {
     "name": "stderr",
     "output_type": "stream",
     "text": [
      " 30%|███       | 30/100 [8:38:40<20:07:29, 1035.00s/it, test=10/11]     "
     ]
    },
    {
     "name": "stdout",
     "output_type": "stream",
     "text": [
      "29: 99.51179975061892 / 99.50035160238093\n"
     ]
    },
    {
     "name": "stderr",
     "output_type": "stream",
     "text": [
      " 31%|███       | 31/100 [8:55:57<19:50:59, 1035.65s/it, test=10/11]     "
     ]
    },
    {
     "name": "stdout",
     "output_type": "stream",
     "text": [
      "30: 99.51336887319074 / 99.49642799117349\n"
     ]
    },
    {
     "name": "stderr",
     "output_type": "stream",
     "text": [
      " 32%|███▏      | 32/100 [9:13:18<19:35:27, 1037.17s/it, test=10/11]     "
     ]
    },
    {
     "name": "stdout",
     "output_type": "stream",
     "text": [
      "31: 99.51448404194026 / 99.49423399838534\n"
     ]
    },
    {
     "name": "stderr",
     "output_type": "stream",
     "text": [
      " 33%|███▎      | 33/100 [9:30:40<19:19:45, 1038.59s/it, test=10/11]     "
     ]
    },
    {
     "name": "stdout",
     "output_type": "stream",
     "text": [
      "32: 99.51529737541283 / 99.45346008647572\n"
     ]
    },
    {
     "name": "stderr",
     "output_type": "stream",
     "text": [
      " 34%|███▍      | 34/100 [9:47:48<18:59:10, 1035.62s/it, test=10/11]     "
     ]
    },
    {
     "name": "stdout",
     "output_type": "stream",
     "text": [
      "33: 99.51308466590487 / 99.50170300223611\n"
     ]
    },
    {
     "name": "stderr",
     "output_type": "stream",
     "text": [
      " 35%|███▌      | 35/100 [10:04:48<18:36:50, 1030.93s/it, test=10/11]     "
     ]
    },
    {
     "name": "stdout",
     "output_type": "stream",
     "text": [
      "34: 99.51746587722447 / 99.49666370045055\n"
     ]
    },
    {
     "name": "stderr",
     "output_type": "stream",
     "text": [
      " 36%|███▌      | 36/100 [10:21:49<18:16:14, 1027.73s/it, test=10/11]     "
     ]
    },
    {
     "name": "stdout",
     "output_type": "stream",
     "text": [
      "35: 99.51766900126022 / 99.48758645491166\n"
     ]
    },
    {
     "name": "stderr",
     "output_type": "stream",
     "text": [
      " 37%|███▋      | 37/100 [10:38:53<17:58:04, 1026.73s/it, test=10/11]     "
     ]
    },
    {
     "name": "stdout",
     "output_type": "stream",
     "text": [
      "36: 99.5193828551474 / 99.4960297237743\n"
     ]
    },
    {
     "name": "stderr",
     "output_type": "stream",
     "text": [
      " 38%|███▊      | 38/100 [10:56:16<17:45:59, 1031.61s/it, test=10/11]     "
     ]
    },
    {
     "name": "stdout",
     "output_type": "stream",
     "text": [
      "37: 99.52006737758404 / 99.50844103639776\n"
     ]
    },
    {
     "name": "stderr",
     "output_type": "stream",
     "text": [
      " 41%|████      | 41/100 [11:48:23<17:01:27, 1038.78s/it, test=10/11]     "
     ]
    },
    {
     "name": "stdout",
     "output_type": "stream",
     "text": [
      "40: 99.51406107482099 / 99.46367740631104\n"
     ]
    },
    {
     "name": "stderr",
     "output_type": "stream",
     "text": [
      " 42%|████▏     | 42/100 [12:05:48<16:45:58, 1040.67s/it, test=10/11]     "
     ]
    },
    {
     "name": "stdout",
     "output_type": "stream",
     "text": [
      "41: 99.52018746827314 / 99.51043562455611\n"
     ]
    },
    {
     "name": "stderr",
     "output_type": "stream",
     "text": [
      " 43%|████▎     | 43/100 [12:23:10<16:28:49, 1040.87s/it, test=10/11]     "
     ]
    },
    {
     "name": "stdout",
     "output_type": "stream",
     "text": [
      "42: 99.52172613849041 / 99.51757409355857\n"
     ]
    },
    {
     "name": "stderr",
     "output_type": "stream",
     "text": [
      " 44%|████▍     | 44/100 [12:40:31<16:11:35, 1040.99s/it, test=10/11]     "
     ]
    },
    {
     "name": "stdout",
     "output_type": "stream",
     "text": [
      "43: 99.52133110071948 / 99.51706962151961\n"
     ]
    },
    {
     "name": "stderr",
     "output_type": "stream",
     "text": [
      " 45%|████▌     | 45/100 [12:57:51<15:53:57, 1040.68s/it, test=10/11]     "
     ]
    },
    {
     "name": "stdout",
     "output_type": "stream",
     "text": [
      "44: 99.52507420079765 / 99.49387907981873\n"
     ]
    },
    {
     "name": "stderr",
     "output_type": "stream",
     "text": [
      " 46%|████▌     | 46/100 [13:15:10<15:36:08, 1040.16s/it, test=10/11]     "
     ]
    },
    {
     "name": "stdout",
     "output_type": "stream",
     "text": [
      "45: 99.52546611510893 / 99.46998357772827\n"
     ]
    },
    {
     "name": "stderr",
     "output_type": "stream",
     "text": [
      " 47%|████▋     | 47/100 [13:32:19<15:15:46, 1036.72s/it, test=10/11]     "
     ]
    },
    {
     "name": "stdout",
     "output_type": "stream",
     "text": [
      "46: 99.52580290889564 / 99.43283904682507\n"
     ]
    },
    {
     "name": "stderr",
     "output_type": "stream",
     "text": [
      " 48%|████▊     | 48/100 [13:49:29<14:56:54, 1034.89s/it, test=10/11]     "
     ]
    },
    {
     "name": "stdout",
     "output_type": "stream",
     "text": [
      "47: 99.52707739061437 / 99.43259520964189\n"
     ]
    },
    {
     "name": "stderr",
     "output_type": "stream",
     "text": [
      " 49%|████▉     | 49/100 [14:06:50<14:41:14, 1036.76s/it, test=10/11]     "
     ]
    },
    {
     "name": "stdout",
     "output_type": "stream",
     "text": [
      "48: 99.52690529735163 / 99.45306452837858\n"
     ]
    },
    {
     "name": "stderr",
     "output_type": "stream",
     "text": [
      " 50%|█████     | 50/100 [14:24:10<14:24:43, 1037.67s/it, test=10/11]     "
     ]
    },
    {
     "name": "stdout",
     "output_type": "stream",
     "text": [
      "49: 99.52830711376204 / 99.51196258718318\n"
     ]
    },
    {
     "name": "stderr",
     "output_type": "stream",
     "text": [
      " 51%|█████     | 51/100 [14:41:26<14:07:06, 1037.28s/it, test=10/11]     "
     ]
    },
    {
     "name": "stdout",
     "output_type": "stream",
     "text": [
      "50: 99.5286413680163 / 99.49113130569458\n"
     ]
    },
    {
     "name": "stderr",
     "output_type": "stream",
     "text": [
      " 52%|█████▏    | 52/100 [14:58:45<13:50:07, 1037.65s/it, test=10/11]     "
     ]
    },
    {
     "name": "stdout",
     "output_type": "stream",
     "text": [
      "51: 99.52913857652167 / 99.50723919001493\n"
     ]
    },
    {
     "name": "stderr",
     "output_type": "stream",
     "text": [
      " 53%|█████▎    | 53/100 [15:15:58<13:31:46, 1036.31s/it, test=10/11]     "
     ]
    },
    {
     "name": "stdout",
     "output_type": "stream",
     "text": [
      "52: 99.52947923744892 / 99.5022638277574\n"
     ]
    },
    {
     "name": "stderr",
     "output_type": "stream",
     "text": [
      " 54%|█████▍    | 54/100 [15:33:16<13:14:53, 1036.82s/it, test=10/11]     "
     ]
    },
    {
     "name": "stdout",
     "output_type": "stream",
     "text": [
      "53: 99.52281024892316 / 99.50450442054056\n"
     ]
    },
    {
     "name": "stderr",
     "output_type": "stream",
     "text": [
      " 55%|█████▌    | 55/100 [15:50:38<12:58:40, 1038.24s/it, test=10/11]     "
     ]
    },
    {
     "name": "stdout",
     "output_type": "stream",
     "text": [
      "54: 99.52946056830464 / 99.52128963036971\n"
     ]
    },
    {
     "name": "stderr",
     "output_type": "stream",
     "text": [
      " 56%|█████▌    | 56/100 [16:07:35<12:36:42, 1031.88s/it, test=10/11]     "
     ]
    },
    {
     "name": "stdout",
     "output_type": "stream",
     "text": [
      "55: 99.531194292243 / 99.42349032922225\n"
     ]
    },
    {
     "name": "stderr",
     "output_type": "stream",
     "text": [
      " 57%|█████▋    | 57/100 [16:24:32<12:16:20, 1027.45s/it, test=10/11]     "
     ]
    },
    {
     "name": "stdout",
     "output_type": "stream",
     "text": [
      "56: 99.52703748524961 / 99.50162389061667\n"
     ]
    },
    {
     "name": "stderr",
     "output_type": "stream",
     "text": [
      " 58%|█████▊    | 58/100 [16:41:50<12:01:24, 1030.59s/it, test=10/11]     "
     ]
    },
    {
     "name": "stdout",
     "output_type": "stream",
     "text": [
      "57: 99.530837347459 / 99.48106679049405\n"
     ]
    },
    {
     "name": "stderr",
     "output_type": "stream",
     "text": [
      " 59%|█████▉    | 59/100 [16:59:08<11:45:54, 1033.03s/it, test=10/11]     "
     ]
    },
    {
     "name": "stdout",
     "output_type": "stream",
     "text": [
      "58: 99.53208453333532 / 99.5209590955214\n"
     ]
    },
    {
     "name": "stderr",
     "output_type": "stream",
     "text": [
      " 60%|██████    | 60/100 [17:16:27<11:29:51, 1034.78s/it, test=10/11]     "
     ]
    },
    {
     "name": "stdout",
     "output_type": "stream",
     "text": [
      "59: 99.53245953579267 / 99.52196045355363\n"
     ]
    },
    {
     "name": "stderr",
     "output_type": "stream",
     "text": [
      " 61%|██████    | 61/100 [17:34:03<11:16:40, 1041.03s/it, test=10/11]     "
     ]
    },
    {
     "name": "stdout",
     "output_type": "stream",
     "text": [
      "60: 99.53274478423177 / 99.51523488218135\n"
     ]
    },
    {
     "name": "stderr",
     "output_type": "stream",
     "text": [
      " 62%|██████▏   | 62/100 [17:51:20<10:58:37, 1039.94s/it, test=10/11]     "
     ]
    },
    {
     "name": "stdout",
     "output_type": "stream",
     "text": [
      "61: 99.53281348932693 / 99.48879046873613\n"
     ]
    },
    {
     "name": "stderr",
     "output_type": "stream",
     "text": [
      " 63%|██████▎   | 63/100 [18:08:17<10:37:02, 1033.04s/it, test=10/11]     "
     ]
    },
    {
     "name": "stdout",
     "output_type": "stream",
     "text": [
      "62: 99.53043961591068 / 99.50822537595576\n"
     ]
    },
    {
     "name": "stderr",
     "output_type": "stream",
     "text": [
      " 74%|███████▍  | 74/100 [21:17:47<7:27:36, 1032.96s/it, test=10/11]     "
     ]
    },
    {
     "name": "stdout",
     "output_type": "stream",
     "text": [
      "73: 99.53201231365944 / 99.40469156612049\n"
     ]
    },
    {
     "name": "stderr",
     "output_type": "stream",
     "text": [
      " 75%|███████▌  | 75/100 [21:35:05<7:11:07, 1034.72s/it, test=10/11]     "
     ]
    },
    {
     "name": "stdout",
     "output_type": "stream",
     "text": [
      "74: 99.53760905759391 / 99.44701248949224\n"
     ]
    },
    {
     "name": "stderr",
     "output_type": "stream",
     "text": [
      " 77%|███████▋  | 77/100 [22:09:47<6:37:49, 1037.79s/it, test=10/11]     "
     ]
    },
    {
     "name": "stdout",
     "output_type": "stream",
     "text": [
      "76: 99.53744548636311 / 99.14368391036987\n"
     ]
    },
    {
     "name": "stderr",
     "output_type": "stream",
     "text": [
      " 77%|███████▋  | 77/100 [22:20:10<6:37:49, 1037.79s/it, train=651/1082]"
     ]
    }
   ],
   "source": [
    "pbar = tqdm(range(epoch))\n",
    "for i in pbar:\n",
    "    train_acc = []\n",
    "    test_acc = []\n",
    "    model.train()\n",
    "    for j, data in enumerate(dl):\n",
    "        optimizer.zero_grad()\n",
    "        x, y = data\n",
    "        x = x.cuda()\n",
    "        y = y.cuda()\n",
    "        pred = model(x)\n",
    "        loss = criterion(pred['out'], y)\n",
    "        loss.backward()\n",
    "        optimizer.step()\n",
    "        train_acc.append(calculate_accuracy(pred['out'], y))\n",
    "        pbar.set_postfix(train=f\"{j}/{len(dl)}\")\n",
    "    model.eval()\n",
    "    for j, data in enumerate(testdl):\n",
    "        x, y = data\n",
    "        x = x.cuda()\n",
    "        y = y.cuda()\n",
    "        pred = model(x)\n",
    "        test_acc.append(calculate_accuracy(pred['out'], y))\n",
    "        pbar.set_postfix(test=f\"{j}/{len(testdl)}\")\n",
    "    print(f\"{i}: {np.mean(train_acc)} / {np.mean(test_acc)}\")\n",
    "    torch.save(model.state_dict(), f\"model_{i}.pth\")"
   ]
  }
 ],
 "metadata": {
  "environment": {
   "kernel": "conda-env-pytorch-pytorch",
   "name": "workbench-notebooks.m123",
   "type": "gcloud",
   "uri": "us-docker.pkg.dev/deeplearning-platform-release/gcr.io/workbench-notebooks:m123"
  },
  "kernelspec": {
   "display_name": "PyTorch 1-13 (Local)",
   "language": "python",
   "name": "conda-env-pytorch-pytorch"
  },
  "language_info": {
   "codemirror_mode": {
    "name": "ipython",
    "version": 3
   },
   "file_extension": ".py",
   "mimetype": "text/x-python",
   "name": "python",
   "nbconvert_exporter": "python",
   "pygments_lexer": "ipython3",
   "version": "3.10.14"
  }
 },
 "nbformat": 4,
 "nbformat_minor": 5
}
