{
 "cells": [
  {
   "cell_type": "code",
   "execution_count": 24,
   "id": "bd4e8911-bd06-42fb-9716-1bc84bb4be18",
   "metadata": {
    "tags": []
   },
   "outputs": [],
   "source": [
    "import numpy as np\n",
    "from tqdm import tqdm\n",
    "import torch\n",
    "import torch.nn as nn\n",
    "import torch.optim as optim\n",
    "from torch.utils.data import DataLoader, Dataset\n",
    "from torchvision import models, transforms\n",
    "from PIL import Image\n",
    "import os\n",
    "import copy\n",
    "from torchvision.models.segmentation import deeplabv3_mobilenet_v3_large as deeplab"
   ]
  },
  {
   "cell_type": "code",
   "execution_count": 7,
   "id": "2862eab9-16b4-4d97-97a9-4da3643d7da6",
   "metadata": {
    "tags": []
   },
   "outputs": [],
   "source": [
    "class myDS(Dataset):\n",
    "    def __init__(self, fd):\n",
    "        self.path_list = []\n",
    "        for root, dirs, files in os.walk(fd):\n",
    "            for file in files:\n",
    "                if file.endswith('.png') & (\"checkpoint\" not in file):\n",
    "                    image_path = os.path.join(root, file)\n",
    "                    self.path_list.append(image_path)\n",
    "        self.transforms = transforms.Compose([\n",
    "                transforms.Resize(520),\n",
    "                transforms.ToTensor(),  # Rescales to [0.0, 1.0]\n",
    "                transforms.Normalize(mean=[0.485, 0.456, 0.406], std=[0.229, 0.224, 0.225])\n",
    "            ])\n",
    "    \n",
    "    def __len__(self):\n",
    "        return len(self.path_list)\n",
    "    \n",
    "    def __getitem__(self, idx):\n",
    "        image_path = self.path_list[idx]\n",
    "        image = Image.open(image_path).convert(\"RGB\")\n",
    "        \n",
    "        return np.array(image), self.transforms(image)"
   ]
  },
  {
   "cell_type": "code",
   "execution_count": 26,
   "id": "227d26fa-304b-47be-94d6-c7377c64a28b",
   "metadata": {
    "tags": []
   },
   "outputs": [],
   "source": [
    "model = deeplab(num_classes=4)\n",
    "model.load_state_dict(torch.load(\"model_99.pth\"))\n",
    "model = model.cuda()"
   ]
  },
  {
   "cell_type": "code",
   "execution_count": 27,
   "id": "71f899c4-df22-46b8-933d-40908a286e8b",
   "metadata": {
    "tags": []
   },
   "outputs": [],
   "source": [
    "ds = myDS(\"/home/jupyter/ai_font/data/exp0717/train_whole\")\n",
    "dl = DataLoader(ds, batch_size=32, shuffle=True)\n",
    "pred_transforms = transforms.Resize(128)"
   ]
  },
  {
   "cell_type": "code",
   "execution_count": 28,
   "id": "30068249-12f5-4db5-aeed-0567f74a37d8",
   "metadata": {
    "tags": []
   },
   "outputs": [],
   "source": [
    "model.eval()\n",
    "for j, data in enumerate(dl):\n",
    "    imgs, x = data\n",
    "    x = x.cuda()\n",
    "    pred = model(x)\n",
    "    mask = torch.argmax(pred_transforms(pred['out']),axis=1)\n",
    "    for k, img in enumerate(imgs):\n",
    "        for l in [1,2,3]:\n",
    "            npimg = copy.deepcopy(img.detach().cpu().numpy())\n",
    "            npimg[np.where(mask[k].detach().cpu().numpy()!=l)] = 255\n",
    "            Image.fromarray(npimg).save(f\"test_{j}_{k}_{l}.png\")\n",
    "    break"
   ]
  },
  {
   "cell_type": "code",
   "execution_count": 22,
   "id": "4b77893e-df11-4bc6-a04e-9835840375fc",
   "metadata": {
    "tags": []
   },
   "outputs": [
    {
     "data": {
      "text/plain": [
       "array([[[255, 255, 255],\n",
       "        [255, 255, 255],\n",
       "        [255, 255, 255],\n",
       "        ...,\n",
       "        [255, 255, 255],\n",
       "        [255, 255, 255],\n",
       "        [255, 255, 255]],\n",
       "\n",
       "       [[255, 255, 255],\n",
       "        [255, 255, 255],\n",
       "        [255, 255, 255],\n",
       "        ...,\n",
       "        [255, 255, 255],\n",
       "        [255, 255, 255],\n",
       "        [255, 255, 255]],\n",
       "\n",
       "       [[255, 255, 255],\n",
       "        [255, 255, 255],\n",
       "        [255, 255, 255],\n",
       "        ...,\n",
       "        [255, 255, 255],\n",
       "        [255, 255, 255],\n",
       "        [255, 255, 255]],\n",
       "\n",
       "       ...,\n",
       "\n",
       "       [[255, 255, 255],\n",
       "        [255, 255, 255],\n",
       "        [255, 255, 255],\n",
       "        ...,\n",
       "        [255, 255, 255],\n",
       "        [255, 255, 255],\n",
       "        [255, 255, 255]],\n",
       "\n",
       "       [[255, 255, 255],\n",
       "        [255, 255, 255],\n",
       "        [255, 255, 255],\n",
       "        ...,\n",
       "        [255, 255, 255],\n",
       "        [255, 255, 255],\n",
       "        [255, 255, 255]],\n",
       "\n",
       "       [[255, 255, 255],\n",
       "        [255, 255, 255],\n",
       "        [255, 255, 255],\n",
       "        ...,\n",
       "        [255, 255, 255],\n",
       "        [255, 255, 255],\n",
       "        [255, 255, 255]]], dtype=uint8)"
      ]
     },
     "execution_count": 22,
     "metadata": {},
     "output_type": "execute_result"
    }
   ],
   "source": [
    "npimg"
   ]
  },
  {
   "cell_type": "code",
   "execution_count": null,
   "id": "a903af12-6ea6-4e22-b421-227fe42ced0b",
   "metadata": {},
   "outputs": [],
   "source": []
  }
 ],
 "metadata": {
  "environment": {
   "kernel": "conda-env-pytorch-pytorch",
   "name": "workbench-notebooks.m123",
   "type": "gcloud",
   "uri": "us-docker.pkg.dev/deeplearning-platform-release/gcr.io/workbench-notebooks:m123"
  },
  "kernelspec": {
   "display_name": "PyTorch 1-13 (Local)",
   "language": "python",
   "name": "conda-env-pytorch-pytorch"
  },
  "language_info": {
   "codemirror_mode": {
    "name": "ipython",
    "version": 3
   },
   "file_extension": ".py",
   "mimetype": "text/x-python",
   "name": "python",
   "nbconvert_exporter": "python",
   "pygments_lexer": "ipython3",
   "version": "3.10.14"
  }
 },
 "nbformat": 4,
 "nbformat_minor": 5
}
