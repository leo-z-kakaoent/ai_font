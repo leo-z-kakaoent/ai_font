{
 "cells": [
  {
   "cell_type": "code",
   "execution_count": 9,
   "id": "194acdda-4ca2-4b14-a636-aaed2a87d6db",
   "metadata": {
    "tags": []
   },
   "outputs": [],
   "source": [
    "import os\n",
    "import random\n",
    "from PIL import Image\n",
    "\n",
    "import numpy as np\n",
    "import pandas as pd\n",
    "import torch\n",
    "from tqdm import tqdm\n",
    "from torch.utils.data import Dataset, DataLoader\n",
    "import torchvision.transforms as transforms\n",
    "\n",
    "from scr import SCR"
   ]
  },
  {
   "cell_type": "code",
   "execution_count": 10,
   "id": "d51d3a8d-0db6-4f54-a4c7-bc17efb69826",
   "metadata": {
    "tags": []
   },
   "outputs": [],
   "source": [
    "# Sample, Positive, Negative. By Style\n",
    "class SCRDataset(Dataset):\n",
    "\n",
    "    def __init__(self, path, num_neg=4):\n",
    "        super().__init__()\n",
    "        self.path = path\n",
    "        self.resolution = 96 # default\n",
    "        self.num_neg = num_neg\n",
    "        self.all_files = [path+\"pngs/\"+f for f in os.listdir(path+\"pngs/\") if \".png\" in f]\n",
    "        self.all_korean_letters = pd.read_parquet(path+\"all_korean.parquet\")\n",
    "        self.transform = transforms.Compose([\n",
    "            transforms.ToTensor(),\n",
    "            transforms.Normalize([0.5], [0.5])\n",
    "        ])\n",
    "        \n",
    "    def __len__(self):\n",
    "        return len(self.all_files)\n",
    "        \n",
    "    def __getitem__(self, index):\n",
    "        sample_img_path = self.all_files[index]\n",
    "        sample_img_name = sample_img_path.replace(\".png\",\"\").split('__')\n",
    "        style = sample_img_name[0]\n",
    "        \n",
    "        pos_img_paths = [f for f in self.all_files if (style in f) & (sample_img_path != f)]\n",
    "        pos_img_path = random.choice(pos_img_paths)\n",
    "        \n",
    "        sample_img = self.transform(Image.open(sample_img_path).convert(\"RGB\"))\n",
    "        pos_img = self.transform(Image.open(pos_img_path).convert(\"RGB\"))\n",
    "        \n",
    "        neg_imgs = []\n",
    "        neg_img_paths = [f for f in self.all_files if (style not in f) & (\"__%s\"%sample_img_name[1] in f)]\n",
    "        for _ in range(self.num_neg):\n",
    "            neg_img_path = random.choice(neg_img_paths)\n",
    "            neg_imgs.append(self.transform(Image.open(neg_img_path).convert(\"RGB\")))\n",
    "        \n",
    "        # sample_img = Image.open(sample_img_path).convert(\"RGB\")\n",
    "        # pos_img = Image.open(pos_img_path).convert(\"RGB\")\n",
    "        # neg_img = Image.open(neg_img_path).convert(\"RGB\")\n",
    "        \n",
    "        return sample_img, pos_img, torch.stack(neg_imgs)"
   ]
  },
  {
   "cell_type": "code",
   "execution_count": 11,
   "id": "11aa84a9-240f-4dd1-8e4d-e7816d86ca20",
   "metadata": {},
   "outputs": [],
   "source": [
    "scr_ds = SCRDataset(path=\"data/r40202/\")\n",
    "scr_dl = DataLoader(scr_ds, shuffle=True, batch_size=64, num_workers=4)"
   ]
  },
  {
   "cell_type": "code",
   "execution_count": 12,
   "id": "f748e218-1e7f-4495-8c04-212732a4223f",
   "metadata": {
    "tags": []
   },
   "outputs": [],
   "source": [
    "scr_model = SCR()\n",
    "scr_model = scr_model.cuda()"
   ]
  },
  {
   "cell_type": "code",
   "execution_count": 13,
   "id": "d8cbb467-a405-4e41-affb-09d3d4f38de0",
   "metadata": {
    "tags": []
   },
   "outputs": [],
   "source": [
    "optimizer = torch.optim.AdamW(scr_model.parameters(), lr=1e-5)"
   ]
  },
  {
   "cell_type": "code",
   "execution_count": 14,
   "id": "09e2dc57-9558-4564-ade0-b53a02665480",
   "metadata": {
    "tags": []
   },
   "outputs": [],
   "source": [
    "epoch = 100\n",
    "save_fd = \"data/m40208/\""
   ]
  },
  {
   "cell_type": "code",
   "execution_count": null,
   "id": "479a3f36-36a3-4267-ba07-2b945b0a70e5",
   "metadata": {
    "tags": []
   },
   "outputs": [
    {
     "name": "stderr",
     "output_type": "stream",
     "text": [
      "100%|██████████| 6120/6120 [4:49:11<00:00,  2.84s/it, loss=0.4377722]   \n",
      "100%|██████████| 6120/6120 [4:49:48<00:00,  2.84s/it, loss=0.22436742]  \n",
      "100%|██████████| 6120/6120 [4:49:16<00:00,  2.84s/it, loss=0.18030268]  \n",
      "100%|██████████| 6120/6120 [4:49:27<00:00,  2.84s/it, loss=0.15468487]  \n",
      "100%|██████████| 6120/6120 [4:49:55<00:00,  2.84s/it, loss=0.13797173]  \n",
      "100%|██████████| 6120/6120 [4:49:05<00:00,  2.83s/it, loss=0.09838931]   \n",
      "100%|██████████| 6120/6120 [4:51:41<00:00,  2.86s/it, loss=0.09375409]   \n",
      " 72%|███████▏  | 4390/6120 [3:31:33<1:52:29,  3.90s/it, loss=0.09295759] "
     ]
    }
   ],
   "source": [
    "lossdicts = []\n",
    "for epoch_i in range(epoch):\n",
    "    pbar = tqdm(scr_dl)\n",
    "    losses = []\n",
    "    for x in pbar:\n",
    "        optimizer.zero_grad()\n",
    "\n",
    "        sample_img, pos_img, neg_imgs = x\n",
    "        sample_emb, pos_emb, neg_emb = scr_model(sample_img.cuda(), pos_img.cuda(), neg_imgs.cuda())\n",
    "        loss = scr_model.calculate_nce_loss(sample_emb, pos_emb, neg_emb)\n",
    "\n",
    "        loss.backward()\n",
    "        optimizer.step()\n",
    "        losses.append(loss.detach().cpu().numpy())\n",
    "        pbar.set_postfix(loss=str(np.mean(losses)))\n",
    "    lossdicts.append({\"loss\":np.mean(losses)})\n",
    "    pd.DataFrame().from_dict(lossdicts).to_csv(save_fd+\"loss.csv\")\n",
    "    torch.save(scr_model.state_dict(), save_fd+\"m_%s.pth\"%str(epoch_i))"
   ]
  },
  {
   "cell_type": "code",
   "execution_count": 19,
   "id": "da40b76a-c2d0-4764-8c86-54b502045ef9",
   "metadata": {
    "tags": []
   },
   "outputs": [
    {
     "data": {
      "text/plain": [
       "[{'loss': 1.6258091}, {'loss': 1.6270127}]"
      ]
     },
     "execution_count": 19,
     "metadata": {},
     "output_type": "execute_result"
    }
   ],
   "source": [
    "lossdicts"
   ]
  },
  {
   "cell_type": "code",
   "execution_count": 54,
   "id": "b18f0103-c39a-4a0f-8d74-e51147e5a587",
   "metadata": {
    "tags": []
   },
   "outputs": [
    {
     "data": {
      "image/jpeg": "[encoded data removed]",
      "image/png": "[encoded data removed]",
      "text/plain": [
       "<PIL.Image.Image image mode=RGB size=96x96>"
      ]
     },
     "execution_count": 54,
     "metadata": {},
     "output_type": "execute_result"
    }
   ],
   "source": [
    "b"
   ]
  },
  {
   "cell_type": "code",
   "execution_count": 55,
   "id": "dc1f1a4e-8a78-4504-a911-fb00da12ec4d",
   "metadata": {
    "tags": []
   },
   "outputs": [
    {
     "data": {
      "image/jpeg": "[encoded data removed]",
      "image/png": "[encoded data removed]",
      "text/plain": [
       "<PIL.Image.Image image mode=RGB size=96x96>"
      ]
     },
     "execution_count": 55,
     "metadata": {},
     "output_type": "execute_result"
    }
   ],
   "source": [
    "c"
   ]
  },
  {
   "cell_type": "code",
   "execution_count": 31,
   "id": "5f379960-64a5-421a-910f-ee5a5cf1039b",
   "metadata": {
    "tags": []
   },
   "outputs": [
    {
     "data": {
      "image/jpeg": "[encoded data removed]",
      "image/png": "[encoded data removed]",
      "text/plain": [
       "<PIL.Image.Image image mode=RGB size=96x96>"
      ]
     },
     "execution_count": 31,
     "metadata": {},
     "output_type": "execute_result"
    }
   ],
   "source": [
    "c"
   ]
  },
  {
   "cell_type": "code",
   "execution_count": null,
   "id": "bf085f5a-0cd5-4c48-a40b-6aaf683fd041",
   "metadata": {},
   "outputs": [],
   "source": []
  }
 ],
 "metadata": {
  "environment": {
   "kernel": "python3",
   "name": ".m116",
   "type": "gcloud",
   "uri": "gcr.io/deeplearning-platform-release/:m116"
  },
  "kernelspec": {
   "display_name": "Python 3",
   "language": "python",
   "name": "python3"
  },
  "language_info": {
   "codemirror_mode": {
    "name": "ipython",
    "version": 3
   },
   "file_extension": ".py",
   "mimetype": "text/x-python",
   "name": "python",
   "nbconvert_exporter": "python",
   "pygments_lexer": "ipython3",
   "version": "3.10.13"
  }
 },
 "nbformat": 4,
 "nbformat_minor": 5
}
