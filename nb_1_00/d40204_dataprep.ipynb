{
 "cells": [
  {
   "cell_type": "code",
   "execution_count": 1,
   "id": "bfca7532-7557-4949-b8fc-65de500d1469",
   "metadata": {
    "tags": []
   },
   "outputs": [
    {
     "name": "stderr",
     "output_type": "stream",
     "text": [
      "2024-02-02 14:01:22.353667: E external/local_xla/xla/stream_executor/cuda/cuda_dnn.cc:9261] Unable to register cuDNN factory: Attempting to register factory for plugin cuDNN when one has already been registered\n",
      "2024-02-02 14:01:22.353716: E external/local_xla/xla/stream_executor/cuda/cuda_fft.cc:607] Unable to register cuFFT factory: Attempting to register factory for plugin cuFFT when one has already been registered\n",
      "2024-02-02 14:01:22.355321: E external/local_xla/xla/stream_executor/cuda/cuda_blas.cc:1515] Unable to register cuBLAS factory: Attempting to register factory for plugin cuBLAS when one has already been registered\n",
      "2024-02-02 14:01:22.364660: I tensorflow/core/platform/cpu_feature_guard.cc:182] This TensorFlow binary is optimized to use available CPU instructions in performance-critical operations.\n",
      "To enable the following instructions: AVX2 FMA, in other operations, rebuild TensorFlow with the appropriate compiler flags.\n"
     ]
    }
   ],
   "source": [
    "import os\n",
    "import pickle\n",
    "import numpy as np\n",
    "import pandas as pd\n",
    "from tqdm import tqdm\n",
    "from fontTools.ttLib import TTFont\n",
    "from PIL import Image, ImageDraw, ImageFont\n",
    "from tensorflow.python.lib.io.file_io import FileIO"
   ]
  },
  {
   "cell_type": "code",
   "execution_count": 2,
   "id": "a6a46a6a-811d-457f-938a-97c6f75fecb6",
   "metadata": {
    "tags": []
   },
   "outputs": [],
   "source": [
    "def get_existing_chars(filename):\n",
    "    ttfont = TTFont(filename)\n",
    "    return list({chr(key) for table in ttfont['cmap'].tables for key in table.cmap.keys()})"
   ]
  },
  {
   "cell_type": "code",
   "execution_count": 3,
   "id": "61975ac5-137e-41f5-8423-08899a078513",
   "metadata": {
    "tags": []
   },
   "outputs": [],
   "source": [
    "def get_image(font, char):\n",
    "    img = Image.new('L', (500,500), 255)\n",
    "    \n",
    "    draw = ImageDraw.Draw(img)\n",
    "    draw.text((0,0), char, font=font)\n",
    "    \n",
    "    npimg = 255 - np.array(img)\n",
    "    wmin = npimg.sum(0).nonzero()[0].min()\n",
    "    wmax = npimg.sum(0).nonzero()[0].max()\n",
    "    hmin = npimg.sum(1).nonzero()[0].min()\n",
    "    hmax = npimg.sum(1).nonzero()[0].max()\n",
    "    npimg = 255 - npimg[hmin:hmax+1,wmin:wmax+1]\n",
    "    return Image.fromarray(npimg)\n",
    "    # return npimg"
   ]
  },
  {
   "cell_type": "code",
   "execution_count": 4,
   "id": "9719b585-c73f-4056-b69a-08a5345992db",
   "metadata": {
    "tags": []
   },
   "outputs": [],
   "source": [
    "fd = \"ai_font/data/r40202/ttfs/\"\n",
    "ttfs = [(fd+\"twice/\"+f,\"twice\", f.split(\".ttf\")[0]) for f in os.listdir(fd+\"twice\")]\n",
    "ttfs += [(fd+\"uhbee/\"+f,\"uhbee\", f.split(\".ttf\")[0]) for f in os.listdir(fd+\"uhbee\")]"
   ]
  },
  {
   "cell_type": "code",
   "execution_count": 5,
   "id": "f66f443b-3962-44bb-a6f1-defa9fab9abf",
   "metadata": {
    "tags": []
   },
   "outputs": [],
   "source": [
    "png_fd = \"ai_font/data/r40202/pngs/\""
   ]
  },
  {
   "cell_type": "code",
   "execution_count": 6,
   "id": "348414a4-51f4-42af-80ee-535968c85c91",
   "metadata": {
    "tags": []
   },
   "outputs": [
    {
     "name": "stderr",
     "output_type": "stream",
     "text": [
      "100%|██████████| 171/171 [25:35<00:00,  8.98s/it, n_files=523414]\n"
     ]
    }
   ],
   "source": [
    "pbar = tqdm(range(1,len(ttfs)))\n",
    "for i in pbar:\n",
    "    ttf = ttfs[i]\n",
    "    filename = ttf[0]\n",
    "    font = ImageFont.truetype(filename,255)\n",
    "    existing_chars = get_existing_chars(filename)\n",
    "    chardf = pd.DataFrame(existing_chars)\n",
    "    chardf.to_parquet(png_fd+\"%s__%s.parquet\"%(ttf[1],ttf[2]))\n",
    "    for i in range(len(chardf)):\n",
    "        char = chardf.iloc[i].values[0]\n",
    "        try:\n",
    "            img = get_image(font, char)\n",
    "            with open(png_fd+'%s__%s__%s.png'%(ttf[1],ttf[2],str(i)), \"wb\") as f:\n",
    "                img.save(f, \"PNG\")\n",
    "        except:\n",
    "            # print(ttf[1], ttf[2], char)\n",
    "            pass\n",
    "    if i % 2 == 0:\n",
    "        pbar.set_postfix(n_files=str(len(os.listdir(png_fd))))"
   ]
  },
  {
   "cell_type": "code",
   "execution_count": null,
   "id": "9254c41f-664d-4ad2-99cc-92ab197b0189",
   "metadata": {},
   "outputs": [],
   "source": []
  }
 ],
 "metadata": {
  "environment": {
   "kernel": "python3",
   "name": ".m116",
   "type": "gcloud",
   "uri": "gcr.io/deeplearning-platform-release/:m116"
  },
  "kernelspec": {
   "display_name": "Python 3",
   "language": "python",
   "name": "python3"
  },
  "language_info": {
   "codemirror_mode": {
    "name": "ipython",
    "version": 3
   },
   "file_extension": ".py",
   "mimetype": "text/x-python",
   "name": "python",
   "nbconvert_exporter": "python",
   "pygments_lexer": "ipython3",
   "version": "3.10.13"
  }
 },
 "nbformat": 4,
 "nbformat_minor": 5
}
