{
 "cells": [
  {
   "cell_type": "code",
   "execution_count": 2,
   "id": "a18eaba2-3d6e-42fc-b9c9-27cd0314278c",
   "metadata": {
    "tags": []
   },
   "outputs": [
    {
     "name": "stdout",
     "output_type": "stream",
     "text": [
      "pygame 2.5.2 (SDL 2.28.2, Python 3.10.13)\n",
      "Hello from the pygame community. https://www.pygame.org/contribute.html\n"
     ]
    }
   ],
   "source": [
    "import os\n",
    "import math\n",
    "import time\n",
    "import yaml\n",
    "from tqdm.auto import tqdm\n",
    "\n",
    "import torch\n",
    "import torch.nn.functional as F\n",
    "from torchvision import transforms\n",
    "\n",
    "from accelerate import Accelerator\n",
    "from accelerate.utils import set_seed\n",
    "\n",
    "from diffusers.optimization import get_scheduler\n",
    "from font_diffuser.dataset import FontDataset, CollateFN\n",
    "\n",
    "from font_diffuser.model import FontDiffuserModel\n",
    "from font_diffuser.criterion import ContentPerceptualLoss\n",
    "from font_diffuser.build import build_unet, build_style_encoder, build_content_encoder, build_ddpm_scheduler\n",
    "from font_diffuser.args import TrainPhase1Args\n",
    "from font_diffuser.utils import save_args_to_yaml, x0_from_epsilon, reNormalize_img, normalize_mean_std"
   ]
  },
  {
   "cell_type": "code",
   "execution_count": 3,
   "id": "d62d4f2d-ae2d-4866-82d3-cf7dd06380cf",
   "metadata": {
    "tags": []
   },
   "outputs": [],
   "source": [
    "args = TrainPhase1Args()\n",
    "set_seed(args.seed)\n",
    "accelerator = Accelerator(\n",
    "        gradient_accumulation_steps=args.gradient_accumulation_steps,\n",
    "        mixed_precision=args.mixed_precision)"
   ]
  },
  {
   "cell_type": "code",
   "execution_count": 4,
   "id": "d1ed0b14-4aec-4da0-9630-db7b6247fb71",
   "metadata": {
    "tags": []
   },
   "outputs": [
    {
     "name": "stdout",
     "output_type": "stream",
     "text": [
      "Load the down block  DownBlock2D\n",
      "Load the down block  MCADownBlock2D\n",
      "The style_attention cross attention dim in Down Block 1 layer is 1024\n",
      "The style_attention cross attention dim in Down Block 2 layer is 1024\n",
      "Load the down block  MCADownBlock2D\n",
      "The style_attention cross attention dim in Down Block 1 layer is 1024\n",
      "The style_attention cross attention dim in Down Block 2 layer is 1024\n",
      "Load the down block  DownBlock2D\n",
      "Load the up block  UpBlock2D\n",
      "Load the up block  StyleRSIUpBlock2D\n",
      "Load the up block  StyleRSIUpBlock2D\n",
      "Load the up block  UpBlock2D\n",
      "Param count for Ds initialized parameters: 20591296\n",
      "Get CG-GAN Style Encoder!\n",
      "Param count for Ds initialized parameters: 1187008\n",
      "Get CG-GAN Content Encoder!\n"
     ]
    }
   ],
   "source": [
    "unet = build_unet(args=args)\n",
    "style_encoder = build_style_encoder(args=args)\n",
    "content_encoder = build_content_encoder(args=args)\n",
    "noise_scheduler = build_ddpm_scheduler(args)"
   ]
  },
  {
   "cell_type": "code",
   "execution_count": 5,
   "id": "f29e0ba2-4112-4fef-9b40-d8caa58bfb61",
   "metadata": {
    "tags": []
   },
   "outputs": [
    {
     "data": {
      "text/plain": [
       "<All keys matched successfully>"
      ]
     },
     "execution_count": 5,
     "metadata": {},
     "output_type": "execute_result"
    }
   ],
   "source": [
    "unet.load_state_dict(torch.load(\"data/m40216/unet.pth\"))\n",
    "style_encoder.load_state_dict(torch.load(\"data/m40216/style_encoder.pth\"))\n",
    "content_encoder.load_state_dict(torch.load(\"data/m40216/content_encoder.pth\"))"
   ]
  },
  {
   "cell_type": "code",
   "execution_count": 6,
   "id": "febf7336-e797-46f8-8073-d3d13846bcf7",
   "metadata": {
    "tags": []
   },
   "outputs": [],
   "source": [
    "model = FontDiffuserModel(\n",
    "    unet=unet,\n",
    "    style_encoder=style_encoder,\n",
    "    content_encoder=content_encoder)"
   ]
  },
  {
   "cell_type": "code",
   "execution_count": 7,
   "id": "8271dbb2-33b0-46db-a671-26f7bf9ca76e",
   "metadata": {
    "tags": []
   },
   "outputs": [],
   "source": [
    "perceptual_loss = ContentPerceptualLoss()"
   ]
  },
  {
   "cell_type": "code",
   "execution_count": 8,
   "id": "de183401-84d4-4b75-ad9d-d1ead3aa393b",
   "metadata": {
    "tags": []
   },
   "outputs": [],
   "source": [
    "train_font_dataset = FontDataset(path=args.path, phase='train')\n",
    "train_dataloader = torch.utils.data.DataLoader(\n",
    "    train_font_dataset, \n",
    "    shuffle=True, \n",
    "    batch_size=args.train_batch_size, \n",
    "    collate_fn=CollateFN())"
   ]
  },
  {
   "cell_type": "code",
   "execution_count": 9,
   "id": "8b241e1b-5942-4296-83e5-a0ef78305e85",
   "metadata": {
    "tags": []
   },
   "outputs": [],
   "source": [
    "optimizer = torch.optim.AdamW(\n",
    "    model.parameters(),\n",
    "    lr=args.learning_rate,\n",
    "    betas=(args.adam_beta1, args.adam_beta2),\n",
    "    weight_decay=args.adam_weight_decay,\n",
    "    eps=args.adam_epsilon)"
   ]
  },
  {
   "cell_type": "code",
   "execution_count": 10,
   "id": "04e389c0-50d1-4f33-a5f6-5e0ceb94fac9",
   "metadata": {
    "tags": []
   },
   "outputs": [],
   "source": [
    "lr_scheduler = get_scheduler(\n",
    "    args.lr_scheduler,\n",
    "    optimizer=optimizer,\n",
    "    num_warmup_steps=args.lr_warmup_steps * args.gradient_accumulation_steps,\n",
    "    num_training_steps=args.max_train_steps * args.gradient_accumulation_steps,)"
   ]
  },
  {
   "cell_type": "code",
   "execution_count": 11,
   "id": "021da59d-a6d3-46e1-9e94-f9d6bfc979f8",
   "metadata": {
    "tags": []
   },
   "outputs": [],
   "source": [
    "model, optimizer, train_dataloader, lr_scheduler = accelerator.prepare(\n",
    "    model, optimizer, train_dataloader, lr_scheduler)"
   ]
  },
  {
   "cell_type": "code",
   "execution_count": null,
   "id": "b6eaa426-ce0d-4b74-a244-80b22e1fdaef",
   "metadata": {
    "tags": []
   },
   "outputs": [
    {
     "data": {
      "application/vnd.jupyter.widget-view+json": {
       "model_id": "8b4141cf724b4238b194919f27e637d9",
       "version_major": 2,
       "version_minor": 0
      },
      "text/plain": [
       "  0%|          | 0/440000 [00:00<?, ?it/s]"
      ]
     },
     "metadata": {},
     "output_type": "display_data"
    },
    {
     "name": "stderr",
     "output_type": "stream",
     "text": [
      "/opt/conda/lib/python3.10/site-packages/diffusers/configuration_utils.py:134: FutureWarning: Accessing config attribute `num_train_timesteps` directly via 'DDPMScheduler' object attribute is deprecated. Please access 'num_train_timesteps' over 'DDPMScheduler's config object instead, e.g. 'scheduler.config.num_train_timesteps'.\n",
      "  deprecate(\"direct config name access\", \"1.0.0\", deprecation_message, standard_warn=False)\n",
      "/home/jupyter/ai_font/font_diffuser/model.py:34: FutureWarning: Accessing config attribute `style_encoder` directly via 'FontDiffuserModel' object attribute is deprecated. Please access 'style_encoder' over 'FontDiffuserModel's config object instead, e.g. 'unet.config.style_encoder'.\n",
      "  style_img_feature, _, _ = self.style_encoder(style_images)\n",
      "/home/jupyter/ai_font/font_diffuser/model.py:40: FutureWarning: Accessing config attribute `content_encoder` directly via 'FontDiffuserModel' object attribute is deprecated. Please access 'content_encoder' over 'FontDiffuserModel's config object instead, e.g. 'unet.config.content_encoder'.\n",
      "  content_img_feature, content_residual_features = self.content_encoder(content_images)\n",
      "/home/jupyter/ai_font/font_diffuser/model.py:43: FutureWarning: Accessing config attribute `content_encoder` directly via 'FontDiffuserModel' object attribute is deprecated. Please access 'content_encoder' over 'FontDiffuserModel's config object instead, e.g. 'unet.config.content_encoder'.\n",
      "  style_content_feature, style_content_res_features = self.content_encoder(style_images)\n",
      "/home/jupyter/ai_font/font_diffuser/model.py:49: FutureWarning: Accessing config attribute `unet` directly via 'FontDiffuserModel' object attribute is deprecated. Please access 'unet' over 'FontDiffuserModel's config object instead, e.g. 'unet.config.unet'.\n",
      "  out = self.unet(\n"
     ]
    }
   ],
   "source": [
    "if accelerator.is_main_process:\n",
    "    accelerator.init_trackers(args.experience_name)\n",
    "progress_bar = tqdm(range(args.max_train_steps), disable=not accelerator.is_local_main_process)\n",
    "progress_bar.set_description(\"Steps\")\n",
    "num_update_steps_per_epoch = math.ceil(len(train_dataloader) / args.gradient_accumulation_steps)\n",
    "num_train_epochs = math.ceil(args.max_train_steps / num_update_steps_per_epoch)\n",
    "global_step = 0\n",
    "for epoch in range(num_train_epochs):\n",
    "    train_loss = 0.0\n",
    "    for step, samples in enumerate(train_dataloader):\n",
    "        model.train()\n",
    "        content_images = samples[\"content_image\"]\n",
    "        style_images = samples[\"style_image\"]\n",
    "        target_images = samples[\"target_image\"]\n",
    "        nonorm_target_images = samples[\"nonorm_target_image\"]\n",
    "\n",
    "        with accelerator.accumulate(model):\n",
    "            # Sample noise that we'll add to the samples\n",
    "            noise = torch.randn_like(target_images)\n",
    "            bsz = target_images.shape[0]\n",
    "            # Sample a random timestep for each image\n",
    "            timesteps = torch.randint(0, noise_scheduler.num_train_timesteps, (bsz,), device=target_images.device)\n",
    "            timesteps = timesteps.long()\n",
    "\n",
    "            # Add noise to the target_images according to the noise magnitude at each timestep\n",
    "            # (this is the forward diffusion process)\n",
    "            noisy_target_images = noise_scheduler.add_noise(target_images, noise, timesteps)\n",
    "\n",
    "            # Classifier-free training strategy\n",
    "            context_mask = torch.bernoulli(torch.zeros(bsz) + args.drop_prob)\n",
    "            for i, mask_value in enumerate(context_mask):\n",
    "                if mask_value==1:\n",
    "                    content_images[i, :, :, :] = 1\n",
    "                    style_images[i, :, :, :] = 1\n",
    "\n",
    "            # Predict the noise residual and compute loss\n",
    "            noise_pred, offset_out_sum = model(\n",
    "                x_t=noisy_target_images, \n",
    "                timesteps=timesteps, \n",
    "                style_images=style_images,\n",
    "                content_images=content_images,\n",
    "                content_encoder_downsample_size=args.content_encoder_downsample_size)\n",
    "            diff_loss = F.mse_loss(noise_pred.float(), noise.float(), reduction=\"mean\")\n",
    "            offset_loss = offset_out_sum / 2\n",
    "\n",
    "            # output processing for content perceptual loss\n",
    "            pred_original_sample_norm = x0_from_epsilon(\n",
    "                scheduler=noise_scheduler,\n",
    "                noise_pred=noise_pred,\n",
    "                x_t=noisy_target_images,\n",
    "                timesteps=timesteps)\n",
    "            pred_original_sample = reNormalize_img(pred_original_sample_norm)\n",
    "            norm_pred_ori = normalize_mean_std(pred_original_sample)\n",
    "            norm_target_ori = normalize_mean_std(nonorm_target_images)\n",
    "            percep_loss = perceptual_loss.calculate_loss(\n",
    "                generated_images=norm_pred_ori,\n",
    "                target_images=norm_target_ori,\n",
    "                device=target_images.device)\n",
    "\n",
    "            loss = diff_loss + \\\n",
    "                    args.perceptual_coefficient * percep_loss + \\\n",
    "                        args.offset_coefficient * offset_loss\n",
    "\n",
    "            # Gather the losses across all processes for logging (if we use distributed training).\n",
    "            avg_loss = accelerator.gather(loss.repeat(args.train_batch_size)).mean()\n",
    "            train_loss += avg_loss.item() / args.gradient_accumulation_steps\n",
    "\n",
    "            # Backpropagate\n",
    "            accelerator.backward(loss)\n",
    "            if accelerator.sync_gradients:\n",
    "                accelerator.clip_grad_norm_(model.parameters(), args.max_grad_norm)\n",
    "            optimizer.step()\n",
    "            lr_scheduler.step()\n",
    "            optimizer.zero_grad()\n",
    "\n",
    "        # Checks if the accelerator has performed an optimization step behind the scenes\n",
    "        if accelerator.sync_gradients:\n",
    "            progress_bar.update(1)\n",
    "            global_step += 1\n",
    "            accelerator.log({\"train_loss\": train_loss}, step=global_step)\n",
    "            train_loss = 0.0\n",
    "            \n",
    "        # Quit\n",
    "        if global_step >= args.max_train_steps:\n",
    "            break\n",
    "    if (global_step % 10000 == 0)&(global_step>10000):\n",
    "        torch.save(unet.state_dict(), \"data/m40216/unet_%s.pth\"%str(global_step))\n",
    "        torch.save(style_encoder.state_dict(), \"data/m40216/style_encoder_%s.pth\"%str(global_step))\n",
    "        torch.save(content_encoder.state_dict(), \"data/m40216/content_encoder_%s.pth\"%str(global_step))\n",
    "\n",
    "accelerator.end_training()"
   ]
  },
  {
   "cell_type": "code",
   "execution_count": null,
   "id": "a5508ed4-742f-4c5f-a1e6-67d117556c82",
   "metadata": {},
   "outputs": [],
   "source": []
  }
 ],
 "metadata": {
  "environment": {
   "kernel": "python3",
   "name": ".m116",
   "type": "gcloud",
   "uri": "gcr.io/deeplearning-platform-release/:m116"
  },
  "kernelspec": {
   "display_name": "Python 3",
   "language": "python",
   "name": "python3"
  },
  "language_info": {
   "codemirror_mode": {
    "name": "ipython",
    "version": 3
   },
   "file_extension": ".py",
   "mimetype": "text/x-python",
   "name": "python",
   "nbconvert_exporter": "python",
   "pygments_lexer": "ipython3",
   "version": "3.10.13"
  }
 },
 "nbformat": 4,
 "nbformat_minor": 5
}
