{
 "cells": [
  {
   "cell_type": "code",
   "execution_count": 1,
   "id": "edecc203-fc0b-43c6-93ad-4037d896c8d1",
   "metadata": {
    "tags": []
   },
   "outputs": [
    {
     "name": "stdout",
     "output_type": "stream",
     "text": [
      "pygame 2.5.2 (SDL 2.28.2, Python 3.10.13)\n",
      "Hello from the pygame community. https://www.pygame.org/contribute.html\n"
     ]
    }
   ],
   "source": [
    "from PIL import Image\n",
    "from font_diffuser.args import SampleArgs\n",
    "from font_diffuser.sample import load_fontdiffuer_pipeline, sampling"
   ]
  },
  {
   "cell_type": "code",
   "execution_count": 2,
   "id": "a8d5f514-5840-4bfd-bfca-697573929b81",
   "metadata": {
    "tags": []
   },
   "outputs": [],
   "source": [
    "args = SampleArgs()"
   ]
  },
  {
   "cell_type": "code",
   "execution_count": 3,
   "id": "81bce1d7-d952-4a90-9426-7a3f2b02e451",
   "metadata": {},
   "outputs": [
    {
     "name": "stdout",
     "output_type": "stream",
     "text": [
      "Load the down block  DownBlock2D\n",
      "Load the down block  MCADownBlock2D\n",
      "The style_attention cross attention dim in Down Block 1 layer is 1024\n",
      "The style_attention cross attention dim in Down Block 2 layer is 1024\n",
      "Load the down block  MCADownBlock2D\n",
      "The style_attention cross attention dim in Down Block 1 layer is 1024\n",
      "The style_attention cross attention dim in Down Block 2 layer is 1024\n",
      "Load the down block  DownBlock2D\n",
      "Load the up block  UpBlock2D\n",
      "Load the up block  StyleRSIUpBlock2D\n",
      "Load the up block  StyleRSIUpBlock2D\n",
      "Load the up block  UpBlock2D\n",
      "Param count for Ds initialized parameters: 20591296\n",
      "Get CG-GAN Style Encoder!\n",
      "Param count for Ds initialized parameters: 1187008\n",
      "Get CG-GAN Content Encoder!\n",
      "Loaded the model state_dict successfully!\n",
      "Loaded training DDPM scheduler sucessfully!\n",
      "Loaded dpm_solver pipeline sucessfully!\n"
     ]
    }
   ],
   "source": [
    "pipe = load_fontdiffuer_pipeline(args=args)"
   ]
  },
  {
   "cell_type": "code",
   "execution_count": 16,
   "id": "73559283-993f-4aa0-a764-e6f16ac1a5d2",
   "metadata": {
    "tags": []
   },
   "outputs": [
    {
     "name": "stdout",
     "output_type": "stream",
     "text": [
      "Sampling by DPM-Solver++ ......\n",
      "Saving the image ......\n",
      "Finish the sampling process, costing time 1.893364667892456s\n"
     ]
    }
   ],
   "source": [
    "out_image = sampling(\n",
    "    args=args, \n",
    "    pipe=pipe, \n",
    "    content_image=Image.open(\"data/r40202/pngs/gulim__7.png\").convert('RGB'),\n",
    "    style_image=Image.open(args.style_image_path).convert('RGB')\n",
    ")"
   ]
  },
  {
   "cell_type": "code",
   "execution_count": 17,
   "id": "dc602479-23d3-4987-8405-731f735b791e",
   "metadata": {
    "tags": []
   },
   "outputs": [
    {
     "data": {
      "image/jpeg": "[encoded data removed]",
      "image/png": "[encoded data removed]",
      "text/plain": [
       "<PIL.Image.Image image mode=RGB size=96x96>"
      ]
     },
     "execution_count": 17,
     "metadata": {},
     "output_type": "execute_result"
    }
   ],
   "source": [
    "out_image"
   ]
  },
  {
   "cell_type": "code",
   "execution_count": null,
   "id": "bb0ecdee-3800-4b21-9c91-1c252ec056d9",
   "metadata": {
    "tags": []
   },
   "outputs": [],
   "source": [
    "from PIL import Image\n",
    "Image.open(args.content_image_path).convert('RGB')\n",
    "Image.open(args.style_image_path).convert('RGB')"
   ]
  },
  {
   "cell_type": "code",
   "execution_count": null,
   "id": "22116628-f43a-45b7-80eb-2e36c003208a",
   "metadata": {},
   "outputs": [],
   "source": []
  }
 ],
 "metadata": {
  "environment": {
   "kernel": "python3",
   "name": ".m116",
   "type": "gcloud",
   "uri": "gcr.io/deeplearning-platform-release/:m116"
  },
  "kernelspec": {
   "display_name": "Python 3",
   "language": "python",
   "name": "python3"
  },
  "language_info": {
   "codemirror_mode": {
    "name": "ipython",
    "version": 3
   },
   "file_extension": ".py",
   "mimetype": "text/x-python",
   "name": "python",
   "nbconvert_exporter": "python",
   "pygments_lexer": "ipython3",
   "version": "3.10.13"
  }
 },
 "nbformat": 4,
 "nbformat_minor": 5
}
