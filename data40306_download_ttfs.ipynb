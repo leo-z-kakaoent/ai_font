{
 "cells": [
  {
   "cell_type": "code",
   "execution_count": 4,
   "id": "146be2ee-ce5e-4197-a501-88a3724fc119",
   "metadata": {
    "tags": []
   },
   "outputs": [
    {
     "name": "stderr",
     "output_type": "stream",
     "text": [
      "100%|██████████| 377/377 [00:33<00:00, 11.13it/s, filename=data/raw/ttfs/kimpo peace 4.ttf]       \n"
     ]
    }
   ],
   "source": [
    "import os\n",
    "from google.cloud import storage\n",
    "from pathlib import Path\n",
    "from tqdm import tqdm\n",
    "\n",
    "source_file_fd = 'data/raw/ttfs/'    # GCP에 업로드할 파일 절대경로\n",
    "\n",
    "storage_client = storage.Client()\n",
    "bucket = storage_client.bucket('leo_font')\n",
    "\n",
    "pbar = tqdm([f for f in storage_client.list_blobs(\"leo_font\", prefix=\"r40202/ttfs\") if \".ttf\" in f.name])\n",
    "for file in pbar:\n",
    "    blob = bucket.blob(file.name)\n",
    "    filename = file.name.split(\"/\")[-1]\n",
    "    if filename not in os.listdir(source_file_fd):\n",
    "        download_path = source_file_fd+filename\n",
    "        blob.download_to_filename(download_path)\n",
    "        pbar.set_postfix(filename=download_path)"
   ]
  },
  {
   "cell_type": "code",
   "execution_count": null,
   "id": "00710a83-6a6e-4909-aefa-fc192597c905",
   "metadata": {},
   "outputs": [],
   "source": []
  }
 ],
 "metadata": {
  "environment": {
   "kernel": "conda-env-pytorch-pytorch",
   "name": "workbench-notebooks.m117",
   "type": "gcloud",
   "uri": "us-docker.pkg.dev/deeplearning-platform-release/gcr.io/workbench-notebooks:m117"
  },
  "kernelspec": {
   "display_name": "PyTorch 1-13",
   "language": "python",
   "name": "conda-env-pytorch-pytorch"
  },
  "language_info": {
   "codemirror_mode": {
    "name": "ipython",
    "version": 3
   },
   "file_extension": ".py",
   "mimetype": "text/x-python",
   "name": "python",
   "nbconvert_exporter": "python",
   "pygments_lexer": "ipython3",
   "version": "3.10.13"
  }
 },
 "nbformat": 4,
 "nbformat_minor": 5
}
