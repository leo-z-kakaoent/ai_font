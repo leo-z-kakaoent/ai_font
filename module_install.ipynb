{
 "cells": [
  {
   "cell_type": "code",
   "execution_count": 1,
   "id": "0e0ad937-5994-4714-b3f8-7eb9bd88d17e",
   "metadata": {
    "tags": []
   },
   "outputs": [],
   "source": [
    "import importlib.util\n",
    "import sys"
   ]
  },
  {
   "cell_type": "code",
   "execution_count": null,
   "id": "d899bc21-a359-4551-99c0-7757b3b74392",
   "metadata": {},
   "outputs": [],
   "source": [
    "modules = [\n",
    "    (\"aifont\"),\n",
    "]"
   ]
  },
  {
   "cell_type": "code",
   "execution_count": 9,
   "id": "407a780e-9c5a-4de9-b1ad-8769054b630f",
   "metadata": {
    "tags": []
   },
   "outputs": [],
   "source": [
    "spec = importlib.util.spec_from_file_location(\"FontDataset\", \"/home/jupyter/ai_font/experiments/font_diffuser/dataset.py\")\n",
    "foo = importlib.util.module_from_spec(spec)\n",
    "# sys.modules[\"FontDataset\"] = foo\n",
    "# spec.loader.exec_module(foo)"
   ]
  },
  {
   "cell_type": "code",
   "execution_count": 10,
   "id": "46f52b17-58d5-4ac7-8ef5-1edbb0f3d140",
   "metadata": {
    "tags": []
   },
   "outputs": [
    {
     "data": {
      "text/plain": [
       "<module 'FontDataset' from '/home/jupyter/ai_font/experiments/font_diffuser/dataset.py'>"
      ]
     },
     "execution_count": 10,
     "metadata": {},
     "output_type": "execute_result"
    }
   ],
   "source": [
    "foo"
   ]
  },
  {
   "cell_type": "code",
   "execution_count": 6,
   "id": "714150cc-2473-4291-9261-1b05acac59df",
   "metadata": {
    "tags": []
   },
   "outputs": [
    {
     "ename": "ModuleNotFoundError",
     "evalue": "No module named 'CollateFN'",
     "output_type": "error",
     "traceback": [
      "\u001b[0;31m---------------------------------------------------------------------------\u001b[0m",
      "\u001b[0;31mModuleNotFoundError\u001b[0m                       Traceback (most recent call last)",
      "Cell \u001b[0;32mIn[6], line 1\u001b[0m\n\u001b[0;32m----> 1\u001b[0m \u001b[38;5;28;01mimport\u001b[39;00m \u001b[38;5;21;01mCollateFN\u001b[39;00m\n",
      "\u001b[0;31mModuleNotFoundError\u001b[0m: No module named 'CollateFN'"
     ]
    }
   ],
   "source": [
    "import CollateFN"
   ]
  },
  {
   "cell_type": "code",
   "execution_count": 5,
   "id": "2d88d8cf-4e69-495f-ba32-5eeffafd8408",
   "metadata": {
    "tags": []
   },
   "outputs": [
    {
     "data": {
      "text/plain": [
       "CollateFN.CollateFN"
      ]
     },
     "execution_count": 5,
     "metadata": {},
     "output_type": "execute_result"
    }
   ],
   "source": [
    "CollateFN"
   ]
  },
  {
   "cell_type": "code",
   "execution_count": null,
   "id": "5deb08fb-d7e9-484a-8894-7b4993373660",
   "metadata": {},
   "outputs": [],
   "source": []
  }
 ],
 "metadata": {
  "environment": {
   "kernel": "conda-root-py",
   "name": "workbench-notebooks.m117",
   "type": "gcloud",
   "uri": "us-docker.pkg.dev/deeplearning-platform-release/gcr.io/workbench-notebooks:m117"
  },
  "kernelspec": {
   "display_name": "Python 3 (ipykernel)",
   "language": "python",
   "name": "conda-root-py"
  },
  "language_info": {
   "codemirror_mode": {
    "name": "ipython",
    "version": 3
   },
   "file_extension": ".py",
   "mimetype": "text/x-python",
   "name": "python",
   "nbconvert_exporter": "python",
   "pygments_lexer": "ipython3",
   "version": "3.10.13"
  }
 },
 "nbformat": 4,
 "nbformat_minor": 5
}
