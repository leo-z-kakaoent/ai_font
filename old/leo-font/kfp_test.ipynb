{
 "cells": [
  {
   "cell_type": "code",
   "execution_count": null,
   "metadata": {
    "collapsed": true
   },
   "outputs": [],
   "source": []
  },
  {
   "cell_type": "code",
   "execution_count": 3,
   "outputs": [],
   "source": [
    "import kfp\n",
    "client = kfp.Client(host='https://3313888af2601658-dot-us-central1.pipelines.googleusercontent.com')"
   ],
   "metadata": {
    "collapsed": false
   }
  },
  {
   "cell_type": "code",
   "execution_count": null,
   "outputs": [],
   "source": [
    "\n",
    "@kfp.dsl.pipeline(\n",
    "    name='Kubeflow Pipeline',\n",
    "    description='A pipeline to train and deploy a model'\n",
    ")\n",
    "def pipeline():\n",
    "    train = kfp.dsl.ContainerOp(\n",
    "        name='train',\n",
    "        image='gcr.io/aiops-2020-01-01/train',\n",
    "        command=['python', 'train.py'],\n",
    "        file_outputs={'model': '/model/model.pkl'}\n",
    "    )\n",
    "\n",
    "    deploy = kfp.dsl.ContainerOp(\n",
    "        name='deploy',\n",
    "        image='gcr.io/aiops-2020-01-01/deploy',\n",
    "        command=['python', 'deploy.py'],\n",
    "        arguments=[\n",
    "            '--model', train.outputs['model']\n",
    "        ]\n",
    "    )"
   ],
   "metadata": {
    "collapsed": false
   }
  }
 ],
 "metadata": {
  "kernelspec": {
   "display_name": "Python 3",
   "language": "python",
   "name": "python3"
  },
  "language_info": {
   "codemirror_mode": {
    "name": "ipython",
    "version": 2
   },
   "file_extension": ".py",
   "mimetype": "text/x-python",
   "name": "python",
   "nbconvert_exporter": "python",
   "pygments_lexer": "ipython2",
   "version": "2.7.6"
  }
 },
 "nbformat": 4,
 "nbformat_minor": 0
}
