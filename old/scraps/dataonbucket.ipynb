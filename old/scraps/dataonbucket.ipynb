{
 "cells": [
  {
   "cell_type": "code",
   "execution_count": 56,
   "id": "9bd6c116-335b-4a58-aac2-52c32bf41829",
   "metadata": {
    "tags": []
   },
   "outputs": [],
   "source": [
    "import os\n",
    "import zipfile\n",
    "import shutil\n",
    "import numpy as np\n",
    "import pandas as pd\n",
    "from google.cloud import storage\n",
    "from pathlib import Path\n",
    "from tqdm import tqdm\n",
    "\n",
    "storage_client = storage.Client()\n",
    "bucket = storage_client.bucket('leo_font')"
   ]
  },
  {
   "cell_type": "code",
   "execution_count": 69,
   "id": "3a4805b7-d42c-4f66-8cae-be1c96992a58",
   "metadata": {
    "tags": []
   },
   "outputs": [],
   "source": [
    "fds = {\n",
    "    \"zipfile\": \"/home/jupyter/ai_font/data/zipfiles\",\n",
    "    \"seen128\": \"/home/jupyter/ai_font/data/raw/seens/png128/data/raw_png_128\",\n",
    "    \"seen96\": \"/home/jupyter/ai_font/data/raw/seens/png96/data/raw_png_96\",\n",
    "    \"unseen128\": \"/home/jupyter/ai_font/data/raw/unseens/png128\",\n",
    "    \"unseen96\": \"/home/jupyter/ai_font/data/raw/unseens/png96\",\n",
    "}\n",
    "files = {\n",
    "    'all_korean': \"/home/jupyter/ai_font/data/raw/all_korean.parquet\",\n",
    "    \"zipfile128\": \"/home/jupyter/ai_font/data/zipfiles/raw_png_128.zip\",\n",
    "    \"zipfile96\": \"/home/jupyter/ai_font/data/zipfiles/raw_png_96.zip\",\n",
    "}\n",
    "\n",
    "for k, fd in fds.items():\n",
    "    if not os.path.exists(fd):\n",
    "        os.makedirs(fd)\n",
    "        print(f\"Folder Created: {fd}\")"
   ]
  },
  {
   "cell_type": "code",
   "execution_count": 70,
   "id": "05eb036b-ef4b-4b56-be02-303f1235737f",
   "metadata": {
    "tags": []
   },
   "outputs": [],
   "source": [
    "ak = pd.read_parquet(files['all_korean'])"
   ]
  },
  {
   "cell_type": "code",
   "execution_count": 71,
   "id": "3a09a45b-7236-4d90-8f3f-b5e7e874b00f",
   "metadata": {
    "tags": []
   },
   "outputs": [],
   "source": [
    "easy = \"가너디로마버소우즈치카토퍼후\"\n",
    "mid = \"갹넌됻래몌벼슈양쟈챼켴텉픞핳\"\n",
    "hard = \"겱냙뎳랛몊볍숎융쟧츣캷툛펆햙\""
   ]
  },
  {
   "cell_type": "code",
   "execution_count": 72,
   "id": "c0be8b7c-b13f-4e2d-8931-4690eac1de67",
   "metadata": {
    "tags": []
   },
   "outputs": [],
   "source": [
    "seens = [l for i,l in enumerate(easy) if i % 2 == 1]\n",
    "seens += [l for i,l in enumerate(mid) if i % 2 == 0]\n",
    "seens += [l for i,l in enumerate(hard) if i % 2 == 1]\n",
    "\n",
    "unseens = [l for i,l in enumerate(easy) if i % 2 == 0]\n",
    "unseens += [l for i,l in enumerate(mid) if i % 2 == 1]\n",
    "unseens += [l for i,l in enumerate(hard) if i % 2 == 0]\n",
    "\n",
    "test_fonts = ['twice dahyun_4','twice nayeon_6','UhBee Sunhong','UhBee Howl','SeoulHangang Jang B', \"MapoDPP\"]"
   ]
  },
  {
   "cell_type": "code",
   "execution_count": 24,
   "id": "f0b64ca9-bb98-4b48-b84b-5be6d111edfe",
   "metadata": {
    "tags": []
   },
   "outputs": [],
   "source": [
    "# download zip files\n",
    "zipfd = \"/home/jupyter/ai_font/data/zipfiles/\"\n",
    "blob = bucket.blob(\"zipfiles/raw_png_128.zip\")\n",
    "blob.download_to_filename(zipfd+\"raw_png_128.zip\")\n",
    "blob = bucket.blob(\"zipfiles/raw_png_96.zip\")\n",
    "blob.download_to_filename(zipfd+\"raw_png_96.zip\")"
   ]
  },
  {
   "cell_type": "code",
   "execution_count": 28,
   "id": "b4a833e3-d9b0-481b-b1ed-36c8f652afa3",
   "metadata": {
    "tags": []
   },
   "outputs": [],
   "source": [
    "zipfile.ZipFile(zipfd+\"raw_png_128.zip\").extractall(fds['seen128'])\n",
    "zipfile.ZipFile(zipfd+\"raw_png_96.zip\").extractall(fds['seen96'])"
   ]
  },
  {
   "cell_type": "code",
   "execution_count": 73,
   "id": "983661b1-3cee-429d-a1dc-80548a338efd",
   "metadata": {
    "tags": []
   },
   "outputs": [],
   "source": [
    "# Move unseens\n",
    "for font in test_fonts:\n",
    "    for unseen_idx in ak.loc[ak[0].isin(unseens)].index:\n",
    "        try:\n",
    "            shutil.move(fds['seen128']+f\"/{font}__{unseen_idx}.png\",fds['unseen128']+f\"/{font}__{unseen_idx}.png\")\n",
    "            shutil.move(fds['seen96']+f\"/{font}__{unseen_idx}.png\",fds['unseen96']+f\"/{font}__{unseen_idx}.png\")\n",
    "        except:\n",
    "            pass"
   ]
  },
  {
   "cell_type": "code",
   "execution_count": null,
   "id": "0cbf89aa-d771-482f-ba7e-4166e6e79a38",
   "metadata": {},
   "outputs": [],
   "source": []
  }
 ],
 "metadata": {
  "environment": {
   "kernel": "conda-root-py",
   "name": "workbench-notebooks.m120",
   "type": "gcloud",
   "uri": "us-docker.pkg.dev/deeplearning-platform-release/gcr.io/workbench-notebooks:m120"
  },
  "kernelspec": {
   "display_name": "Python 3 (ipykernel) (Local)",
   "language": "python",
   "name": "conda-root-py"
  },
  "language_info": {
   "codemirror_mode": {
    "name": "ipython",
    "version": 3
   },
   "file_extension": ".py",
   "mimetype": "text/x-python",
   "name": "python",
   "nbconvert_exporter": "python",
   "pygments_lexer": "ipython3",
   "version": "3.10.14"
  }
 },
 "nbformat": 4,
 "nbformat_minor": 5
}
