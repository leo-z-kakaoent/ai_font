{
 "cells": [
  {
   "cell_type": "code",
   "execution_count": 1,
   "id": "bfca7532-7557-4949-b8fc-65de500d1469",
   "metadata": {
    "tags": []
   },
   "outputs": [
    {
     "name": "stderr",
     "output_type": "stream",
     "text": [
      "2024-02-06 12:23:21.213600: E external/local_xla/xla/stream_executor/cuda/cuda_dnn.cc:9261] Unable to register cuDNN factory: Attempting to register factory for plugin cuDNN when one has already been registered\n",
      "2024-02-06 12:23:21.213695: E external/local_xla/xla/stream_executor/cuda/cuda_fft.cc:607] Unable to register cuFFT factory: Attempting to register factory for plugin cuFFT when one has already been registered\n",
      "2024-02-06 12:23:21.363571: E external/local_xla/xla/stream_executor/cuda/cuda_blas.cc:1515] Unable to register cuBLAS factory: Attempting to register factory for plugin cuBLAS when one has already been registered\n",
      "2024-02-06 12:23:21.663449: I tensorflow/core/platform/cpu_feature_guard.cc:182] This TensorFlow binary is optimized to use available CPU instructions in performance-critical operations.\n",
      "To enable the following instructions: AVX2 FMA, in other operations, rebuild TensorFlow with the appropriate compiler flags.\n"
     ]
    }
   ],
   "source": [
    "import os\n",
    "import pickle\n",
    "import numpy as np\n",
    "import pandas as pd\n",
    "from tqdm import tqdm\n",
    "from fontTools.ttLib import TTFont\n",
    "from PIL import Image, ImageDraw, ImageFont\n",
    "from tensorflow.python.lib.io.file_io import FileIO"
   ]
  },
  {
   "cell_type": "code",
   "execution_count": 2,
   "id": "a6a46a6a-811d-457f-938a-97c6f75fecb6",
   "metadata": {
    "tags": []
   },
   "outputs": [],
   "source": [
    "def get_existing_chars(filename):\n",
    "    ttfont = TTFont(filename)\n",
    "    return list({chr(key) for table in ttfont['cmap'].tables for key in table.cmap.keys()})"
   ]
  },
  {
   "cell_type": "code",
   "execution_count": 5,
   "id": "61975ac5-137e-41f5-8423-08899a078513",
   "metadata": {
    "tags": []
   },
   "outputs": [],
   "source": [
    "def get_image(font, char):\n",
    "    img = Image.new('L', (500,500), 255)\n",
    "    \n",
    "    draw = ImageDraw.Draw(img)\n",
    "    draw.text((0,0), char, font=font)\n",
    "    \n",
    "    npimg = 255 - np.array(img)\n",
    "    wmin = npimg.sum(0).nonzero()[0].min()\n",
    "    wmax = npimg.sum(0).nonzero()[0].max()\n",
    "    hmin = npimg.sum(1).nonzero()[0].min()\n",
    "    hmax = npimg.sum(1).nonzero()[0].max()\n",
    "    npimg = 255 - npimg[hmin:hmax+1,wmin:wmax+1]\n",
    "    return Image.fromarray(npimg)\n",
    "    # return npimg"
   ]
  },
  {
   "cell_type": "code",
   "execution_count": 29,
   "id": "a17d66fa-b55d-495d-8057-935a1711b396",
   "metadata": {
    "tags": []
   },
   "outputs": [],
   "source": [
    "# utf-8\n",
    "def get_all_korean():\n",
    "    \n",
    "    def nextKorLetterFrom(letter):\n",
    "        lastLetterInt = 15572643\n",
    "        if not letter:\n",
    "            return '가'\n",
    "        a = letter\n",
    "        b = a.encode('utf8')\n",
    "        c = int(b.hex(), 16)\n",
    "\n",
    "        if c == lastLetterInt:\n",
    "            return False\n",
    "\n",
    "        d = hex(c + 1)\n",
    "        e = bytearray.fromhex(d[2:])\n",
    "\n",
    "        flag = True\n",
    "        while flag:\n",
    "            try:\n",
    "                r = e.decode('utf-8')\n",
    "                flag = False\n",
    "            except UnicodeDecodeError:\n",
    "                c = c+1\n",
    "                d = hex(c)\n",
    "                e = bytearray.fromhex(d[2:])\n",
    "        return e.decode()\n",
    "    \n",
    "    returns = []\n",
    "    flag = True\n",
    "    k = ''\n",
    "    while flag:\n",
    "        k = nextKorLetterFrom(k)\n",
    "        if k is False:\n",
    "            flag = False\n",
    "        else:\n",
    "            returns.append(k)\n",
    "    return returns\n",
    "    "
   ]
  },
  {
   "cell_type": "code",
   "execution_count": 30,
   "id": "0a8ecdc0-4203-4750-ad9d-d2fb83ec8400",
   "metadata": {
    "tags": []
   },
   "outputs": [],
   "source": [
    "ak = get_all_korean()"
   ]
  },
  {
   "cell_type": "code",
   "execution_count": 31,
   "id": "6e89cd17-0856-4306-a3cb-c0571034f1a8",
   "metadata": {
    "tags": []
   },
   "outputs": [
    {
     "data": {
      "text/plain": [
       "11172"
      ]
     },
     "execution_count": 31,
     "metadata": {},
     "output_type": "execute_result"
    }
   ],
   "source": [
    "len(ak)"
   ]
  },
  {
   "cell_type": "code",
   "execution_count": 32,
   "id": "9719b585-c73f-4056-b69a-08a5345992db",
   "metadata": {
    "tags": []
   },
   "outputs": [],
   "source": [
    "fd = \"data/r40202/ttfs/\"\n",
    "ttfs = [(fd+\"apple/\"+f,\"apple\", f.split(\".ttf\")[0]) for f in os.listdir(fd+\"apple\")]"
   ]
  },
  {
   "cell_type": "code",
   "execution_count": 33,
   "id": "bf6e1c5d-dbaa-494d-b068-daa74d946f0d",
   "metadata": {
    "tags": []
   },
   "outputs": [
    {
     "data": {
      "text/plain": [
       "[('data/r40202/ttfs/apple/AppleMyungjo.ttf', 'apple', 'AppleMyungjo')]"
      ]
     },
     "execution_count": 33,
     "metadata": {},
     "output_type": "execute_result"
    }
   ],
   "source": [
    "ttfs"
   ]
  },
  {
   "cell_type": "code",
   "execution_count": 34,
   "id": "f66f443b-3962-44bb-a6f1-defa9fab9abf",
   "metadata": {
    "tags": []
   },
   "outputs": [],
   "source": [
    "png_fd = \"data/r40202/pngs/\""
   ]
  },
  {
   "cell_type": "code",
   "execution_count": 35,
   "id": "83c25c40-f316-4994-a20d-e241c0342704",
   "metadata": {
    "tags": []
   },
   "outputs": [
    {
     "data": {
      "text/plain": [
       "('data/r40202/ttfs/apple/AppleMyungjo.ttf', 'apple', 'AppleMyungjo')"
      ]
     },
     "execution_count": 35,
     "metadata": {},
     "output_type": "execute_result"
    }
   ],
   "source": [
    "ttf"
   ]
  },
  {
   "cell_type": "code",
   "execution_count": 37,
   "id": "348414a4-51f4-42af-80ee-535968c85c91",
   "metadata": {
    "tags": []
   },
   "outputs": [
    {
     "name": "stderr",
     "output_type": "stream",
     "text": [
      "100%|██████████| 11172/11172 [00:38<00:00, 286.59it/s]\n"
     ]
    }
   ],
   "source": [
    "ttf = ttfs[0]\n",
    "filename = ttf[0]\n",
    "font = ImageFont.truetype(filename,255)\n",
    "chardf = pd.DataFrame(ak)\n",
    "chardf.to_parquet(png_fd+\"%s__%s.parquet\"%(ttf[1],ttf[2]))\n",
    "for i in tqdm(range(len(chardf))):\n",
    "    char = chardf.iloc[i].values[0]\n",
    "    try:\n",
    "        img = get_image(font, char)\n",
    "        with open(png_fd+'%s__%s__%s.png'%(ttf[1],ttf[2],str(i)), \"wb\") as f:\n",
    "            img.save(f, \"PNG\")\n",
    "    except:\n",
    "        # print(ttf[1], ttf[2], char)\n",
    "        pass\n"
   ]
  },
  {
   "cell_type": "code",
   "execution_count": 61,
   "id": "f5382ad4-03e1-4353-83cc-a76705420dca",
   "metadata": {
    "tags": []
   },
   "outputs": [],
   "source": [
    "applemj = [f for f in os.listdir(png_fd) if \"apple__AppleMyungjo__\" in f]"
   ]
  },
  {
   "cell_type": "code",
   "execution_count": 62,
   "id": "9dc8cd1d-c948-41f2-b71d-665b027a14ee",
   "metadata": {
    "tags": []
   },
   "outputs": [
    {
     "data": {
      "text/plain": [
       "11172"
      ]
     },
     "execution_count": 62,
     "metadata": {},
     "output_type": "execute_result"
    }
   ],
   "source": [
    "len(applemj)"
   ]
  },
  {
   "cell_type": "code",
   "execution_count": 51,
   "id": "b883b026-daab-413e-8654-3d280ada2305",
   "metadata": {
    "tags": []
   },
   "outputs": [
    {
     "data": {
      "text/plain": [
       "11172"
      ]
     },
     "execution_count": 51,
     "metadata": {},
     "output_type": "execute_result"
    }
   ],
   "source": [
    "len(chardf)"
   ]
  },
  {
   "cell_type": "code",
   "execution_count": null,
   "id": "e5ee2db4-dfe5-4eec-96ca-405db64978c9",
   "metadata": {},
   "outputs": [],
   "source": []
  }
 ],
 "metadata": {
  "environment": {
   "kernel": "python3",
   "name": ".m116",
   "type": "gcloud",
   "uri": "gcr.io/deeplearning-platform-release/:m116"
  },
  "kernelspec": {
   "display_name": "Python 3",
   "language": "python",
   "name": "python3"
  },
  "language_info": {
   "codemirror_mode": {
    "name": "ipython",
    "version": 3
   },
   "file_extension": ".py",
   "mimetype": "text/x-python",
   "name": "python",
   "nbconvert_exporter": "python",
   "pygments_lexer": "ipython3",
   "version": "3.10.13"
  }
 },
 "nbformat": 4,
 "nbformat_minor": 5
}
