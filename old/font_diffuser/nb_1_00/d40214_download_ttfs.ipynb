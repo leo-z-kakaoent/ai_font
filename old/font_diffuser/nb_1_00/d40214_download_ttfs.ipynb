{
 "cells": [
  {
   "cell_type": "code",
   "execution_count": 1,
   "id": "156e3b11-6f39-4ea0-b4d2-d41dc89347b4",
   "metadata": {
    "tags": []
   },
   "outputs": [
    {
     "name": "stderr",
     "output_type": "stream",
     "text": [
      "100%|██████████| 347/347 [02:50<00:00,  2.04it/s, filename=r40202/ttfs/twice tzuyu_4.ttf]                        \n"
     ]
    }
   ],
   "source": [
    "from google.cloud import storage\n",
    "from pathlib import Path\n",
    "from tqdm import tqdm\n",
    "\n",
    "source_file_fd = 'data/'    # GCP에 업로드할 파일 절대경로\n",
    "\n",
    "storage_client = storage.Client()\n",
    "bucket = storage_client.bucket('leo_font')\n",
    "\n",
    "pbar = tqdm([f for f in storage_client.list_blobs(\"leo_font\", prefix=\"r40202/ttfs\") if \".ttf\" in f.name])\n",
    "for file in pbar:\n",
    "    blob = bucket.blob(file.name)\n",
    "    blob.download_to_filename(source_file_fd+file.name)\n",
    "    pbar.set_postfix(filename=file.name)"
   ]
  },
  {
   "cell_type": "code",
   "execution_count": null,
   "id": "d133e610-f580-474d-864e-140d86b82e3a",
   "metadata": {},
   "outputs": [],
   "source": []
  }
 ],
 "metadata": {
  "environment": {
   "kernel": "python3",
   "name": ".m116",
   "type": "gcloud",
   "uri": "gcr.io/deeplearning-platform-release/:m116"
  },
  "kernelspec": {
   "display_name": "Python 3",
   "language": "python",
   "name": "python3"
  },
  "language_info": {
   "codemirror_mode": {
    "name": "ipython",
    "version": 3
   },
   "file_extension": ".py",
   "mimetype": "text/x-python",
   "name": "python",
   "nbconvert_exporter": "python",
   "pygments_lexer": "ipython3",
   "version": "3.10.13"
  }
 },
 "nbformat": 4,
 "nbformat_minor": 5
}
