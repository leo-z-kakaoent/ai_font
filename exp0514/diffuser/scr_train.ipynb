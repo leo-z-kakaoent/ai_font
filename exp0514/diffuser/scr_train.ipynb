{
 "cells": [
  {
   "cell_type": "code",
   "execution_count": 56,
   "id": "194acdda-4ca2-4b14-a636-aaed2a87d6db",
   "metadata": {
    "tags": []
   },
   "outputs": [],
   "source": [
    "import os\n",
    "import random\n",
    "import copy\n",
    "from PIL import Image\n",
    "\n",
    "import pickle\n",
    "import numpy as np\n",
    "import pandas as pd\n",
    "import torch\n",
    "from tqdm import tqdm\n",
    "from torch.utils.data import Dataset, DataLoader\n",
    "import torchvision.transforms as transforms\n",
    "\n",
    "from google.cloud import storage\n",
    "\n",
    "storage_client = storage.Client(\"leo_font\")\n",
    "bucket = storage_client.bucket(\"leo_font\")\n",
    "\n",
    "from scr import SCR"
   ]
  },
  {
   "cell_type": "code",
   "execution_count": 67,
   "id": "446c25dd-bbbf-4554-a4bb-6bab81c9679d",
   "metadata": {
    "tags": []
   },
   "outputs": [],
   "source": [
    "def save_model(state_dict, savefd, model_name):\n",
    "    blob = bucket.blob(f\"{savefd}/{model_name}.pth\")\n",
    "    with blob.open(\"wb\", ignore_flush=True) as f:\n",
    "        torch.save(state_dict, f)"
   ]
  },
  {
   "cell_type": "code",
   "execution_count": 68,
   "id": "d51d3a8d-0db6-4f54-a4c7-bc17efb69826",
   "metadata": {
    "tags": []
   },
   "outputs": [],
   "source": [
    "# Sample, Positive, Negative. By Style\n",
    "class SCRDataset(Dataset):\n",
    "\n",
    "    def __init__(self, path, num_neg=4):\n",
    "        super().__init__()\n",
    "        self.path = path\n",
    "        self.resolution = 96 # default\n",
    "        self.num_neg = num_neg\n",
    "        self.letter_mapper_a = pd.read_pickle(f\"{path}/pickle/letter_mapper_a.pickle\")\n",
    "        self.letter_mapper_b = pd.read_pickle(f\"{path}/pickle/letter_mapper_b.pickle\")\n",
    "        self.font_mapper = pd.read_pickle(f\"{path}/pickle/font_mapper.pickle\")\n",
    "        self.letter_mapper_ab = self.letter_mapper_a.similar + self.letter_mapper_b.similar\n",
    "        self.fonts = self.font_mapper.index\n",
    "        \n",
    "        self.transform = transforms.Compose([\n",
    "            transforms.Resize((96, 96)),\n",
    "            transforms.ToTensor(),\n",
    "            transforms.Normalize([0.5], [0.5])\n",
    "        ])\n",
    "        \n",
    "    def __len__(self):\n",
    "        return len(self.fonts)\n",
    "        \n",
    "    def __getitem__(self, index):\n",
    "        font = self.fonts[index]\n",
    "        contents = copy.deepcopy(self.font_mapper.loc[font])\n",
    "        \n",
    "        content = contents.pop(random.randint(0, len(contents)-1))\n",
    "        sample_img_path = f\"{self.path}/train/pngs/{font}__{content}.png\"\n",
    "        \n",
    "        pos_content = contents.pop(random.randint(0, len(contents)-1))\n",
    "        pos_img_path = f\"{self.path}/train/pngs/{font}__{content}.png\"\n",
    "        \n",
    "        sample_img = self.transform(Image.open(sample_img_path).convert(\"RGB\"))\n",
    "        pos_img = self.transform(Image.open(pos_img_path).convert(\"RGB\"))\n",
    "        \n",
    "        neg_imgs = []\n",
    "        while len(neg_imgs) < self.num_neg:\n",
    "            neg_font = random.choice(self.fonts)\n",
    "            neg_img_path = f\"{self.path}/train/pngs/{neg_font}__{content}.png\"\n",
    "            if os.path.exists(neg_img_path) & (font != neg_font):\n",
    "                neg_imgs.append(self.transform(Image.open(neg_img_path).convert(\"RGB\")))\n",
    "        \n",
    "        return sample_img, pos_img, torch.stack(neg_imgs)"
   ]
  },
  {
   "cell_type": "code",
   "execution_count": 69,
   "id": "11aa84a9-240f-4dd1-8e4d-e7816d86ca20",
   "metadata": {
    "tags": []
   },
   "outputs": [],
   "source": [
    "scr_ds = SCRDataset(path=path)\n",
    "scr_dl = DataLoader(scr_ds, shuffle=True, batch_size=64, num_workers=4)"
   ]
  },
  {
   "cell_type": "code",
   "execution_count": 70,
   "id": "f748e218-1e7f-4495-8c04-212732a4223f",
   "metadata": {
    "tags": []
   },
   "outputs": [],
   "source": [
    "scr_model = SCR()\n",
    "scr_model = scr_model.cuda()"
   ]
  },
  {
   "cell_type": "code",
   "execution_count": 71,
   "id": "d8cbb467-a405-4e41-affb-09d3d4f38de0",
   "metadata": {
    "tags": []
   },
   "outputs": [],
   "source": [
    "optimizer = torch.optim.AdamW(scr_model.parameters(), lr=1e-5)"
   ]
  },
  {
   "cell_type": "code",
   "execution_count": 72,
   "id": "09e2dc57-9558-4564-ade0-b53a02665480",
   "metadata": {
    "tags": []
   },
   "outputs": [],
   "source": [
    "epoch = 1000\n",
    "savefd = \"exp0514/scr\""
   ]
  },
  {
   "cell_type": "code",
   "execution_count": 74,
   "id": "479a3f36-36a3-4267-ba07-2b945b0a70e5",
   "metadata": {
    "tags": []
   },
   "outputs": [
    {
     "name": "stderr",
     "output_type": "stream",
     "text": [
      "  0%|          | 0/1000 [00:00<?, ?it/s]/opt/conda/envs/pytorch/lib/python3.10/site-packages/numpy/core/fromnumeric.py:3504: RuntimeWarning: Mean of empty slice.\n",
      "  return _methods._mean(a, axis=axis, dtype=dtype,\n",
      "/opt/conda/envs/pytorch/lib/python3.10/site-packages/numpy/core/_methods.py:129: RuntimeWarning: invalid value encountered in scalar divide\n",
      "  ret = ret.dtype.type(ret / rcount)\n",
      "  0%|          | 2/1000 [00:58<8:08:37, 29.38s/it]\n"
     ]
    },
    {
     "ename": "KeyboardInterrupt",
     "evalue": "",
     "output_type": "error",
     "traceback": [
      "\u001b[0;31m---------------------------------------------------------------------------\u001b[0m",
      "\u001b[0;31mKeyboardInterrupt\u001b[0m                         Traceback (most recent call last)",
      "Cell \u001b[0;32mIn[74], line 11\u001b[0m\n\u001b[1;32m      8\u001b[0m     sample_emb, pos_emb, neg_emb \u001b[38;5;241m=\u001b[39m scr_model(sample_img\u001b[38;5;241m.\u001b[39mcuda(), pos_img\u001b[38;5;241m.\u001b[39mcuda(), neg_imgs\u001b[38;5;241m.\u001b[39mcuda())\n\u001b[1;32m      9\u001b[0m     loss \u001b[38;5;241m=\u001b[39m scr_model\u001b[38;5;241m.\u001b[39mcalculate_nce_loss(sample_emb, pos_emb, neg_emb)\n\u001b[0;32m---> 11\u001b[0m     \u001b[43mloss\u001b[49m\u001b[38;5;241;43m.\u001b[39;49m\u001b[43mbackward\u001b[49m\u001b[43m(\u001b[49m\u001b[43m)\u001b[49m\n\u001b[1;32m     12\u001b[0m     optimizer\u001b[38;5;241m.\u001b[39mstep()\n\u001b[1;32m     13\u001b[0m lossdicts\u001b[38;5;241m.\u001b[39mappend({\u001b[38;5;124m\"\u001b[39m\u001b[38;5;124mloss\u001b[39m\u001b[38;5;124m\"\u001b[39m:np\u001b[38;5;241m.\u001b[39mmean(losses)})\n",
      "File \u001b[0;32m/opt/conda/envs/pytorch/lib/python3.10/site-packages/torch/_tensor.py:488\u001b[0m, in \u001b[0;36mTensor.backward\u001b[0;34m(self, gradient, retain_graph, create_graph, inputs)\u001b[0m\n\u001b[1;32m    478\u001b[0m \u001b[38;5;28;01mif\u001b[39;00m has_torch_function_unary(\u001b[38;5;28mself\u001b[39m):\n\u001b[1;32m    479\u001b[0m     \u001b[38;5;28;01mreturn\u001b[39;00m handle_torch_function(\n\u001b[1;32m    480\u001b[0m         Tensor\u001b[38;5;241m.\u001b[39mbackward,\n\u001b[1;32m    481\u001b[0m         (\u001b[38;5;28mself\u001b[39m,),\n\u001b[0;32m   (...)\u001b[0m\n\u001b[1;32m    486\u001b[0m         inputs\u001b[38;5;241m=\u001b[39minputs,\n\u001b[1;32m    487\u001b[0m     )\n\u001b[0;32m--> 488\u001b[0m \u001b[43mtorch\u001b[49m\u001b[38;5;241;43m.\u001b[39;49m\u001b[43mautograd\u001b[49m\u001b[38;5;241;43m.\u001b[39;49m\u001b[43mbackward\u001b[49m\u001b[43m(\u001b[49m\n\u001b[1;32m    489\u001b[0m \u001b[43m    \u001b[49m\u001b[38;5;28;43mself\u001b[39;49m\u001b[43m,\u001b[49m\u001b[43m \u001b[49m\u001b[43mgradient\u001b[49m\u001b[43m,\u001b[49m\u001b[43m \u001b[49m\u001b[43mretain_graph\u001b[49m\u001b[43m,\u001b[49m\u001b[43m \u001b[49m\u001b[43mcreate_graph\u001b[49m\u001b[43m,\u001b[49m\u001b[43m \u001b[49m\u001b[43minputs\u001b[49m\u001b[38;5;241;43m=\u001b[39;49m\u001b[43minputs\u001b[49m\n\u001b[1;32m    490\u001b[0m \u001b[43m\u001b[49m\u001b[43m)\u001b[49m\n",
      "File \u001b[0;32m/opt/conda/envs/pytorch/lib/python3.10/site-packages/torch/autograd/__init__.py:197\u001b[0m, in \u001b[0;36mbackward\u001b[0;34m(tensors, grad_tensors, retain_graph, create_graph, grad_variables, inputs)\u001b[0m\n\u001b[1;32m    192\u001b[0m     retain_graph \u001b[38;5;241m=\u001b[39m create_graph\n\u001b[1;32m    194\u001b[0m \u001b[38;5;66;03m# The reason we repeat same the comment below is that\u001b[39;00m\n\u001b[1;32m    195\u001b[0m \u001b[38;5;66;03m# some Python versions print out the first line of a multi-line function\u001b[39;00m\n\u001b[1;32m    196\u001b[0m \u001b[38;5;66;03m# calls in the traceback and some print out the last line\u001b[39;00m\n\u001b[0;32m--> 197\u001b[0m \u001b[43mVariable\u001b[49m\u001b[38;5;241;43m.\u001b[39;49m\u001b[43m_execution_engine\u001b[49m\u001b[38;5;241;43m.\u001b[39;49m\u001b[43mrun_backward\u001b[49m\u001b[43m(\u001b[49m\u001b[43m  \u001b[49m\u001b[38;5;66;43;03m# Calls into the C++ engine to run the backward pass\u001b[39;49;00m\n\u001b[1;32m    198\u001b[0m \u001b[43m    \u001b[49m\u001b[43mtensors\u001b[49m\u001b[43m,\u001b[49m\u001b[43m \u001b[49m\u001b[43mgrad_tensors_\u001b[49m\u001b[43m,\u001b[49m\u001b[43m \u001b[49m\u001b[43mretain_graph\u001b[49m\u001b[43m,\u001b[49m\u001b[43m \u001b[49m\u001b[43mcreate_graph\u001b[49m\u001b[43m,\u001b[49m\u001b[43m \u001b[49m\u001b[43minputs\u001b[49m\u001b[43m,\u001b[49m\n\u001b[1;32m    199\u001b[0m \u001b[43m    \u001b[49m\u001b[43mallow_unreachable\u001b[49m\u001b[38;5;241;43m=\u001b[39;49m\u001b[38;5;28;43;01mTrue\u001b[39;49;00m\u001b[43m,\u001b[49m\u001b[43m \u001b[49m\u001b[43maccumulate_grad\u001b[49m\u001b[38;5;241;43m=\u001b[39;49m\u001b[38;5;28;43;01mTrue\u001b[39;49;00m\u001b[43m)\u001b[49m\n",
      "\u001b[0;31mKeyboardInterrupt\u001b[0m: "
     ]
    }
   ],
   "source": [
    "lossdicts = []\n",
    "for epoch_i in tqdm(range(epoch)):\n",
    "    losses = []\n",
    "    for x in scr_dl:\n",
    "        optimizer.zero_grad()\n",
    "\n",
    "        sample_img, pos_img, neg_imgs = x\n",
    "        sample_emb, pos_emb, neg_emb = scr_model(sample_img.cuda(), pos_img.cuda(), neg_imgs.cuda())\n",
    "        loss = scr_model.calculate_nce_loss(sample_emb, pos_emb, neg_emb)\n",
    "\n",
    "        loss.backward()\n",
    "        optimizer.step()\n",
    "    save_model(scr_model.state_dict(), savefd, f\"scr__{epoch_i}.pth\")"
   ]
  },
  {
   "cell_type": "code",
   "execution_count": null,
   "id": "bf085f5a-0cd5-4c48-a40b-6aaf683fd041",
   "metadata": {},
   "outputs": [],
   "source": []
  }
 ],
 "metadata": {
  "environment": {
   "kernel": "conda-env-pytorch-pytorch",
   "name": "workbench-notebooks.m120",
   "type": "gcloud",
   "uri": "us-docker.pkg.dev/deeplearning-platform-release/gcr.io/workbench-notebooks:m120"
  },
  "kernelspec": {
   "display_name": "PyTorch 1-13 (Local)",
   "language": "python",
   "name": "conda-env-pytorch-pytorch"
  },
  "language_info": {
   "codemirror_mode": {
    "name": "ipython",
    "version": 3
   },
   "file_extension": ".py",
   "mimetype": "text/x-python",
   "name": "python",
   "nbconvert_exporter": "python",
   "pygments_lexer": "ipython3",
   "version": "3.10.14"
  }
 },
 "nbformat": 4,
 "nbformat_minor": 5
}
