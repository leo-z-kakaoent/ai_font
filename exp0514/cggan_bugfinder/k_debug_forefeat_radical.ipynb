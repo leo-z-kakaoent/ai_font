{
 "cells": [
  {
   "cell_type": "code",
   "execution_count": 6,
   "id": "126350e7-e38a-4a49-afdb-684bf2337b2d",
   "metadata": {
    "tags": []
   },
   "outputs": [],
   "source": [
    "import torch\n",
    "import torch.nn as nn\n",
    "from networks import AttnDecoderRNN, CNN\n",
    "from model import CHARACTERModel"
   ]
  },
  {
   "cell_type": "code",
   "execution_count": 21,
   "id": "6aa9582d-8cea-46b3-9c13-e7ac055cc0c8",
   "metadata": {
    "tags": []
   },
   "outputs": [],
   "source": [
    "class CAM_normD(nn.Module):\n",
    "    def __init__(self,nclass,channel_size,hidden_size,output_size,dropout_p=0.1,max_length = 64,D_ch =16, nWriter = 1300,iam = False):\n",
    "        super(CAM_normD,self).__init__()\n",
    "        self.encoder =CNN(channel_size)\n",
    "        self.hidden_size = hidden_size\n",
    "        \n",
    "        self.decoder_forradical = AttnDecoderRNN(hidden_size, output_size, dropout_p,max_length)\n",
    "        # self.decoderfeat_forradical =nn.Sequential(\n",
    "        #     nn.Conv2d(256, 128, 3, 1, 1), nn.InstanceNorm2d(128), nn.PReLU(), nn.AvgPool2d(2, 2),\n",
    "        #     nn.Conv2d(128, 64, 3, 1, 1), nn.InstanceNorm2d(128), nn.PReLU(), nn.MaxPool2d(2, 2),\n",
    "        #     nn.Conv2d(64, 16, 3, 1, 1), nn.InstanceNorm2d(16), nn.PReLU(),\n",
    "        #     nn.Conv2d(16, 1, 3, 1, 1)\n",
    "        #     )        \n",
    "\n",
    "        self.decoderfeat_forradical0 =nn.Sequential(\n",
    "            nn.Conv2d(256, 128, 3, 1, 1), nn.InstanceNorm2d(128), nn.PReLU(), nn.AvgPool2d(2, 2),\n",
    "            nn.Conv2d(128, 64, 3, 1, 1)\n",
    "            )        \n",
    "\n",
    "        self.decoderfeat_forradical1 =nn.Sequential(\n",
    "            nn.InstanceNorm2d(128), nn.PReLU(), nn.MaxPool2d(2, 2),\n",
    "            nn.Conv2d(64, 16, 3, 1, 1), nn.InstanceNorm2d(16), nn.PReLU(),\n",
    "            nn.Conv2d(16, 1, 3, 1, 1)\n",
    "            )        \n",
    "\n",
    "        \n",
    "\n",
    "    def initHidden(batch_size,hidden_size):\n",
    "        result = torch.autograd.Variable(torch.zeros(1, batch_size, hidden_size))\n",
    "        return result\n",
    "\n",
    "    def forward(self, image, text_radical, length_radical):\n",
    "        \n",
    "        encode = self.encoder(image)\n",
    "        b, c, _, _ = encode.size() #batch,256\n",
    "        \n",
    "        # out, bottleneck_out = self.unetD(image)\n",
    "        loss_forradical,new_encode= self.decoder_forradical(encode,image,text_radical,length_radical)\n",
    "        # pred_radical = self.decoderfeat_forradical(new_encode)\n",
    "        pred_radical0 = self.decoderfeat_forradical0(new_encode)\n",
    "        pred_radical1 = self.decoderfeat_forradical1(pred_radical0)\n",
    "        pred_radical = (pred_radical0, pred_radical1)\n",
    "        \n",
    "        return pred_radical, loss_forradical"
   ]
  },
  {
   "cell_type": "code",
   "execution_count": 8,
   "id": "0fd27d95-5f40-44d9-9f9d-b00ca583f406",
   "metadata": {
    "tags": []
   },
   "outputs": [],
   "source": [
    "from options import TrainOptions\n",
    "opt = TrainOptions()\n",
    "from x_dataset import CGGANDataset\n",
    "\n",
    "dataset = CGGANDataset(args=opt)\n",
    "train_loader = torch.utils.data.DataLoader(\n",
    "    dataset, batch_size=opt.batch_size,\n",
    "    shuffle=True, sampler=None, drop_last=True, num_workers=int(opt.num_threads))"
   ]
  },
  {
   "cell_type": "code",
   "execution_count": 9,
   "id": "be491b67-80c9-4825-9cea-620520bcd69e",
   "metadata": {
    "tags": []
   },
   "outputs": [],
   "source": [
    "nclass = opt.n_alphabet+1\n",
    "channel_size = opt.input_nc\n",
    "hidden_size = opt.hidden_size\n",
    "output_size = opt.n_alphabet+2\n",
    "dropout_p = opt.dropout_p\n",
    "max_length = opt.max_length\n",
    "D_ch = opt.D_ch\n",
    "nWriter = opt.num_writer\n",
    "norm = opt.norm\n",
    "init_type = opt.init_type \n",
    "init_gain = opt.init_gain\n",
    "iam = False"
   ]
  },
  {
   "cell_type": "code",
   "execution_count": 22,
   "id": "d6b1eb01-41cd-47c1-8345-da18260a3417",
   "metadata": {
    "tags": []
   },
   "outputs": [],
   "source": [
    "camD = CAM_normD(nclass,channel_size,hidden_size,output_size,dropout_p,max_length,D_ch,nWriter,iam)\n",
    "camD = camD.cuda()"
   ]
  },
  {
   "cell_type": "code",
   "execution_count": 11,
   "id": "ed1f3aab-000b-4812-8c5f-aabadeecff55",
   "metadata": {
    "tags": []
   },
   "outputs": [
    {
     "name": "stdout",
     "output_type": "stream",
     "text": [
      "Param count for Ds initialized parameters: 19541696\n",
      "Param count for Ds initialized parameters: 20591296\n",
      "Param count for Ds initialized parameters: 27289027\n"
     ]
    }
   ],
   "source": [
    "model = CHARACTERModel(opt=opt)"
   ]
  },
  {
   "cell_type": "code",
   "execution_count": null,
   "id": "53944e4f-ea55-421e-9f06-fd8ee8907eae",
   "metadata": {},
   "outputs": [],
   "source": [
    "# self.netD(self.img_print2write, self.new_lexicon_B, self.new_lexicon_B_length) "
   ]
  },
  {
   "cell_type": "code",
   "execution_count": 13,
   "id": "428d0a84-46ab-440c-a125-36336189adc5",
   "metadata": {
    "tags": []
   },
   "outputs": [],
   "source": [
    "data = next(iter(train_loader))"
   ]
  },
  {
   "cell_type": "code",
   "execution_count": 14,
   "id": "6f667117-bf8c-4d74-9fd1-3becba25a94d",
   "metadata": {
    "tags": []
   },
   "outputs": [],
   "source": [
    "model.set_input(data)"
   ]
  },
  {
   "cell_type": "code",
   "execution_count": 15,
   "id": "6d164d42-c3a6-4b41-aaec-376101a60eb7",
   "metadata": {
    "tags": []
   },
   "outputs": [],
   "source": [
    "model.forward()"
   ]
  },
  {
   "cell_type": "code",
   "execution_count": 17,
   "id": "530e414d-1f62-44ff-9056-ed6cff3371db",
   "metadata": {
    "tags": []
   },
   "outputs": [
    {
     "data": {
      "text/plain": [
       "torch.Size([32, 3, 128, 128])"
      ]
     },
     "execution_count": 17,
     "metadata": {},
     "output_type": "execute_result"
    }
   ],
   "source": [
    "model.img_print2write.shape"
   ]
  },
  {
   "cell_type": "code",
   "execution_count": 31,
   "id": "1e0738a6-fb6a-4444-a0ea-b23dc3ae1b32",
   "metadata": {
    "tags": []
   },
   "outputs": [],
   "source": [
    "a = camD(model.img_print2write, model.new_lexicon_B, model.new_lexicon_B_length)"
   ]
  },
  {
   "cell_type": "code",
   "execution_count": 40,
   "id": "e1b66628-e7b2-4f09-a2a3-d94ab330fd84",
   "metadata": {
    "tags": []
   },
   "outputs": [
    {
     "data": {
      "text/plain": [
       "torch.Size([160, 64, 4, 4])"
      ]
     },
     "execution_count": 40,
     "metadata": {},
     "output_type": "execute_result"
    }
   ],
   "source": [
    "a[0][0].shape"
   ]
  },
  {
   "cell_type": "code",
   "execution_count": 75,
   "id": "35d6d4fc-aeec-4c8f-aa2c-fa7312656664",
   "metadata": {
    "tags": []
   },
   "outputs": [
    {
     "data": {
      "text/plain": [
       "InstanceNorm2d(64, eps=1e-05, momentum=0.1, affine=False, track_running_stats=True)"
      ]
     },
     "execution_count": 75,
     "metadata": {},
     "output_type": "execute_result"
    }
   ],
   "source": [
    "b = nn.InstanceNorm2d(64,track_running_stats=True).cuda()\n",
    "b.eval()"
   ]
  },
  {
   "cell_type": "code",
   "execution_count": 76,
   "id": "f9fa244b-bd2f-4eec-9c7a-4eedb0541734",
   "metadata": {
    "tags": []
   },
   "outputs": [
    {
     "data": {
      "text/plain": [
       "tensor([[[[-0.0839,  0.0087, -0.0390, -0.2772],\n",
       "          [-0.3285, -0.5137, -0.1781, -0.2795],\n",
       "          [-0.3589, -0.1092,  0.0340, -0.2758],\n",
       "          [-0.1578, -0.4120,  0.0130, -0.2952]],\n",
       "\n",
       "         [[-0.2020, -0.1731, -0.2308, -0.2204],\n",
       "          [-0.1027, -0.0761,  0.1375,  0.0179],\n",
       "          [-0.0535, -0.2236, -0.6262, -0.3130],\n",
       "          [-0.1018,  0.0040, -0.0196, -0.0463]],\n",
       "\n",
       "         [[-0.0065, -0.2700, -0.0223, -0.1415],\n",
       "          [ 0.0446, -0.7038,  0.0298, -0.1190],\n",
       "          [-0.4223, -0.0909,  0.0758,  0.1424],\n",
       "          [-0.1900, -0.2101,  0.2156, -0.1500]],\n",
       "\n",
       "         ...,\n",
       "\n",
       "         [[ 0.1089,  0.1299,  0.0216,  0.2868],\n",
       "          [-0.2605, -0.0535,  0.4585,  0.5000],\n",
       "          [-0.1042,  0.1655,  0.3769,  0.2644],\n",
       "          [ 0.0191,  0.3691,  0.3372, -0.0112]],\n",
       "\n",
       "         [[ 0.0536,  0.0084, -0.0070,  0.1037],\n",
       "          [ 0.1634,  0.2899,  0.2397,  0.1969],\n",
       "          [ 0.0274,  0.4197,  0.4157,  0.0857],\n",
       "          [ 0.1810,  0.3479,  0.3841, -0.0785]],\n",
       "\n",
       "         [[-0.1135, -0.1401, -0.4111, -0.0579],\n",
       "          [ 0.1346,  0.1935, -0.1048,  0.0173],\n",
       "          [-0.1479, -0.2726, -0.3157, -0.2832],\n",
       "          [ 0.1418, -0.1339, -0.2999, -0.1617]]],\n",
       "\n",
       "\n",
       "        [[[-0.1310, -0.0557,  0.1430, -0.2075],\n",
       "          [-0.3937, -0.6975, -0.1392, -0.4138],\n",
       "          [-0.3839, -0.1426,  0.0031, -0.1096],\n",
       "          [-0.2237, -0.4143, -0.0371, -0.3034]],\n",
       "\n",
       "         [[-0.1872, -0.2236, -0.2112, -0.1114],\n",
       "          [ 0.0198,  0.0426, -0.0755, -0.1469],\n",
       "          [-0.0197, -0.1141, -0.3330, -0.2613],\n",
       "          [-0.1446, -0.0345, -0.2032,  0.0513]],\n",
       "\n",
       "         [[ 0.0049, -0.3591, -0.0643, -0.0476],\n",
       "          [-0.0664, -0.7138,  0.2567, -0.0943],\n",
       "          [-0.3529, -0.1248,  0.1942,  0.0262],\n",
       "          [-0.3106, -0.2493,  0.2244, -0.0963]],\n",
       "\n",
       "         ...,\n",
       "\n",
       "         [[-0.1236,  0.1172,  0.1040,  0.2490],\n",
       "          [-0.1969,  0.0719,  0.6186,  0.5310],\n",
       "          [-0.2233,  0.2681, -0.0127,  0.3351],\n",
       "          [-0.0407,  0.2595,  0.4241,  0.1179]],\n",
       "\n",
       "         [[-0.0397,  0.1280, -0.0617,  0.2328],\n",
       "          [ 0.1169,  0.2665,  0.1956,  0.1751],\n",
       "          [ 0.3331,  0.3160,  0.2652,  0.0792],\n",
       "          [ 0.0646,  0.1523,  0.3462, -0.1133]],\n",
       "\n",
       "         [[-0.2304, -0.2588, -0.2205,  0.0538],\n",
       "          [ 0.1598,  0.1734, -0.1057, -0.1236],\n",
       "          [-0.1084, -0.3454, -0.0529, -0.3946],\n",
       "          [-0.0127, -0.0900, -0.1653, -0.1733]]],\n",
       "\n",
       "\n",
       "        [[[-0.1809, -0.0542,  0.0099, -0.2801],\n",
       "          [-0.3560, -0.4325, -0.1573, -0.2813],\n",
       "          [-0.4504, -0.1134, -0.0045, -0.3360],\n",
       "          [-0.0967, -0.2494, -0.0872, -0.3323]],\n",
       "\n",
       "         [[-0.1072, -0.3038, -0.0384, -0.2959],\n",
       "          [-0.0678, -0.0627, -0.0102, -0.2172],\n",
       "          [-0.1494, -0.3555, -0.3994, -0.2288],\n",
       "          [-0.1184, -0.0009,  0.0493, -0.1167]],\n",
       "\n",
       "         [[-0.0096, -0.4296,  0.1563, -0.1731],\n",
       "          [-0.2051, -0.2581,  0.0121, -0.1047],\n",
       "          [-0.3299, -0.3996,  0.3105, -0.0271],\n",
       "          [-0.3588,  0.0228,  0.1916, -0.1486]],\n",
       "\n",
       "         ...,\n",
       "\n",
       "         [[-0.0504,  0.2005,  0.0464,  0.2062],\n",
       "          [-0.2601,  0.2879,  0.3739,  0.4486],\n",
       "          [-0.2312,  0.2182,  0.3455,  0.2521],\n",
       "          [ 0.0028,  0.3401,  0.4515, -0.0121]],\n",
       "\n",
       "         [[-0.0335,  0.1812, -0.2145,  0.3431],\n",
       "          [ 0.0215,  0.2540,  0.4692,  0.0148],\n",
       "          [ 0.1563,  0.4143,  0.1156, -0.0332],\n",
       "          [ 0.3169,  0.3812,  0.2243, -0.0193]],\n",
       "\n",
       "         [[-0.1456, -0.1695, -0.2355,  0.0554],\n",
       "          [ 0.1234,  0.0983, -0.1529, -0.0268],\n",
       "          [-0.1471, -0.4900, -0.1960, -0.4386],\n",
       "          [ 0.0101, -0.1822, -0.3588, -0.0215]]],\n",
       "\n",
       "\n",
       "        ...,\n",
       "\n",
       "\n",
       "        [[[ 0.0099,  0.0099,  0.0099,  0.0099],\n",
       "          [ 0.0099,  0.0099,  0.0099,  0.0099],\n",
       "          [ 0.0099,  0.0099,  0.0099,  0.0099],\n",
       "          [ 0.0099,  0.0099,  0.0099,  0.0099]],\n",
       "\n",
       "         [[-0.0102, -0.0102, -0.0102, -0.0102],\n",
       "          [-0.0102, -0.0102, -0.0102, -0.0102],\n",
       "          [-0.0102, -0.0102, -0.0102, -0.0102],\n",
       "          [-0.0102, -0.0102, -0.0102, -0.0102]],\n",
       "\n",
       "         [[-0.0205, -0.0205, -0.0205, -0.0205],\n",
       "          [-0.0205, -0.0205, -0.0205, -0.0205],\n",
       "          [-0.0205, -0.0205, -0.0205, -0.0205],\n",
       "          [-0.0205, -0.0205, -0.0205, -0.0205]],\n",
       "\n",
       "         ...,\n",
       "\n",
       "         [[ 0.0025,  0.0025,  0.0025,  0.0025],\n",
       "          [ 0.0025,  0.0025,  0.0025,  0.0025],\n",
       "          [ 0.0025,  0.0025,  0.0025,  0.0025],\n",
       "          [ 0.0025,  0.0025,  0.0025,  0.0025]],\n",
       "\n",
       "         [[-0.0209, -0.0209, -0.0209, -0.0209],\n",
       "          [-0.0209, -0.0209, -0.0209, -0.0209],\n",
       "          [-0.0209, -0.0209, -0.0209, -0.0209],\n",
       "          [-0.0209, -0.0209, -0.0209, -0.0209]],\n",
       "\n",
       "         [[ 0.0078,  0.0078,  0.0078,  0.0078],\n",
       "          [ 0.0078,  0.0078,  0.0078,  0.0078],\n",
       "          [ 0.0078,  0.0078,  0.0078,  0.0078],\n",
       "          [ 0.0078,  0.0078,  0.0078,  0.0078]]],\n",
       "\n",
       "\n",
       "        [[[ 0.0099,  0.0099,  0.0099,  0.0099],\n",
       "          [ 0.0099,  0.0099,  0.0099,  0.0099],\n",
       "          [ 0.0099,  0.0099,  0.0099,  0.0099],\n",
       "          [ 0.0099,  0.0099,  0.0099,  0.0099]],\n",
       "\n",
       "         [[-0.0102, -0.0102, -0.0102, -0.0102],\n",
       "          [-0.0102, -0.0102, -0.0102, -0.0102],\n",
       "          [-0.0102, -0.0102, -0.0102, -0.0102],\n",
       "          [-0.0102, -0.0102, -0.0102, -0.0102]],\n",
       "\n",
       "         [[-0.0205, -0.0205, -0.0205, -0.0205],\n",
       "          [-0.0205, -0.0205, -0.0205, -0.0205],\n",
       "          [-0.0205, -0.0205, -0.0205, -0.0205],\n",
       "          [-0.0205, -0.0205, -0.0205, -0.0205]],\n",
       "\n",
       "         ...,\n",
       "\n",
       "         [[ 0.0025,  0.0025,  0.0025,  0.0025],\n",
       "          [ 0.0025,  0.0025,  0.0025,  0.0025],\n",
       "          [ 0.0025,  0.0025,  0.0025,  0.0025],\n",
       "          [ 0.0025,  0.0025,  0.0025,  0.0025]],\n",
       "\n",
       "         [[-0.0209, -0.0209, -0.0209, -0.0209],\n",
       "          [-0.0209, -0.0209, -0.0209, -0.0209],\n",
       "          [-0.0209, -0.0209, -0.0209, -0.0209],\n",
       "          [-0.0209, -0.0209, -0.0209, -0.0209]],\n",
       "\n",
       "         [[ 0.0078,  0.0078,  0.0078,  0.0078],\n",
       "          [ 0.0078,  0.0078,  0.0078,  0.0078],\n",
       "          [ 0.0078,  0.0078,  0.0078,  0.0078],\n",
       "          [ 0.0078,  0.0078,  0.0078,  0.0078]]],\n",
       "\n",
       "\n",
       "        [[[ 0.0099,  0.0099,  0.0099,  0.0099],\n",
       "          [ 0.0099,  0.0099,  0.0099,  0.0099],\n",
       "          [ 0.0099,  0.0099,  0.0099,  0.0099],\n",
       "          [ 0.0099,  0.0099,  0.0099,  0.0099]],\n",
       "\n",
       "         [[-0.0102, -0.0102, -0.0102, -0.0102],\n",
       "          [-0.0102, -0.0102, -0.0102, -0.0102],\n",
       "          [-0.0102, -0.0102, -0.0102, -0.0102],\n",
       "          [-0.0102, -0.0102, -0.0102, -0.0102]],\n",
       "\n",
       "         [[-0.0205, -0.0205, -0.0205, -0.0205],\n",
       "          [-0.0205, -0.0205, -0.0205, -0.0205],\n",
       "          [-0.0205, -0.0205, -0.0205, -0.0205],\n",
       "          [-0.0205, -0.0205, -0.0205, -0.0205]],\n",
       "\n",
       "         ...,\n",
       "\n",
       "         [[ 0.0025,  0.0025,  0.0025,  0.0025],\n",
       "          [ 0.0025,  0.0025,  0.0025,  0.0025],\n",
       "          [ 0.0025,  0.0025,  0.0025,  0.0025],\n",
       "          [ 0.0025,  0.0025,  0.0025,  0.0025]],\n",
       "\n",
       "         [[-0.0209, -0.0209, -0.0209, -0.0209],\n",
       "          [-0.0209, -0.0209, -0.0209, -0.0209],\n",
       "          [-0.0209, -0.0209, -0.0209, -0.0209],\n",
       "          [-0.0209, -0.0209, -0.0209, -0.0209]],\n",
       "\n",
       "         [[ 0.0078,  0.0078,  0.0078,  0.0078],\n",
       "          [ 0.0078,  0.0078,  0.0078,  0.0078],\n",
       "          [ 0.0078,  0.0078,  0.0078,  0.0078],\n",
       "          [ 0.0078,  0.0078,  0.0078,  0.0078]]]], device='cuda:0',\n",
       "       grad_fn=<ViewBackward0>)"
      ]
     },
     "execution_count": 76,
     "metadata": {},
     "output_type": "execute_result"
    }
   ],
   "source": [
    "b(a[0][0])"
   ]
  },
  {
   "cell_type": "code",
   "execution_count": 69,
   "id": "ad441e39-bf0a-4302-a9ae-47bb41822d12",
   "metadata": {
    "tags": []
   },
   "outputs": [
    {
     "data": {
      "text/plain": [
       "CAM_normD(\n",
       "  (encoder): CNN(\n",
       "    (cnn): Sequential(\n",
       "      (0): Conv2d(3, 96, kernel_size=(7, 7), stride=(1, 1), padding=(3, 3))\n",
       "      (1): BatchNorm2d(96, eps=1e-05, momentum=0.1, affine=True, track_running_stats=True)\n",
       "      (2): PReLU(num_parameters=1)\n",
       "      (3): MaxPool2d(kernel_size=2, stride=2, padding=0, dilation=1, ceil_mode=False)\n",
       "      (4): Conv2d(96, 128, kernel_size=(3, 3), stride=(1, 1), padding=(1, 1))\n",
       "      (5): BatchNorm2d(128, eps=1e-05, momentum=0.1, affine=True, track_running_stats=True)\n",
       "      (6): PReLU(num_parameters=1)\n",
       "      (7): MaxPool2d(kernel_size=2, stride=2, padding=0, dilation=1, ceil_mode=False)\n",
       "      (8): Conv2d(128, 160, kernel_size=(3, 3), stride=(1, 1), padding=(1, 1))\n",
       "      (9): BatchNorm2d(160, eps=1e-05, momentum=0.1, affine=True, track_running_stats=True)\n",
       "      (10): PReLU(num_parameters=1)\n",
       "      (11): MaxPool2d(kernel_size=2, stride=2, padding=0, dilation=1, ceil_mode=False)\n",
       "      (12): Conv2d(160, 256, kernel_size=(3, 3), stride=(1, 1), padding=(1, 1))\n",
       "      (13): BatchNorm2d(256, eps=1e-05, momentum=0.1, affine=True, track_running_stats=True)\n",
       "      (14): PReLU(num_parameters=1)\n",
       "      (15): Conv2d(256, 256, kernel_size=(3, 3), stride=(1, 1), padding=(1, 1))\n",
       "      (16): BatchNorm2d(256, eps=1e-05, momentum=0.1, affine=True, track_running_stats=True)\n",
       "      (17): PReLU(num_parameters=1)\n",
       "      (18): MaxPool2d(kernel_size=2, stride=2, padding=0, dilation=1, ceil_mode=False)\n",
       "    )\n",
       "  )\n",
       "  (decoder_forradical): AttnDecoderRNN(\n",
       "    (attention_cell): AttnDecoderRNN_Cell(\n",
       "      (embedding): Embedding(11174, 256)\n",
       "      (attn): Linear(in_features=512, out_features=64, bias=True)\n",
       "      (attn_combine): Linear(in_features=512, out_features=256, bias=True)\n",
       "      (dropout): Dropout(p=0.1, inplace=False)\n",
       "      (gru): GRU(256, 256)\n",
       "      (out): Linear(in_features=256, out_features=11174, bias=True)\n",
       "    )\n",
       "    (criterion): CrossEntropyLoss()\n",
       "    (resize): Resize(size=(128, 128), interpolation=bilinear, max_size=None, antialias=None)\n",
       "  )\n",
       "  (decoderfeat_forradical): Sequential(\n",
       "    (0): Conv2d(256, 128, kernel_size=(3, 3), stride=(1, 1), padding=(1, 1))\n",
       "    (1): InstanceNorm2d(128, eps=1e-05, momentum=0.1, affine=False, track_running_stats=False)\n",
       "    (2): PReLU(num_parameters=1)\n",
       "    (3): AvgPool2d(kernel_size=2, stride=2, padding=0)\n",
       "    (4): Conv2d(128, 64, kernel_size=(3, 3), stride=(1, 1), padding=(1, 1))\n",
       "    (5): InstanceNorm2d(128, eps=1e-05, momentum=0.1, affine=False, track_running_stats=False)\n",
       "    (6): PReLU(num_parameters=1)\n",
       "    (7): MaxPool2d(kernel_size=2, stride=2, padding=0, dilation=1, ceil_mode=False)\n",
       "    (8): Conv2d(64, 16, kernel_size=(3, 3), stride=(1, 1), padding=(1, 1))\n",
       "    (9): InstanceNorm2d(16, eps=1e-05, momentum=0.1, affine=False, track_running_stats=False)\n",
       "    (10): PReLU(num_parameters=1)\n",
       "    (11): Conv2d(16, 1, kernel_size=(3, 3), stride=(1, 1), padding=(1, 1))\n",
       "  )\n",
       "  (D): Discriminator(\n",
       "    (activation): ReLU()\n",
       "    (blocks): ModuleList(\n",
       "      (0): ModuleList(\n",
       "        (0): DBlock(\n",
       "          (activation): ReLU()\n",
       "          (downsample): AvgPool2d(kernel_size=2, stride=2, padding=0)\n",
       "          (conv1): SNConv2d(3, 16, kernel_size=(3, 3), stride=(1, 1), padding=(1, 1))\n",
       "          (conv2): SNConv2d(16, 16, kernel_size=(3, 3), stride=(1, 1), padding=(1, 1))\n",
       "          (conv_sc): SNConv2d(3, 16, kernel_size=(1, 1), stride=(1, 1))\n",
       "        )\n",
       "      )\n",
       "      (1): ModuleList(\n",
       "        (0): DBlock(\n",
       "          (activation): ReLU()\n",
       "          (downsample): AvgPool2d(kernel_size=2, stride=2, padding=0)\n",
       "          (conv1): SNConv2d(16, 32, kernel_size=(3, 3), stride=(1, 1), padding=(1, 1))\n",
       "          (conv2): SNConv2d(32, 32, kernel_size=(3, 3), stride=(1, 1), padding=(1, 1))\n",
       "          (conv_sc): SNConv2d(16, 32, kernel_size=(1, 1), stride=(1, 1))\n",
       "        )\n",
       "      )\n",
       "      (2): ModuleList(\n",
       "        (0): DBlock(\n",
       "          (activation): ReLU()\n",
       "          (downsample): AvgPool2d(kernel_size=2, stride=2, padding=0)\n",
       "          (conv1): SNConv2d(32, 64, kernel_size=(3, 3), stride=(1, 1), padding=(1, 1))\n",
       "          (conv2): SNConv2d(64, 64, kernel_size=(3, 3), stride=(1, 1), padding=(1, 1))\n",
       "          (conv_sc): SNConv2d(32, 64, kernel_size=(1, 1), stride=(1, 1))\n",
       "        )\n",
       "      )\n",
       "      (3): ModuleList(\n",
       "        (0): DBlock(\n",
       "          (activation): ReLU()\n",
       "          (downsample): AvgPool2d(kernel_size=2, stride=2, padding=0)\n",
       "          (conv1): SNConv2d(64, 128, kernel_size=(3, 3), stride=(1, 1), padding=(1, 1))\n",
       "          (conv2): SNConv2d(128, 128, kernel_size=(3, 3), stride=(1, 1), padding=(1, 1))\n",
       "          (conv_sc): SNConv2d(64, 128, kernel_size=(1, 1), stride=(1, 1))\n",
       "        )\n",
       "      )\n",
       "      (4): ModuleList(\n",
       "        (0): DBlock(\n",
       "          (activation): ReLU()\n",
       "          (downsample): AvgPool2d(kernel_size=2, stride=2, padding=0)\n",
       "          (conv1): SNConv2d(128, 256, kernel_size=(3, 3), stride=(1, 1), padding=(1, 1))\n",
       "          (conv2): SNConv2d(256, 256, kernel_size=(3, 3), stride=(1, 1), padding=(1, 1))\n",
       "          (conv_sc): SNConv2d(128, 256, kernel_size=(1, 1), stride=(1, 1))\n",
       "        )\n",
       "      )\n",
       "      (5): ModuleList(\n",
       "        (0): DBlock(\n",
       "          (activation): ReLU()\n",
       "          (conv1): SNConv2d(256, 256, kernel_size=(3, 3), stride=(1, 1), padding=(1, 1))\n",
       "          (conv2): SNConv2d(256, 256, kernel_size=(3, 3), stride=(1, 1), padding=(1, 1))\n",
       "        )\n",
       "      )\n",
       "    )\n",
       "    (linear): SNLinear(in_features=256, out_features=1, bias=True)\n",
       "  )\n",
       "  (decoder_writerID): Sequential(\n",
       "    (0): Conv2d(256, 256, kernel_size=(3, 3), stride=(1, 1), padding=(1, 1))\n",
       "    (1): InstanceNorm2d(256, eps=1e-05, momentum=0.1, affine=False, track_running_stats=False)\n",
       "    (2): PReLU(num_parameters=1)\n",
       "    (3): MaxPool2d(kernel_size=2, stride=2, padding=0, dilation=1, ceil_mode=False)\n",
       "    (4): Conv2d(256, 512, kernel_size=(3, 3), stride=(1, 1), padding=(1, 1))\n",
       "    (5): InstanceNorm2d(512, eps=1e-05, momentum=0.1, affine=False, track_running_stats=False)\n",
       "    (6): PReLU(num_parameters=1)\n",
       "    (7): Conv2d(512, 512, kernel_size=(3, 3), stride=(1, 1), padding=(1, 1))\n",
       "    (8): InstanceNorm2d(512, eps=1e-05, momentum=0.1, affine=False, track_running_stats=False)\n",
       "    (9): PReLU(num_parameters=1)\n",
       "    (10): MaxPool2d(kernel_size=2, stride=2, padding=0, dilation=1, ceil_mode=False)\n",
       "    (11): Conv2d(512, 1000, kernel_size=(1, 1), stride=(1, 1))\n",
       "  )\n",
       "  (decoder_writerID_forradical): Sequential(\n",
       "    (0): Conv2d(256, 256, kernel_size=(3, 3), stride=(1, 1), padding=(1, 1))\n",
       "    (1): InstanceNorm2d(256, eps=1e-05, momentum=0.1, affine=False, track_running_stats=False)\n",
       "    (2): PReLU(num_parameters=1)\n",
       "    (3): MaxPool2d(kernel_size=2, stride=2, padding=0, dilation=1, ceil_mode=False)\n",
       "    (4): Conv2d(256, 512, kernel_size=(3, 3), stride=(1, 1), padding=(1, 1))\n",
       "    (5): InstanceNorm2d(512, eps=1e-05, momentum=0.1, affine=False, track_running_stats=False)\n",
       "    (6): PReLU(num_parameters=1)\n",
       "    (7): Conv2d(512, 512, kernel_size=(3, 3), stride=(1, 1), padding=(1, 1))\n",
       "    (8): InstanceNorm2d(512, eps=1e-05, momentum=0.1, affine=False, track_running_stats=False)\n",
       "    (9): PReLU(num_parameters=1)\n",
       "    (10): MaxPool2d(kernel_size=2, stride=2, padding=0, dilation=1, ceil_mode=False)\n",
       "    (11): Conv2d(512, 1000, kernel_size=(1, 1), stride=(1, 1))\n",
       "  )\n",
       ")"
      ]
     },
     "execution_count": 69,
     "metadata": {},
     "output_type": "execute_result"
    }
   ],
   "source": [
    "model.netD"
   ]
  },
  {
   "cell_type": "code",
   "execution_count": 62,
   "id": "5948b5a2-3c51-4ba9-808e-59d3587d4b91",
   "metadata": {
    "tags": []
   },
   "outputs": [],
   "source": [
    "bb = b(a[0][0])"
   ]
  },
  {
   "cell_type": "code",
   "execution_count": 63,
   "id": "1711a9b3-e520-400b-a3d2-3340f569ee99",
   "metadata": {
    "tags": []
   },
   "outputs": [
    {
     "data": {
      "text/plain": [
       "torch.Size([160, 64, 4, 4])"
      ]
     },
     "execution_count": 63,
     "metadata": {},
     "output_type": "execute_result"
    }
   ],
   "source": [
    "bb.shape"
   ]
  },
  {
   "cell_type": "code",
   "execution_count": null,
   "id": "43cfaf5d-963f-4ae3-a4c0-d879bc4388a8",
   "metadata": {},
   "outputs": [],
   "source": []
  },
  {
   "cell_type": "code",
   "execution_count": 55,
   "id": "4bce8ee1-ef74-4e94-860d-b7c6ebb87bd3",
   "metadata": {
    "tags": []
   },
   "outputs": [],
   "source": [
    "import torch.nn.functional as F"
   ]
  },
  {
   "cell_type": "code",
   "execution_count": 59,
   "id": "5a1259e9-f8f7-438c-a67f-7c500dd46ea2",
   "metadata": {
    "tags": []
   },
   "outputs": [
    {
     "data": {
      "text/plain": [
       "tensor([[[[ 0.7497,  1.3311,  1.0321, -0.4640],\n",
       "          [-0.7863, -1.9488,  0.1586, -0.4786],\n",
       "          [-0.9767,  0.5907,  1.4903, -0.4554],\n",
       "          [ 0.2860, -1.3105,  1.3587, -0.5769]],\n",
       "\n",
       "         [[-0.3722, -0.2003, -0.5431, -0.4814],\n",
       "          [ 0.2179,  0.3757,  1.6443,  0.9341],\n",
       "          [ 0.5098, -0.5005, -2.8917, -1.0317],\n",
       "          [ 0.2232,  0.8516,  0.7114,  0.5530]],\n",
       "\n",
       "         [[ 0.4913, -0.7170,  0.4188, -0.1276],\n",
       "          [ 0.7255, -2.7057,  0.6576, -0.0245],\n",
       "          [-1.4151,  0.1043,  0.8684,  1.1736],\n",
       "          [-0.3502, -0.4423,  1.5095, -0.1667]],\n",
       "\n",
       "         ...,\n",
       "\n",
       "         [[-0.2557, -0.1565, -0.6676,  0.5843],\n",
       "          [-1.9994, -1.0221,  1.3949,  1.5905],\n",
       "          [-1.2616,  0.0118,  1.0098,  0.4787],\n",
       "          [-0.6795,  0.9729,  0.8224, -0.8227]],\n",
       "\n",
       "         [[-0.7963, -1.0877, -1.1872, -0.4728],\n",
       "          [-0.0873,  0.7286,  0.4044,  0.1284],\n",
       "          [-0.9649,  1.5664,  1.5404, -0.5892],\n",
       "          [ 0.0261,  1.1031,  1.3362, -1.6483]],\n",
       "\n",
       "         [[ 0.0511, -0.1054, -1.6982,  0.3778],\n",
       "          [ 1.5092,  1.8554,  0.1022,  0.8199],\n",
       "          [-0.1512, -0.8841, -1.1373, -0.9462],\n",
       "          [ 1.5519, -0.0686, -1.0445, -0.2321]]],\n",
       "\n",
       "\n",
       "        [[[ 0.4402,  0.8160,  1.8078,  0.0584],\n",
       "          [-0.8711, -2.3873,  0.3990, -0.9716],\n",
       "          [-0.8221,  0.3824,  1.1095,  0.5469],\n",
       "          [-0.0228, -0.9738,  0.9088, -0.4202]],\n",
       "\n",
       "         [[-0.5948, -0.9269, -0.8138,  0.0967],\n",
       "          [ 1.2946,  1.5027,  0.4246, -0.2273],\n",
       "          [ 0.9344,  0.0726, -1.9256, -1.2714],\n",
       "          [-0.2061,  0.7989, -0.7408,  1.5822]],\n",
       "\n",
       "         [[ 0.4812, -1.0327,  0.1936,  0.2629],\n",
       "          [ 0.1849, -2.5085,  1.5287,  0.0689],\n",
       "          [-1.0072, -0.0583,  1.2688,  0.5700],\n",
       "          [-0.8312, -0.5761,  1.3947,  0.0604]],\n",
       "\n",
       "         ...,\n",
       "\n",
       "         [[-1.1687, -0.1628, -0.2180,  0.3877],\n",
       "          [-1.4748, -0.3519,  1.9314,  1.5654],\n",
       "          [-1.5852,  0.4673, -0.7055,  0.7471],\n",
       "          [-0.8226,  0.4315,  1.1189, -0.1598]],\n",
       "\n",
       "         [[-1.4116, -0.1864, -1.5722,  0.5789],\n",
       "          [-0.2678,  0.8247,  0.3073,  0.1572],\n",
       "          [ 1.3111,  1.1865,  0.8157, -0.5426],\n",
       "          [-0.6495, -0.0090,  1.4067, -1.9490]],\n",
       "\n",
       "         [[-0.7225, -0.9055, -0.6584,  1.1106],\n",
       "          [ 1.7943,  1.8824,  0.0820, -0.0334],\n",
       "          [ 0.0646, -1.4641,  0.4225, -1.7810],\n",
       "          [ 0.6820,  0.1830, -0.3025, -0.3541]]],\n",
       "\n",
       "\n",
       "        [[[ 0.2221,  1.1089,  1.5569, -0.4722],\n",
       "          [-1.0028, -1.5385,  0.3873, -0.4804],\n",
       "          [-1.6636,  0.6942,  1.4568, -0.8630],\n",
       "          [ 0.8115, -0.2575,  0.8777, -0.8374]],\n",
       "\n",
       "         [[ 0.3391, -1.1676,  0.8662, -1.1068],\n",
       "          [ 0.6411,  0.6796,  1.0826, -0.5041],\n",
       "          [ 0.0157, -1.5638, -1.9000, -0.5927],\n",
       "          [ 0.2529,  1.1536,  1.5380,  0.2662]],\n",
       "\n",
       "         [[ 0.4700, -1.5080,  1.2515, -0.2997],\n",
       "          [-0.4507, -0.7005,  0.5726,  0.0221],\n",
       "          [-1.0383, -1.3667,  1.9782,  0.3876],\n",
       "          [-1.1748,  0.6230,  1.4182, -0.1843]],\n",
       "\n",
       "         ...,\n",
       "\n",
       "         [[-0.9866,  0.1695, -0.5408,  0.1957],\n",
       "          [-1.9526,  0.5720,  0.9682,  1.3123],\n",
       "          [-1.8197,  0.2511,  0.8371,  0.4072],\n",
       "          [-0.7414,  0.8122,  1.3258, -0.8100]],\n",
       "\n",
       "         [[-1.0356,  0.1018, -1.9943,  0.9593],\n",
       "          [-0.7442,  0.4872,  1.6272, -0.7795],\n",
       "          [-0.0300,  1.3363, -0.2459, -1.0338],\n",
       "          [ 0.8206,  1.1612,  0.3300, -0.9603]],\n",
       "\n",
       "         [[-0.0186, -0.1555, -0.5330,  1.1318],\n",
       "          [ 1.5206,  1.3773, -0.0607,  0.6612],\n",
       "          [-0.0274, -1.9898, -0.3071, -1.6954],\n",
       "          [ 0.8722, -0.2281, -1.2390,  0.6916]]],\n",
       "\n",
       "\n",
       "        ...,\n",
       "\n",
       "\n",
       "        [[[ 0.0000,  0.0000,  0.0000,  0.0000],\n",
       "          [ 0.0000,  0.0000,  0.0000,  0.0000],\n",
       "          [ 0.0000,  0.0000,  0.0000,  0.0000],\n",
       "          [ 0.0000,  0.0000,  0.0000,  0.0000]],\n",
       "\n",
       "         [[ 0.0000,  0.0000,  0.0000,  0.0000],\n",
       "          [ 0.0000,  0.0000,  0.0000,  0.0000],\n",
       "          [ 0.0000,  0.0000,  0.0000,  0.0000],\n",
       "          [ 0.0000,  0.0000,  0.0000,  0.0000]],\n",
       "\n",
       "         [[ 0.0000,  0.0000,  0.0000,  0.0000],\n",
       "          [ 0.0000,  0.0000,  0.0000,  0.0000],\n",
       "          [ 0.0000,  0.0000,  0.0000,  0.0000],\n",
       "          [ 0.0000,  0.0000,  0.0000,  0.0000]],\n",
       "\n",
       "         ...,\n",
       "\n",
       "         [[ 0.0000,  0.0000,  0.0000,  0.0000],\n",
       "          [ 0.0000,  0.0000,  0.0000,  0.0000],\n",
       "          [ 0.0000,  0.0000,  0.0000,  0.0000],\n",
       "          [ 0.0000,  0.0000,  0.0000,  0.0000]],\n",
       "\n",
       "         [[ 0.0000,  0.0000,  0.0000,  0.0000],\n",
       "          [ 0.0000,  0.0000,  0.0000,  0.0000],\n",
       "          [ 0.0000,  0.0000,  0.0000,  0.0000],\n",
       "          [ 0.0000,  0.0000,  0.0000,  0.0000]],\n",
       "\n",
       "         [[ 0.0000,  0.0000,  0.0000,  0.0000],\n",
       "          [ 0.0000,  0.0000,  0.0000,  0.0000],\n",
       "          [ 0.0000,  0.0000,  0.0000,  0.0000],\n",
       "          [ 0.0000,  0.0000,  0.0000,  0.0000]]],\n",
       "\n",
       "\n",
       "        [[[ 0.0000,  0.0000,  0.0000,  0.0000],\n",
       "          [ 0.0000,  0.0000,  0.0000,  0.0000],\n",
       "          [ 0.0000,  0.0000,  0.0000,  0.0000],\n",
       "          [ 0.0000,  0.0000,  0.0000,  0.0000]],\n",
       "\n",
       "         [[ 0.0000,  0.0000,  0.0000,  0.0000],\n",
       "          [ 0.0000,  0.0000,  0.0000,  0.0000],\n",
       "          [ 0.0000,  0.0000,  0.0000,  0.0000],\n",
       "          [ 0.0000,  0.0000,  0.0000,  0.0000]],\n",
       "\n",
       "         [[ 0.0000,  0.0000,  0.0000,  0.0000],\n",
       "          [ 0.0000,  0.0000,  0.0000,  0.0000],\n",
       "          [ 0.0000,  0.0000,  0.0000,  0.0000],\n",
       "          [ 0.0000,  0.0000,  0.0000,  0.0000]],\n",
       "\n",
       "         ...,\n",
       "\n",
       "         [[ 0.0000,  0.0000,  0.0000,  0.0000],\n",
       "          [ 0.0000,  0.0000,  0.0000,  0.0000],\n",
       "          [ 0.0000,  0.0000,  0.0000,  0.0000],\n",
       "          [ 0.0000,  0.0000,  0.0000,  0.0000]],\n",
       "\n",
       "         [[ 0.0000,  0.0000,  0.0000,  0.0000],\n",
       "          [ 0.0000,  0.0000,  0.0000,  0.0000],\n",
       "          [ 0.0000,  0.0000,  0.0000,  0.0000],\n",
       "          [ 0.0000,  0.0000,  0.0000,  0.0000]],\n",
       "\n",
       "         [[ 0.0000,  0.0000,  0.0000,  0.0000],\n",
       "          [ 0.0000,  0.0000,  0.0000,  0.0000],\n",
       "          [ 0.0000,  0.0000,  0.0000,  0.0000],\n",
       "          [ 0.0000,  0.0000,  0.0000,  0.0000]]],\n",
       "\n",
       "\n",
       "        [[[ 0.0000,  0.0000,  0.0000,  0.0000],\n",
       "          [ 0.0000,  0.0000,  0.0000,  0.0000],\n",
       "          [ 0.0000,  0.0000,  0.0000,  0.0000],\n",
       "          [ 0.0000,  0.0000,  0.0000,  0.0000]],\n",
       "\n",
       "         [[ 0.0000,  0.0000,  0.0000,  0.0000],\n",
       "          [ 0.0000,  0.0000,  0.0000,  0.0000],\n",
       "          [ 0.0000,  0.0000,  0.0000,  0.0000],\n",
       "          [ 0.0000,  0.0000,  0.0000,  0.0000]],\n",
       "\n",
       "         [[ 0.0000,  0.0000,  0.0000,  0.0000],\n",
       "          [ 0.0000,  0.0000,  0.0000,  0.0000],\n",
       "          [ 0.0000,  0.0000,  0.0000,  0.0000],\n",
       "          [ 0.0000,  0.0000,  0.0000,  0.0000]],\n",
       "\n",
       "         ...,\n",
       "\n",
       "         [[ 0.0000,  0.0000,  0.0000,  0.0000],\n",
       "          [ 0.0000,  0.0000,  0.0000,  0.0000],\n",
       "          [ 0.0000,  0.0000,  0.0000,  0.0000],\n",
       "          [ 0.0000,  0.0000,  0.0000,  0.0000]],\n",
       "\n",
       "         [[ 0.0000,  0.0000,  0.0000,  0.0000],\n",
       "          [ 0.0000,  0.0000,  0.0000,  0.0000],\n",
       "          [ 0.0000,  0.0000,  0.0000,  0.0000],\n",
       "          [ 0.0000,  0.0000,  0.0000,  0.0000]],\n",
       "\n",
       "         [[ 0.0000,  0.0000,  0.0000,  0.0000],\n",
       "          [ 0.0000,  0.0000,  0.0000,  0.0000],\n",
       "          [ 0.0000,  0.0000,  0.0000,  0.0000],\n",
       "          [ 0.0000,  0.0000,  0.0000,  0.0000]]]], device='cuda:0',\n",
       "       grad_fn=<ViewBackward0>)"
      ]
     },
     "execution_count": 59,
     "metadata": {},
     "output_type": "execute_result"
    }
   ],
   "source": [
    "F.instance_norm(a[0][0])"
   ]
  },
  {
   "cell_type": "code",
   "execution_count": null,
   "id": "2fefc940-0033-42d8-b221-9d3340ce4216",
   "metadata": {},
   "outputs": [],
   "source": []
  }
 ],
 "metadata": {
  "environment": {
   "kernel": "conda-env-pytorch-pytorch",
   "name": "workbench-notebooks.m121",
   "type": "gcloud",
   "uri": "us-docker.pkg.dev/deeplearning-platform-release/gcr.io/workbench-notebooks:m121"
  },
  "kernelspec": {
   "display_name": "PyTorch 1-13 (Local)",
   "language": "python",
   "name": "conda-env-pytorch-pytorch"
  },
  "language_info": {
   "codemirror_mode": {
    "name": "ipython",
    "version": 3
   },
   "file_extension": ".py",
   "mimetype": "text/x-python",
   "name": "python",
   "nbconvert_exporter": "python",
   "pygments_lexer": "ipython3",
   "version": "3.10.14"
  }
 },
 "nbformat": 4,
 "nbformat_minor": 5
}
