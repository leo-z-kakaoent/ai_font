{
 "cells": [
  {
   "cell_type": "code",
   "execution_count": 17,
   "id": "29dcb234-2d71-43f4-9e3b-83d2a48b14fa",
   "metadata": {
    "tags": []
   },
   "outputs": [],
   "source": [
    "import os\n",
    "import zipfile\n",
    "\n",
    "def zip_folders(folder_path, zip_filename):\n",
    "    with zipfile.ZipFile(zip_filename, 'w', zipfile.ZIP_DEFLATED) as zipf:\n",
    "        for root, _, files in os.walk(folder_path):\n",
    "            for file in files:\n",
    "                file_path = os.path.join(root, file)\n",
    "                # Calculate the relative path to the file inside the zip\n",
    "                rel_path = os.path.relpath(file_path, os.path.dirname(folder_path))\n",
    "                zipf.write(file_path, rel_path)"
   ]
  },
  {
   "cell_type": "code",
   "execution_count": 18,
   "id": "72da4d64-6ac6-4151-9570-6c4b4974d2e3",
   "metadata": {
    "tags": []
   },
   "outputs": [],
   "source": [
    "# Example usage\n",
    "root = \"/home/jupyter/ai_font/data/reports/exp0514\"\n",
    "fd = \"cggan\"\n",
    "zip_folders(f\"{root}/{fd}\", f\"{fd}.zip\")"
   ]
  },
  {
   "cell_type": "code",
   "execution_count": 19,
   "id": "21ee1236-e173-4889-b054-9935aeb25a97",
   "metadata": {
    "tags": []
   },
   "outputs": [],
   "source": [
    "from google.cloud import storage\n",
    "\n",
    "def upload_to_bucket(bucket_name, source_file_name, destination_blob_name):\n",
    "    \"\"\"Uploads a file to a Google Cloud Storage bucket.\"\"\"\n",
    "    # Initialize a client\n",
    "    storage_client = storage.Client()\n",
    "    \n",
    "    # Get the bucket\n",
    "    bucket = storage_client.bucket(bucket_name)\n",
    "    \n",
    "    # Upload the file\n",
    "    blob = bucket.blob(destination_blob_name)\n",
    "    blob.upload_from_filename(source_file_name)\n",
    "    \n",
    "    print(f\"File {source_file_name} uploaded to {bucket_name} as {destination_blob_name}\")"
   ]
  },
  {
   "cell_type": "code",
   "execution_count": 20,
   "id": "79cacbf5-8d37-49ea-abad-298e54b4f449",
   "metadata": {
    "tags": []
   },
   "outputs": [
    {
     "name": "stdout",
     "output_type": "stream",
     "text": [
      "File cggan.zip uploaded to leo_font as zipfiles/cggan.zip\n"
     ]
    }
   ],
   "source": [
    "# Example usage\n",
    "bucket_name = \"leo_font\"\n",
    "destination_blob_name = f\"zipfiles/{fd}.zip\"\n",
    "\n",
    "upload_to_bucket(bucket_name, f\"{fd}.zip\", destination_blob_name)"
   ]
  },
  {
   "cell_type": "code",
   "execution_count": null,
   "id": "ae16f730-dca1-404e-91a1-fe1a6381a5d3",
   "metadata": {},
   "outputs": [],
   "source": []
  }
 ],
 "metadata": {
  "environment": {
   "kernel": "conda-base-py",
   "name": "workbench-notebooks.m121",
   "type": "gcloud",
   "uri": "us-docker.pkg.dev/deeplearning-platform-release/gcr.io/workbench-notebooks:m121"
  },
  "kernelspec": {
   "display_name": "Python 3 (ipykernel) (Local)",
   "language": "python",
   "name": "conda-base-py"
  },
  "language_info": {
   "codemirror_mode": {
    "name": "ipython",
    "version": 3
   },
   "file_extension": ".py",
   "mimetype": "text/x-python",
   "name": "python",
   "nbconvert_exporter": "python",
   "pygments_lexer": "ipython3",
   "version": "3.10.14"
  }
 },
 "nbformat": 4,
 "nbformat_minor": 5
}
