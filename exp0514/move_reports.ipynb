{
 "cells": [
  {
   "cell_type": "code",
   "execution_count": 28,
   "id": "81259796-296e-43a6-a299-24ce1ebafabf",
   "metadata": {
    "tags": []
   },
   "outputs": [],
   "source": [
    "def upload_many_blobs_with_transfer_manager(\n",
    "    bucket_name, filenames, source_directory=\"\", workers=8\n",
    "):\n",
    "    \"\"\"Upload every file in a list to a bucket, concurrently in a process pool.\n",
    "\n",
    "    Each blob name is derived from the filename, not including the\n",
    "    `source_directory` parameter. For complete control of the blob name for each\n",
    "    file (and other aspects of individual blob metadata), use\n",
    "    transfer_manager.upload_many() instead.\n",
    "    \"\"\"\n",
    "\n",
    "    # The ID of your GCS bucket\n",
    "    # bucket_name = \"your-bucket-name\"\n",
    "\n",
    "    # A list (or other iterable) of filenames to upload.\n",
    "    # filenames = [\"file_1.txt\", \"file_2.txt\"]\n",
    "\n",
    "    # The directory on your computer that is the root of all of the files in the\n",
    "    # list of filenames. This string is prepended (with os.path.join()) to each\n",
    "    # filename to get the full path to the file. Relative paths and absolute\n",
    "    # paths are both accepted. This string is not included in the name of the\n",
    "    # uploaded blob; it is only used to find the source files. An empty string\n",
    "    # means \"the current working directory\". Note that this parameter allows\n",
    "    # directory traversal (e.g. \"/\", \"../\") and is not intended for unsanitized\n",
    "    # end user input.\n",
    "    # source_directory=\"\"\n",
    "\n",
    "    # The maximum number of processes to use for the operation. The performance\n",
    "    # impact of this value depends on the use case, but smaller files usually\n",
    "    # benefit from a higher number of processes. Each additional process occupies\n",
    "    # some CPU and memory resources until finished. Threads can be used instead\n",
    "    # of processes by passing `worker_type=transfer_manager.THREAD`.\n",
    "    # workers=8\n",
    "\n",
    "    from google.cloud.storage import Client, transfer_manager\n",
    "\n",
    "    storage_client = Client()\n",
    "    bucket = storage_client.bucket(bucket_name)\n",
    "\n",
    "    results = transfer_manager.upload_many_from_filenames(\n",
    "        bucket, filenames, source_directory=source_directory, max_workers=workers\n",
    "    )\n",
    "\n",
    "    for name, result in zip(filenames, results):\n",
    "        # The results list is either `None` or an exception for each filename in\n",
    "        # the input list, in order.\n",
    "\n",
    "        if isinstance(result, Exception):\n",
    "            print(\"Failed to upload {} due to exception: {}\".format(name, result))\n",
    "        else:\n",
    "            print(\"Uploaded {} to {}.\".format(name, bucket.name),end=\"\\r\", flush=True)"
   ]
  },
  {
   "cell_type": "code",
   "execution_count": 29,
   "id": "11f56766-1cb3-478a-a757-c6400bc11ac6",
   "metadata": {
    "tags": []
   },
   "outputs": [
    {
     "name": "stdout",
     "output_type": "stream",
     "text": [
      "Listing files using os.walk:\n"
     ]
    }
   ],
   "source": [
    "import os\n",
    "from pathlib import Path\n",
    "\n",
    "def list_files(startpath):\n",
    "    files_list = []\n",
    "    for root, dirs, files in os.walk(startpath):\n",
    "        for file in files:\n",
    "            files_list.append(os.path.join(root.split(\"/\")[-1], file))\n",
    "    return files_list\n",
    "\n",
    "# Example usage:\n",
    "folder_path = '/home/jupyter/ai_font/data/reports/exp0514'\n",
    "print(\"Listing files using os.walk:\")\n",
    "paths = list_files(folder_path)\n"
   ]
  },
  {
   "cell_type": "code",
   "execution_count": null,
   "id": "4298e0e1-f16a-4060-b3ca-e244b8f80ebf",
   "metadata": {
    "tags": []
   },
   "outputs": [],
   "source": [
    "upload_many_blobs_with_transfer_manager(\"leo_font_report\", paths, source_directory=folder_path)"
   ]
  },
  {
   "cell_type": "code",
   "execution_count": null,
   "id": "d554a272-4d8a-4717-b0f7-6a41d458add3",
   "metadata": {},
   "outputs": [],
   "source": []
  }
 ],
 "metadata": {
  "environment": {
   "kernel": "conda-base-py",
   "name": "workbench-notebooks.m121",
   "type": "gcloud",
   "uri": "us-docker.pkg.dev/deeplearning-platform-release/gcr.io/workbench-notebooks:m121"
  },
  "kernelspec": {
   "display_name": "Python 3 (ipykernel) (Local)",
   "language": "python",
   "name": "conda-base-py"
  },
  "language_info": {
   "codemirror_mode": {
    "name": "ipython",
    "version": 3
   },
   "file_extension": ".py",
   "mimetype": "text/x-python",
   "name": "python",
   "nbconvert_exporter": "python",
   "pygments_lexer": "ipython3",
   "version": "3.10.14"
  }
 },
 "nbformat": 4,
 "nbformat_minor": 5
}
