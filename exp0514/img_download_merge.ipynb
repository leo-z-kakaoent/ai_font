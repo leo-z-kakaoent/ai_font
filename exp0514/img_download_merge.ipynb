{
 "cells": [
  {
   "cell_type": "code",
   "execution_count": 2,
   "id": "9caf0047-deab-406e-9595-64e42a43fa7c",
   "metadata": {
    "tags": []
   },
   "outputs": [],
   "source": [
    "import os\n",
    "from google.cloud import storage"
   ]
  },
  {
   "cell_type": "code",
   "execution_count": 3,
   "id": "2f061ad2-6547-45d0-b2f7-0c9e78431bfa",
   "metadata": {
    "tags": []
   },
   "outputs": [],
   "source": [
    "storage_client = storage.Client()\n",
    "bucket = storage_client.bucket(\"leo_font\")"
   ]
  },
  {
   "cell_type": "code",
   "execution_count": 5,
   "id": "c311017c-02a9-47ca-95f3-6e99a8f7cbb6",
   "metadata": {
    "tags": []
   },
   "outputs": [],
   "source": [
    "fn = \"f01.zip\"\n",
    "blob = bucket.blob(f\"zipfiles/{fn}\")\n",
    "blob.download_to_filename(fn)"
   ]
  },
  {
   "cell_type": "code",
   "execution_count": 6,
   "id": "082ab24b-7cb1-4ce2-9101-0829e946025c",
   "metadata": {
    "tags": []
   },
   "outputs": [],
   "source": [
    "fn = \"f02.zip\"\n",
    "blob = bucket.blob(f\"zipfiles/{fn}\")\n",
    "blob.download_to_filename(fn)"
   ]
  },
  {
   "cell_type": "code",
   "execution_count": 7,
   "id": "04872564-8324-41d3-a5cd-7ae0825e9f15",
   "metadata": {
    "tags": []
   },
   "outputs": [],
   "source": [
    "fn = \"f03.zip\"\n",
    "blob = bucket.blob(f\"zipfiles/{fn}\")\n",
    "blob.download_to_filename(fn)"
   ]
  },
  {
   "cell_type": "code",
   "execution_count": 8,
   "id": "f6cee16b-5e4d-462b-b69f-8f9958d440f0",
   "metadata": {
    "tags": []
   },
   "outputs": [],
   "source": [
    "import zipfile\n",
    "fd = \"/home/jupyter/ai_font/data/reports_merge\"\n",
    "filename = \"f01.zip\"\n",
    "zipfile.ZipFile(f\"{filename}\").extractall(f\"{fd}/\")"
   ]
  },
  {
   "cell_type": "code",
   "execution_count": 9,
   "id": "878012f0-9202-4fe4-9cf7-5df72855a567",
   "metadata": {
    "tags": []
   },
   "outputs": [],
   "source": [
    "import zipfile\n",
    "fd = \"/home/jupyter/ai_font/data/reports_merge\"\n",
    "filename = \"f02.zip\"\n",
    "zipfile.ZipFile(f\"{filename}\").extractall(f\"{fd}/\")"
   ]
  },
  {
   "cell_type": "code",
   "execution_count": 10,
   "id": "f4060200-7056-4d99-b5f2-847397a54b2e",
   "metadata": {
    "tags": []
   },
   "outputs": [],
   "source": [
    "import zipfile\n",
    "fd = \"/home/jupyter/ai_font/data/reports_merge\"\n",
    "filename = \"f03.zip\"\n",
    "zipfile.ZipFile(f\"{filename}\").extractall(f\"{fd}/\")"
   ]
  },
  {
   "cell_type": "code",
   "execution_count": 39,
   "id": "a4ffe4e8-0bc8-4860-a0b0-07bd4f38f9c0",
   "metadata": {
    "tags": []
   },
   "outputs": [],
   "source": [
    "import shutil"
   ]
  },
  {
   "cell_type": "code",
   "execution_count": 40,
   "id": "7f3e3c48-2106-4ddf-86e5-ed34d390b4e2",
   "metadata": {
    "tags": []
   },
   "outputs": [
    {
     "name": "stdout",
     "output_type": "stream",
     "text": [
      "550598\n"
     ]
    }
   ],
   "source": [
    "fd = \"/home/jupyter/ai_font/data/reports_merge\"\n",
    "savefd = \"/home/jupyter/ai_font/data/reports_merge/merged\"\n",
    "for f in os.walk(fd):\n",
    "    for k in f[2]:\n",
    "        if k.endswith(\".png\"):\n",
    "            shutil.copy(f\"{f[0]}/{k}\",f\"{savefd}/{k}\")\n",
    "print(len(os.listdir(savefd)))"
   ]
  },
  {
   "cell_type": "code",
   "execution_count": 41,
   "id": "3c8082d3-0213-47ef-a66d-97d973a17dbf",
   "metadata": {
    "tags": []
   },
   "outputs": [
    {
     "name": "stdout",
     "output_type": "stream",
     "text": [
      "715010\n"
     ]
    }
   ],
   "source": [
    "fd = \"/home/jupyter/ai_font/data/reports\"\n",
    "savefd = \"/home/jupyter/ai_font/data/reports_merge/merged\"\n",
    "for f in os.walk(fd):\n",
    "    for k in f[2]:\n",
    "        if k.endswith(\".png\"):\n",
    "            shutil.copy(f\"{f[0]}/{k}\",f\"{savefd}/{k}\")\n",
    "print(len(os.listdir(savefd)))"
   ]
  },
  {
   "cell_type": "code",
   "execution_count": null,
   "id": "b57011ed-c818-404c-92e5-f565b03250ba",
   "metadata": {},
   "outputs": [],
   "source": []
  }
 ],
 "metadata": {
  "environment": {
   "kernel": "conda-base-py",
   "name": "workbench-notebooks.m120",
   "type": "gcloud",
   "uri": "us-docker.pkg.dev/deeplearning-platform-release/gcr.io/workbench-notebooks:m120"
  },
  "kernelspec": {
   "display_name": "Python 3 (ipykernel) (Local)",
   "language": "python",
   "name": "conda-base-py"
  },
  "language_info": {
   "codemirror_mode": {
    "name": "ipython",
    "version": 3
   },
   "file_extension": ".py",
   "mimetype": "text/x-python",
   "name": "python",
   "nbconvert_exporter": "python",
   "pygments_lexer": "ipython3",
   "version": "3.10.14"
  }
 },
 "nbformat": 4,
 "nbformat_minor": 5
}
