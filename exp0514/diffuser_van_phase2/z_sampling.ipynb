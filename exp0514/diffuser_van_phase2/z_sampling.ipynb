{
 "cells": [
  {
   "cell_type": "code",
   "execution_count": 1,
   "id": "2595ab4d-c2b9-4040-9705-4c38573ab8ce",
   "metadata": {
    "tags": []
   },
   "outputs": [
    {
     "name": "stdout",
     "output_type": "stream",
     "text": [
      "pygame 2.5.2 (SDL 2.28.2, Python 3.10.14)\n",
      "Hello from the pygame community. https://www.pygame.org/contribute.html\n"
     ]
    }
   ],
   "source": [
    "import math\n",
    "import os\n",
    "from tqdm.auto import tqdm\n",
    "\n",
    "import torch\n",
    "import torch.nn.functional as F\n",
    "from torchvision import transforms\n",
    "from torch.utils.data import DataLoader\n",
    "\n",
    "from diffusers.optimization import get_scheduler\n",
    "from google.cloud import storage\n",
    "\n",
    "from y_sample_dataset import SamplingDataset\n",
    "\n",
    "from model import FontDiffuserModel, FontDiffuserModelDPM, FontDiffuserDPMPipeline\n",
    "from build import build_unet, build_style_encoder, build_content_encoder, build_ddpm_scheduler\n",
    "from args import SampleArgs\n",
    "from utils import x0_from_epsilon, reNormalize_img, normalize_mean_std, save_model, load_model"
   ]
  },
  {
   "cell_type": "code",
   "execution_count": 2,
   "id": "863491f1-717e-444c-8d39-d4035c1f6e00",
   "metadata": {
    "tags": []
   },
   "outputs": [
    {
     "name": "stdout",
     "output_type": "stream",
     "text": [
      "Load the down block  DownBlock2D\n",
      "Load the down block  MCADownBlock2D\n",
      "The style_attention cross attention dim in Down Block 1 layer is 1024\n",
      "The style_attention cross attention dim in Down Block 2 layer is 1024\n",
      "Load the down block  MCADownBlock2D\n",
      "The style_attention cross attention dim in Down Block 1 layer is 1024\n",
      "The style_attention cross attention dim in Down Block 2 layer is 1024\n",
      "Load the down block  DownBlock2D\n",
      "Load the up block  UpBlock2D\n",
      "Load the up block  StyleRSIUpBlock2D\n",
      "Load the up block  StyleRSIUpBlock2D\n",
      "Load the up block  UpBlock2D\n",
      "Param count for Ds initialized parameters: 20591296\n",
      "Get CG-GAN Style Encoder!\n",
      "Param count for Ds initialized parameters: 1187008\n",
      "Get CG-GAN Content Encoder!\n"
     ]
    }
   ],
   "source": [
    "args = SampleArgs()\n",
    "os.makedirs(args.savefd, exist_ok=True)\n",
    "unet = build_unet(args=args)\n",
    "style_encoder = build_style_encoder(args=args)\n",
    "content_encoder = build_content_encoder(args=args)\n",
    "noise_scheduler = build_ddpm_scheduler(args)\n",
    "storage_client = storage.Client(args.bucket_name)\n",
    "bucket = storage_client.bucket(args.bucket_name)"
   ]
  },
  {
   "cell_type": "code",
   "execution_count": 3,
   "id": "2f8b9720-45c5-4986-9229-295107a36e07",
   "metadata": {
    "tags": []
   },
   "outputs": [
    {
     "data": {
      "text/plain": [
       "<All keys matched successfully>"
      ]
     },
     "execution_count": 3,
     "metadata": {},
     "output_type": "execute_result"
    }
   ],
   "source": [
    "content_encoder.load_state_dict(load_model(bucket, args.content_encoder_path))\n",
    "style_encoder.load_state_dict(load_model(bucket, args.style_encoder_path))\n",
    "unet.load_state_dict(load_model(bucket, args.unet_path))"
   ]
  },
  {
   "cell_type": "code",
   "execution_count": 4,
   "id": "dcdef530-ed30-4927-aa0c-b6a03d85ee01",
   "metadata": {
    "tags": []
   },
   "outputs": [],
   "source": [
    "dataset = SamplingDataset(args)\n",
    "loader = DataLoader(dataset, batch_size=args.batchsize, shuffle=False, drop_last=False)"
   ]
  },
  {
   "cell_type": "code",
   "execution_count": 5,
   "id": "540723b0-f656-443f-9f5a-a27646c5cd30",
   "metadata": {
    "tags": []
   },
   "outputs": [],
   "source": [
    "model = FontDiffuserModelDPM(\n",
    "    unet=unet,\n",
    "    style_encoder=style_encoder,\n",
    "    content_encoder=content_encoder)"
   ]
  },
  {
   "cell_type": "code",
   "execution_count": 6,
   "id": "1be52bde-f0d2-480e-875e-e3af929e03ba",
   "metadata": {
    "tags": []
   },
   "outputs": [],
   "source": [
    "model = model.cuda()"
   ]
  },
  {
   "cell_type": "code",
   "execution_count": 7,
   "id": "3cd129e6-946a-4c55-bd4c-4b53a90c74c4",
   "metadata": {
    "tags": []
   },
   "outputs": [],
   "source": [
    "train_scheduler = build_ddpm_scheduler(args=args)"
   ]
  },
  {
   "cell_type": "code",
   "execution_count": 8,
   "id": "aebf60fa-e722-42a6-89ae-5bcdc3a7b2d1",
   "metadata": {
    "tags": []
   },
   "outputs": [],
   "source": [
    "pipe = FontDiffuserDPMPipeline(\n",
    "        model=model,\n",
    "        ddpm_train_scheduler=train_scheduler,\n",
    "        model_type=args.model_type,\n",
    "        guidance_type=args.guidance_type,\n",
    "        guidance_scale=args.guidance_scale,\n",
    "    )"
   ]
  },
  {
   "cell_type": "code",
   "execution_count": null,
   "id": "69595127-4bfc-4a2b-ab5a-8abf30a8e9b8",
   "metadata": {
    "tags": []
   },
   "outputs": [
    {
     "data": {
      "application/vnd.jupyter.widget-view+json": {
       "model_id": "fd055e4c378f46e3a43e0a7672433f64",
       "version_major": 2,
       "version_minor": 0
      },
      "text/plain": [
       "  0%|          | 0/1862 [00:00<?, ?it/s]"
      ]
     },
     "metadata": {},
     "output_type": "display_data"
    },
    {
     "name": "stderr",
     "output_type": "stream",
     "text": [
      "/home/jupyter/ai_font/exp0514/diffuser_van_phase2/model.py:88: FutureWarning: Accessing config attribute `style_encoder` directly via 'FontDiffuserModelDPM' object attribute is deprecated. Please access 'style_encoder' over 'FontDiffuserModelDPM's config object instead, e.g. 'unet.config.style_encoder'.\n",
      "  style_img_feature, _, style_residual_features = self.style_encoder(style_images)\n",
      "/home/jupyter/ai_font/exp0514/diffuser_van_phase2/model.py:94: FutureWarning: Accessing config attribute `content_encoder` directly via 'FontDiffuserModelDPM' object attribute is deprecated. Please access 'content_encoder' over 'FontDiffuserModelDPM's config object instead, e.g. 'unet.config.content_encoder'.\n",
      "  content_img_feture, content_residual_features = self.content_encoder(content_images)\n",
      "/home/jupyter/ai_font/exp0514/diffuser_van_phase2/model.py:97: FutureWarning: Accessing config attribute `content_encoder` directly via 'FontDiffuserModelDPM' object attribute is deprecated. Please access 'content_encoder' over 'FontDiffuserModelDPM's config object instead, e.g. 'unet.config.content_encoder'.\n",
      "  style_content_feature, style_content_res_features = self.content_encoder(style_images)\n",
      "/home/jupyter/ai_font/exp0514/diffuser_van_phase2/model.py:102: FutureWarning: Accessing config attribute `unet` directly via 'FontDiffuserModelDPM' object attribute is deprecated. Please access 'unet' over 'FontDiffuserModelDPM's config object instead, e.g. 'unet.config.unet'.\n",
      "  out = self.unet(\n"
     ]
    }
   ],
   "source": [
    "# model.eval() \n",
    "results = []\n",
    "pbar = tqdm(loader)\n",
    "for data in pbar:\n",
    "    content_image = data['content_img'].cuda()\n",
    "    style_image = data['style_img'].cuda()\n",
    "    fonts = data['font']\n",
    "    contents = data['content']\n",
    "    \n",
    "    images = pipe.generate(\n",
    "        content_images=content_image,\n",
    "        style_images=style_image,\n",
    "        batch_size=args.batchsize,\n",
    "        order=args.order,\n",
    "        num_inference_step=args.num_inference_steps,\n",
    "        content_encoder_downsample_size=args.content_encoder_downsample_size,\n",
    "        t_start=args.t_start,\n",
    "        t_end=args.t_end,\n",
    "        dm_size=args.content_image_size,\n",
    "        algorithm_type=args.algorithm_type,\n",
    "        skip_type=args.skip_type,\n",
    "        method=args.method,\n",
    "        correcting_x0_fn=args.correcting_x0_fn)\n",
    "    for i in range(len(images)):\n",
    "        path = f\"{args.savefd}/{args.tag}__{fonts[i]}__{contents[i]}.png\"\n",
    "        images[i].save(path)\n",
    "        pbar.set_postfix(path=path)"
   ]
  },
  {
   "cell_type": "code",
   "execution_count": null,
   "id": "5eb454f8-6b43-458c-9086-cdef2d30fe23",
   "metadata": {},
   "outputs": [],
   "source": []
  }
 ],
 "metadata": {
  "environment": {
   "kernel": "conda-env-pytorch-pytorch",
   "name": "workbench-notebooks.m120",
   "type": "gcloud",
   "uri": "us-docker.pkg.dev/deeplearning-platform-release/gcr.io/workbench-notebooks:m120"
  },
  "kernelspec": {
   "display_name": "PyTorch 1-13 (Local)",
   "language": "python",
   "name": "conda-env-pytorch-pytorch"
  },
  "language_info": {
   "codemirror_mode": {
    "name": "ipython",
    "version": 3
   },
   "file_extension": ".py",
   "mimetype": "text/x-python",
   "name": "python",
   "nbconvert_exporter": "python",
   "pygments_lexer": "ipython3",
   "version": "3.10.14"
  }
 },
 "nbformat": 4,
 "nbformat_minor": 5
}
