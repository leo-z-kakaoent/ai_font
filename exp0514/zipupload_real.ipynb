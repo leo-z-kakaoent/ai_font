{
 "cells": [
  {
   "cell_type": "code",
   "execution_count": 1,
   "id": "64b26d03-d5a2-4ee0-b185-c0aad3f58682",
   "metadata": {
    "tags": []
   },
   "outputs": [],
   "source": [
    "import os\n",
    "import zipfile\n",
    "\n",
    "def zip_folders(folder_path, zip_filename):\n",
    "    with zipfile.ZipFile(zip_filename, 'w', zipfile.ZIP_DEFLATED) as zipf:\n",
    "        for root, _, files in os.walk(folder_path):\n",
    "            for file in files:\n",
    "                file_path = os.path.join(root, file)\n",
    "                # Calculate the relative path to the file inside the zip\n",
    "                rel_path = os.path.relpath(file_path, os.path.dirname(folder_path))\n",
    "                zipf.write(file_path, rel_path)"
   ]
  },
  {
   "cell_type": "code",
   "execution_count": 2,
   "id": "ac39b344-9124-4e89-8948-004085de8f19",
   "metadata": {
    "tags": []
   },
   "outputs": [],
   "source": [
    "savefd = \"/home/jupyter/ai_font/data/reports_merge/real\""
   ]
  },
  {
   "cell_type": "code",
   "execution_count": 3,
   "id": "ad7bc822-dfdf-4d5b-916d-caa45e79742d",
   "metadata": {
    "tags": []
   },
   "outputs": [],
   "source": [
    "from google.cloud import storage\n",
    "\n",
    "def upload_to_bucket(bucket_name, source_file_name, destination_blob_name):\n",
    "    \"\"\"Uploads a file to a Google Cloud Storage bucket.\"\"\"\n",
    "    # Initialize a client\n",
    "    storage_client = storage.Client()\n",
    "    \n",
    "    # Get the bucket\n",
    "    bucket = storage_client.bucket(bucket_name)\n",
    "    \n",
    "    # Upload the file\n",
    "    blob = bucket.blob(destination_blob_name)\n",
    "    blob.upload_from_filename(source_file_name)\n",
    "    \n",
    "    print(f\"File {source_file_name} uploaded to {bucket_name} as {destination_blob_name}\")"
   ]
  },
  {
   "cell_type": "code",
   "execution_count": 4,
   "id": "5bd074c8-45e0-4594-aa67-3d58ea63a11a",
   "metadata": {
    "tags": []
   },
   "outputs": [
    {
     "name": "stdout",
     "output_type": "stream",
     "text": [
      "File report_real.zip uploaded to leo_font as zipfiles/report_real.zip\n"
     ]
    }
   ],
   "source": [
    "# Example usage\n",
    "fn = \"report_real\"\n",
    "\n",
    "zip_folders(f\"{savefd}\", f\"{fn}.zip\")\n",
    "bucket_name = \"leo_font\"\n",
    "destination_blob_name = f\"zipfiles/{fn}.zip\"\n",
    "\n",
    "upload_to_bucket(bucket_name, f\"{fn}.zip\", destination_blob_name)"
   ]
  },
  {
   "cell_type": "code",
   "execution_count": null,
   "id": "c8eaac97-cc45-46c5-b361-4dcd1350ff14",
   "metadata": {},
   "outputs": [],
   "source": []
  }
 ],
 "metadata": {
  "environment": {
   "kernel": "conda-base-py",
   "name": "workbench-notebooks.m120",
   "type": "gcloud",
   "uri": "us-docker.pkg.dev/deeplearning-platform-release/gcr.io/workbench-notebooks:m120"
  },
  "kernelspec": {
   "display_name": "Python 3 (ipykernel) (Local)",
   "language": "python",
   "name": "conda-base-py"
  },
  "language_info": {
   "codemirror_mode": {
    "name": "ipython",
    "version": 3
   },
   "file_extension": ".py",
   "mimetype": "text/x-python",
   "name": "python",
   "nbconvert_exporter": "python",
   "pygments_lexer": "ipython3",
   "version": "3.10.14"
  }
 },
 "nbformat": 4,
 "nbformat_minor": 5
}
